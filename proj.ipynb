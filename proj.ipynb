{
 "cells": [
  {
   "cell_type": "markdown",
   "metadata": {},
   "source": [
    "# Advanced Lane Finding Project"
   ]
  },
  {
   "cell_type": "markdown",
   "metadata": {},
   "source": [
    "The goals / steps of this project are the following:\n",
    "\n",
    "- Compute the camera calibration matrix and distortion coefficients given a set of chessboard images.\n",
    "- Apply a distortion correction to raw images.\n",
    "- Use color transforms, gradients, etc., to create a thresholded binary image.\n",
    "- Apply a perspective transform to rectify binary image (\"birds-eye view\").\n",
    "- Detect lane pixels and fit to find the lane boundary.\n",
    "- Determine the curvature of the lane and vehicle position with respect to center.\n",
    "- Warp the detected lane boundaries back onto the original image.\n",
    "- Output visual display of the lane boundaries and numerical estimation of lane curvature and vehicle position."
   ]
  },
  {
   "cell_type": "markdown",
   "metadata": {},
   "source": [
    "## Line class "
   ]
  },
  {
   "cell_type": "code",
   "execution_count": 128,
   "metadata": {},
   "outputs": [],
   "source": [
    "class Line():\n",
    "    def __init__(self):\n",
    "        # was the line detected in the last iteration?\n",
    "        self.detected = False  \n",
    "        # x values of the last n fits of the line\n",
    "        self.recent_xfitted = [] \n",
    "        #average x values of the fitted line over the last n iterations\n",
    "        self.bestx = None     \n",
    "        #polynomial coefficients averaged over the last n iterations\n",
    "        self.best_fit = None  \n",
    "        #polynomial coefficients for the most recent fit\n",
    "        self.current_fit = [np.array([False])]  \n",
    "        #radius of curvature of the line in some units\n",
    "        self.radius_of_curvature = None \n",
    "        #distance in meters of vehicle center from the line\n",
    "        self.line_base_pos = None \n",
    "        #difference in fit coefficients between last and new fits\n",
    "        self.diffs = np.array([0,0,0], dtype='float') \n",
    "        #x values for detected line pixels\n",
    "        self.allx = None  \n",
    "        #y values for detected line pixels\n",
    "        self.ally = None  "
   ]
  },
  {
   "cell_type": "markdown",
   "metadata": {},
   "source": [
    "## Finding corners"
   ]
  },
  {
   "cell_type": "code",
   "execution_count": 217,
   "metadata": {},
   "outputs": [],
   "source": [
    "import numpy as np\n",
    "import cv2\n",
    "import glob\n",
    "import matplotlib.pyplot as plt\n",
    "%matplotlib qt\n",
    "from moviepy.editor import VideoFileClip\n",
    "from IPython.display import HTML\n",
    "\n",
    "# Define conversions in x and y from pixels space to meters\n",
    "ym_per_pix = 30/720 # meters per pixel in y dimension\n",
    "xm_per_pix = 3.7/700 # meters per pixel in x dimension\n",
    "\n",
    "# prepare object points, like (0,0,0), (1,0,0), (2,0,0) ....,(6,5,0)\n",
    "objp = np.zeros((6*9,3), np.float32)\n",
    "objp[:,:2] = np.mgrid[0:9,0:6].T.reshape(-1,2)\n",
    "\n",
    "leftLine = Line()\n",
    "rightLine = Line()\n",
    "\n",
    "# Arrays to store object points and image points from all the images.\n",
    "objpoints = [] # 3d points in real world space\n",
    "imgpoints = [] # 2d points in image plane.\n",
    "\n",
    "# Make a list of calibration images\n",
    "images = glob.glob('camera_cal/calibration*.jpg')\n",
    "# Step through the list and search for chessboard corners\n",
    "for fname in images:\n",
    "    img = cv2.imread(fname)\n",
    "    gray = cv2.cvtColor(img,cv2.COLOR_BGR2GRAY)\n",
    "\n",
    "    # Find the chessboard corners\n",
    "    ret, corners = cv2.findChessboardCorners(gray, (9,6),None)\n",
    "\n",
    "    # If found, add object points, image points\n",
    "    if ret == True:\n",
    "        objpoints.append(objp)\n",
    "        imgpoints.append(corners)\n",
    "        # Draw and display the corners\n",
    "        img = cv2.drawChessboardCorners(img, (9,6), corners, ret)\n",
    "        cv2.imshow('img',img)\n",
    "        cv2.waitKey(500)\n",
    "\n",
    "cv2.destroyAllWindows()"
   ]
  },
  {
   "cell_type": "markdown",
   "metadata": {},
   "source": [
    "## Calibrating camera"
   ]
  },
  {
   "cell_type": "code",
   "execution_count": 130,
   "metadata": {},
   "outputs": [],
   "source": [
    "# TODO: Write a function that takes an image, object points, and image points\n",
    "# performs the camera calibration, image distortion correction and \n",
    "# returns the undistorted image\n",
    "def cal_undistort(img, objpoints, imgpoints):\n",
    "    gray = cv2.cvtColor(img,cv2.COLOR_BGR2GRAY)\n",
    "    ret, mtx, dist, rvecs, tvecs = cv2.calibrateCamera(objpoints, imgpoints, gray.shape[::-1], None, None)\n",
    "    dst = cv2.undistort(img, mtx, dist, None, mtx)\n",
    "    return dst\n",
    "\n",
    "# f, (ax1, ax2) = plt.subplots(1, 2, figsize=(24, 9))\n",
    "# f.tight_layout()\n",
    "# ax1.imshow(imgDistort)\n",
    "# ax1.set_title('Original Image', fontsize=50)\n",
    "# ax2.imshow(imgUndistort)\n",
    "# ax2.set_title('Undistorted Image', fontsize=50)\n",
    "# plt.subplots_adjust(left=0., right=1, top=0.9, bottom=0.)"
   ]
  },
  {
   "cell_type": "markdown",
   "metadata": {},
   "source": [
    "## Transform perspective"
   ]
  },
  {
   "cell_type": "code",
   "execution_count": 131,
   "metadata": {},
   "outputs": [],
   "source": [
    "def corners_unwarp(img, nx, ny):\n",
    "    src = np.float32([[585, 450], [685, 450], [200, 700], [1100, 700]])\n",
    "    dst = np.float32([[200, 0], [1100, 0], [200, 700], [1100, 700]])\n",
    "    M = cv2.getPerspectiveTransform(src, dst)\n",
    "    img_size = (img.shape[1], img.shape[0])\n",
    "    warped = cv2.warpPerspective(img, M, img_size, flags=cv2.INTER_LINEAR)\n",
    "    return warped, M\n",
    "\n",
    "def toNormalView(color_warp, imgUndistort):\n",
    "    src = np.float32([[585, 450], [685, 450], [200, 700], [1100, 700]])\n",
    "    dst = np.float32([[200, 0], [1100, 0], [200, 700], [1100, 700]])\n",
    "    M = cv2.getPerspectiveTransform(dst, src)\n",
    "    img_size = (imgUndistort.shape[1], imgUndistort.shape[0])\n",
    "    warped = cv2.warpPerspective(color_warp, M, img_size, flags=cv2.INTER_LINEAR)\n",
    "    return warped"
   ]
  },
  {
   "cell_type": "markdown",
   "metadata": {},
   "source": [
    "## Color transform"
   ]
  },
  {
   "cell_type": "code",
   "execution_count": 132,
   "metadata": {},
   "outputs": [],
   "source": [
    "def binaryImg(img):\n",
    "    # Convert to HLS color space and separate the S channel\n",
    "    # Note: img is the undistorted image\n",
    "    hls = cv2.cvtColor(img, cv2.COLOR_RGB2HLS)\n",
    "    s_channel = hls[:,:,2]\n",
    "\n",
    "    # Grayscale image\n",
    "    # NOTE: we already saw that standard grayscaling lost color information for the lane lines\n",
    "    # Explore gradients in other colors spaces / color channels to see what might work better\n",
    "    gray = cv2.cvtColor(img, cv2.COLOR_RGB2GRAY)\n",
    "\n",
    "    # Sobel x\n",
    "    sobelx = cv2.Sobel(gray, cv2.CV_64F, 1, 0) # Take the derivative in x\n",
    "    abs_sobelx = np.absolute(sobelx) # Absolute x derivative to accentuate lines away from horizontal\n",
    "    scaled_sobel = np.uint8(255*abs_sobelx/np.max(abs_sobelx))\n",
    "\n",
    "    # Threshold x gradient\n",
    "    thresh_min = 20\n",
    "    thresh_max = 100\n",
    "    sxbinary = np.zeros_like(scaled_sobel)\n",
    "    sxbinary[(scaled_sobel >= thresh_min) & (scaled_sobel <= thresh_max)] = 1\n",
    "\n",
    "    # Threshold color channel\n",
    "    s_thresh_min = 170\n",
    "    s_thresh_max = 255\n",
    "    s_binary = np.zeros_like(s_channel)\n",
    "    s_binary[(s_channel >= s_thresh_min) & (s_channel <= s_thresh_max)] = 1\n",
    "\n",
    "    # Stack each channel to view their individual contributions in green and blue respectively\n",
    "    # This returns a stack of the two binary images, whose components you can see as different colors\n",
    "    color_binary = np.dstack(( np.zeros_like(sxbinary), sxbinary, s_binary)) * 255\n",
    "\n",
    "    # Combine the two binary thresholds\n",
    "    combined_binary = np.zeros_like(sxbinary)\n",
    "    combined_binary[(s_binary == 1) | (sxbinary == 1)] = 1\n",
    "\n",
    "    # Plotting thresholded images\n",
    "#     f, (ax1, ax2) = plt.subplots(1, 2, figsize=(20,10))\n",
    "#     ax1.set_title('Stacked thresholds')\n",
    "#     ax1.imshow(color_binary)\n",
    "\n",
    "#     ax2.set_title('Combined S channel and gradient thresholds')\n",
    "#     ax2.imshow(combined_binary, cmap='gray')\n",
    "    return combined_binary"
   ]
  },
  {
   "cell_type": "markdown",
   "metadata": {},
   "source": [
    "## Finding lane pixels"
   ]
  },
  {
   "cell_type": "code",
   "execution_count": 133,
   "metadata": {},
   "outputs": [],
   "source": [
    "def find_lane_pixels(binary_warped):\n",
    "    # Take a histogram of the bottom half of the image\n",
    "    histogram = np.sum(binary_warped[binary_warped.shape[0]//2:,:], axis=0)\n",
    "    # Create an output image to draw on and visualize the result\n",
    "    out_img = np.dstack((binary_warped, binary_warped, binary_warped))\n",
    "    # Find the peak of the left and right halves of the histogram\n",
    "    # These will be the starting point for the left and right lines\n",
    "    midpoint = np.int(histogram.shape[0]//2)\n",
    "    leftx_base = np.argmax(histogram[:midpoint])\n",
    "    rightx_base = np.argmax(histogram[midpoint:]) + midpoint\n",
    "\n",
    "    # HYPERPARAMETERS\n",
    "    # Choose the number of sliding windows\n",
    "    nwindows = 9\n",
    "    # Set the width of the windows +/- margin\n",
    "    margin = 100\n",
    "    # Set minimum number of pixels found to recenter window\n",
    "    minpix = 50\n",
    "\n",
    "    # Set height of windows - based on nwindows above and image shape\n",
    "    window_height = np.int(binary_warped.shape[0]//nwindows)\n",
    "    # Identify the x and y positions of all nonzero pixels in the image\n",
    "    nonzero = binary_warped.nonzero()\n",
    "    nonzeroy = np.array(nonzero[0])\n",
    "    nonzerox = np.array(nonzero[1])\n",
    "    # Current positions to be updated later for each window in nwindows\n",
    "    leftx_current = leftx_base\n",
    "    rightx_current = rightx_base\n",
    "\n",
    "    # Create empty lists to receive left and right lane pixel indices\n",
    "    left_lane_inds = []\n",
    "    right_lane_inds = []\n",
    "\n",
    "    # Step through the windows one by one\n",
    "    for window in range(nwindows):\n",
    "        # Identify window boundaries in x and y (and right and left)\n",
    "        win_y_low = binary_warped.shape[0] - (window+1)*window_height\n",
    "        win_y_high = binary_warped.shape[0] - window*window_height\n",
    "        win_xleft_low = leftx_current - margin\n",
    "        win_xleft_high = leftx_current + margin\n",
    "        win_xright_low = rightx_current - margin\n",
    "        win_xright_high = rightx_current + margin\n",
    "        \n",
    "        # Draw the windows on the visualization image\n",
    "        cv2.rectangle(out_img,(win_xleft_low,win_y_low),\n",
    "        (win_xleft_high,win_y_high),(0,255,0), 2) \n",
    "        cv2.rectangle(out_img,(win_xright_low,win_y_low),\n",
    "        (win_xright_high,win_y_high),(0,255,0), 2) \n",
    "        \n",
    "        # Identify the nonzero pixels in x and y within the window #\n",
    "        good_left_inds = ((nonzeroy >= win_y_low) & (nonzeroy < win_y_high) & \n",
    "        (nonzerox >= win_xleft_low) &  (nonzerox < win_xleft_high)).nonzero()[0]\n",
    "        good_right_inds = ((nonzeroy >= win_y_low) & (nonzeroy < win_y_high) & \n",
    "        (nonzerox >= win_xright_low) &  (nonzerox < win_xright_high)).nonzero()[0]\n",
    "        \n",
    "        # Append these indices to the lists\n",
    "        left_lane_inds.append(good_left_inds)\n",
    "        right_lane_inds.append(good_right_inds)\n",
    "        \n",
    "        # If you found > minpix pixels, recenter next window on their mean position\n",
    "        if len(good_left_inds) > minpix:\n",
    "            leftx_current = np.int(np.mean(nonzerox[good_left_inds]))\n",
    "        if len(good_right_inds) > minpix:        \n",
    "            rightx_current = np.int(np.mean(nonzerox[good_right_inds]))\n",
    "\n",
    "    # Concatenate the arrays of indices (previously was a list of lists of pixels)\n",
    "    try:\n",
    "        left_lane_inds = np.concatenate(left_lane_inds)\n",
    "        right_lane_inds = np.concatenate(right_lane_inds)\n",
    "    except ValueError:\n",
    "        # Avoids an error if the above is not implemented fully\n",
    "        pass\n",
    "\n",
    "    # Extract left and right line pixel positions\n",
    "    leftx = nonzerox[left_lane_inds]\n",
    "    lefty = nonzeroy[left_lane_inds] \n",
    "    rightx = nonzerox[right_lane_inds]\n",
    "    righty = nonzeroy[right_lane_inds]\n",
    "\n",
    "    return leftx, lefty, rightx, righty, out_img"
   ]
  },
  {
   "cell_type": "markdown",
   "metadata": {},
   "source": [
    "## Fitting polynomial"
   ]
  },
  {
   "cell_type": "code",
   "execution_count": 143,
   "metadata": {},
   "outputs": [],
   "source": [
    "def fit_polynomial(binary_warped):\n",
    "    # Find our lane pixels first\n",
    "    leftx, lefty, rightx, righty, out_img = find_lane_pixels(binary_warped)\n",
    "\n",
    "    # Fit a second order polynomial to each using `np.polyfit`\n",
    "    left_fit = np.polyfit(lefty, leftx, 2)\n",
    "    right_fit = np.polyfit(righty, rightx, 2)\n",
    "\n",
    "    # Generate x and y values for plotting\n",
    "    ploty = np.linspace(0, binary_warped.shape[0]-1, binary_warped.shape[0] )\n",
    "    try:\n",
    "        left_fitx = left_fit[0]*ploty**2 + left_fit[1]*ploty + left_fit[2]\n",
    "        right_fitx = right_fit[0]*ploty**2 + right_fit[1]*ploty + right_fit[2]\n",
    "    except TypeError:\n",
    "        # Avoids an error if `left` and `right_fit` are still none or incorrect\n",
    "        print('The function failed to fit a line!')\n",
    "        left_fitx = 1*ploty**2 + 1*ploty\n",
    "        right_fitx = 1*ploty**2 + 1*ploty\n",
    "\n",
    "    ## Visualization ##\n",
    "    # Colors in the left and right lane regions\n",
    "    out_img[lefty, leftx] = [255, 0, 0]\n",
    "    out_img[righty, rightx] = [0, 0, 255]\n",
    "\n",
    "    # Plots the left and right polynomials on the lane lines\n",
    "    plt.plot(left_fitx, ploty, color='yellow')\n",
    "    plt.plot(right_fitx, ploty, color='yellow')\n",
    "\n",
    "    return left_fit, right_fit, left_fitx, right_fitx, ploty, out_img"
   ]
  },
  {
   "cell_type": "markdown",
   "metadata": {},
   "source": [
    "## Fitting poly"
   ]
  },
  {
   "cell_type": "code",
   "execution_count": 135,
   "metadata": {},
   "outputs": [],
   "source": [
    "def fit_poly(img_shape, leftx, lefty, rightx, righty):\n",
    "     ### TO-DO: Fit a second order polynomial to each with np.polyfit() ###\n",
    "    left_fit = np.polyfit(lefty, leftx, 2)\n",
    "    right_fit = np.polyfit(righty, rightx, 2)\n",
    "    # Generate x and y values for plotting\n",
    "    ploty = np.linspace(0, img_shape[0]-1, img_shape[0])\n",
    "    ### TO-DO: Calc both polynomials using ploty, left_fit and right_fit ###\n",
    "    left_fitx = left_fit[0]*ploty**2 + left_fit[1]*ploty + left_fit[2]\n",
    "    right_fitx = right_fit[0]*ploty**2 + right_fit[1]*ploty + right_fit[2]\n",
    "    \n",
    "    return left_fitx, right_fitx, ploty"
   ]
  },
  {
   "cell_type": "markdown",
   "metadata": {},
   "source": [
    "## Searching around poly"
   ]
  },
  {
   "cell_type": "code",
   "execution_count": 193,
   "metadata": {},
   "outputs": [],
   "source": [
    "def search_around_poly(left_fit, right_fit, binary_warped):\n",
    "    # HYPERPARAMETER\n",
    "    # Choose the width of the margin around the previous polynomial to search\n",
    "    # The quiz grader expects 100 here, but feel free to tune on your own!\n",
    "    margin = 100\n",
    "\n",
    "    # Grab activated pixels\n",
    "    nonzero = binary_warped.nonzero()\n",
    "    nonzeroy = np.array(nonzero[0])\n",
    "    nonzerox = np.array(nonzero[1])\n",
    "    print(nonzero)\n",
    "    print(nonzeroy)\n",
    "    print(nonzerox)\n",
    "    ### TO-DO: Set the area of search based on activated x-values ###\n",
    "    ### within the +/- margin of our polynomial function ###\n",
    "    ### Hint: consider the window areas for the similarly named variables ###\n",
    "    ### in the previous quiz, but change the windows to our new search area ###\n",
    "    left_lane_inds = ((nonzerox > (left_fit[0]*(nonzeroy**2) + left_fit[1]*nonzeroy + \n",
    "                    left_fit[2] - margin)) & (nonzerox < (left_fit[0]*(nonzeroy**2) + \n",
    "                    left_fit[1]*nonzeroy + left_fit[2] + margin)))\n",
    "    right_lane_inds = ((nonzerox > (right_fit[0]*(nonzeroy**2) + right_fit[1]*nonzeroy + \n",
    "                    right_fit[2] - margin)) & (nonzerox < (right_fit[0]*(nonzeroy**2) + \n",
    "                    right_fit[1]*nonzeroy + right_fit[2] + margin)))\n",
    "    \n",
    "    # Again, extract left and right line pixel positions\n",
    "    leftx = nonzerox[left_lane_inds]\n",
    "    lefty = nonzeroy[left_lane_inds] \n",
    "    rightx = nonzerox[right_lane_inds]\n",
    "    righty = nonzeroy[right_lane_inds]\n",
    "\n",
    "    # Fit new polynomials\n",
    "    left_fitx, right_fitx, ploty = fit_poly(binary_warped.shape, leftx, lefty, rightx, righty)\n",
    "    \n",
    "    ## Visualization ##\n",
    "    # Create an image to draw on and an image to show the selection window\n",
    "    out_img = np.dstack((binary_warped, binary_warped, binary_warped))*255\n",
    "    window_img = np.zeros_like(out_img)\n",
    "    # Color in left and right line pixels\n",
    "    print(left_lane_inds)\n",
    "    print(left_lane_inds)\n",
    "    out_img[nonzeroy[left_lane_inds], nonzerox[left_lane_inds]] = [255, 0, 0]\n",
    "    out_img[nonzeroy[right_lane_inds], nonzerox[right_lane_inds]] = [0, 0, 255]\n",
    "\n",
    "    # Generate a polygon to illustrate the search window area\n",
    "    # And recast the x and y points into usable format for cv2.fillPoly()\n",
    "    left_line_window1 = np.array([np.transpose(np.vstack([left_fitx-margin, ploty]))])\n",
    "    left_line_window2 = np.array([np.flipud(np.transpose(np.vstack([left_fitx+margin, \n",
    "                              ploty])))])\n",
    "    left_line_pts = np.hstack((left_line_window1, left_line_window2))\n",
    "    right_line_window1 = np.array([np.transpose(np.vstack([right_fitx-margin, ploty]))])\n",
    "    right_line_window2 = np.array([np.flipud(np.transpose(np.vstack([right_fitx+margin, \n",
    "                              ploty])))])\n",
    "    right_line_pts = np.hstack((right_line_window1, right_line_window2))\n",
    "\n",
    "    # Draw the lane onto the warped blank image\n",
    "    cv2.fillPoly(window_img, np.int_([left_line_pts]), (0,255, 0))\n",
    "    cv2.fillPoly(window_img, np.int_([right_line_pts]), (0,255, 0))\n",
    "    result = cv2.addWeighted(out_img, 1, window_img, 0.3, 0)\n",
    "    \n",
    "    # Plot the polynomial lines onto the image\n",
    "    plt.plot(left_fitx, ploty, color='yellow')\n",
    "    plt.plot(right_fitx, ploty, color='yellow')\n",
    "    ## End visualization steps ##\n",
    "    \n",
    "    return result"
   ]
  },
  {
   "cell_type": "markdown",
   "metadata": {},
   "source": [
    "## Measuring curvature pixels"
   ]
  },
  {
   "cell_type": "code",
   "execution_count": 194,
   "metadata": {},
   "outputs": [],
   "source": [
    "def measure_curvature_pixels(left_fit, right_fit, ploty):\n",
    "    '''\n",
    "    Calculates the curvature of polynomial functions in pixels.\n",
    "    '''  \n",
    "    # Define y-value where we want radius of curvature\n",
    "    # We'll choose the maximum y-value, corresponding to the bottom of the image\n",
    "    y_eval = np.max(ploty)\n",
    "    \n",
    "    # Calculation of R_curve (radius of curvature)\n",
    "    left_curverad = ((1 + (2*left_fit[0]*y_eval + left_fit[1])**2)**1.5) / np.absolute(2*left_fit[0])\n",
    "    right_curverad = ((1 + (2*right_fit[0]*y_eval + right_fit[1])**2)**1.5) / np.absolute(2*right_fit[0])\n",
    "    \n",
    "    return left_curverad, right_curverad"
   ]
  },
  {
   "cell_type": "markdown",
   "metadata": {},
   "source": [
    "## Measuring real curvature"
   ]
  },
  {
   "cell_type": "code",
   "execution_count": 195,
   "metadata": {},
   "outputs": [],
   "source": [
    "def measure_curvature_real(left_fit, right_fit, ploty):\n",
    "    '''\n",
    "    Calculates the curvature of polynomial functions in meters.\n",
    "    '''    \n",
    "    left_fit_cr = left_fit\n",
    "    right_fit_cr = right_fit\n",
    "    \n",
    "    # Define y-value where we want radius of curvature\n",
    "    # We'll choose the maximum y-value, corresponding to the bottom of the image\n",
    "    y_eval = np.max(ploty)\n",
    "    \n",
    "    # Calculation of R_curve (radius of curvature)\n",
    "    left_curverad = ((1 + (2*left_fit_cr[0]*y_eval*ym_per_pix + left_fit_cr[1])**2)**1.5) / np.absolute(2*left_fit_cr[0])\n",
    "    right_curverad = ((1 + (2*right_fit_cr[0]*y_eval*ym_per_pix + right_fit_cr[1])**2)**1.5) / np.absolute(2*right_fit_cr[0])\n",
    "    \n",
    "    return left_curverad, right_curverad"
   ]
  },
  {
   "cell_type": "markdown",
   "metadata": {},
   "source": []
  },
  {
   "cell_type": "code",
   "execution_count": 211,
   "metadata": {},
   "outputs": [],
   "source": [
    "def caliAndWarp(image):    \n",
    "    #image = cv2.cvtColor(image, cv2.COLOR_RGB2BGR)\n",
    "    imgUndistort = cal_undistort(image, objpoints, imgpoints)\n",
    "    imgBinary = binaryImg(imgUndistort)\n",
    "    warpedImg, m = corners_unwarp(imgBinary, 9, 6)\n",
    "    left_fit, right_fit, left_fitx, right_fitx, ploty, out_img = fit_polynomial(warpedImg)\n",
    "    return left_fit, right_fit, left_fitx, right_fitx, ploty, out_img, warpedImg, m"
   ]
  },
  {
   "cell_type": "code",
   "execution_count": 212,
   "metadata": {},
   "outputs": [],
   "source": [
    "def process_image(image):\n",
    "    left_fit, right_fit, left_fitx, right_fitx, ploty, out_img, warpedImg, m = caliAndWarp(image)\n",
    "    #print(left_fit)\n",
    "    #print(right_fit)\n",
    "    #result = search_around_poly(left_fit, right_fit, warpedImg)\n",
    "    #plt.imshow(result)\n",
    "\n",
    "    # Calculate the radius of curvature in pixels for both lane lines\n",
    "    left_curveradPx, right_curveradPx = measure_curvature_pixels(left_fit, right_fit, ploty)\n",
    "    print(left_curveradPx, right_curveradPx)\n",
    "\n",
    "    # Calculate the radius of curvature in meters for both lane lines\n",
    "    left_curverad, right_curverad = measure_curvature_real(left_fit, right_fit, ploty)\n",
    "    print(left_curverad, 'm', right_curverad, 'm')\n",
    "    \n",
    "    # Calculate offset of the car\n",
    "    camera_center = (left_fitx[-1] + right_fitx[-1]) / 2\n",
    "    center_diff = (camera_center - warpedImg.shape[1]/2) * xm_per_pix\n",
    "    side_pos = 'left'\n",
    "    if center_diff <= 0:\n",
    "        side_pod = 'right'\n",
    "    \n",
    "    # Create an image to draw the lines on\n",
    "    warp_zero = np.zeros_like(warpedImg).astype(np.uint8)\n",
    "    color_warp = np.dstack((warp_zero, warp_zero, warp_zero))\n",
    "\n",
    "    # Recast the x and y points into usable format for cv2.fillPoly()\n",
    "    pts_left = np.array([np.transpose(np.vstack([left_fitx, ploty]))])\n",
    "    pts_right = np.array([np.flipud(np.transpose(np.vstack([right_fitx, ploty])))])\n",
    "    pts = np.hstack((pts_left, pts_right))\n",
    "    print(pts)\n",
    "    # Draw the lane onto the warped blank image\n",
    "    cv2.fillPoly(color_warp, np.int_([pts]), (0,255, 0))\n",
    "\n",
    "    # Warp the blank back to original image space using inverse perspective matrix (Minv)\n",
    "    newWarp = toNormalView(color_warp, imgUndistort)\n",
    "    result = cv2.addWeighted(imgUndistort, 1, newWarp, 0.3, 0) \n",
    "    return result"
   ]
  },
  {
   "cell_type": "markdown",
   "metadata": {},
   "source": [
    "## Pipeline"
   ]
  },
  {
   "cell_type": "code",
   "execution_count": 214,
   "metadata": {},
   "outputs": [
    {
     "name": "stdout",
     "output_type": "stream",
     "text": [
      "sad\n",
      "925.6440716998588 1835.9532781638904\n",
      "1714.4259293533255 m 2500.3971987214913 m\n",
      "[[[5.29165472e+02 0.00000000e+00]\n",
      "  [5.28419686e+02 1.00000000e+00]\n",
      "  [5.27674981e+02 2.00000000e+00]\n",
      "  ...\n",
      "  [1.35061854e+03 2.00000000e+00]\n",
      "  [1.35112826e+03 1.00000000e+00]\n",
      "  [1.35163852e+03 0.00000000e+00]]]\n",
      "sad\n",
      "951.5885027469249 770.9760456081476\n",
      "1557.5758124410124 m 1425.0942617190415 m\n",
      "[[[109.348601     0.        ]\n",
      "  [110.01474664   1.        ]\n",
      "  [110.67982549   2.        ]\n",
      "  ...\n",
      "  [906.53447519   2.        ]\n",
      "  [905.74503026   1.        ]\n",
      "  [904.95421399   0.        ]]]\n",
      "sad\n",
      "1609.0221368060477 1978.4337986649043\n",
      "2790.829665092086 m 2854.3124655938186 m\n",
      "[[[6.25662101e+02 0.00000000e+00]\n",
      "  [6.24904179e+02 1.00000000e+00]\n",
      "  [6.24146945e+02 2.00000000e+00]\n",
      "  ...\n",
      "  [1.38694169e+03 2.00000000e+00]\n",
      "  [1.38753147e+03 1.00000000e+00]\n",
      "  [1.38812178e+03 0.00000000e+00]]]\n",
      "sad\n",
      "1897.1063425987986 1871.976748345768\n",
      "2368.4998453061644 m 2546.4204555662513 m\n",
      "[[[4.57499853e+02 0.00000000e+00]\n",
      "  [4.57082950e+02 1.00000000e+00]\n",
      "  [4.56666574e+02 2.00000000e+00]\n",
      "  ...\n",
      "  [1.36368088e+03 2.00000000e+00]\n",
      "  [1.36419149e+03 1.00000000e+00]\n",
      "  [1.36470265e+03 0.00000000e+00]]]\n",
      "sad\n",
      "870.2441360972718 1532.8698976027708\n",
      "1705.6733920358831 m 2254.786075562383 m\n",
      "[[[4.78937113e+02 0.00000000e+00]\n",
      "  [4.78149117e+02 1.00000000e+00]\n",
      "  [4.77362274e+02 2.00000000e+00]\n",
      "  ...\n",
      "  [1.34807311e+03 2.00000000e+00]\n",
      "  [1.34864470e+03 1.00000000e+00]\n",
      "  [1.34921695e+03 0.00000000e+00]]]\n",
      "sad\n",
      "2533.149298623253 1380.3750184849946\n",
      "3693.396404557378 m 812.454010304708 m\n",
      "[[[6.33270742e+02 0.00000000e+00]\n",
      "  [6.32599395e+02 1.00000000e+00]\n",
      "  [6.31928512e+02 2.00000000e+00]\n",
      "  ...\n",
      "  [1.24210906e+03 2.00000000e+00]\n",
      "  [1.24186491e+03 1.00000000e+00]\n",
      "  [1.24161945e+03 0.00000000e+00]]]\n"
     ]
    }
   ],
   "source": [
    "# imgDistort1 = cv2.imread('test_images/straight_lines1.jpg')\n",
    "# imgDistort1 = cv2.cvtColor(imgDistort1, cv2.COLOR_RGB2BGR)\n",
    "# imgUndistort1 = cal_undistort(imgDistort1, objpoints, imgpoints)\n",
    "# imgBinary1 = binaryImg(imgUndistort1)\n",
    "# warpedImg1, m = corners_unwarp(imgBinary1, 9, 6)\n",
    "# left_fit, right_fit, left_fitx, right_fitx, ploty, out_img = fit_polynomial(warpedImg1)\n",
    "\n",
    "# result = process_image(imgDistort1)\n",
    "# plt.imshow(result)\n",
    "# cv2.destroyAllWindows()\n",
    "images = glob.glob('test_images/test*.jpg')\n",
    "for fname in images:\n",
    "    image = cv2.imread(fname)\n",
    "    result = process_image(image)\n",
    "    result = cv2.cvtColor(result, cv2.COLOR_RGB2BGR)\n",
    "    cv2.imshow('img', result)\n",
    "    cv2.waitKey(500)\n",
    "#cv2.destroyAllWindows()"
   ]
  },
  {
   "cell_type": "code",
   "execution_count": null,
   "metadata": {},
   "outputs": [],
   "source": [
    "images = glob.glob('test_images/test*.jpg')\n",
    "# Step through the list and search for chessboard corners\n",
    "for fname in images:\n",
    "    imgDistort = cv2.imread(fname)\n",
    "    imgDistort = cv2.cvtColor(imgDistort, cv2.COLOR_RGB2BGR)\n",
    "    imgUndistort = cal_undistort(imgDistort, objpoints, imgpoints)\n",
    "    weimgBinary = binaryImg(imgUndistort)\n",
    "    warpedImg, m = corners_unwarp(imgBinary, 9, 6)\n",
    "    left_fit, right_fit, left_fitx, right_fitx, ploty, out_img = fit_polynomial(warpedImg)\n",
    "    #plt.imshow(out_img)\n",
    "    cv2.imshow('img',out_img)\n",
    "    cv2.waitKey(500)"
   ]
  },
  {
   "cell_type": "code",
   "execution_count": 220,
   "metadata": {},
   "outputs": [
    {
     "name": "stderr",
     "output_type": "stream",
     "text": [
      "                                                                                                                       \n",
      "t:  56%|█████████████████████████████████████                             | 707/1260 [26:06<11:39,  1.27s/it, now=None]\n",
      "                                                                                                                       \u001b[A\n",
      "t:  56%|█████████████████████████████████████                             | 707/1260 [26:06<11:39,  1.27s/it, now=None]\n",
      "t:  41%|██████████████████████████▊                                       | 440/1085 [09:48<14:05,  1.31s/it, now=None]\u001b[A\n",
      "\n",
      "t:   0%|                                                                            | 0/1085 [00:00<?, ?it/s, now=None]\u001b[A\u001b[A"
     ]
    },
    {
     "name": "stdout",
     "output_type": "stream",
     "text": [
      "803.2945341218417 623.4674718673102\n",
      "1547.502801045861 m 1957.3317198753282 m\n",
      "[[[ 30.22139385   0.        ]\n",
      "  [ 31.01448327   1.        ]\n",
      "  [ 31.80630033   2.        ]\n",
      "  ...\n",
      "  [732.45103611   2.        ]\n",
      "  [731.33436909   1.        ]\n",
      "  [730.21609493   0.        ]]]\n",
      "Moviepy - Building video output2_tracked.mp4.\n",
      "Moviepy - Writing video output2_tracked.mp4\n",
      "\n"
     ]
    },
    {
     "name": "stderr",
     "output_type": "stream",
     "text": [
      "\n",
      "\n",
      "t:   0%|▏                                                                   | 2/1085 [00:01<11:05,  1.63it/s, now=None]\u001b[A\u001b[A"
     ]
    },
    {
     "name": "stdout",
     "output_type": "stream",
     "text": [
      "803.2945341218417 623.4674718673102\n",
      "1547.502801045861 m 1957.3317198753282 m\n",
      "[[[ 30.22139385   0.        ]\n",
      "  [ 31.01448327   1.        ]\n",
      "  [ 31.80630033   2.        ]\n",
      "  ...\n",
      "  [732.45103611   2.        ]\n",
      "  [731.33436909   1.        ]\n",
      "  [730.21609493   0.        ]]]\n"
     ]
    },
    {
     "name": "stderr",
     "output_type": "stream",
     "text": [
      "\n",
      "\n",
      "t:   0%|▏                                                                   | 3/1085 [00:02<14:29,  1.24it/s, now=None]\u001b[A\u001b[A"
     ]
    },
    {
     "name": "stdout",
     "output_type": "stream",
     "text": [
      "851.6807088040738 673.5375502507435\n",
      "1581.3626559875765 m 1880.7202362115163 m\n",
      "[[[ 31.36605155   0.        ]\n",
      "  [ 32.12539835   1.        ]\n",
      "  [ 32.88355475   2.        ]\n",
      "  ...\n",
      "  [764.67956598   2.        ]\n",
      "  [763.64478559   1.        ]\n",
      "  [762.60851819   0.        ]]]\n"
     ]
    },
    {
     "name": "stderr",
     "output_type": "stream",
     "text": [
      "\n",
      "\n",
      "t:   0%|▎                                                                   | 4/1085 [00:03<17:05,  1.05it/s, now=None]\u001b[A\u001b[A"
     ]
    },
    {
     "name": "stdout",
     "output_type": "stream",
     "text": [
      "831.1529826343248 645.1147307682407\n",
      "1566.2711961313491 m 1852.0254032199875 m\n",
      "[[[ 28.19419337   0.        ]\n",
      "  [ 28.96705319   1.        ]\n",
      "  [ 29.73868942   2.        ]\n",
      "  ...\n",
      "  [766.6765192    2.        ]\n",
      "  [765.61860128   1.        ]\n",
      "  [764.55912476   0.        ]]]\n"
     ]
    },
    {
     "name": "stderr",
     "output_type": "stream",
     "text": [
      "\n",
      "\n",
      "t:   0%|▎                                                                   | 5/1085 [00:04<18:37,  1.03s/it, now=None]\u001b[A\u001b[A"
     ]
    },
    {
     "name": "stdout",
     "output_type": "stream",
     "text": [
      "831.6356336516881 702.1420274184359\n",
      "1561.2569861298173 m 1871.783132325319 m\n",
      "[[[ 29.65729669   0.        ]\n",
      "  [ 30.42801967   1.        ]\n",
      "  [ 31.19751887   2.        ]\n",
      "  ...\n",
      "  [779.85557091   2.        ]\n",
      "  [778.85405424   1.        ]\n",
      "  [777.85111241   0.        ]]]\n"
     ]
    },
    {
     "name": "stderr",
     "output_type": "stream",
     "text": [
      "\n",
      "\n",
      "t:   1%|▍                                                                   | 6/1085 [00:06<19:33,  1.09s/it, now=None]\u001b[A\u001b[A"
     ]
    },
    {
     "name": "stdout",
     "output_type": "stream",
     "text": [
      "891.7946287363238 683.6700724871616\n",
      "1599.9769138795286 m 1828.3589315541972 m\n",
      "[[[ 36.45731141   0.        ]\n",
      "  [ 37.18830753   1.        ]\n",
      "  [ 37.91817071   2.        ]\n",
      "  ...\n",
      "  [789.8354906    2.        ]\n",
      "  [788.82894361   1.        ]\n",
      "  [787.82092921   0.        ]]]\n"
     ]
    },
    {
     "name": "stderr",
     "output_type": "stream",
     "text": [
      "\n",
      "\n",
      "t:   1%|▍                                                                   | 7/1085 [00:07<20:26,  1.14s/it, now=None]\u001b[A\u001b[A"
     ]
    },
    {
     "name": "stdout",
     "output_type": "stream",
     "text": [
      "810.7022372978746 728.9711136935701\n",
      "1534.6430462518438 m 1969.3212684355565 m\n",
      "[[[ 31.4571292    0.        ]\n",
      "  [ 32.23889105   1.        ]\n",
      "  [ 33.01939013   2.        ]\n",
      "  ...\n",
      "  [771.35339386   2.        ]\n",
      "  [770.34436083   1.        ]\n",
      "  [769.33395482   0.        ]]]\n"
     ]
    },
    {
     "name": "stderr",
     "output_type": "stream",
     "text": [
      "\n",
      "\n",
      "t:   1%|▌                                                                   | 8/1085 [00:08<20:54,  1.17s/it, now=None]\u001b[A\u001b[A"
     ]
    },
    {
     "name": "stdout",
     "output_type": "stream",
     "text": [
      "803.6788861212364 815.986778623875\n",
      "1516.2439745934018 m 1971.8736157776975 m\n",
      "[[[ 31.29020261   0.        ]\n",
      "  [ 32.07298108   1.        ]\n",
      "  [ 32.85448047   2.        ]\n",
      "  ...\n",
      "  [796.71259338   2.        ]\n",
      "  [795.78022574   1.        ]\n",
      "  [794.84662803   0.        ]]]\n"
     ]
    },
    {
     "name": "stderr",
     "output_type": "stream",
     "text": [
      "\n",
      "\n",
      "t:   1%|▌                                                                   | 9/1085 [00:09<21:17,  1.19s/it, now=None]\u001b[A\u001b[A"
     ]
    },
    {
     "name": "stdout",
     "output_type": "stream",
     "text": [
      "770.3665899529437 943.0735573618425\n",
      "1481.2438216911853 m 2168.3113643172346 m\n",
      "[[[ 32.07852529   0.        ]\n",
      "  [ 32.8850542    1.        ]\n",
      "  [ 33.69023228   2.        ]\n",
      "  ...\n",
      "  [787.8420675    2.        ]\n",
      "  [786.93303871   1.        ]\n",
      "  [786.02292293   0.        ]]]\n"
     ]
    },
    {
     "name": "stderr",
     "output_type": "stream",
     "text": [
      "\n",
      "\n",
      "t:   1%|▌                                                                  | 10/1085 [00:11<21:19,  1.19s/it, now=None]\u001b[A\u001b[A"
     ]
    },
    {
     "name": "stdout",
     "output_type": "stream",
     "text": [
      "736.0381660439377 914.313243160504\n",
      "1453.2810583894118 m 2305.936700855551 m\n",
      "[[[ 30.67059701   0.        ]\n",
      "  [ 31.5084845    1.        ]\n",
      "  [ 32.34493612   2.        ]\n",
      "  ...\n",
      "  [754.28576722   2.        ]\n",
      "  [753.30269943   1.        ]\n",
      "  [752.31849253   0.        ]]]\n"
     ]
    },
    {
     "name": "stderr",
     "output_type": "stream",
     "text": [
      "\n",
      "\n",
      "t:   1%|▋                                                                  | 11/1085 [00:12<21:26,  1.20s/it, now=None]\u001b[A\u001b[A"
     ]
    },
    {
     "name": "stdout",
     "output_type": "stream",
     "text": [
      "725.584929184732 972.4683631252789\n",
      "1438.2376955052102 m 2390.5797719453085 m\n",
      "[[[ 32.88389928   0.        ]\n",
      "  [ 33.7310669    1.        ]\n",
      "  [ 34.57676588   2.        ]\n",
      "  ...\n",
      "  [746.67660478   2.        ]\n",
      "  [745.70209161   1.        ]\n",
      "  [744.72649125   0.        ]]]\n"
     ]
    },
    {
     "name": "stderr",
     "output_type": "stream",
     "text": [
      "\n",
      "\n",
      "t:   1%|▋                                                                  | 12/1085 [00:13<21:41,  1.21s/it, now=None]\u001b[A\u001b[A"
     ]
    },
    {
     "name": "stdout",
     "output_type": "stream",
     "text": [
      "673.8576967784315 720.7034014610321\n",
      "1417.3720280498155 m 2319.783327185349 m\n",
      "[[[ 27.46427886   0.        ]\n",
      "  [ 28.38036486   1.        ]\n",
      "  [ 29.29481312   2.        ]\n",
      "  ...\n",
      "  [692.63671878   2.        ]\n",
      "  [691.49484851   1.        ]\n",
      "  [690.35155886   0.        ]]]\n"
     ]
    },
    {
     "name": "stderr",
     "output_type": "stream",
     "text": [
      "\n",
      "\n",
      "t:   1%|▊                                                                  | 13/1085 [00:14<21:51,  1.22s/it, now=None]\u001b[A\u001b[A"
     ]
    },
    {
     "name": "stdout",
     "output_type": "stream",
     "text": [
      "679.3233286499385 866.4106234250902\n",
      "1421.0129598791368 m 2421.444501544549 m\n",
      "[[[ 29.63827724   0.        ]\n",
      "  [ 30.54615047   1.        ]\n",
      "  [ 31.45240836   2.        ]\n",
      "  ...\n",
      "  [705.37950375   2.        ]\n",
      "  [704.31780564   1.        ]\n",
      "  [703.25489104   0.        ]]]\n"
     ]
    },
    {
     "name": "stderr",
     "output_type": "stream",
     "text": [
      "\n",
      "\n",
      "t:   1%|▊                                                                  | 14/1085 [00:16<21:56,  1.23s/it, now=None]\u001b[A\u001b[A"
     ]
    },
    {
     "name": "stdout",
     "output_type": "stream",
     "text": [
      "665.6857361106471 765.495828099257\n",
      "1424.5728389785806 m 2423.0307631006035 m\n",
      "[[[ 28.05813023   0.        ]\n",
      "  [ 28.98824446   1.        ]\n",
      "  [ 29.91669666   2.        ]\n",
      "  ...\n",
      "  [680.08898997   2.        ]\n",
      "  [678.94826662   1.        ]\n",
      "  [677.80618326   0.        ]]]\n"
     ]
    },
    {
     "name": "stderr",
     "output_type": "stream",
     "text": [
      "\n",
      "\n",
      "t:   1%|▉                                                                  | 15/1085 [00:17<21:52,  1.23s/it, now=None]\u001b[A\u001b[A"
     ]
    },
    {
     "name": "stdout",
     "output_type": "stream",
     "text": [
      "673.1966999294206 802.4262996430609\n",
      "1432.5147094081117 m 2401.764145936321 m\n",
      "[[[ 30.64062502   0.        ]\n",
      "  [ 31.55940878   1.        ]\n",
      "  [ 32.4765649    2.        ]\n",
      "  ...\n",
      "  [691.58781448   2.        ]\n",
      "  [690.48450757   1.        ]\n",
      "  [689.37989997   0.        ]]]\n"
     ]
    },
    {
     "name": "stderr",
     "output_type": "stream",
     "text": [
      "\n",
      "\n",
      "t:   1%|▉                                                                  | 16/1085 [00:18<21:59,  1.23s/it, now=None]\u001b[A\u001b[A"
     ]
    },
    {
     "name": "stdout",
     "output_type": "stream",
     "text": [
      "666.8058755214196 763.827884206363\n",
      "1456.9399730559182 m 2341.0751725249565 m\n",
      "[[[ 26.11071152   0.        ]\n",
      "  [ 27.04258408   1.        ]\n",
      "  [ 27.9728251    2.        ]\n",
      "  ...\n",
      "  [692.48448302   2.        ]\n",
      "  [691.37198358   1.        ]\n",
      "  [690.25813411   0.        ]]]\n"
     ]
    },
    {
     "name": "stderr",
     "output_type": "stream",
     "text": [
      "\n",
      "\n",
      "t:   2%|█                                                                  | 17/1085 [00:19<22:01,  1.24s/it, now=None]\u001b[A\u001b[A"
     ]
    },
    {
     "name": "stdout",
     "output_type": "stream",
     "text": [
      "663.7014360055007 745.478160533541\n",
      "1466.3538654689125 m 2349.530185222267 m\n",
      "[[[ 26.95287073   0.        ]\n",
      "  [ 27.89087221   1.        ]\n",
      "  [ 28.82723805   2.        ]\n",
      "  ...\n",
      "  [683.00974865   2.        ]\n",
      "  [681.87874621   1.        ]\n",
      "  [680.74636267   0.        ]]]\n"
     ]
    },
    {
     "name": "stderr",
     "output_type": "stream",
     "text": [
      "\n",
      "\n",
      "t:   2%|█                                                                  | 18/1085 [00:21<22:43,  1.28s/it, now=None]\u001b[A\u001b[A"
     ]
    },
    {
     "name": "stdout",
     "output_type": "stream",
     "text": [
      "697.9099886513916 886.1462916118603\n",
      "1493.8999441600097 m 2381.941821572425 m\n",
      "[[[ 32.29059459   0.        ]\n",
      "  [ 33.18525048   1.        ]\n",
      "  [ 34.07839293   2.        ]\n",
      "  ...\n",
      "  [709.75379846   2.        ]\n",
      "  [708.72140457   1.        ]\n",
      "  [707.6878256    0.        ]]]\n"
     ]
    },
    {
     "name": "stderr",
     "output_type": "stream",
     "text": [
      "\n",
      "\n",
      "t:   2%|█▏                                                                 | 19/1085 [00:22<22:19,  1.26s/it, now=None]\u001b[A\u001b[A"
     ]
    },
    {
     "name": "stdout",
     "output_type": "stream",
     "text": [
      "678.449484524792 767.898110456907\n",
      "1509.7545131870884 m 2380.1670682116433 m\n",
      "[[[ 26.74385298   0.        ]\n",
      "  [ 27.66791956   1.        ]\n",
      "  [ 28.59042505   2.        ]\n",
      "  ...\n",
      "  [684.31625204   2.        ]\n",
      "  [683.19297128   1.        ]\n",
      "  [682.06834104   0.        ]]]\n"
     ]
    },
    {
     "name": "stderr",
     "output_type": "stream",
     "text": [
      "\n",
      "\n",
      "t:   2%|█▏                                                                 | 20/1085 [00:23<21:55,  1.24s/it, now=None]\u001b[A\u001b[A"
     ]
    },
    {
     "name": "stdout",
     "output_type": "stream",
     "text": [
      "710.1524475602768 804.5584130911432\n",
      "1525.6213524403995 m 2337.0533784703757 m\n",
      "[[[ 33.42588161   0.        ]\n",
      "  [ 34.31283838   1.        ]\n",
      "  [ 35.19832707   2.        ]\n",
      "  ...\n",
      "  [700.26258107   2.        ]\n",
      "  [699.18469949   1.        ]\n",
      "  [698.10553045   0.        ]]]\n"
     ]
    },
    {
     "name": "stderr",
     "output_type": "stream",
     "text": [
      "\n",
      "\n",
      "t:   2%|█▎                                                                 | 21/1085 [00:24<21:49,  1.23s/it, now=None]\u001b[A\u001b[A"
     ]
    },
    {
     "name": "stdout",
     "output_type": "stream",
     "text": [
      "717.398776913757 739.6264071257854\n",
      "1528.605379428377 m 2297.6910810331965 m\n",
      "[[[ 34.53291488   0.        ]\n",
      "  [ 35.41196726   1.        ]\n",
      "  [ 36.28957027   2.        ]\n",
      "  ...\n",
      "  [694.18363303   2.        ]\n",
      "  [693.06624156   1.        ]\n",
      "  [691.94746644   0.        ]]]\n"
     ]
    },
    {
     "name": "stderr",
     "output_type": "stream",
     "text": [
      "\n",
      "\n",
      "t:   2%|█▎                                                                 | 22/1085 [00:25<21:42,  1.23s/it, now=None]\u001b[A\u001b[A"
     ]
    },
    {
     "name": "stdout",
     "output_type": "stream",
     "text": [
      "828.9933918802044 955.5956219542667\n",
      "1607.1737813572688 m 2208.046492165625 m\n",
      "[[[ 41.57978387   0.        ]\n",
      "  [ 42.3686134    1.        ]\n",
      "  [ 43.15622263   2.        ]\n",
      "  ...\n",
      "  [770.66433658   2.        ]\n",
      "  [769.7487839    1.        ]\n",
      "  [768.83215298   0.        ]]]\n"
     ]
    },
    {
     "name": "stderr",
     "output_type": "stream",
     "text": [
      "\n",
      "\n",
      "t:   2%|█▍                                                                 | 23/1085 [00:27<21:40,  1.22s/it, now=None]\u001b[A\u001b[A"
     ]
    },
    {
     "name": "stdout",
     "output_type": "stream",
     "text": [
      "943.7113234388523 1064.3822727704833\n",
      "1705.9177088766082 m 2105.322042020745 m\n",
      "[[[ 43.60098648   0.        ]\n",
      "  [ 44.32917686   1.        ]\n",
      "  [ 45.05630569   2.        ]\n",
      "  ...\n",
      "  [825.6372201    2.        ]\n",
      "  [824.8382737    1.        ]\n",
      "  [824.03837002   0.        ]]]\n"
     ]
    },
    {
     "name": "stderr",
     "output_type": "stream",
     "text": [
      "\n",
      "\n",
      "t:   2%|█▍                                                                 | 24/1085 [00:28<21:35,  1.22s/it, now=None]\u001b[A\u001b[A"
     ]
    },
    {
     "name": "stdout",
     "output_type": "stream",
     "text": [
      "1058.5076822305837 1194.9510580889898\n",
      "1815.805534330738 m 2046.5552946832797 m\n",
      "[[[ 41.32142165   0.        ]\n",
      "  [ 42.00734594   1.        ]\n",
      "  [ 42.69232543   2.        ]\n",
      "  ...\n",
      "  [878.2215678    2.        ]\n",
      "  [877.53341897   1.        ]\n",
      "  [876.8444249    0.        ]]]\n"
     ]
    },
    {
     "name": "stderr",
     "output_type": "stream",
     "text": [
      "\n",
      "\n",
      "t:   2%|█▌                                                                 | 25/1085 [00:29<21:49,  1.24s/it, now=None]\u001b[A\u001b[A"
     ]
    },
    {
     "name": "stdout",
     "output_type": "stream",
     "text": [
      "1087.7727680851574 1124.2176203676245\n",
      "1862.262891059845 m 1866.9850233031202 m\n",
      "[[[ 32.16011944   0.        ]\n",
      "  [ 32.84438795   1.        ]\n",
      "  [ 33.52773641   2.        ]\n",
      "  ...\n",
      "  [907.62433489   2.        ]\n",
      "  [906.96417222   1.        ]\n",
      "  [906.30311942   0.        ]]]\n"
     ]
    },
    {
     "name": "stderr",
     "output_type": "stream",
     "text": [
      "\n",
      "\n",
      "t:   2%|█▌                                                                 | 26/1085 [00:30<22:05,  1.25s/it, now=None]\u001b[A\u001b[A"
     ]
    },
    {
     "name": "stdout",
     "output_type": "stream",
     "text": [
      "1068.743095781457 1031.528947877165\n",
      "1837.8363971188096 m 1860.004634752229 m\n",
      "[[[ 31.84459437   0.        ]\n",
      "  [ 32.53222091   1.        ]\n",
      "  [ 33.21891146   2.        ]\n",
      "  ...\n",
      "  [884.20694621   2.        ]\n",
      "  [883.48474293   1.        ]\n",
      "  [882.76156923   0.        ]]]\n"
     ]
    },
    {
     "name": "stderr",
     "output_type": "stream",
     "text": [
      "\n",
      "\n",
      "t:   2%|█▋                                                                 | 27/1085 [00:32<22:03,  1.25s/it, now=None]\u001b[A\u001b[A"
     ]
    },
    {
     "name": "stdout",
     "output_type": "stream",
     "text": [
      "1086.6264104256052 1145.7573896658032\n",
      "1849.865641394948 m 1929.1992677697012 m\n",
      "[[[ 29.85445351   0.        ]\n",
      "  [ 30.53443454   1.        ]\n",
      "  [ 31.21349482   2.        ]\n",
      "  ...\n",
      "  [898.75390634   2.        ]\n",
      "  [898.08247203   1.        ]\n",
      "  [897.41016247   0.        ]]]\n"
     ]
    },
    {
     "name": "stderr",
     "output_type": "stream",
     "text": [
      "\n",
      "\n",
      "t:   3%|█▋                                                                 | 28/1085 [00:33<22:20,  1.27s/it, now=None]\u001b[A\u001b[A"
     ]
    },
    {
     "name": "stdout",
     "output_type": "stream",
     "text": [
      "988.2012595991356 1191.886343221251\n",
      "1744.389355207884 m 2028.72356249063 m\n",
      "[[[ 29.24941779   0.        ]\n",
      "  [ 29.95829167   1.        ]\n",
      "  [ 30.6661531    2.        ]\n",
      "  ...\n",
      "  [880.39059433   2.        ]\n",
      "  [879.70794761   1.        ]\n",
      "  [879.0244547    0.        ]]]\n"
     ]
    },
    {
     "name": "stderr",
     "output_type": "stream",
     "text": [
      "\n",
      "\n",
      "t:   3%|█▊                                                                 | 29/1085 [00:34<22:26,  1.27s/it, now=None]\u001b[A\u001b[A"
     ]
    },
    {
     "name": "stdout",
     "output_type": "stream",
     "text": [
      "948.5312844878587 1093.4793749457408\n",
      "1695.250082707041 m 2032.1409583578973 m\n",
      "[[[ 30.39842778   0.        ]\n",
      "  [ 31.1187242    1.        ]\n",
      "  [ 31.83796396   2.        ]\n",
      "  ...\n",
      "  [850.71495916   2.        ]\n",
      "  [849.96565252   1.        ]\n",
      "  [849.21542122   0.        ]]]\n"
     ]
    },
    {
     "name": "stderr",
     "output_type": "stream",
     "text": [
      "\n",
      "\n",
      "t:   3%|█▊                                                                 | 30/1085 [00:36<22:26,  1.28s/it, now=None]\u001b[A\u001b[A"
     ]
    },
    {
     "name": "stdout",
     "output_type": "stream",
     "text": [
      "973.2157990242551 1008.7073508339157\n",
      "1712.80502803614 m 1966.289060755219 m\n",
      "[[[ 31.92452557   0.        ]\n",
      "  [ 32.63243469   1.        ]\n",
      "  [ 33.33931477   2.        ]\n",
      "  ...\n",
      "  [843.76367922   2.        ]\n",
      "  [842.98216765   1.        ]\n",
      "  [842.1996583    0.        ]]]\n"
     ]
    },
    {
     "name": "stderr",
     "output_type": "stream",
     "text": [
      "\n",
      "\n",
      "t:   3%|█▉                                                                 | 31/1085 [00:37<22:22,  1.27s/it, now=None]\u001b[A\u001b[A"
     ]
    },
    {
     "name": "stdout",
     "output_type": "stream",
     "text": [
      "924.6255121029575 970.944985818397\n",
      "1666.9420053037556 m 1999.562567480743 m\n",
      "[[[ 32.50994946   0.        ]\n",
      "  [ 33.23851624   1.        ]\n",
      "  [ 33.96599718   2.        ]\n",
      "  ...\n",
      "  [821.80268598   2.        ]\n",
      "  [820.98053332   1.        ]\n",
      "  [820.15734163   0.        ]]]\n"
     ]
    },
    {
     "name": "stderr",
     "output_type": "stream",
     "text": [
      "\n",
      "\n",
      "t:   3%|█▉                                                                 | 32/1085 [00:38<22:03,  1.26s/it, now=None]\u001b[A\u001b[A"
     ]
    },
    {
     "name": "stdout",
     "output_type": "stream",
     "text": [
      "896.8386610151745 897.9480940946928\n",
      "1643.9811544674208 m 2002.9714281595843 m\n",
      "[[[ 32.0453357    0.        ]\n",
      "  [ 32.78814883   1.        ]\n",
      "  [ 33.52984026   2.        ]\n",
      "  ...\n",
      "  [802.33343062   2.        ]\n",
      "  [801.4551687    1.        ]\n",
      "  [800.57578426   0.        ]]]\n"
     ]
    },
    {
     "name": "stderr",
     "output_type": "stream",
     "text": [
      "\n",
      "\n",
      "t:   3%|██                                                                 | 33/1085 [00:39<21:46,  1.24s/it, now=None]\u001b[A\u001b[A"
     ]
    },
    {
     "name": "stdout",
     "output_type": "stream",
     "text": [
      "803.993807915498 1268.466360843016\n",
      "1564.1824756531369 m 2473.0215025284583 m\n",
      "[[[ 29.67148949   0.        ]\n",
      "  [ 30.46932066   1.        ]\n",
      "  [ 31.26588414   2.        ]\n",
      "  ...\n",
      "  [785.007901     2.        ]\n",
      "  [784.18881543   1.        ]\n",
      "  [783.36888668   0.        ]]]\n"
     ]
    },
    {
     "name": "stderr",
     "output_type": "stream",
     "text": [
      "\n",
      "\n",
      "t:   3%|██                                                                 | 34/1085 [00:41<21:30,  1.23s/it, now=None]\u001b[A\u001b[A"
     ]
    },
    {
     "name": "stdout",
     "output_type": "stream",
     "text": [
      "793.1103511605552 1152.8936906420643\n",
      "1549.0883328497112 m 2445.4643665252765 m\n",
      "[[[ 32.30276955   0.        ]\n",
      "  [ 33.10636331   1.        ]\n",
      "  [ 33.9086675    2.        ]\n",
      "  ...\n",
      "  [763.06676776   2.        ]\n",
      "  [762.18840262   1.        ]\n",
      "  [761.30911032   0.        ]]]\n"
     ]
    },
    {
     "name": "stderr",
     "output_type": "stream",
     "text": [
      "\n",
      "\n",
      "t:   3%|██▏                                                                | 35/1085 [00:42<21:19,  1.22s/it, now=None]\u001b[A\u001b[A"
     ]
    },
    {
     "name": "stdout",
     "output_type": "stream",
     "text": [
      "823.3876929375862 1183.3409123148674\n",
      "1578.4484135719529 m 2422.7218988535815 m\n",
      "[[[ 32.30559681   0.        ]\n",
      "  [ 33.08978106   1.        ]\n",
      "  [ 33.87273177   2.        ]\n",
      "  ...\n",
      "  [779.07573186   2.        ]\n",
      "  [778.22531794   1.        ]\n",
      "  [777.37400496   0.        ]]]\n"
     ]
    },
    {
     "name": "stderr",
     "output_type": "stream",
     "text": [
      "\n",
      "\n",
      "t:   3%|██▏                                                                | 36/1085 [00:43<21:20,  1.22s/it, now=None]\u001b[A\u001b[A"
     ]
    },
    {
     "name": "stdout",
     "output_type": "stream",
     "text": [
      "838.6540693961164 1477.4138591885462\n",
      "1596.0150192290928 m 2634.714745455521 m\n",
      "[[[ 31.13224508   0.        ]\n",
      "  [ 31.90841049   1.        ]\n",
      "  [ 32.68336857   2.        ]\n",
      "  ...\n",
      "  [804.1065355    2.        ]\n",
      "  [803.34157292   1.        ]\n",
      "  [802.57587537   0.        ]]]\n"
     ]
    },
    {
     "name": "stderr",
     "output_type": "stream",
     "text": [
      "\n",
      "\n",
      "t:   3%|██▎                                                                | 37/1085 [00:44<22:07,  1.27s/it, now=None]\u001b[A\u001b[A"
     ]
    },
    {
     "name": "stdout",
     "output_type": "stream",
     "text": [
      "903.3998418748171 1336.885903686056\n",
      "1662.7800236683245 m 2354.1862087757986 m\n",
      "[[[ 30.11826011   0.        ]\n",
      "  [ 30.86259842   1.        ]\n",
      "  [ 31.60582485   2.        ]\n",
      "  ...\n",
      "  [836.0342754    2.        ]\n",
      "  [835.30488489   1.        ]\n",
      "  [834.57471393   0.        ]]]\n"
     ]
    },
    {
     "name": "stderr",
     "output_type": "stream",
     "text": [
      "\n",
      "\n",
      "t:   4%|██▎                                                                | 38/1085 [00:46<22:02,  1.26s/it, now=None]\u001b[A\u001b[A"
     ]
    },
    {
     "name": "stdout",
     "output_type": "stream",
     "text": [
      "896.3202352860046 1427.5284015605491\n",
      "1655.6502865603363 m 2458.1535395113774 m\n",
      "[[[ 30.48155093   0.        ]\n",
      "  [ 31.22911009   1.        ]\n",
      "  [ 31.97554792   2.        ]\n",
      "  ...\n",
      "  [831.48885945   2.        ]\n",
      "  [830.76895555   1.        ]\n",
      "  [830.04831291   0.        ]]]\n"
     ]
    },
    {
     "name": "stderr",
     "output_type": "stream",
     "text": [
      "\n",
      "\n",
      "t:   4%|██▍                                                                | 39/1085 [00:47<22:05,  1.27s/it, now=None]\u001b[A\u001b[A"
     ]
    },
    {
     "name": "stdout",
     "output_type": "stream",
     "text": [
      "892.5758742367188 1579.8039930557013\n",
      "1654.183333846926 m 2580.1544562282966 m\n",
      "[[[ 28.92409015   0.        ]\n",
      "  [ 29.6742319    1.        ]\n",
      "  [ 30.42324743   2.        ]\n",
      "  ...\n",
      "  [839.35442416   2.        ]\n",
      "  [838.66898611   1.        ]\n",
      "  [837.98287557   0.        ]]]\n"
     ]
    },
    {
     "name": "stderr",
     "output_type": "stream",
     "text": [
      "\n",
      "\n",
      "t:   4%|██▍                                                                | 40/1085 [00:48<21:46,  1.25s/it, now=None]\u001b[A\u001b[A"
     ]
    },
    {
     "name": "stdout",
     "output_type": "stream",
     "text": [
      "852.2594124165607 1388.463055996374\n",
      "1634.6328002806758 m 2426.548016421227 m\n",
      "[[[ 22.91554373   0.        ]\n",
      "  [ 23.69315273   1.        ]\n",
      "  [ 24.46957923   2.        ]\n",
      "  ...\n",
      "  [824.19851779   2.        ]\n",
      "  [823.4692268    1.        ]\n",
      "  [822.73917805   0.        ]]]\n"
     ]
    },
    {
     "name": "stderr",
     "output_type": "stream",
     "text": [
      "\n",
      "\n",
      "t:   4%|██▌                                                                | 41/1085 [00:49<21:31,  1.24s/it, now=None]\u001b[A\u001b[A"
     ]
    },
    {
     "name": "stdout",
     "output_type": "stream",
     "text": [
      "865.5963847638538 1362.4520186236668\n",
      "1642.4120107125088 m 2431.8667531810825 m\n",
      "[[[ 23.92717307   0.        ]\n",
      "  [ 24.69594558   1.        ]\n",
      "  [ 25.46355505   2.        ]\n",
      "  ...\n",
      "  [812.72034288   2.        ]\n",
      "  [811.97364427   1.        ]\n",
      "  [811.22617116   0.        ]]]\n"
     ]
    },
    {
     "name": "stderr",
     "output_type": "stream",
     "text": [
      "\n",
      "\n",
      "t:   4%|██▌                                                                | 42/1085 [00:50<21:15,  1.22s/it, now=None]\u001b[A\u001b[A"
     ]
    },
    {
     "name": "stdout",
     "output_type": "stream",
     "text": [
      "882.6003023170464 1232.0578066574215\n",
      "1672.275650746755 m 2280.9644480880124 m\n",
      "[[[ 20.81893265   0.        ]\n",
      "  [ 21.5841311    1.        ]\n",
      "  [ 22.34819189   2.        ]\n",
      "  ...\n",
      "  [810.21896692   2.        ]\n",
      "  [809.45644714   1.        ]\n",
      "  [808.69308507   0.        ]]]\n"
     ]
    },
    {
     "name": "stderr",
     "output_type": "stream",
     "text": [
      "\n",
      "\n",
      "t:   4%|██▋                                                                | 43/1085 [00:52<21:09,  1.22s/it, now=None]\u001b[A\u001b[A"
     ]
    },
    {
     "name": "stdout",
     "output_type": "stream",
     "text": [
      "893.7260820779377 1096.6353661788867\n",
      "1694.0000137603563 m 2169.198492987958 m\n",
      "[[[ 19.26899184   0.        ]\n",
      "  [ 20.03299196   1.        ]\n",
      "  [ 20.7958702    2.        ]\n",
      "  ...\n",
      "  [797.50876685   2.        ]\n",
      "  [796.70550279   1.        ]\n",
      "  [795.90130296   0.        ]]]\n"
     ]
    },
    {
     "name": "stderr",
     "output_type": "stream",
     "text": [
      "\n",
      "\n",
      "t:   4%|██▋                                                                | 44/1085 [00:53<20:58,  1.21s/it, now=None]\u001b[A\u001b[A"
     ]
    },
    {
     "name": "stdout",
     "output_type": "stream",
     "text": [
      "950.4899557812865 1167.7387538816397\n",
      "1750.7020739603356 m 2171.1217240860274 m\n",
      "[[[ 18.33760732   0.        ]\n",
      "  [ 19.07782546   1.        ]\n",
      "  [ 19.81699112   2.        ]\n",
      "  ...\n",
      "  [816.79803109   2.        ]\n",
      "  [816.04038301   1.        ]\n",
      "  [815.28185743   0.        ]]]\n"
     ]
    },
    {
     "name": "stderr",
     "output_type": "stream",
     "text": [
      "\n",
      "\n",
      "t:   4%|██▊                                                                | 45/1085 [00:54<20:57,  1.21s/it, now=None]\u001b[A\u001b[A"
     ]
    },
    {
     "name": "stdout",
     "output_type": "stream",
     "text": [
      "945.9080679995061 1299.9023165977808\n",
      "1745.4138225100935 m 2394.890202255571 m\n",
      "[[[ 20.15645139   0.        ]\n",
      "  [ 20.89818056   1.        ]\n",
      "  [ 21.63885202   2.        ]\n",
      "  ...\n",
      "  [793.50212452   2.        ]\n",
      "  [792.73375919   1.        ]\n",
      "  [791.9645838    0.        ]]]\n"
     ]
    },
    {
     "name": "stderr",
     "output_type": "stream",
     "text": [
      "\n",
      "\n",
      "t:   4%|██▊                                                                | 46/1085 [00:55<20:53,  1.21s/it, now=None]\u001b[A\u001b[A"
     ]
    },
    {
     "name": "stdout",
     "output_type": "stream",
     "text": [
      "1025.894879337734 1190.6798392080175\n",
      "1831.4712052909415 m 2172.5005469315925 m\n",
      "[[[ 17.91964843   0.        ]\n",
      "  [ 18.6353699    1.        ]\n",
      "  [ 19.35011629   2.        ]\n",
      "  ...\n",
      "  [817.22508144   2.        ]\n",
      "  [816.48155071   1.        ]\n",
      "  [815.73715991   0.        ]]]\n"
     ]
    },
    {
     "name": "stderr",
     "output_type": "stream",
     "text": [
      "\n",
      "\n",
      "t:   4%|██▉                                                                | 47/1085 [00:56<20:52,  1.21s/it, now=None]\u001b[A\u001b[A"
     ]
    },
    {
     "name": "stdout",
     "output_type": "stream",
     "text": [
      "1028.9952676567739 1328.1218618817613\n",
      "1851.3472976884927 m 2296.5100876309475 m\n",
      "[[[ 13.54606089   0.        ]\n",
      "  [ 14.26756065   1.        ]\n",
      "  [ 14.98808783   2.        ]\n",
      "  ...\n",
      "  [823.23595892   2.        ]\n",
      "  [822.52553621   1.        ]\n",
      "  [821.81433449   0.        ]]]\n"
     ]
    },
    {
     "name": "stderr",
     "output_type": "stream",
     "text": [
      "\n",
      "\n",
      "t:   4%|██▉                                                                | 48/1085 [00:58<20:53,  1.21s/it, now=None]\u001b[A\u001b[A"
     ]
    },
    {
     "name": "stdout",
     "output_type": "stream",
     "text": [
      "1085.5974546356238 1227.0577691109982\n",
      "1896.9588613493488 m 2205.1003395710054 m\n",
      "[[[ 17.33065229   0.        ]\n",
      "  [ 18.03068742   1.        ]\n",
      "  [ 18.72979953   2.        ]\n",
      "  ...\n",
      "  [818.39257435   2.        ]\n",
      "  [817.65846422   1.        ]\n",
      "  [816.9235172    0.        ]]]\n"
     ]
    },
    {
     "name": "stderr",
     "output_type": "stream",
     "text": [
      "\n",
      "\n",
      "t:   5%|███                                                                | 49/1085 [00:59<20:50,  1.21s/it, now=None]\u001b[A\u001b[A"
     ]
    },
    {
     "name": "stdout",
     "output_type": "stream",
     "text": [
      "1182.7441898188522 1306.8723945189988\n",
      "1981.5055484600784 m 2283.746242205032 m\n",
      "[[[ 21.53907656   0.        ]\n",
      "  [ 22.20870871   1.        ]\n",
      "  [ 22.87749095   2.        ]\n",
      "  ...\n",
      "  [821.11710338   2.        ]\n",
      "  [820.39922405   1.        ]\n",
      "  [819.6805535    0.        ]]]\n"
     ]
    },
    {
     "name": "stderr",
     "output_type": "stream",
     "text": [
      "\n",
      "\n",
      "t:   5%|███                                                                | 50/1085 [01:00<21:00,  1.22s/it, now=None]\u001b[A\u001b[A"
     ]
    },
    {
     "name": "stdout",
     "output_type": "stream",
     "text": [
      "1051.7765106564839 1080.7906896791253\n",
      "1855.6719708092094 m 2143.3401273169607 m\n",
      "[[[ 19.84385141   0.        ]\n",
      "  [ 20.55077646   1.        ]\n",
      "  [ 21.25674996   2.        ]\n",
      "  ...\n",
      "  [790.3058152    2.        ]\n",
      "  [789.50250273   1.        ]\n",
      "  [788.69824356   0.        ]]]\n"
     ]
    },
    {
     "name": "stderr",
     "output_type": "stream",
     "text": [
      "\n",
      "\n",
      "t:   5%|███▏                                                               | 51/1085 [01:01<21:11,  1.23s/it, now=None]\u001b[A\u001b[A"
     ]
    },
    {
     "name": "stdout",
     "output_type": "stream",
     "text": [
      "1108.1301923137562 1082.5281730654513\n",
      "1897.0373103655047 m 2099.6041333027597 m\n",
      "[[[ 22.51207322   0.        ]\n",
      "  [ 23.19658311   1.        ]\n",
      "  [ 23.88018892   2.        ]\n",
      "  ...\n",
      "  [801.63140659   2.        ]\n",
      "  [800.84707147   1.        ]\n",
      "  [800.0617959    0.        ]]]\n"
     ]
    },
    {
     "name": "stderr",
     "output_type": "stream",
     "text": [
      "\n",
      "\n",
      "t:   5%|███▏                                                               | 52/1085 [01:03<21:08,  1.23s/it, now=None]\u001b[A\u001b[A"
     ]
    },
    {
     "name": "stdout",
     "output_type": "stream",
     "text": [
      "1051.523769028267 1150.5217095087664\n",
      "1820.7559985403996 m 2240.2305523787663 m\n",
      "[[[ 25.62905251   0.        ]\n",
      "  [ 26.32197528   1.        ]\n",
      "  [ 27.01394691   2.        ]\n",
      "  ...\n",
      "  [783.13998903   2.        ]\n",
      "  [782.34287521   1.        ]\n",
      "  [781.54486201   0.        ]]]\n"
     ]
    },
    {
     "name": "stderr",
     "output_type": "stream",
     "text": [
      "\n",
      "\n",
      "t:   5%|███▎                                                               | 53/1085 [01:04<20:55,  1.22s/it, now=None]\u001b[A\u001b[A"
     ]
    },
    {
     "name": "stdout",
     "output_type": "stream",
     "text": [
      "1119.436582398548 1106.1680407878562\n",
      "1876.5537386657325 m 2156.8047942680446 m\n",
      "[[[ 28.1272826    0.        ]\n",
      "  [ 28.79556925   1.        ]\n",
      "  [ 29.4629617    2.        ]\n",
      "  ...\n",
      "  [790.38966654   2.        ]\n",
      "  [789.59776476   1.        ]\n",
      "  [788.80493686   0.        ]]]\n"
     ]
    },
    {
     "name": "stderr",
     "output_type": "stream",
     "text": [
      "\n",
      "\n",
      "t:   5%|███▎                                                               | 54/1085 [01:05<20:50,  1.21s/it, now=None]\u001b[A\u001b[A"
     ]
    },
    {
     "name": "stdout",
     "output_type": "stream",
     "text": [
      "1119.7146129086266 1125.9447557470646\n",
      "1874.6605027491623 m 2100.525274960315 m\n",
      "[[[ 25.73745075   0.        ]\n",
      "  [ 26.4047634    1.        ]\n",
      "  [ 27.07118212   2.        ]\n",
      "  ...\n",
      "  [805.87445052   2.        ]\n",
      "  [805.1187111    1.        ]\n",
      "  [804.36206812   0.        ]]]\n"
     ]
    },
    {
     "name": "stderr",
     "output_type": "stream",
     "text": [
      "\n",
      "\n",
      "t:   5%|███▍                                                               | 55/1085 [01:06<20:50,  1.21s/it, now=None]\u001b[A\u001b[A"
     ]
    },
    {
     "name": "stdout",
     "output_type": "stream",
     "text": [
      "1138.93684592152 956.5357348709662\n",
      "1898.1632554153693 m 1949.9103483002766 m\n",
      "[[[ 24.4174252    0.        ]\n",
      "  [ 25.08140706   1.        ]\n",
      "  [ 25.74450954   2.        ]\n",
      "  ...\n",
      "  [797.30737138   2.        ]\n",
      "  [796.49431937   1.        ]\n",
      "  [795.68021645   0.        ]]]\n"
     ]
    },
    {
     "name": "stderr",
     "output_type": "stream",
     "text": [
      "\n",
      "\n",
      "t:   5%|███▍                                                               | 56/1085 [01:07<20:44,  1.21s/it, now=None]\u001b[A\u001b[A"
     ]
    },
    {
     "name": "stdout",
     "output_type": "stream",
     "text": [
      "1245.3977662415357 963.5830532219121\n",
      "2008.0636775994803 m 1908.367806446744 m\n",
      "[[[ 21.95982401   0.        ]\n",
      "  [ 22.60005667   1.        ]\n",
      "  [ 23.23948201   2.        ]\n",
      "  ...\n",
      "  [810.39705961   2.        ]\n",
      "  [809.60574049   1.        ]\n",
      "  [808.8133805    0.        ]]]\n"
     ]
    },
    {
     "name": "stderr",
     "output_type": "stream",
     "text": [
      "\n",
      "\n",
      "t:   5%|███▌                                                               | 57/1085 [01:09<20:44,  1.21s/it, now=None]\u001b[A\u001b[A"
     ]
    },
    {
     "name": "stdout",
     "output_type": "stream",
     "text": [
      "1187.153941207498 875.5610184461038\n",
      "1947.599325407927 m 1884.4094734960845 m\n",
      "[[[ 20.53006768   0.        ]\n",
      "  [ 21.18254821   1.        ]\n",
      "  [ 21.83418378   2.        ]\n",
      "  ...\n",
      "  [790.71474069   2.        ]\n",
      "  [789.86462555   1.        ]\n",
      "  [789.01336679   0.        ]]]\n"
     ]
    },
    {
     "name": "stderr",
     "output_type": "stream",
     "text": [
      "\n",
      "\n",
      "t:   5%|███▌                                                               | 58/1085 [01:10<20:44,  1.21s/it, now=None]\u001b[A\u001b[A"
     ]
    },
    {
     "name": "stdout",
     "output_type": "stream",
     "text": [
      "1273.7200715468803 846.8163499969721\n",
      "2029.3912359689111 m 1782.9730340053761 m\n",
      "[[[ 19.16440841   0.        ]\n",
      "  [ 19.79570007   1.        ]\n",
      "  [ 20.42620183   2.        ]\n",
      "  ...\n",
      "  [803.88529129   2.        ]\n",
      "  [803.049816     1.        ]\n",
      "  [802.21315956   0.        ]]]\n"
     ]
    },
    {
     "name": "stderr",
     "output_type": "stream",
     "text": [
      "\n",
      "\n",
      "t:   5%|███▋                                                               | 59/1085 [01:11<20:53,  1.22s/it, now=None]\u001b[A\u001b[A"
     ]
    },
    {
     "name": "stdout",
     "output_type": "stream",
     "text": [
      "1244.4323875836596 960.6692987033676\n",
      "1993.9367362698158 m 1862.8674051104795 m\n",
      "[[[ 17.95117194   0.        ]\n",
      "  [ 18.5860203    1.        ]\n",
      "  [ 19.22006145   2.        ]\n",
      "  ...\n",
      "  [812.75302714   2.        ]\n",
      "  [811.97756452   1.        ]\n",
      "  [811.20105976   0.        ]]]\n"
     ]
    },
    {
     "name": "stderr",
     "output_type": "stream",
     "text": [
      "\n",
      "\n",
      "t:   6%|███▋                                                               | 60/1085 [01:12<20:43,  1.21s/it, now=None]\u001b[A\u001b[A"
     ]
    },
    {
     "name": "stdout",
     "output_type": "stream",
     "text": [
      "1199.349038124504 861.3523721470077\n",
      "1953.3845180887558 m 1817.6313285401284 m\n",
      "[[[ 14.18747927   0.        ]\n",
      "  [ 14.83438409   1.        ]\n",
      "  [ 15.48045249   2.        ]\n",
      "  ...\n",
      "  [796.39705644   2.        ]\n",
      "  [795.56076719   1.        ]\n",
      "  [794.72331696   0.        ]]]\n"
     ]
    },
    {
     "name": "stderr",
     "output_type": "stream",
     "text": [
      "\n",
      "\n",
      "t:   6%|███▊                                                               | 61/1085 [01:13<20:38,  1.21s/it, now=None]\u001b[A\u001b[A"
     ]
    },
    {
     "name": "stdout",
     "output_type": "stream",
     "text": [
      "1176.5190783944454 849.4264922476063\n",
      "1921.5966777889837 m 1834.117037243874 m\n",
      "[[[ 13.52991612   0.        ]\n",
      "  [ 14.17850686   1.        ]\n",
      "  [ 14.82624592   2.        ]\n",
      "  ...\n",
      "  [790.24563664   2.        ]\n",
      "  [789.39318029   1.        ]\n",
      "  [788.53954657   0.        ]]]\n"
     ]
    },
    {
     "name": "stderr",
     "output_type": "stream",
     "text": [
      "\n",
      "\n",
      "t:   6%|███▊                                                               | 62/1085 [01:15<20:37,  1.21s/it, now=None]\u001b[A\u001b[A"
     ]
    },
    {
     "name": "stdout",
     "output_type": "stream",
     "text": [
      "1064.5118619635398 865.9737763388534\n",
      "1805.180283862561 m 1963.2764339798196 m\n",
      "[[[ 13.83500607   0.        ]\n",
      "  [ 14.51233554   1.        ]\n",
      "  [ 15.1887256    2.        ]\n",
      "  ...\n",
      "  [761.52580527   2.        ]\n",
      "  [760.63773104   1.        ]\n",
      "  [759.74849667   0.        ]]]\n"
     ]
    },
    {
     "name": "stderr",
     "output_type": "stream",
     "text": [
      "\n",
      "\n",
      "t:   6%|███▉                                                               | 63/1085 [01:16<20:31,  1.21s/it, now=None]\u001b[A\u001b[A"
     ]
    },
    {
     "name": "stdout",
     "output_type": "stream",
     "text": [
      "1060.3301690069416 759.1097326482917\n",
      "1794.5940606860377 m 1894.2973060608335 m\n",
      "[[[ 13.33115468   0.        ]\n",
      "  [ 14.00716962   1.        ]\n",
      "  [ 14.68224145   2.        ]\n",
      "  ...\n",
      "  [750.20957903   2.        ]\n",
      "  [749.25562338   1.        ]\n",
      "  [748.30035024   0.        ]]]\n"
     ]
    },
    {
     "name": "stderr",
     "output_type": "stream",
     "text": [
      "\n",
      "\n",
      "t:   6%|███▉                                                               | 64/1085 [01:17<20:27,  1.20s/it, now=None]\u001b[A\u001b[A"
     ]
    },
    {
     "name": "stdout",
     "output_type": "stream",
     "text": [
      "997.0088437201294 776.131750883238\n",
      "1724.9402429564482 m 1989.5376813252747 m\n",
      "[[[ 12.21690859   0.        ]\n",
      "  [ 12.9114798    1.        ]\n",
      "  [ 13.60504692   2.        ]\n",
      "  ...\n",
      "  [734.11546674   2.        ]\n",
      "  [733.14221703   1.        ]\n",
      "  [732.16767481   0.        ]]]\n"
     ]
    },
    {
     "name": "stderr",
     "output_type": "stream",
     "text": [
      "\n",
      "\n",
      "t:   6%|████                                                               | 65/1085 [01:18<20:29,  1.21s/it, now=None]\u001b[A\u001b[A"
     ]
    },
    {
     "name": "stdout",
     "output_type": "stream",
     "text": [
      "941.0151831184461 734.0187720767167\n",
      "1660.1544988875726 m 1991.9137668195688 m\n",
      "[[[ 12.06801485   0.        ]\n",
      "  [ 12.78086266   1.        ]\n",
      "  [ 13.49264313   2.        ]\n",
      "  ...\n",
      "  [721.46452696   2.        ]\n",
      "  [720.45219536   1.        ]\n",
      "  [719.43849914   0.        ]]]\n"
     ]
    },
    {
     "name": "stderr",
     "output_type": "stream",
     "text": [
      "\n",
      "\n",
      "t:   6%|████                                                               | 66/1085 [01:19<20:19,  1.20s/it, now=None]\u001b[A\u001b[A"
     ]
    },
    {
     "name": "stdout",
     "output_type": "stream",
     "text": [
      "926.4054084065737 761.9375202540608\n",
      "1648.5230429622115 m 2015.671559261173 m\n",
      "[[[  9.60561668   0.        ]\n",
      "  [ 10.32581457   1.        ]\n",
      "  [ 11.04492728   2.        ]\n",
      "  ...\n",
      "  [725.26161519   2.        ]\n",
      "  [724.26620805   1.        ]\n",
      "  [723.26948351   0.        ]]]\n"
     ]
    },
    {
     "name": "stderr",
     "output_type": "stream",
     "text": [
      "\n",
      "\n",
      "t:   6%|████▏                                                              | 67/1085 [01:21<20:24,  1.20s/it, now=None]\u001b[A\u001b[A"
     ]
    },
    {
     "name": "stdout",
     "output_type": "stream",
     "text": [
      "939.569500664324 798.0360632666619\n",
      "1661.4249464570014 m 2014.3432529447846 m\n",
      "[[[ 10.26423189   0.        ]\n",
      "  [ 10.97871429   1.        ]\n",
      "  [ 11.6921278    2.        ]\n",
      "  ...\n",
      "  [733.05427582   2.        ]\n",
      "  [732.09083395   1.        ]\n",
      "  [731.12613233   0.        ]]]\n"
     ]
    },
    {
     "name": "stderr",
     "output_type": "stream",
     "text": [
      "\n",
      "\n",
      "t:   6%|████▏                                                              | 68/1085 [01:22<20:25,  1.20s/it, now=None]\u001b[A\u001b[A"
     ]
    },
    {
     "name": "stdout",
     "output_type": "stream",
     "text": [
      "997.4621579614575 811.0560804675265\n",
      "1712.1658253215874 m 1964.660813510168 m\n",
      "[[[  9.75367369   0.        ]\n",
      "  [ 10.44287945   1.        ]\n",
      "  [ 11.13108111   2.        ]\n",
      "  ...\n",
      "  [751.35197185   2.        ]\n",
      "  [750.41813536   1.        ]\n",
      "  [749.48306193   0.        ]]]\n"
     ]
    },
    {
     "name": "stderr",
     "output_type": "stream",
     "text": [
      "\n",
      "\n",
      "t:   6%|████▎                                                              | 69/1085 [01:23<20:21,  1.20s/it, now=None]\u001b[A\u001b[A"
     ]
    },
    {
     "name": "stdout",
     "output_type": "stream",
     "text": [
      "918.8222133880411 871.9128761073854\n",
      "1628.567935982702 m 2102.1279020892366 m\n",
      "[[[ 10.82124873   0.        ]\n",
      "  [ 11.54017816   1.        ]\n",
      "  [ 12.25801154   2.        ]\n",
      "  ...\n",
      "  [733.8589285    2.        ]\n",
      "  [732.92224376   1.        ]\n",
      "  [731.98439448   0.        ]]]\n"
     ]
    },
    {
     "name": "stderr",
     "output_type": "stream",
     "text": [
      "\n",
      "\n",
      "t:   6%|████▎                                                              | 70/1085 [01:24<20:22,  1.20s/it, now=None]\u001b[A\u001b[A"
     ]
    },
    {
     "name": "stdout",
     "output_type": "stream",
     "text": [
      "927.2350515026027 851.2289498549166\n",
      "1632.3267867890083 m 2025.1404348430217 m\n",
      "[[[ 10.57157516   0.        ]\n",
      "  [ 11.28504027   1.        ]\n",
      "  [ 11.99741971   2.        ]\n",
      "  ...\n",
      "  [745.70289661   2.        ]\n",
      "  [744.77934537   1.        ]\n",
      "  [743.85460976   0.        ]]]\n"
     ]
    },
    {
     "name": "stderr",
     "output_type": "stream",
     "text": [
      "\n",
      "\n",
      "t:   7%|████▍                                                              | 71/1085 [01:26<20:24,  1.21s/it, now=None]\u001b[A\u001b[A"
     ]
    },
    {
     "name": "stdout",
     "output_type": "stream",
     "text": [
      "916.7024605213851 934.902609210567\n",
      "1603.418615529589 m 2204.5371315098528 m\n",
      "[[[ 15.34610055   0.        ]\n",
      "  [ 16.05749706   1.        ]\n",
      "  [ 16.76779224   2.        ]\n",
      "  ...\n",
      "  [727.85383967   2.        ]\n",
      "  [726.92477378   1.        ]\n",
      "  [725.99460701   0.        ]]]\n"
     ]
    },
    {
     "name": "stderr",
     "output_type": "stream",
     "text": [
      "\n",
      "\n",
      "t:   7%|████▍                                                              | 72/1085 [01:27<20:20,  1.21s/it, now=None]\u001b[A\u001b[A"
     ]
    },
    {
     "name": "stdout",
     "output_type": "stream",
     "text": [
      "890.1446395885458 807.4344749373446\n",
      "1572.3705096265721 m 2108.401286179852 m\n",
      "[[[ 15.57477257   0.        ]\n",
      "  [ 16.29728967   1.        ]\n",
      "  [ 17.01866786   2.        ]\n",
      "  ...\n",
      "  [712.66540585   2.        ]\n",
      "  [711.67476052   1.        ]\n",
      "  [710.6828613    0.        ]]]\n"
     ]
    },
    {
     "name": "stderr",
     "output_type": "stream",
     "text": [
      "\n",
      "\n",
      "t:   7%|████▌                                                              | 73/1085 [01:28<20:20,  1.21s/it, now=None]\u001b[A\u001b[A"
     ]
    },
    {
     "name": "stdout",
     "output_type": "stream",
     "text": [
      "918.1507034034036 821.7699829392178\n",
      "1592.2435605161252 m 2067.9745513976222 m\n",
      "[[[ 16.86107122   0.        ]\n",
      "  [ 17.56718245   1.        ]\n",
      "  [ 18.27219273   2.        ]\n",
      "  ...\n",
      "  [724.16900679   2.        ]\n",
      "  [723.20532936   1.        ]\n",
      "  [722.24042282   0.        ]]]\n"
     ]
    },
    {
     "name": "stderr",
     "output_type": "stream",
     "text": [
      "\n",
      "\n",
      "t:   7%|████▌                                                              | 74/1085 [01:29<20:22,  1.21s/it, now=None]\u001b[A\u001b[A"
     ]
    },
    {
     "name": "stdout",
     "output_type": "stream",
     "text": [
      "859.6881576000775 743.0529336821261\n",
      "1539.5742942266597 m 2070.713919773599 m\n",
      "[[[ 16.15132091   0.        ]\n",
      "  [ 16.88912791   1.        ]\n",
      "  [ 17.62574877   2.        ]\n",
      "  ...\n",
      "  [699.44479457   2.        ]\n",
      "  [698.41241981   1.        ]\n",
      "  [697.37869166   0.        ]]]\n"
     ]
    },
    {
     "name": "stderr",
     "output_type": "stream",
     "text": [
      "\n",
      "\n",
      "t:   7%|████▋                                                              | 75/1085 [01:30<20:23,  1.21s/it, now=None]\u001b[A\u001b[A"
     ]
    },
    {
     "name": "stdout",
     "output_type": "stream",
     "text": [
      "914.4673886698109 796.8506652510724\n",
      "1583.3304078869462 m 2024.5034214178186 m\n",
      "[[[ 18.84469724   0.        ]\n",
      "  [ 19.55062059   1.        ]\n",
      "  [ 20.25543734   2.        ]\n",
      "  ...\n",
      "  [725.0233745    2.        ]\n",
      "  [724.05514267   1.        ]\n",
      "  [723.08564854   0.        ]]]\n"
     ]
    },
    {
     "name": "stderr",
     "output_type": "stream",
     "text": [
      "\n",
      "\n",
      "t:   7%|████▋                                                              | 76/1085 [01:32<20:18,  1.21s/it, now=None]\u001b[A\u001b[A"
     ]
    },
    {
     "name": "stdout",
     "output_type": "stream",
     "text": [
      "934.1404980233135 799.5238609600885\n",
      "1583.4283957804953 m 2036.9833492995472 m\n",
      "[[[ 24.53272065   0.        ]\n",
      "  [ 25.22247507   1.        ]\n",
      "  [ 25.91114639   2.        ]\n",
      "  ...\n",
      "  [721.75085399   2.        ]\n",
      "  [720.78024642   1.        ]\n",
      "  [719.80837964   0.        ]]]\n"
     ]
    },
    {
     "name": "stderr",
     "output_type": "stream",
     "text": [
      "\n",
      "\n",
      "t:   7%|████▊                                                              | 77/1085 [01:33<20:19,  1.21s/it, now=None]\u001b[A\u001b[A"
     ]
    },
    {
     "name": "stdout",
     "output_type": "stream",
     "text": [
      "945.267873726466 831.5736021320267\n",
      "1588.7680230560609 m 2025.8392604853955 m\n",
      "[[[ 24.44621768   0.        ]\n",
      "  [ 25.12891416   1.        ]\n",
      "  [ 25.81054104   2.        ]\n",
      "  ...\n",
      "  [734.0831507    2.        ]\n",
      "  [733.14340322   1.        ]\n",
      "  [732.20244422   0.        ]]]\n"
     ]
    },
    {
     "name": "stderr",
     "output_type": "stream",
     "text": [
      "\n",
      "\n",
      "t:   7%|████▊                                                              | 78/1085 [01:34<20:11,  1.20s/it, now=None]\u001b[A\u001b[A"
     ]
    },
    {
     "name": "stdout",
     "output_type": "stream",
     "text": [
      "961.481579983959 800.3136036185899\n",
      "1605.6307410237594 m 1962.5886517478086 m\n",
      "[[[ 24.4143002    0.        ]\n",
      "  [ 25.09032229   1.        ]\n",
      "  [ 25.76529478   2.        ]\n",
      "  ...\n",
      "  [741.10728347   2.        ]\n",
      "  [740.16504212   1.        ]\n",
      "  [739.22154776   0.        ]]]\n"
     ]
    },
    {
     "name": "stderr",
     "output_type": "stream",
     "text": [
      "\n",
      "\n",
      "t:   7%|████▉                                                              | 79/1085 [01:35<20:08,  1.20s/it, now=None]\u001b[A\u001b[A"
     ]
    },
    {
     "name": "stdout",
     "output_type": "stream",
     "text": [
      "1006.6181668284808 815.1500078042341\n",
      "1630.450944180484 m 1972.6238513753292 m\n",
      "[[[ 32.0325408    0.        ]\n",
      "  [ 32.68300968   1.        ]\n",
      "  [ 33.33247818   2.        ]\n",
      "  ...\n",
      "  [741.99133801   2.        ]\n",
      "  [741.05798391   1.        ]\n",
      "  [740.12339846   0.        ]]]\n"
     ]
    },
    {
     "name": "stderr",
     "output_type": "stream",
     "text": [
      "\n",
      "\n",
      "t:   7%|████▉                                                              | 80/1085 [01:36<20:06,  1.20s/it, now=None]\u001b[A\u001b[A"
     ]
    },
    {
     "name": "stdout",
     "output_type": "stream",
     "text": [
      "1047.7431303096976 838.8218423622068\n",
      "1669.0773532500466 m 1921.7630434304203 m\n",
      "[[[ 32.29985745   0.        ]\n",
      "  [ 32.93469701   1.        ]\n",
      "  [ 33.56857798   2.        ]\n",
      "  ...\n",
      "  [762.20194303   2.        ]\n",
      "  [761.3075431    1.        ]\n",
      "  [760.41194853   0.        ]]]\n"
     ]
    },
    {
     "name": "stderr",
     "output_type": "stream",
     "text": [
      "\n",
      "\n",
      "t:   7%|█████                                                              | 81/1085 [01:38<20:04,  1.20s/it, now=None]\u001b[A\u001b[A"
     ]
    },
    {
     "name": "stdout",
     "output_type": "stream",
     "text": [
      "1014.9446642174033 833.8456330576082\n",
      "1620.0479530725895 m 1939.1064586914129 m\n",
      "[[[ 38.45727883   0.        ]\n",
      "  [ 39.09743273   1.        ]\n",
      "  [ 39.73659337   2.        ]\n",
      "  ...\n",
      "  [754.37410505   2.        ]\n",
      "  [753.46901584   1.        ]\n",
      "  [752.56272414   0.        ]]]\n"
     ]
    },
    {
     "name": "stderr",
     "output_type": "stream",
     "text": [
      "\n",
      "\n",
      "t:   8%|█████                                                              | 82/1085 [01:39<20:09,  1.21s/it, now=None]\u001b[A\u001b[A"
     ]
    },
    {
     "name": "stdout",
     "output_type": "stream",
     "text": [
      "1020.7181139494991 897.9417280024912\n",
      "1606.1426649259406 m 1940.6750660128407 m\n",
      "[[[ 42.99550346   0.        ]\n",
      "  [ 43.62595592   1.        ]\n",
      "  [ 44.2554192    2.        ]\n",
      "  ...\n",
      "  [768.98681074   2.        ]\n",
      "  [768.13273591   1.        ]\n",
      "  [767.27754293   0.        ]]]\n"
     ]
    },
    {
     "name": "stderr",
     "output_type": "stream",
     "text": [
      "\n",
      "\n",
      "t:   8%|█████▏                                                             | 83/1085 [01:40<20:12,  1.21s/it, now=None]\u001b[A\u001b[A"
     ]
    },
    {
     "name": "stdout",
     "output_type": "stream",
     "text": [
      "1006.8910586877819 772.7507780972227\n",
      "1575.052886377431 m 1860.4186710548233 m\n",
      "[[[ 48.53419246   0.        ]\n",
      "  [ 49.1633504    1.        ]\n",
      "  [ 49.79150202   2.        ]\n",
      "  ...\n",
      "  [751.73805914   2.        ]\n",
      "  [750.80887036   1.        ]\n",
      "  [749.87838751   0.        ]]]\n"
     ]
    },
    {
     "name": "stderr",
     "output_type": "stream",
     "text": [
      "\n",
      "\n",
      "t:   8%|█████▏                                                             | 84/1085 [01:41<20:09,  1.21s/it, now=None]\u001b[A\u001b[A"
     ]
    },
    {
     "name": "stdout",
     "output_type": "stream",
     "text": [
      "986.9080438956005 754.3946814157025\n",
      "1534.9567269004247 m 1861.9308889574213 m\n",
      "[[[ 54.51672602   0.        ]\n",
      "  [ 55.14649827   1.        ]\n",
      "  [ 55.77523812   2.        ]\n",
      "  ...\n",
      "  [746.95361587   2.        ]\n",
      "  [746.00685145   1.        ]\n",
      "  [745.05876143   0.        ]]]\n"
     ]
    },
    {
     "name": "stderr",
     "output_type": "stream",
     "text": [
      "\n",
      "\n",
      "t:   8%|█████▏                                                             | 85/1085 [01:42<20:08,  1.21s/it, now=None]\u001b[A\u001b[A"
     ]
    },
    {
     "name": "stdout",
     "output_type": "stream",
     "text": [
      "1022.2880757703983 756.6522592875647\n",
      "1552.4034047141342 m 1793.482842556857 m\n",
      "[[[ 60.03421709   0.        ]\n",
      "  [ 60.64311614   1.        ]\n",
      "  [ 61.25102055   2.        ]\n",
      "  ...\n",
      "  [763.66738602   2.        ]\n",
      "  [762.74698369   1.        ]\n",
      "  [761.82525808   0.        ]]]\n"
     ]
    },
    {
     "name": "stderr",
     "output_type": "stream",
     "text": [
      "\n",
      "\n",
      "t:   8%|█████▎                                                             | 86/1085 [01:44<20:01,  1.20s/it, now=None]\u001b[A\u001b[A"
     ]
    },
    {
     "name": "stdout",
     "output_type": "stream",
     "text": [
      "990.2232943309564 724.8851844272175\n",
      "1508.0879344207774 m 1801.738100063971 m\n",
      "[[[ 64.7401602    0.        ]\n",
      "  [ 65.35757047   1.        ]\n",
      "  [ 65.97394697   2.        ]\n",
      "  ...\n",
      "  [753.81724588   2.        ]\n",
      "  [752.86276565   1.        ]\n",
      "  [751.906903     0.        ]]]\n"
     ]
    },
    {
     "name": "stderr",
     "output_type": "stream",
     "text": [
      "\n",
      "\n",
      "t:   8%|█████▎                                                             | 87/1085 [01:45<19:58,  1.20s/it, now=None]\u001b[A\u001b[A"
     ]
    },
    {
     "name": "stdout",
     "output_type": "stream",
     "text": [
      "1028.2406625814929 863.7517976635833\n",
      "1544.0980914789818 m 1792.870734208783 m\n",
      "[[[ 65.18307463   0.        ]\n",
      "  [ 65.78435058   1.        ]\n",
      "  [ 66.3846362    2.        ]\n",
      "  ...\n",
      "  [799.19039314   2.        ]\n",
      "  [798.36545242   1.        ]\n",
      "  [797.53935391   0.        ]]]\n"
     ]
    },
    {
     "name": "stderr",
     "output_type": "stream",
     "text": [
      "\n",
      "\n",
      "t:   8%|█████▍                                                             | 88/1085 [01:46<19:59,  1.20s/it, now=None]\u001b[A\u001b[A"
     ]
    },
    {
     "name": "stdout",
     "output_type": "stream",
     "text": [
      "1015.038267694533 844.4865052963826\n",
      "1511.2725422682422 m 1809.4049478175343 m\n",
      "[[[ 71.29738536   0.        ]\n",
      "  [ 71.89663521   1.        ]\n",
      "  [ 72.49487655   2.        ]\n",
      "  ...\n",
      "  [792.70465175   2.        ]\n",
      "  [791.8573187    1.        ]\n",
      "  [791.00880149   0.        ]]]\n"
     ]
    },
    {
     "name": "stderr",
     "output_type": "stream",
     "text": [
      "\n",
      "\n",
      "t:   8%|█████▍                                                             | 89/1085 [01:47<20:00,  1.21s/it, now=None]\u001b[A\u001b[A"
     ]
    },
    {
     "name": "stdout",
     "output_type": "stream",
     "text": [
      "1052.2568392783544 884.7016250659176\n",
      "1533.459978896525 m 1834.9888756117923 m\n",
      "[[[ 76.605472     0.        ]\n",
      "  [ 77.18472137   1.        ]\n",
      "  [ 77.76300054   2.        ]\n",
      "  ...\n",
      "  [800.7031968    2.        ]\n",
      "  [799.87941194   1.        ]\n",
      "  [799.0544965    0.        ]]]\n"
     ]
    },
    {
     "name": "stderr",
     "output_type": "stream",
     "text": [
      "\n",
      "\n",
      "t:   8%|█████▌                                                             | 90/1085 [01:48<19:56,  1.20s/it, now=None]\u001b[A\u001b[A"
     ]
    },
    {
     "name": "stdout",
     "output_type": "stream",
     "text": [
      "1055.1860467458569 883.6305485138533\n",
      "1526.4735047444362 m 1792.2516741592174 m\n",
      "[[[ 78.97191212   0.        ]\n",
      "  [ 79.54637206   1.        ]\n",
      "  [ 80.11986319   2.        ]\n",
      "  ...\n",
      "  [811.87643895   2.        ]\n",
      "  [811.06811838   1.        ]\n",
      "  [810.25866609   0.        ]]]\n"
     ]
    },
    {
     "name": "stderr",
     "output_type": "stream",
     "text": [
      "\n",
      "\n",
      "t:   8%|█████▌                                                             | 91/1085 [01:50<19:58,  1.21s/it, now=None]\u001b[A\u001b[A"
     ]
    },
    {
     "name": "stdout",
     "output_type": "stream",
     "text": [
      "1113.6181983633437 832.5204434347131\n",
      "1576.335059810391 m 1733.1011709788254 m\n",
      "[[[ 83.34348868   0.        ]\n",
      "  [ 83.89438972   1.        ]\n",
      "  [ 84.4443779    2.        ]\n",
      "  ...\n",
      "  [813.20231867   2.        ]\n",
      "  [812.37293577   1.        ]\n",
      "  [811.54234963   0.        ]]]\n"
     ]
    },
    {
     "name": "stderr",
     "output_type": "stream",
     "text": [
      "\n",
      "\n",
      "t:   8%|█████▋                                                             | 92/1085 [01:51<19:54,  1.20s/it, now=None]\u001b[A\u001b[A"
     ]
    },
    {
     "name": "stdout",
     "output_type": "stream",
     "text": [
      "1105.9832444954222 932.6643062029015\n",
      "1576.114593601384 m 1727.0546372655745 m\n",
      "[[[ 78.69768215   0.        ]\n",
      "  [ 79.25394607   1.        ]\n",
      "  [ 79.80929113   2.        ]\n",
      "  ...\n",
      "  [845.63326932   2.        ]\n",
      "  [844.88929733   1.        ]\n",
      "  [844.14425204   0.        ]]]\n"
     ]
    },
    {
     "name": "stderr",
     "output_type": "stream",
     "text": [
      "\n",
      "\n",
      "t:   9%|█████▋                                                             | 93/1085 [01:52<19:49,  1.20s/it, now=None]\u001b[A\u001b[A"
     ]
    },
    {
     "name": "stdout",
     "output_type": "stream",
     "text": [
      "1096.3640919319869 921.9376873509755\n",
      "1547.040501157037 m 1765.4296450937716 m\n",
      "[[[ 85.66143023   0.        ]\n",
      "  [ 86.21345171   1.        ]\n",
      "  [ 86.76454237   2.        ]\n",
      "  ...\n",
      "  [833.55168852   2.        ]\n",
      "  [832.78444228   1.        ]\n",
      "  [832.01611116   0.        ]]]\n"
     ]
    },
    {
     "name": "stderr",
     "output_type": "stream",
     "text": [
      "\n",
      "\n",
      "t:   9%|█████▊                                                             | 94/1085 [01:53<19:51,  1.20s/it, now=None]\u001b[A\u001b[A"
     ]
    },
    {
     "name": "stdout",
     "output_type": "stream",
     "text": [
      "1107.7931690951216 1002.5529029538968\n",
      "1556.022247863684 m 1796.6402040350488 m\n",
      "[[[ 86.00535255   0.        ]\n",
      "  [ 86.5525868    1.        ]\n",
      "  [ 87.09890069   2.        ]\n",
      "  ...\n",
      "  [849.4989911    2.        ]\n",
      "  [848.78112517   1.        ]\n",
      "  [848.06226178   0.        ]]]\n"
     ]
    },
    {
     "name": "stderr",
     "output_type": "stream",
     "text": [
      "\n",
      "\n",
      "t:   9%|█████▊                                                             | 95/1085 [01:54<19:56,  1.21s/it, now=None]\u001b[A\u001b[A"
     ]
    },
    {
     "name": "stdout",
     "output_type": "stream",
     "text": [
      "1120.856574226362 1060.7702426569078\n",
      "1562.1571982751386 m 1798.060686885078 m\n",
      "[[[ 85.87671218   0.        ]\n",
      "  [ 86.4169916    1.        ]\n",
      "  [ 86.95636168   2.        ]\n",
      "  ...\n",
      "  [869.67572858   2.        ]\n",
      "  [868.99956481   1.        ]\n",
      "  [868.32245834   0.        ]]]\n"
     ]
    },
    {
     "name": "stderr",
     "output_type": "stream",
     "text": [
      "\n",
      "\n",
      "t:   9%|█████▉                                                             | 96/1085 [01:56<19:54,  1.21s/it, now=None]\u001b[A\u001b[A"
     ]
    },
    {
     "name": "stdout",
     "output_type": "stream",
     "text": [
      "1171.0586234247517 1249.0313253433446\n",
      "1589.7141139469556 m 1985.493261831121 m\n",
      "[[[ 93.47665837   0.        ]\n",
      "  [ 93.99259844   1.        ]\n",
      "  [ 94.50766947   2.        ]\n",
      "  ...\n",
      "  [875.82492865   2.        ]\n",
      "  [875.197423     1.        ]\n",
      "  [874.56911362   0.        ]]]\n"
     ]
    },
    {
     "name": "stderr",
     "output_type": "stream",
     "text": [
      "\n",
      "\n",
      "t:   9%|█████▉                                                             | 97/1085 [01:57<19:52,  1.21s/it, now=None]\u001b[A\u001b[A"
     ]
    },
    {
     "name": "stdout",
     "output_type": "stream",
     "text": [
      "1139.2698423427094 1247.170649900446\n",
      "1548.676188489357 m 2028.3760843366624 m\n",
      "[[[ 97.2539767    0.        ]\n",
      "  [ 97.77607088   1.        ]\n",
      "  [ 98.29726733   2.        ]\n",
      "  ...\n",
      "  [862.78993991   2.        ]\n",
      "  [862.14301824   1.        ]\n",
      "  [861.49528924   0.        ]]]\n"
     ]
    },
    {
     "name": "stderr",
     "output_type": "stream",
     "text": [
      "\n",
      "\n",
      "t:   9%|██████                                                             | 98/1085 [01:58<19:48,  1.20s/it, now=None]\u001b[A\u001b[A"
     ]
    },
    {
     "name": "stdout",
     "output_type": "stream",
     "text": [
      "1124.5285583429252 1120.801990976814\n",
      "1508.5598767652286 m 1985.2516156286379 m\n",
      "[[[108.27022631   0.        ]\n",
      "  [108.78754146   1.        ]\n",
      "  [109.30394082   2.        ]\n",
      "  ...\n",
      "  [835.57841132   2.        ]\n",
      "  [834.86690447   1.        ]\n",
      "  [834.15449939   0.        ]]]\n"
     ]
    },
    {
     "name": "stderr",
     "output_type": "stream",
     "text": [
      "\n",
      "\n",
      "t:   9%|██████                                                             | 99/1085 [01:59<19:47,  1.20s/it, now=None]\u001b[A\u001b[A"
     ]
    },
    {
     "name": "stdout",
     "output_type": "stream",
     "text": [
      "1169.261906715099 1114.6062100930108\n",
      "1546.7837610703123 m 1962.369740127655 m\n",
      "[[[112.89336489   0.        ]\n",
      "  [113.39384468   1.        ]\n",
      "  [113.8934476    2.        ]\n",
      "  ...\n",
      "  [838.38351068   2.        ]\n",
      "  [837.67729581   1.        ]\n",
      "  [836.97017906   0.        ]]]\n"
     ]
    },
    {
     "name": "stderr",
     "output_type": "stream",
     "text": [
      "\n",
      "\n",
      "t:   9%|██████                                                            | 100/1085 [02:00<19:49,  1.21s/it, now=None]\u001b[A\u001b[A"
     ]
    },
    {
     "name": "stdout",
     "output_type": "stream",
     "text": [
      "1183.7701229006805 1146.093033958475\n",
      "1536.343602114992 m 2066.205867770255 m\n",
      "[[[124.21690019   0.        ]\n",
      "  [124.70339544   1.        ]\n",
      "  [125.18902173   2.        ]\n",
      "  ...\n",
      "  [820.1859415    2.        ]\n",
      "  [819.45768865   1.        ]\n",
      "  [818.72855171   0.        ]]]\n"
     ]
    },
    {
     "name": "stderr",
     "output_type": "stream",
     "text": [
      "\n",
      "\n",
      "t:   9%|██████▏                                                           | 101/1085 [02:02<19:45,  1.21s/it, now=None]\u001b[A\u001b[A"
     ]
    },
    {
     "name": "stdout",
     "output_type": "stream",
     "text": [
      "1201.0355168181406 1163.828453656192\n",
      "1555.5714035546762 m 2021.0813565530718 m\n",
      "[[[124.3900004    0.        ]\n",
      "  [124.87213777   1.        ]\n",
      "  [125.35342075   2.        ]\n",
      "  ...\n",
      "  [837.25666456   2.        ]\n",
      "  [836.55887621   1.        ]\n",
      "  [835.86022119   0.        ]]]\n"
     ]
    },
    {
     "name": "stderr",
     "output_type": "stream",
     "text": [
      "\n",
      "\n",
      "t:   9%|██████▏                                                           | 102/1085 [02:03<19:40,  1.20s/it, now=None]\u001b[A\u001b[A"
     ]
    },
    {
     "name": "stdout",
     "output_type": "stream",
     "text": [
      "1317.1199978981945 1138.0600242069038\n",
      "1668.7195282433383 m 1926.5387138284516 m\n",
      "[[[127.4734466    0.        ]\n",
      "  [127.92438113   1.        ]\n",
      "  [128.37454423   2.        ]\n",
      "  ...\n",
      "  [855.97344088   2.        ]\n",
      "  [855.29794016   1.        ]\n",
      "  [854.62155827   0.        ]]]\n"
     ]
    },
    {
     "name": "stderr",
     "output_type": "stream",
     "text": [
      "\n",
      "\n",
      "t:   9%|██████▎                                                           | 103/1085 [02:04<19:44,  1.21s/it, now=None]\u001b[A\u001b[A"
     ]
    },
    {
     "name": "stdout",
     "output_type": "stream",
     "text": [
      "1355.4033987789949 1026.3293433895633\n",
      "1706.4908945308916 m 1806.7486184330585 m\n",
      "[[[129.59545451   0.        ]\n",
      "  [130.03763808   1.        ]\n",
      "  [130.47907383   2.        ]\n",
      "  ...\n",
      "  [856.31291547   2.        ]\n",
      "  [855.60844002   1.        ]\n",
      "  [854.90299018   0.        ]]]\n"
     ]
    },
    {
     "name": "stderr",
     "output_type": "stream",
     "text": [
      "\n",
      "\n",
      "t:  10%|██████▎                                                           | 104/1085 [02:05<19:46,  1.21s/it, now=None]\u001b[A\u001b[A"
     ]
    },
    {
     "name": "stdout",
     "output_type": "stream",
     "text": [
      "1422.7787027950317 1079.8730719825942\n",
      "1771.6836067190482 m 1781.9010647676391 m\n",
      "[[[130.84473939   0.        ]\n",
      "  [131.27228364   1.        ]\n",
      "  [131.69911783   2.        ]\n",
      "  ...\n",
      "  [879.16810413   2.        ]\n",
      "  [878.51207191   1.        ]\n",
      "  [877.85511356   0.        ]]]\n"
     ]
    },
    {
     "name": "stderr",
     "output_type": "stream",
     "text": [
      "\n",
      "\n",
      "t:  10%|██████▍                                                           | 105/1085 [02:07<19:57,  1.22s/it, now=None]\u001b[A\u001b[A"
     ]
    },
    {
     "name": "stdout",
     "output_type": "stream",
     "text": [
      "1436.799341134754 1136.1270456003892\n",
      "1762.9220703155856 m 1861.6134489980209 m\n",
      "[[[140.89211447   0.        ]\n",
      "  [141.30734858   1.        ]\n",
      "  [141.72187802   2.        ]\n",
      "  ...\n",
      "  [872.22964475   2.        ]\n",
      "  [871.57982634   1.        ]\n",
      "  [870.92912731   0.        ]]]\n"
     ]
    },
    {
     "name": "stderr",
     "output_type": "stream",
     "text": [
      "\n",
      "\n",
      "t:  10%|██████▍                                                           | 106/1085 [02:08<20:00,  1.23s/it, now=None]\u001b[A\u001b[A"
     ]
    },
    {
     "name": "stdout",
     "output_type": "stream",
     "text": [
      "1523.4410543429283 1304.9082917236003\n",
      "1831.805053980744 m 2008.0219971810034 m\n",
      "[[[148.37237709   0.        ]\n",
      "  [148.76453131   1.        ]\n",
      "  [149.15602206   2.        ]\n",
      "  ...\n",
      "  [881.80252161   2.        ]\n",
      "  [881.20081148   1.        ]\n",
      "  [880.59833215   0.        ]]]\n"
     ]
    },
    {
     "name": "stderr",
     "output_type": "stream",
     "text": [
      "\n",
      "\n",
      "t:  10%|██████▌                                                           | 107/1085 [02:09<19:58,  1.23s/it, now=None]\u001b[A\u001b[A"
     ]
    },
    {
     "name": "stdout",
     "output_type": "stream",
     "text": [
      "1557.062268340074 1209.7372710455197\n",
      "1846.1615906387078 m 1904.9067264324356 m\n",
      "[[[155.2096056    0.        ]\n",
      "  [155.5879397    1.        ]\n",
      "  [155.965624     2.        ]\n",
      "  ...\n",
      "  [883.42270836   2.        ]\n",
      "  [882.80389174   1.        ]\n",
      "  [882.18424771   0.        ]]]\n"
     ]
    },
    {
     "name": "stderr",
     "output_type": "stream",
     "text": [
      "\n",
      "\n",
      "t:  10%|██████▌                                                           | 108/1085 [02:10<19:56,  1.22s/it, now=None]\u001b[A\u001b[A"
     ]
    },
    {
     "name": "stdout",
     "output_type": "stream",
     "text": [
      "1479.1841230830464 1171.571471893474\n",
      "1752.3653835785626 m 1904.020725302811 m\n",
      "[[[160.56519424   0.        ]\n",
      "  [160.95020846   1.        ]\n",
      "  [161.33453444   2.        ]\n",
      "  ...\n",
      "  [873.11537846   2.        ]\n",
      "  [872.47171977   1.        ]\n",
      "  [871.82720634   0.        ]]]\n"
     ]
    },
    {
     "name": "stderr",
     "output_type": "stream",
     "text": [
      "\n",
      "\n",
      "t:  10%|██████▋                                                           | 109/1085 [02:11<19:48,  1.22s/it, now=None]\u001b[A\u001b[A"
     ]
    },
    {
     "name": "stdout",
     "output_type": "stream",
     "text": [
      "1570.5772992132618 1299.4821451773876\n",
      "1839.78689557956 m 1954.004639172309 m\n",
      "[[[163.07759545   0.        ]\n",
      "  [163.44521439   1.        ]\n",
      "  [163.81218776   2.        ]\n",
      "  ...\n",
      "  [898.4716564    2.        ]\n",
      "  [897.88970693   1.        ]\n",
      "  [897.30698695   0.        ]]]\n"
     ]
    },
    {
     "name": "stderr",
     "output_type": "stream",
     "text": [
      "\n",
      "\n",
      "t:  10%|██████▋                                                           | 110/1085 [02:13<19:45,  1.22s/it, now=None]\u001b[A\u001b[A"
     ]
    },
    {
     "name": "stdout",
     "output_type": "stream",
     "text": [
      "1587.5685724993486 1166.521770730746\n",
      "1844.9700871613168 m 1828.645332007534 m\n",
      "[[[169.4069293    0.        ]\n",
      "  [169.76678289   1.        ]\n",
      "  [170.12599722   2.        ]\n",
      "  ...\n",
      "  [894.97745957   2.        ]\n",
      "  [894.36191795   1.        ]\n",
      "  [893.74551908   0.        ]]]\n"
     ]
    },
    {
     "name": "stderr",
     "output_type": "stream",
     "text": [
      "\n",
      "\n",
      "t:  10%|██████▊                                                           | 111/1085 [02:14<19:41,  1.21s/it, now=None]\u001b[A\u001b[A"
     ]
    },
    {
     "name": "stdout",
     "output_type": "stream",
     "text": [
      "1681.4039152306682 1312.2259640645905\n",
      "1934.0480568913367 m 1898.4697381737742 m\n",
      "[[[172.58335265   0.        ]\n",
      "  [172.92727072   1.        ]\n",
      "  [173.27058706   2.        ]\n",
      "  ...\n",
      "  [920.33670758   2.        ]\n",
      "  [919.78663679   1.        ]\n",
      "  [919.23580393   0.        ]]]\n"
     ]
    },
    {
     "name": "stderr",
     "output_type": "stream",
     "text": [
      "\n",
      "\n",
      "t:  10%|██████▊                                                           | 112/1085 [02:15<19:43,  1.22s/it, now=None]\u001b[A\u001b[A"
     ]
    },
    {
     "name": "stdout",
     "output_type": "stream",
     "text": [
      "1755.7213614895438 1318.9780073481422\n",
      "2005.6296899547285 m 1850.8226341106053 m\n",
      "[[[173.24842345   0.        ]\n",
      "  [173.58131044   1.        ]\n",
      "  [173.91362235   2.        ]\n",
      "  ...\n",
      "  [939.74598651   2.        ]\n",
      "  [939.22058137   1.        ]\n",
      "  [938.69441766   0.        ]]]\n"
     ]
    },
    {
     "name": "stderr",
     "output_type": "stream",
     "text": [
      "\n",
      "\n",
      "t:  10%|██████▊                                                           | 113/1085 [02:16<19:49,  1.22s/it, now=None]\u001b[A\u001b[A"
     ]
    },
    {
     "name": "stdout",
     "output_type": "stream",
     "text": [
      "1793.2329398300196 1194.48704035117\n",
      "2020.940393839174 m 1723.210337650089 m\n",
      "[[[181.16544345   0.        ]\n",
      "  [181.48389634   1.        ]\n",
      "  [181.80178528   2.        ]\n",
      "  ...\n",
      "  [938.81732245   2.        ]\n",
      "  [938.26432569   1.        ]\n",
      "  [937.71048861   0.        ]]]\n"
     ]
    },
    {
     "name": "stderr",
     "output_type": "stream",
     "text": [
      "\n",
      "\n",
      "t:  11%|██████▉                                                           | 114/1085 [02:18<19:45,  1.22s/it, now=None]\u001b[A\u001b[A"
     ]
    },
    {
     "name": "stdout",
     "output_type": "stream",
     "text": [
      "1851.436163969764 1377.869896534625\n",
      "2070.7323104577263 m 1848.6481892871911 m\n",
      "[[[183.83188398   0.        ]\n",
      "  [184.13976547   1.        ]\n",
      "  [184.44710106   2.        ]\n",
      "  ...\n",
      "  [962.48941046   2.        ]\n",
      "  [962.00194453   1.        ]\n",
      "  [961.51375158   0.        ]]]\n"
     ]
    },
    {
     "name": "stderr",
     "output_type": "stream",
     "text": [
      "\n",
      "\n",
      "t:  11%|██████▉                                                           | 115/1085 [02:19<19:40,  1.22s/it, now=None]\u001b[A\u001b[A"
     ]
    },
    {
     "name": "stdout",
     "output_type": "stream",
     "text": [
      "1937.7816684247537 1104.8277520054114\n",
      "2128.5255300080207 m 1646.0098468496544 m\n",
      "[[[198.63275463   0.        ]\n",
      "  [198.91853238   1.        ]\n",
      "  [199.20378786   2.        ]\n",
      "  ...\n",
      "  [934.98761216   2.        ]\n",
      "  [934.40401864   1.        ]\n",
      "  [933.81951322   0.        ]]]\n"
     ]
    },
    {
     "name": "stderr",
     "output_type": "stream",
     "text": [
      "\n",
      "\n",
      "t:  11%|███████                                                           | 116/1085 [02:20<19:32,  1.21s/it, now=None]\u001b[A\u001b[A"
     ]
    },
    {
     "name": "stdout",
     "output_type": "stream",
     "text": [
      "1976.524742719378 1167.0434605172015\n",
      "2157.1767372329473 m 1691.4703498604335 m\n",
      "[[[201.71613371   0.        ]\n",
      "  [201.99344475   1.        ]\n",
      "  [202.27024359   2.        ]\n",
      "  ...\n",
      "  [944.48458171   2.        ]\n",
      "  [943.92598681   1.        ]\n",
      "  [943.36653049   0.        ]]]\n"
     ]
    },
    {
     "name": "stderr",
     "output_type": "stream",
     "text": [
      "\n",
      "\n",
      "t:  11%|███████                                                           | 117/1085 [02:21<19:29,  1.21s/it, now=None]\u001b[A\u001b[A"
     ]
    },
    {
     "name": "stdout",
     "output_type": "stream",
     "text": [
      "2037.787734416328 1380.9091185162442\n",
      "2187.9927265936353 m 1935.4710716102022 m\n",
      "[[[214.8179337    0.        ]\n",
      "  [215.07566681   1.        ]\n",
      "  [215.33290178   2.        ]\n",
      "  ...\n",
      "  [938.69112761   2.        ]\n",
      "  [938.16809646   1.        ]\n",
      "  [937.64434114   0.        ]]]\n"
     ]
    },
    {
     "name": "stderr",
     "output_type": "stream",
     "text": [
      "\n",
      "\n",
      "t:  11%|███████▏                                                          | 118/1085 [02:22<19:28,  1.21s/it, now=None]\u001b[A\u001b[A"
     ]
    },
    {
     "name": "stdout",
     "output_type": "stream",
     "text": [
      "1866.2822777765896 1508.463508173375\n",
      "2003.4011836838897 m 2065.220666829758 m\n",
      "[[[218.84343297   0.        ]\n",
      "  [219.11349534   1.        ]\n",
      "  [219.38300951   2.        ]\n",
      "  ...\n",
      "  [939.37132041   2.        ]\n",
      "  [938.86887708   1.        ]\n",
      "  [938.36577014   0.        ]]]\n"
     ]
    },
    {
     "name": "stderr",
     "output_type": "stream",
     "text": [
      "\n",
      "\n",
      "t:  11%|███████▏                                                          | 119/1085 [02:24<19:25,  1.21s/it, now=None]\u001b[A\u001b[A"
     ]
    },
    {
     "name": "stdout",
     "output_type": "stream",
     "text": [
      "2063.3996600214105 1705.295262897955\n",
      "2196.0829881779086 m 2262.6275418906507 m\n",
      "[[[222.14963656   0.        ]\n",
      "  [222.39714279   1.        ]\n",
      "  [222.64415608   2.        ]\n",
      "  ...\n",
      "  [946.44958086   2.        ]\n",
      "  [945.97356101   1.        ]\n",
      "  [945.49695222   0.        ]]]\n"
     ]
    },
    {
     "name": "stderr",
     "output_type": "stream",
     "text": [
      "\n",
      "\n",
      "t:  11%|███████▎                                                          | 120/1085 [02:25<19:24,  1.21s/it, now=None]\u001b[A\u001b[A"
     ]
    },
    {
     "name": "stdout",
     "output_type": "stream",
     "text": [
      "1969.735185198259 1465.1897710642986\n",
      "2098.351208732441 m 2037.0030391623036 m\n",
      "[[[224.40333423   0.        ]\n",
      "  [224.65827691   1.        ]\n",
      "  [224.91270138   2.        ]\n",
      "  ...\n",
      "  [936.23038158   2.        ]\n",
      "  [935.71447012   1.        ]\n",
      "  [935.19787547   0.        ]]]\n"
     ]
    },
    {
     "name": "stderr",
     "output_type": "stream",
     "text": [
      "\n",
      "\n",
      "t:  11%|███████▎                                                          | 121/1085 [02:26<19:30,  1.21s/it, now=None]\u001b[A\u001b[A"
     ]
    },
    {
     "name": "stdout",
     "output_type": "stream",
     "text": [
      "1985.9647481492134 1635.287831860676\n",
      "2116.6121950313195 m 2174.458106736675 m\n",
      "[[[223.25175415   0.        ]\n",
      "  [223.50592098   1.        ]\n",
      "  [223.75957429   2.        ]\n",
      "  ...\n",
      "  [949.54104132   2.        ]\n",
      "  [949.06439498   1.        ]\n",
      "  [948.58713588   0.        ]]]\n"
     ]
    },
    {
     "name": "stderr",
     "output_type": "stream",
     "text": [
      "\n",
      "\n",
      "t:  11%|███████▍                                                          | 122/1085 [02:27<19:30,  1.22s/it, now=None]\u001b[A\u001b[A"
     ]
    },
    {
     "name": "stdout",
     "output_type": "stream",
     "text": [
      "2093.9962506295765 1449.832884933677\n",
      "2214.071793092139 m 2018.520209395221 m\n",
      "[[[229.27620681   0.        ]\n",
      "  [229.51527391   1.        ]\n",
      "  [229.75385471   2.        ]\n",
      "  ...\n",
      "  [937.61374025   2.        ]\n",
      "  [937.09667175   1.        ]\n",
      "  [936.57891302   0.        ]]]\n"
     ]
    },
    {
     "name": "stderr",
     "output_type": "stream",
     "text": [
      "\n",
      "\n",
      "t:  11%|███████▍                                                          | 123/1085 [02:28<19:25,  1.21s/it, now=None]\u001b[A\u001b[A"
     ]
    },
    {
     "name": "stdout",
     "output_type": "stream",
     "text": [
      "1977.5582894129227 1755.1434948944152\n",
      "2103.1913094202787 m 2288.855554218034 m\n",
      "[[[224.81084027   0.        ]\n",
      "  [225.06366007   1.        ]\n",
      "  [225.31596358   2.        ]\n",
      "  ...\n",
      "  [952.2810883    2.        ]\n",
      "  [951.82149356   1.        ]\n",
      "  [951.36132698   0.        ]]]\n"
     ]
    },
    {
     "name": "stderr",
     "output_type": "stream",
     "text": [
      "\n",
      "\n",
      "t:  11%|███████▌                                                          | 124/1085 [02:30<19:27,  1.22s/it, now=None]\u001b[A\u001b[A"
     ]
    },
    {
     "name": "stdout",
     "output_type": "stream",
     "text": [
      "2450.57750784162 1538.671834364261\n",
      "2581.0624732905558 m 2060.3195098075144 m\n",
      "[[[227.07073604   0.        ]\n",
      "  [227.28717485   1.        ]\n",
      "  [227.5032017    2.        ]\n",
      "  ...\n",
      "  [952.59084398   2.        ]\n",
      "  [952.10848317   1.        ]\n",
      "  [951.6254722    0.        ]]]\n"
     ]
    },
    {
     "name": "stderr",
     "output_type": "stream",
     "text": [
      "\n",
      "\n",
      "t:  12%|███████▌                                                          | 125/1085 [02:31<19:20,  1.21s/it, now=None]\u001b[A\u001b[A"
     ]
    },
    {
     "name": "stdout",
     "output_type": "stream",
     "text": [
      "2476.144574367973 1621.6190303518495\n",
      "2602.6442665946684 m 2128.665958246941 m\n",
      "[[[227.55273089   0.        ]\n",
      "  [227.76570846   1.        ]\n",
      "  [227.97827829   2.        ]\n",
      "  ...\n",
      "  [957.81759427   2.        ]\n",
      "  [957.35347041   1.        ]\n",
      "  [956.88872945   0.        ]]]\n"
     ]
    },
    {
     "name": "stderr",
     "output_type": "stream",
     "text": [
      "\n",
      "\n",
      "t:  12%|███████▋                                                          | 126/1085 [02:32<19:19,  1.21s/it, now=None]\u001b[A\u001b[A"
     ]
    },
    {
     "name": "stdout",
     "output_type": "stream",
     "text": [
      "2660.634127100271 1643.2993369531862\n",
      "2804.172910570496 m 2115.7576751888264 m\n",
      "[[[222.35027838   0.        ]\n",
      "  [222.56033651   1.        ]\n",
      "  [222.77001664   2.        ]\n",
      "  ...\n",
      "  [969.78656784   2.        ]\n",
      "  [969.34077064   1.        ]\n",
      "  [968.89436483   0.        ]]]\n"
     ]
    },
    {
     "name": "stderr",
     "output_type": "stream",
     "text": [
      "\n",
      "\n",
      "t:  12%|███████▋                                                          | 127/1085 [02:33<19:19,  1.21s/it, now=None]\u001b[A\u001b[A"
     ]
    },
    {
     "name": "stdout",
     "output_type": "stream",
     "text": [
      "3174.652860066049 1777.6624199291546\n",
      "3311.342958072367 m 2255.806531298216 m\n",
      "[[[227.77407876   0.        ]\n",
      "  [227.95780948   1.        ]\n",
      "  [228.14122432   2.        ]\n",
      "  ...\n",
      "  [968.28190812   2.        ]\n",
      "  [967.84992132   1.        ]\n",
      "  [967.41737134   0.        ]]]\n"
     ]
    },
    {
     "name": "stderr",
     "output_type": "stream",
     "text": [
      "\n",
      "\n",
      "t:  12%|███████▊                                                          | 128/1085 [02:34<19:16,  1.21s/it, now=None]\u001b[A\u001b[A"
     ]
    },
    {
     "name": "stdout",
     "output_type": "stream",
     "text": [
      "3317.7526899490776 1835.7222976461271\n",
      "3479.9989019821833 m 2261.577821893104 m\n",
      "[[[217.85437286   0.        ]\n",
      "  [218.04504488   1.        ]\n",
      "  [218.2354152    2.        ]\n",
      "  ...\n",
      "  [986.6237906    2.        ]\n",
      "  [986.22181406   1.        ]\n",
      "  [985.81929267   0.        ]]]\n"
     ]
    },
    {
     "name": "stderr",
     "output_type": "stream",
     "text": [
      "\n",
      "\n",
      "t:  12%|███████▊                                                          | 129/1085 [02:36<19:14,  1.21s/it, now=None]\u001b[A\u001b[A"
     ]
    },
    {
     "name": "stdout",
     "output_type": "stream",
     "text": [
      "3787.144040315336 2329.307706786491\n",
      "3938.866244724791 m 2762.958586672224 m\n",
      "[[[222.29680727   0.        ]\n",
      "  [222.4685097    1.        ]\n",
      "  [222.63994795   2.        ]\n",
      "  ...\n",
      "  [988.18143892   2.        ]\n",
      "  [987.81713492   1.        ]\n",
      "  [987.45239967   0.        ]]]\n"
     ]
    },
    {
     "name": "stderr",
     "output_type": "stream",
     "text": [
      "\n",
      "\n",
      "t:  12%|███████▉                                                          | 130/1085 [02:37<19:14,  1.21s/it, now=None]\u001b[A\u001b[A"
     ]
    },
    {
     "name": "stdout",
     "output_type": "stream",
     "text": [
      "4294.101331945916 3314.9192934898238\n",
      "4428.423170472139 m 3753.710207719694 m\n",
      "[[[228.56828597   0.        ]\n",
      "  [228.72004722   1.        ]\n",
      "  [228.87157551   2.        ]\n",
      "  ...\n",
      "  [992.72372023   2.        ]\n",
      "  [992.40268345   1.        ]\n",
      "  [992.08134035   0.        ]]]\n"
     ]
    },
    {
     "name": "stderr",
     "output_type": "stream",
     "text": [
      "\n",
      "\n",
      "t:  12%|███████▉                                                          | 131/1085 [02:38<19:11,  1.21s/it, now=None]\u001b[A\u001b[A"
     ]
    },
    {
     "name": "stdout",
     "output_type": "stream",
     "text": [
      "4182.6838564149175 5953.025709340944\n",
      "4333.722449051603 m 6368.057315789938 m\n",
      "[[[2.22129297e+02 0.00000000e+00]\n",
      "  [2.22291351e+02 1.00000000e+00]\n",
      "  [2.22453167e+02 2.00000000e+00]\n",
      "  ...\n",
      "  [1.01159319e+03 2.00000000e+00]\n",
      "  [1.01133209e+03 1.00000000e+00]\n",
      "  [1.01107082e+03 0.00000000e+00]]]\n"
     ]
    },
    {
     "name": "stderr",
     "output_type": "stream",
     "text": [
      "\n",
      "\n",
      "t:  12%|████████                                                          | 132/1085 [02:39<19:11,  1.21s/it, now=None]\u001b[A\u001b[A"
     ]
    },
    {
     "name": "stdout",
     "output_type": "stream",
     "text": [
      "4541.626551860948 12463.999573770643\n",
      "4642.697504478189 m 12924.97399464403 m\n",
      "[[[240.59886782   0.        ]\n",
      "  [240.7300011    1.        ]\n",
      "  [240.86091395   2.        ]\n",
      "  ...\n",
      "  [997.76822747   2.        ]\n",
      "  [997.51888365   1.        ]\n",
      "  [997.26945527   0.        ]]]\n"
     ]
    },
    {
     "name": "stderr",
     "output_type": "stream",
     "text": [
      "\n",
      "\n",
      "t:  12%|████████                                                          | 133/1085 [02:40<19:15,  1.21s/it, now=None]\u001b[A\u001b[A"
     ]
    },
    {
     "name": "stdout",
     "output_type": "stream",
     "text": [
      "5946.318691263216 694524.7721507737\n",
      "6060.577910254204 m 694121.3771936665 m\n",
      "[[[2.37571882e+02 0.00000000e+00]\n",
      "  [2.37689874e+02 1.00000000e+00]\n",
      "  [2.37807698e+02 2.00000000e+00]\n",
      "  ...\n",
      "  [1.02217331e+03 2.00000000e+00]\n",
      "  [1.02198221e+03 1.00000000e+00]\n",
      "  [1.02179112e+03 0.00000000e+00]]]\n"
     ]
    },
    {
     "name": "stderr",
     "output_type": "stream",
     "text": [
      "\n",
      "\n",
      "t:  12%|████████▏                                                         | 134/1085 [02:42<19:07,  1.21s/it, now=None]\u001b[A\u001b[A"
     ]
    },
    {
     "name": "stdout",
     "output_type": "stream",
     "text": [
      "5108.031643952701 6442.295155842873\n",
      "5161.104971230062 m 6886.377392063289 m\n",
      "[[[259.62896533   0.        ]\n",
      "  [259.72798134   1.        ]\n",
      "  [259.82680107   2.        ]\n",
      "  ...\n",
      "  [994.77621269   2.        ]\n",
      "  [994.50628769   1.        ]\n",
      "  [994.23620188   0.        ]]]\n"
     ]
    },
    {
     "name": "stderr",
     "output_type": "stream",
     "text": [
      "\n",
      "\n",
      "t:  12%|████████▏                                                         | 135/1085 [02:43<19:04,  1.20s/it, now=None]\u001b[A\u001b[A"
     ]
    },
    {
     "name": "stdout",
     "output_type": "stream",
     "text": [
      "7696.59975899487 4065.7023654557966\n",
      "7728.662065294501 m 4465.776267746181 m\n",
      "[[[2.69174656e+02 0.00000000e+00]\n",
      "  [2.69238802e+02 1.00000000e+00]\n",
      "  [2.69302818e+02 2.00000000e+00]\n",
      "  ...\n",
      "  [1.00262120e+03 2.00000000e+00]\n",
      "  [1.00233850e+03 1.00000000e+00]\n",
      "  [1.00205555e+03 0.00000000e+00]]]\n"
     ]
    },
    {
     "name": "stderr",
     "output_type": "stream",
     "text": [
      "\n",
      "\n",
      "t:  13%|████████▎                                                         | 136/1085 [02:44<19:03,  1.20s/it, now=None]\u001b[A\u001b[A"
     ]
    },
    {
     "name": "stdout",
     "output_type": "stream",
     "text": [
      "9722.237987629123 2333.1508297279656\n",
      "9724.356124765713 m 2738.6700669057896 m\n",
      "[[[281.04119741   0.        ]\n",
      "  [281.08075641   1.        ]\n",
      "  [281.12021237   2.        ]\n",
      "  ...\n",
      "  [991.55981311   2.        ]\n",
      "  [991.20879762   1.        ]\n",
      "  [990.85735236   0.        ]]]\n"
     ]
    },
    {
     "name": "stderr",
     "output_type": "stream",
     "text": [
      "\n",
      "\n",
      "t:  13%|████████▎                                                         | 137/1085 [02:45<19:00,  1.20s/it, now=None]\u001b[A\u001b[A"
     ]
    },
    {
     "name": "stdout",
     "output_type": "stream",
     "text": [
      "9849.753892949868 3590.8761653480256\n",
      "9814.937354057201 m 4015.2971030222852 m\n",
      "[[[294.79934085   0.        ]\n",
      "  [294.82063281   1.        ]\n",
      "  [294.84182284   2.        ]\n",
      "  ...\n",
      "  [990.17017782   2.        ]\n",
      "  [989.86423921   1.        ]\n",
      "  [989.55801769   0.        ]]]\n"
     ]
    },
    {
     "name": "stderr",
     "output_type": "stream",
     "text": [
      "\n",
      "\n",
      "t:  13%|████████▍                                                         | 138/1085 [02:46<19:01,  1.21s/it, now=None]\u001b[A\u001b[A"
     ]
    },
    {
     "name": "stdout",
     "output_type": "stream",
     "text": [
      "16160.27560012049 4225.869186922572\n",
      "16109.56943951221 m 4617.23721130331 m\n",
      "[[[3.02433987e+02 0.00000000e+00]\n",
      "  [3.02432686e+02 1.00000000e+00]\n",
      "  [3.02431322e+02 2.00000000e+00]\n",
      "  ...\n",
      "  [1.00113656e+03 2.00000000e+00]\n",
      "  [1.00086135e+03 1.00000000e+00]\n",
      "  [1.00058591e+03 0.00000000e+00]]]\n"
     ]
    },
    {
     "name": "stderr",
     "output_type": "stream",
     "text": [
      "\n",
      "\n",
      "t:  13%|████████▍                                                         | 139/1085 [02:48<19:02,  1.21s/it, now=None]\u001b[A\u001b[A"
     ]
    },
    {
     "name": "stdout",
     "output_type": "stream",
     "text": [
      "25210.485649104223 3062.0578546491365\n",
      "25108.25821611588 m 3506.1271018623493 m\n",
      "[[[323.45910275   0.        ]\n",
      "  [323.42463675   1.        ]\n",
      "  [323.39013084   2.        ]\n",
      "  ...\n",
      "  [977.53682545   2.        ]\n",
      "  [977.20436665   1.        ]\n",
      "  [976.87157684   0.        ]]]\n"
     ]
    },
    {
     "name": "stderr",
     "output_type": "stream",
     "text": [
      "\n",
      "\n",
      "t:  13%|████████▌                                                         | 140/1085 [02:49<18:58,  1.20s/it, now=None]\u001b[A\u001b[A"
     ]
    },
    {
     "name": "stdout",
     "output_type": "stream",
     "text": [
      "64242.41688992831 3653.771605259404\n",
      "64139.64799139548 m 4040.383429257698 m\n",
      "[[[324.40290777   0.        ]\n",
      "  [324.35910165   1.        ]\n",
      "  [324.3152799    2.        ]\n",
      "  ...\n",
      "  [996.83974875   2.        ]\n",
      "  [996.55331368   1.        ]\n",
      "  [996.26660175   0.        ]]]\n"
     ]
    },
    {
     "name": "stderr",
     "output_type": "stream",
     "text": [
      "\n",
      "\n",
      "t:  13%|████████▌                                                         | 141/1085 [02:50<18:54,  1.20s/it, now=None]\u001b[A\u001b[A"
     ]
    },
    {
     "name": "stdout",
     "output_type": "stream",
     "text": [
      "340480.9133400423 3589.4581439264584\n",
      "340591.54258148646 m 3949.674222787641 m\n",
      "[[[3.27798897e+02 0.00000000e+00]\n",
      "  [3.27744352e+02 1.00000000e+00]\n",
      "  [3.27689810e+02 2.00000000e+00]\n",
      "  ...\n",
      "  [1.00459903e+03 2.00000000e+00]\n",
      "  [1.00432326e+03 1.00000000e+00]\n",
      "  [1.00404722e+03 0.00000000e+00]]]\n"
     ]
    },
    {
     "name": "stderr",
     "output_type": "stream",
     "text": [
      "\n",
      "\n",
      "t:  13%|████████▋                                                         | 142/1085 [02:51<18:51,  1.20s/it, now=None]\u001b[A\u001b[A"
     ]
    },
    {
     "name": "stdout",
     "output_type": "stream",
     "text": [
      "35251.28564807044 3194.4439280908823\n",
      "35364.9001088739 m 3490.995331467752 m\n",
      "[[[3.28792916e+02 0.00000000e+00]\n",
      "  [3.28727397e+02 1.00000000e+00]\n",
      "  [3.28661907e+02 2.00000000e+00]\n",
      "  ...\n",
      "  [1.02173381e+03 2.00000000e+00]\n",
      "  [1.02147561e+03 1.00000000e+00]\n",
      "  [1.02121710e+03 0.00000000e+00]]]\n"
     ]
    },
    {
     "name": "stderr",
     "output_type": "stream",
     "text": [
      "\n",
      "\n",
      "t:  13%|████████▋                                                         | 143/1085 [02:52<18:49,  1.20s/it, now=None]\u001b[A\u001b[A"
     ]
    },
    {
     "name": "stdout",
     "output_type": "stream",
     "text": [
      "91878.0972183579 2473.922940721323\n",
      "91982.86106031791 m 2711.2688847150653 m\n",
      "[[[3.25449540e+02 0.00000000e+00]\n",
      "  [3.25394841e+02 1.00000000e+00]\n",
      "  [3.25340152e+02 2.00000000e+00]\n",
      "  ...\n",
      "  [1.03306150e+03 2.00000000e+00]\n",
      "  [1.03279756e+03 1.00000000e+00]\n",
      "  [1.03253322e+03 0.00000000e+00]]]\n"
     ]
    },
    {
     "name": "stderr",
     "output_type": "stream",
     "text": [
      "\n",
      "\n",
      "t:  13%|████████▊                                                         | 144/1085 [02:54<18:48,  1.20s/it, now=None]\u001b[A\u001b[A"
     ]
    },
    {
     "name": "stdout",
     "output_type": "stream",
     "text": [
      "127509.9641069175 1629.0715407658513\n",
      "127666.09836753723 m 1912.3465903866427 m\n",
      "[[[3.43448094e+02 0.00000000e+00]\n",
      "  [3.43369819e+02 1.00000000e+00]\n",
      "  [3.43291553e+02 2.00000000e+00]\n",
      "  ...\n",
      "  [1.00332640e+03 2.00000000e+00]\n",
      "  [1.00296230e+03 1.00000000e+00]\n",
      "  [1.00259758e+03 0.00000000e+00]]]\n"
     ]
    },
    {
     "name": "stderr",
     "output_type": "stream",
     "text": [
      "\n",
      "\n",
      "t:  13%|████████▊                                                         | 145/1085 [02:55<18:49,  1.20s/it, now=None]\u001b[A\u001b[A"
     ]
    },
    {
     "name": "stdout",
     "output_type": "stream",
     "text": [
      "17441.5979918166 1638.1961912690022\n",
      "17602.518654068408 m 1875.6273944783989 m\n",
      "[[[3.46573222e+02 0.00000000e+00]\n",
      "  [3.46474074e+02 1.00000000e+00]\n",
      "  [3.46374983e+02 2.00000000e+00]\n",
      "  ...\n",
      "  [1.01855497e+03 2.00000000e+00]\n",
      "  [1.01821207e+03 1.00000000e+00]\n",
      "  [1.01786854e+03 0.00000000e+00]]]\n"
     ]
    },
    {
     "name": "stderr",
     "output_type": "stream",
     "text": [
      "\n",
      "\n",
      "t:  13%|████████▉                                                         | 146/1085 [02:56<18:50,  1.20s/it, now=None]\u001b[A\u001b[A"
     ]
    },
    {
     "name": "stdout",
     "output_type": "stream",
     "text": [
      "27496.193933688162 2086.0091146014074\n",
      "27691.029179656034 m 2376.3356072435354 m\n",
      "[[[3.57564699e+02 0.00000000e+00]\n",
      "  [3.57457128e+02 1.00000000e+00]\n",
      "  [3.57349595e+02 2.00000000e+00]\n",
      "  ...\n",
      "  [1.01225973e+03 2.00000000e+00]\n",
      "  [1.01194339e+03 1.00000000e+00]\n",
      "  [1.01162658e+03 0.00000000e+00]]]\n"
     ]
    },
    {
     "name": "stderr",
     "output_type": "stream",
     "text": [
      "\n",
      "\n",
      "t:  14%|████████▉                                                         | 147/1085 [02:57<18:48,  1.20s/it, now=None]\u001b[A\u001b[A"
     ]
    },
    {
     "name": "stdout",
     "output_type": "stream",
     "text": [
      "14617.449364866183 2164.495385949562\n",
      "14807.79025978055 m 2419.1272968160974 m\n",
      "[[[3.57290667e+02 0.00000000e+00]\n",
      "  [3.57173235e+02 1.00000000e+00]\n",
      "  [3.57055872e+02 2.00000000e+00]\n",
      "  ...\n",
      "  [1.02669928e+03 2.00000000e+00]\n",
      "  [1.02640579e+03 1.00000000e+00]\n",
      "  [1.02611182e+03 0.00000000e+00]]]\n"
     ]
    },
    {
     "name": "stderr",
     "output_type": "stream",
     "text": [
      "\n",
      "\n",
      "t:  14%|█████████                                                         | 148/1085 [02:59<18:44,  1.20s/it, now=None]\u001b[A\u001b[A"
     ]
    },
    {
     "name": "stdout",
     "output_type": "stream",
     "text": [
      "13505.984428450849 2181.9630254505846\n",
      "13701.983938480485 m 2450.231867832534 m\n",
      "[[[3.58723766e+02 0.00000000e+00]\n",
      "  [3.58601513e+02 1.00000000e+00]\n",
      "  [3.58479334e+02 2.00000000e+00]\n",
      "  ...\n",
      "  [1.02553464e+03 2.00000000e+00]\n",
      "  [1.02523627e+03 1.00000000e+00]\n",
      "  [1.02493743e+03 0.00000000e+00]]]\n"
     ]
    },
    {
     "name": "stderr",
     "output_type": "stream",
     "text": [
      "\n",
      "\n",
      "t:  14%|█████████                                                         | 149/1085 [03:00<18:49,  1.21s/it, now=None]\u001b[A\u001b[A"
     ]
    },
    {
     "name": "stdout",
     "output_type": "stream",
     "text": [
      "9323.293757762116 2716.412069002312\n",
      "9527.924767676484 m 2960.174849639349 m\n",
      "[[[3.63542083e+02 0.00000000e+00]\n",
      "  [3.63403295e+02 1.00000000e+00]\n",
      "  [3.63264615e+02 2.00000000e+00]\n",
      "  ...\n",
      "  [1.03644350e+03 2.00000000e+00]\n",
      "  [1.03618995e+03 1.00000000e+00]\n",
      "  [1.03593604e+03 0.00000000e+00]]]\n"
     ]
    },
    {
     "name": "stderr",
     "output_type": "stream",
     "text": [
      "\n",
      "\n",
      "t:  14%|█████████                                                         | 150/1085 [03:01<18:53,  1.21s/it, now=None]\u001b[A\u001b[A"
     ]
    },
    {
     "name": "stdout",
     "output_type": "stream",
     "text": [
      "11009.590570775803 2399.2012506794968\n",
      "11189.382791720955 m 2583.4633013094553 m\n",
      "[[[3.52211748e+02 0.00000000e+00]\n",
      "  [3.52091014e+02 1.00000000e+00]\n",
      "  [3.51970372e+02 2.00000000e+00]\n",
      "  ...\n",
      "  [1.05614774e+03 2.00000000e+00]\n",
      "  [1.05590365e+03 1.00000000e+00]\n",
      "  [1.05565913e+03 0.00000000e+00]]]\n"
     ]
    },
    {
     "name": "stderr",
     "output_type": "stream",
     "text": [
      "\n",
      "\n",
      "t:  14%|█████████▏                                                        | 151/1085 [03:02<18:48,  1.21s/it, now=None]\u001b[A\u001b[A"
     ]
    },
    {
     "name": "stdout",
     "output_type": "stream",
     "text": [
      "10332.12031010731 3277.9021060602927\n",
      "10528.668096258378 m 3472.8636528359807 m\n",
      "[[[3.58461161e+02 0.00000000e+00]\n",
      "  [3.58330155e+02 1.00000000e+00]\n",
      "  [3.58199247e+02 2.00000000e+00]\n",
      "  ...\n",
      "  [1.05769886e+03 2.00000000e+00]\n",
      "  [1.05749165e+03 1.00000000e+00]\n",
      "  [1.05728414e+03 0.00000000e+00]]]\n"
     ]
    },
    {
     "name": "stderr",
     "output_type": "stream",
     "text": [
      "\n",
      "\n",
      "t:  14%|█████████▏                                                        | 152/1085 [03:03<18:46,  1.21s/it, now=None]\u001b[A\u001b[A"
     ]
    },
    {
     "name": "stdout",
     "output_type": "stream",
     "text": [
      "12204.192283676119 5576.673373049948\n",
      "12410.593622067678 m 5757.2857462399 m\n",
      "[[[3.60133077e+02 0.00000000e+00]\n",
      "  [3.60002882e+02 1.00000000e+00]\n",
      "  [3.59872769e+02 2.00000000e+00]\n",
      "  ...\n",
      "  [1.06764217e+03 2.00000000e+00]\n",
      "  [1.06748835e+03 1.00000000e+00]\n",
      "  [1.06733434e+03 0.00000000e+00]]]\n"
     ]
    },
    {
     "name": "stderr",
     "output_type": "stream",
     "text": [
      "\n",
      "\n",
      "t:  14%|█████████▎                                                        | 153/1085 [03:05<18:43,  1.21s/it, now=None]\u001b[A\u001b[A"
     ]
    },
    {
     "name": "stdout",
     "output_type": "stream",
     "text": [
      "10586.511149411906 4917.500420120158\n",
      "10782.808359222852 m 5071.947651584128 m\n",
      "[[[3.55538593e+02 0.00000000e+00]\n",
      "  [3.55408574e+02 1.00000000e+00]\n",
      "  [3.55278650e+02 2.00000000e+00]\n",
      "  ...\n",
      "  [1.07778020e+03 2.00000000e+00]\n",
      "  [1.07763002e+03 1.00000000e+00]\n",
      "  [1.07747964e+03 0.00000000e+00]]]\n"
     ]
    },
    {
     "name": "stderr",
     "output_type": "stream",
     "text": [
      "\n",
      "\n",
      "t:  14%|█████████▎                                                        | 154/1085 [03:06<18:40,  1.20s/it, now=None]\u001b[A\u001b[A"
     ]
    },
    {
     "name": "stdout",
     "output_type": "stream",
     "text": [
      "11956.808470454256 9008.425096136538\n",
      "12154.36331645959 m 9162.788252241087 m\n",
      "[[[3.54561962e+02 0.00000000e+00]\n",
      "  [3.54435378e+02 1.00000000e+00]\n",
      "  [3.54308879e+02 2.00000000e+00]\n",
      "  ...\n",
      "  [1.08394772e+03 2.00000000e+00]\n",
      "  [1.08383182e+03 1.00000000e+00]\n",
      "  [1.08371581e+03 0.00000000e+00]]]\n"
     ]
    },
    {
     "name": "stderr",
     "output_type": "stream",
     "text": [
      "\n",
      "\n",
      "t:  14%|█████████▍                                                        | 155/1085 [03:07<18:41,  1.21s/it, now=None]\u001b[A\u001b[A"
     ]
    },
    {
     "name": "stdout",
     "output_type": "stream",
     "text": [
      "11297.426104591752 12803.693038325202\n",
      "11460.839736363143 m 12920.765373302693 m\n",
      "[[[3.40868870e+02 0.00000000e+00]\n",
      "  [3.40756878e+02 1.00000000e+00]\n",
      "  [3.40644976e+02 2.00000000e+00]\n",
      "  ...\n",
      "  [1.10679929e+03 2.00000000e+00]\n",
      "  [1.10671359e+03 1.00000000e+00]\n",
      "  [1.10662782e+03 0.00000000e+00]]]\n"
     ]
    },
    {
     "name": "stderr",
     "output_type": "stream",
     "text": [
      "\n",
      "\n",
      "t:  14%|█████████▍                                                        | 156/1085 [03:08<18:38,  1.20s/it, now=None]\u001b[A\u001b[A"
     ]
    },
    {
     "name": "stdout",
     "output_type": "stream",
     "text": [
      "9096.005891149822 302794.79835901764\n",
      "9295.940529489262 m 302954.9329129318 m\n",
      "[[[3.54809586e+02 0.00000000e+00]\n",
      "  [3.54672055e+02 1.00000000e+00]\n",
      "  [3.54534634e+02 2.00000000e+00]\n",
      "  ...\n",
      "  [1.09537458e+03 2.00000000e+00]\n",
      "  [1.09529610e+03 1.00000000e+00]\n",
      "  [1.09521762e+03 0.00000000e+00]]]\n"
     ]
    },
    {
     "name": "stderr",
     "output_type": "stream",
     "text": [
      "\n",
      "\n",
      "t:  14%|█████████▌                                                        | 157/1085 [03:09<18:41,  1.21s/it, now=None]\u001b[A\u001b[A"
     ]
    },
    {
     "name": "stdout",
     "output_type": "stream",
     "text": [
      "13190.105348847199 8737.320703301055\n",
      "13412.7896347518 m 8910.402954095776 m\n",
      "[[[3.60708888e+02 0.00000000e+00]\n",
      "  [3.60573180e+02 1.00000000e+00]\n",
      "  [3.60437548e+02 2.00000000e+00]\n",
      "  ...\n",
      "  [1.08173952e+03 2.00000000e+00]\n",
      "  [1.08161333e+03 1.00000000e+00]\n",
      "  [1.08148703e+03 0.00000000e+00]]]\n"
     ]
    },
    {
     "name": "stderr",
     "output_type": "stream",
     "text": [
      "\n",
      "\n",
      "t:  15%|█████████▌                                                        | 158/1085 [03:11<18:39,  1.21s/it, now=None]\u001b[A\u001b[A"
     ]
    },
    {
     "name": "stdout",
     "output_type": "stream",
     "text": [
      "14731.87676198667 3023.488304436118\n",
      "15009.143900382041 m 3255.7431224968955 m\n",
      "[[[3.80205296e+02 0.00000000e+00]\n",
      "  [3.80046530e+02 1.00000000e+00]\n",
      "  [3.79887833e+02 2.00000000e+00]\n",
      "  ...\n",
      "  [1.04526360e+03 2.00000000e+00]\n",
      "  [1.04502928e+03 1.00000000e+00]\n",
      "  [1.04479462e+03 0.00000000e+00]]]\n"
     ]
    },
    {
     "name": "stderr",
     "output_type": "stream",
     "text": [
      "\n",
      "\n",
      "t:  15%|█████████▋                                                        | 159/1085 [03:12<18:45,  1.22s/it, now=None]\u001b[A\u001b[A"
     ]
    },
    {
     "name": "stdout",
     "output_type": "stream",
     "text": [
      "26983.17966713654 5085.227504382753\n",
      "27277.428500275266 m 5327.0594036669545 m\n",
      "[[[3.84799238e+02 0.00000000e+00]\n",
      "  [3.84644095e+02 1.00000000e+00]\n",
      "  [3.84488990e+02 2.00000000e+00]\n",
      "  ...\n",
      "  [1.04650795e+03 2.00000000e+00]\n",
      "  [1.04631841e+03 1.00000000e+00]\n",
      "  [1.04612866e+03 0.00000000e+00]]]\n"
     ]
    },
    {
     "name": "stderr",
     "output_type": "stream",
     "text": [
      "\n",
      "\n",
      "t:  15%|█████████▋                                                        | 160/1085 [03:13<18:43,  1.22s/it, now=None]\u001b[A\u001b[A"
     ]
    },
    {
     "name": "stdout",
     "output_type": "stream",
     "text": [
      "18826.494955919086 5435.698532440531\n",
      "19112.881859514266 m 5664.8795420913875 m\n",
      "[[[3.83388295e+02 0.00000000e+00]\n",
      "  [3.83230776e+02 1.00000000e+00]\n",
      "  [3.83073312e+02 2.00000000e+00]\n",
      "  ...\n",
      "  [1.05201060e+03 2.00000000e+00]\n",
      "  [1.05183178e+03 1.00000000e+00]\n",
      "  [1.05165277e+03 0.00000000e+00]]]\n"
     ]
    },
    {
     "name": "stderr",
     "output_type": "stream",
     "text": [
      "\n",
      "\n",
      "t:  15%|█████████▊                                                        | 161/1085 [03:14<18:40,  1.21s/it, now=None]\u001b[A\u001b[A"
     ]
    },
    {
     "name": "stdout",
     "output_type": "stream",
     "text": [
      "12422.52767255062 9933.768831793506\n",
      "12697.311093353288 m 10154.100004310769 m\n",
      "[[[3.83195957e+02 0.00000000e+00]\n",
      "  [3.83033626e+02 1.00000000e+00]\n",
      "  [3.82871377e+02 2.00000000e+00]\n",
      "  ...\n",
      "  [1.05905719e+03 2.00000000e+00]\n",
      "  [1.05891342e+03 1.00000000e+00]\n",
      "  [1.05876956e+03 0.00000000e+00]]]\n"
     ]
    },
    {
     "name": "stderr",
     "output_type": "stream",
     "text": [
      "\n",
      "\n",
      "t:  15%|█████████▊                                                        | 162/1085 [03:15<18:37,  1.21s/it, now=None]\u001b[A\u001b[A"
     ]
    },
    {
     "name": "stdout",
     "output_type": "stream",
     "text": [
      "12664.248239324143 3858.536266732483\n",
      "12884.106924386617 m 3996.424692913242 m\n",
      "[[[3.63264575e+02 0.00000000e+00]\n",
      "  [3.63129042e+02 1.00000000e+00]\n",
      "  [3.62993589e+02 2.00000000e+00]\n",
      "  ...\n",
      "  [1.08229630e+03 2.00000000e+00]\n",
      "  [1.08213327e+03 1.00000000e+00]\n",
      "  [1.08196997e+03 0.00000000e+00]]]\n"
     ]
    },
    {
     "name": "stderr",
     "output_type": "stream",
     "text": [
      "\n",
      "\n",
      "t:  15%|█████████▉                                                        | 163/1085 [03:17<18:32,  1.21s/it, now=None]\u001b[A\u001b[A"
     ]
    },
    {
     "name": "stdout",
     "output_type": "stream",
     "text": [
      "12342.156063897279 5755.820434481463\n",
      "12569.790530718827 m 5879.635790412232 m\n",
      "[[[3.65363718e+02 0.00000000e+00]\n",
      "  [3.65223692e+02 1.00000000e+00]\n",
      "  [3.65083747e+02 2.00000000e+00]\n",
      "  ...\n",
      "  [1.09128495e+03 2.00000000e+00]\n",
      "  [1.09116047e+03 1.00000000e+00]\n",
      "  [1.09103581e+03 0.00000000e+00]]]\n"
     ]
    },
    {
     "name": "stderr",
     "output_type": "stream",
     "text": [
      "\n",
      "\n",
      "t:  15%|█████████▉                                                        | 164/1085 [03:18<18:34,  1.21s/it, now=None]\u001b[A\u001b[A"
     ]
    },
    {
     "name": "stdout",
     "output_type": "stream",
     "text": [
      "10523.50236279795 9096.21779359906\n",
      "10746.935172028418 m 9199.947626406036 m\n",
      "[[[3.64792226e+02 0.00000000e+00]\n",
      "  [3.64648980e+02 1.00000000e+00]\n",
      "  [3.64505830e+02 2.00000000e+00]\n",
      "  ...\n",
      "  [1.10028104e+03 2.00000000e+00]\n",
      "  [1.10018994e+03 1.00000000e+00]\n",
      "  [1.10009874e+03 0.00000000e+00]]]\n"
     ]
    },
    {
     "name": "stderr",
     "output_type": "stream",
     "text": [
      "\n",
      "\n",
      "t:  15%|██████████                                                        | 165/1085 [03:19<18:33,  1.21s/it, now=None]\u001b[A\u001b[A"
     ]
    },
    {
     "name": "stdout",
     "output_type": "stream",
     "text": [
      "19099.654821075786 9840.241995131073\n",
      "19335.73374827435 m 9946.203596516767 m\n",
      "[[[3.66798669e+02 0.00000000e+00]\n",
      "  [3.66665362e+02 1.00000000e+00]\n",
      "  [3.66532108e+02 2.00000000e+00]\n",
      "  ...\n",
      "  [1.09988781e+03 2.00000000e+00]\n",
      "  [1.09979873e+03 1.00000000e+00]\n",
      "  [1.09970955e+03 0.00000000e+00]]]\n"
     ]
    },
    {
     "name": "stderr",
     "output_type": "stream",
     "text": [
      "\n",
      "\n",
      "t:  15%|██████████                                                        | 166/1085 [03:20<18:32,  1.21s/it, now=None]\u001b[A\u001b[A"
     ]
    },
    {
     "name": "stdout",
     "output_type": "stream",
     "text": [
      "20614.406582732416 29706.928390253335\n",
      "20879.191424160097 m 29564.930651471488 m\n",
      "[[[3.77687685e+02 0.00000000e+00]\n",
      "  [3.77542159e+02 1.00000000e+00]\n",
      "  [3.77396683e+02 2.00000000e+00]\n",
      "  ...\n",
      "  [1.09329140e+03 2.00000000e+00]\n",
      "  [1.09323554e+03 1.00000000e+00]\n",
      "  [1.09317973e+03 0.00000000e+00]]]\n"
     ]
    },
    {
     "name": "stderr",
     "output_type": "stream",
     "text": [
      "\n",
      "\n",
      "t:  15%|██████████▏                                                       | 167/1085 [03:21<18:27,  1.21s/it, now=None]\u001b[A\u001b[A"
     ]
    },
    {
     "name": "stdout",
     "output_type": "stream",
     "text": [
      "37343.57200441953 5533.459963756113\n",
      "37607.80760749891 m 5649.713241826082 m\n",
      "[[[3.77027213e+02 0.00000000e+00]\n",
      "  [3.76890184e+02 1.00000000e+00]\n",
      "  [3.76753183e+02 2.00000000e+00]\n",
      "  ...\n",
      "  [1.08787356e+03 2.00000000e+00]\n",
      "  [1.08775011e+03 1.00000000e+00]\n",
      "  [1.08762647e+03 0.00000000e+00]]]\n"
     ]
    },
    {
     "name": "stderr",
     "output_type": "stream",
     "text": [
      "\n",
      "\n",
      "t:  15%|██████████▏                                                       | 168/1085 [03:23<18:23,  1.20s/it, now=None]\u001b[A\u001b[A"
     ]
    },
    {
     "name": "stdout",
     "output_type": "stream",
     "text": [
      "93857.24586037877 2158.2263355591285\n",
      "93558.35055617194 m 2317.4734255279254 m\n",
      "[[[3.89243542e+02 0.00000000e+00]\n",
      "  [3.89104521e+02 1.00000000e+00]\n",
      "  [3.88965490e+02 2.00000000e+00]\n",
      "  ...\n",
      "  [1.05366267e+03 2.00000000e+00]\n",
      "  [1.05341210e+03 1.00000000e+00]\n",
      "  [1.05316107e+03 0.00000000e+00]]]\n"
     ]
    },
    {
     "name": "stderr",
     "output_type": "stream",
     "text": [
      "\n",
      "\n",
      "t:  16%|██████████▎                                                       | 169/1085 [03:24<18:25,  1.21s/it, now=None]\u001b[A\u001b[A"
     ]
    },
    {
     "name": "stdout",
     "output_type": "stream",
     "text": [
      "27811.06253454062 2473.370905478404\n",
      "27535.798950955694 m 2595.332663815875 m\n",
      "[[[3.79180898e+02 0.00000000e+00]\n",
      "  [3.79062764e+02 1.00000000e+00]\n",
      "  [3.78944592e+02 2.00000000e+00]\n",
      "  ...\n",
      "  [1.06993978e+03 2.00000000e+00]\n",
      "  [1.06972912e+03 1.00000000e+00]\n",
      "  [1.06951805e+03 0.00000000e+00]]]\n"
     ]
    },
    {
     "name": "stderr",
     "output_type": "stream",
     "text": [
      "\n",
      "\n",
      "t:  16%|██████████▎                                                       | 170/1085 [03:25<18:23,  1.21s/it, now=None]\u001b[A\u001b[A"
     ]
    },
    {
     "name": "stdout",
     "output_type": "stream",
     "text": [
      "18726.90093790025 3017.1054473587715\n",
      "18478.48368437714 m 3119.7842245029506 m\n",
      "[[[3.68965567e+02 0.00000000e+00]\n",
      "  [3.68866805e+02 1.00000000e+00]\n",
      "  [3.68767987e+02 2.00000000e+00]\n",
      "  ...\n",
      "  [1.08285630e+03 2.00000000e+00]\n",
      "  [1.08268259e+03 1.00000000e+00]\n",
      "  [1.08250855e+03 0.00000000e+00]]]\n"
     ]
    },
    {
     "name": "stderr",
     "output_type": "stream",
     "text": [
      "\n",
      "\n",
      "t:  16%|██████████▍                                                       | 171/1085 [03:26<18:25,  1.21s/it, now=None]\u001b[A\u001b[A"
     ]
    },
    {
     "name": "stdout",
     "output_type": "stream",
     "text": [
      "15520.429563269132 2809.3070836549664\n",
      "15292.192940193878 m 2895.330966153809 m\n",
      "[[[3.62284544e+02 0.00000000e+00]\n",
      "  [3.62199552e+02 1.00000000e+00]\n",
      "  [3.62114493e+02 2.00000000e+00]\n",
      "  ...\n",
      "  [1.08730429e+03 2.00000000e+00]\n",
      "  [1.08712889e+03 1.00000000e+00]\n",
      "  [1.08695314e+03 0.00000000e+00]]]\n"
     ]
    },
    {
     "name": "stderr",
     "output_type": "stream",
     "text": [
      "\n",
      "\n",
      "t:  16%|██████████▍                                                       | 172/1085 [03:28<18:23,  1.21s/it, now=None]\u001b[A\u001b[A"
     ]
    },
    {
     "name": "stdout",
     "output_type": "stream",
     "text": [
      "13095.185392719697 3761.6050408872825\n",
      "12889.745078368767 m 3809.0728195765455 m\n",
      "[[[3.53234448e+02 0.00000000e+00]\n",
      "  [3.53164820e+02 1.00000000e+00]\n",
      "  [3.53095114e+02 2.00000000e+00]\n",
      "  ...\n",
      "  [1.10646731e+03 2.00000000e+00]\n",
      "  [1.10634458e+03 1.00000000e+00]\n",
      "  [1.10622158e+03 0.00000000e+00]]]\n"
     ]
    },
    {
     "name": "stderr",
     "output_type": "stream",
     "text": [
      "\n",
      "\n",
      "t:  16%|██████████▌                                                       | 173/1085 [03:29<18:21,  1.21s/it, now=None]\u001b[A\u001b[A"
     ]
    },
    {
     "name": "stdout",
     "output_type": "stream",
     "text": [
      "19057.361067225742 2786.174874472428\n",
      "18837.81553386588 m 2870.5733050438566 m\n",
      "[[[3.61158328e+02 0.00000000e+00]\n",
      "  [3.61072804e+02 1.00000000e+00]\n",
      "  [3.60987226e+02 2.00000000e+00]\n",
      "  ...\n",
      "  [1.08999570e+03 2.00000000e+00]\n",
      "  [1.08981991e+03 1.00000000e+00]\n",
      "  [1.08964376e+03 0.00000000e+00]]]\n"
     ]
    },
    {
     "name": "stderr",
     "output_type": "stream",
     "text": [
      "\n",
      "\n",
      "t:  16%|██████████▌                                                       | 174/1085 [03:30<18:23,  1.21s/it, now=None]\u001b[A\u001b[A"
     ]
    },
    {
     "name": "stdout",
     "output_type": "stream",
     "text": [
      "13120.996098130365 3027.7770281276466\n",
      "12928.869699222394 m 3073.8792605810586 m\n",
      "[[[3.49626524e+02 0.00000000e+00]\n",
      "  [3.49563122e+02 1.00000000e+00]\n",
      "  [3.49499641e+02 2.00000000e+00]\n",
      "  ...\n",
      "  [1.10660809e+03 2.00000000e+00]\n",
      "  [1.10646115e+03 1.00000000e+00]\n",
      "  [1.10631387e+03 0.00000000e+00]]]\n"
     ]
    },
    {
     "name": "stderr",
     "output_type": "stream",
     "text": [
      "\n",
      "\n",
      "t:  16%|██████████▋                                                       | 175/1085 [03:31<18:19,  1.21s/it, now=None]\u001b[A\u001b[A"
     ]
    },
    {
     "name": "stdout",
     "output_type": "stream",
     "text": [
      "13689.803584345462 4577.236079987392\n",
      "13480.620182969455 m 4657.986494574253 m\n",
      "[[[3.56247342e+02 0.00000000e+00]\n",
      "  [3.56174664e+02 1.00000000e+00]\n",
      "  [3.56101911e+02 2.00000000e+00]\n",
      "  ...\n",
      "  [1.10086954e+03 2.00000000e+00]\n",
      "  [1.10074896e+03 1.00000000e+00]\n",
      "  [1.10062817e+03 0.00000000e+00]]]\n"
     ]
    },
    {
     "name": "stderr",
     "output_type": "stream",
     "text": [
      "\n",
      "\n",
      "t:  16%|██████████▋                                                       | 176/1085 [03:32<18:21,  1.21s/it, now=None]\u001b[A\u001b[A"
     ]
    },
    {
     "name": "stdout",
     "output_type": "stream",
     "text": [
      "23651.14680364745 3495.370862633136\n",
      "23461.770724492202 m 3541.1794536061384 m\n",
      "[[[3.50328829e+02 0.00000000e+00]\n",
      "  [3.50253684e+02 1.00000000e+00]\n",
      "  [3.50178496e+02 2.00000000e+00]\n",
      "  ...\n",
      "  [1.11071055e+03 2.00000000e+00]\n",
      "  [1.11058084e+03 1.00000000e+00]\n",
      "  [1.11045084e+03 0.00000000e+00]]]\n"
     ]
    },
    {
     "name": "stderr",
     "output_type": "stream",
     "text": [
      "\n",
      "\n",
      "t:  16%|██████████▊                                                       | 177/1085 [03:34<18:14,  1.21s/it, now=None]\u001b[A\u001b[A"
     ]
    },
    {
     "name": "stdout",
     "output_type": "stream",
     "text": [
      "16482.43767245897 5569.0017895943965\n",
      "16289.076682924517 m 5616.976852848688 m\n",
      "[[[3.50862035e+02 0.00000000e+00]\n",
      "  [3.50792055e+02 1.00000000e+00]\n",
      "  [3.50722012e+02 2.00000000e+00]\n",
      "  ...\n",
      "  [1.11432021e+03 2.00000000e+00]\n",
      "  [1.11422992e+03 1.00000000e+00]\n",
      "  [1.11413946e+03 0.00000000e+00]]]\n"
     ]
    },
    {
     "name": "stderr",
     "output_type": "stream",
     "text": [
      "\n",
      "\n",
      "t:  16%|██████████▊                                                       | 178/1085 [03:35<18:11,  1.20s/it, now=None]\u001b[A\u001b[A"
     ]
    },
    {
     "name": "stdout",
     "output_type": "stream",
     "text": [
      "22026.20376930724 7232.955550804291\n",
      "21834.31597532549 m 7276.546887676557 m\n",
      "[[[3.50943466e+02 0.00000000e+00]\n",
      "  [3.50868321e+02 1.00000000e+00]\n",
      "  [3.50793131e+02 2.00000000e+00]\n",
      "  ...\n",
      "  [1.11710054e+03 2.00000000e+00]\n",
      "  [1.11702786e+03 1.00000000e+00]\n",
      "  [1.11695504e+03 0.00000000e+00]]]\n"
     ]
    },
    {
     "name": "stderr",
     "output_type": "stream",
     "text": [
      "\n",
      "\n",
      "t:  16%|██████████▉                                                       | 179/1085 [03:36<18:11,  1.20s/it, now=None]\u001b[A\u001b[A"
     ]
    },
    {
     "name": "stdout",
     "output_type": "stream",
     "text": [
      "23916.165719147524 7491.928612977643\n",
      "23744.57529650482 m 7484.936635417458 m\n",
      "[[[3.42634307e+02 0.00000000e+00]\n",
      "  [3.42567449e+02 1.00000000e+00]\n",
      "  [3.42500549e+02 2.00000000e+00]\n",
      "  ...\n",
      "  [1.13513524e+03 2.00000000e+00]\n",
      "  [1.13508865e+03 1.00000000e+00]\n",
      "  [1.13504193e+03 0.00000000e+00]]]\n"
     ]
    },
    {
     "name": "stderr",
     "output_type": "stream",
     "text": [
      "\n",
      "\n",
      "t:  17%|██████████▉                                                       | 180/1085 [03:37<18:11,  1.21s/it, now=None]\u001b[A\u001b[A"
     ]
    },
    {
     "name": "stdout",
     "output_type": "stream",
     "text": [
      "70590.31431770504 9807.540609276753\n",
      "70778.7722313946 m 9830.357003558636 m\n",
      "[[[3.50938532e+02 0.00000000e+00]\n",
      "  [3.50842381e+02 1.00000000e+00]\n",
      "  [3.50746244e+02 2.00000000e+00]\n",
      "  ...\n",
      "  [1.12717123e+03 2.00000000e+00]\n",
      "  [1.12712214e+03 1.00000000e+00]\n",
      "  [1.12707294e+03 0.00000000e+00]]]\n"
     ]
    },
    {
     "name": "stderr",
     "output_type": "stream",
     "text": [
      "\n",
      "\n",
      "t:  17%|███████████                                                       | 181/1085 [03:38<18:09,  1.21s/it, now=None]\u001b[A\u001b[A"
     ]
    },
    {
     "name": "stdout",
     "output_type": "stream",
     "text": [
      "105820.11591113718 15604.712392049427\n",
      "105636.89846181974 m 15610.08502824225 m\n",
      "[[[3.47359908e+02 0.00000000e+00]\n",
      "  [3.47275197e+02 1.00000000e+00]\n",
      "  [3.47190476e+02 2.00000000e+00]\n",
      "  ...\n",
      "  [1.13577118e+03 2.00000000e+00]\n",
      "  [1.13574466e+03 1.00000000e+00]\n",
      "  [1.13571809e+03 0.00000000e+00]]]\n"
     ]
    },
    {
     "name": "stderr",
     "output_type": "stream",
     "text": [
      "\n",
      "\n",
      "t:  17%|███████████                                                       | 182/1085 [03:40<18:13,  1.21s/it, now=None]\u001b[A\u001b[A"
     ]
    },
    {
     "name": "stdout",
     "output_type": "stream",
     "text": [
      "37536.80734863313 5098.711369011446\n",
      "37726.759221181856 m 5108.624350105713 m\n",
      "[[[3.51565577e+02 0.00000000e+00]\n",
      "  [3.51464007e+02 1.00000000e+00]\n",
      "  [3.51362464e+02 2.00000000e+00]\n",
      "  ...\n",
      "  [1.12664760e+03 2.00000000e+00]\n",
      "  [1.12656923e+03 1.00000000e+00]\n",
      "  [1.12649066e+03 0.00000000e+00]]]\n"
     ]
    },
    {
     "name": "stderr",
     "output_type": "stream",
     "text": [
      "\n",
      "\n",
      "t:  17%|███████████▏                                                      | 183/1085 [03:41<18:06,  1.20s/it, now=None]\u001b[A\u001b[A"
     ]
    },
    {
     "name": "stdout",
     "output_type": "stream",
     "text": [
      "5163.1731840959455 3609.115588096838\n",
      "5394.928610645157 m 3656.2384644044664 m\n",
      "[[[3.74936688e+02 0.00000000e+00]\n",
      "  [3.74752860e+02 1.00000000e+00]\n",
      "  [3.74569226e+02 2.00000000e+00]\n",
      "  ...\n",
      "  [1.10805338e+03 2.00000000e+00]\n",
      "  [1.10792651e+03 1.00000000e+00]\n",
      "  [1.10779936e+03 0.00000000e+00]]]\n"
     ]
    },
    {
     "name": "stderr",
     "output_type": "stream",
     "text": [
      "\n",
      "\n",
      "t:  17%|███████████▏                                                      | 184/1085 [03:42<18:09,  1.21s/it, now=None]\u001b[A\u001b[A"
     ]
    },
    {
     "name": "stdout",
     "output_type": "stream",
     "text": [
      "5306.500229851343 3138.008055749188\n",
      "5519.580249188203 m 3175.9473042131754 m\n",
      "[[[3.68911808e+02 0.00000000e+00]\n",
      "  [3.68738854e+02 1.00000000e+00]\n",
      "  [3.68566089e+02 2.00000000e+00]\n",
      "  ...\n",
      "  [1.11018522e+03 2.00000000e+00]\n",
      "  [1.11004658e+03 1.00000000e+00]\n",
      "  [1.10990761e+03 0.00000000e+00]]]\n"
     ]
    },
    {
     "name": "stderr",
     "output_type": "stream",
     "text": [
      "\n",
      "\n",
      "t:  17%|███████████▎                                                      | 185/1085 [03:43<18:02,  1.20s/it, now=None]\u001b[A\u001b[A"
     ]
    },
    {
     "name": "stdout",
     "output_type": "stream",
     "text": [
      "3120.803237908675 3113.7378698773937\n",
      "3369.548516062723 m 3201.109009473418 m\n",
      "[[[3.88780317e+02 0.00000000e+00]\n",
      "  [3.88541685e+02 1.00000000e+00]\n",
      "  [3.88303373e+02 2.00000000e+00]\n",
      "  ...\n",
      "  [1.09449304e+03 2.00000000e+00]\n",
      "  [1.09433042e+03 1.00000000e+00]\n",
      "  [1.09416747e+03 0.00000000e+00]]]\n"
     ]
    },
    {
     "name": "stderr",
     "output_type": "stream",
     "text": [
      "\n",
      "\n",
      "t:  17%|███████████▎                                                      | 186/1085 [03:44<18:04,  1.21s/it, now=None]\u001b[A\u001b[A"
     ]
    },
    {
     "name": "stdout",
     "output_type": "stream",
     "text": [
      "3193.7368913683545 3004.5510886806906\n",
      "3430.3626987772805 m 3061.3627367381305 m\n",
      "[[[3.84133980e+02 0.00000000e+00]\n",
      "  [3.83903777e+02 1.00000000e+00]\n",
      "  [3.83673887e+02 2.00000000e+00]\n",
      "  ...\n",
      "  [1.10503642e+03 2.00000000e+00]\n",
      "  [1.10488352e+03 1.00000000e+00]\n",
      "  [1.10473029e+03 0.00000000e+00]]]\n"
     ]
    },
    {
     "name": "stderr",
     "output_type": "stream",
     "text": [
      "\n",
      "\n",
      "t:  17%|███████████▍                                                      | 187/1085 [03:46<18:03,  1.21s/it, now=None]\u001b[A\u001b[A"
     ]
    },
    {
     "name": "stdout",
     "output_type": "stream",
     "text": [
      "2441.5739885859502 3565.6305279754497\n",
      "2685.2561413565027 m 3628.7484840072893 m\n",
      "[[[3.90369137e+02 0.00000000e+00]\n",
      "  [3.90099850e+02 1.00000000e+00]\n",
      "  [3.89830973e+02 2.00000000e+00]\n",
      "  ...\n",
      "  [1.10624777e+03 2.00000000e+00]\n",
      "  [1.10611208e+03 1.00000000e+00]\n",
      "  [1.10597612e+03 0.00000000e+00]]]\n"
     ]
    },
    {
     "name": "stderr",
     "output_type": "stream",
     "text": [
      "\n",
      "\n",
      "t:  17%|███████████▍                                                      | 188/1085 [03:47<18:00,  1.20s/it, now=None]\u001b[A\u001b[A"
     ]
    },
    {
     "name": "stdout",
     "output_type": "stream",
     "text": [
      "2348.7309446826735 7000.395854670991\n",
      "2624.7755921007056 m 7076.455164789438 m\n",
      "[[[4.02199406e+02 0.00000000e+00]\n",
      "  [4.01909085e+02 1.00000000e+00]\n",
      "  [4.01619190e+02 2.00000000e+00]\n",
      "  ...\n",
      "  [1.10570795e+03 2.00000000e+00]\n",
      "  [1.10561793e+03 1.00000000e+00]\n",
      "  [1.10552777e+03 0.00000000e+00]]]\n"
     ]
    },
    {
     "name": "stderr",
     "output_type": "stream",
     "text": [
      "\n",
      "\n",
      "t:  17%|███████████▍                                                      | 189/1085 [03:48<18:07,  1.21s/it, now=None]\u001b[A\u001b[A"
     ]
    },
    {
     "name": "stdout",
     "output_type": "stream",
     "text": [
      "2233.2155060496407 9525.358560297098\n",
      "2505.2475170831353 m 9582.507226803771 m\n",
      "[[[4.02013992e+02 0.00000000e+00]\n",
      "  [4.01717347e+02 1.00000000e+00]\n",
      "  [4.01421150e+02 2.00000000e+00]\n",
      "  ...\n",
      "  [1.11515681e+03 2.00000000e+00]\n",
      "  [1.11509003e+03 1.00000000e+00]\n",
      "  [1.11502315e+03 0.00000000e+00]]]\n"
     ]
    },
    {
     "name": "stderr",
     "output_type": "stream",
     "text": [
      "\n",
      "\n",
      "t:  18%|███████████▌                                                      | 190/1085 [03:49<18:03,  1.21s/it, now=None]\u001b[A\u001b[A"
     ]
    },
    {
     "name": "stdout",
     "output_type": "stream",
     "text": [
      "2188.0562937194168 11314.46552772262\n",
      "2519.7083143008394 m 11428.675373126196 m\n",
      "[[[4.22374865e+02 0.00000000e+00]\n",
      "  [4.22047308e+02 1.00000000e+00]\n",
      "  [4.21720207e+02 2.00000000e+00]\n",
      "  ...\n",
      "  [1.09472945e+03 2.00000000e+00]\n",
      "  [1.09464132e+03 1.00000000e+00]\n",
      "  [1.09455309e+03 0.00000000e+00]]]\n"
     ]
    },
    {
     "name": "stderr",
     "output_type": "stream",
     "text": [
      "\n",
      "\n",
      "t:  18%|███████████▌                                                      | 191/1085 [03:50<18:04,  1.21s/it, now=None]\u001b[A\u001b[A"
     ]
    },
    {
     "name": "stdout",
     "output_type": "stream",
     "text": [
      "2400.3384939435623 467072.6028824721\n",
      "2714.1885252918055 m 466974.4954899523 m\n",
      "[[[4.14534954e+02 0.00000000e+00]\n",
      "  [4.14230447e+02 1.00000000e+00]\n",
      "  [4.13926358e+02 2.00000000e+00]\n",
      "  ...\n",
      "  [1.10864162e+03 2.00000000e+00]\n",
      "  [1.10859501e+03 1.00000000e+00]\n",
      "  [1.10854841e+03 0.00000000e+00]]]\n"
     ]
    },
    {
     "name": "stderr",
     "output_type": "stream",
     "text": [
      "\n",
      "\n",
      "t:  18%|███████████▋                                                      | 192/1085 [03:52<18:04,  1.21s/it, now=None]\u001b[A\u001b[A"
     ]
    },
    {
     "name": "stdout",
     "output_type": "stream",
     "text": [
      "2666.963003526035 66215.30111858202\n",
      "2995.080045074269 m 66315.62818455126 m\n",
      "[[[4.16293211e+02 0.00000000e+00]\n",
      "  [4.15997251e+02 1.00000000e+00]\n",
      "  [4.15701666e+02 2.00000000e+00]\n",
      "  ...\n",
      "  [1.10685307e+03 2.00000000e+00]\n",
      "  [1.10679895e+03 1.00000000e+00]\n",
      "  [1.10674480e+03 0.00000000e+00]]]\n"
     ]
    },
    {
     "name": "stderr",
     "output_type": "stream",
     "text": [
      "\n",
      "\n",
      "t:  18%|███████████▋                                                      | 193/1085 [03:53<18:03,  1.22s/it, now=None]\u001b[A\u001b[A"
     ]
    },
    {
     "name": "stdout",
     "output_type": "stream",
     "text": [
      "2533.0822773611385 19449.457392058637\n",
      "2857.2180031043654 m 19516.349485819756 m\n",
      "[[[4.13870118e+02 0.00000000e+00]\n",
      "  [4.13568798e+02 1.00000000e+00]\n",
      "  [4.13267872e+02 2.00000000e+00]\n",
      "  ...\n",
      "  [1.11479487e+03 2.00000000e+00]\n",
      "  [1.11474335e+03 1.00000000e+00]\n",
      "  [1.11469178e+03 0.00000000e+00]]]\n"
     ]
    },
    {
     "name": "stderr",
     "output_type": "stream",
     "text": [
      "\n",
      "\n",
      "t:  18%|███████████▊                                                      | 194/1085 [03:54<17:59,  1.21s/it, now=None]\u001b[A\u001b[A"
     ]
    },
    {
     "name": "stdout",
     "output_type": "stream",
     "text": [
      "2681.778119428885 19649.139705656104\n",
      "2995.2374154128693 m 19687.721558086483 m\n",
      "[[[4.07500652e+02 0.00000000e+00]\n",
      "  [4.07212315e+02 1.00000000e+00]\n",
      "  [4.06924351e+02 2.00000000e+00]\n",
      "  ...\n",
      "  [1.12423658e+03 2.00000000e+00]\n",
      "  [1.12419893e+03 1.00000000e+00]\n",
      "  [1.12416124e+03 0.00000000e+00]]]\n"
     ]
    },
    {
     "name": "stderr",
     "output_type": "stream",
     "text": [
      "\n",
      "\n",
      "t:  18%|███████████▊                                                      | 195/1085 [03:55<17:59,  1.21s/it, now=None]\u001b[A\u001b[A"
     ]
    },
    {
     "name": "stdout",
     "output_type": "stream",
     "text": [
      "3225.9394189868117 4324.43815394806\n",
      "3579.056752653263 m 4398.760193561911 m\n",
      "[[[4.16931155e+02 0.00000000e+00]\n",
      "  [4.16647048e+02 1.00000000e+00]\n",
      "  [4.16363252e+02 2.00000000e+00]\n",
      "  ...\n",
      "  [1.09937576e+03 2.00000000e+00]\n",
      "  [1.09925344e+03 1.00000000e+00]\n",
      "  [1.09913089e+03 0.00000000e+00]]]\n"
     ]
    },
    {
     "name": "stderr",
     "output_type": "stream",
     "text": [
      "\n",
      "\n",
      "t:  18%|███████████▉                                                      | 196/1085 [03:57<18:00,  1.21s/it, now=None]\u001b[A\u001b[A"
     ]
    },
    {
     "name": "stdout",
     "output_type": "stream",
     "text": [
      "3556.6729535615364 5819.947652731043\n",
      "3899.601229402906 m 5869.0822268288575 m\n",
      "[[[4.09571868e+02 0.00000000e+00]\n",
      "  [4.09303052e+02 1.00000000e+00]\n",
      "  [4.09034520e+02 2.00000000e+00]\n",
      "  ...\n",
      "  [1.11301479e+03 2.00000000e+00]\n",
      "  [1.11292686e+03 1.00000000e+00]\n",
      "  [1.11283876e+03 0.00000000e+00]]]\n"
     ]
    },
    {
     "name": "stderr",
     "output_type": "stream",
     "text": [
      "\n",
      "\n",
      "t:  18%|███████████▉                                                      | 197/1085 [03:58<17:55,  1.21s/it, now=None]\u001b[A\u001b[A"
     ]
    },
    {
     "name": "stdout",
     "output_type": "stream",
     "text": [
      "4005.9317088269004 9539.313620502531\n",
      "4359.4826425401525 m 9595.855694191852 m\n",
      "[[[4.10227315e+02 0.00000000e+00]\n",
      "  [4.09964974e+02 1.00000000e+00]\n",
      "  [4.09702885e+02 2.00000000e+00]\n",
      "  ...\n",
      "  [1.11393371e+03 2.00000000e+00]\n",
      "  [1.11386728e+03 1.00000000e+00]\n",
      "  [1.11380074e+03 0.00000000e+00]]]\n"
     ]
    },
    {
     "name": "stderr",
     "output_type": "stream",
     "text": [
      "\n",
      "\n",
      "t:  18%|████████████                                                      | 198/1085 [03:59<18:02,  1.22s/it, now=None]\u001b[A\u001b[A"
     ]
    },
    {
     "name": "stdout",
     "output_type": "stream",
     "text": [
      "4743.844510455723 6292.331784798202\n",
      "5073.620738005877 m 6315.845778949149 m\n",
      "[[[3.98570986e+02 0.00000000e+00]\n",
      "  [3.98334130e+02 1.00000000e+00]\n",
      "  [3.98097487e+02 2.00000000e+00]\n",
      "  ...\n",
      "  [1.12196044e+03 2.00000000e+00]\n",
      "  [1.12188964e+03 1.00000000e+00]\n",
      "  [1.12181868e+03 0.00000000e+00]]]\n"
     ]
    },
    {
     "name": "stderr",
     "output_type": "stream",
     "text": [
      "\n",
      "\n",
      "t:  18%|████████████                                                      | 199/1085 [04:00<17:57,  1.22s/it, now=None]\u001b[A\u001b[A"
     ]
    },
    {
     "name": "stdout",
     "output_type": "stream",
     "text": [
      "4277.3559393830965 6566.215538965319\n",
      "4602.481727541318 m 6583.403980780687 m\n",
      "[[[3.96181016e+02 0.00000000e+00]\n",
      "  [3.95937934e+02 1.00000000e+00]\n",
      "  [3.95695088e+02 2.00000000e+00]\n",
      "  ...\n",
      "  [1.12494043e+03 2.00000000e+00]\n",
      "  [1.12487516e+03 1.00000000e+00]\n",
      "  [1.12480973e+03 0.00000000e+00]]]\n"
     ]
    },
    {
     "name": "stderr",
     "output_type": "stream",
     "text": [
      "\n",
      "\n",
      "t:  18%|████████████▏                                                     | 200/1085 [04:01<17:58,  1.22s/it, now=None]\u001b[A\u001b[A"
     ]
    },
    {
     "name": "stdout",
     "output_type": "stream",
     "text": [
      "7618.522177460929 28277.29867546514\n",
      "7965.105687385906 m 28301.164402869366 m\n",
      "[[[3.97033023e+02 0.00000000e+00]\n",
      "  [3.96817636e+02 1.00000000e+00]\n",
      "  [3.96602384e+02 2.00000000e+00]\n",
      "  ...\n",
      "  [1.12388348e+03 2.00000000e+00]\n",
      "  [1.12385875e+03 1.00000000e+00]\n",
      "  [1.12383398e+03 0.00000000e+00]]]\n"
     ]
    },
    {
     "name": "stderr",
     "output_type": "stream",
     "text": [
      "\n",
      "\n",
      "t:  19%|████████████▏                                                     | 201/1085 [04:03<17:56,  1.22s/it, now=None]\u001b[A\u001b[A"
     ]
    },
    {
     "name": "stdout",
     "output_type": "stream",
     "text": [
      "12140.69256828104 38154.35025502704\n",
      "12501.731534894187 m 38195.85832157776 m\n",
      "[[[3.98767380e+02 0.00000000e+00]\n",
      "  [3.98563572e+02 1.00000000e+00]\n",
      "  [3.98359848e+02 2.00000000e+00]\n",
      "  ...\n",
      "  [1.11772229e+03 2.00000000e+00]\n",
      "  [1.11769244e+03 1.00000000e+00]\n",
      "  [1.11766256e+03 0.00000000e+00]]]\n"
     ]
    },
    {
     "name": "stderr",
     "output_type": "stream",
     "text": [
      "\n",
      "\n",
      "t:  19%|████████████▎                                                     | 202/1085 [04:04<17:54,  1.22s/it, now=None]\u001b[A\u001b[A"
     ]
    },
    {
     "name": "stdout",
     "output_type": "stream",
     "text": [
      "95056.51186767755 68780.40747639742\n",
      "94654.87418942533 m 68874.35116338616 m\n",
      "[[[4.08717298e+02 0.00000000e+00]\n",
      "  [4.08530606e+02 1.00000000e+00]\n",
      "  [4.08343904e+02 2.00000000e+00]\n",
      "  ...\n",
      "  [1.09743430e+03 2.00000000e+00]\n",
      "  [1.09738347e+03 1.00000000e+00]\n",
      "  [1.09733262e+03 0.00000000e+00]]]\n"
     ]
    },
    {
     "name": "stderr",
     "output_type": "stream",
     "text": [
      "\n",
      "\n",
      "t:  19%|████████████▎                                                     | 203/1085 [04:05<17:57,  1.22s/it, now=None]\u001b[A\u001b[A"
     ]
    },
    {
     "name": "stdout",
     "output_type": "stream",
     "text": [
      "18404.172932423346 16316.029521717843\n",
      "18011.93801623673 m 16245.716049219292 m\n",
      "[[[4.03088350e+02 0.00000000e+00]\n",
      "  [4.02923486e+02 1.00000000e+00]\n",
      "  [4.02758563e+02 2.00000000e+00]\n",
      "  ...\n",
      "  [1.10815346e+03 2.00000000e+00]\n",
      "  [1.10814244e+03 1.00000000e+00]\n",
      "  [1.10813148e+03 0.00000000e+00]]]\n"
     ]
    },
    {
     "name": "stderr",
     "output_type": "stream",
     "text": [
      "\n",
      "\n",
      "t:  19%|████████████▍                                                     | 204/1085 [04:06<18:12,  1.24s/it, now=None]\u001b[A\u001b[A"
     ]
    },
    {
     "name": "stdout",
     "output_type": "stream",
     "text": [
      "10061.807952153657 102966.43716675047\n",
      "9668.892695806311 m 102879.56766958308 m\n",
      "[[[4.02142704e+02 0.00000000e+00]\n",
      "  [4.01995966e+02 1.00000000e+00]\n",
      "  [4.01849121e+02 2.00000000e+00]\n",
      "  ...\n",
      "  [1.10005190e+03 2.00000000e+00]\n",
      "  [1.10001355e+03 1.00000000e+00]\n",
      "  [1.09997521e+03 0.00000000e+00]]]\n"
     ]
    },
    {
     "name": "stderr",
     "output_type": "stream",
     "text": [
      "\n",
      "\n",
      "t:  19%|████████████▍                                                     | 205/1085 [04:08<18:07,  1.24s/it, now=None]\u001b[A\u001b[A"
     ]
    },
    {
     "name": "stdout",
     "output_type": "stream",
     "text": [
      "7899.46337284725 59950.05128931885\n",
      "7532.774577486958 m 59913.49975410413 m\n",
      "[[[3.92287005e+02 0.00000000e+00]\n",
      "  [3.92163307e+02 1.00000000e+00]\n",
      "  [3.92039473e+02 2.00000000e+00]\n",
      "  ...\n",
      "  [1.11639879e+03 2.00000000e+00]\n",
      "  [1.11638734e+03 1.00000000e+00]\n",
      "  [1.11637591e+03 0.00000000e+00]]]\n"
     ]
    },
    {
     "name": "stderr",
     "output_type": "stream",
     "text": [
      "\n",
      "\n",
      "t:  19%|████████████▌                                                     | 206/1085 [04:09<17:56,  1.22s/it, now=None]\u001b[A\u001b[A"
     ]
    },
    {
     "name": "stdout",
     "output_type": "stream",
     "text": [
      "6603.848290662859 11953.536759366985\n",
      "6262.253994775509 m 11925.761015044003 m\n",
      "[[[3.83730473e+02 0.00000000e+00]\n",
      "  [3.83628363e+02 1.00000000e+00]\n",
      "  [3.83526090e+02 2.00000000e+00]\n",
      "  ...\n",
      "  [1.12662339e+03 2.00000000e+00]\n",
      "  [1.12664125e+03 1.00000000e+00]\n",
      "  [1.12665919e+03 0.00000000e+00]]]\n"
     ]
    },
    {
     "name": "stderr",
     "output_type": "stream",
     "text": [
      "\n",
      "\n",
      "t:  19%|████████████▌                                                     | 207/1085 [04:10<17:45,  1.21s/it, now=None]\u001b[A\u001b[A"
     ]
    },
    {
     "name": "stdout",
     "output_type": "stream",
     "text": [
      "6096.086591032315 43484.58853623\n",
      "5777.861310756551 m 43494.631825988596 m\n",
      "[[[3.76777463e+02 0.00000000e+00]\n",
      "  [3.76691074e+02 1.00000000e+00]\n",
      "  [3.76604510e+02 2.00000000e+00]\n",
      "  ...\n",
      "  [1.13546105e+03 2.00000000e+00]\n",
      "  [1.13547448e+03 1.00000000e+00]\n",
      "  [1.13548794e+03 0.00000000e+00]]]\n"
     ]
    },
    {
     "name": "stderr",
     "output_type": "stream",
     "text": [
      "\n",
      "\n",
      "t:  19%|████████████▋                                                     | 208/1085 [04:11<17:42,  1.21s/it, now=None]\u001b[A\u001b[A"
     ]
    },
    {
     "name": "stdout",
     "output_type": "stream",
     "text": [
      "6641.13226254235 19381.28055673781\n",
      "6334.055372796386 m 19400.126888062903 m\n",
      "[[[3.74379373e+02 0.00000000e+00]\n",
      "  [3.74292399e+02 1.00000000e+00]\n",
      "  [3.74205266e+02 2.00000000e+00]\n",
      "  ...\n",
      "  [1.13956066e+03 2.00000000e+00]\n",
      "  [1.13958902e+03 1.00000000e+00]\n",
      "  [1.13961744e+03 0.00000000e+00]]]\n"
     ]
    },
    {
     "name": "stderr",
     "output_type": "stream",
     "text": [
      "\n",
      "\n",
      "t:  19%|████████████▋                                                     | 209/1085 [04:12<17:42,  1.21s/it, now=None]\u001b[A\u001b[A"
     ]
    },
    {
     "name": "stdout",
     "output_type": "stream",
     "text": [
      "6490.898950708494 9711.527958389463\n",
      "6182.543510312199 m 9717.379334318239 m\n",
      "[[[3.77386243e+02 0.00000000e+00]\n",
      "  [3.77300134e+02 1.00000000e+00]\n",
      "  [3.77213862e+02 2.00000000e+00]\n",
      "  ...\n",
      "  [1.12272394e+03 2.00000000e+00]\n",
      "  [1.12268264e+03 1.00000000e+00]\n",
      "  [1.12264124e+03 0.00000000e+00]]]\n"
     ]
    },
    {
     "name": "stderr",
     "output_type": "stream",
     "text": [
      "\n",
      "\n",
      "t:  19%|████████████▊                                                     | 210/1085 [04:14<17:38,  1.21s/it, now=None]\u001b[A\u001b[A"
     ]
    },
    {
     "name": "stdout",
     "output_type": "stream",
     "text": [
      "6640.230379335542 8723.481108484018\n",
      "6338.097325285924 m 8733.51082933679 m\n",
      "[[[3.76469643e+02 0.00000000e+00]\n",
      "  [3.76384910e+02 1.00000000e+00]\n",
      "  [3.76300018e+02 2.00000000e+00]\n",
      "  ...\n",
      "  [1.12075804e+03 2.00000000e+00]\n",
      "  [1.12071036e+03 1.00000000e+00]\n",
      "  [1.12066256e+03 0.00000000e+00]]]\n"
     ]
    },
    {
     "name": "stderr",
     "output_type": "stream",
     "text": [
      "\n",
      "\n",
      "t:  19%|████████████▊                                                     | 211/1085 [04:15<17:33,  1.21s/it, now=None]\u001b[A\u001b[A"
     ]
    },
    {
     "name": "stdout",
     "output_type": "stream",
     "text": [
      "5116.692616475164 8445.864532554013\n",
      "4837.437623494001 m 8464.306729559468 m\n",
      "[[[3.68054815e+02 0.00000000e+00]\n",
      "  [3.67999000e+02 1.00000000e+00]\n",
      "  [3.67942977e+02 2.00000000e+00]\n",
      "  ...\n",
      "  [1.11981402e+03 2.00000000e+00]\n",
      "  [1.11976087e+03 1.00000000e+00]\n",
      "  [1.11970761e+03 0.00000000e+00]]]\n"
     ]
    },
    {
     "name": "stderr",
     "output_type": "stream",
     "text": [
      "\n",
      "\n",
      "t:  20%|████████████▉                                                     | 212/1085 [04:16<17:40,  1.21s/it, now=None]\u001b[A\u001b[A"
     ]
    },
    {
     "name": "stdout",
     "output_type": "stream",
     "text": [
      "7026.849972617273 10117.701730331775\n",
      "6771.266265202367 m 10115.142169668636 m\n",
      "[[[3.63153183e+02 0.00000000e+00]\n",
      "  [3.63086269e+02 1.00000000e+00]\n",
      "  [3.63019206e+02 2.00000000e+00]\n",
      "  ...\n",
      "  [1.12816016e+03 2.00000000e+00]\n",
      "  [1.12812447e+03 1.00000000e+00]\n",
      "  [1.12808867e+03 0.00000000e+00]]]\n"
     ]
    },
    {
     "name": "stderr",
     "output_type": "stream",
     "text": [
      "\n",
      "\n",
      "t:  20%|████████████▉                                                     | 213/1085 [04:17<17:34,  1.21s/it, now=None]\u001b[A\u001b[A"
     ]
    },
    {
     "name": "stdout",
     "output_type": "stream",
     "text": [
      "5686.071547096969 5852.551702594887\n",
      "5465.487450452148 m 5821.317535796687 m\n",
      "[[[3.49276866e+02 0.00000000e+00]\n",
      "  [3.49239570e+02 1.00000000e+00]\n",
      "  [3.49202090e+02 2.00000000e+00]\n",
      "  ...\n",
      "  [1.13618093e+03 2.00000000e+00]\n",
      "  [1.13613175e+03 1.00000000e+00]\n",
      "  [1.13608240e+03 0.00000000e+00]]]\n"
     ]
    },
    {
     "name": "stderr",
     "output_type": "stream",
     "text": [
      "\n",
      "\n",
      "t:  20%|█████████████                                                     | 214/1085 [04:18<17:31,  1.21s/it, now=None]\u001b[A\u001b[A"
     ]
    },
    {
     "name": "stdout",
     "output_type": "stream",
     "text": [
      "5718.586937679264 11395.864674132883\n",
      "5502.336702074799 m 11389.157176052446 m\n",
      "[[[3.50034676e+02 0.00000000e+00]\n",
      "  [3.49998962e+02 1.00000000e+00]\n",
      "  [3.49963067e+02 2.00000000e+00]\n",
      "  ...\n",
      "  [1.13069575e+03 2.00000000e+00]\n",
      "  [1.13066621e+03 1.00000000e+00]\n",
      "  [1.13063658e+03 0.00000000e+00]]]\n"
     ]
    },
    {
     "name": "stderr",
     "output_type": "stream",
     "text": [
      "\n",
      "\n",
      "t:  20%|█████████████                                                     | 215/1085 [04:20<17:34,  1.21s/it, now=None]\u001b[A\u001b[A"
     ]
    },
    {
     "name": "stdout",
     "output_type": "stream",
     "text": [
      "5090.4585594961345 8389.80787563834\n",
      "4897.622468985621 m 8354.780333090477 m\n",
      "[[[3.40183473e+02 0.00000000e+00]\n",
      "  [3.40167226e+02 1.00000000e+00]\n",
      "  [3.40150776e+02 2.00000000e+00]\n",
      "  ...\n",
      "  [1.13706143e+03 2.00000000e+00]\n",
      "  [1.13703367e+03 1.00000000e+00]\n",
      "  [1.13700580e+03 0.00000000e+00]]]\n"
     ]
    },
    {
     "name": "stderr",
     "output_type": "stream",
     "text": [
      "\n",
      "\n",
      "t:  20%|█████████████▏                                                    | 216/1085 [04:21<17:30,  1.21s/it, now=None]\u001b[A\u001b[A"
     ]
    },
    {
     "name": "stdout",
     "output_type": "stream",
     "text": [
      "5799.85837551488 41230.61107734123\n",
      "5635.633272960782 m 41288.880207718925 m\n",
      "[[[3.31726162e+02 0.00000000e+00]\n",
      "  [3.31713501e+02 1.00000000e+00]\n",
      "  [3.31700662e+02 2.00000000e+00]\n",
      "  ...\n",
      "  [1.15209457e+03 2.00000000e+00]\n",
      "  [1.15213180e+03 1.00000000e+00]\n",
      "  [1.15216905e+03 0.00000000e+00]]]\n"
     ]
    },
    {
     "name": "stderr",
     "output_type": "stream",
     "text": [
      "\n",
      "\n",
      "t:  20%|█████████████▏                                                    | 217/1085 [04:22<17:30,  1.21s/it, now=None]\u001b[A\u001b[A"
     ]
    },
    {
     "name": "stdout",
     "output_type": "stream",
     "text": [
      "7081.9296146419165 7877.105942045477\n",
      "6929.8734505856 m 7908.388528379487 m\n",
      "[[[3.29271982e+02 0.00000000e+00]\n",
      "  [3.29252720e+02 1.00000000e+00]\n",
      "  [3.29233314e+02 2.00000000e+00]\n",
      "  ...\n",
      "  [1.15050847e+03 2.00000000e+00]\n",
      "  [1.15057099e+03 1.00000000e+00]\n",
      "  [1.15063365e+03 0.00000000e+00]]]\n"
     ]
    },
    {
     "name": "stderr",
     "output_type": "stream",
     "text": [
      "\n",
      "\n",
      "t:  20%|█████████████▎                                                    | 218/1085 [04:23<17:28,  1.21s/it, now=None]\u001b[A\u001b[A"
     ]
    },
    {
     "name": "stdout",
     "output_type": "stream",
     "text": [
      "7564.856346545494 4629.870039964796\n",
      "7438.097793771523 m 4673.312850175922 m\n",
      "[[[3.20694858e+02 0.00000000e+00]\n",
      "  [3.20684012e+02 1.00000000e+00]\n",
      "  [3.20673031e+02 2.00000000e+00]\n",
      "  ...\n",
      "  [1.15939981e+03 2.00000000e+00]\n",
      "  [1.15950167e+03 1.00000000e+00]\n",
      "  [1.15960375e+03 0.00000000e+00]]]\n"
     ]
    },
    {
     "name": "stderr",
     "output_type": "stream",
     "text": [
      "\n",
      "\n",
      "t:  20%|█████████████▎                                                    | 219/1085 [04:25<17:28,  1.21s/it, now=None]\u001b[A\u001b[A"
     ]
    },
    {
     "name": "stdout",
     "output_type": "stream",
     "text": [
      "7961.753984831557 4057.2804537379084\n",
      "7822.649853592414 m 4058.4168139106614 m\n",
      "[[[3.26679901e+02 0.00000000e+00]\n",
      "  [3.26660669e+02 1.00000000e+00]\n",
      "  [3.26641308e+02 2.00000000e+00]\n",
      "  ...\n",
      "  [1.14362698e+03 2.00000000e+00]\n",
      "  [1.14372046e+03 1.00000000e+00]\n",
      "  [1.14381419e+03 0.00000000e+00]]]\n"
     ]
    },
    {
     "name": "stderr",
     "output_type": "stream",
     "text": [
      "\n",
      "\n",
      "t:  20%|█████████████▍                                                    | 220/1085 [04:26<17:27,  1.21s/it, now=None]\u001b[A\u001b[A"
     ]
    },
    {
     "name": "stdout",
     "output_type": "stream",
     "text": [
      "8131.224223787025 3504.284196599703\n",
      "8014.579358322393 m 3533.106560158157 m\n",
      "[[[3.17835301e+02 0.00000000e+00]\n",
      "  [3.17825688e+02 1.00000000e+00]\n",
      "  [3.17815951e+02 2.00000000e+00]\n",
      "  ...\n",
      "  [1.15352676e+03 2.00000000e+00]\n",
      "  [1.15364824e+03 1.00000000e+00]\n",
      "  [1.15377001e+03 0.00000000e+00]]]\n"
     ]
    },
    {
     "name": "stderr",
     "output_type": "stream",
     "text": [
      "\n",
      "\n",
      "t:  20%|█████████████▍                                                    | 221/1085 [04:27<17:34,  1.22s/it, now=None]\u001b[A\u001b[A"
     ]
    },
    {
     "name": "stdout",
     "output_type": "stream",
     "text": [
      "10502.15410777494 5388.610615776833\n",
      "10387.165995727444 m 5414.6553593812405 m\n",
      "[[[3.18193538e+02 0.00000000e+00]\n",
      "  [3.18174058e+02 1.00000000e+00]\n",
      "  [3.18154482e+02 2.00000000e+00]\n",
      "  ...\n",
      "  [1.14428393e+03 2.00000000e+00]\n",
      "  [1.14436599e+03 1.00000000e+00]\n",
      "  [1.14444824e+03 0.00000000e+00]]]\n"
     ]
    },
    {
     "name": "stderr",
     "output_type": "stream",
     "text": [
      "\n",
      "\n",
      "t:  20%|█████████████▌                                                    | 222/1085 [04:28<17:27,  1.21s/it, now=None]\u001b[A\u001b[A"
     ]
    },
    {
     "name": "stdout",
     "output_type": "stream",
     "text": [
      "10940.836946670204 7331.399526753692\n",
      "10830.384201097686 m 7375.61759867659 m\n",
      "[[[3.15872718e+02 0.00000000e+00]\n",
      "  [3.15853942e+02 1.00000000e+00]\n",
      "  [3.15835074e+02 2.00000000e+00]\n",
      "  ...\n",
      "  [1.14454866e+03 2.00000000e+00]\n",
      "  [1.14462094e+03 1.00000000e+00]\n",
      "  [1.14469337e+03 0.00000000e+00]]]\n"
     ]
    },
    {
     "name": "stderr",
     "output_type": "stream",
     "text": [
      "\n",
      "\n",
      "t:  21%|█████████████▌                                                    | 223/1085 [04:29<17:30,  1.22s/it, now=None]\u001b[A\u001b[A"
     ]
    },
    {
     "name": "stdout",
     "output_type": "stream",
     "text": [
      "23758.070814862087 7372.20452738927\n",
      "23665.88021751565 m 7425.549645261554 m\n",
      "[[[3.10729804e+02 0.00000000e+00]\n",
      "  [3.10701079e+02 1.00000000e+00]\n",
      "  [3.10672310e+02 2.00000000e+00]\n",
      "  ...\n",
      "  [1.14896454e+03 2.00000000e+00]\n",
      "  [1.14904094e+03 1.00000000e+00]\n",
      "  [1.14911747e+03 0.00000000e+00]]]\n"
     ]
    },
    {
     "name": "stderr",
     "output_type": "stream",
     "text": [
      "\n",
      "\n",
      "t:  21%|█████████████▋                                                    | 224/1085 [04:31<17:30,  1.22s/it, now=None]\u001b[A\u001b[A"
     ]
    },
    {
     "name": "stdout",
     "output_type": "stream",
     "text": [
      "33937.15114495917 5265.467779756844\n",
      "33844.67839454273 m 5315.950245953057 m\n",
      "[[[3.10727971e+02 0.00000000e+00]\n",
      "  [3.10694352e+02 1.00000000e+00]\n",
      "  [3.10660704e+02 2.00000000e+00]\n",
      "  ...\n",
      "  [1.14956097e+03 2.00000000e+00]\n",
      "  [1.14965634e+03 1.00000000e+00]\n",
      "  [1.14975191e+03 0.00000000e+00]]]\n"
     ]
    },
    {
     "name": "stderr",
     "output_type": "stream",
     "text": [
      "\n",
      "\n",
      "t:  21%|█████████████▋                                                    | 225/1085 [04:32<17:30,  1.22s/it, now=None]\u001b[A\u001b[A"
     ]
    },
    {
     "name": "stdout",
     "output_type": "stream",
     "text": [
      "91278.41561447433 7809.333755043136\n",
      "91197.7590786104 m 7885.918623910568 m\n",
      "[[[3.06384692e+02 0.00000000e+00]\n",
      "  [3.06349812e+02 1.00000000e+00]\n",
      "  [3.06314920e+02 2.00000000e+00]\n",
      "  ...\n",
      "  [1.15517788e+03 2.00000000e+00]\n",
      "  [1.15526263e+03 1.00000000e+00]\n",
      "  [1.15534751e+03 0.00000000e+00]]]\n"
     ]
    },
    {
     "name": "stderr",
     "output_type": "stream",
     "text": [
      "\n",
      "\n",
      "t:  21%|█████████████▋                                                    | 226/1085 [04:33<17:23,  1.22s/it, now=None]\u001b[A\u001b[A"
     ]
    },
    {
     "name": "stdout",
     "output_type": "stream",
     "text": [
      "176134.2187313763 9510.229957703546\n",
      "176040.0133220167 m 9441.728563556935 m\n",
      "[[[3.10391752e+02 0.00000000e+00]\n",
      "  [3.10348357e+02 1.00000000e+00]\n",
      "  [3.10304956e+02 2.00000000e+00]\n",
      "  ...\n",
      "  [1.13980505e+03 2.00000000e+00]\n",
      "  [1.13979864e+03 1.00000000e+00]\n",
      "  [1.13979213e+03 0.00000000e+00]]]\n"
     ]
    },
    {
     "name": "stderr",
     "output_type": "stream",
     "text": [
      "\n",
      "\n",
      "t:  21%|█████████████▊                                                    | 227/1085 [04:34<17:21,  1.21s/it, now=None]\u001b[A\u001b[A"
     ]
    },
    {
     "name": "stdout",
     "output_type": "stream",
     "text": [
      "170347.89633849257 4264.404965365223\n",
      "170431.98919250042 m 4168.250682414789 m\n",
      "[[[3.06556395e+02 0.00000000e+00]\n",
      "  [3.06513547e+02 1.00000000e+00]\n",
      "  [3.06470705e+02 2.00000000e+00]\n",
      "  ...\n",
      "  [1.13827802e+03 2.00000000e+00]\n",
      "  [1.13823467e+03 1.00000000e+00]\n",
      "  [1.13819107e+03 0.00000000e+00]]]\n"
     ]
    },
    {
     "name": "stderr",
     "output_type": "stream",
     "text": [
      "\n",
      "\n",
      "t:  21%|█████████████▊                                                    | 228/1085 [04:35<17:18,  1.21s/it, now=None]\u001b[A\u001b[A"
     ]
    },
    {
     "name": "stdout",
     "output_type": "stream",
     "text": [
      "42326.52006839764 2900.8513760896903\n",
      "42406.62521103944 m 2795.0350684819637 m\n",
      "[[[3.05364375e+02 0.00000000e+00]\n",
      "  [3.05316806e+02 1.00000000e+00]\n",
      "  [3.05269260e+02 2.00000000e+00]\n",
      "  ...\n",
      "  [1.13246996e+03 2.00000000e+00]\n",
      "  [1.13238617e+03 1.00000000e+00]\n",
      "  [1.13230202e+03 0.00000000e+00]]]\n"
     ]
    },
    {
     "name": "stderr",
     "output_type": "stream",
     "text": [
      "\n",
      "\n",
      "t:  21%|█████████████▉                                                    | 229/1085 [04:37<17:17,  1.21s/it, now=None]\u001b[A\u001b[A"
     ]
    },
    {
     "name": "stdout",
     "output_type": "stream",
     "text": [
      "74405.69493548325 8143.302222580921\n",
      "74503.65022914812 m 8092.118566062707 m\n",
      "[[[3.10920398e+02 0.00000000e+00]\n",
      "  [3.10868025e+02 1.00000000e+00]\n",
      "  [3.10815664e+02 2.00000000e+00]\n",
      "  ...\n",
      "  [1.13000510e+03 2.00000000e+00]\n",
      "  [1.12998372e+03 1.00000000e+00]\n",
      "  [1.12996221e+03 0.00000000e+00]]]\n"
     ]
    },
    {
     "name": "stderr",
     "output_type": "stream",
     "text": [
      "\n",
      "\n",
      "t:  21%|█████████████▉                                                    | 230/1085 [04:38<17:11,  1.21s/it, now=None]\u001b[A\u001b[A"
     ]
    },
    {
     "name": "stdout",
     "output_type": "stream",
     "text": [
      "31171.039839285775 15139.114035406737\n",
      "31254.275536882575 m 15056.539365189554 m\n",
      "[[[3.04926065e+02 0.00000000e+00]\n",
      "  [3.04873820e+02 1.00000000e+00]\n",
      "  [3.04821608e+02 2.00000000e+00]\n",
      "  ...\n",
      "  [1.14382550e+03 2.00000000e+00]\n",
      "  [1.14384062e+03 1.00000000e+00]\n",
      "  [1.14385567e+03 0.00000000e+00]]]\n"
     ]
    },
    {
     "name": "stderr",
     "output_type": "stream",
     "text": [
      "\n",
      "\n",
      "t:  21%|██████████████                                                    | 231/1085 [04:39<17:13,  1.21s/it, now=None]\u001b[A\u001b[A"
     ]
    },
    {
     "name": "stdout",
     "output_type": "stream",
     "text": [
      "100095.0749062139 12003.006892861498\n",
      "99997.04524392923 m 12048.000675503594 m\n",
      "[[[3.07974013e+02 0.00000000e+00]\n",
      "  [3.07930394e+02 1.00000000e+00]\n",
      "  [3.07886765e+02 2.00000000e+00]\n",
      "  ...\n",
      "  [1.13941582e+03 2.00000000e+00]\n",
      "  [1.13946865e+03 1.00000000e+00]\n",
      "  [1.13952156e+03 0.00000000e+00]]]\n"
     ]
    },
    {
     "name": "stderr",
     "output_type": "stream",
     "text": [
      "\n",
      "\n",
      "t:  21%|██████████████                                                    | 232/1085 [04:40<17:39,  1.24s/it, now=None]\u001b[A\u001b[A"
     ]
    },
    {
     "name": "stdout",
     "output_type": "stream",
     "text": [
      "81130.89464848215 4446.435982607403\n",
      "81212.45465627061 m 4522.558892614465 m\n",
      "[[[3.01538427e+02 0.00000000e+00]\n",
      "  [3.01494384e+02 1.00000000e+00]\n",
      "  [3.01450353e+02 2.00000000e+00]\n",
      "  ...\n",
      "  [1.15634176e+03 2.00000000e+00]\n",
      "  [1.15646255e+03 1.00000000e+00]\n",
      "  [1.15658356e+03 0.00000000e+00]]]\n"
     ]
    },
    {
     "name": "stderr",
     "output_type": "stream",
     "text": [
      "\n",
      "\n",
      "t:  21%|██████████████▏                                                   | 233/1085 [04:42<17:31,  1.23s/it, now=None]\u001b[A\u001b[A"
     ]
    },
    {
     "name": "stdout",
     "output_type": "stream",
     "text": [
      "53526.5281260908 4988.048947323586\n",
      "53607.80018658444 m 5074.730605245334 m\n",
      "[[[2.99420108e+02 0.00000000e+00]\n",
      "  [2.99373825e+02 1.00000000e+00]\n",
      "  [2.99327560e+02 2.00000000e+00]\n",
      "  ...\n",
      "  [1.15719674e+03 2.00000000e+00]\n",
      "  [1.15731340e+03 1.00000000e+00]\n",
      "  [1.15743025e+03 0.00000000e+00]]]\n"
     ]
    },
    {
     "name": "stderr",
     "output_type": "stream",
     "text": [
      "\n",
      "\n",
      "t:  22%|██████████████▏                                                   | 234/1085 [04:43<17:22,  1.23s/it, now=None]\u001b[A\u001b[A"
     ]
    },
    {
     "name": "stdout",
     "output_type": "stream",
     "text": [
      "27937.42721713447 6187.37935181397\n",
      "28020.010401201278 m 6272.338892700595 m\n",
      "[[[2.99958146e+02 0.00000000e+00]\n",
      "  [2.99904829e+02 1.00000000e+00]\n",
      "  [2.99851547e+02 2.00000000e+00]\n",
      "  ...\n",
      "  [1.15264864e+03 2.00000000e+00]\n",
      "  [1.15274994e+03 1.00000000e+00]\n",
      "  [1.15285141e+03 0.00000000e+00]]]\n"
     ]
    },
    {
     "name": "stderr",
     "output_type": "stream",
     "text": [
      "\n",
      "\n",
      "t:  22%|██████████████▎                                                   | 235/1085 [04:44<17:18,  1.22s/it, now=None]\u001b[A\u001b[A"
     ]
    },
    {
     "name": "stdout",
     "output_type": "stream",
     "text": [
      "86564.24886421348 28968.693520095494\n",
      "86645.51587720672 m 29049.66587128617 m\n",
      "[[[2.96676097e+02 0.00000000e+00]\n",
      "  [2.96632486e+02 1.00000000e+00]\n",
      "  [2.96588885e+02 2.00000000e+00]\n",
      "  ...\n",
      "  [1.14495272e+03 2.00000000e+00]\n",
      "  [1.14500475e+03 1.00000000e+00]\n",
      "  [1.14505681e+03 0.00000000e+00]]]\n"
     ]
    },
    {
     "name": "stderr",
     "output_type": "stream",
     "text": [
      "\n",
      "\n",
      "t:  22%|██████████████▎                                                   | 236/1085 [04:45<17:17,  1.22s/it, now=None]\u001b[A\u001b[A"
     ]
    },
    {
     "name": "stdout",
     "output_type": "stream",
     "text": [
      "130877.40957414557 7052.123508764211\n",
      "130970.85668121596 m 7119.172823450537 m\n",
      "[[[3.01114897e+02 0.00000000e+00]\n",
      "  [3.01066871e+02 1.00000000e+00]\n",
      "  [3.01018854e+02 2.00000000e+00]\n",
      "  ...\n",
      "  [1.14243453e+03 2.00000000e+00]\n",
      "  [1.14251983e+03 1.00000000e+00]\n",
      "  [1.14260526e+03 0.00000000e+00]]]\n"
     ]
    },
    {
     "name": "stderr",
     "output_type": "stream",
     "text": [
      "\n",
      "\n",
      "t:  22%|██████████████▍                                                   | 237/1085 [04:46<17:10,  1.21s/it, now=None]\u001b[A\u001b[A"
     ]
    },
    {
     "name": "stdout",
     "output_type": "stream",
     "text": [
      "115026.52002972897 27528.447768921484\n",
      "114932.09367997937 m 27586.90703116742 m\n",
      "[[[2.98328107e+02 0.00000000e+00]\n",
      "  [2.98285737e+02 1.00000000e+00]\n",
      "  [2.98243359e+02 2.00000000e+00]\n",
      "  ...\n",
      "  [1.13562063e+03 2.00000000e+00]\n",
      "  [1.13566245e+03 1.00000000e+00]\n",
      "  [1.13570431e+03 0.00000000e+00]]]\n"
     ]
    },
    {
     "name": "stderr",
     "output_type": "stream",
     "text": [
      "\n",
      "\n",
      "t:  22%|██████████████▍                                                   | 238/1085 [04:48<17:06,  1.21s/it, now=None]\u001b[A\u001b[A"
     ]
    },
    {
     "name": "stdout",
     "output_type": "stream",
     "text": [
      "35297.48923689045 8352.925120333855\n",
      "35201.18293386075 m 8296.758549836894 m\n",
      "[[[2.97955849e+02 0.00000000e+00]\n",
      "  [2.97919958e+02 1.00000000e+00]\n",
      "  [2.97884038e+02 2.00000000e+00]\n",
      "  ...\n",
      "  [1.12582728e+03 2.00000000e+00]\n",
      "  [1.12580945e+03 1.00000000e+00]\n",
      "  [1.12579150e+03 0.00000000e+00]]]\n"
     ]
    },
    {
     "name": "stderr",
     "output_type": "stream",
     "text": [
      "\n",
      "\n",
      "t:  22%|██████████████▌                                                   | 239/1085 [04:49<17:05,  1.21s/it, now=None]\u001b[A\u001b[A"
     ]
    },
    {
     "name": "stdout",
     "output_type": "stream",
     "text": [
      "18553.005441639012 5974.438484035133\n",
      "18450.872689365886 m 5907.7431946711795 m\n",
      "[[[2.97028827e+02 0.00000000e+00]\n",
      "  [2.96999785e+02 1.00000000e+00]\n",
      "  [2.96970689e+02 2.00000000e+00]\n",
      "  ...\n",
      "  [1.12244612e+03 2.00000000e+00]\n",
      "  [1.12241511e+03 1.00000000e+00]\n",
      "  [1.12238394e+03 0.00000000e+00]]]\n"
     ]
    },
    {
     "name": "stderr",
     "output_type": "stream",
     "text": [
      "\n",
      "\n",
      "t:  22%|██████████████▌                                                   | 240/1085 [04:50<17:02,  1.21s/it, now=None]\u001b[A\u001b[A"
     ]
    },
    {
     "name": "stdout",
     "output_type": "stream",
     "text": [
      "13355.903675831301 3926.0757332459852\n",
      "13249.694002443322 m 3847.719684611785 m\n",
      "[[[2.96519158e+02 0.00000000e+00]\n",
      "  [2.96496115e+02 1.00000000e+00]\n",
      "  [2.96472996e+02 2.00000000e+00]\n",
      "  ...\n",
      "  [1.11974597e+03 2.00000000e+00]\n",
      "  [1.11968637e+03 1.00000000e+00]\n",
      "  [1.11962651e+03 0.00000000e+00]]]\n"
     ]
    },
    {
     "name": "stderr",
     "output_type": "stream",
     "text": [
      "\n",
      "\n",
      "t:  22%|██████████████▋                                                   | 241/1085 [04:51<17:02,  1.21s/it, now=None]\u001b[A\u001b[A"
     ]
    },
    {
     "name": "stdout",
     "output_type": "stream",
     "text": [
      "8015.966089802729 27842.744721891217\n",
      "7871.337444841206 m 27851.046103917222 m\n",
      "[[[3.06928860e+02 0.00000000e+00]\n",
      "  [3.06906689e+02 1.00000000e+00]\n",
      "  [3.06884391e+02 2.00000000e+00]\n",
      "  ...\n",
      "  [1.11508028e+03 2.00000000e+00]\n",
      "  [1.11509769e+03 1.00000000e+00]\n",
      "  [1.11511514e+03 0.00000000e+00]]]\n"
     ]
    },
    {
     "name": "stderr",
     "output_type": "stream",
     "text": [
      "\n",
      "\n",
      "t:  22%|██████████████▋                                                   | 242/1085 [04:52<16:56,  1.21s/it, now=None]\u001b[A\u001b[A"
     ]
    },
    {
     "name": "stdout",
     "output_type": "stream",
     "text": [
      "8501.462467386462 15619.79442628436\n",
      "8392.736244682412 m 15676.028094200088 m\n",
      "[[[2.93323685e+02 0.00000000e+00]\n",
      "  [2.93315772e+02 1.00000000e+00]\n",
      "  [2.93307740e+02 2.00000000e+00]\n",
      "  ...\n",
      "  [1.13260114e+03 2.00000000e+00]\n",
      "  [1.13265220e+03 1.00000000e+00]\n",
      "  [1.13270334e+03 0.00000000e+00]]]\n"
     ]
    },
    {
     "name": "stderr",
     "output_type": "stream",
     "text": [
      "\n",
      "\n",
      "t:  22%|██████████████▊                                                   | 243/1085 [04:54<16:59,  1.21s/it, now=None]\u001b[A\u001b[A"
     ]
    },
    {
     "name": "stdout",
     "output_type": "stream",
     "text": [
      "7033.356837273943 4769.008056307519\n",
      "6902.163746426495 m 4785.497804943199 m\n",
      "[[[2.98641469e+02 0.00000000e+00]\n",
      "  [2.98632405e+02 1.00000000e+00]\n",
      "  [2.98623196e+02 2.00000000e+00]\n",
      "  ...\n",
      "  [1.12715960e+03 2.00000000e+00]\n",
      "  [1.12724625e+03 1.00000000e+00]\n",
      "  [1.12733312e+03 0.00000000e+00]]]\n"
     ]
    },
    {
     "name": "stderr",
     "output_type": "stream",
     "text": [
      "\n",
      "\n",
      "t:  22%|██████████████▊                                                   | 244/1085 [04:55<16:54,  1.21s/it, now=None]\u001b[A\u001b[A"
     ]
    },
    {
     "name": "stdout",
     "output_type": "stream",
     "text": [
      "8159.237611815827 4762.616886759308\n",
      "8041.782411111638 m 4792.157471068242 m\n",
      "[[[2.94513302e+02 0.00000000e+00]\n",
      "  [2.94503142e+02 1.00000000e+00]\n",
      "  [2.94492857e+02 2.00000000e+00]\n",
      "  ...\n",
      "  [1.13177143e+03 2.00000000e+00]\n",
      "  [1.13186439e+03 1.00000000e+00]\n",
      "  [1.13195757e+03 0.00000000e+00]]]\n"
     ]
    },
    {
     "name": "stderr",
     "output_type": "stream",
     "text": [
      "\n",
      "\n",
      "t:  23%|██████████████▉                                                   | 245/1085 [04:56<16:55,  1.21s/it, now=None]\u001b[A\u001b[A"
     ]
    },
    {
     "name": "stdout",
     "output_type": "stream",
     "text": [
      "7762.711787878174 5295.865041840156\n",
      "7663.743678570431 m 5348.9824265984125 m\n",
      "[[[2.88015627e+02 0.00000000e+00]\n",
      "  [2.88016651e+02 1.00000000e+00]\n",
      "  [2.88017545e+02 2.00000000e+00]\n",
      "  ...\n",
      "  [1.13683371e+03 2.00000000e+00]\n",
      "  [1.13692994e+03 1.00000000e+00]\n",
      "  [1.13702635e+03 0.00000000e+00]]]\n"
     ]
    },
    {
     "name": "stderr",
     "output_type": "stream",
     "text": [
      "\n",
      "\n",
      "t:  23%|██████████████▉                                                   | 246/1085 [04:57<16:55,  1.21s/it, now=None]\u001b[A\u001b[A"
     ]
    },
    {
     "name": "stdout",
     "output_type": "stream",
     "text": [
      "5281.934012920288 24112.31408022548\n",
      "5169.951599208428 m 24142.21535815275 m\n",
      "[[[2.91452720e+02 0.00000000e+00]\n",
      "  [2.91471099e+02 1.00000000e+00]\n",
      "  [2.91489286e+02 2.00000000e+00]\n",
      "  ...\n",
      "  [1.11984217e+03 2.00000000e+00]\n",
      "  [1.11987210e+03 1.00000000e+00]\n",
      "  [1.11990207e+03 0.00000000e+00]]]\n"
     ]
    },
    {
     "name": "stderr",
     "output_type": "stream",
     "text": [
      "\n",
      "\n",
      "t:  23%|███████████████                                                   | 247/1085 [04:59<16:54,  1.21s/it, now=None]\u001b[A\u001b[A"
     ]
    },
    {
     "name": "stdout",
     "output_type": "stream",
     "text": [
      "4592.069833489162 8964.674308885817\n",
      "4482.688291210795 m 9010.026178812142 m\n",
      "[[[2.88612837e+02 0.00000000e+00]\n",
      "  [2.88643652e+02 1.00000000e+00]\n",
      "  [2.88674243e+02 2.00000000e+00]\n",
      "  ...\n",
      "  [1.12591425e+03 2.00000000e+00]\n",
      "  [1.12597779e+03 1.00000000e+00]\n",
      "  [1.12604144e+03 0.00000000e+00]]]\n"
     ]
    },
    {
     "name": "stderr",
     "output_type": "stream",
     "text": [
      "\n",
      "\n",
      "t:  23%|███████████████                                                   | 248/1085 [05:00<16:57,  1.22s/it, now=None]\u001b[A\u001b[A"
     ]
    },
    {
     "name": "stdout",
     "output_type": "stream",
     "text": [
      "7010.46847375415 7716.523685242371\n",
      "6883.0207310231335 m 7726.99098495879 m\n",
      "[[[3.00828727e+02 0.00000000e+00]\n",
      "  [3.00821609e+02 1.00000000e+00]\n",
      "  [3.00814346e+02 2.00000000e+00]\n",
      "  ...\n",
      "  [1.09500736e+03 2.00000000e+00]\n",
      "  [1.09495385e+03 1.00000000e+00]\n",
      "  [1.09490021e+03 0.00000000e+00]]]\n"
     ]
    },
    {
     "name": "stderr",
     "output_type": "stream",
     "text": [
      "\n",
      "\n",
      "t:  23%|███████████████▏                                                  | 249/1085 [05:01<17:03,  1.22s/it, now=None]\u001b[A\u001b[A"
     ]
    },
    {
     "name": "stdout",
     "output_type": "stream",
     "text": [
      "7247.837765860001 5624.747122767935\n",
      "7136.742025136459 m 5609.687155888134 m\n",
      "[[[2.93034975e+02 0.00000000e+00]\n",
      "  [2.93033775e+02 1.00000000e+00]\n",
      "  [2.93032434e+02 2.00000000e+00]\n",
      "  ...\n",
      "  [1.10092276e+03 2.00000000e+00]\n",
      "  [1.10086325e+03 1.00000000e+00]\n",
      "  [1.10080356e+03 0.00000000e+00]]]\n"
     ]
    },
    {
     "name": "stderr",
     "output_type": "stream",
     "text": [
      "\n",
      "\n",
      "t:  23%|███████████████▏                                                  | 250/1085 [05:02<16:58,  1.22s/it, now=None]\u001b[A\u001b[A"
     ]
    },
    {
     "name": "stdout",
     "output_type": "stream",
     "text": [
      "12765.022055848487 5672.200420908044\n",
      "12655.018736404814 m 5649.519616601132 m\n",
      "[[[2.93977434e+02 0.00000000e+00]\n",
      "  [2.93953894e+02 1.00000000e+00]\n",
      "  [2.93930275e+02 2.00000000e+00]\n",
      "  ...\n",
      "  [1.10144424e+03 2.00000000e+00]\n",
      "  [1.10138893e+03 1.00000000e+00]\n",
      "  [1.10133343e+03 0.00000000e+00]]]\n"
     ]
    },
    {
     "name": "stderr",
     "output_type": "stream",
     "text": [
      "\n",
      "\n",
      "t:  23%|███████████████▎                                                  | 251/1085 [05:03<16:58,  1.22s/it, now=None]\u001b[A\u001b[A"
     ]
    },
    {
     "name": "stdout",
     "output_type": "stream",
     "text": [
      "8952.882936104988 4758.789864834526\n",
      "8853.414964224949 m 4713.362367834474 m\n",
      "[[[2.88468847e+02 0.00000000e+00]\n",
      "  [2.88463066e+02 1.00000000e+00]\n",
      "  [2.88457172e+02 2.00000000e+00]\n",
      "  ...\n",
      "  [1.10110237e+03 2.00000000e+00]\n",
      "  [1.10104484e+03 1.00000000e+00]\n",
      "  [1.10098709e+03 0.00000000e+00]]]\n"
     ]
    },
    {
     "name": "stderr",
     "output_type": "stream",
     "text": [
      "\n",
      "\n",
      "t:  23%|███████████████▎                                                  | 252/1085 [05:05<16:54,  1.22s/it, now=None]\u001b[A\u001b[A"
     ]
    },
    {
     "name": "stdout",
     "output_type": "stream",
     "text": [
      "9192.648142458249 3335.319119642215\n",
      "9124.10734755456 m 3231.751188509087 m\n",
      "[[[2.75244663e+02 0.00000000e+00]\n",
      "  [2.75252537e+02 1.00000000e+00]\n",
      "  [2.75260301e+02 2.00000000e+00]\n",
      "  ...\n",
      "  [1.11416862e+03 2.00000000e+00]\n",
      "  [1.11410240e+03 1.00000000e+00]\n",
      "  [1.11403586e+03 0.00000000e+00]]]\n"
     ]
    },
    {
     "name": "stderr",
     "output_type": "stream",
     "text": [
      "\n",
      "\n",
      "t:  23%|███████████████▍                                                  | 253/1085 [05:06<16:51,  1.22s/it, now=None]\u001b[A\u001b[A"
     ]
    },
    {
     "name": "stdout",
     "output_type": "stream",
     "text": [
      "40722.20619378486 6999.221438027556\n",
      "40649.67082206553 m 6938.066435613502 m\n",
      "[[[2.81154730e+02 0.00000000e+00]\n",
      "  [2.81128873e+02 1.00000000e+00]\n",
      "  [2.81102991e+02 2.00000000e+00]\n",
      "  ...\n",
      "  [1.11156241e+03 2.00000000e+00]\n",
      "  [1.11153816e+03 1.00000000e+00]\n",
      "  [1.11151376e+03 0.00000000e+00]]]\n"
     ]
    },
    {
     "name": "stderr",
     "output_type": "stream",
     "text": [
      "\n",
      "\n",
      "t:  23%|███████████████▍                                                  | 254/1085 [05:07<16:51,  1.22s/it, now=None]\u001b[A\u001b[A"
     ]
    },
    {
     "name": "stdout",
     "output_type": "stream",
     "text": [
      "61823.6819027713 33180.33633251201\n",
      "61906.47814744504 m 33215.360850121964 m\n",
      "[[[2.84744374e+02 0.00000000e+00]\n",
      "  [2.84698293e+02 1.00000000e+00]\n",
      "  [2.84652228e+02 2.00000000e+00]\n",
      "  ...\n",
      "  [1.11421568e+03 2.00000000e+00]\n",
      "  [1.11424386e+03 1.00000000e+00]\n",
      "  [1.11427207e+03 0.00000000e+00]]]\n"
     ]
    },
    {
     "name": "stderr",
     "output_type": "stream",
     "text": [
      "\n",
      "\n",
      "t:  24%|███████████████▌                                                  | 255/1085 [05:08<16:46,  1.21s/it, now=None]\u001b[A\u001b[A"
     ]
    },
    {
     "name": "stdout",
     "output_type": "stream",
     "text": [
      "21823.59300701407 94473.50122620654\n",
      "21925.122663440445 m 94497.89603151557 m\n",
      "[[[2.91897760e+02 0.00000000e+00]\n",
      "  [2.91831544e+02 1.00000000e+00]\n",
      "  [2.91765373e+02 2.00000000e+00]\n",
      "  ...\n",
      "  [1.10690050e+03 2.00000000e+00]\n",
      "  [1.10691625e+03 1.00000000e+00]\n",
      "  [1.10693201e+03 0.00000000e+00]]]\n"
     ]
    },
    {
     "name": "stderr",
     "output_type": "stream",
     "text": [
      "\n",
      "\n",
      "t:  24%|███████████████▌                                                  | 256/1085 [05:10<16:45,  1.21s/it, now=None]\u001b[A\u001b[A"
     ]
    },
    {
     "name": "stdout",
     "output_type": "stream",
     "text": [
      "15800.406370148909 10534.062958357863\n",
      "15902.526313688297 m 10498.34152600296 m\n",
      "[[[2.91374097e+02 0.00000000e+00]\n",
      "  [2.91301071e+02 1.00000000e+00]\n",
      "  [2.91228108e+02 2.00000000e+00]\n",
      "  ...\n",
      "  [1.10340472e+03 2.00000000e+00]\n",
      "  [1.10338645e+03 1.00000000e+00]\n",
      "  [1.10336808e+03 0.00000000e+00]]]\n"
     ]
    },
    {
     "name": "stderr",
     "output_type": "stream",
     "text": [
      "\n",
      "\n",
      "t:  24%|███████████████▋                                                  | 257/1085 [05:11<16:44,  1.21s/it, now=None]\u001b[A\u001b[A"
     ]
    },
    {
     "name": "stdout",
     "output_type": "stream",
     "text": [
      "12071.917384401477 202974.88058784447\n",
      "12140.909003856908 m 202905.37865753094 m\n",
      "[[[2.78953474e+02 0.00000000e+00]\n",
      "  [2.78889151e+02 1.00000000e+00]\n",
      "  [2.78824909e+02 2.00000000e+00]\n",
      "  ...\n",
      "  [1.12016305e+03 2.00000000e+00]\n",
      "  [1.12019482e+03 1.00000000e+00]\n",
      "  [1.12022657e+03 0.00000000e+00]]]\n"
     ]
    },
    {
     "name": "stderr",
     "output_type": "stream",
     "text": [
      "\n",
      "\n",
      "t:  24%|███████████████▋                                                  | 258/1085 [05:12<16:39,  1.21s/it, now=None]\u001b[A\u001b[A"
     ]
    },
    {
     "name": "stdout",
     "output_type": "stream",
     "text": [
      "8716.194768446143 19995.133273643594\n",
      "8804.597515023785 m 19936.30078381024 m\n",
      "[[[2.85219756e+02 0.00000000e+00]\n",
      "  [2.85134155e+02 1.00000000e+00]\n",
      "  [2.85048669e+02 2.00000000e+00]\n",
      "  ...\n",
      "  [1.11377925e+03 2.00000000e+00]\n",
      "  [1.11378899e+03 1.00000000e+00]\n",
      "  [1.11379867e+03 0.00000000e+00]]]\n"
     ]
    },
    {
     "name": "stderr",
     "output_type": "stream",
     "text": [
      "\n",
      "\n",
      "t:  24%|███████████████▊                                                  | 259/1085 [05:13<16:37,  1.21s/it, now=None]\u001b[A\u001b[A"
     ]
    },
    {
     "name": "stdout",
     "output_type": "stream",
     "text": [
      "8639.190852833053 14198.526789093863\n",
      "8691.969480413918 m 14096.520419416265 m\n",
      "[[[2.70666295e+02 0.00000000e+00]\n",
      "  [2.70597489e+02 1.00000000e+00]\n",
      "  [2.70528799e+02 2.00000000e+00]\n",
      "  ...\n",
      "  [1.12892677e+03 2.00000000e+00]\n",
      "  [1.12894956e+03 1.00000000e+00]\n",
      "  [1.12897228e+03 0.00000000e+00]]]\n"
     ]
    },
    {
     "name": "stderr",
     "output_type": "stream",
     "text": [
      "\n",
      "\n",
      "t:  24%|███████████████▊                                                  | 260/1085 [05:14<16:34,  1.21s/it, now=None]\u001b[A\u001b[A"
     ]
    },
    {
     "name": "stdout",
     "output_type": "stream",
     "text": [
      "7092.304575086822 13712.070289739986\n",
      "7170.687645325801 m 13643.356815991332 m\n",
      "[[[2.79876739e+02 0.00000000e+00]\n",
      "  [2.79786152e+02 1.00000000e+00]\n",
      "  [2.79695706e+02 2.00000000e+00]\n",
      "  ...\n",
      "  [1.11804564e+03 2.00000000e+00]\n",
      "  [1.11805151e+03 1.00000000e+00]\n",
      "  [1.11805731e+03 0.00000000e+00]]]\n"
     ]
    },
    {
     "name": "stderr",
     "output_type": "stream",
     "text": [
      "\n",
      "\n",
      "t:  24%|███████████████▉                                                  | 261/1085 [05:16<16:36,  1.21s/it, now=None]\u001b[A\u001b[A"
     ]
    },
    {
     "name": "stdout",
     "output_type": "stream",
     "text": [
      "5796.488463425703 5800.982630364594\n",
      "5882.651881831133 m 5733.078855844665 m\n",
      "[[[2.82763625e+02 0.00000000e+00]\n",
      "  [2.82657502e+02 1.00000000e+00]\n",
      "  [2.82551552e+02 2.00000000e+00]\n",
      "  ...\n",
      "  [1.11264146e+03 2.00000000e+00]\n",
      "  [1.11260910e+03 1.00000000e+00]\n",
      "  [1.11257657e+03 0.00000000e+00]]]\n"
     ]
    },
    {
     "name": "stderr",
     "output_type": "stream",
     "text": [
      "\n",
      "\n",
      "t:  24%|███████████████▉                                                  | 262/1085 [05:17<16:35,  1.21s/it, now=None]\u001b[A\u001b[A"
     ]
    },
    {
     "name": "stdout",
     "output_type": "stream",
     "text": [
      "4377.708534897071 3194.6398465790135\n",
      "4498.8201454226855 m 3145.1401486561695 m\n",
      "[[[2.95688002e+02 0.00000000e+00]\n",
      "  [2.95544210e+02 1.00000000e+00]\n",
      "  [2.95400646e+02 2.00000000e+00]\n",
      "  ...\n",
      "  [1.09836530e+03 2.00000000e+00]\n",
      "  [1.09826915e+03 1.00000000e+00]\n",
      "  [1.09817269e+03 0.00000000e+00]]]\n"
     ]
    },
    {
     "name": "stderr",
     "output_type": "stream",
     "text": [
      "\n",
      "\n",
      "t:  24%|███████████████▉                                                  | 263/1085 [05:18<16:34,  1.21s/it, now=None]\u001b[A\u001b[A"
     ]
    },
    {
     "name": "stdout",
     "output_type": "stream",
     "text": [
      "4192.858335138152 8131.323626390646\n",
      "4363.156465778721 m 8130.377463084236 m\n",
      "[[[3.12897765e+02 0.00000000e+00]\n",
      "  [3.12726734e+02 1.00000000e+00]\n",
      "  [3.12555942e+02 2.00000000e+00]\n",
      "  ...\n",
      "  [1.09021361e+03 2.00000000e+00]\n",
      "  [1.09016807e+03 1.00000000e+00]\n",
      "  [1.09012241e+03 0.00000000e+00]]]\n"
     ]
    },
    {
     "name": "stderr",
     "output_type": "stream",
     "text": [
      "\n",
      "\n",
      "t:  24%|████████████████                                                  | 264/1085 [05:19<16:28,  1.20s/it, now=None]\u001b[A\u001b[A"
     ]
    },
    {
     "name": "stdout",
     "output_type": "stream",
     "text": [
      "4218.209799043598 5616.047050179444\n",
      "4371.764635496892 m 5576.266009147981 m\n",
      "[[[3.04327482e+02 0.00000000e+00]\n",
      "  [3.04164977e+02 1.00000000e+00]\n",
      "  [3.04002710e+02 2.00000000e+00]\n",
      "  ...\n",
      "  [1.09959327e+03 2.00000000e+00]\n",
      "  [1.09954540e+03 1.00000000e+00]\n",
      "  [1.09949735e+03 0.00000000e+00]]]\n"
     ]
    },
    {
     "name": "stderr",
     "output_type": "stream",
     "text": [
      "\n",
      "\n",
      "t:  24%|████████████████                                                  | 265/1085 [05:20<16:34,  1.21s/it, now=None]\u001b[A\u001b[A"
     ]
    },
    {
     "name": "stdout",
     "output_type": "stream",
     "text": [
      "4070.756044424527 50936.96040737961\n",
      "4282.7268127649095 m 50956.15659518227 m\n",
      "[[[3.24080415e+02 0.00000000e+00]\n",
      "  [3.23886846e+02 1.00000000e+00]\n",
      "  [3.23693523e+02 2.00000000e+00]\n",
      "  ...\n",
      "  [1.08899490e+03 2.00000000e+00]\n",
      "  [1.08897829e+03 1.00000000e+00]\n",
      "  [1.08896166e+03 0.00000000e+00]]]\n"
     ]
    },
    {
     "name": "stderr",
     "output_type": "stream",
     "text": [
      "\n",
      "\n",
      "t:  25%|████████████████▏                                                 | 266/1085 [05:22<16:53,  1.24s/it, now=None]\u001b[A\u001b[A"
     ]
    },
    {
     "name": "stdout",
     "output_type": "stream",
     "text": [
      "3968.62901825734 4974.001183611894\n",
      "4230.075866871055 m 5025.260395380198 m\n",
      "[[[3.40855957e+02 0.00000000e+00]\n",
      "  [3.40636480e+02 1.00000000e+00]\n",
      "  [3.40417256e+02 2.00000000e+00]\n",
      "  ...\n",
      "  [1.06533361e+03 2.00000000e+00]\n",
      "  [1.06523367e+03 1.00000000e+00]\n",
      "  [1.06513352e+03 0.00000000e+00]]]\n"
     ]
    },
    {
     "name": "stderr",
     "output_type": "stream",
     "text": [
      "\n",
      "\n",
      "t:  25%|████████████████▏                                                 | 267/1085 [05:23<16:40,  1.22s/it, now=None]\u001b[A\u001b[A"
     ]
    },
    {
     "name": "stdout",
     "output_type": "stream",
     "text": [
      "3971.0841874056337 12913.797874256923\n",
      "4214.629722158211 m 12952.38193252412 m\n",
      "[[[3.33859131e+02 0.00000000e+00]\n",
      "  [3.33648236e+02 1.00000000e+00]\n",
      "  [3.33437594e+02 2.00000000e+00]\n",
      "  ...\n",
      "  [1.07875734e+03 2.00000000e+00]\n",
      "  [1.07870980e+03 1.00000000e+00]\n",
      "  [1.07866218e+03 0.00000000e+00]]]\n"
     ]
    },
    {
     "name": "stderr",
     "output_type": "stream",
     "text": [
      "\n",
      "\n",
      "t:  25%|████████████████▎                                                 | 268/1085 [05:24<16:35,  1.22s/it, now=None]\u001b[A\u001b[A"
     ]
    },
    {
     "name": "stdout",
     "output_type": "stream",
     "text": [
      "4842.2589078564315 6698.164548657002\n",
      "5084.378250082253 m 6727.885576201326 m\n",
      "[[[3.30180055e+02 0.00000000e+00]\n",
      "  [3.29986533e+02 1.00000000e+00]\n",
      "  [3.29793219e+02 2.00000000e+00]\n",
      "  ...\n",
      "  [1.07696284e+03 2.00000000e+00]\n",
      "  [1.07689268e+03 1.00000000e+00]\n",
      "  [1.07682237e+03 0.00000000e+00]]]\n"
     ]
    },
    {
     "name": "stderr",
     "output_type": "stream",
     "text": [
      "\n",
      "\n",
      "t:  25%|████████████████▎                                                 | 269/1085 [05:25<16:28,  1.21s/it, now=None]\u001b[A\u001b[A"
     ]
    },
    {
     "name": "stdout",
     "output_type": "stream",
     "text": [
      "4223.929437720837 7428.437748870053\n",
      "4408.613449012936 m 7385.053272642008 m\n",
      "[[[3.08046869e+02 0.00000000e+00]\n",
      "  [3.07869622e+02 1.00000000e+00]\n",
      "  [3.07692611e+02 2.00000000e+00]\n",
      "  ...\n",
      "  [1.10476621e+03 2.00000000e+00]\n",
      "  [1.10473662e+03 1.00000000e+00]\n",
      "  [1.10470689e+03 0.00000000e+00]]]\n"
     ]
    },
    {
     "name": "stderr",
     "output_type": "stream",
     "text": [
      "\n",
      "\n",
      "t:  25%|████████████████▍                                                 | 270/1085 [05:26<16:23,  1.21s/it, now=None]\u001b[A\u001b[A"
     ]
    },
    {
     "name": "stdout",
     "output_type": "stream",
     "text": [
      "4376.447313950256 7714.990587143471\n",
      "4584.943678427386 m 7690.06577046571 m\n",
      "[[[3.13561686e+02 0.00000000e+00]\n",
      "  [3.13376119e+02 1.00000000e+00]\n",
      "  [3.13190781e+02 2.00000000e+00]\n",
      "  ...\n",
      "  [1.09886913e+03 2.00000000e+00]\n",
      "  [1.09883259e+03 1.00000000e+00]\n",
      "  [1.09879593e+03 0.00000000e+00]]]\n"
     ]
    },
    {
     "name": "stderr",
     "output_type": "stream",
     "text": [
      "\n",
      "\n",
      "t:  25%|████████████████▍                                                 | 271/1085 [05:28<16:24,  1.21s/it, now=None]\u001b[A\u001b[A"
     ]
    },
    {
     "name": "stdout",
     "output_type": "stream",
     "text": [
      "4585.346040488062 6073.95838054813\n",
      "4781.911006535163 m 6023.788467085187 m\n",
      "[[[3.06437256e+02 0.00000000e+00]\n",
      "  [3.06261245e+02 1.00000000e+00]\n",
      "  [3.06085451e+02 2.00000000e+00]\n",
      "  ...\n",
      "  [1.10477336e+03 2.00000000e+00]\n",
      "  [1.10473556e+03 1.00000000e+00]\n",
      "  [1.10469760e+03 0.00000000e+00]]]\n"
     ]
    },
    {
     "name": "stderr",
     "output_type": "stream",
     "text": [
      "\n",
      "\n",
      "t:  25%|████████████████▌                                                 | 272/1085 [05:29<16:21,  1.21s/it, now=None]\u001b[A\u001b[A"
     ]
    },
    {
     "name": "stdout",
     "output_type": "stream",
     "text": [
      "4754.022106562693 3477.602075244455\n",
      "4978.842121892251 m 3461.560113689015 m\n",
      "[[[3.14786124e+02 0.00000000e+00]\n",
      "  [3.14599459e+02 1.00000000e+00]\n",
      "  [3.14413004e+02 2.00000000e+00]\n",
      "  ...\n",
      "  [1.08844255e+03 2.00000000e+00]\n",
      "  [1.08834112e+03 1.00000000e+00]\n",
      "  [1.08823940e+03 0.00000000e+00]]]\n"
     ]
    },
    {
     "name": "stderr",
     "output_type": "stream",
     "text": [
      "\n",
      "\n",
      "t:  25%|████████████████▌                                                 | 273/1085 [05:30<16:21,  1.21s/it, now=None]\u001b[A\u001b[A"
     ]
    },
    {
     "name": "stdout",
     "output_type": "stream",
     "text": [
      "5164.43614253091 4020.3312822331463\n",
      "5436.633599341157 m 4045.33187646785 m\n",
      "[[[3.29682450e+02 0.00000000e+00]\n",
      "  [3.29479312e+02 1.00000000e+00]\n",
      "  [3.29276370e+02 2.00000000e+00]\n",
      "  ...\n",
      "  [1.07368157e+03 2.00000000e+00]\n",
      "  [1.07357598e+03 1.00000000e+00]\n",
      "  [1.07347014e+03 0.00000000e+00]]]\n"
     ]
    },
    {
     "name": "stderr",
     "output_type": "stream",
     "text": [
      "\n",
      "\n",
      "t:  25%|████████████████▋                                                 | 274/1085 [05:31<16:21,  1.21s/it, now=None]\u001b[A\u001b[A"
     ]
    },
    {
     "name": "stdout",
     "output_type": "stream",
     "text": [
      "6425.361735224273 10710.31314729248\n",
      "6694.503496834562 m 10716.18303770647 m\n",
      "[[[3.25363904e+02 0.00000000e+00]\n",
      "  [3.25176263e+02 1.00000000e+00]\n",
      "  [3.24988778e+02 2.00000000e+00]\n",
      "  ...\n",
      "  [1.08773163e+03 2.00000000e+00]\n",
      "  [1.08769392e+03 1.00000000e+00]\n",
      "  [1.08765612e+03 0.00000000e+00]]]\n"
     ]
    },
    {
     "name": "stderr",
     "output_type": "stream",
     "text": [
      "\n",
      "\n",
      "t:  25%|████████████████▋                                                 | 275/1085 [05:33<16:19,  1.21s/it, now=None]\u001b[A\u001b[A"
     ]
    },
    {
     "name": "stdout",
     "output_type": "stream",
     "text": [
      "6851.587172982255 107654.49666735732\n",
      "7157.449481005327 m 107606.2702679214 m\n",
      "[[[3.36575343e+02 0.00000000e+00]\n",
      "  [3.36373792e+02 1.00000000e+00]\n",
      "  [3.36172389e+02 2.00000000e+00]\n",
      "  ...\n",
      "  [1.08055075e+03 2.00000000e+00]\n",
      "  [1.08053090e+03 1.00000000e+00]\n",
      "  [1.08051105e+03 0.00000000e+00]]]\n"
     ]
    },
    {
     "name": "stderr",
     "output_type": "stream",
     "text": [
      "\n",
      "\n",
      "t:  25%|████████████████▊                                                 | 276/1085 [05:34<16:16,  1.21s/it, now=None]\u001b[A\u001b[A"
     ]
    },
    {
     "name": "stdout",
     "output_type": "stream",
     "text": [
      "9846.675177591052 254466.44195615005\n",
      "10147.673102493083 m 254445.26068266112 m\n",
      "[[[3.32141177e+02 0.00000000e+00]\n",
      "  [3.31958489e+02 1.00000000e+00]\n",
      "  [3.31775905e+02 2.00000000e+00]\n",
      "  ...\n",
      "  [1.08749591e+03 2.00000000e+00]\n",
      "  [1.08748713e+03 1.00000000e+00]\n",
      "  [1.08747835e+03 0.00000000e+00]]]\n"
     ]
    },
    {
     "name": "stderr",
     "output_type": "stream",
     "text": [
      "\n",
      "\n",
      "t:  26%|████████████████▊                                                 | 277/1085 [05:35<16:16,  1.21s/it, now=None]\u001b[A\u001b[A"
     ]
    },
    {
     "name": "stdout",
     "output_type": "stream",
     "text": [
      "20100.845293918912 28053.706051264355\n",
      "20411.61042835045 m 28084.889916368506 m\n",
      "[[[3.32476463e+02 0.00000000e+00]\n",
      "  [3.32308696e+02 1.00000000e+00]\n",
      "  [3.32140980e+02 2.00000000e+00]\n",
      "  ...\n",
      "  [1.08160458e+03 2.00000000e+00]\n",
      "  [1.08157620e+03 1.00000000e+00]\n",
      "  [1.08154778e+03 0.00000000e+00]]]\n"
     ]
    },
    {
     "name": "stderr",
     "output_type": "stream",
     "text": [
      "\n",
      "\n",
      "t:  26%|████████████████▉                                                 | 278/1085 [05:36<16:15,  1.21s/it, now=None]\u001b[A\u001b[A"
     ]
    },
    {
     "name": "stdout",
     "output_type": "stream",
     "text": [
      "308660.6045846095 347985.9761731601\n",
      "308971.68571299594 m 347995.53314658673 m\n",
      "[[[3.30008135e+02 0.00000000e+00]\n",
      "  [3.29858034e+02 1.00000000e+00]\n",
      "  [3.29707936e+02 2.00000000e+00]\n",
      "  ...\n",
      "  [1.09086460e+03 2.00000000e+00]\n",
      "  [1.09085891e+03 1.00000000e+00]\n",
      "  [1.09085321e+03 0.00000000e+00]]]\n"
     ]
    },
    {
     "name": "stderr",
     "output_type": "stream",
     "text": [
      "\n",
      "\n",
      "t:  26%|████████████████▉                                                 | 279/1085 [05:37<16:12,  1.21s/it, now=None]\u001b[A\u001b[A"
     ]
    },
    {
     "name": "stdout",
     "output_type": "stream",
     "text": [
      "421205.9807113618 59913.25915561625\n",
      "420908.442839977 m 59915.57222711947 m\n",
      "[[[3.24494348e+02 0.00000000e+00]\n",
      "  [3.24352764e+02 1.00000000e+00]\n",
      "  [3.24211179e+02 2.00000000e+00]\n",
      "  ...\n",
      "  [1.09641745e+03 2.00000000e+00]\n",
      "  [1.09641010e+03 1.00000000e+00]\n",
      "  [1.09640274e+03 0.00000000e+00]]]\n"
     ]
    },
    {
     "name": "stderr",
     "output_type": "stream",
     "text": [
      "\n",
      "\n",
      "t:  26%|█████████████████                                                 | 280/1085 [05:39<16:11,  1.21s/it, now=None]\u001b[A\u001b[A"
     ]
    },
    {
     "name": "stdout",
     "output_type": "stream",
     "text": [
      "18168.322043581993 12996.754584474422\n",
      "17836.652203534693 m 12970.266323248252 m\n",
      "[[[3.36117045e+02 0.00000000e+00]\n",
      "  [3.35980175e+02 1.00000000e+00]\n",
      "  [3.35843249e+02 2.00000000e+00]\n",
      "  ...\n",
      "  [1.09168998e+03 2.00000000e+00]\n",
      "  [1.09170594e+03 1.00000000e+00]\n",
      "  [1.09172197e+03 0.00000000e+00]]]\n"
     ]
    },
    {
     "name": "stderr",
     "output_type": "stream",
     "text": [
      "\n",
      "\n",
      "t:  26%|█████████████████                                                 | 281/1085 [05:40<16:32,  1.23s/it, now=None]\u001b[A\u001b[A"
     ]
    },
    {
     "name": "stdout",
     "output_type": "stream",
     "text": [
      "10414.841445059858 20174.919261427465\n",
      "10084.40637396167 m 20174.282688274277 m\n",
      "[[[3.35415295e+02 0.00000000e+00]\n",
      "  [3.35295417e+02 1.00000000e+00]\n",
      "  [3.35175438e+02 2.00000000e+00]\n",
      "  ...\n",
      "  [1.09725953e+03 2.00000000e+00]\n",
      "  [1.09727772e+03 1.00000000e+00]\n",
      "  [1.09729596e+03 0.00000000e+00]]]\n"
     ]
    },
    {
     "name": "stderr",
     "output_type": "stream",
     "text": [
      "\n",
      "\n",
      "t:  26%|█████████████████▏                                                | 282/1085 [05:41<16:37,  1.24s/it, now=None]\u001b[A\u001b[A"
     ]
    },
    {
     "name": "stdout",
     "output_type": "stream",
     "text": [
      "8476.578044078431 22486.72055767217\n",
      "8145.794531840667 m 22487.06620907105 m\n",
      "[[[3.35921866e+02 0.00000000e+00]\n",
      "  [3.35810767e+02 1.00000000e+00]\n",
      "  [3.35699543e+02 2.00000000e+00]\n",
      "  ...\n",
      "  [1.09363276e+03 2.00000000e+00]\n",
      "  [1.09361600e+03 1.00000000e+00]\n",
      "  [1.09359919e+03 0.00000000e+00]]]\n"
     ]
    },
    {
     "name": "stderr",
     "output_type": "stream",
     "text": [
      "\n",
      "\n",
      "t:  26%|█████████████████▏                                                | 283/1085 [05:42<16:27,  1.23s/it, now=None]\u001b[A\u001b[A"
     ]
    },
    {
     "name": "stdout",
     "output_type": "stream",
     "text": [
      "8208.453762364805 12402.731377352684\n",
      "7879.8970953927255 m 12403.516605167648 m\n",
      "[[[3.37695508e+02 0.00000000e+00]\n",
      "  [3.37586996e+02 1.00000000e+00]\n",
      "  [3.37478355e+02 2.00000000e+00]\n",
      "  ...\n",
      "  [1.09150597e+03 2.00000000e+00]\n",
      "  [1.09147548e+03 1.00000000e+00]\n",
      "  [1.09144492e+03 0.00000000e+00]]]\n"
     ]
    },
    {
     "name": "stderr",
     "output_type": "stream",
     "text": [
      "\n",
      "\n",
      "t:  26%|█████████████████▎                                                | 284/1085 [05:44<16:19,  1.22s/it, now=None]\u001b[A\u001b[A"
     ]
    },
    {
     "name": "stdout",
     "output_type": "stream",
     "text": [
      "6955.584186354868 14892.654993784186\n",
      "6625.937783637711 m 14872.20201309903 m\n",
      "[[[3.37500305e+02 0.00000000e+00]\n",
      "  [3.37400353e+02 1.00000000e+00]\n",
      "  [3.37300247e+02 2.00000000e+00]\n",
      "  ...\n",
      "  [1.09918298e+03 2.00000000e+00]\n",
      "  [1.09916779e+03 1.00000000e+00]\n",
      "  [1.09915252e+03 0.00000000e+00]]]\n"
     ]
    },
    {
     "name": "stderr",
     "output_type": "stream",
     "text": [
      "\n",
      "\n",
      "t:  26%|█████████████████▎                                                | 285/1085 [05:45<16:15,  1.22s/it, now=None]\u001b[A\u001b[A"
     ]
    },
    {
     "name": "stdout",
     "output_type": "stream",
     "text": [
      "6504.16947660203 10059.207534058338\n",
      "6147.28323470849 m 10062.268256251074 m\n",
      "[[[3.49567605e+02 0.00000000e+00]\n",
      "  [3.49459665e+02 1.00000000e+00]\n",
      "  [3.49351560e+02 2.00000000e+00]\n",
      "  ...\n",
      "  [1.09867501e+03 2.00000000e+00]\n",
      "  [1.09871363e+03 1.00000000e+00]\n",
      "  [1.09875235e+03 0.00000000e+00]]]\n"
     ]
    },
    {
     "name": "stderr",
     "output_type": "stream",
     "text": [
      "\n",
      "\n",
      "t:  26%|█████████████████▍                                                | 286/1085 [05:46<16:11,  1.22s/it, now=None]\u001b[A\u001b[A"
     ]
    },
    {
     "name": "stdout",
     "output_type": "stream",
     "text": [
      "6196.032155100098 6487.963516336568\n",
      "5856.308050278806 m 6512.530451053321 m\n",
      "[[[3.43420902e+02 0.00000000e+00]\n",
      "  [3.43323811e+02 1.00000000e+00]\n",
      "  [3.43226546e+02 2.00000000e+00]\n",
      "  ...\n",
      "  [1.10984588e+03 2.00000000e+00]\n",
      "  [1.10991538e+03 1.00000000e+00]\n",
      "  [1.10998503e+03 0.00000000e+00]]]\n"
     ]
    },
    {
     "name": "stderr",
     "output_type": "stream",
     "text": [
      "\n",
      "\n",
      "t:  26%|█████████████████▍                                                | 287/1085 [05:47<16:04,  1.21s/it, now=None]\u001b[A\u001b[A"
     ]
    },
    {
     "name": "stdout",
     "output_type": "stream",
     "text": [
      "5425.949385189776 2953.1680741461814\n",
      "5103.336607667958 m 2964.6602430526646 m\n",
      "[[[3.38393705e+02 0.00000000e+00]\n",
      "  [3.38313889e+02 1.00000000e+00]\n",
      "  [3.38233875e+02 2.00000000e+00]\n",
      "  ...\n",
      "  [1.12167034e+03 2.00000000e+00]\n",
      "  [1.12180461e+03 1.00000000e+00]\n",
      "  [1.12193921e+03 0.00000000e+00]]]\n"
     ]
    },
    {
     "name": "stderr",
     "output_type": "stream",
     "text": [
      "\n",
      "\n",
      "t:  27%|█████████████████▌                                                | 288/1085 [05:48<16:05,  1.21s/it, now=None]\u001b[A\u001b[A"
     ]
    },
    {
     "name": "stdout",
     "output_type": "stream",
     "text": [
      "5401.909024210094 3678.482162943639\n",
      "5095.994261456803 m 3730.3549896749346 m\n",
      "[[[3.31151541e+02 0.00000000e+00]\n",
      "  [3.31079491e+02 1.00000000e+00]\n",
      "  [3.31007243e+02 2.00000000e+00]\n",
      "  ...\n",
      "  [1.13150174e+03 2.00000000e+00]\n",
      "  [1.13162884e+03 1.00000000e+00]\n",
      "  [1.13175622e+03 0.00000000e+00]]]\n"
     ]
    },
    {
     "name": "stderr",
     "output_type": "stream",
     "text": [
      "\n",
      "\n",
      "t:  27%|█████████████████▌                                                | 289/1085 [05:50<16:07,  1.22s/it, now=None]\u001b[A\u001b[A"
     ]
    },
    {
     "name": "stdout",
     "output_type": "stream",
     "text": [
      "6902.713544151681 4904.072919476632\n",
      "6628.734821782073 m 5007.2236610466225 m\n",
      "[[[3.22346691e+02 0.00000000e+00]\n",
      "  [3.22272398e+02 1.00000000e+00]\n",
      "  [3.22197952e+02 2.00000000e+00]\n",
      "  ...\n",
      "  [1.14366095e+03 2.00000000e+00]\n",
      "  [1.14378677e+03 1.00000000e+00]\n",
      "  [1.14391279e+03 0.00000000e+00]]]\n"
     ]
    },
    {
     "name": "stderr",
     "output_type": "stream",
     "text": [
      "\n",
      "\n",
      "t:  27%|█████████████████▋                                                | 290/1085 [05:51<16:07,  1.22s/it, now=None]\u001b[A\u001b[A"
     ]
    },
    {
     "name": "stdout",
     "output_type": "stream",
     "text": [
      "6799.54405307746 2675.179284116573\n",
      "6503.583342890727 m 2757.72014640276 m\n",
      "[[[3.32894922e+02 0.00000000e+00]\n",
      "  [3.32811531e+02 1.00000000e+00]\n",
      "  [3.32727984e+02 2.00000000e+00]\n",
      "  ...\n",
      "  [1.14213199e+03 2.00000000e+00]\n",
      "  [1.14231270e+03 1.00000000e+00]\n",
      "  [1.14249379e+03 0.00000000e+00]]]\n"
     ]
    },
    {
     "name": "stderr",
     "output_type": "stream",
     "text": [
      "\n",
      "\n",
      "t:  27%|█████████████████▋                                                | 291/1085 [05:52<16:06,  1.22s/it, now=None]\u001b[A\u001b[A"
     ]
    },
    {
     "name": "stdout",
     "output_type": "stream",
     "text": [
      "6993.550324199712 2866.2070402785953\n",
      "6701.128450595401 m 2977.1198612452013 m\n",
      "[[[3.32354707e+02 0.00000000e+00]\n",
      "  [3.32271249e+02 1.00000000e+00]\n",
      "  [3.32187640e+02 2.00000000e+00]\n",
      "  ...\n",
      "  [1.14768508e+03 2.00000000e+00]\n",
      "  [1.14786930e+03 1.00000000e+00]\n",
      "  [1.14805387e+03 0.00000000e+00]]]\n"
     ]
    },
    {
     "name": "stderr",
     "output_type": "stream",
     "text": [
      "\n",
      "\n",
      "t:  27%|█████████████████▊                                                | 292/1085 [05:53<16:01,  1.21s/it, now=None]\u001b[A\u001b[A"
     ]
    },
    {
     "name": "stdout",
     "output_type": "stream",
     "text": [
      "7093.1098509849635 3786.979064122985\n",
      "6784.483703366714 m 3866.9828589215126 m\n",
      "[[[3.40249210e+02 0.00000000e+00]\n",
      "  [3.40157583e+02 1.00000000e+00]\n",
      "  [3.40065807e+02 2.00000000e+00]\n",
      "  ...\n",
      "  [1.13222977e+03 2.00000000e+00]\n",
      "  [1.13236719e+03 1.00000000e+00]\n",
      "  [1.13250487e+03 0.00000000e+00]]]\n"
     ]
    },
    {
     "name": "stderr",
     "output_type": "stream",
     "text": [
      "\n",
      "\n",
      "t:  27%|█████████████████▊                                                | 293/1085 [05:54<15:59,  1.21s/it, now=None]\u001b[A\u001b[A"
     ]
    },
    {
     "name": "stdout",
     "output_type": "stream",
     "text": [
      "8377.762980647834 4220.184866148884\n",
      "8088.885753948549 m 4319.85910075067 m\n",
      "[[[3.36200150e+02 0.00000000e+00]\n",
      "  [3.36108708e+02 1.00000000e+00]\n",
      "  [3.36017140e+02 2.00000000e+00]\n",
      "  ...\n",
      "  [1.13580658e+03 2.00000000e+00]\n",
      "  [1.13594312e+03 1.00000000e+00]\n",
      "  [1.13607989e+03 0.00000000e+00]]]\n"
     ]
    },
    {
     "name": "stderr",
     "output_type": "stream",
     "text": [
      "\n",
      "\n",
      "t:  27%|█████████████████▉                                                | 294/1085 [05:56<15:56,  1.21s/it, now=None]\u001b[A\u001b[A"
     ]
    },
    {
     "name": "stdout",
     "output_type": "stream",
     "text": [
      "12071.677856216871 6020.69776320125\n",
      "11791.86046835359 m 6143.889411407684 m\n",
      "[[[3.36659213e+02 0.00000000e+00]\n",
      "  [3.36557341e+02 1.00000000e+00]\n",
      "  [3.36455383e+02 2.00000000e+00]\n",
      "  ...\n",
      "  [1.13781977e+03 2.00000000e+00]\n",
      "  [1.13794111e+03 1.00000000e+00]\n",
      "  [1.13806262e+03 0.00000000e+00]]]\n"
     ]
    },
    {
     "name": "stderr",
     "output_type": "stream",
     "text": [
      "\n",
      "\n",
      "t:  27%|█████████████████▉                                                | 295/1085 [05:57<15:54,  1.21s/it, now=None]\u001b[A\u001b[A"
     ]
    },
    {
     "name": "stdout",
     "output_type": "stream",
     "text": [
      "19176.604098390133 31529.245690749947\n",
      "18907.761697703227 m 31641.79895215581 m\n",
      "[[[3.36423040e+02 0.00000000e+00]\n",
      "  [3.36314215e+02 1.00000000e+00]\n",
      "  [3.36205337e+02 2.00000000e+00]\n",
      "  ...\n",
      "  [1.12814930e+03 2.00000000e+00]\n",
      "  [1.12821553e+03 1.00000000e+00]\n",
      "  [1.12828179e+03 0.00000000e+00]]]\n"
     ]
    },
    {
     "name": "stderr",
     "output_type": "stream",
     "text": [
      "\n",
      "\n",
      "t:  27%|██████████████████                                                | 296/1085 [05:58<15:54,  1.21s/it, now=None]\u001b[A\u001b[A"
     ]
    },
    {
     "name": "stdout",
     "output_type": "stream",
     "text": [
      "19737.646578139822 10333.035977168594\n",
      "19516.7782316793 m 10500.533414876896 m\n",
      "[[[3.19191989e+02 0.00000000e+00]\n",
      "  [3.19105142e+02 1.00000000e+00]\n",
      "  [3.19018243e+02 2.00000000e+00]\n",
      "  ...\n",
      "  [1.15023401e+03 2.00000000e+00]\n",
      "  [1.15035095e+03 1.00000000e+00]\n",
      "  [1.15046798e+03 0.00000000e+00]]]\n"
     ]
    },
    {
     "name": "stderr",
     "output_type": "stream",
     "text": [
      "\n",
      "\n",
      "t:  27%|██████████████████                                                | 297/1085 [05:59<15:51,  1.21s/it, now=None]\u001b[A\u001b[A"
     ]
    },
    {
     "name": "stdout",
     "output_type": "stream",
     "text": [
      "24825.910352978182 97560.0567916282\n",
      "24577.008431032908 m 97693.98673140035 m\n",
      "[[[3.29891435e+02 0.00000000e+00]\n",
      "  [3.29787359e+02 1.00000000e+00]\n",
      "  [3.29683242e+02 2.00000000e+00]\n",
      "  ...\n",
      "  [1.13244837e+03 2.00000000e+00]\n",
      "  [1.13251687e+03 1.00000000e+00]\n",
      "  [1.13258538e+03 0.00000000e+00]]]\n"
     ]
    },
    {
     "name": "stderr",
     "output_type": "stream",
     "text": [
      "\n",
      "\n",
      "t:  27%|██████████████████▏                                               | 298/1085 [06:00<15:50,  1.21s/it, now=None]\u001b[A\u001b[A"
     ]
    },
    {
     "name": "stdout",
     "output_type": "stream",
     "text": [
      "37035.21102202932 9000.749576950397\n",
      "36806.44588020981 m 8838.78240808455 m\n",
      "[[[3.24174323e+02 0.00000000e+00]\n",
      "  [3.24074638e+02 1.00000000e+00]\n",
      "  [3.23974925e+02 2.00000000e+00]\n",
      "  ...\n",
      "  [1.13216777e+03 2.00000000e+00]\n",
      "  [1.13220353e+03 1.00000000e+00]\n",
      "  [1.13223918e+03 0.00000000e+00]]]\n"
     ]
    },
    {
     "name": "stderr",
     "output_type": "stream",
     "text": [
      "\n",
      "\n",
      "t:  28%|██████████████████▏                                               | 299/1085 [06:02<15:47,  1.21s/it, now=None]\u001b[A\u001b[A"
     ]
    },
    {
     "name": "stdout",
     "output_type": "stream",
     "text": [
      "76288.8659566558 6846.064749960394\n",
      "76514.5380933425 m 6658.015490818257 m\n",
      "[[[3.25909138e+02 0.00000000e+00]\n",
      "  [3.25795623e+02 1.00000000e+00]\n",
      "  [3.25682121e+02 2.00000000e+00]\n",
      "  ...\n",
      "  [1.13509967e+03 2.00000000e+00]\n",
      "  [1.13513400e+03 1.00000000e+00]\n",
      "  [1.13516819e+03 0.00000000e+00]]]\n"
     ]
    },
    {
     "name": "stderr",
     "output_type": "stream",
     "text": [
      "\n",
      "\n",
      "t:  28%|██████████████████▏                                               | 300/1085 [06:03<15:48,  1.21s/it, now=None]\u001b[A\u001b[A"
     ]
    },
    {
     "name": "stdout",
     "output_type": "stream",
     "text": [
      "33734.6766347675 13216.012990516836\n",
      "33972.3215422453 m 13374.953591474175 m\n",
      "[[[3.31827861e+02 0.00000000e+00]\n",
      "  [3.31702380e+02 1.00000000e+00]\n",
      "  [3.31576929e+02 2.00000000e+00]\n",
      "  ...\n",
      "  [1.13978041e+03 2.00000000e+00]\n",
      "  [1.13988538e+03 1.00000000e+00]\n",
      "  [1.13999042e+03 0.00000000e+00]]]\n"
     ]
    },
    {
     "name": "stderr",
     "output_type": "stream",
     "text": [
      "\n",
      "\n",
      "t:  28%|██████████████████▎                                               | 301/1085 [06:04<15:51,  1.21s/it, now=None]\u001b[A\u001b[A"
     ]
    },
    {
     "name": "stdout",
     "output_type": "stream",
     "text": [
      "13110.704873374909 15461.159719453817\n",
      "13307.923909537967 m 15673.559875263705 m\n",
      "[[[3.18784252e+02 0.00000000e+00]\n",
      "  [3.18660579e+02 1.00000000e+00]\n",
      "  [3.18536983e+02 2.00000000e+00]\n",
      "  ...\n",
      "  [1.15899747e+03 2.00000000e+00]\n",
      "  [1.15912401e+03 1.00000000e+00]\n",
      "  [1.15925063e+03 0.00000000e+00]]]\n"
     ]
    },
    {
     "name": "stderr",
     "output_type": "stream",
     "text": [
      "\n",
      "\n",
      "t:  28%|██████████████████▎                                               | 302/1085 [06:05<15:47,  1.21s/it, now=None]\u001b[A\u001b[A"
     ]
    },
    {
     "name": "stdout",
     "output_type": "stream",
     "text": [
      "13918.746540195565 6881.030916711622\n",
      "14121.630322663717 m 7075.480197085239 m\n",
      "[[[3.21540104e+02 0.00000000e+00]\n",
      "  [3.21415369e+02 1.00000000e+00]\n",
      "  [3.21290706e+02 2.00000000e+00]\n",
      "  ...\n",
      "  [1.15902135e+03 2.00000000e+00]\n",
      "  [1.15916925e+03 1.00000000e+00]\n",
      "  [1.15931729e+03 0.00000000e+00]]]\n"
     ]
    },
    {
     "name": "stderr",
     "output_type": "stream",
     "text": [
      "\n",
      "\n",
      "t:  28%|██████████████████▍                                               | 303/1085 [06:07<15:50,  1.21s/it, now=None]\u001b[A\u001b[A"
     ]
    },
    {
     "name": "stdout",
     "output_type": "stream",
     "text": [
      "14002.11278938028 30185.824408882258\n",
      "14182.30407000812 m 30407.68895187697 m\n",
      "[[[3.12362182e+02 0.00000000e+00]\n",
      "  [3.12248502e+02 1.00000000e+00]\n",
      "  [3.12134894e+02 2.00000000e+00]\n",
      "  ...\n",
      "  [1.16558432e+03 2.00000000e+00]\n",
      "  [1.16570356e+03 1.00000000e+00]\n",
      "  [1.16582284e+03 0.00000000e+00]]]\n"
     ]
    },
    {
     "name": "stderr",
     "output_type": "stream",
     "text": [
      "\n",
      "\n",
      "t:  28%|██████████████████▍                                               | 304/1085 [06:08<15:49,  1.22s/it, now=None]\u001b[A\u001b[A"
     ]
    },
    {
     "name": "stdout",
     "output_type": "stream",
     "text": [
      "10881.124919549371 5729.728578348669\n",
      "11049.826246672033 m 5967.1781002314 m\n",
      "[[[3.08944558e+02 0.00000000e+00]\n",
      "  [3.08828759e+02 1.00000000e+00]\n",
      "  [3.08713053e+02 2.00000000e+00]\n",
      "  ...\n",
      "  [1.17950559e+03 2.00000000e+00]\n",
      "  [1.17968489e+03 1.00000000e+00]\n",
      "  [1.17986437e+03 0.00000000e+00]]]\n"
     ]
    },
    {
     "name": "stderr",
     "output_type": "stream",
     "text": [
      "\n",
      "\n",
      "t:  28%|██████████████████▌                                               | 305/1085 [06:09<15:45,  1.21s/it, now=None]\u001b[A\u001b[A"
     ]
    },
    {
     "name": "stdout",
     "output_type": "stream",
     "text": [
      "10635.03063667267 9540.616424787686\n",
      "10799.302198200987 m 9792.156577002586 m\n",
      "[[[3.06515169e+02 0.00000000e+00]\n",
      "  [3.06400710e+02 1.00000000e+00]\n",
      "  [3.06286345e+02 2.00000000e+00]\n",
      "  ...\n",
      "  [1.18128572e+03 2.00000000e+00]\n",
      "  [1.18144597e+03 1.00000000e+00]\n",
      "  [1.18160631e+03 0.00000000e+00]]]\n"
     ]
    },
    {
     "name": "stderr",
     "output_type": "stream",
     "text": [
      "\n",
      "\n",
      "t:  28%|██████████████████▌                                               | 306/1085 [06:10<15:41,  1.21s/it, now=None]\u001b[A\u001b[A"
     ]
    },
    {
     "name": "stdout",
     "output_type": "stream",
     "text": [
      "10128.965634096134 10972.666830119093\n",
      "10274.41541816619 m 11254.071862646784 m\n",
      "[[[2.98540862e+02 0.00000000e+00]\n",
      "  [2.98433718e+02 1.00000000e+00]\n",
      "  [2.98326672e+02 2.00000000e+00]\n",
      "  ...\n",
      "  [1.19279922e+03 2.00000000e+00]\n",
      "  [1.19296860e+03 1.00000000e+00]\n",
      "  [1.19313807e+03 0.00000000e+00]]]\n"
     ]
    },
    {
     "name": "stderr",
     "output_type": "stream",
     "text": [
      "\n",
      "\n",
      "t:  28%|██████████████████▋                                               | 307/1085 [06:11<15:39,  1.21s/it, now=None]\u001b[A\u001b[A"
     ]
    },
    {
     "name": "stdout",
     "output_type": "stream",
     "text": [
      "9010.690518088573 54739.363973577056\n",
      "9181.983098447525 m 55003.967017395225 m\n",
      "[[[3.08194076e+02 0.00000000e+00]\n",
      "  [3.08069926e+02 1.00000000e+00]\n",
      "  [3.07945888e+02 2.00000000e+00]\n",
      "  ...\n",
      "  [1.18385155e+03 2.00000000e+00]\n",
      "  [1.18398550e+03 1.00000000e+00]\n",
      "  [1.18411946e+03 0.00000000e+00]]]\n"
     ]
    },
    {
     "name": "stderr",
     "output_type": "stream",
     "text": [
      "\n",
      "\n",
      "t:  28%|██████████████████▋                                               | 308/1085 [06:13<15:35,  1.20s/it, now=None]\u001b[A\u001b[A"
     ]
    },
    {
     "name": "stdout",
     "output_type": "stream",
     "text": [
      "7416.711375573602 94675.70461920356\n",
      "7567.379449290502 m 94389.96247096211 m\n",
      "[[[3.00044127e+02 0.00000000e+00]\n",
      "  [2.99921033e+02 1.00000000e+00]\n",
      "  [2.99798074e+02 2.00000000e+00]\n",
      "  ...\n",
      "  [1.19207297e+03 2.00000000e+00]\n",
      "  [1.19220586e+03 1.00000000e+00]\n",
      "  [1.19233875e+03 0.00000000e+00]]]\n"
     ]
    },
    {
     "name": "stderr",
     "output_type": "stream",
     "text": [
      "\n",
      "\n",
      "t:  28%|██████████████████▊                                               | 309/1085 [06:14<15:34,  1.20s/it, now=None]\u001b[A\u001b[A"
     ]
    },
    {
     "name": "stdout",
     "output_type": "stream",
     "text": [
      "9069.813377235736 185337.3989031741\n",
      "9215.346907718813 m 185625.28026917402 m\n",
      "[[[2.95301352e+02 0.00000000e+00]\n",
      "  [2.95189874e+02 1.00000000e+00]\n",
      "  [2.95078507e+02 2.00000000e+00]\n",
      "  ...\n",
      "  [1.19569684e+03 2.00000000e+00]\n",
      "  [1.19583687e+03 1.00000000e+00]\n",
      "  [1.19597690e+03 0.00000000e+00]]]\n"
     ]
    },
    {
     "name": "stderr",
     "output_type": "stream",
     "text": [
      "\n",
      "\n",
      "t:  29%|██████████████████▊                                               | 310/1085 [06:15<15:31,  1.20s/it, now=None]\u001b[A\u001b[A"
     ]
    },
    {
     "name": "stdout",
     "output_type": "stream",
     "text": [
      "10718.550547031087 7254.30028246414\n",
      "10888.745003012444 m 6997.353161159559 m\n",
      "[[[3.03419446e+02 0.00000000e+00]\n",
      "  [3.03302410e+02 1.00000000e+00]\n",
      "  [3.03185467e+02 2.00000000e+00]\n",
      "  ...\n",
      "  [1.17693292e+03 2.00000000e+00]\n",
      "  [1.17700240e+03 1.00000000e+00]\n",
      "  [1.17707174e+03 0.00000000e+00]]]\n"
     ]
    },
    {
     "name": "stderr",
     "output_type": "stream",
     "text": [
      "\n",
      "\n",
      "t:  29%|██████████████████▉                                               | 311/1085 [06:16<16:13,  1.26s/it, now=None]\u001b[A\u001b[A"
     ]
    },
    {
     "name": "stdout",
     "output_type": "stream",
     "text": [
      "13284.56337447747 3071.807390885019\n",
      "13469.116698033693 m 2782.153726428864 m\n",
      "[[[3.05573801e+02 0.00000000e+00]\n",
      "  [3.05456583e+02 1.00000000e+00]\n",
      "  [3.05339441e+02 2.00000000e+00]\n",
      "  ...\n",
      "  [1.17064514e+03 2.00000000e+00]\n",
      "  [1.17064883e+03 1.00000000e+00]\n",
      "  [1.17065215e+03 0.00000000e+00]]]\n"
     ]
    },
    {
     "name": "stderr",
     "output_type": "stream",
     "text": [
      "\n",
      "\n",
      "t:  29%|██████████████████▉                                               | 312/1085 [06:18<15:59,  1.24s/it, now=None]\u001b[A\u001b[A"
     ]
    },
    {
     "name": "stdout",
     "output_type": "stream",
     "text": [
      "11246.72367754429 2590.6468554320672\n",
      "11469.780458125533 m 2363.618275354999 m\n",
      "[[[3.20550362e+02 0.00000000e+00]\n",
      "  [3.20409578e+02 1.00000000e+00]\n",
      "  [3.20268883e+02 2.00000000e+00]\n",
      "  ...\n",
      "  [1.14753934e+03 2.00000000e+00]\n",
      "  [1.14748927e+03 1.00000000e+00]\n",
      "  [1.14743876e+03 0.00000000e+00]]]\n"
     ]
    },
    {
     "name": "stderr",
     "output_type": "stream",
     "text": [
      "\n",
      "\n",
      "t:  29%|███████████████████                                               | 313/1085 [06:19<15:49,  1.23s/it, now=None]\u001b[A\u001b[A"
     ]
    },
    {
     "name": "stdout",
     "output_type": "stream",
     "text": [
      "15674.092654416227 5502.504389165668\n",
      "15914.358736629121 m 5317.565347134034 m\n",
      "[[[3.24904948e+02 0.00000000e+00]\n",
      "  [3.24765340e+02 1.00000000e+00]\n",
      "  [3.24625796e+02 2.00000000e+00]\n",
      "  ...\n",
      "  [1.15334255e+03 2.00000000e+00]\n",
      "  [1.15336128e+03 1.00000000e+00]\n",
      "  [1.15337982e+03 0.00000000e+00]]]\n"
     ]
    },
    {
     "name": "stderr",
     "output_type": "stream",
     "text": [
      "\n",
      "\n",
      "t:  29%|███████████████████                                               | 314/1085 [06:20<15:49,  1.23s/it, now=None]\u001b[A\u001b[A"
     ]
    },
    {
     "name": "stdout",
     "output_type": "stream",
     "text": [
      "17800.076751317392 34661.137399532316\n",
      "18082.319455105884 m 34514.051921195016 m\n",
      "[[[3.39748273e+02 0.00000000e+00]\n",
      "  [3.39591560e+02 1.00000000e+00]\n",
      "  [3.39434905e+02 2.00000000e+00]\n",
      "  ...\n",
      "  [1.14917330e+03 2.00000000e+00]\n",
      "  [1.14923341e+03 1.00000000e+00]\n",
      "  [1.14929348e+03 0.00000000e+00]]]\n"
     ]
    },
    {
     "name": "stderr",
     "output_type": "stream",
     "text": [
      "\n",
      "\n",
      "t:  29%|███████████████████▏                                              | 315/1085 [06:21<16:27,  1.28s/it, now=None]\u001b[A\u001b[A"
     ]
    },
    {
     "name": "stdout",
     "output_type": "stream",
     "text": [
      "23456.42396519667 16328.291215556952\n",
      "23752.789249836762 m 16220.134738105406 m\n",
      "[[[3.45693070e+02 0.00000000e+00]\n",
      "  [3.45534808e+02 1.00000000e+00]\n",
      "  [3.45376589e+02 2.00000000e+00]\n",
      "  ...\n",
      "  [1.13541656e+03 2.00000000e+00]\n",
      "  [1.13544577e+03 1.00000000e+00]\n",
      "  [1.13547492e+03 0.00000000e+00]]]\n"
     ]
    },
    {
     "name": "stderr",
     "output_type": "stream",
     "text": [
      "\n",
      "\n",
      "t:  29%|███████████████████▏                                              | 316/1085 [06:23<16:24,  1.28s/it, now=None]\u001b[A\u001b[A"
     ]
    },
    {
     "name": "stdout",
     "output_type": "stream",
     "text": [
      "88062.58841451825 24344.57254749342\n",
      "88359.16190855189 m 24232.015792281498 m\n",
      "[[[3.43768182e+02 0.00000000e+00]\n",
      "  [3.43621769e+02 1.00000000e+00]\n",
      "  [3.43475368e+02 2.00000000e+00]\n",
      "  ...\n",
      "  [1.13766422e+03 2.00000000e+00]\n",
      "  [1.13770316e+03 1.00000000e+00]\n",
      "  [1.13774205e+03 0.00000000e+00]]]\n"
     ]
    },
    {
     "name": "stderr",
     "output_type": "stream",
     "text": [
      "\n",
      "\n",
      "t:  29%|███████████████████▎                                              | 317/1085 [06:24<16:16,  1.27s/it, now=None]\u001b[A\u001b[A"
     ]
    },
    {
     "name": "stdout",
     "output_type": "stream",
     "text": [
      "15912.275289199415 24043.548234516657\n",
      "16213.515361923299 m 23940.053428611354 m\n",
      "[[[3.50022420e+02 0.00000000e+00]\n",
      "  [3.49854188e+02 1.00000000e+00]\n",
      "  [3.49686019e+02 2.00000000e+00]\n",
      "  ...\n",
      "  [1.13429413e+03 2.00000000e+00]\n",
      "  [1.13432852e+03 1.00000000e+00]\n",
      "  [1.13436286e+03 0.00000000e+00]]]\n"
     ]
    },
    {
     "name": "stderr",
     "output_type": "stream",
     "text": [
      "\n",
      "\n",
      "t:  29%|███████████████████▎                                              | 318/1085 [06:25<16:07,  1.26s/it, now=None]\u001b[A\u001b[A"
     ]
    },
    {
     "name": "stdout",
     "output_type": "stream",
     "text": [
      "48274.02294711187 24074.29138028757\n",
      "48537.76633447138 m 23939.81286530215 m\n",
      "[[[3.35478040e+02 0.00000000e+00]\n",
      "  [3.35343551e+02 1.00000000e+00]\n",
      "  [3.35209083e+02 2.00000000e+00]\n",
      "  ...\n",
      "  [1.14621699e+03 2.00000000e+00]\n",
      "  [1.14626626e+03 1.00000000e+00]\n",
      "  [1.14631549e+03 0.00000000e+00]]]\n"
     ]
    },
    {
     "name": "stderr",
     "output_type": "stream",
     "text": [
      "\n",
      "\n",
      "t:  29%|███████████████████▍                                              | 319/1085 [06:26<16:20,  1.28s/it, now=None]\u001b[A\u001b[A"
     ]
    },
    {
     "name": "stdout",
     "output_type": "stream",
     "text": [
      "41980.74784635991 12183.828191471917\n",
      "41728.23965411851 m 12059.205373453438 m\n",
      "[[[3.30475608e+02 0.00000000e+00]\n",
      "  [3.30363480e+02 1.00000000e+00]\n",
      "  [3.30251328e+02 2.00000000e+00]\n",
      "  ...\n",
      "  [1.14147317e+03 2.00000000e+00]\n",
      "  [1.14150235e+03 1.00000000e+00]\n",
      "  [1.14153144e+03 0.00000000e+00]]]\n"
     ]
    },
    {
     "name": "stderr",
     "output_type": "stream",
     "text": [
      "\n",
      "\n",
      "t:  29%|███████████████████▍                                              | 320/1085 [06:28<16:07,  1.26s/it, now=None]\u001b[A\u001b[A"
     ]
    },
    {
     "name": "stdout",
     "output_type": "stream",
     "text": [
      "5101977.573221203 14903.041595881541\n",
      "5101755.896418436 m 14743.821221436978 m\n",
      "[[[3.19988078e+02 0.00000000e+00]\n",
      "  [3.19881518e+02 1.00000000e+00]\n",
      "  [3.19774958e+02 2.00000000e+00]\n",
      "  ...\n",
      "  [1.15495342e+03 2.00000000e+00]\n",
      "  [1.15500479e+03 1.00000000e+00]\n",
      "  [1.15505610e+03 0.00000000e+00]]]\n"
     ]
    },
    {
     "name": "stderr",
     "output_type": "stream",
     "text": [
      "\n",
      "\n",
      "t:  30%|███████████████████▌                                              | 321/1085 [06:29<15:58,  1.25s/it, now=None]\u001b[A\u001b[A"
     ]
    },
    {
     "name": "stdout",
     "output_type": "stream",
     "text": [
      "116838.05644115746 7539.333025985246\n",
      "117056.97343834555 m 7363.370160343006 m\n",
      "[[[3.17732872e+02 0.00000000e+00]\n",
      "  [3.17624299e+02 1.00000000e+00]\n",
      "  [3.17515736e+02 2.00000000e+00]\n",
      "  ...\n",
      "  [1.15687603e+03 2.00000000e+00]\n",
      "  [1.15690999e+03 1.00000000e+00]\n",
      "  [1.15694382e+03 0.00000000e+00]]]\n"
     ]
    },
    {
     "name": "stderr",
     "output_type": "stream",
     "text": [
      "\n",
      "\n",
      "t:  30%|███████████████████▌                                              | 322/1085 [06:31<18:33,  1.46s/it, now=None]\u001b[A\u001b[A"
     ]
    },
    {
     "name": "stdout",
     "output_type": "stream",
     "text": [
      "398841.7322917238 4407.566887668828\n",
      "399062.0101327189 m 4257.3134474563985 m\n",
      "[[[3.18601843e+02 0.00000000e+00]\n",
      "  [3.18494921e+02 1.00000000e+00]\n",
      "  [3.18388001e+02 2.00000000e+00]\n",
      "  ...\n",
      "  [1.14285766e+03 2.00000000e+00]\n",
      "  [1.14284230e+03 1.00000000e+00]\n",
      "  [1.14282671e+03 0.00000000e+00]]]\n"
     ]
    },
    {
     "name": "stderr",
     "output_type": "stream",
     "text": [
      "\n",
      "\n",
      "t:  30%|███████████████████▋                                              | 323/1085 [06:32<17:48,  1.40s/it, now=None]\u001b[A\u001b[A"
     ]
    },
    {
     "name": "stdout",
     "output_type": "stream",
     "text": [
      "26540.390286673304 3512.663407756831\n",
      "26325.567375489733 m 3353.979545360095 m\n",
      "[[[3.15308541e+02 0.00000000e+00]\n",
      "  [3.15219556e+02 1.00000000e+00]\n",
      "  [3.15130533e+02 2.00000000e+00]\n",
      "  ...\n",
      "  [1.13966060e+03 2.00000000e+00]\n",
      "  [1.13962542e+03 1.00000000e+00]\n",
      "  [1.13958995e+03 0.00000000e+00]]]\n"
     ]
    },
    {
     "name": "stderr",
     "output_type": "stream",
     "text": [
      "\n",
      "\n",
      "t:  30%|███████████████████▋                                              | 324/1085 [06:33<17:36,  1.39s/it, now=None]\u001b[A\u001b[A"
     ]
    },
    {
     "name": "stdout",
     "output_type": "stream",
     "text": [
      "34908.81290678358 22223.310288700493\n",
      "34676.829589113026 m 22128.77817160297 m\n",
      "[[[3.22197165e+02 0.00000000e+00]\n",
      "  [3.22096588e+02 1.00000000e+00]\n",
      "  [3.21995983e+02 2.00000000e+00]\n",
      "  ...\n",
      "  [1.13680058e+03 2.00000000e+00]\n",
      "  [1.13682938e+03 1.00000000e+00]\n",
      "  [1.13685814e+03 0.00000000e+00]]]\n"
     ]
    },
    {
     "name": "stderr",
     "output_type": "stream",
     "text": [
      "\n",
      "\n",
      "t:  30%|███████████████████▊                                              | 325/1085 [06:35<17:17,  1.36s/it, now=None]\u001b[A\u001b[A"
     ]
    },
    {
     "name": "stdout",
     "output_type": "stream",
     "text": [
      "33352.09925430754 34183.64177733452\n",
      "33144.133971696014 m 34062.47590770703 m\n",
      "[[[3.12504721e+02 0.00000000e+00]\n",
      "  [3.12416040e+02 1.00000000e+00]\n",
      "  [3.12327329e+02 2.00000000e+00]\n",
      "  ...\n",
      "  [1.14682528e+03 2.00000000e+00]\n",
      "  [1.14687281e+03 1.00000000e+00]\n",
      "  [1.14692030e+03 0.00000000e+00]]]\n"
     ]
    },
    {
     "name": "stderr",
     "output_type": "stream",
     "text": [
      "\n",
      "\n",
      "t:  30%|███████████████████▊                                              | 326/1085 [06:36<17:05,  1.35s/it, now=None]\u001b[A\u001b[A"
     ]
    },
    {
     "name": "stdout",
     "output_type": "stream",
     "text": [
      "62749.82340800215 7855.305335099902\n",
      "62574.46156816209 m 7684.09161955943 m\n",
      "[[[3.00619371e+02 0.00000000e+00]\n",
      "  [3.00540872e+02 1.00000000e+00]\n",
      "  [3.00462358e+02 2.00000000e+00]\n",
      "  ...\n",
      "  [1.15865136e+03 2.00000000e+00]\n",
      "  [1.15868519e+03 1.00000000e+00]\n",
      "  [1.15871888e+03 0.00000000e+00]]]\n"
     ]
    },
    {
     "name": "stderr",
     "output_type": "stream",
     "text": [
      "\n",
      "\n",
      "t:  30%|███████████████████▉                                              | 327/1085 [06:37<16:47,  1.33s/it, now=None]\u001b[A\u001b[A"
     ]
    },
    {
     "name": "stdout",
     "output_type": "stream",
     "text": [
      "18582.367516703456 14820.21887159497\n",
      "18441.560995664862 m 14637.182253791678 m\n",
      "[[[2.87135930e+02 0.00000000e+00]\n",
      "  [2.87088335e+02 1.00000000e+00]\n",
      "  [2.87040685e+02 2.00000000e+00]\n",
      "  ...\n",
      "  [1.16991794e+03 2.00000000e+00]\n",
      "  [1.16998048e+03 1.00000000e+00]\n",
      "  [1.17004295e+03 0.00000000e+00]]]\n"
     ]
    },
    {
     "name": "stderr",
     "output_type": "stream",
     "text": [
      "\n",
      "\n",
      "t:  30%|███████████████████▉                                              | 328/1085 [06:39<16:47,  1.33s/it, now=None]\u001b[A\u001b[A"
     ]
    },
    {
     "name": "stdout",
     "output_type": "stream",
     "text": [
      "28031.709390111817 40652.472232887005\n",
      "27932.505791810192 m 40430.45326327512 m\n",
      "[[[2.73708677e+02 0.00000000e+00]\n",
      "  [2.73674158e+02 1.00000000e+00]\n",
      "  [2.73639604e+02 2.00000000e+00]\n",
      "  ...\n",
      "  [1.18882717e+03 2.00000000e+00]\n",
      "  [1.18892461e+03 1.00000000e+00]\n",
      "  [1.18902202e+03 0.00000000e+00]]]\n"
     ]
    },
    {
     "name": "stderr",
     "output_type": "stream",
     "text": [
      "\n",
      "\n",
      "t:  30%|████████████████████                                              | 329/1085 [06:40<16:43,  1.33s/it, now=None]\u001b[A\u001b[A"
     ]
    },
    {
     "name": "stdout",
     "output_type": "stream",
     "text": [
      "51833.2850403337 6593.790376578123\n",
      "51694.469871557085 m 6780.235025804634 m\n",
      "[[[2.90282242e+02 0.00000000e+00]\n",
      "  [2.90222514e+02 1.00000000e+00]\n",
      "  [2.90162767e+02 2.00000000e+00]\n",
      "  ...\n",
      "  [1.18443266e+03 2.00000000e+00]\n",
      "  [1.18457906e+03 1.00000000e+00]\n",
      "  [1.18472561e+03 0.00000000e+00]]]\n"
     ]
    },
    {
     "name": "stderr",
     "output_type": "stream",
     "text": [
      "\n",
      "\n",
      "t:  30%|████████████████████                                              | 330/1085 [06:42<17:36,  1.40s/it, now=None]\u001b[A\u001b[A"
     ]
    },
    {
     "name": "stdout",
     "output_type": "stream",
     "text": [
      "32660.1438570809 8857.330322692918\n",
      "32524.270896296595 m 9062.064047190453 m\n",
      "[[[2.88708257e+02 0.00000000e+00]\n",
      "  [2.88654221e+02 1.00000000e+00]\n",
      "  [2.88600155e+02 2.00000000e+00]\n",
      "  ...\n",
      "  [1.18777040e+03 2.00000000e+00]\n",
      "  [1.18791122e+03 1.00000000e+00]\n",
      "  [1.18805216e+03 0.00000000e+00]]]\n"
     ]
    },
    {
     "name": "stderr",
     "output_type": "stream",
     "text": [
      "\n",
      "\n",
      "t:  31%|████████████████████▏                                             | 331/1085 [06:43<18:26,  1.47s/it, now=None]\u001b[A\u001b[A"
     ]
    },
    {
     "name": "stdout",
     "output_type": "stream",
     "text": [
      "34364.57210427613 10589.669272516394\n",
      "34237.814887963286 m 10798.733043310895 m\n",
      "[[[2.86565126e+02 0.00000000e+00]\n",
      "  [2.86514889e+02 1.00000000e+00]\n",
      "  [2.86464622e+02 2.00000000e+00]\n",
      "  ...\n",
      "  [1.18781366e+03 2.00000000e+00]\n",
      "  [1.18794970e+03 1.00000000e+00]\n",
      "  [1.18808583e+03 0.00000000e+00]]]\n"
     ]
    },
    {
     "name": "stderr",
     "output_type": "stream",
     "text": [
      "\n",
      "\n",
      "t:  31%|████████████████████▏                                             | 332/1085 [06:45<18:17,  1.46s/it, now=None]\u001b[A\u001b[A"
     ]
    },
    {
     "name": "stdout",
     "output_type": "stream",
     "text": [
      "105250.6073695635 16322.304172798713\n",
      "105118.91473155975 m 16518.17887260197 m\n",
      "[[[2.89893543e+02 0.00000000e+00]\n",
      "  [2.89833540e+02 1.00000000e+00]\n",
      "  [2.89773528e+02 2.00000000e+00]\n",
      "  ...\n",
      "  [1.18150771e+03 2.00000000e+00]\n",
      "  [1.18162507e+03 1.00000000e+00]\n",
      "  [1.18174248e+03 0.00000000e+00]]]\n"
     ]
    },
    {
     "name": "stderr",
     "output_type": "stream",
     "text": [
      "\n",
      "\n",
      "t:  31%|████████████████████▎                                             | 333/1085 [06:46<18:27,  1.47s/it, now=None]\u001b[A\u001b[A"
     ]
    },
    {
     "name": "stdout",
     "output_type": "stream",
     "text": [
      "15232.147717626058 32065.635010821406\n",
      "15124.00354289078 m 32264.13980422646 m\n",
      "[[[2.78331803e+02 0.00000000e+00]\n",
      "  [2.78304331e+02 1.00000000e+00]\n",
      "  [2.78276793e+02 2.00000000e+00]\n",
      "  ...\n",
      "  [1.18244387e+03 2.00000000e+00]\n",
      "  [1.18255122e+03 1.00000000e+00]\n",
      "  [1.18265860e+03 0.00000000e+00]]]\n"
     ]
    },
    {
     "name": "stderr",
     "output_type": "stream",
     "text": [
      "\n",
      "\n",
      "t:  31%|████████████████████▎                                             | 334/1085 [06:48<18:17,  1.46s/it, now=None]\u001b[A\u001b[A"
     ]
    },
    {
     "name": "stdout",
     "output_type": "stream",
     "text": [
      "26816.829178138378 14615.54798105734\n",
      "26701.37277129006 m 14420.597018201895 m\n",
      "[[[2.82188961e+02 0.00000000e+00]\n",
      "  [2.82147243e+02 1.00000000e+00]\n",
      "  [2.82105488e+02 2.00000000e+00]\n",
      "  ...\n",
      "  [1.17274806e+03 2.00000000e+00]\n",
      "  [1.17281588e+03 1.00000000e+00]\n",
      "  [1.17288362e+03 0.00000000e+00]]]\n"
     ]
    },
    {
     "name": "stderr",
     "output_type": "stream",
     "text": [
      "\n",
      "\n",
      "t:  31%|████████████████████▍                                             | 335/1085 [06:49<17:25,  1.39s/it, now=None]\u001b[A\u001b[A"
     ]
    },
    {
     "name": "stdout",
     "output_type": "stream",
     "text": [
      "122787.21755584439 5030.643815533702\n",
      "122889.64175284012 m 4801.588137844987 m\n",
      "[[[2.78314420e+02 0.00000000e+00]\n",
      "  [2.78261876e+02 1.00000000e+00]\n",
      "  [2.78209340e+02 2.00000000e+00]\n",
      "  ...\n",
      "  [1.17273787e+03 2.00000000e+00]\n",
      "  [1.17276989e+03 1.00000000e+00]\n",
      "  [1.17280170e+03 0.00000000e+00]]]\n"
     ]
    },
    {
     "name": "stderr",
     "output_type": "stream",
     "text": [
      "\n",
      "\n",
      "t:  31%|████████████████████▍                                             | 336/1085 [06:50<17:28,  1.40s/it, now=None]\u001b[A\u001b[A"
     ]
    },
    {
     "name": "stdout",
     "output_type": "stream",
     "text": [
      "29933.297769667315 2257.2671079409233\n",
      "30045.31307445008 m 2042.2678138443619 m\n",
      "[[[2.82917757e+02 0.00000000e+00]\n",
      "  [2.82851123e+02 1.00000000e+00]\n",
      "  [2.82784522e+02 2.00000000e+00]\n",
      "  ...\n",
      "  [1.14826158e+03 2.00000000e+00]\n",
      "  [1.14817972e+03 1.00000000e+00]\n",
      "  [1.14809736e+03 0.00000000e+00]]]\n"
     ]
    },
    {
     "name": "stderr",
     "output_type": "stream",
     "text": [
      "\n",
      "\n",
      "t:  31%|████████████████████▍                                             | 337/1085 [06:52<17:21,  1.39s/it, now=None]\u001b[A\u001b[A"
     ]
    },
    {
     "name": "stdout",
     "output_type": "stream",
     "text": [
      "115274.35213083884 2517.3372518341703\n",
      "115170.29550084882 m 2341.8949776365184 m\n",
      "[[[2.78252649e+02 0.00000000e+00]\n",
      "  [2.78205632e+02 1.00000000e+00]\n",
      "  [2.78158606e+02 2.00000000e+00]\n",
      "  ...\n",
      "  [1.14172616e+03 2.00000000e+00]\n",
      "  [1.14164958e+03 1.00000000e+00]\n",
      "  [1.14157257e+03 0.00000000e+00]]]\n"
     ]
    },
    {
     "name": "stderr",
     "output_type": "stream",
     "text": [
      "\n",
      "\n",
      "t:  31%|████████████████████▌                                             | 338/1085 [06:53<16:50,  1.35s/it, now=None]\u001b[A\u001b[A"
     ]
    },
    {
     "name": "stdout",
     "output_type": "stream",
     "text": [
      "15398.145402342241 3738.1663824949533\n",
      "15519.58981670684 m 3604.9160881012476 m\n",
      "[[[2.87648076e+02 0.00000000e+00]\n",
      "  [2.87565106e+02 1.00000000e+00]\n",
      "  [2.87482201e+02 2.00000000e+00]\n",
      "  ...\n",
      "  [1.13884893e+03 2.00000000e+00]\n",
      "  [1.13880935e+03 1.00000000e+00]\n",
      "  [1.13876949e+03 0.00000000e+00]]]\n"
     ]
    },
    {
     "name": "stderr",
     "output_type": "stream",
     "text": [
      "\n",
      "\n",
      "t:  31%|████████████████████▌                                             | 339/1085 [06:54<16:20,  1.31s/it, now=None]\u001b[A\u001b[A"
     ]
    },
    {
     "name": "stdout",
     "output_type": "stream",
     "text": [
      "73481.37931754855 20463.944079091147\n",
      "73633.63748616073 m 20379.404465273048 m\n",
      "[[[2.97134078e+02 0.00000000e+00]\n",
      "  [2.97055494e+02 1.00000000e+00]\n",
      "  [2.96976924e+02 2.00000000e+00]\n",
      "  ...\n",
      "  [1.13312934e+03 2.00000000e+00]\n",
      "  [1.13315188e+03 1.00000000e+00]\n",
      "  [1.13317437e+03 0.00000000e+00]]]\n"
     ]
    },
    {
     "name": "stderr",
     "output_type": "stream",
     "text": [
      "\n",
      "\n",
      "t:  31%|████████████████████▋                                             | 340/1085 [06:56<17:14,  1.39s/it, now=None]\u001b[A\u001b[A"
     ]
    },
    {
     "name": "stdout",
     "output_type": "stream",
     "text": [
      "17023.50449140396 28225.949236871893\n",
      "17162.665320167518 m 28321.786518837107 m\n",
      "[[[2.93866979e+02 0.00000000e+00]\n",
      "  [2.93777783e+02 1.00000000e+00]\n",
      "  [2.93688645e+02 2.00000000e+00]\n",
      "  ...\n",
      "  [1.14204230e+03 2.00000000e+00]\n",
      "  [1.14210184e+03 1.00000000e+00]\n",
      "  [1.14216142e+03 0.00000000e+00]]]\n"
     ]
    },
    {
     "name": "stderr",
     "output_type": "stream",
     "text": [
      "\n",
      "\n",
      "t:  31%|████████████████████▋                                             | 341/1085 [06:57<18:36,  1.50s/it, now=None]\u001b[A\u001b[A"
     ]
    },
    {
     "name": "stdout",
     "output_type": "stream",
     "text": [
      "30606.358489478313 83241.55621504333\n",
      "30752.53225091077 m 83315.4410442945 m\n",
      "[[[2.95560619e+02 0.00000000e+00]\n",
      "  [2.95477802e+02 1.00000000e+00]\n",
      "  [2.95395017e+02 2.00000000e+00]\n",
      "  ...\n",
      "  [1.13317543e+03 2.00000000e+00]\n",
      "  [1.13321564e+03 1.00000000e+00]\n",
      "  [1.13325586e+03 0.00000000e+00]]]\n"
     ]
    },
    {
     "name": "stderr",
     "output_type": "stream",
     "text": [
      "\n",
      "\n",
      "t:  32%|████████████████████▊                                             | 342/1085 [06:59<19:30,  1.58s/it, now=None]\u001b[A\u001b[A"
     ]
    },
    {
     "name": "stdout",
     "output_type": "stream",
     "text": [
      "34681.74853520258 13540.996395833668\n",
      "34802.261497302614 m 13657.837560882188 m\n",
      "[[[2.85961279e+02 0.00000000e+00]\n",
      "  [2.85892260e+02 1.00000000e+00]\n",
      "  [2.85823269e+02 2.00000000e+00]\n",
      "  ...\n",
      "  [1.14939654e+03 2.00000000e+00]\n",
      "  [1.14948054e+03 1.00000000e+00]\n",
      "  [1.14956462e+03 0.00000000e+00]]]\n"
     ]
    },
    {
     "name": "stderr",
     "output_type": "stream",
     "text": [
      "\n",
      "\n",
      "t:  32%|████████████████████▊                                             | 343/1085 [07:01<22:04,  1.78s/it, now=None]\u001b[A\u001b[A"
     ]
    },
    {
     "name": "stdout",
     "output_type": "stream",
     "text": [
      "19096.140120303116 75621.37595641818\n",
      "19196.54968910695 m 75751.32258619541 m\n",
      "[[[2.79982524e+02 0.00000000e+00]\n",
      "  [2.79914403e+02 1.00000000e+00]\n",
      "  [2.79846334e+02 2.00000000e+00]\n",
      "  ...\n",
      "  [1.15257133e+03 2.00000000e+00]\n",
      "  [1.15263902e+03 1.00000000e+00]\n",
      "  [1.15270673e+03 0.00000000e+00]]]\n"
     ]
    },
    {
     "name": "stderr",
     "output_type": "stream",
     "text": [
      "\n",
      "\n",
      "t:  32%|████████████████████▉                                             | 344/1085 [07:03<20:23,  1.65s/it, now=None]\u001b[A\u001b[A"
     ]
    },
    {
     "name": "stdout",
     "output_type": "stream",
     "text": [
      "14827.207961420494 5180.16171665196\n",
      "14938.242749472545 m 5061.501657741872 m\n",
      "[[[2.85200584e+02 0.00000000e+00]\n",
      "  [2.85121703e+02 1.00000000e+00]\n",
      "  [2.85042890e+02 2.00000000e+00]\n",
      "  ...\n",
      "  [1.13847630e+03 2.00000000e+00]\n",
      "  [1.13845978e+03 1.00000000e+00]\n",
      "  [1.13844306e+03 0.00000000e+00]]]\n"
     ]
    },
    {
     "name": "stderr",
     "output_type": "stream",
     "text": [
      "\n",
      "\n",
      "t:  32%|████████████████████▉                                             | 345/1085 [07:04<18:47,  1.52s/it, now=None]\u001b[A\u001b[A"
     ]
    },
    {
     "name": "stdout",
     "output_type": "stream",
     "text": [
      "18203.39167318836 6500.935398058112\n",
      "18302.7659405541 m 6343.722643369086 m\n",
      "[[[2.79948609e+02 0.00000000e+00]\n",
      "  [2.79880029e+02 1.00000000e+00]\n",
      "  [2.79811504e+02 2.00000000e+00]\n",
      "  ...\n",
      "  [1.15441446e+03 2.00000000e+00]\n",
      "  [1.15443135e+03 1.00000000e+00]\n",
      "  [1.15444808e+03 0.00000000e+00]]]\n"
     ]
    },
    {
     "name": "stderr",
     "output_type": "stream",
     "text": [
      "\n",
      "\n",
      "t:  32%|█████████████████████                                             | 346/1085 [07:05<17:37,  1.43s/it, now=None]\u001b[A\u001b[A"
     ]
    },
    {
     "name": "stdout",
     "output_type": "stream",
     "text": [
      "13108.100872550664 10893.67242009217\n",
      "13251.98211090826 m 10759.076880427396 m\n",
      "[[[2.96621120e+02 0.00000000e+00]\n",
      "  [2.96523097e+02 1.00000000e+00]\n",
      "  [2.96425150e+02 2.00000000e+00]\n",
      "  ...\n",
      "  [1.14987144e+03 2.00000000e+00]\n",
      "  [1.14990166e+03 1.00000000e+00]\n",
      "  [1.14993178e+03 0.00000000e+00]]]\n"
     ]
    },
    {
     "name": "stderr",
     "output_type": "stream",
     "text": [
      "\n",
      "\n",
      "t:  32%|█████████████████████                                             | 347/1085 [07:06<16:50,  1.37s/it, now=None]\u001b[A\u001b[A"
     ]
    },
    {
     "name": "stdout",
     "output_type": "stream",
     "text": [
      "691222.5384058111 6505.064854537529\n",
      "691377.4764362231 m 6366.534707535956 m\n",
      "[[[2.96776072e+02 0.00000000e+00]\n",
      "  [2.96700782e+02 1.00000000e+00]\n",
      "  [2.96625493e+02 2.00000000e+00]\n",
      "  ...\n",
      "  [1.14813897e+03 2.00000000e+00]\n",
      "  [1.14814714e+03 1.00000000e+00]\n",
      "  [1.14815516e+03 0.00000000e+00]]]\n"
     ]
    },
    {
     "name": "stderr",
     "output_type": "stream",
     "text": [
      "\n",
      "\n",
      "t:  32%|█████████████████████▏                                            | 348/1085 [07:08<16:36,  1.35s/it, now=None]\u001b[A\u001b[A"
     ]
    },
    {
     "name": "stdout",
     "output_type": "stream",
     "text": [
      "23910.90001552786 16083.878923103079\n",
      "23749.4979363548 m 16203.179883481298 m\n",
      "[[[2.97219721e+02 0.00000000e+00]\n",
      "  [2.97157725e+02 1.00000000e+00]\n",
      "  [2.97095688e+02 2.00000000e+00]\n",
      "  ...\n",
      "  [1.15877321e+03 2.00000000e+00]\n",
      "  [1.15885405e+03 1.00000000e+00]\n",
      "  [1.15893495e+03 0.00000000e+00]]]\n"
     ]
    },
    {
     "name": "stderr",
     "output_type": "stream",
     "text": [
      "\n",
      "\n",
      "t:  32%|█████████████████████▏                                            | 349/1085 [07:09<16:02,  1.31s/it, now=None]\u001b[A\u001b[A"
     ]
    },
    {
     "name": "stdout",
     "output_type": "stream",
     "text": [
      "12425.586542934223 15556.323037875429\n",
      "12251.573963174027 m 15422.749577388031 m\n",
      "[[[3.00659668e+02 0.00000000e+00]\n",
      "  [3.00606481e+02 1.00000000e+00]\n",
      "  [3.00553213e+02 2.00000000e+00]\n",
      "  ...\n",
      "  [1.15352140e+03 2.00000000e+00]\n",
      "  [1.15356162e+03 1.00000000e+00]\n",
      "  [1.15360177e+03 0.00000000e+00]]]\n"
     ]
    },
    {
     "name": "stderr",
     "output_type": "stream",
     "text": [
      "\n",
      "\n",
      "t:  32%|█████████████████████▎                                            | 350/1085 [07:10<15:39,  1.28s/it, now=None]\u001b[A\u001b[A"
     ]
    },
    {
     "name": "stdout",
     "output_type": "stream",
     "text": [
      "8524.975521335446 16063.68349888953\n",
      "8328.032686294291 m 15934.132552007946 m\n",
      "[[[3.07160010e+02 0.00000000e+00]\n",
      "  [3.07110339e+02 1.00000000e+00]\n",
      "  [3.07060548e+02 2.00000000e+00]\n",
      "  ...\n",
      "  [1.15039964e+03 2.00000000e+00]\n",
      "  [1.15043871e+03 1.00000000e+00]\n",
      "  [1.15047771e+03 0.00000000e+00]]]\n"
     ]
    },
    {
     "name": "stderr",
     "output_type": "stream",
     "text": [
      "\n",
      "\n",
      "t:  32%|█████████████████████▎                                            | 351/1085 [07:11<15:22,  1.26s/it, now=None]\u001b[A\u001b[A"
     ]
    },
    {
     "name": "stdout",
     "output_type": "stream",
     "text": [
      "7512.440482087888 37186.075743195484\n",
      "7288.210602002169 m 37069.30245081356 m\n",
      "[[[3.16122620e+02 0.00000000e+00]\n",
      "  [3.16066481e+02 1.00000000e+00]\n",
      "  [3.16010205e+02 2.00000000e+00]\n",
      "  ...\n",
      "  [1.14570258e+03 2.00000000e+00]\n",
      "  [1.14574889e+03 1.00000000e+00]\n",
      "  [1.14579516e+03 0.00000000e+00]]]\n"
     ]
    },
    {
     "name": "stderr",
     "output_type": "stream",
     "text": [
      "\n",
      "\n",
      "t:  32%|█████████████████████▍                                            | 352/1085 [07:13<15:09,  1.24s/it, now=None]\u001b[A\u001b[A"
     ]
    },
    {
     "name": "stdout",
     "output_type": "stream",
     "text": [
      "9535.021205513922 42286.82015802214\n",
      "9347.52111309233 m 42465.53585014075 m\n",
      "[[[3.02943426e+02 0.00000000e+00]\n",
      "  [3.02893327e+02 1.00000000e+00]\n",
      "  [3.02843121e+02 2.00000000e+00]\n",
      "  ...\n",
      "  [1.17044838e+03 2.00000000e+00]\n",
      "  [1.17054342e+03 1.00000000e+00]\n",
      "  [1.17063848e+03 0.00000000e+00]]]\n"
     ]
    },
    {
     "name": "stderr",
     "output_type": "stream",
     "text": [
      "\n",
      "\n",
      "t:  33%|█████████████████████▍                                            | 353/1085 [07:14<14:59,  1.23s/it, now=None]\u001b[A\u001b[A"
     ]
    },
    {
     "name": "stdout",
     "output_type": "stream",
     "text": [
      "10909.640266832646 39564.88292515023\n",
      "10738.287097207041 m 39754.081869310095 m\n",
      "[[[2.97315903e+02 0.00000000e+00]\n",
      "  [2.97268292e+02 1.00000000e+00]\n",
      "  [2.97220587e+02 2.00000000e+00]\n",
      "  ...\n",
      "  [1.17529975e+03 2.00000000e+00]\n",
      "  [1.17540042e+03 1.00000000e+00]\n",
      "  [1.17550112e+03 0.00000000e+00]]]\n"
     ]
    },
    {
     "name": "stderr",
     "output_type": "stream",
     "text": [
      "\n",
      "\n",
      "t:  33%|█████████████████████▌                                            | 354/1085 [07:15<14:57,  1.23s/it, now=None]\u001b[A\u001b[A"
     ]
    },
    {
     "name": "stdout",
     "output_type": "stream",
     "text": [
      "7622.873659383074 12520.996445763649\n",
      "7499.092090407242 m 12784.449863029655 m\n",
      "[[[2.78960815e+02 0.00000000e+00]\n",
      "  [2.78950987e+02 1.00000000e+00]\n",
      "  [2.78941026e+02 2.00000000e+00]\n",
      "  ...\n",
      "  [1.20163093e+03 2.00000000e+00]\n",
      "  [1.20178755e+03 1.00000000e+00]\n",
      "  [1.20194425e+03 0.00000000e+00]]]\n"
     ]
    },
    {
     "name": "stderr",
     "output_type": "stream",
     "text": [
      "\n",
      "\n",
      "t:  33%|█████████████████████▌                                            | 355/1085 [07:16<14:55,  1.23s/it, now=None]\u001b[A\u001b[A"
     ]
    },
    {
     "name": "stdout",
     "output_type": "stream",
     "text": [
      "6931.2648307485015 10701.320518847797\n",
      "6787.749062629601 m 10486.488021230982 m\n",
      "[[[2.86039374e+02 0.00000000e+00]\n",
      "  [2.86025324e+02 1.00000000e+00]\n",
      "  [2.86011127e+02 2.00000000e+00]\n",
      "  ...\n",
      "  [1.17819467e+03 2.00000000e+00]\n",
      "  [1.17826216e+03 1.00000000e+00]\n",
      "  [1.17832956e+03 0.00000000e+00]]]\n"
     ]
    },
    {
     "name": "stderr",
     "output_type": "stream",
     "text": [
      "\n",
      "\n",
      "t:  33%|█████████████████████▋                                            | 356/1085 [07:17<14:50,  1.22s/it, now=None]\u001b[A\u001b[A"
     ]
    },
    {
     "name": "stdout",
     "output_type": "stream",
     "text": [
      "4995.600896798953 9104.683461140015\n",
      "4823.92715596634 m 8941.808223831757 m\n",
      "[[[2.97431965e+02 0.00000000e+00]\n",
      "  [2.97426946e+02 1.00000000e+00]\n",
      "  [2.97421719e+02 2.00000000e+00]\n",
      "  ...\n",
      "  [1.15686179e+03 2.00000000e+00]\n",
      "  [1.15689847e+03 1.00000000e+00]\n",
      "  [1.15693504e+03 0.00000000e+00]]]\n"
     ]
    },
    {
     "name": "stderr",
     "output_type": "stream",
     "text": [
      "\n",
      "\n",
      "t:  33%|█████████████████████▋                                            | 357/1085 [07:19<14:47,  1.22s/it, now=None]\u001b[A\u001b[A"
     ]
    },
    {
     "name": "stdout",
     "output_type": "stream",
     "text": [
      "1299.583958488164 26252.288210901497\n",
      "1689.628278609046 m 26107.636935217964 m\n",
      "[[[4.02808525e+02 0.00000000e+00]\n",
      "  [4.02337739e+02 1.00000000e+00]\n",
      "  [4.01867732e+02 2.00000000e+00]\n",
      "  ...\n",
      "  [1.15225272e+03 2.00000000e+00]\n",
      "  [1.15230816e+03 1.00000000e+00]\n",
      "  [1.15236357e+03 0.00000000e+00]]]\n"
     ]
    },
    {
     "name": "stderr",
     "output_type": "stream",
     "text": [
      "\n",
      "\n",
      "t:  33%|█████████████████████▊                                            | 358/1085 [07:20<14:40,  1.21s/it, now=None]\u001b[A\u001b[A"
     ]
    },
    {
     "name": "stdout",
     "output_type": "stream",
     "text": [
      "8130.7973498698875 23270.6289921804\n",
      "8451.438630406452 m 23343.585352019254 m\n",
      "[[[3.63322818e+02 0.00000000e+00]\n",
      "  [3.63122796e+02 1.00000000e+00]\n",
      "  [3.62922900e+02 2.00000000e+00]\n",
      "  ...\n",
      "  [1.12922586e+03 2.00000000e+00]\n",
      "  [1.12927716e+03 1.00000000e+00]\n",
      "  [1.12932851e+03 0.00000000e+00]]]\n"
     ]
    },
    {
     "name": "stderr",
     "output_type": "stream",
     "text": [
      "\n",
      "\n",
      "t:  33%|█████████████████████▊                                            | 359/1085 [07:21<14:35,  1.21s/it, now=None]\u001b[A\u001b[A"
     ]
    },
    {
     "name": "stdout",
     "output_type": "stream",
     "text": [
      "2970.3239529283705 18774.8166639954\n",
      "2773.365588133649 m 18687.75923361006 m\n",
      "[[[3.07968261e+02 0.00000000e+00]\n",
      "  [3.08009148e+02 1.00000000e+00]\n",
      "  [3.08049675e+02 2.00000000e+00]\n",
      "  ...\n",
      "  [1.12775993e+03 2.00000000e+00]\n",
      "  [1.12778202e+03 1.00000000e+00]\n",
      "  [1.12780407e+03 0.00000000e+00]]]\n"
     ]
    },
    {
     "name": "stderr",
     "output_type": "stream",
     "text": [
      "\n",
      "\n",
      "t:  33%|█████████████████████▉                                            | 360/1085 [07:22<14:35,  1.21s/it, now=None]\u001b[A\u001b[A"
     ]
    },
    {
     "name": "stdout",
     "output_type": "stream",
     "text": [
      "1242.2330797353184 4799.8222068359955\n",
      "1743.8233135182413 m 4870.233387053873 m\n",
      "[[[4.39085647e+02 0.00000000e+00]\n",
      "  [4.38555045e+02 1.00000000e+00]\n",
      "  [4.38025250e+02 2.00000000e+00]\n",
      "  ...\n",
      "  [1.14108302e+03 2.00000000e+00]\n",
      "  [1.14119485e+03 1.00000000e+00]\n",
      "  [1.14130689e+03 0.00000000e+00]]]\n"
     ]
    },
    {
     "name": "stderr",
     "output_type": "stream",
     "text": [
      "\n",
      "\n",
      "t:  33%|█████████████████████▉                                            | 361/1085 [07:23<14:33,  1.21s/it, now=None]\u001b[A\u001b[A"
     ]
    },
    {
     "name": "stdout",
     "output_type": "stream",
     "text": [
      "2694.810894036003 10193.065198768867\n",
      "2555.471007949074 m 10315.587270918786 m\n",
      "[[[2.88479031e+02 0.00000000e+00]\n",
      "  [2.88559776e+02 1.00000000e+00]\n",
      "  [2.88640127e+02 2.00000000e+00]\n",
      "  ...\n",
      "  [1.15193094e+03 2.00000000e+00]\n",
      "  [1.15202671e+03 1.00000000e+00]\n",
      "  [1.15212257e+03 0.00000000e+00]]]\n"
     ]
    },
    {
     "name": "stderr",
     "output_type": "stream",
     "text": [
      "\n",
      "\n",
      "t:  33%|██████████████████████                                            | 362/1085 [07:25<14:30,  1.20s/it, now=None]\u001b[A\u001b[A"
     ]
    },
    {
     "name": "stdout",
     "output_type": "stream",
     "text": [
      "1908.6426247632896 16135.063828855826\n",
      "1865.8959436651567 m 16323.607857778952 m\n",
      "[[[2.51707926e+02 0.00000000e+00]\n",
      "  [2.51897083e+02 1.00000000e+00]\n",
      "  [2.52085680e+02 2.00000000e+00]\n",
      "  ...\n",
      "  [1.17440718e+03 2.00000000e+00]\n",
      "  [1.17452128e+03 1.00000000e+00]\n",
      "  [1.17463544e+03 0.00000000e+00]]]\n"
     ]
    },
    {
     "name": "stderr",
     "output_type": "stream",
     "text": [
      "\n",
      "\n",
      "t:  33%|██████████████████████                                            | 363/1085 [07:26<14:35,  1.21s/it, now=None]\u001b[A\u001b[A"
     ]
    },
    {
     "name": "stdout",
     "output_type": "stream",
     "text": [
      "1177.4913987040345 29587.847139847698\n",
      "1261.4563724707398 m 29791.62793182369 m\n",
      "[[[2.00308769e+02 0.00000000e+00]\n",
      "  [2.00706491e+02 1.00000000e+00]\n",
      "  [2.01103252e+02 2.00000000e+00]\n",
      "  ...\n",
      "  [1.17649002e+03 2.00000000e+00]\n",
      "  [1.17660087e+03 1.00000000e+00]\n",
      "  [1.17671176e+03 0.00000000e+00]]]\n"
     ]
    },
    {
     "name": "stderr",
     "output_type": "stream",
     "text": [
      "\n",
      "\n",
      "t:  34%|██████████████████████▏                                           | 364/1085 [07:27<14:35,  1.21s/it, now=None]\u001b[A\u001b[A"
     ]
    },
    {
     "name": "stdout",
     "output_type": "stream",
     "text": [
      "1436.6471628163158 22259.398089627797\n",
      "1486.1428133288887 m 22005.094011865283 m\n",
      "[[[2.15562061e+02 0.00000000e+00]\n",
      "  [2.15867808e+02 1.00000000e+00]\n",
      "  [2.16172800e+02 2.00000000e+00]\n",
      "  ...\n",
      "  [1.19036015e+03 2.00000000e+00]\n",
      "  [1.19046502e+03 1.00000000e+00]\n",
      "  [1.19056983e+03 0.00000000e+00]]]\n"
     ]
    },
    {
     "name": "stderr",
     "output_type": "stream",
     "text": [
      "\n",
      "\n",
      "t:  34%|██████████████████████▏                                           | 365/1085 [07:28<14:26,  1.20s/it, now=None]\u001b[A\u001b[A"
     ]
    },
    {
     "name": "stdout",
     "output_type": "stream",
     "text": [
      "2083.273888404404 140284.07597761246\n",
      "2082.372321072278 m 140055.95712399416 m\n",
      "[[[2.44798540e+02 0.00000000e+00]\n",
      "  [2.44985774e+02 1.00000000e+00]\n",
      "  [2.45172506e+02 2.00000000e+00]\n",
      "  ...\n",
      "  [1.18376433e+03 2.00000000e+00]\n",
      "  [1.18387131e+03 1.00000000e+00]\n",
      "  [1.18397830e+03 0.00000000e+00]]]\n"
     ]
    },
    {
     "name": "stderr",
     "output_type": "stream",
     "text": [
      "\n",
      "\n",
      "t:  34%|██████████████████████▎                                           | 366/1085 [07:30<14:26,  1.21s/it, now=None]\u001b[A\u001b[A"
     ]
    },
    {
     "name": "stdout",
     "output_type": "stream",
     "text": [
      "2911.909455650477 10633.8562323325\n",
      "2844.4001635890927 m 10418.06316143794 m\n",
      "[[[2.69033345e+02 0.00000000e+00]\n",
      "  [2.69134033e+02 1.00000000e+00]\n",
      "  [2.69234365e+02 2.00000000e+00]\n",
      "  ...\n",
      "  [1.17718841e+03 2.00000000e+00]\n",
      "  [1.17725612e+03 1.00000000e+00]\n",
      "  [1.17732373e+03 0.00000000e+00]]]\n"
     ]
    },
    {
     "name": "stderr",
     "output_type": "stream",
     "text": [
      "\n",
      "\n",
      "t:  34%|██████████████████████▎                                           | 367/1085 [07:31<14:22,  1.20s/it, now=None]\u001b[A\u001b[A"
     ]
    },
    {
     "name": "stdout",
     "output_type": "stream",
     "text": [
      "44369.085811412064 9274.500623760843\n",
      "44568.381688666916 m 9089.96440726933 m\n",
      "[[[3.25811507e+02 0.00000000e+00]\n",
      "  [3.25707012e+02 1.00000000e+00]\n",
      "  [3.25602539e+02 2.00000000e+00]\n",
      "  ...\n",
      "  [1.16767645e+03 2.00000000e+00]\n",
      "  [1.16772412e+03 1.00000000e+00]\n",
      "  [1.16777168e+03 0.00000000e+00]]]\n"
     ]
    },
    {
     "name": "stderr",
     "output_type": "stream",
     "text": [
      "\n",
      "\n",
      "t:  34%|██████████████████████▍                                           | 368/1085 [07:32<14:23,  1.20s/it, now=None]\u001b[A\u001b[A"
     ]
    },
    {
     "name": "stdout",
     "output_type": "stream",
     "text": [
      "4536.299796353617 33753.43988049967\n",
      "4831.390573084644 m 33569.65217847141 m\n",
      "[[[3.60755258e+02 0.00000000e+00]\n",
      "  [3.60531344e+02 1.00000000e+00]\n",
      "  [3.60307653e+02 2.00000000e+00]\n",
      "  ...\n",
      "  [1.16904534e+03 2.00000000e+00]\n",
      "  [1.16912268e+03 1.00000000e+00]\n",
      "  [1.16920000e+03 0.00000000e+00]]]\n"
     ]
    },
    {
     "name": "stderr",
     "output_type": "stream",
     "text": [
      "\n",
      "\n",
      "t:  34%|██████████████████████▍                                           | 369/1085 [07:33<14:22,  1.20s/it, now=None]\u001b[A\u001b[A"
     ]
    },
    {
     "name": "stdout",
     "output_type": "stream",
     "text": [
      "9941.729464193222 22926.66366789647\n",
      "10172.083225729646 m 23125.571644189873 m\n",
      "[[[3.38938190e+02 0.00000000e+00]\n",
      "  [3.38789555e+02 1.00000000e+00]\n",
      "  [3.38641021e+02 2.00000000e+00]\n",
      "  ...\n",
      "  [1.17746862e+03 2.00000000e+00]\n",
      "  [1.17758083e+03 1.00000000e+00]\n",
      "  [1.17769307e+03 0.00000000e+00]]]\n"
     ]
    },
    {
     "name": "stderr",
     "output_type": "stream",
     "text": [
      "\n",
      "\n",
      "t:  34%|██████████████████████▌                                           | 370/1085 [07:34<14:17,  1.20s/it, now=None]\u001b[A\u001b[A"
     ]
    },
    {
     "name": "stdout",
     "output_type": "stream",
     "text": [
      "2209.4481681413154 4666.325270979392\n",
      "2201.2699343046984 m 4850.638139833558 m\n",
      "[[[2.51208391e+02 0.00000000e+00]\n",
      "  [2.51380824e+02 1.00000000e+00]\n",
      "  [2.51552786e+02 2.00000000e+00]\n",
      "  ...\n",
      "  [1.17976051e+03 2.00000000e+00]\n",
      "  [1.17992905e+03 1.00000000e+00]\n",
      "  [1.18009779e+03 0.00000000e+00]]]\n"
     ]
    },
    {
     "name": "stderr",
     "output_type": "stream",
     "text": [
      "\n",
      "\n",
      "t:  34%|██████████████████████▌                                           | 371/1085 [07:36<14:17,  1.20s/it, now=None]\u001b[A\u001b[A"
     ]
    },
    {
     "name": "stdout",
     "output_type": "stream",
     "text": [
      "12328.545311028563 3704.254379745206\n",
      "12178.76147019764 m 3887.6777540347202 m\n",
      "[[[3.06663965e+02 0.00000000e+00]\n",
      "  [3.06622519e+02 1.00000000e+00]\n",
      "  [3.06580990e+02 2.00000000e+00]\n",
      "  ...\n",
      "  [1.18877423e+03 2.00000000e+00]\n",
      "  [1.18896294e+03 1.00000000e+00]\n",
      "  [1.18915191e+03 0.00000000e+00]]]\n"
     ]
    },
    {
     "name": "stderr",
     "output_type": "stream",
     "text": [
      "\n",
      "\n",
      "t:  34%|██████████████████████▋                                           | 372/1085 [07:37<14:14,  1.20s/it, now=None]\u001b[A\u001b[A"
     ]
    },
    {
     "name": "stdout",
     "output_type": "stream",
     "text": [
      "2409.4796269387143 2386.7360065735693\n",
      "2780.5521274454536 m 2554.35753839518 m\n",
      "[[[3.89936329e+02 0.00000000e+00]\n",
      "  [3.89605776e+02 1.00000000e+00]\n",
      "  [3.89275638e+02 2.00000000e+00]\n",
      "  ...\n",
      "  [1.19362012e+03 2.00000000e+00]\n",
      "  [1.19385739e+03 1.00000000e+00]\n",
      "  [1.19409508e+03 0.00000000e+00]]]\n"
     ]
    },
    {
     "name": "stderr",
     "output_type": "stream",
     "text": [
      "\n",
      "\n",
      "t:  34%|██████████████████████▋                                           | 373/1085 [07:38<14:14,  1.20s/it, now=None]\u001b[A\u001b[A"
     ]
    },
    {
     "name": "stdout",
     "output_type": "stream",
     "text": [
      "4506.3203108854905 2243.2356394649787\n",
      "4415.073083204927 m 2464.3062678352862 m\n",
      "[[[2.83275522e+02 0.00000000e+00]\n",
      "  [2.83316411e+02 1.00000000e+00]\n",
      "  [2.83357072e+02 2.00000000e+00]\n",
      "  ...\n",
      "  [1.20717204e+03 2.00000000e+00]\n",
      "  [1.20744404e+03 1.00000000e+00]\n",
      "  [1.20771649e+03 0.00000000e+00]]]\n"
     ]
    },
    {
     "name": "stderr",
     "output_type": "stream",
     "text": [
      "\n",
      "\n",
      "t:  34%|██████████████████████▊                                           | 374/1085 [07:39<14:11,  1.20s/it, now=None]\u001b[A\u001b[A"
     ]
    },
    {
     "name": "stdout",
     "output_type": "stream",
     "text": [
      "4629.597249512201 2112.823379960753\n",
      "4597.060590461237 m 2358.8300128918513 m\n",
      "[[[2.65918917e+02 0.00000000e+00]\n",
      "  [2.65985009e+02 1.00000000e+00]\n",
      "  [2.66050883e+02 2.00000000e+00]\n",
      "  ...\n",
      "  [1.21373802e+03 2.00000000e+00]\n",
      "  [1.21403181e+03 1.00000000e+00]\n",
      "  [1.21432609e+03 0.00000000e+00]]]\n"
     ]
    },
    {
     "name": "stderr",
     "output_type": "stream",
     "text": [
      "\n",
      "\n",
      "t:  35%|██████████████████████▊                                           | 375/1085 [07:40<14:11,  1.20s/it, now=None]\u001b[A\u001b[A"
     ]
    },
    {
     "name": "stdout",
     "output_type": "stream",
     "text": [
      "32782.12277338907 2017.1270503422174\n",
      "32844.2937388589 m 2295.7870261189 m\n",
      "[[[2.86201200e+02 0.00000000e+00]\n",
      "  [2.86159725e+02 1.00000000e+00]\n",
      "  [2.86118280e+02 2.00000000e+00]\n",
      "  ...\n",
      "  [1.22293686e+03 2.00000000e+00]\n",
      "  [1.22325398e+03 1.00000000e+00]\n",
      "  [1.22357159e+03 0.00000000e+00]]]\n"
     ]
    },
    {
     "name": "stderr",
     "output_type": "stream",
     "text": [
      "\n",
      "\n",
      "t:  35%|██████████████████████▊                                           | 376/1085 [07:42<14:11,  1.20s/it, now=None]\u001b[A\u001b[A"
     ]
    },
    {
     "name": "stdout",
     "output_type": "stream",
     "text": [
      "4276.604247092944 2385.2135522024214\n",
      "4309.764105549293 m 2745.1674897319476 m\n",
      "[[[2.38428220e+02 0.00000000e+00]\n",
      "  [2.38532211e+02 1.00000000e+00]\n",
      "  [2.38635966e+02 2.00000000e+00]\n",
      "  ...\n",
      "  [1.24890645e+03 2.00000000e+00]\n",
      "  [1.24923294e+03 1.00000000e+00]\n",
      "  [1.24955985e+03 0.00000000e+00]]]\n"
     ]
    },
    {
     "name": "stderr",
     "output_type": "stream",
     "text": [
      "\n",
      "\n",
      "t:  35%|██████████████████████▉                                           | 377/1085 [07:43<14:14,  1.21s/it, now=None]\u001b[A\u001b[A"
     ]
    },
    {
     "name": "stdout",
     "output_type": "stream",
     "text": [
      "5679.490106525457 1719.0438546830435\n",
      "5648.046700871554 m 2097.3665089171886 m\n",
      "[[[2.58186160e+02 0.00000000e+00]\n",
      "  [2.58237403e+02 1.00000000e+00]\n",
      "  [2.58288469e+02 2.00000000e+00]\n",
      "  ...\n",
      "  [1.25934801e+03 2.00000000e+00]\n",
      "  [1.25974200e+03 1.00000000e+00]\n",
      "  [1.26013658e+03 0.00000000e+00]]]\n"
     ]
    },
    {
     "name": "stderr",
     "output_type": "stream",
     "text": [
      "\n",
      "\n",
      "t:  35%|██████████████████████▉                                           | 378/1085 [07:44<14:13,  1.21s/it, now=None]\u001b[A\u001b[A"
     ]
    },
    {
     "name": "stdout",
     "output_type": "stream",
     "text": [
      "6924.350380874348 2131.3880376309335\n",
      "7017.994523865708 m 2557.3307327842003 m\n",
      "[[[2.86876474e+02 0.00000000e+00]\n",
      "  [2.86777263e+02 1.00000000e+00]\n",
      "  [2.86678197e+02 2.00000000e+00]\n",
      "  ...\n",
      "  [1.27107749e+03 2.00000000e+00]\n",
      "  [1.27145246e+03 1.00000000e+00]\n",
      "  [1.27182789e+03 0.00000000e+00]]]\n"
     ]
    },
    {
     "name": "stderr",
     "output_type": "stream",
     "text": [
      "\n",
      "\n",
      "t:  35%|███████████████████████                                           | 379/1085 [07:45<14:16,  1.21s/it, now=None]\u001b[A\u001b[A"
     ]
    },
    {
     "name": "stdout",
     "output_type": "stream",
     "text": [
      "6276.824777289047 2090.8959578439153\n",
      "6414.83555490014 m 2526.4316263965998 m\n",
      "[[[3.01366156e+02 0.00000000e+00]\n",
      "  [3.01240045e+02 1.00000000e+00]\n",
      "  [3.01114094e+02 2.00000000e+00]\n",
      "  ...\n",
      "  [1.27369426e+03 2.00000000e+00]\n",
      "  [1.27407688e+03 1.00000000e+00]\n",
      "  [1.27445998e+03 0.00000000e+00]]]\n"
     ]
    },
    {
     "name": "stderr",
     "output_type": "stream",
     "text": [
      "\n",
      "\n",
      "t:  35%|███████████████████████                                           | 380/1085 [07:46<14:08,  1.20s/it, now=None]\u001b[A\u001b[A"
     ]
    },
    {
     "name": "stdout",
     "output_type": "stream",
     "text": [
      "7831.564307702301 2609.749601261269\n",
      "7935.098166937432 m 3106.3159268167483 m\n",
      "[[[2.88314219e+02 0.00000000e+00]\n",
      "  [2.88216488e+02 1.00000000e+00]\n",
      "  [2.88118885e+02 2.00000000e+00]\n",
      "  ...\n",
      "  [1.27992402e+03 2.00000000e+00]\n",
      "  [1.28030108e+03 1.00000000e+00]\n",
      "  [1.28067852e+03 0.00000000e+00]]]\n"
     ]
    },
    {
     "name": "stderr",
     "output_type": "stream",
     "text": [
      "\n",
      "\n",
      "t:  35%|███████████████████████▏                                          | 381/1085 [07:48<14:07,  1.20s/it, now=None]\u001b[A\u001b[A"
     ]
    },
    {
     "name": "stdout",
     "output_type": "stream",
     "text": [
      "6236.606029191154 4951.913077212024\n",
      "6344.085972044871 m 5392.242202459105 m\n",
      "[[[2.93235432e+02 0.00000000e+00]\n",
      "  [2.93123620e+02 1.00000000e+00]\n",
      "  [2.93011967e+02 2.00000000e+00]\n",
      "  ...\n",
      "  [1.26055819e+03 2.00000000e+00]\n",
      "  [1.26084368e+03 1.00000000e+00]\n",
      "  [1.26112937e+03 0.00000000e+00]]]\n"
     ]
    },
    {
     "name": "stderr",
     "output_type": "stream",
     "text": [
      "\n",
      "\n",
      "t:  35%|███████████████████████▏                                          | 382/1085 [07:49<14:11,  1.21s/it, now=None]\u001b[A\u001b[A"
     ]
    },
    {
     "name": "stdout",
     "output_type": "stream",
     "text": [
      "4690.221078135348 5937.854692249173\n",
      "4863.45675008713 m 5565.914297409351 m\n",
      "[[[3.16912060e+02 0.00000000e+00]\n",
      "  [3.16749019e+02 1.00000000e+00]\n",
      "  [3.16586191e+02 2.00000000e+00]\n",
      "  ...\n",
      "  [1.22183555e+03 2.00000000e+00]\n",
      "  [1.22194408e+03 1.00000000e+00]\n",
      "  [1.22205243e+03 0.00000000e+00]]]\n"
     ]
    },
    {
     "name": "stderr",
     "output_type": "stream",
     "text": [
      "\n",
      "\n",
      "t:  35%|███████████████████████▎                                          | 383/1085 [07:50<14:07,  1.21s/it, now=None]\u001b[A\u001b[A"
     ]
    },
    {
     "name": "stdout",
     "output_type": "stream",
     "text": [
      "1702.7326413226112 5841.197992862008\n",
      "2045.4924066393257 m 5455.278665722945 m\n",
      "[[[3.81204768e+02 0.00000000e+00]\n",
      "  [3.80823989e+02 1.00000000e+00]\n",
      "  [3.80443799e+02 2.00000000e+00]\n",
      "  ...\n",
      "  [1.22039614e+03 2.00000000e+00]\n",
      "  [1.22050959e+03 1.00000000e+00]\n",
      "  [1.22062285e+03 0.00000000e+00]]]\n"
     ]
    },
    {
     "name": "stderr",
     "output_type": "stream",
     "text": [
      "\n",
      "\n",
      "t:  35%|███████████████████████▎                                          | 384/1085 [07:51<14:54,  1.28s/it, now=None]\u001b[A\u001b[A"
     ]
    },
    {
     "name": "stdout",
     "output_type": "stream",
     "text": [
      "1132.8735891649612 7518.12123905821\n",
      "1618.2319775233148 m 7106.270521094772 m\n",
      "[[[4.25989298e+02 0.00000000e+00]\n",
      "  [4.25435595e+02 1.00000000e+00]\n",
      "  [4.24882785e+02 2.00000000e+00]\n",
      "  ...\n",
      "  [1.23221768e+03 2.00000000e+00]\n",
      "  [1.23235883e+03 1.00000000e+00]\n",
      "  [1.23249984e+03 0.00000000e+00]]]\n"
     ]
    },
    {
     "name": "stderr",
     "output_type": "stream",
     "text": [
      "\n",
      "\n",
      "t:  35%|███████████████████████▍                                          | 385/1085 [07:53<15:42,  1.35s/it, now=None]\u001b[A\u001b[A"
     ]
    },
    {
     "name": "stdout",
     "output_type": "stream",
     "text": [
      "1449.8454738747887 3866.1793243204343\n",
      "1757.7466667869421 m 3393.4801780965513 m\n",
      "[[[3.60757905e+02 0.00000000e+00]\n",
      "  [3.60352826e+02 1.00000000e+00]\n",
      "  [3.59948446e+02 2.00000000e+00]\n",
      "  ...\n",
      "  [1.25940690e+03 2.00000000e+00]\n",
      "  [1.25951678e+03 1.00000000e+00]\n",
      "  [1.25962637e+03 0.00000000e+00]]]\n"
     ]
    },
    {
     "name": "stderr",
     "output_type": "stream",
     "text": [
      "\n",
      "\n",
      "t:  36%|███████████████████████▍                                          | 386/1085 [07:54<16:12,  1.39s/it, now=None]\u001b[A\u001b[A"
     ]
    },
    {
     "name": "stdout",
     "output_type": "stream",
     "text": [
      "7784.496203653645 18097.99833927208\n",
      "7696.011929727154 m 17487.953257874102 m\n",
      "[[[2.07507456e+02 0.00000000e+00]\n",
      "  [2.07501585e+02 1.00000000e+00]\n",
      "  [2.07495845e+02 2.00000000e+00]\n",
      "  ...\n",
      "  [1.33254408e+03 2.00000000e+00]\n",
      "  [1.33280436e+03 1.00000000e+00]\n",
      "  [1.33306457e+03 0.00000000e+00]]]\n"
     ]
    },
    {
     "name": "stderr",
     "output_type": "stream",
     "text": [
      "\n",
      "\n",
      "t:  36%|███████████████████████▌                                          | 387/1085 [07:56<16:23,  1.41s/it, now=None]\u001b[A\u001b[A"
     ]
    },
    {
     "name": "stdout",
     "output_type": "stream",
     "text": [
      "49497.99188914151 2157.4385998653797\n",
      "49663.923771569986 m 1613.7438006885754 m\n",
      "[[[1.70876555e+02 0.00000000e+00]\n",
      "  [1.70964185e+02 1.00000000e+00]\n",
      "  [1.71051795e+02 2.00000000e+00]\n",
      "  ...\n",
      "  [1.29517853e+03 2.00000000e+00]\n",
      "  [1.29519689e+03 1.00000000e+00]\n",
      "  [1.29521464e+03 0.00000000e+00]]]\n"
     ]
    },
    {
     "name": "stderr",
     "output_type": "stream",
     "text": [
      "\n",
      "\n",
      "t:  36%|███████████████████████▌                                          | 388/1085 [07:57<16:14,  1.40s/it, now=None]\u001b[A\u001b[A"
     ]
    },
    {
     "name": "stdout",
     "output_type": "stream",
     "text": [
      "13618.813040893081 1738.5465748122276\n",
      "13857.617417037012 m 1232.2144773385178 m\n",
      "[[[1.42157651e+02 0.00000000e+00]\n",
      "  [1.42300174e+02 1.00000000e+00]\n",
      "  [1.42442623e+02 2.00000000e+00]\n",
      "  ...\n",
      "  [1.28515214e+03 2.00000000e+00]\n",
      "  [1.28507867e+03 1.00000000e+00]\n",
      "  [1.28500438e+03 0.00000000e+00]]]\n"
     ]
    },
    {
     "name": "stderr",
     "output_type": "stream",
     "text": [
      "\n",
      "\n",
      "t:  36%|███████████████████████▋                                          | 389/1085 [07:58<15:32,  1.34s/it, now=None]\u001b[A\u001b[A"
     ]
    },
    {
     "name": "stdout",
     "output_type": "stream",
     "text": [
      "8014.458442408763 3741.481713591461\n",
      "8081.984871321561 m 3246.6483874414257 m\n",
      "[[[2.01015625e+02 0.00000000e+00]\n",
      "  [2.01094915e+02 1.00000000e+00]\n",
      "  [2.01174080e+02 2.00000000e+00]\n",
      "  ...\n",
      "  [1.29172244e+03 2.00000000e+00]\n",
      "  [1.29183685e+03 1.00000000e+00]\n",
      "  [1.29195094e+03 0.00000000e+00]]]\n"
     ]
    },
    {
     "name": "stderr",
     "output_type": "stream",
     "text": [
      "\n",
      "\n",
      "t:  36%|███████████████████████▋                                          | 390/1085 [08:00<15:02,  1.30s/it, now=None]\u001b[A\u001b[A"
     ]
    },
    {
     "name": "stdout",
     "output_type": "stream",
     "text": [
      "4861.440784307278 5990.78937987285\n",
      "4828.865655331976 m 6355.293240088371 m\n",
      "[[[2.38505230e+02 0.00000000e+00]\n",
      "  [2.38567324e+02 1.00000000e+00]\n",
      "  [2.38629211e+02 2.00000000e+00]\n",
      "  ...\n",
      "  [1.26805583e+03 2.00000000e+00]\n",
      "  [1.26829278e+03 1.00000000e+00]\n",
      "  [1.26852989e+03 0.00000000e+00]]]\n"
     ]
    },
    {
     "name": "stderr",
     "output_type": "stream",
     "text": [
      "\n",
      "\n",
      "t:  36%|███████████████████████▊                                          | 391/1085 [08:01<14:38,  1.27s/it, now=None]\u001b[A\u001b[A"
     ]
    },
    {
     "name": "stdout",
     "output_type": "stream",
     "text": [
      "12351.095765855589 2554.901590798035\n",
      "12190.839800767697 m 2339.24010697978 m\n",
      "[[[2.88476226e+02 0.00000000e+00]\n",
      "  [2.88429748e+02 1.00000000e+00]\n",
      "  [2.88383188e+02 2.00000000e+00]\n",
      "  ...\n",
      "  [1.18703179e+03 2.00000000e+00]\n",
      "  [1.18697454e+03 1.00000000e+00]\n",
      "  [1.18691687e+03 0.00000000e+00]]]\n"
     ]
    },
    {
     "name": "stderr",
     "output_type": "stream",
     "text": [
      "\n",
      "\n",
      "t:  36%|███████████████████████▊                                          | 392/1085 [08:02<14:23,  1.25s/it, now=None]\u001b[A\u001b[A"
     ]
    },
    {
     "name": "stdout",
     "output_type": "stream",
     "text": [
      "1374.5838938791544 3176.9965201196505\n",
      "1468.624469604028 m 3088.4462970453114 m\n",
      "[[[1.93460759e+02 0.00000000e+00]\n",
      "  [1.93797861e+02 1.00000000e+00]\n",
      "  [1.94134179e+02 2.00000000e+00]\n",
      "  ...\n",
      "  [1.14538993e+03 2.00000000e+00]\n",
      "  [1.14531081e+03 1.00000000e+00]\n",
      "  [1.14523137e+03 0.00000000e+00]]]\n"
     ]
    },
    {
     "name": "stderr",
     "output_type": "stream",
     "text": [
      "\n",
      "\n",
      "t:  36%|███████████████████████▉                                          | 393/1085 [08:03<14:35,  1.27s/it, now=None]\u001b[A\u001b[A"
     ]
    },
    {
     "name": "stdout",
     "output_type": "stream",
     "text": [
      "12415.530086321749 2322.8087945124353\n",
      "12181.760068069 m 2262.1754950138697 m\n",
      "[[[3.22016911e+02 0.00000000e+00]\n",
      "  [3.21935597e+02 1.00000000e+00]\n",
      "  [3.21854201e+02 2.00000000e+00]\n",
      "  ...\n",
      "  [1.11771371e+03 2.00000000e+00]\n",
      "  [1.11757379e+03 1.00000000e+00]\n",
      "  [1.11743343e+03 0.00000000e+00]]]\n"
     ]
    },
    {
     "name": "stderr",
     "output_type": "stream",
     "text": [
      "\n",
      "\n",
      "t:  36%|███████████████████████▉                                          | 394/1085 [08:05<14:20,  1.25s/it, now=None]\u001b[A\u001b[A"
     ]
    },
    {
     "name": "stdout",
     "output_type": "stream",
     "text": [
      "11139.627276158944 2712.0443803394032\n",
      "11413.624871315573 m 2658.732409199899 m\n",
      "[[[3.43127760e+02 0.00000000e+00]\n",
      "  [3.42962326e+02 1.00000000e+00]\n",
      "  [3.42796982e+02 2.00000000e+00]\n",
      "  ...\n",
      "  [1.12018184e+03 2.00000000e+00]\n",
      "  [1.12006473e+03 1.00000000e+00]\n",
      "  [1.11994725e+03 0.00000000e+00]]]\n"
     ]
    },
    {
     "name": "stderr",
     "output_type": "stream",
     "text": [
      "\n",
      "\n",
      "t:  36%|████████████████████████                                          | 395/1085 [08:06<14:12,  1.24s/it, now=None]\u001b[A\u001b[A"
     ]
    },
    {
     "name": "stdout",
     "output_type": "stream",
     "text": [
      "30308.88218861862 2454.3556216285037\n",
      "30171.648389156937 m 2359.520453275327 m\n",
      "[[[2.94249387e+02 0.00000000e+00]\n",
      "  [2.94195599e+02 1.00000000e+00]\n",
      "  [2.94141777e+02 2.00000000e+00]\n",
      "  ...\n",
      "  [1.13916539e+03 2.00000000e+00]\n",
      "  [1.13905012e+03 1.00000000e+00]\n",
      "  [1.13893443e+03 0.00000000e+00]]]\n"
     ]
    },
    {
     "name": "stderr",
     "output_type": "stream",
     "text": [
      "\n",
      "\n",
      "t:  36%|████████████████████████                                          | 396/1085 [08:07<14:30,  1.26s/it, now=None]\u001b[A\u001b[A"
     ]
    },
    {
     "name": "stdout",
     "output_type": "stream",
     "text": [
      "1385.3131177653906 2494.289901868294\n",
      "1900.1516352153799 m 2358.8013974823266 m\n",
      "[[[4.27767389e+02 0.00000000e+00]\n",
      "  [4.27261643e+02 1.00000000e+00]\n",
      "  [4.26756619e+02 2.00000000e+00]\n",
      "  ...\n",
      "  [1.15669165e+03 2.00000000e+00]\n",
      "  [1.15659661e+03 1.00000000e+00]\n",
      "  [1.15650114e+03 0.00000000e+00]]]\n"
     ]
    },
    {
     "name": "stderr",
     "output_type": "stream",
     "text": [
      "\n",
      "\n",
      "t:  37%|████████████████████████▏                                         | 397/1085 [08:08<14:25,  1.26s/it, now=None]\u001b[A\u001b[A"
     ]
    },
    {
     "name": "stdout",
     "output_type": "stream",
     "text": [
      "2326.9474305376466 3379.9081687116686\n",
      "2634.8407551618984 m 3151.1030327682265 m\n",
      "[[[3.56771026e+02 0.00000000e+00]\n",
      "  [3.56464466e+02 1.00000000e+00]\n",
      "  [3.56158336e+02 2.00000000e+00]\n",
      "  ...\n",
      "  [1.19471511e+03 2.00000000e+00]\n",
      "  [1.19470614e+03 1.00000000e+00]\n",
      "  [1.19469684e+03 0.00000000e+00]]]\n"
     ]
    },
    {
     "name": "stderr",
     "output_type": "stream",
     "text": [
      "\n",
      "\n",
      "t:  37%|████████████████████████▏                                         | 398/1085 [08:10<14:13,  1.24s/it, now=None]\u001b[A\u001b[A"
     ]
    },
    {
     "name": "stdout",
     "output_type": "stream",
     "text": [
      "2471.7269004259642 3407.849903267449\n",
      "2818.219834079629 m 3200.815055998331 m\n",
      "[[[3.67091776e+02 0.00000000e+00]\n",
      "  [3.66776457e+02 1.00000000e+00]\n",
      "  [3.66461542e+02 2.00000000e+00]\n",
      "  ...\n",
      "  [1.18859595e+03 2.00000000e+00]\n",
      "  [1.18857851e+03 1.00000000e+00]\n",
      "  [1.18856076e+03 0.00000000e+00]]]\n"
     ]
    },
    {
     "name": "stderr",
     "output_type": "stream",
     "text": [
      "\n",
      "\n",
      "t:  37%|████████████████████████▎                                         | 399/1085 [08:11<14:01,  1.23s/it, now=None]\u001b[A\u001b[A"
     ]
    },
    {
     "name": "stdout",
     "output_type": "stream",
     "text": [
      "3554.45718477595 3645.449274236928\n",
      "3835.273579237661 m 3407.951087952093 m\n",
      "[[[3.40971992e+02 0.00000000e+00]\n",
      "  [3.40732534e+02 1.00000000e+00]\n",
      "  [3.40493358e+02 2.00000000e+00]\n",
      "  ...\n",
      "  [1.20209545e+03 2.00000000e+00]\n",
      "  [1.20209957e+03 1.00000000e+00]\n",
      "  [1.20210340e+03 0.00000000e+00]]]\n"
     ]
    },
    {
     "name": "stderr",
     "output_type": "stream",
     "text": [
      "\n",
      "\n",
      "t:  37%|████████████████████████▎                                         | 400/1085 [08:12<14:16,  1.25s/it, now=None]\u001b[A\u001b[A"
     ]
    },
    {
     "name": "stdout",
     "output_type": "stream",
     "text": [
      "5149.074841808203 3089.7200456096425\n",
      "5107.384296888161 m 2910.429296663925 m\n",
      "[[[2.55184236e+02 0.00000000e+00]\n",
      "  [2.55237589e+02 1.00000000e+00]\n",
      "  [2.55290746e+02 2.00000000e+00]\n",
      "  ...\n",
      "  [1.18650305e+03 2.00000000e+00]\n",
      "  [1.18646051e+03 1.00000000e+00]\n",
      "  [1.18641763e+03 0.00000000e+00]]]\n"
     ]
    },
    {
     "name": "stderr",
     "output_type": "stream",
     "text": [
      "\n",
      "\n",
      "t:  37%|████████████████████████▍                                         | 401/1085 [08:13<14:04,  1.23s/it, now=None]\u001b[A\u001b[A"
     ]
    },
    {
     "name": "stdout",
     "output_type": "stream",
     "text": [
      "1177.5935590721708 2711.972812058365\n",
      "1481.5895861348804 m 2578.147060157614 m\n",
      "[[[1.31794903e+02 0.00000000e+00]\n",
      "  [1.32265039e+02 1.00000000e+00]\n",
      "  [1.32734291e+02 2.00000000e+00]\n",
      "  ...\n",
      "  [1.17375179e+03 2.00000000e+00]\n",
      "  [1.17367007e+03 1.00000000e+00]\n",
      "  [1.17358796e+03 0.00000000e+00]]]\n"
     ]
    },
    {
     "name": "stderr",
     "output_type": "stream",
     "text": [
      "\n",
      "\n",
      "t:  37%|████████████████████████▍                                         | 402/1085 [08:14<13:53,  1.22s/it, now=None]\u001b[A\u001b[A"
     ]
    },
    {
     "name": "stdout",
     "output_type": "stream",
     "text": [
      "1541.1111807969546 4886.774731673145\n",
      "1724.298603365629 m 4791.926709564633 m\n",
      "[[[1.75154514e+02 0.00000000e+00]\n",
      "  [1.75490883e+02 1.00000000e+00]\n",
      "  [1.75826583e+02 2.00000000e+00]\n",
      "  ...\n",
      "  [1.17087381e+03 2.00000000e+00]\n",
      "  [1.17084161e+03 1.00000000e+00]\n",
      "  [1.17080921e+03 0.00000000e+00]]]\n"
     ]
    },
    {
     "name": "stderr",
     "output_type": "stream",
     "text": [
      "\n",
      "\n",
      "t:  37%|████████████████████████▌                                         | 403/1085 [08:16<13:51,  1.22s/it, now=None]\u001b[A\u001b[A"
     ]
    },
    {
     "name": "stdout",
     "output_type": "stream",
     "text": [
      "2429.3696644084284 10097.452742465735\n",
      "2766.696532902573 m 10142.73728673859 m\n",
      "[[[3.71608367e+02 0.00000000e+00]\n",
      "  [3.71294753e+02 1.00000000e+00]\n",
      "  [3.70981551e+02 2.00000000e+00]\n",
      "  ...\n",
      "  [1.17102014e+03 2.00000000e+00]\n",
      "  [1.17107897e+03 1.00000000e+00]\n",
      "  [1.17113791e+03 0.00000000e+00]]]\n"
     ]
    },
    {
     "name": "stderr",
     "output_type": "stream",
     "text": [
      "\n",
      "\n",
      "t:  37%|████████████████████████▌                                         | 404/1085 [08:17<13:46,  1.21s/it, now=None]\u001b[A\u001b[A"
     ]
    },
    {
     "name": "stdout",
     "output_type": "stream",
     "text": [
      "758.0245277687955 2792.978930272979\n",
      "1669.2657838353248 m 2815.6437844579173 m\n",
      "[[[5.45921459e+02 0.00000000e+00]\n",
      "  [5.45043676e+02 1.00000000e+00]\n",
      "  [5.44167224e+02 2.00000000e+00]\n",
      "  ...\n",
      "  [1.17261917e+03 2.00000000e+00]\n",
      "  [1.17276625e+03 1.00000000e+00]\n",
      "  [1.17291369e+03 0.00000000e+00]]]\n"
     ]
    },
    {
     "name": "stderr",
     "output_type": "stream",
     "text": [
      "\n",
      "\n",
      "t:  37%|████████████████████████▋                                         | 405/1085 [08:18<13:43,  1.21s/it, now=None]\u001b[A\u001b[A"
     ]
    },
    {
     "name": "stdout",
     "output_type": "stream",
     "text": [
      "3031.570812236971 2491.2060298697556\n",
      "3426.6594716370973 m 2525.225357532876 m\n",
      "[[[3.87757417e+02 0.00000000e+00]\n",
      "  [3.87446374e+02 1.00000000e+00]\n",
      "  [3.87135664e+02 2.00000000e+00]\n",
      "  ...\n",
      "  [1.16918420e+03 2.00000000e+00]\n",
      "  [1.16935375e+03 1.00000000e+00]\n",
      "  [1.16952371e+03 0.00000000e+00]]]\n"
     ]
    },
    {
     "name": "stderr",
     "output_type": "stream",
     "text": [
      "\n",
      "\n",
      "t:  37%|████████████████████████▋                                         | 406/1085 [08:19<13:37,  1.20s/it, now=None]\u001b[A\u001b[A"
     ]
    },
    {
     "name": "stdout",
     "output_type": "stream",
     "text": [
      "1575.4943916475524 2082.665772270665\n",
      "2127.090335247422 m 2130.9137833270765 m\n",
      "[[[4.41344290e+02 0.00000000e+00]\n",
      "  [4.40853358e+02 1.00000000e+00]\n",
      "  [4.40363063e+02 2.00000000e+00]\n",
      "  ...\n",
      "  [1.17776882e+03 2.00000000e+00]\n",
      "  [1.17797681e+03 1.00000000e+00]\n",
      "  [1.17818531e+03 0.00000000e+00]]]\n"
     ]
    },
    {
     "name": "stderr",
     "output_type": "stream",
     "text": [
      "\n",
      "\n",
      "t:  38%|████████████████████████▊                                         | 407/1085 [08:20<13:35,  1.20s/it, now=None]\u001b[A\u001b[A"
     ]
    },
    {
     "name": "stdout",
     "output_type": "stream",
     "text": [
      "2726.432623295485 1837.0828013955716\n",
      "2701.520799266082 m 1857.9012366751938 m\n",
      "[[[2.52392870e+02 0.00000000e+00]\n",
      "  [2.52522267e+02 1.00000000e+00]\n",
      "  [2.52651287e+02 2.00000000e+00]\n",
      "  ...\n",
      "  [1.18093355e+03 2.00000000e+00]\n",
      "  [1.18115728e+03 1.00000000e+00]\n",
      "  [1.18138158e+03 0.00000000e+00]]]\n"
     ]
    },
    {
     "name": "stderr",
     "output_type": "stream",
     "text": [
      "\n",
      "\n",
      "t:  38%|████████████████████████▊                                         | 408/1085 [08:22<13:37,  1.21s/it, now=None]\u001b[A\u001b[A"
     ]
    },
    {
     "name": "stdout",
     "output_type": "stream",
     "text": [
      "2417.481732107095 1869.2429890209762\n",
      "2431.3248383216046 m 1941.032361785967 m\n",
      "[[[2.37578503e+02 0.00000000e+00]\n",
      "  [2.37744404e+02 1.00000000e+00]\n",
      "  [2.37909879e+02 2.00000000e+00]\n",
      "  ...\n",
      "  [1.18960878e+03 2.00000000e+00]\n",
      "  [1.18984984e+03 1.00000000e+00]\n",
      "  [1.19009145e+03 0.00000000e+00]]]\n"
     ]
    },
    {
     "name": "stderr",
     "output_type": "stream",
     "text": [
      "\n",
      "\n",
      "t:  38%|████████████████████████▉                                         | 409/1085 [08:23<14:15,  1.27s/it, now=None]\u001b[A\u001b[A"
     ]
    },
    {
     "name": "stdout",
     "output_type": "stream",
     "text": [
      "2277.5653519889393 2548.4557085745737\n",
      "2294.319549362787 m 2640.637501259171 m\n",
      "[[[2.35300191e+02 0.00000000e+00]\n",
      "  [2.35477845e+02 1.00000000e+00]\n",
      "  [2.35655045e+02 2.00000000e+00]\n",
      "  ...\n",
      "  [1.17893275e+03 2.00000000e+00]\n",
      "  [1.17912514e+03 1.00000000e+00]\n",
      "  [1.17931793e+03 0.00000000e+00]]]\n"
     ]
    },
    {
     "name": "stderr",
     "output_type": "stream",
     "text": [
      "\n",
      "\n",
      "t:  38%|████████████████████████▉                                         | 410/1085 [08:24<14:01,  1.25s/it, now=None]\u001b[A\u001b[A"
     ]
    },
    {
     "name": "stdout",
     "output_type": "stream",
     "text": [
      "1519.045257144487 1635.2350664021192\n",
      "1573.7549743896527 m 1683.8439123206742 m\n",
      "[[[2.17552965e+02 0.00000000e+00]\n",
      "  [2.17842519e+02 1.00000000e+00]\n",
      "  [2.18131367e+02 2.00000000e+00]\n",
      "  ...\n",
      "  [1.17396865e+03 2.00000000e+00]\n",
      "  [1.17423359e+03 1.00000000e+00]\n",
      "  [1.17449917e+03 0.00000000e+00]]]\n"
     ]
    },
    {
     "name": "stderr",
     "output_type": "stream",
     "text": [
      "\n",
      "\n",
      "t:  38%|█████████████████████████                                         | 411/1085 [08:25<13:51,  1.23s/it, now=None]\u001b[A\u001b[A"
     ]
    },
    {
     "name": "stdout",
     "output_type": "stream",
     "text": [
      "1785.0776861036315 1662.832435590008\n",
      "1883.47943985981 m 1802.7202125984268 m\n",
      "[[[2.03555358e+02 0.00000000e+00]\n",
      "  [2.03818912e+02 1.00000000e+00]\n",
      "  [2.04081886e+02 2.00000000e+00]\n",
      "  ...\n",
      "  [1.19723669e+03 2.00000000e+00]\n",
      "  [1.19753445e+03 1.00000000e+00]\n",
      "  [1.19783282e+03 0.00000000e+00]]]\n"
     ]
    },
    {
     "name": "stderr",
     "output_type": "stream",
     "text": [
      "\n",
      "\n",
      "t:  38%|█████████████████████████                                         | 412/1085 [08:27<14:18,  1.28s/it, now=None]\u001b[A\u001b[A"
     ]
    },
    {
     "name": "stdout",
     "output_type": "stream",
     "text": [
      "1951.5030061605664 1934.3617372774945\n",
      "2043.6017042801311 m 2022.7744117837271 m\n",
      "[[[2.11341862e+02 0.00000000e+00]\n",
      "  [2.11582780e+02 1.00000000e+00]\n",
      "  [2.11823170e+02 2.00000000e+00]\n",
      "  ...\n",
      "  [1.17822713e+03 2.00000000e+00]\n",
      "  [1.17846780e+03 1.00000000e+00]\n",
      "  [1.17870900e+03 0.00000000e+00]]]\n"
     ]
    },
    {
     "name": "stderr",
     "output_type": "stream",
     "text": [
      "\n",
      "\n",
      "t:  38%|█████████████████████████                                         | 413/1085 [08:28<14:00,  1.25s/it, now=None]\u001b[A\u001b[A"
     ]
    },
    {
     "name": "stdout",
     "output_type": "stream",
     "text": [
      "1605.7416525772815 1991.5314291520751\n",
      "1751.9206859415665 m 2098.879649313936 m\n",
      "[[[1.88497987e+02 0.00000000e+00]\n",
      "  [1.88808024e+02 1.00000000e+00]\n",
      "  [1.89117416e+02 2.00000000e+00]\n",
      "  ...\n",
      "  [1.18536240e+03 2.00000000e+00]\n",
      "  [1.18560524e+03 1.00000000e+00]\n",
      "  [1.18584859e+03 0.00000000e+00]]]\n"
     ]
    },
    {
     "name": "stderr",
     "output_type": "stream",
     "text": [
      "\n",
      "\n",
      "t:  38%|█████████████████████████▏                                        | 414/1085 [08:29<13:48,  1.24s/it, now=None]\u001b[A\u001b[A"
     ]
    },
    {
     "name": "stdout",
     "output_type": "stream",
     "text": [
      "2096.9221737254934 2173.2076212696843\n",
      "1988.3851258041425 m 2289.462853665219 m\n",
      "[[[2.41516826e+02 0.00000000e+00]\n",
      "  [2.41375898e+02 1.00000000e+00]\n",
      "  [2.41235484e+02 2.00000000e+00]\n",
      "  ...\n",
      "  [1.18190653e+03 2.00000000e+00]\n",
      "  [1.18213649e+03 1.00000000e+00]\n",
      "  [1.18236691e+03 0.00000000e+00]]]\n"
     ]
    },
    {
     "name": "stderr",
     "output_type": "stream",
     "text": [
      "\n",
      "\n",
      "t:  38%|█████████████████████████▏                                        | 415/1085 [08:30<13:42,  1.23s/it, now=None]\u001b[A\u001b[A"
     ]
    },
    {
     "name": "stdout",
     "output_type": "stream",
     "text": [
      "1515.3433389511122 2492.5893225282566\n",
      "1428.69058120626 m 2661.081852889253 m\n",
      "[[[2.57688095e+02 0.00000000e+00]\n",
      "  [2.57448010e+02 1.00000000e+00]\n",
      "  [2.57208675e+02 2.00000000e+00]\n",
      "  ...\n",
      "  [1.19207668e+03 2.00000000e+00]\n",
      "  [1.19230757e+03 1.00000000e+00]\n",
      "  [1.19253886e+03 0.00000000e+00]]]\n"
     ]
    },
    {
     "name": "stderr",
     "output_type": "stream",
     "text": [
      "\n",
      "\n",
      "t:  38%|█████████████████████████▎                                        | 416/1085 [08:32<13:38,  1.22s/it, now=None]\u001b[A\u001b[A"
     ]
    },
    {
     "name": "stdout",
     "output_type": "stream",
     "text": [
      "3831.7883562110965 2378.3920874317323\n",
      "4032.9985994985072 m 2617.216164661845 m\n",
      "[[[3.21993798e+02 0.00000000e+00]\n",
      "  [3.21799689e+02 1.00000000e+00]\n",
      "  [3.21605841e+02 2.00000000e+00]\n",
      "  ...\n",
      "  [1.21829984e+03 2.00000000e+00]\n",
      "  [1.21857052e+03 1.00000000e+00]\n",
      "  [1.21884162e+03 0.00000000e+00]]]\n"
     ]
    },
    {
     "name": "stderr",
     "output_type": "stream",
     "text": [
      "\n",
      "\n",
      "t:  38%|█████████████████████████▎                                        | 417/1085 [08:33<14:26,  1.30s/it, now=None]\u001b[A\u001b[A"
     ]
    },
    {
     "name": "stdout",
     "output_type": "stream",
     "text": [
      "8272.900808240658 2532.0753957267143\n",
      "8467.439610416131 m 2822.939772019725 m\n",
      "[[[3.08844694e+02 0.00000000e+00]\n",
      "  [3.08705686e+02 1.00000000e+00]\n",
      "  [3.08566800e+02 2.00000000e+00]\n",
      "  ...\n",
      "  [1.23102413e+03 2.00000000e+00]\n",
      "  [1.23130958e+03 1.00000000e+00]\n",
      "  [1.23159542e+03 0.00000000e+00]]]\n"
     ]
    },
    {
     "name": "stderr",
     "output_type": "stream",
     "text": [
      "\n",
      "\n",
      "t:  39%|█████████████████████████▍                                        | 418/1085 [08:34<14:27,  1.30s/it, now=None]\u001b[A\u001b[A"
     ]
    },
    {
     "name": "stdout",
     "output_type": "stream",
     "text": [
      "2981.356666365381 3484.5745193517873\n",
      "2747.98388884203 m 3778.1835542833196 m\n",
      "[[[3.02443288e+02 0.00000000e+00]\n",
      "  [3.02468075e+02 1.00000000e+00]\n",
      "  [3.02492497e+02 2.00000000e+00]\n",
      "  ...\n",
      "  [1.22505244e+03 2.00000000e+00]\n",
      "  [1.22529974e+03 1.00000000e+00]\n",
      "  [1.22554733e+03 0.00000000e+00]]]\n"
     ]
    },
    {
     "name": "stderr",
     "output_type": "stream",
     "text": [
      "\n",
      "\n",
      "t:  39%|█████████████████████████▍                                        | 419/1085 [08:36<14:14,  1.28s/it, now=None]\u001b[A\u001b[A"
     ]
    },
    {
     "name": "stdout",
     "output_type": "stream",
     "text": [
      "2840.5876550964226 4102.9578760666345\n",
      "2652.180633207552 m 4444.2922529107245 m\n",
      "[[[2.86104085e+02 0.00000000e+00]\n",
      "  [2.86155410e+02 1.00000000e+00]\n",
      "  [2.86206356e+02 2.00000000e+00]\n",
      "  ...\n",
      "  [1.23031586e+03 2.00000000e+00]\n",
      "  [1.23057002e+03 1.00000000e+00]\n",
      "  [1.23082442e+03 0.00000000e+00]]]\n"
     ]
    },
    {
     "name": "stderr",
     "output_type": "stream",
     "text": [
      "\n",
      "\n",
      "t:  39%|█████████████████████████▌                                        | 420/1085 [08:37<14:00,  1.26s/it, now=None]\u001b[A\u001b[A"
     ]
    },
    {
     "name": "stdout",
     "output_type": "stream",
     "text": [
      "1663.2953621975387 3904.3037810868186\n",
      "1467.8032551358795 m 4246.3954999748985 m\n",
      "[[[2.72814300e+02 0.00000000e+00]\n",
      "  [2.72986338e+02 1.00000000e+00]\n",
      "  [2.73157670e+02 2.00000000e+00]\n",
      "  ...\n",
      "  [1.23537674e+03 2.00000000e+00]\n",
      "  [1.23563578e+03 1.00000000e+00]\n",
      "  [1.23589507e+03 0.00000000e+00]]]\n"
     ]
    },
    {
     "name": "stderr",
     "output_type": "stream",
     "text": [
      "\n",
      "\n",
      "t:  39%|█████████████████████████▌                                        | 421/1085 [08:38<15:02,  1.36s/it, now=None]\u001b[A\u001b[A"
     ]
    },
    {
     "name": "stdout",
     "output_type": "stream",
     "text": [
      "2292.546549174677 4328.82088717253\n",
      "2122.0297562805863 m 4642.2670149690675 m\n",
      "[[[2.75203495e+02 0.00000000e+00]\n",
      "  [2.75300406e+02 1.00000000e+00]\n",
      "  [2.75396841e+02 2.00000000e+00]\n",
      "  ...\n",
      "  [1.22290590e+03 2.00000000e+00]\n",
      "  [1.22314218e+03 1.00000000e+00]\n",
      "  [1.22337870e+03 0.00000000e+00]]]\n"
     ]
    },
    {
     "name": "stderr",
     "output_type": "stream",
     "text": [
      "\n",
      "\n",
      "t:  39%|█████████████████████████▋                                        | 422/1085 [08:40<14:52,  1.35s/it, now=None]\u001b[A\u001b[A"
     ]
    },
    {
     "name": "stdout",
     "output_type": "stream",
     "text": [
      "2128.3060341541795 4139.05581004512\n",
      "1999.9167897410398 m 4475.27803207416 m\n",
      "[[[2.58392218e+02 0.00000000e+00]\n",
      "  [2.58521848e+02 1.00000000e+00]\n",
      "  [2.58650968e+02 2.00000000e+00]\n",
      "  ...\n",
      "  [1.23556785e+03 2.00000000e+00]\n",
      "  [1.23581881e+03 1.00000000e+00]\n",
      "  [1.23607001e+03 0.00000000e+00]]]\n"
     ]
    },
    {
     "name": "stderr",
     "output_type": "stream",
     "text": [
      "\n",
      "\n",
      "t:  39%|█████████████████████████▋                                        | 423/1085 [08:41<14:22,  1.30s/it, now=None]\u001b[A\u001b[A"
     ]
    },
    {
     "name": "stdout",
     "output_type": "stream",
     "text": [
      "2060.6188987801247 4288.865929775014\n",
      "1953.1461879434596 m 4647.659634809664 m\n",
      "[[[2.49827673e+02 0.00000000e+00]\n",
      "  [2.49972907e+02 1.00000000e+00]\n",
      "  [2.50117617e+02 2.00000000e+00]\n",
      "  ...\n",
      "  [1.24357091e+03 2.00000000e+00]\n",
      "  [1.24382948e+03 1.00000000e+00]\n",
      "  [1.24408828e+03 0.00000000e+00]]]\n"
     ]
    },
    {
     "name": "stderr",
     "output_type": "stream",
     "text": [
      "\n",
      "\n",
      "t:  39%|█████████████████████████▊                                        | 424/1085 [08:42<14:01,  1.27s/it, now=None]\u001b[A\u001b[A"
     ]
    },
    {
     "name": "stdout",
     "output_type": "stream",
     "text": [
      "4094.6652120722256 3290.2300301351684\n",
      "3977.9735320631835 m 3662.8988300211176 m\n",
      "[[[2.59125018e+02 0.00000000e+00]\n",
      "  [2.59163010e+02 1.00000000e+00]\n",
      "  [2.59200750e+02 2.00000000e+00]\n",
      "  ...\n",
      "  [1.25206001e+03 2.00000000e+00]\n",
      "  [1.25235082e+03 1.00000000e+00]\n",
      "  [1.25264194e+03 0.00000000e+00]]]\n"
     ]
    },
    {
     "name": "stderr",
     "output_type": "stream",
     "text": [
      "\n",
      "\n",
      "t:  39%|█████████████████████████▊                                        | 425/1085 [08:43<13:45,  1.25s/it, now=None]\u001b[A\u001b[A"
     ]
    },
    {
     "name": "stdout",
     "output_type": "stream",
     "text": [
      "10283.715193758 3750.572239258073\n",
      "10392.014197341457 m 4170.481924394657 m\n",
      "[[[2.65791088e+02 0.00000000e+00]\n",
      "  [2.65702413e+02 1.00000000e+00]\n",
      "  [2.65613834e+02 2.00000000e+00]\n",
      "  ...\n",
      "  [1.26149844e+03 2.00000000e+00]\n",
      "  [1.26179796e+03 1.00000000e+00]\n",
      "  [1.26209776e+03 0.00000000e+00]]]\n"
     ]
    },
    {
     "name": "stderr",
     "output_type": "stream",
     "text": [
      "\n",
      "\n",
      "t:  39%|█████████████████████████▉                                        | 426/1085 [08:45<13:36,  1.24s/it, now=None]\u001b[A\u001b[A"
     ]
    },
    {
     "name": "stdout",
     "output_type": "stream",
     "text": [
      "1491.9987388332158 2621.711433764821\n",
      "1637.358423914089 m 3016.755437909779 m\n",
      "[[[2.96973666e+02 0.00000000e+00]\n",
      "  [2.96643441e+02 1.00000000e+00]\n",
      "  [2.96313917e+02 2.00000000e+00]\n",
      "  ...\n",
      "  [1.26274272e+03 2.00000000e+00]\n",
      "  [1.26307195e+03 1.00000000e+00]\n",
      "  [1.26340155e+03 0.00000000e+00]]]\n"
     ]
    },
    {
     "name": "stderr",
     "output_type": "stream",
     "text": [
      "\n",
      "\n",
      "t:  39%|█████████████████████████▉                                        | 427/1085 [08:46<13:27,  1.23s/it, now=None]\u001b[A\u001b[A"
     ]
    },
    {
     "name": "stdout",
     "output_type": "stream",
     "text": [
      "941.5468991018473 23337.904931264908\n",
      "952.4011206574439 m 23799.070119348144 m\n",
      "[[[2.82469259e+02 0.00000000e+00]\n",
      "  [2.81897244e+02 1.00000000e+00]\n",
      "  [2.81326747e+02 2.00000000e+00]\n",
      "  ...\n",
      "  [1.26718669e+03 2.00000000e+00]\n",
      "  [1.26742161e+03 1.00000000e+00]\n",
      "  [1.26765658e+03 0.00000000e+00]]]\n"
     ]
    },
    {
     "name": "stderr",
     "output_type": "stream",
     "text": [
      "\n",
      "\n",
      "t:  39%|██████████████████████████                                        | 428/1085 [08:47<13:19,  1.22s/it, now=None]\u001b[A\u001b[A"
     ]
    },
    {
     "name": "stdout",
     "output_type": "stream",
     "text": [
      "1437.6541300567915 9890.0407727767\n",
      "1515.1280362085627 m 9399.351632082524 m\n",
      "[[[2.71819942e+02 0.00000000e+00]\n",
      "  [2.71504219e+02 1.00000000e+00]\n",
      "  [2.71189244e+02 2.00000000e+00]\n",
      "  ...\n",
      "  [1.27006638e+03 2.00000000e+00]\n",
      "  [1.27025559e+03 1.00000000e+00]\n",
      "  [1.27044469e+03 0.00000000e+00]]]\n"
     ]
    },
    {
     "name": "stderr",
     "output_type": "stream",
     "text": [
      "\n",
      "\n",
      "t:  40%|██████████████████████████                                        | 429/1085 [08:48<13:13,  1.21s/it, now=None]\u001b[A\u001b[A"
     ]
    },
    {
     "name": "stdout",
     "output_type": "stream",
     "text": [
      "1274.0375972740999 23033.72736084351\n",
      "1410.418350539335 m 22567.11279682993 m\n",
      "[[[2.89402013e+02 0.00000000e+00]\n",
      "  [2.89021930e+02 1.00000000e+00]\n",
      "  [2.88642694e+02 2.00000000e+00]\n",
      "  ...\n",
      "  [1.27198984e+03 2.00000000e+00]\n",
      "  [1.27219268e+03 1.00000000e+00]\n",
      "  [1.27239547e+03 0.00000000e+00]]]\n"
     ]
    },
    {
     "name": "stderr",
     "output_type": "stream",
     "text": [
      "\n",
      "\n",
      "t:  40%|██████████████████████████▏                                       | 430/1085 [08:49<13:07,  1.20s/it, now=None]\u001b[A\u001b[A"
     ]
    },
    {
     "name": "stdout",
     "output_type": "stream",
     "text": [
      "1197.9087592164808 3512.046676357757\n",
      "1378.7926527101795 m 3996.7317758333593 m\n",
      "[[[3.04098965e+02 0.00000000e+00]\n",
      "  [3.03679066e+02 1.00000000e+00]\n",
      "  [3.03260066e+02 2.00000000e+00]\n",
      "  ...\n",
      "  [1.29010476e+03 2.00000000e+00]\n",
      "  [1.29044110e+03 1.00000000e+00]\n",
      "  [1.29077773e+03 0.00000000e+00]]]\n"
     ]
    },
    {
     "name": "stderr",
     "output_type": "stream",
     "text": [
      "\n",
      "\n",
      "t:  40%|██████████████████████████▏                                       | 431/1085 [08:51<13:06,  1.20s/it, now=None]\u001b[A\u001b[A"
     ]
    },
    {
     "name": "stdout",
     "output_type": "stream",
     "text": [
      "1100.1208294619953 1269.06077191224\n",
      "1442.5342273190504 m 1785.7049698463147 m\n",
      "[[[3.51997976e+02 0.00000000e+00]\n",
      "  [3.51487174e+02 1.00000000e+00]\n",
      "  [3.50977321e+02 2.00000000e+00]\n",
      "  ...\n",
      "  [1.31178882e+03 2.00000000e+00]\n",
      "  [1.31231862e+03 1.00000000e+00]\n",
      "  [1.31284922e+03 0.00000000e+00]]]\n"
     ]
    },
    {
     "name": "stderr",
     "output_type": "stream",
     "text": [
      "\n",
      "\n",
      "t:  40%|██████████████████████████▎                                       | 432/1085 [08:52<13:05,  1.20s/it, now=None]\u001b[A\u001b[A"
     ]
    },
    {
     "name": "stdout",
     "output_type": "stream",
     "text": [
      "947.6974046232227 1016.8321974840418\n",
      "1486.4961361562803 m 1501.383618910436 m\n",
      "[[[4.06809181e+02 0.00000000e+00]\n",
      "  [4.06165206e+02 1.00000000e+00]\n",
      "  [4.05522316e+02 2.00000000e+00]\n",
      "  ...\n",
      "  [1.30260901e+03 2.00000000e+00]\n",
      "  [1.30320228e+03 1.00000000e+00]\n",
      "  [1.30379655e+03 0.00000000e+00]]]\n"
     ]
    },
    {
     "name": "stderr",
     "output_type": "stream",
     "text": [
      "\n",
      "\n",
      "t:  40%|██████████████████████████▎                                       | 433/1085 [08:53<13:05,  1.20s/it, now=None]\u001b[A\u001b[A"
     ]
    },
    {
     "name": "stdout",
     "output_type": "stream",
     "text": [
      "894.2927334734625 995.9627302616392\n",
      "1558.0376113973082 m 1470.5108083315747 m\n",
      "[[[4.40774639e+02 0.00000000e+00]\n",
      "  [4.40060751e+02 1.00000000e+00]\n",
      "  [4.39347999e+02 2.00000000e+00]\n",
      "  ...\n",
      "  [1.29358178e+03 2.00000000e+00]\n",
      "  [1.29418026e+03 1.00000000e+00]\n",
      "  [1.29477977e+03 0.00000000e+00]]]\n"
     ]
    },
    {
     "name": "stderr",
     "output_type": "stream",
     "text": [
      "\n",
      "\n",
      "t:  40%|██████████████████████████▍                                       | 434/1085 [08:54<13:03,  1.20s/it, now=None]\u001b[A\u001b[A"
     ]
    },
    {
     "name": "stdout",
     "output_type": "stream",
     "text": [
      "873.3473991229832 1043.8976148233726\n",
      "1537.930745201527 m 1565.2503494954444 m\n",
      "[[[4.31977968e+02 0.00000000e+00]\n",
      "  [4.31252883e+02 1.00000000e+00]\n",
      "  [4.30528964e+02 2.00000000e+00]\n",
      "  ...\n",
      "  [1.30260495e+03 2.00000000e+00]\n",
      "  [1.30320143e+03 1.00000000e+00]\n",
      "  [1.30379889e+03 0.00000000e+00]]]\n"
     ]
    },
    {
     "name": "stderr",
     "output_type": "stream",
     "text": [
      "\n",
      "\n",
      "t:  40%|██████████████████████████▍                                       | 435/1085 [08:55<13:02,  1.20s/it, now=None]\u001b[A\u001b[A"
     ]
    },
    {
     "name": "stdout",
     "output_type": "stream",
     "text": [
      "933.0446871298402 1013.2172805850101\n",
      "1556.4027485810798 m 1561.6132123642876 m\n",
      "[[[4.20828734e+02 0.00000000e+00]\n",
      "  [4.20147916e+02 1.00000000e+00]\n",
      "  [4.19468187e+02 2.00000000e+00]\n",
      "  ...\n",
      "  [1.30976221e+03 2.00000000e+00]\n",
      "  [1.31038047e+03 1.00000000e+00]\n",
      "  [1.31099974e+03 0.00000000e+00]]]\n"
     ]
    },
    {
     "name": "stderr",
     "output_type": "stream",
     "text": [
      "\n",
      "\n",
      "t:  40%|██████████████████████████▌                                       | 436/1085 [08:57<13:08,  1.22s/it, now=None]\u001b[A\u001b[A"
     ]
    },
    {
     "name": "stdout",
     "output_type": "stream",
     "text": [
      "973.9098434829924 1126.5605847817335\n",
      "1586.5327106349848 m 1699.34779856264 m\n",
      "[[[4.13438247e+02 0.00000000e+00]\n",
      "  [4.12779180e+02 1.00000000e+00]\n",
      "  [4.12121151e+02 2.00000000e+00]\n",
      "  ...\n",
      "  [1.31032594e+03 2.00000000e+00]\n",
      "  [1.31091566e+03 1.00000000e+00]\n",
      "  [1.31150627e+03 0.00000000e+00]]]\n"
     ]
    },
    {
     "name": "stderr",
     "output_type": "stream",
     "text": [
      "\n",
      "\n",
      "t:  40%|██████████████████████████▌                                       | 437/1085 [08:58<13:05,  1.21s/it, now=None]\u001b[A\u001b[A"
     ]
    },
    {
     "name": "stdout",
     "output_type": "stream",
     "text": [
      "1032.8423047769452 1094.6183596465473\n",
      "1623.4465657832409 m 1700.192823409482 m\n",
      "[[[4.04692683e+02 0.00000000e+00]\n",
      "  [4.04064662e+02 1.00000000e+00]\n",
      "  [4.03437617e+02 2.00000000e+00]\n",
      "  ...\n",
      "  [1.31591469e+03 2.00000000e+00]\n",
      "  [1.31652720e+03 1.00000000e+00]\n",
      "  [1.31714062e+03 0.00000000e+00]]]\n"
     ]
    },
    {
     "name": "stderr",
     "output_type": "stream",
     "text": [
      "\n",
      "\n",
      "t:  40%|██████████████████████████▋                                       | 438/1085 [08:59<13:02,  1.21s/it, now=None]\u001b[A\u001b[A"
     ]
    },
    {
     "name": "stdout",
     "output_type": "stream",
     "text": [
      "876.2345511854359 999.7662754203549\n",
      "1590.7894517126872 m 1596.7530600392604 m\n",
      "[[[4.45242144e+02 0.00000000e+00]\n",
      "  [4.44501100e+02 1.00000000e+00]\n",
      "  [4.43761211e+02 2.00000000e+00]\n",
      "  ...\n",
      "  [1.31380186e+03 2.00000000e+00]\n",
      "  [1.31444367e+03 1.00000000e+00]\n",
      "  [1.31508650e+03 0.00000000e+00]]]\n"
     ]
    },
    {
     "name": "stderr",
     "output_type": "stream",
     "text": [
      "\n",
      "\n",
      "t:  40%|██████████████████████████▋                                       | 439/1085 [09:00<13:44,  1.28s/it, now=None]\u001b[A\u001b[A"
     ]
    },
    {
     "name": "stdout",
     "output_type": "stream",
     "text": [
      "901.9322944401079 957.0797458764181\n",
      "1652.5809615436438 m 1605.3067339837846 m\n",
      "[[[4.52819608e+02 0.00000000e+00]\n",
      "  [4.52077849e+02 1.00000000e+00]\n",
      "  [4.51337205e+02 2.00000000e+00]\n",
      "  ...\n",
      "  [1.32434396e+03 2.00000000e+00]\n",
      "  [1.32502230e+03 1.00000000e+00]\n",
      "  [1.32570169e+03 0.00000000e+00]]]\n"
     ]
    },
    {
     "name": "stderr",
     "output_type": "stream",
     "text": [
      "\n",
      "\n",
      "t:  41%|██████████████████████████▊                                       | 440/1085 [09:02<13:35,  1.26s/it, now=None]\u001b[A\u001b[A"
     ]
    },
    {
     "name": "stdout",
     "output_type": "stream",
     "text": [
      "895.1558584145544 1019.5564585424237\n",
      "1748.0433024938538 m 1665.4487864109544 m\n",
      "[[[4.74398803e+02 0.00000000e+00]\n",
      "  [4.73615584e+02 1.00000000e+00]\n",
      "  [4.72833483e+02 2.00000000e+00]\n",
      "  ...\n",
      "  [1.31964859e+03 2.00000000e+00]\n",
      "  [1.32030190e+03 1.00000000e+00]\n",
      "  [1.32095619e+03 0.00000000e+00]]]\n"
     ]
    },
    {
     "name": "stderr",
     "output_type": "stream",
     "text": [
      "\n",
      "\n",
      "t:  41%|██████████████████████████▊                                       | 441/1085 [09:03<13:24,  1.25s/it, now=None]\u001b[A\u001b[A"
     ]
    },
    {
     "name": "stdout",
     "output_type": "stream",
     "text": [
      "868.7555377300758 1103.8081785021277\n",
      "1733.088993067604 m 1775.480375571188 m\n",
      "[[[4.77126329e+02 0.00000000e+00]\n",
      "  [4.76326871e+02 1.00000000e+00]\n",
      "  [4.75528565e+02 2.00000000e+00]\n",
      "  ...\n",
      "  [1.32336542e+03 2.00000000e+00]\n",
      "  [1.32400201e+03 1.00000000e+00]\n",
      "  [1.32463951e+03 0.00000000e+00]]]\n"
     ]
    },
    {
     "name": "stderr",
     "output_type": "stream",
     "text": [
      "\n",
      "\n",
      "t:  41%|██████████████████████████▉                                       | 442/1085 [09:04<13:18,  1.24s/it, now=None]\u001b[A\u001b[A"
     ]
    },
    {
     "name": "stdout",
     "output_type": "stream",
     "text": [
      "920.915133275856 1406.0240686008117\n",
      "1911.7138214658698 m 2132.1384169170633 m\n",
      "[[[5.03951751e+02 0.00000000e+00]\n",
      "  [5.03125693e+02 1.00000000e+00]\n",
      "  [5.02300724e+02 2.00000000e+00]\n",
      "  ...\n",
      "  [1.31629116e+03 2.00000000e+00]\n",
      "  [1.31688428e+03 1.00000000e+00]\n",
      "  [1.31747812e+03 0.00000000e+00]]]\n"
     ]
    },
    {
     "name": "stderr",
     "output_type": "stream",
     "text": [
      "\n",
      "\n",
      "t:  41%|██████████████████████████▉                                       | 443/1085 [09:05<13:11,  1.23s/it, now=None]\u001b[A\u001b[A"
     ]
    },
    {
     "name": "stdout",
     "output_type": "stream",
     "text": [
      "929.2797185022773 2988.6344711089814\n",
      "2023.9275644941677 m 3794.5931916659383 m\n",
      "[[[5.29650577e+02 0.00000000e+00]\n",
      "  [5.28786879e+02 1.00000000e+00]\n",
      "  [5.27924268e+02 2.00000000e+00]\n",
      "  ...\n",
      "  [1.30506084e+03 2.00000000e+00]\n",
      "  [1.30556042e+03 1.00000000e+00]\n",
      "  [1.30606037e+03 0.00000000e+00]]]\n"
     ]
    },
    {
     "name": "stderr",
     "output_type": "stream",
     "text": [
      "\n",
      "\n",
      "t:  41%|███████████████████████████                                       | 444/1085 [09:07<13:24,  1.26s/it, now=None]\u001b[A\u001b[A"
     ]
    },
    {
     "name": "stdout",
     "output_type": "stream",
     "text": [
      "895.1876922480408 3084.5587537183314\n",
      "2022.7732009048316 m 3895.4500261272824 m\n",
      "[[[5.39937693e+02 0.00000000e+00]\n",
      "  [5.39048489e+02 1.00000000e+00]\n",
      "  [5.38160412e+02 2.00000000e+00]\n",
      "  ...\n",
      "  [1.30951256e+03 2.00000000e+00]\n",
      "  [1.31001054e+03 1.00000000e+00]\n",
      "  [1.31050887e+03 0.00000000e+00]]]\n"
     ]
    },
    {
     "name": "stderr",
     "output_type": "stream",
     "text": [
      "\n",
      "\n",
      "t:  41%|███████████████████████████                                       | 445/1085 [09:08<13:54,  1.30s/it, now=None]\u001b[A\u001b[A"
     ]
    },
    {
     "name": "stdout",
     "output_type": "stream",
     "text": [
      "841.7169769146974 1920.2249419870861\n",
      "2153.565207275272 m 2726.7177942942913 m\n",
      "[[[5.87792303e+02 0.00000000e+00]\n",
      "  [5.86811170e+02 1.00000000e+00]\n",
      "  [5.85831247e+02 2.00000000e+00]\n",
      "  ...\n",
      "  [1.31362703e+03 2.00000000e+00]\n",
      "  [1.31419168e+03 1.00000000e+00]\n",
      "  [1.31475687e+03 0.00000000e+00]]]\n"
     ]
    },
    {
     "name": "stderr",
     "output_type": "stream",
     "text": [
      "\n",
      "\n",
      "t:  41%|███████████████████████████▏                                      | 446/1085 [09:10<14:51,  1.40s/it, now=None]\u001b[A\u001b[A"
     ]
    },
    {
     "name": "stdout",
     "output_type": "stream",
     "text": [
      "817.0967386389805 1943.1940283542283\n",
      "2085.4387442795555 m 2772.24680784606 m\n",
      "[[[5.83964058e+02 0.00000000e+00]\n",
      "  [5.82988741e+02 1.00000000e+00]\n",
      "  [5.82014661e+02 2.00000000e+00]\n",
      "  ...\n",
      "  [1.32496108e+03 2.00000000e+00]\n",
      "  [1.32553354e+03 1.00000000e+00]\n",
      "  [1.32610654e+03 0.00000000e+00]]]\n"
     ]
    },
    {
     "name": "stderr",
     "output_type": "stream",
     "text": [
      "\n",
      "\n",
      "t:  41%|███████████████████████████▏                                      | 447/1085 [09:11<15:03,  1.42s/it, now=None]\u001b[A\u001b[A"
     ]
    },
    {
     "name": "stdout",
     "output_type": "stream",
     "text": [
      "902.2527118967525 1802.4108157089954\n",
      "2271.676174777984 m 2615.4135829828083 m\n",
      "[[[6.03656625e+02 0.00000000e+00]\n",
      "  [6.02676707e+02 1.00000000e+00]\n",
      "  [6.01697937e+02 2.00000000e+00]\n",
      "  ...\n",
      "  [1.32474705e+03 2.00000000e+00]\n",
      "  [1.32532601e+03 1.00000000e+00]\n",
      "  [1.32590555e+03 0.00000000e+00]]]\n"
     ]
    },
    {
     "name": "stderr",
     "output_type": "stream",
     "text": [
      "\n",
      "\n",
      "t:  41%|███████████████████████████▎                                      | 448/1085 [09:13<15:36,  1.47s/it, now=None]\u001b[A\u001b[A"
     ]
    },
    {
     "name": "stdout",
     "output_type": "stream",
     "text": [
      "994.8613003971652 3292.115882529073\n",
      "2294.8281708889913 m 4125.07451992275 m\n",
      "[[[5.85374251e+02 0.00000000e+00]\n",
      "  [5.84451198e+02 1.00000000e+00]\n",
      "  [5.83529195e+02 2.00000000e+00]\n",
      "  ...\n",
      "  [1.32791693e+03 2.00000000e+00]\n",
      "  [1.32841707e+03 1.00000000e+00]\n",
      "  [1.32891754e+03 0.00000000e+00]]]\n"
     ]
    },
    {
     "name": "stderr",
     "output_type": "stream",
     "text": [
      "\n",
      "\n",
      "t:  41%|███████████████████████████▎                                      | 449/1085 [09:14<15:43,  1.48s/it, now=None]\u001b[A\u001b[A"
     ]
    },
    {
     "name": "stdout",
     "output_type": "stream",
     "text": [
      "1012.7956366945325 5846.573436366129\n",
      "2320.2597142170744 m 6668.224398429504 m\n",
      "[[[5.91534007e+02 0.00000000e+00]\n",
      "  [5.90613246e+02 1.00000000e+00]\n",
      "  [5.89693519e+02 2.00000000e+00]\n",
      "  ...\n",
      "  [1.32564009e+03 2.00000000e+00]\n",
      "  [1.32608481e+03 1.00000000e+00]\n",
      "  [1.32652973e+03 0.00000000e+00]]]\n"
     ]
    },
    {
     "name": "stderr",
     "output_type": "stream",
     "text": [
      "\n",
      "\n",
      "t:  41%|███████████████████████████▎                                      | 450/1085 [09:16<16:01,  1.51s/it, now=None]\u001b[A\u001b[A"
     ]
    },
    {
     "name": "stdout",
     "output_type": "stream",
     "text": [
      "1078.2915069858236 3243.747274240428\n",
      "2423.336787230349 m 4108.735826086166 m\n",
      "[[[6.01905996e+02 0.00000000e+00]\n",
      "  [6.00988133e+02 1.00000000e+00]\n",
      "  [6.00071258e+02 2.00000000e+00]\n",
      "  ...\n",
      "  [1.34654610e+03 2.00000000e+00]\n",
      "  [1.34706176e+03 1.00000000e+00]\n",
      "  [1.34757776e+03 0.00000000e+00]]]\n"
     ]
    },
    {
     "name": "stderr",
     "output_type": "stream",
     "text": [
      "\n",
      "\n",
      "t:  42%|███████████████████████████▍                                      | 451/1085 [09:17<16:05,  1.52s/it, now=None]\u001b[A\u001b[A"
     ]
    },
    {
     "name": "stdout",
     "output_type": "stream",
     "text": [
      "903.6705049774562 1664.2319264470593\n",
      "2608.978809367513 m 2530.4284489766405 m\n",
      "[[[6.92778957e+02 0.00000000e+00]\n",
      "  [6.91673574e+02 1.00000000e+00]\n",
      "  [6.90569396e+02 2.00000000e+00]\n",
      "  ...\n",
      "  [1.34949026e+03 2.00000000e+00]\n",
      "  [1.35010773e+03 1.00000000e+00]\n",
      "  [1.35072584e+03 0.00000000e+00]]]\n"
     ]
    },
    {
     "name": "stderr",
     "output_type": "stream",
     "text": [
      "\n",
      "\n",
      "t:  42%|███████████████████████████▍                                      | 452/1085 [09:19<16:09,  1.53s/it, now=None]\u001b[A\u001b[A"
     ]
    },
    {
     "name": "stdout",
     "output_type": "stream",
     "text": [
      "952.5322832511098 1669.4647481987206\n",
      "2676.8229025792507 m 2565.2814332837256 m\n",
      "[[[7.01677090e+02 0.00000000e+00]\n",
      "  [7.00580333e+02 1.00000000e+00]\n",
      "  [6.99484736e+02 2.00000000e+00]\n",
      "  ...\n",
      "  [1.35955423e+03 2.00000000e+00]\n",
      "  [1.36018389e+03 1.00000000e+00]\n",
      "  [1.36081418e+03 0.00000000e+00]]]\n"
     ]
    },
    {
     "name": "stderr",
     "output_type": "stream",
     "text": [
      "\n",
      "\n",
      "t:  42%|███████████████████████████▌                                      | 453/1085 [09:20<16:07,  1.53s/it, now=None]\u001b[A\u001b[A"
     ]
    },
    {
     "name": "stdout",
     "output_type": "stream",
     "text": [
      "1019.352700468349 1545.061941461526\n",
      "2742.661165795903 m 2476.9008657994377 m\n",
      "[[[7.03058107e+02 0.00000000e+00]\n",
      "  [7.01980899e+02 1.00000000e+00]\n",
      "  [7.00904793e+02 2.00000000e+00]\n",
      "  ...\n",
      "  [1.37293024e+03 2.00000000e+00]\n",
      "  [1.37359116e+03 1.00000000e+00]\n",
      "  [1.37425276e+03 0.00000000e+00]]]\n"
     ]
    },
    {
     "name": "stderr",
     "output_type": "stream",
     "text": [
      "\n",
      "\n",
      "t:  42%|███████████████████████████▌                                      | 454/1085 [09:22<16:06,  1.53s/it, now=None]\u001b[A\u001b[A"
     ]
    },
    {
     "name": "stdout",
     "output_type": "stream",
     "text": [
      "1133.8175353886706 1348.531289420245\n",
      "3006.834980888463 m 2269.9407945400803 m\n",
      "[[[7.38455511e+02 0.00000000e+00]\n",
      "  [7.37351985e+02 1.00000000e+00]\n",
      "  [7.36249508e+02 2.00000000e+00]\n",
      "  ...\n",
      "  [1.37144290e+03 2.00000000e+00]\n",
      "  [1.37212982e+03 1.00000000e+00]\n",
      "  [1.37281751e+03 0.00000000e+00]]]\n"
     ]
    },
    {
     "name": "stderr",
     "output_type": "stream",
     "text": [
      "\n",
      "\n",
      "t:  42%|███████████████████████████▋                                      | 455/1085 [09:23<15:40,  1.49s/it, now=None]\u001b[A\u001b[A"
     ]
    },
    {
     "name": "stdout",
     "output_type": "stream",
     "text": [
      "1326.340281060393 2087.953712037356\n",
      "3086.728841982182 m 2990.8617733483884 m\n",
      "[[[7.13535576e+02 0.00000000e+00]\n",
      "  [7.12511403e+02 1.00000000e+00]\n",
      "  [7.11488143e+02 2.00000000e+00]\n",
      "  ...\n",
      "  [1.36552798e+03 2.00000000e+00]\n",
      "  [1.36612044e+03 1.00000000e+00]\n",
      "  [1.36671341e+03 0.00000000e+00]]]\n"
     ]
    },
    {
     "name": "stderr",
     "output_type": "stream",
     "text": [
      "\n",
      "\n",
      "t:  42%|███████████████████████████▋                                      | 456/1085 [09:25<14:47,  1.41s/it, now=None]\u001b[A\u001b[A"
     ]
    },
    {
     "name": "stdout",
     "output_type": "stream",
     "text": [
      "1641.9726699040875 2144.081803075454\n",
      "3101.8348499187678 m 3080.9781043556295 m\n",
      "[[[6.41068905e+02 0.00000000e+00]\n",
      "  [6.40204333e+02 1.00000000e+00]\n",
      "  [6.39340483e+02 2.00000000e+00]\n",
      "  ...\n",
      "  [1.39081451e+03 2.00000000e+00]\n",
      "  [1.39141730e+03 1.00000000e+00]\n",
      "  [1.39202060e+03 0.00000000e+00]]]\n"
     ]
    },
    {
     "name": "stderr",
     "output_type": "stream",
     "text": [
      "\n",
      "\n",
      "t:  42%|███████████████████████████▊                                      | 457/1085 [09:26<14:09,  1.35s/it, now=None]\u001b[A\u001b[A"
     ]
    },
    {
     "name": "stdout",
     "output_type": "stream",
     "text": [
      "1812.418068651225 33528.58602415562\n",
      "3082.083119417795 m 34396.43623851377 m\n",
      "[[[5.89782745e+02 0.00000000e+00]\n",
      "  [5.89012241e+02 1.00000000e+00]\n",
      "  [5.88242373e+02 2.00000000e+00]\n",
      "  ...\n",
      "  [1.36532877e+03 2.00000000e+00]\n",
      "  [1.36573335e+03 1.00000000e+00]\n",
      "  [1.36613797e+03 0.00000000e+00]]]\n"
     ]
    },
    {
     "name": "stderr",
     "output_type": "stream",
     "text": [
      "\n",
      "\n",
      "t:  42%|███████████████████████████▊                                      | 458/1085 [09:27<13:44,  1.31s/it, now=None]\u001b[A\u001b[A"
     ]
    },
    {
     "name": "stdout",
     "output_type": "stream",
     "text": [
      "1810.6461787569353 4274.637540287634\n",
      "2955.7732067867787 m 3447.2179440019117 m\n",
      "[[[5.56948672e+02 0.00000000e+00]\n",
      "  [5.56228642e+02 1.00000000e+00]\n",
      "  [5.55509230e+02 2.00000000e+00]\n",
      "  ...\n",
      "  [1.34179934e+03 2.00000000e+00]\n",
      "  [1.34205286e+03 1.00000000e+00]\n",
      "  [1.34230607e+03 0.00000000e+00]]]\n"
     ]
    },
    {
     "name": "stderr",
     "output_type": "stream",
     "text": [
      "\n",
      "\n",
      "t:  42%|███████████████████████████▉                                      | 459/1085 [09:28<13:22,  1.28s/it, now=None]\u001b[A\u001b[A"
     ]
    },
    {
     "name": "stdout",
     "output_type": "stream",
     "text": [
      "2048.645521091186 5542.46887003898\n",
      "3168.8023958849176 m 4714.486995720699 m\n",
      "[[[5.48312048e+02 0.00000000e+00]\n",
      "  [5.47624100e+02 1.00000000e+00]\n",
      "  [5.46936704e+02 2.00000000e+00]\n",
      "  ...\n",
      "  [1.34639304e+03 2.00000000e+00]\n",
      "  [1.34667771e+03 1.00000000e+00]\n",
      "  [1.34696215e+03 0.00000000e+00]]]\n"
     ]
    },
    {
     "name": "stderr",
     "output_type": "stream",
     "text": [
      "\n",
      "\n",
      "t:  42%|███████████████████████████▉                                      | 460/1085 [09:30<13:08,  1.26s/it, now=None]\u001b[A\u001b[A"
     ]
    },
    {
     "name": "stdout",
     "output_type": "stream",
     "text": [
      "1890.0876981810256 2945.1047462684974\n",
      "3113.5461701965646 m 3886.2368277274327 m\n",
      "[[[5.79465054e+02 0.00000000e+00]\n",
      "  [5.78720847e+02 1.00000000e+00]\n",
      "  [5.77977247e+02 2.00000000e+00]\n",
      "  ...\n",
      "  [1.39512774e+03 2.00000000e+00]\n",
      "  [1.39568746e+03 1.00000000e+00]\n",
      "  [1.39624756e+03 0.00000000e+00]]]\n"
     ]
    },
    {
     "name": "stderr",
     "output_type": "stream",
     "text": [
      "\n",
      "\n",
      "t:  42%|████████████████████████████                                      | 461/1085 [09:31<12:56,  1.24s/it, now=None]\u001b[A\u001b[A"
     ]
    },
    {
     "name": "stdout",
     "output_type": "stream",
     "text": [
      "2032.1921901457945 2133.5829808643184\n",
      "3446.18512682394 m 3011.9465310546198 m\n",
      "[[[6.28387015e+02 0.00000000e+00]\n",
      "  [6.27580055e+02 1.00000000e+00]\n",
      "  [6.26773695e+02 2.00000000e+00]\n",
      "  ...\n",
      "  [1.37387150e+03 2.00000000e+00]\n",
      "  [1.37444982e+03 1.00000000e+00]\n",
      "  [1.37502865e+03 0.00000000e+00]]]\n"
     ]
    },
    {
     "name": "stderr",
     "output_type": "stream",
     "text": [
      "\n",
      "\n",
      "t:  43%|████████████████████████████                                      | 462/1085 [09:32<12:48,  1.23s/it, now=None]\u001b[A\u001b[A"
     ]
    },
    {
     "name": "stdout",
     "output_type": "stream",
     "text": [
      "2126.6051565049993 1074.7453456129397\n",
      "3720.7415907763616 m 2008.6455749757242 m\n",
      "[[[6.77027335e+02 0.00000000e+00]\n",
      "  [6.76159739e+02 1.00000000e+00]\n",
      "  [6.75292750e+02 2.00000000e+00]\n",
      "  ...\n",
      "  [1.39113565e+03 2.00000000e+00]\n",
      "  [1.39188809e+03 1.00000000e+00]\n",
      "  [1.39264147e+03 0.00000000e+00]]]\n"
     ]
    },
    {
     "name": "stderr",
     "output_type": "stream",
     "text": [
      "\n",
      "\n",
      "t:  43%|████████████████████████████▏                                     | 463/1085 [09:33<13:06,  1.26s/it, now=None]\u001b[A\u001b[A"
     ]
    },
    {
     "name": "stdout",
     "output_type": "stream",
     "text": [
      "1717.0372922689774 820.8197660364154\n",
      "3541.8629052658644 m 1773.8820582896112 m\n",
      "[[[7.39037967e+02 0.00000000e+00]\n",
      "  [7.38046149e+02 1.00000000e+00]\n",
      "  [7.37055094e+02 2.00000000e+00]\n",
      "  ...\n",
      "  [1.39308215e+03 2.00000000e+00]\n",
      "  [1.39393673e+03 1.00000000e+00]\n",
      "  [1.39479253e+03 0.00000000e+00]]]\n"
     ]
    },
    {
     "name": "stderr",
     "output_type": "stream",
     "text": [
      "\n",
      "\n",
      "t:  43%|████████████████████████████▏                                     | 464/1085 [09:34<12:56,  1.25s/it, now=None]\u001b[A\u001b[A"
     ]
    },
    {
     "name": "stdout",
     "output_type": "stream",
     "text": [
      "1757.0369985592822 880.0995503664788\n",
      "3555.9940387692054 m 1838.0628320591738 m\n",
      "[[[7.39391702e+02 0.00000000e+00]\n",
      "  [7.38413790e+02 1.00000000e+00]\n",
      "  [7.37436622e+02 2.00000000e+00]\n",
      "  ...\n",
      "  [1.39370433e+03 2.00000000e+00]\n",
      "  [1.39453301e+03 1.00000000e+00]\n",
      "  [1.39536283e+03 0.00000000e+00]]]\n"
     ]
    },
    {
     "name": "stderr",
     "output_type": "stream",
     "text": [
      "\n",
      "\n",
      "t:  43%|████████████████████████████▎                                     | 465/1085 [09:36<12:46,  1.24s/it, now=None]\u001b[A\u001b[A"
     ]
    },
    {
     "name": "stdout",
     "output_type": "stream",
     "text": [
      "2109.9085498000177 1010.9961980441628\n",
      "3757.7422020613362 m 1955.192205132733 m\n",
      "[[[7.06064253e+02 0.00000000e+00]\n",
      "  [7.05175406e+02 1.00000000e+00]\n",
      "  [7.04287179e+02 2.00000000e+00]\n",
      "  ...\n",
      "  [1.39423596e+03 2.00000000e+00]\n",
      "  [1.39501136e+03 1.00000000e+00]\n",
      "  [1.39578776e+03 0.00000000e+00]]]\n"
     ]
    },
    {
     "name": "stderr",
     "output_type": "stream",
     "text": [
      "\n",
      "\n",
      "t:  43%|████████████████████████████▎                                     | 466/1085 [09:37<12:38,  1.22s/it, now=None]\u001b[A\u001b[A"
     ]
    },
    {
     "name": "stdout",
     "output_type": "stream",
     "text": [
      "2149.7286304045224 1559.576504024554\n",
      "3550.679122045181 m 2476.265071452376 m\n",
      "[[[6.52408290e+02 0.00000000e+00]\n",
      "  [6.51615944e+02 1.00000000e+00]\n",
      "  [6.50824169e+02 2.00000000e+00]\n",
      "  ...\n",
      "  [1.39047358e+03 2.00000000e+00]\n",
      "  [1.39112605e+03 1.00000000e+00]\n",
      "  [1.39177920e+03 0.00000000e+00]]]\n"
     ]
    },
    {
     "name": "stderr",
     "output_type": "stream",
     "text": [
      "\n",
      "\n",
      "t:  43%|████████████████████████████▍                                     | 467/1085 [09:38<12:39,  1.23s/it, now=None]\u001b[A\u001b[A"
     ]
    },
    {
     "name": "stdout",
     "output_type": "stream",
     "text": [
      "2221.544058004841 4387.7109287172\n",
      "3396.3760730816884 m 5248.252849921766 m\n",
      "[[[5.97020048e+02 0.00000000e+00]\n",
      "  [5.96322915e+02 1.00000000e+00]\n",
      "  [5.95626303e+02 2.00000000e+00]\n",
      "  ...\n",
      "  [1.37538578e+03 2.00000000e+00]\n",
      "  [1.37586931e+03 1.00000000e+00]\n",
      "  [1.37635309e+03 0.00000000e+00]]]\n"
     ]
    },
    {
     "name": "stderr",
     "output_type": "stream",
     "text": [
      "\n",
      "\n",
      "t:  43%|████████████████████████████▍                                     | 468/1085 [09:39<12:55,  1.26s/it, now=None]\u001b[A\u001b[A"
     ]
    },
    {
     "name": "stdout",
     "output_type": "stream",
     "text": [
      "2478.826380238856 10523.82437663497\n",
      "3588.278676838039 m 11382.588551740426 m\n",
      "[[[5.79602307e+02 0.00000000e+00]\n",
      "  [5.78948598e+02 1.00000000e+00]\n",
      "  [5.78295357e+02 2.00000000e+00]\n",
      "  ...\n",
      "  [1.37004112e+03 2.00000000e+00]\n",
      "  [1.37047038e+03 1.00000000e+00]\n",
      "  [1.37089974e+03 0.00000000e+00]]]\n"
     ]
    },
    {
     "name": "stderr",
     "output_type": "stream",
     "text": [
      "\n",
      "\n",
      "t:  43%|████████████████████████████▌                                     | 469/1085 [09:41<12:45,  1.24s/it, now=None]\u001b[A\u001b[A"
     ]
    },
    {
     "name": "stdout",
     "output_type": "stream",
     "text": [
      "2456.3801807835857 3586.4963518833906\n",
      "3609.45733344739 m 4486.660447811683 m\n",
      "[[[5.93913678e+02 0.00000000e+00]\n",
      "  [5.93240774e+02 1.00000000e+00]\n",
      "  [5.92568345e+02 2.00000000e+00]\n",
      "  ...\n",
      "  [1.38673665e+03 2.00000000e+00]\n",
      "  [1.38725643e+03 1.00000000e+00]\n",
      "  [1.38777654e+03 0.00000000e+00]]]\n"
     ]
    },
    {
     "name": "stderr",
     "output_type": "stream",
     "text": [
      "\n",
      "\n",
      "t:  43%|████████████████████████████▌                                     | 470/1085 [09:42<12:39,  1.23s/it, now=None]\u001b[A\u001b[A"
     ]
    },
    {
     "name": "stdout",
     "output_type": "stream",
     "text": [
      "2214.1970599899423 1455.30065739237\n",
      "3418.9448625789305 m 2436.071724331538 m\n",
      "[[[6.15140280e+02 0.00000000e+00]\n",
      "  [6.14430477e+02 1.00000000e+00]\n",
      "  [6.13721201e+02 2.00000000e+00]\n",
      "  ...\n",
      "  [1.41812181e+03 2.00000000e+00]\n",
      "  [1.41881644e+03 1.00000000e+00]\n",
      "  [1.41951180e+03 0.00000000e+00]]]\n"
     ]
    },
    {
     "name": "stderr",
     "output_type": "stream",
     "text": [
      "\n",
      "\n",
      "t:  43%|████████████████████████████▋                                     | 471/1085 [09:43<12:32,  1.23s/it, now=None]\u001b[A\u001b[A"
     ]
    },
    {
     "name": "stdout",
     "output_type": "stream",
     "text": [
      "2027.0208248715442 1528.0840971117261\n",
      "3256.291847464473 m 2509.355546937582 m\n",
      "[[[6.26207693e+02 0.00000000e+00]\n",
      "  [6.25473387e+02 1.00000000e+00]\n",
      "  [6.24739654e+02 2.00000000e+00]\n",
      "  ...\n",
      "  [1.41462388e+03 2.00000000e+00]\n",
      "  [1.41530818e+03 1.00000000e+00]\n",
      "  [1.41599317e+03 0.00000000e+00]]]\n"
     ]
    },
    {
     "name": "stderr",
     "output_type": "stream",
     "text": [
      "\n",
      "\n",
      "t:  44%|████████████████████████████▋                                     | 472/1085 [09:44<12:28,  1.22s/it, now=None]\u001b[A\u001b[A"
     ]
    },
    {
     "name": "stdout",
     "output_type": "stream",
     "text": [
      "1759.940091391985 1770.3849620249018\n",
      "3057.4931578686474 m 2659.8725037610716 m\n",
      "[[[6.49843630e+02 0.00000000e+00]\n",
      "  [6.49056442e+02 1.00000000e+00]\n",
      "  [6.48269908e+02 2.00000000e+00]\n",
      "  ...\n",
      "  [1.38753387e+03 2.00000000e+00]\n",
      "  [1.38814948e+03 1.00000000e+00]\n",
      "  [1.38876569e+03 0.00000000e+00]]]\n"
     ]
    },
    {
     "name": "stderr",
     "output_type": "stream",
     "text": [
      "\n",
      "\n",
      "t:  44%|████████████████████████████▊                                     | 473/1085 [09:46<12:45,  1.25s/it, now=None]\u001b[A\u001b[A"
     ]
    },
    {
     "name": "stdout",
     "output_type": "stream",
     "text": [
      "1578.7156205498777 2423.678861870585\n",
      "2852.108368526032 m 3288.407644547342 m\n",
      "[[[6.47383474e+02 0.00000000e+00]\n",
      "  [6.46584525e+02 1.00000000e+00]\n",
      "  [6.45786289e+02 2.00000000e+00]\n",
      "  ...\n",
      "  [1.37752751e+03 2.00000000e+00]\n",
      "  [1.37808047e+03 1.00000000e+00]\n",
      "  [1.37863387e+03 0.00000000e+00]]]\n"
     ]
    },
    {
     "name": "stderr",
     "output_type": "stream",
     "text": [
      "\n",
      "\n",
      "t:  44%|████████████████████████████▊                                     | 474/1085 [09:47<12:37,  1.24s/it, now=None]\u001b[A\u001b[A"
     ]
    },
    {
     "name": "stdout",
     "output_type": "stream",
     "text": [
      "1763.0278945340215 2566.267708181927\n",
      "3011.7373124484207 m 3414.204957425302 m\n",
      "[[[6.39101496e+02 0.00000000e+00]\n",
      "  [6.38334249e+02 1.00000000e+00]\n",
      "  [6.37567650e+02 2.00000000e+00]\n",
      "  ...\n",
      "  [1.37442532e+03 2.00000000e+00]\n",
      "  [1.37496291e+03 1.00000000e+00]\n",
      "  [1.37550092e+03 0.00000000e+00]]]\n"
     ]
    },
    {
     "name": "stderr",
     "output_type": "stream",
     "text": [
      "\n",
      "\n",
      "t:  44%|████████████████████████████▉                                     | 475/1085 [09:48<12:30,  1.23s/it, now=None]\u001b[A\u001b[A"
     ]
    },
    {
     "name": "stdout",
     "output_type": "stream",
     "text": [
      "1629.8091830276605 2464.7250528415043\n",
      "2877.4537760686544 m 3327.7890324814725 m\n",
      "[[[6.41692216e+02 0.00000000e+00]\n",
      "  [6.40910102e+02 1.00000000e+00]\n",
      "  [6.40128679e+02 2.00000000e+00]\n",
      "  ...\n",
      "  [1.37732923e+03 2.00000000e+00]\n",
      "  [1.37787906e+03 1.00000000e+00]\n",
      "  [1.37842932e+03 0.00000000e+00]]]\n"
     ]
    },
    {
     "name": "stderr",
     "output_type": "stream",
     "text": [
      "\n",
      "\n",
      "t:  44%|████████████████████████████▉                                     | 476/1085 [09:49<12:25,  1.22s/it, now=None]\u001b[A\u001b[A"
     ]
    },
    {
     "name": "stdout",
     "output_type": "stream",
     "text": [
      "1579.3564241747667 2494.999056155894\n",
      "2746.0306763522603 m 3352.9298011773953 m\n",
      "[[[6.24240233e+02 0.00000000e+00]\n",
      "  [6.23484725e+02 1.00000000e+00]\n",
      "  [6.22729914e+02 2.00000000e+00]\n",
      "  ...\n",
      "  [1.37916672e+03 2.00000000e+00]\n",
      "  [1.37971258e+03 1.00000000e+00]\n",
      "  [1.38025888e+03 0.00000000e+00]]]\n"
     ]
    },
    {
     "name": "stderr",
     "output_type": "stream",
     "text": [
      "\n",
      "\n",
      "t:  44%|█████████████████████████████                                     | 477/1085 [09:50<12:24,  1.22s/it, now=None]\u001b[A\u001b[A"
     ]
    },
    {
     "name": "stdout",
     "output_type": "stream",
     "text": [
      "1521.5917155750021 1962.4434999708192\n",
      "2687.5167855024724 m 2820.4361435183246 m\n",
      "[[[6.24688833e+02 0.00000000e+00]\n",
      "  [6.23925883e+02 1.00000000e+00]\n",
      "  [6.23163651e+02 2.00000000e+00]\n",
      "  ...\n",
      "  [1.38223079e+03 2.00000000e+00]\n",
      "  [1.38281418e+03 1.00000000e+00]\n",
      "  [1.38339811e+03 0.00000000e+00]]]\n"
     ]
    },
    {
     "name": "stderr",
     "output_type": "stream",
     "text": [
      "\n",
      "\n",
      "t:  44%|█████████████████████████████                                     | 478/1085 [09:52<12:21,  1.22s/it, now=None]\u001b[A\u001b[A"
     ]
    },
    {
     "name": "stdout",
     "output_type": "stream",
     "text": [
      "1444.03034186147 1730.5640796590237\n",
      "2610.8556278278916 m 2604.2932873817786 m\n",
      "[[[6.25455521e+02 0.00000000e+00]\n",
      "  [6.24680936e+02 1.00000000e+00]\n",
      "  [6.23907102e+02 2.00000000e+00]\n",
      "  ...\n",
      "  [1.38794979e+03 2.00000000e+00]\n",
      "  [1.38856290e+03 1.00000000e+00]\n",
      "  [1.38917662e+03 0.00000000e+00]]]\n"
     ]
    },
    {
     "name": "stderr",
     "output_type": "stream",
     "text": [
      "\n",
      "\n",
      "t:  44%|█████████████████████████████▏                                    | 479/1085 [09:53<12:18,  1.22s/it, now=None]\u001b[A\u001b[A"
     ]
    },
    {
     "name": "stdout",
     "output_type": "stream",
     "text": [
      "1376.7947490998506 1336.0644996213841\n",
      "2570.9912230068503 m 2260.677310025682 m\n",
      "[[[6.34625538e+02 0.00000000e+00]\n",
      "  [6.33829098e+02 1.00000000e+00]\n",
      "  [6.33033444e+02 2.00000000e+00]\n",
      "  ...\n",
      "  [1.40140864e+03 2.00000000e+00]\n",
      "  [1.40209915e+03 1.00000000e+00]\n",
      "  [1.40279042e+03 0.00000000e+00]]]\n"
     ]
    },
    {
     "name": "stderr",
     "output_type": "stream",
     "text": [
      "\n",
      "\n",
      "t:  44%|█████████████████████████████▏                                    | 480/1085 [09:54<12:16,  1.22s/it, now=None]\u001b[A\u001b[A"
     ]
    },
    {
     "name": "stdout",
     "output_type": "stream",
     "text": [
      "1284.8154702007423 1782.605338813242\n",
      "2468.7787239809645 m 2650.0027661453287 m\n",
      "[[[6.35833882e+02 0.00000000e+00]\n",
      "  [6.35025415e+02 1.00000000e+00]\n",
      "  [6.34217779e+02 2.00000000e+00]\n",
      "  ...\n",
      "  [1.38312261e+03 2.00000000e+00]\n",
      "  [1.38372736e+03 1.00000000e+00]\n",
      "  [1.38433271e+03 0.00000000e+00]]]\n"
     ]
    },
    {
     "name": "stderr",
     "output_type": "stream",
     "text": [
      "\n",
      "\n",
      "t:  44%|█████████████████████████████▎                                    | 481/1085 [09:55<12:15,  1.22s/it, now=None]\u001b[A\u001b[A"
     ]
    },
    {
     "name": "stdout",
     "output_type": "stream",
     "text": [
      "1206.3042771776597 1971.284915722893\n",
      "2400.9335009955953 m 2844.347520289084 m\n",
      "[[[6.41358169e+02 0.00000000e+00]\n",
      "  [6.40529793e+02 1.00000000e+00]\n",
      "  [6.39702295e+02 2.00000000e+00]\n",
      "  ...\n",
      "  [1.38050738e+03 2.00000000e+00]\n",
      "  [1.38109655e+03 1.00000000e+00]\n",
      "  [1.38168626e+03 0.00000000e+00]]]\n"
     ]
    },
    {
     "name": "stderr",
     "output_type": "stream",
     "text": [
      "\n",
      "\n",
      "t:  44%|█████████████████████████████▎                                    | 482/1085 [09:57<12:11,  1.21s/it, now=None]\u001b[A\u001b[A"
     ]
    },
    {
     "name": "stdout",
     "output_type": "stream",
     "text": [
      "1215.8402299841591 2310.8208703238233\n",
      "2410.4915499297863 m 3184.59256389409 m\n",
      "[[[6.40861201e+02 0.00000000e+00]\n",
      "  [6.40034806e+02 1.00000000e+00]\n",
      "  [6.39209282e+02 2.00000000e+00]\n",
      "  ...\n",
      "  [1.37938544e+03 2.00000000e+00]\n",
      "  [1.37994936e+03 1.00000000e+00]\n",
      "  [1.38051374e+03 0.00000000e+00]]]\n"
     ]
    },
    {
     "name": "stderr",
     "output_type": "stream",
     "text": [
      "\n",
      "\n",
      "t:  45%|█████████████████████████████▍                                    | 483/1085 [09:58<12:10,  1.21s/it, now=None]\u001b[A\u001b[A"
     ]
    },
    {
     "name": "stdout",
     "output_type": "stream",
     "text": [
      "1169.3942192075172 2146.3030976295768\n",
      "2365.2393986763286 m 3018.236950968946 m\n",
      "[[[6.43567400e+02 0.00000000e+00]\n",
      "  [6.42730553e+02 1.00000000e+00]\n",
      "  [6.41894608e+02 2.00000000e+00]\n",
      "  ...\n",
      "  [1.38239591e+03 2.00000000e+00]\n",
      "  [1.38297049e+03 1.00000000e+00]\n",
      "  [1.38354557e+03 0.00000000e+00]]]\n"
     ]
    },
    {
     "name": "stderr",
     "output_type": "stream",
     "text": [
      "\n",
      "\n",
      "t:  45%|█████████████████████████████▍                                    | 484/1085 [09:59<12:04,  1.21s/it, now=None]\u001b[A\u001b[A"
     ]
    },
    {
     "name": "stdout",
     "output_type": "stream",
     "text": [
      "1147.5903176978773 4303.254843011999\n",
      "2387.5777066657697 m 5097.2468680552065 m\n",
      "[[[6.55949094e+02 0.00000000e+00]\n",
      "  [6.55089576e+02 1.00000000e+00]\n",
      "  [6.54230981e+02 2.00000000e+00]\n",
      "  ...\n",
      "  [1.35256065e+03 2.00000000e+00]\n",
      "  [1.35301722e+03 1.00000000e+00]\n",
      "  [1.35347404e+03 0.00000000e+00]]]\n"
     ]
    },
    {
     "name": "stderr",
     "output_type": "stream",
     "text": [
      "\n",
      "\n",
      "t:  45%|█████████████████████████████▌                                    | 485/1085 [10:00<12:09,  1.22s/it, now=None]\u001b[A\u001b[A"
     ]
    },
    {
     "name": "stdout",
     "output_type": "stream",
     "text": [
      "1199.9362899064251 2896.756080600584\n",
      "2397.2102385241988 m 3703.181590338066 m\n",
      "[[[6.43271418e+02 0.00000000e+00]\n",
      "  [6.42440628e+02 1.00000000e+00]\n",
      "  [6.41610720e+02 2.00000000e+00]\n",
      "  ...\n",
      "  [1.36333538e+03 2.00000000e+00]\n",
      "  [1.36383898e+03 1.00000000e+00]\n",
      "  [1.36434296e+03 0.00000000e+00]]]\n"
     ]
    },
    {
     "name": "stderr",
     "output_type": "stream",
     "text": [
      "\n",
      "\n",
      "t:  45%|█████████████████████████████▌                                    | 486/1085 [10:01<12:06,  1.21s/it, now=None]\u001b[A\u001b[A"
     ]
    },
    {
     "name": "stdout",
     "output_type": "stream",
     "text": [
      "1264.481803699853 3463.3585572891907\n",
      "2483.027299521862 m 4245.8079433470275 m\n",
      "[[[6.46407755e+02 0.00000000e+00]\n",
      "  [6.45581397e+02 1.00000000e+00]\n",
      "  [6.44755887e+02 2.00000000e+00]\n",
      "  ...\n",
      "  [1.35387828e+03 2.00000000e+00]\n",
      "  [1.35435084e+03 1.00000000e+00]\n",
      "  [1.35482373e+03 0.00000000e+00]]]\n"
     ]
    },
    {
     "name": "stderr",
     "output_type": "stream",
     "text": [
      "\n",
      "\n",
      "t:  45%|█████████████████████████████▌                                    | 487/1085 [10:03<12:03,  1.21s/it, now=None]\u001b[A\u001b[A"
     ]
    },
    {
     "name": "stdout",
     "output_type": "stream",
     "text": [
      "1236.9656048334398 6328.496293970351\n",
      "2424.2866396481854 m 7077.28903990539 m\n",
      "[[[6.37746452e+02 0.00000000e+00]\n",
      "  [6.36927336e+02 1.00000000e+00]\n",
      "  [6.36109079e+02 2.00000000e+00]\n",
      "  ...\n",
      "  [1.34384400e+03 2.00000000e+00]\n",
      "  [1.34425224e+03 1.00000000e+00]\n",
      "  [1.34466066e+03 0.00000000e+00]]]\n"
     ]
    },
    {
     "name": "stderr",
     "output_type": "stream",
     "text": [
      "\n",
      "\n",
      "t:  45%|█████████████████████████████▋                                    | 488/1085 [10:04<12:01,  1.21s/it, now=None]\u001b[A\u001b[A"
     ]
    },
    {
     "name": "stdout",
     "output_type": "stream",
     "text": [
      "1295.484087076555 4037.071508839895\n",
      "2446.9845988636534 m 4809.583249088932 m\n",
      "[[[6.26569602e+02 0.00000000e+00]\n",
      "  [6.25776373e+02 1.00000000e+00]\n",
      "  [6.24983964e+02 2.00000000e+00]\n",
      "  ...\n",
      "  [1.35561380e+03 2.00000000e+00]\n",
      "  [1.35606678e+03 1.00000000e+00]\n",
      "  [1.35652003e+03 0.00000000e+00]]]\n"
     ]
    },
    {
     "name": "stderr",
     "output_type": "stream",
     "text": [
      "\n",
      "\n",
      "t:  45%|█████████████████████████████▋                                    | 489/1085 [10:05<11:59,  1.21s/it, now=None]\u001b[A\u001b[A"
     ]
    },
    {
     "name": "stdout",
     "output_type": "stream",
     "text": [
      "1286.6648803835549 3400.545753001747\n",
      "2433.370094805155 m 4167.810291713885 m\n",
      "[[[6.25831102e+02 0.00000000e+00]\n",
      "  [6.25038192e+02 1.00000000e+00]\n",
      "  [6.24246106e+02 2.00000000e+00]\n",
      "  ...\n",
      "  [1.35726462e+03 2.00000000e+00]\n",
      "  [1.35773247e+03 1.00000000e+00]\n",
      "  [1.35820064e+03 0.00000000e+00]]]\n"
     ]
    },
    {
     "name": "stderr",
     "output_type": "stream",
     "text": [
      "\n",
      "\n",
      "t:  45%|█████████████████████████████▊                                    | 490/1085 [10:06<11:58,  1.21s/it, now=None]\u001b[A\u001b[A"
     ]
    },
    {
     "name": "stdout",
     "output_type": "stream",
     "text": [
      "1333.2919847481317 2822.412355104327\n",
      "2466.03060863802 m 3589.3936556908257 m\n",
      "[[[6.21568991e+02 0.00000000e+00]\n",
      "  [6.20790286e+02 1.00000000e+00]\n",
      "  [6.20012379e+02 2.00000000e+00]\n",
      "  ...\n",
      "  [1.36019261e+03 2.00000000e+00]\n",
      "  [1.36068210e+03 1.00000000e+00]\n",
      "  [1.36117197e+03 0.00000000e+00]]]\n"
     ]
    },
    {
     "name": "stderr",
     "output_type": "stream",
     "text": [
      "\n",
      "\n",
      "t:  45%|█████████████████████████████▊                                    | 491/1085 [10:07<11:57,  1.21s/it, now=None]\u001b[A\u001b[A"
     ]
    },
    {
     "name": "stdout",
     "output_type": "stream",
     "text": [
      "1348.3474717496704 2276.484566800322\n",
      "2510.449163706639 m 3044.545617143765 m\n",
      "[[[6.29159595e+02 0.00000000e+00]\n",
      "  [6.28371464e+02 1.00000000e+00]\n",
      "  [6.27584128e+02 2.00000000e+00]\n",
      "  ...\n",
      "  [1.36213522e+03 2.00000000e+00]\n",
      "  [1.36265503e+03 1.00000000e+00]\n",
      "  [1.36317530e+03 0.00000000e+00]]]\n"
     ]
    },
    {
     "name": "stderr",
     "output_type": "stream",
     "text": [
      "\n",
      "\n",
      "t:  45%|█████████████████████████████▉                                    | 492/1085 [10:09<12:25,  1.26s/it, now=None]\u001b[A\u001b[A"
     ]
    },
    {
     "name": "stdout",
     "output_type": "stream",
     "text": [
      "1561.4875769354842 1930.6952530714336\n",
      "2751.7518606970793 m 2729.1622129162947 m\n",
      "[[[6.33597623e+02 0.00000000e+00]\n",
      "  [6.32830112e+02 1.00000000e+00]\n",
      "  [6.32063307e+02 2.00000000e+00]\n",
      "  ...\n",
      "  [1.36883080e+03 2.00000000e+00]\n",
      "  [1.36939097e+03 1.00000000e+00]\n",
      "  [1.36995167e+03 0.00000000e+00]]]\n"
     ]
    },
    {
     "name": "stderr",
     "output_type": "stream",
     "text": [
      "\n",
      "\n",
      "t:  45%|█████████████████████████████▉                                    | 493/1085 [10:10<12:17,  1.25s/it, now=None]\u001b[A\u001b[A"
     ]
    },
    {
     "name": "stdout",
     "output_type": "stream",
     "text": [
      "1502.1812811668008 3481.297706536642\n",
      "2701.9271970326463 m 4243.380648051402 m\n",
      "[[[6.37972205e+02 0.00000000e+00]\n",
      "  [6.37192698e+02 1.00000000e+00]\n",
      "  [6.36413923e+02 2.00000000e+00]\n",
      "  ...\n",
      "  [1.34931655e+03 2.00000000e+00]\n",
      "  [1.34977961e+03 1.00000000e+00]\n",
      "  [1.35024299e+03 0.00000000e+00]]]\n"
     ]
    },
    {
     "name": "stderr",
     "output_type": "stream",
     "text": [
      "\n",
      "\n",
      "t:  46%|██████████████████████████████                                    | 494/1085 [10:11<12:12,  1.24s/it, now=None]\u001b[A\u001b[A"
     ]
    },
    {
     "name": "stdout",
     "output_type": "stream",
     "text": [
      "1549.5115337562709 5058.454371350591\n",
      "2708.1904332507565 m 5817.578700925628 m\n",
      "[[[6.26753707e+02 0.00000000e+00]\n",
      "  [6.25997543e+02 1.00000000e+00]\n",
      "  [6.25242086e+02 2.00000000e+00]\n",
      "  ...\n",
      "  [1.34859404e+03 2.00000000e+00]\n",
      "  [1.34902218e+03 1.00000000e+00]\n",
      "  [1.34945055e+03 0.00000000e+00]]]\n"
     ]
    },
    {
     "name": "stderr",
     "output_type": "stream",
     "text": [
      "\n",
      "\n",
      "t:  46%|██████████████████████████████                                    | 495/1085 [10:13<12:56,  1.32s/it, now=None]\u001b[A\u001b[A"
     ]
    },
    {
     "name": "stdout",
     "output_type": "stream",
     "text": [
      "1694.5440352022852 4488.674129614056\n",
      "2823.921593928473 m 5234.226209474049 m\n",
      "[[[6.18265415e+02 0.00000000e+00]\n",
      "  [6.17539328e+02 1.00000000e+00]\n",
      "  [6.16813891e+02 2.00000000e+00]\n",
      "  ...\n",
      "  [1.35082827e+03 2.00000000e+00]\n",
      "  [1.35126004e+03 1.00000000e+00]\n",
      "  [1.35169207e+03 0.00000000e+00]]]\n"
     ]
    },
    {
     "name": "stderr",
     "output_type": "stream",
     "text": [
      "\n",
      "\n",
      "t:  46%|██████████████████████████████▏                                   | 496/1085 [10:14<12:40,  1.29s/it, now=None]\u001b[A\u001b[A"
     ]
    },
    {
     "name": "stdout",
     "output_type": "stream",
     "text": [
      "1748.5959770730076 4318.177486401067\n",
      "2861.485440830696 m 5045.4695515438025 m\n",
      "[[[6.14195554e+02 0.00000000e+00]\n",
      "  [6.13482323e+02 1.00000000e+00]\n",
      "  [6.12769724e+02 2.00000000e+00]\n",
      "  ...\n",
      "  [1.34854736e+03 2.00000000e+00]\n",
      "  [1.34897441e+03 1.00000000e+00]\n",
      "  [1.34940171e+03 0.00000000e+00]]]\n"
     ]
    },
    {
     "name": "stderr",
     "output_type": "stream",
     "text": [
      "\n",
      "\n",
      "t:  46%|██████████████████████████████▏                                   | 497/1085 [10:15<12:56,  1.32s/it, now=None]\u001b[A\u001b[A"
     ]
    },
    {
     "name": "stdout",
     "output_type": "stream",
     "text": [
      "1900.4032229789855 10694.681842412294\n",
      "2994.997807731433 m 11397.190389705842 m\n",
      "[[[6.08167577e+02 0.00000000e+00]\n",
      "  [6.07477239e+02 1.00000000e+00]\n",
      "  [6.06787486e+02 2.00000000e+00]\n",
      "  ...\n",
      "  [1.33849051e+03 2.00000000e+00]\n",
      "  [1.33885297e+03 1.00000000e+00]\n",
      "  [1.33921554e+03 0.00000000e+00]]]\n"
     ]
    },
    {
     "name": "stderr",
     "output_type": "stream",
     "text": [
      "\n",
      "\n",
      "t:  46%|██████████████████████████████▎                                   | 498/1085 [10:17<12:41,  1.30s/it, now=None]\u001b[A\u001b[A"
     ]
    },
    {
     "name": "stdout",
     "output_type": "stream",
     "text": [
      "1939.4904338165752 4378.101339219232\n",
      "3066.9813065576427 m 5072.998051742622 m\n",
      "[[[6.17793063e+02 0.00000000e+00]\n",
      "  [6.17092684e+02 1.00000000e+00]\n",
      "  [6.16392885e+02 2.00000000e+00]\n",
      "  ...\n",
      "  [1.34011045e+03 2.00000000e+00]\n",
      "  [1.34052196e+03 1.00000000e+00]\n",
      "  [1.34093371e+03 0.00000000e+00]]]\n"
     ]
    },
    {
     "name": "stderr",
     "output_type": "stream",
     "text": [
      "\n",
      "\n",
      "t:  46%|██████████████████████████████▎                                   | 499/1085 [10:18<12:27,  1.28s/it, now=None]\u001b[A\u001b[A"
     ]
    },
    {
     "name": "stdout",
     "output_type": "stream",
     "text": [
      "1990.1127919164016 4031.9121673889417\n",
      "3100.053162090882 m 4727.276482574778 m\n",
      "[[[6.13124623e+02 0.00000000e+00]\n",
      "  [6.12435976e+02 1.00000000e+00]\n",
      "  [6.11747893e+02 2.00000000e+00]\n",
      "  ...\n",
      "  [1.34289994e+03 2.00000000e+00]\n",
      "  [1.34331896e+03 1.00000000e+00]\n",
      "  [1.34373825e+03 0.00000000e+00]]]\n"
     ]
    },
    {
     "name": "stderr",
     "output_type": "stream",
     "text": [
      "\n",
      "\n",
      "t:  46%|██████████████████████████████▍                                   | 500/1085 [10:19<12:14,  1.25s/it, now=None]\u001b[A\u001b[A"
     ]
    },
    {
     "name": "stdout",
     "output_type": "stream",
     "text": [
      "1902.0873341539939 3106.1038149652554\n",
      "3034.709745953457 m 3789.644078867738 m\n",
      "[[[6.20058963e+02 0.00000000e+00]\n",
      "  [6.19353025e+02 1.00000000e+00]\n",
      "  [6.18647678e+02 2.00000000e+00]\n",
      "  ...\n",
      "  [1.34305831e+03 2.00000000e+00]\n",
      "  [1.34349901e+03 1.00000000e+00]\n",
      "  [1.34394005e+03 0.00000000e+00]]]\n"
     ]
    },
    {
     "name": "stderr",
     "output_type": "stream",
     "text": [
      "\n",
      "\n",
      "t:  46%|██████████████████████████████▍                                   | 501/1085 [10:20<12:07,  1.25s/it, now=None]\u001b[A\u001b[A"
     ]
    },
    {
     "name": "stdout",
     "output_type": "stream",
     "text": [
      "2028.1802685048444 2620.959154584907\n",
      "3149.6249936315635 m 3306.6135546289875 m\n",
      "[[[6.17848434e+02 0.00000000e+00]\n",
      "  [6.17158259e+02 1.00000000e+00]\n",
      "  [6.16468642e+02 2.00000000e+00]\n",
      "  ...\n",
      "  [1.34565270e+03 2.00000000e+00]\n",
      "  [1.34611555e+03 1.00000000e+00]\n",
      "  [1.34657879e+03 0.00000000e+00]]]\n"
     ]
    },
    {
     "name": "stderr",
     "output_type": "stream",
     "text": [
      "\n",
      "\n",
      "t:  46%|██████████████████████████████▌                                   | 502/1085 [10:21<12:05,  1.24s/it, now=None]\u001b[A\u001b[A"
     ]
    },
    {
     "name": "stdout",
     "output_type": "stream",
     "text": [
      "2120.1348124626743 2106.3221929576926\n",
      "3241.769797722333 m 2798.0138768383717 m\n",
      "[[[6.19328798e+02 0.00000000e+00]\n",
      "  [6.18645934e+02 1.00000000e+00]\n",
      "  [6.17963605e+02 2.00000000e+00]\n",
      "  ...\n",
      "  [1.34894068e+03 2.00000000e+00]\n",
      "  [1.34943867e+03 1.00000000e+00]\n",
      "  [1.34993715e+03 0.00000000e+00]]]\n"
     ]
    },
    {
     "name": "stderr",
     "output_type": "stream",
     "text": [
      "\n",
      "\n",
      "t:  46%|██████████████████████████████▌                                   | 503/1085 [10:23<12:14,  1.26s/it, now=None]\u001b[A\u001b[A"
     ]
    },
    {
     "name": "stdout",
     "output_type": "stream",
     "text": [
      "1758.4758669903047 1884.1077185779834\n",
      "2890.4886394906516 m 2581.562209743663 m\n",
      "[[[6.27395596e+02 0.00000000e+00]\n",
      "  [6.26675516e+02 1.00000000e+00]\n",
      "  [6.25956065e+02 2.00000000e+00]\n",
      "  ...\n",
      "  [1.35230012e+03 2.00000000e+00]\n",
      "  [1.35281985e+03 1.00000000e+00]\n",
      "  [1.35334012e+03 0.00000000e+00]]]\n"
     ]
    },
    {
     "name": "stderr",
     "output_type": "stream",
     "text": [
      "\n",
      "\n",
      "t:  46%|██████████████████████████████▋                                   | 504/1085 [10:24<12:01,  1.24s/it, now=None]\u001b[A\u001b[A"
     ]
    },
    {
     "name": "stdout",
     "output_type": "stream",
     "text": [
      "1965.5986385070212 1563.5903515159796\n",
      "3060.8823889494024 m 2297.543425397246 m\n",
      "[[[6.16533582e+02 0.00000000e+00]\n",
      "  [6.15848879e+02 1.00000000e+00]\n",
      "  [6.15164744e+02 2.00000000e+00]\n",
      "  ...\n",
      "  [1.36587083e+03 2.00000000e+00]\n",
      "  [1.36644341e+03 1.00000000e+00]\n",
      "  [1.36701665e+03 0.00000000e+00]]]\n"
     ]
    },
    {
     "name": "stderr",
     "output_type": "stream",
     "text": [
      "\n",
      "\n",
      "t:  47%|██████████████████████████████▋                                   | 505/1085 [10:25<12:49,  1.33s/it, now=None]\u001b[A\u001b[A"
     ]
    },
    {
     "name": "stdout",
     "output_type": "stream",
     "text": [
      "1844.6327297120524 1410.5811557772151\n",
      "2940.065795767778 m 2172.083737615709 m\n",
      "[[[6.18852979e+02 0.00000000e+00]\n",
      "  [6.18156934e+02 1.00000000e+00]\n",
      "  [6.17461490e+02 2.00000000e+00]\n",
      "  ...\n",
      "  [1.37176084e+03 2.00000000e+00]\n",
      "  [1.37236855e+03 1.00000000e+00]\n",
      "  [1.37297697e+03 0.00000000e+00]]]\n"
     ]
    },
    {
     "name": "stderr",
     "output_type": "stream",
     "text": [
      "\n",
      "\n",
      "t:  47%|██████████████████████████████▊                                   | 506/1085 [10:27<12:26,  1.29s/it, now=None]\u001b[A\u001b[A"
     ]
    },
    {
     "name": "stdout",
     "output_type": "stream",
     "text": [
      "1703.0121904083692 1739.4139456826877\n",
      "2783.338494835183 m 2498.48780299074 m\n",
      "[[[6.17394071e+02 0.00000000e+00]\n",
      "  [6.16689331e+02 1.00000000e+00]\n",
      "  [6.15985232e+02 2.00000000e+00]\n",
      "  ...\n",
      "  [1.36489485e+03 2.00000000e+00]\n",
      "  [1.36545684e+03 1.00000000e+00]\n",
      "  [1.36601942e+03 0.00000000e+00]]]\n"
     ]
    },
    {
     "name": "stderr",
     "output_type": "stream",
     "text": [
      "\n",
      "\n",
      "t:  47%|██████████████████████████████▊                                   | 507/1085 [10:28<12:09,  1.26s/it, now=None]\u001b[A\u001b[A"
     ]
    },
    {
     "name": "stdout",
     "output_type": "stream",
     "text": [
      "1654.055303407555 5280.435783467167\n",
      "2745.4976662520407 m 5984.7990735085905 m\n",
      "[[[6.21407820e+02 0.00000000e+00]\n",
      "  [6.20692733e+02 1.00000000e+00]\n",
      "  [6.19978305e+02 2.00000000e+00]\n",
      "  ...\n",
      "  [1.33400400e+03 2.00000000e+00]\n",
      "  [1.33440494e+03 1.00000000e+00]\n",
      "  [1.33480609e+03 0.00000000e+00]]]\n"
     ]
    },
    {
     "name": "stderr",
     "output_type": "stream",
     "text": [
      "\n",
      "\n",
      "t:  47%|██████████████████████████████▉                                   | 508/1085 [10:29<11:59,  1.25s/it, now=None]\u001b[A\u001b[A"
     ]
    },
    {
     "name": "stdout",
     "output_type": "stream",
     "text": [
      "1727.0841570073876 5282.773507161033\n",
      "2792.4745513174225 m 5965.796188950148 m\n",
      "[[[6.14642733e+02 0.00000000e+00]\n",
      "  [6.13946939e+02 1.00000000e+00]\n",
      "  [6.13251776e+02 2.00000000e+00]\n",
      "  ...\n",
      "  [1.33059985e+03 2.00000000e+00]\n",
      "  [1.33099132e+03 1.00000000e+00]\n",
      "  [1.33138299e+03 0.00000000e+00]]]\n"
     ]
    },
    {
     "name": "stderr",
     "output_type": "stream",
     "text": [
      "\n",
      "\n",
      "t:  47%|██████████████████████████████▉                                   | 509/1085 [10:30<11:52,  1.24s/it, now=None]\u001b[A\u001b[A"
     ]
    },
    {
     "name": "stdout",
     "output_type": "stream",
     "text": [
      "1714.1576133714136 4144.415941883776\n",
      "2762.9955694608057 m 4820.85579531786 m\n",
      "[[[6.10365292e+02 0.00000000e+00]\n",
      "  [6.09674997e+02 1.00000000e+00]\n",
      "  [6.08985334e+02 2.00000000e+00]\n",
      "  ...\n",
      "  [1.33267959e+03 2.00000000e+00]\n",
      "  [1.33308766e+03 1.00000000e+00]\n",
      "  [1.33349600e+03 0.00000000e+00]]]\n"
     ]
    },
    {
     "name": "stderr",
     "output_type": "stream",
     "text": [
      "\n",
      "\n",
      "t:  47%|███████████████████████████████                                   | 510/1085 [10:32<11:44,  1.23s/it, now=None]\u001b[A\u001b[A"
     ]
    },
    {
     "name": "stdout",
     "output_type": "stream",
     "text": [
      "1565.7767319918855 3466.5960743931428\n",
      "2594.3391004679224 m 4163.879925070003 m\n",
      "[[[6.06544138e+02 0.00000000e+00]\n",
      "  [6.05844276e+02 1.00000000e+00]\n",
      "  [6.05145096e+02 2.00000000e+00]\n",
      "  ...\n",
      "  [1.34174686e+03 2.00000000e+00]\n",
      "  [1.34218161e+03 1.00000000e+00]\n",
      "  [1.34261666e+03 0.00000000e+00]]]\n"
     ]
    },
    {
     "name": "stderr",
     "output_type": "stream",
     "text": [
      "\n",
      "\n",
      "t:  47%|███████████████████████████████                                   | 511/1085 [10:33<11:38,  1.22s/it, now=None]\u001b[A\u001b[A"
     ]
    },
    {
     "name": "stdout",
     "output_type": "stream",
     "text": [
      "1485.482329162194 3417.040171827238\n",
      "2523.574618037829 m 4089.5185199915727 m\n",
      "[[[6.10333413e+02 0.00000000e+00]\n",
      "  [6.09618395e+02 1.00000000e+00]\n",
      "  [6.08904092e+02 2.00000000e+00]\n",
      "  ...\n",
      "  [1.33650506e+03 2.00000000e+00]\n",
      "  [1.33693021e+03 1.00000000e+00]\n",
      "  [1.33735566e+03 0.00000000e+00]]]\n"
     ]
    },
    {
     "name": "stderr",
     "output_type": "stream",
     "text": [
      "\n",
      "\n",
      "t:  47%|███████████████████████████████▏                                  | 512/1085 [10:34<11:34,  1.21s/it, now=None]\u001b[A\u001b[A"
     ]
    },
    {
     "name": "stdout",
     "output_type": "stream",
     "text": [
      "1402.7152301208216 2089.3486711370715\n",
      "2473.561706288798 m 2769.8610650371184 m\n",
      "[[[6.20822638e+02 0.00000000e+00]\n",
      "  [6.20081242e+02 1.00000000e+00]\n",
      "  [6.19340601e+02 2.00000000e+00]\n",
      "  ...\n",
      "  [1.34355647e+03 2.00000000e+00]\n",
      "  [1.34405077e+03 1.00000000e+00]\n",
      "  [1.34454557e+03 0.00000000e+00]]]\n"
     ]
    },
    {
     "name": "stderr",
     "output_type": "stream",
     "text": [
      "\n",
      "\n",
      "t:  47%|███████████████████████████████▏                                  | 513/1085 [10:35<11:32,  1.21s/it, now=None]\u001b[A\u001b[A"
     ]
    },
    {
     "name": "stdout",
     "output_type": "stream",
     "text": [
      "1384.0258535855369 2006.172565227174\n",
      "2456.6243137199604 m 2679.1382302736283 m\n",
      "[[[6.20950410e+02 0.00000000e+00]\n",
      "  [6.20205232e+02 1.00000000e+00]\n",
      "  [6.19460818e+02 2.00000000e+00]\n",
      "  ...\n",
      "  [1.34244136e+03 2.00000000e+00]\n",
      "  [1.34293909e+03 1.00000000e+00]\n",
      "  [1.34343733e+03 0.00000000e+00]]]\n"
     ]
    },
    {
     "name": "stderr",
     "output_type": "stream",
     "text": [
      "\n",
      "\n",
      "t:  47%|███████████████████████████████▎                                  | 514/1085 [10:36<11:38,  1.22s/it, now=None]\u001b[A\u001b[A"
     ]
    },
    {
     "name": "stdout",
     "output_type": "stream",
     "text": [
      "1294.1058414746228 2279.6200765558706\n",
      "2333.855092903797 m 2937.3565578750627 m\n",
      "[[[6.14585927e+02 0.00000000e+00]\n",
      "  [6.13838575e+02 1.00000000e+00]\n",
      "  [6.13092028e+02 2.00000000e+00]\n",
      "  ...\n",
      "  [1.33828750e+03 2.00000000e+00]\n",
      "  [1.33875774e+03 1.00000000e+00]\n",
      "  [1.33922842e+03 0.00000000e+00]]]\n"
     ]
    },
    {
     "name": "stderr",
     "output_type": "stream",
     "text": [
      "\n",
      "\n",
      "t:  47%|███████████████████████████████▎                                  | 515/1085 [10:38<11:38,  1.22s/it, now=None]\u001b[A\u001b[A"
     ]
    },
    {
     "name": "stdout",
     "output_type": "stream",
     "text": [
      "1243.1574601570123 2126.282365532456\n",
      "2222.439535813312 m 2827.2292186198833 m\n",
      "[[[5.98495760e+02 0.00000000e+00]\n",
      "  [5.97763637e+02 1.00000000e+00]\n",
      "  [5.97032340e+02 2.00000000e+00]\n",
      "  ...\n",
      "  [1.35335089e+03 2.00000000e+00]\n",
      "  [1.35385150e+03 1.00000000e+00]\n",
      "  [1.35435259e+03 0.00000000e+00]]]\n"
     ]
    },
    {
     "name": "stderr",
     "output_type": "stream",
     "text": [
      "\n",
      "\n",
      "t:  48%|███████████████████████████████▍                                  | 516/1085 [10:39<11:34,  1.22s/it, now=None]\u001b[A\u001b[A"
     ]
    },
    {
     "name": "stdout",
     "output_type": "stream",
     "text": [
      "1150.2564673818374 2636.1411614222516\n",
      "2161.9392929544606 m 3316.073994481982 m\n",
      "[[[6.08581449e+02 0.00000000e+00]\n",
      "  [6.07815413e+02 1.00000000e+00]\n",
      "  [6.07050267e+02 2.00000000e+00]\n",
      "  ...\n",
      "  [1.34168956e+03 2.00000000e+00]\n",
      "  [1.34214906e+03 1.00000000e+00]\n",
      "  [1.34260895e+03 0.00000000e+00]]]\n"
     ]
    },
    {
     "name": "stderr",
     "output_type": "stream",
     "text": [
      "\n",
      "\n",
      "t:  48%|███████████████████████████████▍                                  | 517/1085 [10:40<11:30,  1.22s/it, now=None]\u001b[A\u001b[A"
     ]
    },
    {
     "name": "stdout",
     "output_type": "stream",
     "text": [
      "1154.0410951081285 1969.8305762428556\n",
      "2171.983764282809 m 2703.6512639070033 m\n",
      "[[[6.09121310e+02 0.00000000e+00]\n",
      "  [6.08353586e+02 1.00000000e+00]\n",
      "  [6.07586750e+02 2.00000000e+00]\n",
      "  ...\n",
      "  [1.35694121e+03 2.00000000e+00]\n",
      "  [1.35746928e+03 1.00000000e+00]\n",
      "  [1.35799787e+03 0.00000000e+00]]]\n"
     ]
    },
    {
     "name": "stderr",
     "output_type": "stream",
     "text": [
      "\n",
      "\n",
      "t:  48%|███████████████████████████████▌                                  | 518/1085 [10:41<11:26,  1.21s/it, now=None]\u001b[A\u001b[A"
     ]
    },
    {
     "name": "stdout",
     "output_type": "stream",
     "text": [
      "1160.7809029250277 3268.3309162467376\n",
      "2216.248968913862 m 4017.245971815273 m\n",
      "[[[6.18280318e+02 0.00000000e+00]\n",
      "  [6.17498718e+02 1.00000000e+00]\n",
      "  [6.16718005e+02 2.00000000e+00]\n",
      "  ...\n",
      "  [1.34481732e+03 2.00000000e+00]\n",
      "  [1.34528140e+03 1.00000000e+00]\n",
      "  [1.34574582e+03 0.00000000e+00]]]\n"
     ]
    },
    {
     "name": "stderr",
     "output_type": "stream",
     "text": [
      "\n",
      "\n",
      "t:  48%|███████████████████████████████▌                                  | 519/1085 [10:42<11:26,  1.21s/it, now=None]\u001b[A\u001b[A"
     ]
    },
    {
     "name": "stdout",
     "output_type": "stream",
     "text": [
      "1123.7354455664363 3603.4771151283676\n",
      "2183.636552786811 m 4315.171138459282 m\n",
      "[[[6.20068621e+02 0.00000000e+00]\n",
      "  [6.19276390e+02 1.00000000e+00]\n",
      "  [6.18485074e+02 2.00000000e+00]\n",
      "  ...\n",
      "  [1.33662857e+03 2.00000000e+00]\n",
      "  [1.33706574e+03 1.00000000e+00]\n",
      "  [1.33750321e+03 0.00000000e+00]]]\n"
     ]
    },
    {
     "name": "stderr",
     "output_type": "stream",
     "text": [
      "\n",
      "\n",
      "t:  48%|███████████████████████████████▋                                  | 520/1085 [10:44<11:24,  1.21s/it, now=None]\u001b[A\u001b[A"
     ]
    },
    {
     "name": "stdout",
     "output_type": "stream",
     "text": [
      "1104.3945512899231 5060.502205726492\n",
      "2172.576480669884 m 5760.5088844099355 m\n",
      "[[[6.20854638e+02 0.00000000e+00]\n",
      "  [6.20054202e+02 1.00000000e+00]\n",
      "  [6.19254696e+02 2.00000000e+00]\n",
      "  ...\n",
      "  [1.33131015e+03 2.00000000e+00]\n",
      "  [1.33171230e+03 1.00000000e+00]\n",
      "  [1.33211468e+03 0.00000000e+00]]]\n"
     ]
    },
    {
     "name": "stderr",
     "output_type": "stream",
     "text": [
      "\n",
      "\n",
      "t:  48%|███████████████████████████████▋                                  | 521/1085 [10:45<11:24,  1.21s/it, now=None]\u001b[A\u001b[A"
     ]
    },
    {
     "name": "stdout",
     "output_type": "stream",
     "text": [
      "1110.993082874652 3104.2635125006987\n",
      "2189.8633829975342 m 3790.675208212066 m\n",
      "[[[6.22497189e+02 0.00000000e+00]\n",
      "  [6.21694058e+02 1.00000000e+00]\n",
      "  [6.20891853e+02 2.00000000e+00]\n",
      "  ...\n",
      "  [1.33478039e+03 2.00000000e+00]\n",
      "  [1.33522245e+03 1.00000000e+00]\n",
      "  [1.33566484e+03 0.00000000e+00]]]\n"
     ]
    },
    {
     "name": "stderr",
     "output_type": "stream",
     "text": [
      "\n",
      "\n",
      "t:  48%|███████████████████████████████▊                                  | 522/1085 [10:46<11:51,  1.26s/it, now=None]\u001b[A\u001b[A"
     ]
    },
    {
     "name": "stdout",
     "output_type": "stream",
     "text": [
      "1100.1522228299355 2317.8814735843703\n",
      "2182.611072399505 m 3010.1430582495277 m\n",
      "[[[6.21487850e+02 0.00000000e+00]\n",
      "  [6.20680523e+02 1.00000000e+00]\n",
      "  [6.19874130e+02 2.00000000e+00]\n",
      "  ...\n",
      "  [1.34286586e+03 2.00000000e+00]\n",
      "  [1.34334913e+03 1.00000000e+00]\n",
      "  [1.34383285e+03 0.00000000e+00]]]\n"
     ]
    },
    {
     "name": "stderr",
     "output_type": "stream",
     "text": [
      "\n",
      "\n",
      "t:  48%|███████████████████████████████▊                                  | 523/1085 [10:48<12:00,  1.28s/it, now=None]\u001b[A\u001b[A"
     ]
    },
    {
     "name": "stdout",
     "output_type": "stream",
     "text": [
      "1132.7499036431734 2520.424839319799\n",
      "2253.619502856669 m 3201.211645271262 m\n",
      "[[[6.29832386e+02 0.00000000e+00]\n",
      "  [6.29017475e+02 1.00000000e+00]\n",
      "  [6.28203481e+02 2.00000000e+00]\n",
      "  ...\n",
      "  [1.33637777e+03 2.00000000e+00]\n",
      "  [1.33684377e+03 1.00000000e+00]\n",
      "  [1.33731019e+03 0.00000000e+00]]]\n"
     ]
    },
    {
     "name": "stderr",
     "output_type": "stream",
     "text": [
      "\n",
      "\n",
      "t:  48%|███████████████████████████████▊                                  | 524/1085 [10:49<11:53,  1.27s/it, now=None]\u001b[A\u001b[A"
     ]
    },
    {
     "name": "stdout",
     "output_type": "stream",
     "text": [
      "1096.4417313799568 1757.7104225191142\n",
      "2268.9283649265017 m 2450.4003201118685 m\n",
      "[[[6.42342603e+02 0.00000000e+00]\n",
      "  [6.41497909e+02 1.00000000e+00]\n",
      "  [6.40654163e+02 2.00000000e+00]\n",
      "  ...\n",
      "  [1.34508242e+03 2.00000000e+00]\n",
      "  [1.34561299e+03 1.00000000e+00]\n",
      "  [1.34614413e+03 0.00000000e+00]]]\n"
     ]
    },
    {
     "name": "stderr",
     "output_type": "stream",
     "text": [
      "\n",
      "\n",
      "t:  48%|███████████████████████████████▉                                  | 525/1085 [10:50<12:08,  1.30s/it, now=None]\u001b[A\u001b[A"
     ]
    },
    {
     "name": "stdout",
     "output_type": "stream",
     "text": [
      "1090.7234119398615 1450.8978432799272\n",
      "2286.547828602991 m 2165.2427635890294 m\n",
      "[[[6.48212600e+02 0.00000000e+00]\n",
      "  [6.47357087e+02 1.00000000e+00]\n",
      "  [6.46502529e+02 2.00000000e+00]\n",
      "  ...\n",
      "  [1.35368149e+03 2.00000000e+00]\n",
      "  [1.35426213e+03 1.00000000e+00]\n",
      "  [1.35484345e+03 0.00000000e+00]]]\n"
     ]
    },
    {
     "name": "stderr",
     "output_type": "stream",
     "text": [
      "\n",
      "\n",
      "t:  48%|███████████████████████████████▉                                  | 526/1085 [10:51<11:51,  1.27s/it, now=None]\u001b[A\u001b[A"
     ]
    },
    {
     "name": "stdout",
     "output_type": "stream",
     "text": [
      "1056.9714665263164 1317.2025836222674\n",
      "2305.6251210382893 m 2018.1631899924055 m\n",
      "[[[6.62332734e+02 0.00000000e+00]\n",
      "  [6.61447372e+02 1.00000000e+00]\n",
      "  [6.60562999e+02 2.00000000e+00]\n",
      "  ...\n",
      "  [1.34934104e+03 2.00000000e+00]\n",
      "  [1.34993941e+03 1.00000000e+00]\n",
      "  [1.35053854e+03 0.00000000e+00]]]\n"
     ]
    },
    {
     "name": "stderr",
     "output_type": "stream",
     "text": [
      "\n",
      "\n",
      "t:  49%|████████████████████████████████                                  | 527/1085 [10:53<11:43,  1.26s/it, now=None]\u001b[A\u001b[A"
     ]
    },
    {
     "name": "stdout",
     "output_type": "stream",
     "text": [
      "1087.9900177785057 1288.4306128142155\n",
      "2349.154592936654 m 2010.7455607390098 m\n",
      "[[[6.65338255e+02 0.00000000e+00]\n",
      "  [6.64455967e+02 1.00000000e+00]\n",
      "  [6.63574647e+02 2.00000000e+00]\n",
      "  ...\n",
      "  [1.35397521e+03 2.00000000e+00]\n",
      "  [1.35458845e+03 1.00000000e+00]\n",
      "  [1.35520248e+03 0.00000000e+00]]]\n"
     ]
    },
    {
     "name": "stderr",
     "output_type": "stream",
     "text": [
      "\n",
      "\n",
      "t:  49%|████████████████████████████████                                  | 528/1085 [10:54<11:32,  1.24s/it, now=None]\u001b[A\u001b[A"
     ]
    },
    {
     "name": "stdout",
     "output_type": "stream",
     "text": [
      "1122.6922450583247 1393.5827860251084\n",
      "2349.449545705053 m 2102.3758100067807 m\n",
      "[[[6.55729271e+02 0.00000000e+00]\n",
      "  [6.54869227e+02 1.00000000e+00]\n",
      "  [6.54010121e+02 2.00000000e+00]\n",
      "  ...\n",
      "  [1.35058303e+03 2.00000000e+00]\n",
      "  [1.35117076e+03 1.00000000e+00]\n",
      "  [1.35175922e+03 0.00000000e+00]]]\n"
     ]
    },
    {
     "name": "stderr",
     "output_type": "stream",
     "text": [
      "\n",
      "\n",
      "t:  49%|████████████████████████████████▏                                 | 529/1085 [10:55<11:28,  1.24s/it, now=None]\u001b[A\u001b[A"
     ]
    },
    {
     "name": "stdout",
     "output_type": "stream",
     "text": [
      "1157.338548822222 1480.7495511185389\n",
      "2387.4890862451825 m 2211.4347811248676 m\n",
      "[[[6.54720053e+02 0.00000000e+00]\n",
      "  [6.53866696e+02 1.00000000e+00]\n",
      "  [6.53014253e+02 2.00000000e+00]\n",
      "  ...\n",
      "  [1.35279130e+03 2.00000000e+00]\n",
      "  [1.35337442e+03 1.00000000e+00]\n",
      "  [1.35395822e+03 0.00000000e+00]]]\n"
     ]
    },
    {
     "name": "stderr",
     "output_type": "stream",
     "text": [
      "\n",
      "\n",
      "t:  49%|████████████████████████████████▏                                 | 530/1085 [10:56<11:21,  1.23s/it, now=None]\u001b[A\u001b[A"
     ]
    },
    {
     "name": "stdout",
     "output_type": "stream",
     "text": [
      "1222.7016384462495 1518.3477502853946\n",
      "2455.155920283231 m 2231.9422778782096 m\n",
      "[[[6.53503044e+02 0.00000000e+00]\n",
      "  [6.52662793e+02 1.00000000e+00]\n",
      "  [6.51823415e+02 2.00000000e+00]\n",
      "  ...\n",
      "  [1.34836806e+03 2.00000000e+00]\n",
      "  [1.34893809e+03 1.00000000e+00]\n",
      "  [1.34950879e+03 0.00000000e+00]]]\n"
     ]
    },
    {
     "name": "stderr",
     "output_type": "stream",
     "text": [
      "\n",
      "\n",
      "t:  49%|████████████████████████████████▎                                 | 531/1085 [10:57<11:16,  1.22s/it, now=None]\u001b[A\u001b[A"
     ]
    },
    {
     "name": "stdout",
     "output_type": "stream",
     "text": [
      "1300.7280108192708 1839.0631325605655\n",
      "2559.8931209119373 m 2562.238750900747 m\n",
      "[[[6.58033216e+02 0.00000000e+00]\n",
      "  [6.57197266e+02 1.00000000e+00]\n",
      "  [6.56362150e+02 2.00000000e+00]\n",
      "  ...\n",
      "  [1.34344457e+03 2.00000000e+00]\n",
      "  [1.34398017e+03 1.00000000e+00]\n",
      "  [1.34451632e+03 0.00000000e+00]]]\n"
     ]
    },
    {
     "name": "stderr",
     "output_type": "stream",
     "text": [
      "\n",
      "\n",
      "t:  49%|████████████████████████████████▎                                 | 532/1085 [10:59<11:10,  1.21s/it, now=None]\u001b[A\u001b[A"
     ]
    },
    {
     "name": "stdout",
     "output_type": "stream",
     "text": [
      "1353.5641977294158 1986.6846112601859\n",
      "2589.6929515491274 m 2682.0915980961627 m\n",
      "[[[6.50962377e+02 0.00000000e+00]\n",
      "  [6.50145022e+02 1.00000000e+00]\n",
      "  [6.49328470e+02 2.00000000e+00]\n",
      "  ...\n",
      "  [1.33751153e+03 2.00000000e+00]\n",
      "  [1.33802099e+03 1.00000000e+00]\n",
      "  [1.33853097e+03 0.00000000e+00]]]\n"
     ]
    },
    {
     "name": "stderr",
     "output_type": "stream",
     "text": [
      "\n",
      "\n",
      "t:  49%|████████████████████████████████▍                                 | 533/1085 [11:00<11:28,  1.25s/it, now=None]\u001b[A\u001b[A"
     ]
    },
    {
     "name": "stdout",
     "output_type": "stream",
     "text": [
      "1393.5324782424923 1583.2655833842164\n",
      "2611.351374937913 m 2309.3989985335843 m\n",
      "[[[6.45221243e+02 0.00000000e+00]\n",
      "  [6.44417935e+02 1.00000000e+00]\n",
      "  [6.43615408e+02 2.00000000e+00]\n",
      "  ...\n",
      "  [1.35082733e+03 2.00000000e+00]\n",
      "  [1.35139382e+03 1.00000000e+00]\n",
      "  [1.35196095e+03 0.00000000e+00]]]\n"
     ]
    },
    {
     "name": "stderr",
     "output_type": "stream",
     "text": [
      "\n",
      "\n",
      "t:  49%|████████████████████████████████▍                                 | 534/1085 [11:01<11:47,  1.28s/it, now=None]\u001b[A\u001b[A"
     ]
    },
    {
     "name": "stdout",
     "output_type": "stream",
     "text": [
      "1355.1540791543464 1718.3416065223334\n",
      "2575.2307066640055 m 2424.873778623311 m\n",
      "[[[6.45721743e+02 0.00000000e+00]\n",
      "  [6.44911157e+02 1.00000000e+00]\n",
      "  [6.44101371e+02 2.00000000e+00]\n",
      "  ...\n",
      "  [1.34404716e+03 2.00000000e+00]\n",
      "  [1.34458828e+03 1.00000000e+00]\n",
      "  [1.34513000e+03 0.00000000e+00]]]\n"
     ]
    },
    {
     "name": "stderr",
     "output_type": "stream",
     "text": [
      "\n",
      "\n",
      "t:  49%|████████████████████████████████▌                                 | 535/1085 [11:03<11:33,  1.26s/it, now=None]\u001b[A\u001b[A"
     ]
    },
    {
     "name": "stdout",
     "output_type": "stream",
     "text": [
      "1427.9429268681536 1295.006223251889\n",
      "2648.571084511923 m 2019.2546600368858 m\n",
      "[[[6.45994552e+02 0.00000000e+00]\n",
      "  [6.45195550e+02 1.00000000e+00]\n",
      "  [6.44397314e+02 2.00000000e+00]\n",
      "  ...\n",
      "  [1.35281235e+03 2.00000000e+00]\n",
      "  [1.35342510e+03 1.00000000e+00]\n",
      "  [1.35403863e+03 0.00000000e+00]]]\n"
     ]
    },
    {
     "name": "stderr",
     "output_type": "stream",
     "text": [
      "\n",
      "\n",
      "t:  49%|████████████████████████████████▌                                 | 536/1085 [11:04<11:24,  1.25s/it, now=None]\u001b[A\u001b[A"
     ]
    },
    {
     "name": "stdout",
     "output_type": "stream",
     "text": [
      "1376.0815135311848 1223.0953757792474\n",
      "2632.835970630382 m 1962.193238977303 m\n",
      "[[[6.54368132e+02 0.00000000e+00]\n",
      "  [6.53546226e+02 1.00000000e+00]\n",
      "  [6.52725116e+02 2.00000000e+00]\n",
      "  ...\n",
      "  [1.35710184e+03 2.00000000e+00]\n",
      "  [1.35773617e+03 1.00000000e+00]\n",
      "  [1.35837131e+03 0.00000000e+00]]]\n"
     ]
    },
    {
     "name": "stderr",
     "output_type": "stream",
     "text": [
      "\n",
      "\n",
      "t:  49%|████████████████████████████████▋                                 | 537/1085 [11:05<11:13,  1.23s/it, now=None]\u001b[A\u001b[A"
     ]
    },
    {
     "name": "stdout",
     "output_type": "stream",
     "text": [
      "1445.898361174698 1197.0932876167774\n",
      "2674.2181899652587 m 1947.3493546755005 m\n",
      "[[[6.47680743e+02 0.00000000e+00]\n",
      "  [6.46881371e+02 1.00000000e+00]\n",
      "  [6.46082759e+02 2.00000000e+00]\n",
      "  ...\n",
      "  [1.36074240e+03 2.00000000e+00]\n",
      "  [1.36138741e+03 1.00000000e+00]\n",
      "  [1.36203325e+03 0.00000000e+00]]]\n"
     ]
    },
    {
     "name": "stderr",
     "output_type": "stream",
     "text": [
      "\n",
      "\n",
      "t:  50%|████████████████████████████████▋                                 | 538/1085 [11:06<11:06,  1.22s/it, now=None]\u001b[A\u001b[A"
     ]
    },
    {
     "name": "stdout",
     "output_type": "stream",
     "text": [
      "1327.342514278071 1145.6614276230398\n",
      "2515.7445191420443 m 1931.6882435462649 m\n",
      "[[[6.40387475e+02 0.00000000e+00]\n",
      "  [6.39584941e+02 1.00000000e+00]\n",
      "  [6.38783217e+02 2.00000000e+00]\n",
      "  ...\n",
      "  [1.37088141e+03 2.00000000e+00]\n",
      "  [1.37155394e+03 1.00000000e+00]\n",
      "  [1.37222735e+03 0.00000000e+00]]]\n"
     ]
    },
    {
     "name": "stderr",
     "output_type": "stream",
     "text": [
      "\n",
      "\n",
      "t:  50%|████████████████████████████████▊                                 | 539/1085 [11:07<11:04,  1.22s/it, now=None]\u001b[A\u001b[A"
     ]
    },
    {
     "name": "stdout",
     "output_type": "stream",
     "text": [
      "1378.715208252252 1187.7761421137204\n",
      "2549.8365707424073 m 1993.291212067245 m\n",
      "[[[6.35031145e+02 0.00000000e+00]\n",
      "  [6.34244444e+02 1.00000000e+00]\n",
      "  [6.33458525e+02 2.00000000e+00]\n",
      "  ...\n",
      "  [1.37507782e+03 2.00000000e+00]\n",
      "  [1.37574825e+03 1.00000000e+00]\n",
      "  [1.37641954e+03 0.00000000e+00]]]\n"
     ]
    },
    {
     "name": "stderr",
     "output_type": "stream",
     "text": [
      "\n",
      "\n",
      "t:  50%|████████████████████████████████▊                                 | 540/1085 [11:09<11:01,  1.21s/it, now=None]\u001b[A\u001b[A"
     ]
    },
    {
     "name": "stdout",
     "output_type": "stream",
     "text": [
      "1287.4787848199362 1177.7195249296649\n",
      "2503.9146940054216 m 1975.2928497493165 m\n",
      "[[[6.48397290e+02 0.00000000e+00]\n",
      "  [6.47576139e+02 1.00000000e+00]\n",
      "  [6.46755823e+02 2.00000000e+00]\n",
      "  ...\n",
      "  [1.37086781e+03 2.00000000e+00]\n",
      "  [1.37153729e+03 1.00000000e+00]\n",
      "  [1.37220762e+03 0.00000000e+00]]]\n"
     ]
    },
    {
     "name": "stderr",
     "output_type": "stream",
     "text": [
      "\n",
      "\n",
      "t:  50%|████████████████████████████████▉                                 | 541/1085 [11:10<11:00,  1.21s/it, now=None]\u001b[A\u001b[A"
     ]
    },
    {
     "name": "stdout",
     "output_type": "stream",
     "text": [
      "1323.3677930509064 1142.9093291500224\n",
      "2575.858755670288 m 1941.3780604128415 m\n",
      "[[[6.57487990e+02 0.00000000e+00]\n",
      "  [6.56658792e+02 1.00000000e+00]\n",
      "  [6.55830417e+02 2.00000000e+00]\n",
      "  ...\n",
      "  [1.36932721e+03 2.00000000e+00]\n",
      "  [1.37000563e+03 1.00000000e+00]\n",
      "  [1.37068493e+03 0.00000000e+00]]]\n"
     ]
    },
    {
     "name": "stderr",
     "output_type": "stream",
     "text": [
      "\n",
      "\n",
      "t:  50%|████████████████████████████████▉                                 | 542/1085 [11:11<10:57,  1.21s/it, now=None]\u001b[A\u001b[A"
     ]
    },
    {
     "name": "stdout",
     "output_type": "stream",
     "text": [
      "1327.7370001193967 1636.404938269276\n",
      "2562.1040101441727 m 2440.381488183516 m\n",
      "[[[6.54537484e+02 0.00000000e+00]\n",
      "  [6.53716370e+02 1.00000000e+00]\n",
      "  [6.52896073e+02 2.00000000e+00]\n",
      "  ...\n",
      "  [1.36071139e+03 2.00000000e+00]\n",
      "  [1.36130518e+03 1.00000000e+00]\n",
      "  [1.36189960e+03 0.00000000e+00]]]\n"
     ]
    },
    {
     "name": "stderr",
     "output_type": "stream",
     "text": [
      "\n",
      "\n",
      "t:  50%|█████████████████████████████████                                 | 543/1085 [11:12<10:53,  1.21s/it, now=None]\u001b[A\u001b[A"
     ]
    },
    {
     "name": "stdout",
     "output_type": "stream",
     "text": [
      "1398.1395483395524 1518.8340507000187\n",
      "2582.8248418539492 m 2344.530600244804 m\n",
      "[[[6.41680261e+02 0.00000000e+00]\n",
      "  [6.40891185e+02 1.00000000e+00]\n",
      "  [6.40102883e+02 2.00000000e+00]\n",
      "  ...\n",
      "  [1.37116739e+03 2.00000000e+00]\n",
      "  [1.37178626e+03 1.00000000e+00]\n",
      "  [1.37240580e+03 0.00000000e+00]]]\n"
     ]
    },
    {
     "name": "stderr",
     "output_type": "stream",
     "text": [
      "\n",
      "\n",
      "t:  50%|█████████████████████████████████                                 | 544/1085 [11:13<10:54,  1.21s/it, now=None]\u001b[A\u001b[A"
     ]
    },
    {
     "name": "stdout",
     "output_type": "stream",
     "text": [
      "1375.5188097019497 1803.0953807055753\n",
      "2540.7397012663396 m 2620.297762251664 m\n",
      "[[[6.36818702e+02 0.00000000e+00]\n",
      "  [6.36033887e+02 1.00000000e+00]\n",
      "  [6.35249853e+02 2.00000000e+00]\n",
      "  ...\n",
      "  [1.37082378e+03 2.00000000e+00]\n",
      "  [1.37140452e+03 1.00000000e+00]\n",
      "  [1.37198583e+03 0.00000000e+00]]]\n"
     ]
    },
    {
     "name": "stderr",
     "output_type": "stream",
     "text": [
      "\n",
      "\n",
      "t:  50%|█████████████████████████████████▏                                | 545/1085 [11:15<10:54,  1.21s/it, now=None]\u001b[A\u001b[A"
     ]
    },
    {
     "name": "stdout",
     "output_type": "stream",
     "text": [
      "1410.2810526676753 2076.2087749948746\n",
      "2596.821148455449 m 2891.213039922102 m\n",
      "[[[6.42139110e+02 0.00000000e+00]\n",
      "  [6.41351217e+02 1.00000000e+00]\n",
      "  [6.40564093e+02 2.00000000e+00]\n",
      "  ...\n",
      "  [1.36891539e+03 2.00000000e+00]\n",
      "  [1.36947048e+03 1.00000000e+00]\n",
      "  [1.37002608e+03 0.00000000e+00]]]\n"
     ]
    },
    {
     "name": "stderr",
     "output_type": "stream",
     "text": [
      "\n",
      "\n",
      "t:  50%|█████████████████████████████████▏                                | 546/1085 [11:16<10:51,  1.21s/it, now=None]\u001b[A\u001b[A"
     ]
    },
    {
     "name": "stdout",
     "output_type": "stream",
     "text": [
      "1334.3564563071307 2498.555690677485\n",
      "2501.6737718516233 m 3307.551079771438 m\n",
      "[[[6.39306056e+02 0.00000000e+00]\n",
      "  [6.38513361e+02 1.00000000e+00]\n",
      "  [6.37721468e+02 2.00000000e+00]\n",
      "  ...\n",
      "  [1.36698185e+03 2.00000000e+00]\n",
      "  [1.36750612e+03 1.00000000e+00]\n",
      "  [1.36803081e+03 0.00000000e+00]]]\n"
     ]
    },
    {
     "name": "stderr",
     "output_type": "stream",
     "text": [
      "\n",
      "\n",
      "t:  50%|█████████████████████████████████▎                                | 547/1085 [11:17<10:49,  1.21s/it, now=None]\u001b[A\u001b[A"
     ]
    },
    {
     "name": "stdout",
     "output_type": "stream",
     "text": [
      "1329.3230800271058 2392.8830202795116\n",
      "2496.446198877316 m 3203.80013492113 m\n",
      "[[[6.39593540e+02 0.00000000e+00]\n",
      "  [6.38800038e+02 1.00000000e+00]\n",
      "  [6.38007342e+02 2.00000000e+00]\n",
      "  ...\n",
      "  [1.37120508e+03 2.00000000e+00]\n",
      "  [1.37173637e+03 1.00000000e+00]\n",
      "  [1.37226812e+03 0.00000000e+00]]]\n"
     ]
    },
    {
     "name": "stderr",
     "output_type": "stream",
     "text": [
      "\n",
      "\n",
      "t:  51%|█████████████████████████████████▎                                | 548/1085 [11:18<10:51,  1.21s/it, now=None]\u001b[A\u001b[A"
     ]
    },
    {
     "name": "stdout",
     "output_type": "stream",
     "text": [
      "1415.3562045535261 3214.961319230459\n",
      "2567.184198731808 m 4018.8360166192015 m\n",
      "[[[6.35266254e+02 0.00000000e+00]\n",
      "  [6.34493380e+02 1.00000000e+00]\n",
      "  [6.33721268e+02 2.00000000e+00]\n",
      "  ...\n",
      "  [1.36775216e+03 2.00000000e+00]\n",
      "  [1.36824228e+03 1.00000000e+00]\n",
      "  [1.36873275e+03 0.00000000e+00]]]\n"
     ]
    },
    {
     "name": "stderr",
     "output_type": "stream",
     "text": [
      "\n",
      "\n",
      "t:  51%|█████████████████████████████████▍                                | 549/1085 [11:20<11:08,  1.25s/it, now=None]\u001b[A\u001b[A"
     ]
    },
    {
     "name": "stdout",
     "output_type": "stream",
     "text": [
      "1519.4805939103633 2353.0617198134278\n",
      "2665.9095417273015 m 3177.170087672827 m\n",
      "[[[6.33408748e+02 0.00000000e+00]\n",
      "  [6.32653520e+02 1.00000000e+00]\n",
      "  [6.31899009e+02 2.00000000e+00]\n",
      "  ...\n",
      "  [1.38064075e+03 2.00000000e+00]\n",
      "  [1.38118030e+03 1.00000000e+00]\n",
      "  [1.38172031e+03 0.00000000e+00]]]\n"
     ]
    },
    {
     "name": "stderr",
     "output_type": "stream",
     "text": [
      "\n",
      "\n",
      "t:  51%|█████████████████████████████████▍                                | 550/1085 [11:21<11:03,  1.24s/it, now=None]\u001b[A\u001b[A"
     ]
    },
    {
     "name": "stdout",
     "output_type": "stream",
     "text": [
      "1419.7199626015322 2331.762323660427\n",
      "2580.8483797866497 m 3147.3192221261706 m\n",
      "[[[6.38333622e+02 0.00000000e+00]\n",
      "  [6.37557617e+02 1.00000000e+00]\n",
      "  [6.36782373e+02 2.00000000e+00]\n",
      "  ...\n",
      "  [1.38015154e+03 2.00000000e+00]\n",
      "  [1.38068869e+03 1.00000000e+00]\n",
      "  [1.38122630e+03 0.00000000e+00]]]\n"
     ]
    },
    {
     "name": "stderr",
     "output_type": "stream",
     "text": [
      "\n",
      "\n",
      "t:  51%|█████████████████████████████████▌                                | 551/1085 [11:22<10:59,  1.24s/it, now=None]\u001b[A\u001b[A"
     ]
    },
    {
     "name": "stdout",
     "output_type": "stream",
     "text": [
      "1358.9203922616857 2581.7397191173945\n",
      "2486.7454005246823 m 3411.742188804224 m\n",
      "[[[6.31559678e+02 0.00000000e+00]\n",
      "  [6.30787431e+02 1.00000000e+00]\n",
      "  [6.30015968e+02 2.00000000e+00]\n",
      "  ...\n",
      "  [1.38701057e+03 2.00000000e+00]\n",
      "  [1.38753951e+03 1.00000000e+00]\n",
      "  [1.38806886e+03 0.00000000e+00]]]\n"
     ]
    },
    {
     "name": "stderr",
     "output_type": "stream",
     "text": [
      "\n",
      "\n",
      "t:  51%|█████████████████████████████████▌                                | 552/1085 [11:23<10:53,  1.23s/it, now=None]\u001b[A\u001b[A"
     ]
    },
    {
     "name": "stdout",
     "output_type": "stream",
     "text": [
      "1222.8937694338676 2442.0554358687878\n",
      "2395.22046034084 m 3264.3724992998546 m\n",
      "[[[6.45880842e+02 0.00000000e+00]\n",
      "  [6.45064959e+02 1.00000000e+00]\n",
      "  [6.44249941e+02 2.00000000e+00]\n",
      "  ...\n",
      "  [1.38556079e+03 2.00000000e+00]\n",
      "  [1.38609415e+03 1.00000000e+00]\n",
      "  [1.38662795e+03 0.00000000e+00]]]\n"
     ]
    },
    {
     "name": "stderr",
     "output_type": "stream",
     "text": [
      "\n",
      "\n",
      "t:  51%|█████████████████████████████████▋                                | 553/1085 [11:24<10:48,  1.22s/it, now=None]\u001b[A\u001b[A"
     ]
    },
    {
     "name": "stdout",
     "output_type": "stream",
     "text": [
      "1275.6819524422165 2722.44405949375\n",
      "2468.9055023457577 m 3521.328878849248 m\n",
      "[[[6.50440802e+02 0.00000000e+00]\n",
      "  [6.49626847e+02 1.00000000e+00]\n",
      "  [6.48813730e+02 2.00000000e+00]\n",
      "  ...\n",
      "  [1.37937173e+03 2.00000000e+00]\n",
      "  [1.37987992e+03 1.00000000e+00]\n",
      "  [1.38038851e+03 0.00000000e+00]]]\n"
     ]
    },
    {
     "name": "stderr",
     "output_type": "stream",
     "text": [
      "\n",
      "\n",
      "t:  51%|█████████████████████████████████▋                                | 554/1085 [11:26<10:43,  1.21s/it, now=None]\u001b[A\u001b[A"
     ]
    },
    {
     "name": "stdout",
     "output_type": "stream",
     "text": [
      "1215.4980181161734 7282.269560336918\n",
      "2447.70989181429 m 8088.636354464009 m\n",
      "[[[6.61594177e+02 0.00000000e+00]\n",
      "  [6.60752545e+02 1.00000000e+00]\n",
      "  [6.59911790e+02 2.00000000e+00]\n",
      "  ...\n",
      "  [1.36703864e+03 2.00000000e+00]\n",
      "  [1.36746337e+03 1.00000000e+00]\n",
      "  [1.36788826e+03 0.00000000e+00]]]\n"
     ]
    },
    {
     "name": "stderr",
     "output_type": "stream",
     "text": [
      "\n",
      "\n",
      "t:  51%|█████████████████████████████████▊                                | 555/1085 [11:27<10:44,  1.22s/it, now=None]\u001b[A\u001b[A"
     ]
    },
    {
     "name": "stdout",
     "output_type": "stream",
     "text": [
      "1255.541216374289 6832.666665104202\n",
      "2511.70232125366 m 7662.672948775653 m\n",
      "[[[6.67036391e+02 0.00000000e+00]\n",
      "  [6.66193143e+02 1.00000000e+00]\n",
      "  [6.65350754e+02 2.00000000e+00]\n",
      "  ...\n",
      "  [1.37389970e+03 2.00000000e+00]\n",
      "  [1.37433811e+03 1.00000000e+00]\n",
      "  [1.37477668e+03 0.00000000e+00]]]\n"
     ]
    },
    {
     "name": "stderr",
     "output_type": "stream",
     "text": [
      "\n",
      "\n",
      "t:  51%|█████████████████████████████████▊                                | 556/1085 [11:28<10:42,  1.21s/it, now=None]\u001b[A\u001b[A"
     ]
    },
    {
     "name": "stdout",
     "output_type": "stream",
     "text": [
      "1242.0506768362245 3869.266523030131\n",
      "2491.6068727204397 m 4707.132714583954 m\n",
      "[[[6.67865538e+02 0.00000000e+00]\n",
      "  [6.67022297e+02 1.00000000e+00]\n",
      "  [6.66179922e+02 2.00000000e+00]\n",
      "  ...\n",
      "  [1.38494300e+03 2.00000000e+00]\n",
      "  [1.38542841e+03 1.00000000e+00]\n",
      "  [1.38591412e+03 0.00000000e+00]]]\n"
     ]
    },
    {
     "name": "stderr",
     "output_type": "stream",
     "text": [
      "\n",
      "\n",
      "t:  51%|█████████████████████████████████▉                                | 557/1085 [11:29<10:45,  1.22s/it, now=None]\u001b[A\u001b[A"
     ]
    },
    {
     "name": "stdout",
     "output_type": "stream",
     "text": [
      "1365.7158705535523 1545.5838491729187\n",
      "2642.4092065172176 m 2499.215878136468 m\n",
      "[[[6.74125496e+02 0.00000000e+00]\n",
      "  [6.73293849e+02 1.00000000e+00]\n",
      "  [6.72463006e+02 2.00000000e+00]\n",
      "  ...\n",
      "  [1.42640445e+03 2.00000000e+00]\n",
      "  [1.42707461e+03 1.00000000e+00]\n",
      "  [1.42774544e+03 0.00000000e+00]]]\n"
     ]
    },
    {
     "name": "stderr",
     "output_type": "stream",
     "text": [
      "\n",
      "\n",
      "t:  51%|█████████████████████████████████▉                                | 558/1085 [11:31<11:00,  1.25s/it, now=None]\u001b[A\u001b[A"
     ]
    },
    {
     "name": "stdout",
     "output_type": "stream",
     "text": [
      "1309.4597410651206 2670.150589723407\n",
      "2651.338743219346 m 3544.0714368772547 m\n",
      "[[[6.91476972e+02 0.00000000e+00]\n",
      "  [6.90609575e+02 1.00000000e+00]\n",
      "  [6.89743022e+02 2.00000000e+00]\n",
      "  ...\n",
      "  [1.39601575e+03 2.00000000e+00]\n",
      "  [1.39655924e+03 1.00000000e+00]\n",
      "  [1.39710314e+03 0.00000000e+00]]]\n"
     ]
    },
    {
     "name": "stderr",
     "output_type": "stream",
     "text": [
      "\n",
      "\n",
      "t:  52%|██████████████████████████████████                                | 559/1085 [11:32<10:53,  1.24s/it, now=None]\u001b[A\u001b[A"
     ]
    },
    {
     "name": "stdout",
     "output_type": "stream",
     "text": [
      "1314.4815614047743 2610.7205466983196\n",
      "2704.929344274069 m 3431.845006461262 m\n",
      "[[[7.04744235e+02 0.00000000e+00]\n",
      "  [7.03858565e+02 1.00000000e+00]\n",
      "  [7.02973744e+02 2.00000000e+00]\n",
      "  ...\n",
      "  [1.38337748e+03 2.00000000e+00]\n",
      "  [1.38390101e+03 1.00000000e+00]\n",
      "  [1.38442495e+03 0.00000000e+00]]]\n"
     ]
    },
    {
     "name": "stderr",
     "output_type": "stream",
     "text": [
      "\n",
      "\n",
      "t:  52%|██████████████████████████████████                                | 560/1085 [11:33<10:49,  1.24s/it, now=None]\u001b[A\u001b[A"
     ]
    },
    {
     "name": "stdout",
     "output_type": "stream",
     "text": [
      "1355.2082320510094 3987.521246456794\n",
      "2754.703544866103 m 4767.040490630115 m\n",
      "[[[7.05998287e+02 0.00000000e+00]\n",
      "  [7.05116125e+02 1.00000000e+00]\n",
      "  [7.04234793e+02 2.00000000e+00]\n",
      "  ...\n",
      "  [1.36980882e+03 2.00000000e+00]\n",
      "  [1.37026602e+03 1.00000000e+00]\n",
      "  [1.37072349e+03 0.00000000e+00]]]\n"
     ]
    },
    {
     "name": "stderr",
     "output_type": "stream",
     "text": [
      "\n",
      "\n",
      "t:  52%|██████████████████████████████████▏                               | 561/1085 [11:34<11:01,  1.26s/it, now=None]\u001b[A\u001b[A"
     ]
    },
    {
     "name": "stdout",
     "output_type": "stream",
     "text": [
      "1360.399759971466 2890.94113578076\n",
      "2750.656597765796 m 3686.2858537074303 m\n",
      "[[[7.05158155e+02 0.00000000e+00]\n",
      "  [7.04280496e+02 1.00000000e+00]\n",
      "  [7.03403663e+02 2.00000000e+00]\n",
      "  ...\n",
      "  [1.37991647e+03 2.00000000e+00]\n",
      "  [1.38041546e+03 1.00000000e+00]\n",
      "  [1.38091482e+03 0.00000000e+00]]]\n"
     ]
    },
    {
     "name": "stderr",
     "output_type": "stream",
     "text": [
      "\n",
      "\n",
      "t:  52%|██████████████████████████████████▏                               | 562/1085 [11:36<11:06,  1.27s/it, now=None]\u001b[A\u001b[A"
     ]
    },
    {
     "name": "stdout",
     "output_type": "stream",
     "text": [
      "1342.6747567358193 2493.423312847757\n",
      "2729.468061472333 m 3291.8744342942605 m\n",
      "[[[7.07097025e+02 0.00000000e+00]\n",
      "  [7.06217720e+02 1.00000000e+00]\n",
      "  [7.05339250e+02 2.00000000e+00]\n",
      "  ...\n",
      "  [1.38393130e+03 2.00000000e+00]\n",
      "  [1.38445122e+03 1.00000000e+00]\n",
      "  [1.38497157e+03 0.00000000e+00]]]\n"
     ]
    },
    {
     "name": "stderr",
     "output_type": "stream",
     "text": [
      "\n",
      "\n",
      "t:  52%|██████████████████████████████████▏                               | 563/1085 [11:37<10:56,  1.26s/it, now=None]\u001b[A\u001b[A"
     ]
    },
    {
     "name": "stdout",
     "output_type": "stream",
     "text": [
      "1271.4557070947865 2610.3483458344235\n",
      "2630.8962291818043 m 3404.6018841216387 m\n",
      "[[[7.04183875e+02 0.00000000e+00]\n",
      "  [7.03302534e+02 1.00000000e+00]\n",
      "  [7.02422059e+02 2.00000000e+00]\n",
      "  ...\n",
      "  [1.38402206e+03 2.00000000e+00]\n",
      "  [1.38453380e+03 1.00000000e+00]\n",
      "  [1.38504595e+03 0.00000000e+00]]]\n"
     ]
    },
    {
     "name": "stderr",
     "output_type": "stream",
     "text": [
      "\n",
      "\n",
      "t:  52%|██████████████████████████████████▎                               | 564/1085 [11:38<10:46,  1.24s/it, now=None]\u001b[A\u001b[A"
     ]
    },
    {
     "name": "stdout",
     "output_type": "stream",
     "text": [
      "1275.9569215766485 2204.3180564157133\n",
      "2657.610731271867 m 3002.574755923247 m\n",
      "[[[7.11192750e+02 0.00000000e+00]\n",
      "  [7.10303500e+02 1.00000000e+00]\n",
      "  [7.09415118e+02 2.00000000e+00]\n",
      "  ...\n",
      "  [1.38703449e+03 2.00000000e+00]\n",
      "  [1.38757261e+03 1.00000000e+00]\n",
      "  [1.38811121e+03 0.00000000e+00]]]\n"
     ]
    },
    {
     "name": "stderr",
     "output_type": "stream",
     "text": [
      "\n",
      "\n",
      "t:  52%|██████████████████████████████████▎                               | 565/1085 [11:39<10:53,  1.26s/it, now=None]\u001b[A\u001b[A"
     ]
    },
    {
     "name": "stdout",
     "output_type": "stream",
     "text": [
      "1297.0879693579748 2575.6087141277935\n",
      "2665.448682776317 m 3371.169297381846 m\n",
      "[[[7.07598704e+02 0.00000000e+00]\n",
      "  [7.06718598e+02 1.00000000e+00]\n",
      "  [7.05839345e+02 2.00000000e+00]\n",
      "  ...\n",
      "  [1.38642994e+03 2.00000000e+00]\n",
      "  [1.38694409e+03 1.00000000e+00]\n",
      "  [1.38745865e+03 0.00000000e+00]]]\n"
     ]
    },
    {
     "name": "stderr",
     "output_type": "stream",
     "text": [
      "\n",
      "\n",
      "t:  52%|██████████████████████████████████▍                               | 566/1085 [11:41<10:47,  1.25s/it, now=None]\u001b[A\u001b[A"
     ]
    },
    {
     "name": "stdout",
     "output_type": "stream",
     "text": [
      "1391.6358173237543 1730.6374785698595\n",
      "2786.5428471137793 m 2584.2455815696635 m\n",
      "[[[7.13972885e+02 0.00000000e+00]\n",
      "  [7.13098539e+02 1.00000000e+00]\n",
      "  [7.12225005e+02 2.00000000e+00]\n",
      "  ...\n",
      "  [1.40323088e+03 2.00000000e+00]\n",
      "  [1.40383525e+03 1.00000000e+00]\n",
      "  [1.40444022e+03 0.00000000e+00]]]\n"
     ]
    },
    {
     "name": "stderr",
     "output_type": "stream",
     "text": [
      "\n",
      "\n",
      "t:  52%|██████████████████████████████████▍                               | 567/1085 [11:42<10:45,  1.25s/it, now=None]\u001b[A\u001b[A"
     ]
    },
    {
     "name": "stdout",
     "output_type": "stream",
     "text": [
      "1349.7391304621003 1484.4635332765765\n",
      "2746.9385712119024 m 2368.613770725502 m\n",
      "[[[7.16322047e+02 0.00000000e+00]\n",
      "  [7.15439859e+02 1.00000000e+00]\n",
      "  [7.14558504e+02 2.00000000e+00]\n",
      "  ...\n",
      "  [1.41417682e+03 2.00000000e+00]\n",
      "  [1.41482590e+03 1.00000000e+00]\n",
      "  [1.41547568e+03 0.00000000e+00]]]\n"
     ]
    },
    {
     "name": "stderr",
     "output_type": "stream",
     "text": [
      "\n",
      "\n",
      "t:  52%|██████████████████████████████████▌                               | 568/1085 [11:43<10:38,  1.24s/it, now=None]\u001b[A\u001b[A"
     ]
    },
    {
     "name": "stdout",
     "output_type": "stream",
     "text": [
      "1504.2362328127556 1315.3611876935713\n",
      "2911.7185688298555 m 2240.261952109555 m\n",
      "[[[7.18339454e+02 0.00000000e+00]\n",
      "  [7.17477182e+02 1.00000000e+00]\n",
      "  [7.16615675e+02 2.00000000e+00]\n",
      "  ...\n",
      "  [1.42493815e+03 2.00000000e+00]\n",
      "  [1.42563254e+03 1.00000000e+00]\n",
      "  [1.42632772e+03 0.00000000e+00]]]\n"
     ]
    },
    {
     "name": "stderr",
     "output_type": "stream",
     "text": [
      "\n",
      "\n",
      "t:  52%|██████████████████████████████████▌                               | 569/1085 [11:44<10:38,  1.24s/it, now=None]\u001b[A\u001b[A"
     ]
    },
    {
     "name": "stdout",
     "output_type": "stream",
     "text": [
      "1546.2734168121362 890.7134380909354\n",
      "2946.6232730573884 m 1921.7904295126764 m\n",
      "[[[7.18749025e+02 0.00000000e+00]\n",
      "  [7.17895358e+02 1.00000000e+00]\n",
      "  [7.17042437e+02 2.00000000e+00]\n",
      "  ...\n",
      "  [1.45904126e+03 2.00000000e+00]\n",
      "  [1.45989370e+03 1.00000000e+00]\n",
      "  [1.46074725e+03 0.00000000e+00]]]\n"
     ]
    },
    {
     "name": "stderr",
     "output_type": "stream",
     "text": [
      "\n",
      "\n",
      "t:  53%|██████████████████████████████████▋                               | 570/1085 [11:46<10:39,  1.24s/it, now=None]\u001b[A\u001b[A"
     ]
    },
    {
     "name": "stdout",
     "output_type": "stream",
     "text": [
      "1436.621300854711 993.7770379755715\n",
      "2855.116896769284 m 2006.4506090044597 m\n",
      "[[[7.24622324e+02 0.00000000e+00]\n",
      "  [7.23745797e+02 1.00000000e+00]\n",
      "  [7.22870066e+02 2.00000000e+00]\n",
      "  ...\n",
      "  [1.45078864e+03 2.00000000e+00]\n",
      "  [1.45159700e+03 1.00000000e+00]\n",
      "  [1.45240638e+03 0.00000000e+00]]]\n"
     ]
    },
    {
     "name": "stderr",
     "output_type": "stream",
     "text": [
      "\n",
      "\n",
      "t:  53%|██████████████████████████████████▋                               | 571/1085 [11:47<10:58,  1.28s/it, now=None]\u001b[A\u001b[A"
     ]
    },
    {
     "name": "stdout",
     "output_type": "stream",
     "text": [
      "1535.2759343638718 924.442671068227\n",
      "2919.9475373687987 m 1983.8468401623281 m\n",
      "[[[7.16537429e+02 0.00000000e+00]\n",
      "  [7.15688429e+02 1.00000000e+00]\n",
      "  [7.14840176e+02 2.00000000e+00]\n",
      "  ...\n",
      "  [1.46496522e+03 2.00000000e+00]\n",
      "  [1.46581576e+03 1.00000000e+00]\n",
      "  [1.46666738e+03 0.00000000e+00]]]\n"
     ]
    },
    {
     "name": "stderr",
     "output_type": "stream",
     "text": [
      "\n",
      "\n",
      "t:  53%|██████████████████████████████████▊                               | 572/1085 [11:48<10:52,  1.27s/it, now=None]\u001b[A\u001b[A"
     ]
    },
    {
     "name": "stdout",
     "output_type": "stream",
     "text": [
      "1574.3673329622056 1239.9831684853427\n",
      "2927.4554755529716 m 2216.224969865253 m\n",
      "[[[7.10005690e+02 0.00000000e+00]\n",
      "  [7.09174378e+02 1.00000000e+00]\n",
      "  [7.08343794e+02 2.00000000e+00]\n",
      "  ...\n",
      "  [1.44250587e+03 2.00000000e+00]\n",
      "  [1.44323654e+03 1.00000000e+00]\n",
      "  [1.44396805e+03 0.00000000e+00]]]\n"
     ]
    },
    {
     "name": "stderr",
     "output_type": "stream",
     "text": [
      "\n",
      "\n",
      "t:  53%|██████████████████████████████████▊                               | 573/1085 [11:49<10:44,  1.26s/it, now=None]\u001b[A\u001b[A"
     ]
    },
    {
     "name": "stdout",
     "output_type": "stream",
     "text": [
      "1669.4929850322521 1379.162688314012\n",
      "2997.5271048964105 m 2325.53054041633 m\n",
      "[[[7.05387295e+02 0.00000000e+00]\n",
      "  [7.04577746e+02 1.00000000e+00]\n",
      "  [7.03768888e+02 2.00000000e+00]\n",
      "  ...\n",
      "  [1.43680286e+03 2.00000000e+00]\n",
      "  [1.43749509e+03 1.00000000e+00]\n",
      "  [1.43818807e+03 0.00000000e+00]]]\n"
     ]
    },
    {
     "name": "stderr",
     "output_type": "stream",
     "text": [
      "\n",
      "\n",
      "t:  53%|██████████████████████████████████▉                               | 574/1085 [11:51<10:36,  1.25s/it, now=None]\u001b[A\u001b[A"
     ]
    },
    {
     "name": "stdout",
     "output_type": "stream",
     "text": [
      "1708.2202075597208 1395.9877243318845\n",
      "3011.815366370162 m 2344.190703879824 m\n",
      "[[[6.99955298e+02 0.00000000e+00]\n",
      "  [6.99159972e+02 1.00000000e+00]\n",
      "  [6.98365319e+02 2.00000000e+00]\n",
      "  ...\n",
      "  [1.44031889e+03 2.00000000e+00]\n",
      "  [1.44100910e+03 1.00000000e+00]\n",
      "  [1.44170005e+03 0.00000000e+00]]]\n"
     ]
    },
    {
     "name": "stderr",
     "output_type": "stream",
     "text": [
      "\n",
      "\n",
      "t:  53%|██████████████████████████████████▉                               | 575/1085 [11:52<10:33,  1.24s/it, now=None]\u001b[A\u001b[A"
     ]
    },
    {
     "name": "stdout",
     "output_type": "stream",
     "text": [
      "1586.260840116422 1590.441886683983\n",
      "2861.9381204421065 m 2536.558390493484 m\n",
      "[[[6.96947740e+02 0.00000000e+00]\n",
      "  [6.96148848e+02 1.00000000e+00]\n",
      "  [6.95350667e+02 2.00000000e+00]\n",
      "  ...\n",
      "  [1.44018377e+03 2.00000000e+00]\n",
      "  [1.44084478e+03 1.00000000e+00]\n",
      "  [1.44150645e+03 0.00000000e+00]]]\n"
     ]
    },
    {
     "name": "stderr",
     "output_type": "stream",
     "text": [
      "\n",
      "\n",
      "t:  53%|███████████████████████████████████                               | 576/1085 [11:53<10:27,  1.23s/it, now=None]\u001b[A\u001b[A"
     ]
    },
    {
     "name": "stdout",
     "output_type": "stream",
     "text": [
      "1564.5121927050054 1882.4918165292368\n",
      "2851.123836577189 m 2768.1579057556655 m\n",
      "[[[7.02264578e+02 0.00000000e+00]\n",
      "  [7.01458460e+02 1.00000000e+00]\n",
      "  [7.00653062e+02 2.00000000e+00]\n",
      "  ...\n",
      "  [1.42508479e+03 2.00000000e+00]\n",
      "  [1.42568751e+03 1.00000000e+00]\n",
      "  [1.42629078e+03 0.00000000e+00]]]\n"
     ]
    },
    {
     "name": "stderr",
     "output_type": "stream",
     "text": [
      "\n",
      "\n",
      "t:  53%|███████████████████████████████████                               | 577/1085 [11:54<10:21,  1.22s/it, now=None]\u001b[A\u001b[A"
     ]
    },
    {
     "name": "stdout",
     "output_type": "stream",
     "text": [
      "1618.262935463231 2039.8743851423246\n",
      "2905.3207551387163 m 2931.2332060851086 m\n",
      "[[[7.03396688e+02 0.00000000e+00]\n",
      "  [7.02597283e+02 1.00000000e+00]\n",
      "  [7.01798578e+02 2.00000000e+00]\n",
      "  ...\n",
      "  [1.42653387e+03 2.00000000e+00]\n",
      "  [1.42712519e+03 1.00000000e+00]\n",
      "  [1.42771703e+03 0.00000000e+00]]]\n"
     ]
    },
    {
     "name": "stderr",
     "output_type": "stream",
     "text": [
      "\n",
      "\n",
      "t:  53%|███████████████████████████████████▏                              | 578/1085 [11:56<10:19,  1.22s/it, now=None]\u001b[A\u001b[A"
     ]
    },
    {
     "name": "stdout",
     "output_type": "stream",
     "text": [
      "1573.7744481226591 4162.120656208131\n",
      "2842.982458582667 m 5037.44601986502 m\n",
      "[[[7.01970871e+02 0.00000000e+00]\n",
      "  [7.01172961e+02 1.00000000e+00]\n",
      "  [7.00375765e+02 2.00000000e+00]\n",
      "  ...\n",
      "  [1.41281394e+03 2.00000000e+00]\n",
      "  [1.41330851e+03 1.00000000e+00]\n",
      "  [1.41380336e+03 0.00000000e+00]]]\n"
     ]
    },
    {
     "name": "stderr",
     "output_type": "stream",
     "text": [
      "\n",
      "\n",
      "t:  53%|███████████████████████████████████▏                              | 579/1085 [11:57<10:21,  1.23s/it, now=None]\u001b[A\u001b[A"
     ]
    },
    {
     "name": "stdout",
     "output_type": "stream",
     "text": [
      "1657.9426870591758 12383.227437995512\n",
      "2939.5972382446134 m 11622.25389316385 m\n",
      "[[[7.05372134e+02 0.00000000e+00]\n",
      "  [7.04579735e+02 1.00000000e+00]\n",
      "  [7.03788021e+02 2.00000000e+00]\n",
      "  ...\n",
      "  [1.37034969e+03 2.00000000e+00]\n",
      "  [1.37066031e+03 1.00000000e+00]\n",
      "  [1.37097083e+03 0.00000000e+00]]]\n"
     ]
    },
    {
     "name": "stderr",
     "output_type": "stream",
     "text": [
      "\n",
      "\n",
      "t:  53%|███████████████████████████████████▎                              | 580/1085 [11:58<10:18,  1.23s/it, now=None]\u001b[A\u001b[A"
     ]
    },
    {
     "name": "stdout",
     "output_type": "stream",
     "text": [
      "1609.3000050762466 4448.402597320211\n",
      "2946.976996376257 m 5295.589823012999 m\n",
      "[[[7.22284617e+02 0.00000000e+00]\n",
      "  [7.21463895e+02 1.00000000e+00]\n",
      "  [7.20643886e+02 2.00000000e+00]\n",
      "  ...\n",
      "  [1.40734585e+03 2.00000000e+00]\n",
      "  [1.40782247e+03 1.00000000e+00]\n",
      "  [1.40829934e+03 0.00000000e+00]]]\n"
     ]
    },
    {
     "name": "stderr",
     "output_type": "stream",
     "text": [
      "\n",
      "\n",
      "t:  54%|███████████████████████████████████▎                              | 581/1085 [11:59<10:16,  1.22s/it, now=None]\u001b[A\u001b[A"
     ]
    },
    {
     "name": "stdout",
     "output_type": "stream",
     "text": [
      "1413.483164559544 4312.872608556744\n",
      "2789.95398832793 m 5126.115663130335 m\n",
      "[[[7.35418663e+02 0.00000000e+00]\n",
      "  [7.34555054e+02 1.00000000e+00]\n",
      "  [7.33692244e+02 2.00000000e+00]\n",
      "  ...\n",
      "  [1.40252428e+03 2.00000000e+00]\n",
      "  [1.40298899e+03 1.00000000e+00]\n",
      "  [1.40345397e+03 0.00000000e+00]]]\n"
     ]
    },
    {
     "name": "stderr",
     "output_type": "stream",
     "text": [
      "\n",
      "\n",
      "t:  54%|███████████████████████████████████▍                              | 582/1085 [12:00<10:14,  1.22s/it, now=None]\u001b[A\u001b[A"
     ]
    },
    {
     "name": "stdout",
     "output_type": "stream",
     "text": [
      "1528.3609847320995 4889.398968660738\n",
      "2853.329482640358 m 5729.201059380258 m\n",
      "[[[7.23733695e+02 0.00000000e+00]\n",
      "  [7.22907379e+02 1.00000000e+00]\n",
      "  [7.22081805e+02 2.00000000e+00]\n",
      "  ...\n",
      "  [1.41196363e+03 2.00000000e+00]\n",
      "  [1.41242925e+03 1.00000000e+00]\n",
      "  [1.41289509e+03 0.00000000e+00]]]\n"
     ]
    },
    {
     "name": "stderr",
     "output_type": "stream",
     "text": [
      "\n",
      "\n",
      "t:  54%|███████████████████████████████████▍                              | 583/1085 [12:02<10:11,  1.22s/it, now=None]\u001b[A\u001b[A"
     ]
    },
    {
     "name": "stdout",
     "output_type": "stream",
     "text": [
      "1456.5168674896279 27737.96082904321\n",
      "2757.882948188481 m 28521.953328203705 m\n",
      "[[[7.20376202e+02 0.00000000e+00]\n",
      "  [7.19549012e+02 1.00000000e+00]\n",
      "  [7.18722589e+02 2.00000000e+00]\n",
      "  ...\n",
      "  [1.39409586e+03 2.00000000e+00]\n",
      "  [1.39446888e+03 1.00000000e+00]\n",
      "  [1.39484195e+03 0.00000000e+00]]]\n"
     ]
    },
    {
     "name": "stderr",
     "output_type": "stream",
     "text": [
      "\n",
      "\n",
      "t:  54%|███████████████████████████████████▌                              | 584/1085 [12:03<10:23,  1.24s/it, now=None]\u001b[A\u001b[A"
     ]
    },
    {
     "name": "stdout",
     "output_type": "stream",
     "text": [
      "1415.3709943922872 5580.781141792347\n",
      "2694.6307508509435 m 6415.901335225934 m\n",
      "[[[7.16320983e+02 0.00000000e+00]\n",
      "  [7.15496351e+02 1.00000000e+00]\n",
      "  [7.14672500e+02 2.00000000e+00]\n",
      "  ...\n",
      "  [1.41568870e+03 2.00000000e+00]\n",
      "  [1.41614238e+03 1.00000000e+00]\n",
      "  [1.41659628e+03 0.00000000e+00]]]\n"
     ]
    },
    {
     "name": "stderr",
     "output_type": "stream",
     "text": [
      "\n",
      "\n",
      "t:  54%|███████████████████████████████████▌                              | 585/1085 [12:04<10:17,  1.24s/it, now=None]\u001b[A\u001b[A"
     ]
    },
    {
     "name": "stdout",
     "output_type": "stream",
     "text": [
      "1386.9108474694929 2929.6498052323473\n",
      "2641.5829157561757 m 3835.8030465997044 m\n",
      "[[[7.12845782e+02 0.00000000e+00]\n",
      "  [7.12026492e+02 1.00000000e+00]\n",
      "  [7.11207991e+02 2.00000000e+00]\n",
      "  ...\n",
      "  [1.44086560e+03 2.00000000e+00]\n",
      "  [1.44141104e+03 1.00000000e+00]\n",
      "  [1.44195686e+03 0.00000000e+00]]]\n"
     ]
    },
    {
     "name": "stderr",
     "output_type": "stream",
     "text": [
      "\n",
      "\n",
      "t:  54%|███████████████████████████████████▋                              | 586/1085 [12:05<10:15,  1.23s/it, now=None]\u001b[A\u001b[A"
     ]
    },
    {
     "name": "stdout",
     "output_type": "stream",
     "text": [
      "1317.5380150143428 2503.0002938967723\n",
      "2579.202310793735 m 3438.648643327209 m\n",
      "[[[7.16251224e+02 0.00000000e+00]\n",
      "  [7.15417300e+02 1.00000000e+00]\n",
      "  [7.14584201e+02 2.00000000e+00]\n",
      "  ...\n",
      "  [1.45213758e+03 2.00000000e+00]\n",
      "  [1.45271651e+03 1.00000000e+00]\n",
      "  [1.45329589e+03 0.00000000e+00]]]\n"
     ]
    },
    {
     "name": "stderr",
     "output_type": "stream",
     "text": [
      "\n",
      "\n",
      "t:  54%|███████████████████████████████████▋                              | 587/1085 [12:07<10:12,  1.23s/it, now=None]\u001b[A\u001b[A"
     ]
    },
    {
     "name": "stdout",
     "output_type": "stream",
     "text": [
      "1203.7689972336243 1630.0204989448926\n",
      "2456.1764532620514 m 2612.673855189686 m\n",
      "[[[7.17354418e+02 0.00000000e+00]\n",
      "  [7.16502230e+02 1.00000000e+00]\n",
      "  [7.15650931e+02 2.00000000e+00]\n",
      "  ...\n",
      "  [1.47293078e+03 2.00000000e+00]\n",
      "  [1.47360236e+03 1.00000000e+00]\n",
      "  [1.47427460e+03 0.00000000e+00]]]\n"
     ]
    },
    {
     "name": "stderr",
     "output_type": "stream",
     "text": [
      "\n",
      "\n",
      "t:  54%|███████████████████████████████████▊                              | 588/1085 [12:08<10:14,  1.24s/it, now=None]\u001b[A\u001b[A"
     ]
    },
    {
     "name": "stdout",
     "output_type": "stream",
     "text": [
      "1195.0886152474218 1540.1669360236713\n",
      "2393.413620095036 m 2623.9760657059555 m\n",
      "[[[7.04703110e+02 0.00000000e+00]\n",
      "  [7.03870863e+02 1.00000000e+00]\n",
      "  [7.03039501e+02 2.00000000e+00]\n",
      "  ...\n",
      "  [1.49634599e+03 2.00000000e+00]\n",
      "  [1.49707173e+03 1.00000000e+00]\n",
      "  [1.49779816e+03 0.00000000e+00]]]\n"
     ]
    },
    {
     "name": "stderr",
     "output_type": "stream",
     "text": [
      "\n",
      "\n",
      "t:  54%|███████████████████████████████████▊                              | 589/1085 [12:09<11:03,  1.34s/it, now=None]\u001b[A\u001b[A"
     ]
    },
    {
     "name": "stdout",
     "output_type": "stream",
     "text": [
      "1210.0121540455425 2632.1557547544467\n",
      "2401.7333047975244 m 3551.4222163065747 m\n",
      "[[[7.02835366e+02 0.00000000e+00]\n",
      "  [7.02008944e+02 1.00000000e+00]\n",
      "  [7.01183398e+02 2.00000000e+00]\n",
      "  ...\n",
      "  [1.45312692e+03 2.00000000e+00]\n",
      "  [1.45369188e+03 1.00000000e+00]\n",
      "  [1.45425725e+03 0.00000000e+00]]]\n"
     ]
    },
    {
     "name": "stderr",
     "output_type": "stream",
     "text": [
      "\n",
      "\n",
      "t:  54%|███████████████████████████████████▉                              | 590/1085 [12:11<12:09,  1.47s/it, now=None]\u001b[A\u001b[A"
     ]
    },
    {
     "name": "stdout",
     "output_type": "stream",
     "text": [
      "1150.6858507710463 3500.8332154499467\n",
      "2341.405186938731 m 4394.168012319686 m\n",
      "[[[7.02567225e+02 0.00000000e+00]\n",
      "  [7.01728221e+02 1.00000000e+00]\n",
      "  [7.00890130e+02 2.00000000e+00]\n",
      "  ...\n",
      "  [1.44467320e+03 2.00000000e+00]\n",
      "  [1.44519263e+03 1.00000000e+00]\n",
      "  [1.44571239e+03 0.00000000e+00]]]\n"
     ]
    },
    {
     "name": "stderr",
     "output_type": "stream",
     "text": [
      "\n",
      "\n",
      "t:  54%|███████████████████████████████████▉                              | 591/1085 [12:13<13:05,  1.59s/it, now=None]\u001b[A\u001b[A"
     ]
    },
    {
     "name": "stdout",
     "output_type": "stream",
     "text": [
      "1144.955787852504 2433.9785568379957\n",
      "2335.739263201104 m 3342.47490412146 m\n",
      "[[[7.01954510e+02 0.00000000e+00]\n",
      "  [7.01114160e+02 1.00000000e+00]\n",
      "  [7.00274726e+02 2.00000000e+00]\n",
      "  ...\n",
      "  [1.45462795e+03 2.00000000e+00]\n",
      "  [1.45519923e+03 1.00000000e+00]\n",
      "  [1.45577095e+03 0.00000000e+00]]]\n"
     ]
    },
    {
     "name": "stderr",
     "output_type": "stream",
     "text": [
      "\n",
      "\n",
      "t:  55%|████████████████████████████████████                              | 592/1085 [12:15<13:22,  1.63s/it, now=None]\u001b[A\u001b[A"
     ]
    },
    {
     "name": "stdout",
     "output_type": "stream",
     "text": [
      "1116.5315718619167 4720.489607969433\n",
      "2335.149317376841 m 4086.0446789786515 m\n",
      "[[[7.09577580e+02 0.00000000e+00]\n",
      "  [7.08719317e+02 1.00000000e+00]\n",
      "  [7.07861994e+02 2.00000000e+00]\n",
      "  ...\n",
      "  [1.35422501e+03 2.00000000e+00]\n",
      "  [1.35442143e+03 1.00000000e+00]\n",
      "  [1.35461759e+03 0.00000000e+00]]]\n"
     ]
    },
    {
     "name": "stderr",
     "output_type": "stream",
     "text": [
      "\n",
      "\n",
      "t:  55%|████████████████████████████████████                              | 593/1085 [12:17<13:39,  1.67s/it, now=None]\u001b[A\u001b[A"
     ]
    },
    {
     "name": "stdout",
     "output_type": "stream",
     "text": [
      "1157.610606608594 3674.6175725283742\n",
      "2350.755880785299 m 3083.5239121904456 m\n",
      "[[[7.02665885e+02 0.00000000e+00]\n",
      "  [7.01827482e+02 1.00000000e+00]\n",
      "  [7.00989987e+02 2.00000000e+00]\n",
      "  ...\n",
      "  [1.34081425e+03 2.00000000e+00]\n",
      "  [1.34096283e+03 1.00000000e+00]\n",
      "  [1.34111107e+03 0.00000000e+00]]]\n"
     ]
    },
    {
     "name": "stderr",
     "output_type": "stream",
     "text": [
      "\n",
      "\n",
      "t:  55%|████████████████████████████████████▏                             | 594/1085 [12:18<14:13,  1.74s/it, now=None]\u001b[A\u001b[A"
     ]
    },
    {
     "name": "stdout",
     "output_type": "stream",
     "text": [
      "1235.851169872222 2953.3296212644\n",
      "2447.4411774453706 m 2389.208559474248 m\n",
      "[[[7.06115544e+02 0.00000000e+00]\n",
      "  [7.05286374e+02 1.00000000e+00]\n",
      "  [7.04458066e+02 2.00000000e+00]\n",
      "  ...\n",
      "  [1.32866315e+03 2.00000000e+00]\n",
      "  [1.32876542e+03 1.00000000e+00]\n",
      "  [1.32886726e+03 0.00000000e+00]]]\n"
     ]
    },
    {
     "name": "stderr",
     "output_type": "stream",
     "text": [
      "\n",
      "\n",
      "t:  55%|████████████████████████████████████▏                             | 595/1085 [12:20<14:13,  1.74s/it, now=None]\u001b[A\u001b[A"
     ]
    },
    {
     "name": "stdout",
     "output_type": "stream",
     "text": [
      "1094.7750801773946 2433.803447217602\n",
      "2360.367398929996 m 1913.3286066720223 m\n",
      "[[[7.22060937e+02 0.00000000e+00]\n",
      "  [7.21178590e+02 1.00000000e+00]\n",
      "  [7.20297206e+02 2.00000000e+00]\n",
      "  ...\n",
      "  [1.31153978e+03 2.00000000e+00]\n",
      "  [1.31158492e+03 1.00000000e+00]\n",
      "  [1.31162953e+03 0.00000000e+00]]]\n"
     ]
    },
    {
     "name": "stderr",
     "output_type": "stream",
     "text": [
      "\n",
      "\n",
      "t:  55%|████████████████████████████████████▎                             | 596/1085 [12:22<14:04,  1.73s/it, now=None]\u001b[A\u001b[A"
     ]
    },
    {
     "name": "stdout",
     "output_type": "stream",
     "text": [
      "1142.0595727360837 4990.534752684884\n",
      "2418.5576123409487 m 4408.763653214612 m\n",
      "[[[7.24490917e+02 0.00000000e+00]\n",
      "  [7.23615549e+02 1.00000000e+00]\n",
      "  [7.22741113e+02 2.00000000e+00]\n",
      "  ...\n",
      "  [1.34332356e+03 2.00000000e+00]\n",
      "  [1.34350523e+03 1.00000000e+00]\n",
      "  [1.34368667e+03 0.00000000e+00]]]\n"
     ]
    },
    {
     "name": "stderr",
     "output_type": "stream",
     "text": [
      "\n",
      "\n",
      "t:  55%|████████████████████████████████████▎                             | 597/1085 [12:23<13:10,  1.62s/it, now=None]\u001b[A\u001b[A"
     ]
    },
    {
     "name": "stdout",
     "output_type": "stream",
     "text": [
      "1169.9421070310002 18365.197099739064\n",
      "2444.1728880033916 m 17759.00756644977 m\n",
      "[[[7.23167722e+02 0.00000000e+00]\n",
      "  [7.22299535e+02 1.00000000e+00]\n",
      "  [7.21432261e+02 2.00000000e+00]\n",
      "  ...\n",
      "  [1.36195347e+03 2.00000000e+00]\n",
      "  [1.36221246e+03 1.00000000e+00]\n",
      "  [1.36247139e+03 0.00000000e+00]]]\n"
     ]
    },
    {
     "name": "stderr",
     "output_type": "stream",
     "text": [
      "\n",
      "\n",
      "t:  55%|████████████████████████████████████▍                             | 598/1085 [12:25<12:35,  1.55s/it, now=None]\u001b[A\u001b[A"
     ]
    },
    {
     "name": "stdout",
     "output_type": "stream",
     "text": [
      "1219.6718902652492 49063.75613504096\n",
      "2439.598098560617 m 49701.3642150537 m\n",
      "[[[7.08690135e+02 0.00000000e+00]\n",
      "  [7.07854313e+02 1.00000000e+00]\n",
      "  [7.07019365e+02 2.00000000e+00]\n",
      "  ...\n",
      "  [1.37819674e+03 2.00000000e+00]\n",
      "  [1.37850109e+03 1.00000000e+00]\n",
      "  [1.37880545e+03 0.00000000e+00]]]\n"
     ]
    },
    {
     "name": "stderr",
     "output_type": "stream",
     "text": [
      "\n",
      "\n",
      "t:  55%|████████████████████████████████████▍                             | 599/1085 [12:26<12:23,  1.53s/it, now=None]\u001b[A\u001b[A"
     ]
    },
    {
     "name": "stdout",
     "output_type": "stream",
     "text": [
      "1250.2578812192778 101264.5010723182\n",
      "2459.996576333852 m 101896.55601803648 m\n",
      "[[[7.04726870e+02 0.00000000e+00]\n",
      "  [7.03901309e+02 1.00000000e+00]\n",
      "  [7.03076602e+02 2.00000000e+00]\n",
      "  ...\n",
      "  [1.37852652e+03 2.00000000e+00]\n",
      "  [1.37882407e+03 1.00000000e+00]\n",
      "  [1.37912163e+03 0.00000000e+00]]]\n"
     ]
    },
    {
     "name": "stderr",
     "output_type": "stream",
     "text": [
      "\n",
      "\n",
      "t:  55%|████████████████████████████████████▍                             | 600/1085 [12:27<11:53,  1.47s/it, now=None]\u001b[A\u001b[A"
     ]
    },
    {
     "name": "stdout",
     "output_type": "stream",
     "text": [
      "1245.9098226699812 8852.123891168367\n",
      "2438.126105193066 m 9511.27120131654 m\n",
      "[[[7.02194353e+02 0.00000000e+00]\n",
      "  [7.01375035e+02 1.00000000e+00]\n",
      "  [7.00556570e+02 2.00000000e+00]\n",
      "  ...\n",
      "  [1.39102415e+03 2.00000000e+00]\n",
      "  [1.39137546e+03 1.00000000e+00]\n",
      "  [1.39172690e+03 0.00000000e+00]]]\n"
     ]
    },
    {
     "name": "stderr",
     "output_type": "stream",
     "text": [
      "\n",
      "\n",
      "t:  55%|████████████████████████████████████▌                             | 601/1085 [12:29<11:43,  1.45s/it, now=None]\u001b[A\u001b[A"
     ]
    },
    {
     "name": "stdout",
     "output_type": "stream",
     "text": [
      "1273.9519826395745 10268.333074588967\n",
      "2464.2785412738835 m 10894.252736030816 m\n",
      "[[[7.00355106e+02 0.00000000e+00]\n",
      "  [6.99542000e+02 1.00000000e+00]\n",
      "  [6.98729731e+02 2.00000000e+00]\n",
      "  ...\n",
      "  [1.38314005e+03 2.00000000e+00]\n",
      "  [1.38347053e+03 1.00000000e+00]\n",
      "  [1.38380112e+03 0.00000000e+00]]]\n"
     ]
    },
    {
     "name": "stderr",
     "output_type": "stream",
     "text": [
      "\n",
      "\n",
      "t:  55%|████████████████████████████████████▌                             | 602/1085 [12:30<11:24,  1.42s/it, now=None]\u001b[A\u001b[A"
     ]
    },
    {
     "name": "stdout",
     "output_type": "stream",
     "text": [
      "1294.470193360949 7508.042770735388\n",
      "2525.1406978892323 m 7006.207406579197 m\n",
      "[[[7.09587187e+02 0.00000000e+00]\n",
      "  [7.08761575e+02 1.00000000e+00]\n",
      "  [7.07936796e+02 2.00000000e+00]\n",
      "  ...\n",
      "  [1.33669258e+03 2.00000000e+00]\n",
      "  [1.33687260e+03 1.00000000e+00]\n",
      "  [1.33705246e+03 0.00000000e+00]]]\n"
     ]
    },
    {
     "name": "stderr",
     "output_type": "stream",
     "text": [
      "\n",
      "\n",
      "t:  56%|████████████████████████████████████▋                             | 603/1085 [12:32<13:06,  1.63s/it, now=None]\u001b[A\u001b[A"
     ]
    },
    {
     "name": "stdout",
     "output_type": "stream",
     "text": [
      "1411.6649218643352 4752.921088260558\n",
      "2643.3852595416474 m 4287.093684274001 m\n",
      "[[[7.09013671e+02 0.00000000e+00]\n",
      "  [7.08207626e+02 1.00000000e+00]\n",
      "  [7.07402355e+02 2.00000000e+00]\n",
      "  ...\n",
      "  [1.32024980e+03 2.00000000e+00]\n",
      "  [1.32037976e+03 1.00000000e+00]\n",
      "  [1.32050948e+03 0.00000000e+00]]]\n"
     ]
    },
    {
     "name": "stderr",
     "output_type": "stream",
     "text": [
      "\n",
      "\n",
      "t:  56%|████████████████████████████████████▋                             | 604/1085 [12:34<12:53,  1.61s/it, now=None]\u001b[A\u001b[A"
     ]
    },
    {
     "name": "stdout",
     "output_type": "stream",
     "text": [
      "1375.0577406927134 10023.010917540154\n",
      "2644.790528206229 m 9537.383766679839 m\n",
      "[[[7.19148752e+02 0.00000000e+00]\n",
      "  [7.18321454e+02 1.00000000e+00]\n",
      "  [7.17494954e+02 2.00000000e+00]\n",
      "  ...\n",
      "  [1.32876436e+03 2.00000000e+00]\n",
      "  [1.32895196e+03 1.00000000e+00]\n",
      "  [1.32913944e+03 0.00000000e+00]]]\n"
     ]
    },
    {
     "name": "stderr",
     "output_type": "stream",
     "text": [
      "\n",
      "\n",
      "t:  56%|████████████████████████████████████▊                             | 605/1085 [12:35<12:27,  1.56s/it, now=None]\u001b[A\u001b[A"
     ]
    },
    {
     "name": "stdout",
     "output_type": "stream",
     "text": [
      "1399.5642471620988 10509.247982697934\n",
      "2671.2738752644896 m 11020.547840756044 m\n",
      "[[[7.19594604e+02 0.00000000e+00]\n",
      "  [7.18770499e+02 1.00000000e+00]\n",
      "  [7.17947180e+02 2.00000000e+00]\n",
      "  ...\n",
      "  [1.34570280e+03 2.00000000e+00]\n",
      "  [1.34598092e+03 1.00000000e+00]\n",
      "  [1.34625915e+03 0.00000000e+00]]]\n"
     ]
    },
    {
     "name": "stderr",
     "output_type": "stream",
     "text": [
      "\n",
      "\n",
      "t:  56%|████████████████████████████████████▊                             | 606/1085 [12:37<12:19,  1.54s/it, now=None]\u001b[A\u001b[A"
     ]
    },
    {
     "name": "stdout",
     "output_type": "stream",
     "text": [
      "1435.0886607237815 4443.478242113797\n",
      "2672.9517884538755 m 4992.566577265142 m\n",
      "[[[7.11504541e+02 0.00000000e+00]\n",
      "  [7.10699656e+02 1.00000000e+00]\n",
      "  [7.09895536e+02 2.00000000e+00]\n",
      "  ...\n",
      "  [1.36173766e+03 2.00000000e+00]\n",
      "  [1.36208202e+03 1.00000000e+00]\n",
      "  [1.36242662e+03 0.00000000e+00]]]\n"
     ]
    },
    {
     "name": "stderr",
     "output_type": "stream",
     "text": [
      "\n",
      "\n",
      "t:  56%|████████████████████████████████████▉                             | 607/1085 [12:38<11:50,  1.49s/it, now=None]\u001b[A\u001b[A"
     ]
    },
    {
     "name": "stdout",
     "output_type": "stream",
     "text": [
      "1515.7117017651042 4027.1227001069074\n",
      "2697.1268652318895 m 4579.194945595139 m\n",
      "[[[6.97469141e+02 0.00000000e+00]\n",
      "  [6.96699025e+02 1.00000000e+00]\n",
      "  [6.95929632e+02 2.00000000e+00]\n",
      "  ...\n",
      "  [1.36521564e+03 2.00000000e+00]\n",
      "  [1.36556991e+03 1.00000000e+00]\n",
      "  [1.36592444e+03 0.00000000e+00]]]\n"
     ]
    },
    {
     "name": "stderr",
     "output_type": "stream",
     "text": [
      "\n",
      "\n",
      "t:  56%|████████████████████████████████████▉                             | 608/1085 [12:40<11:38,  1.46s/it, now=None]\u001b[A\u001b[A"
     ]
    },
    {
     "name": "stdout",
     "output_type": "stream",
     "text": [
      "1630.5248390135253 14791.18725569437\n",
      "2728.2762806174787 m 15305.924529521399 m\n",
      "[[[6.74552515e+02 0.00000000e+00]\n",
      "  [6.73831950e+02 1.00000000e+00]\n",
      "  [6.73112051e+02 2.00000000e+00]\n",
      "  ...\n",
      "  [1.35054732e+03 2.00000000e+00]\n",
      "  [1.35081630e+03 1.00000000e+00]\n",
      "  [1.35108535e+03 0.00000000e+00]]]\n"
     ]
    },
    {
     "name": "stderr",
     "output_type": "stream",
     "text": [
      "\n",
      "\n",
      "t:  56%|█████████████████████████████████████                             | 609/1085 [12:41<11:23,  1.44s/it, now=None]\u001b[A\u001b[A"
     ]
    },
    {
     "name": "stdout",
     "output_type": "stream",
     "text": [
      "1686.4529770280217 3336.262641134095\n",
      "2785.77700734486 m 3928.554779319441 m\n",
      "[[[6.74471842e+02 0.00000000e+00]\n",
      "  [6.73757288e+02 1.00000000e+00]\n",
      "  [6.73043381e+02 2.00000000e+00]\n",
      "  ...\n",
      "  [1.37791204e+03 2.00000000e+00]\n",
      "  [1.37830340e+03 1.00000000e+00]\n",
      "  [1.37869507e+03 0.00000000e+00]]]\n"
     ]
    },
    {
     "name": "stderr",
     "output_type": "stream",
     "text": [
      "\n",
      "\n",
      "t:  56%|█████████████████████████████████████                             | 610/1085 [12:42<11:20,  1.43s/it, now=None]\u001b[A\u001b[A"
     ]
    },
    {
     "name": "stdout",
     "output_type": "stream",
     "text": [
      "1656.7624581834668 4791.732222281307\n",
      "2729.9835856970435 m 5344.415158413667 m\n",
      "[[[6.67595465e+02 0.00000000e+00]\n",
      "  [6.66888305e+02 1.00000000e+00]\n",
      "  [6.66181800e+02 2.00000000e+00]\n",
      "  ...\n",
      "  [1.36535089e+03 2.00000000e+00]\n",
      "  [1.36569086e+03 1.00000000e+00]\n",
      "  [1.36603105e+03 0.00000000e+00]]]\n"
     ]
    },
    {
     "name": "stderr",
     "output_type": "stream",
     "text": [
      "\n",
      "\n",
      "t:  56%|█████████████████████████████████████▏                            | 611/1085 [12:44<10:55,  1.38s/it, now=None]\u001b[A\u001b[A"
     ]
    },
    {
     "name": "stdout",
     "output_type": "stream",
     "text": [
      "1595.7812826392822 2773.7376196212476\n",
      "2610.9429691406185 m 3387.5278599091503 m\n",
      "[[[6.54934849e+02 0.00000000e+00]\n",
      "  [6.54244543e+02 1.00000000e+00]\n",
      "  [6.53554906e+02 2.00000000e+00]\n",
      "  ...\n",
      "  [1.38747032e+03 2.00000000e+00]\n",
      "  [1.38789321e+03 1.00000000e+00]\n",
      "  [1.38831647e+03 0.00000000e+00]]]\n"
     ]
    },
    {
     "name": "stderr",
     "output_type": "stream",
     "text": [
      "\n",
      "\n",
      "t:  56%|█████████████████████████████████████▏                            | 612/1085 [12:45<10:30,  1.33s/it, now=None]\u001b[A\u001b[A"
     ]
    },
    {
     "name": "stdout",
     "output_type": "stream",
     "text": [
      "1736.6356215273634 4298.651918920504\n",
      "2756.5328004558737 m 4822.846948289267 m\n",
      "[[[6.56032994e+02 0.00000000e+00]\n",
      "  [6.55357385e+02 1.00000000e+00]\n",
      "  [6.54682397e+02 2.00000000e+00]\n",
      "  ...\n",
      "  [1.35842092e+03 2.00000000e+00]\n",
      "  [1.35875662e+03 1.00000000e+00]\n",
      "  [1.35909256e+03 0.00000000e+00]]]\n"
     ]
    },
    {
     "name": "stderr",
     "output_type": "stream",
     "text": [
      "\n",
      "\n",
      "t:  56%|█████████████████████████████████████▎                            | 613/1085 [12:46<10:17,  1.31s/it, now=None]\u001b[A\u001b[A"
     ]
    },
    {
     "name": "stdout",
     "output_type": "stream",
     "text": [
      "1724.2340597598613 5425.123096720092\n",
      "2739.319493815098 m 5922.746527056844 m\n",
      "[[[6.54068495e+02 0.00000000e+00]\n",
      "  [6.53393548e+02 1.00000000e+00]\n",
      "  [6.52719227e+02 2.00000000e+00]\n",
      "  ...\n",
      "  [1.34932910e+03 2.00000000e+00]\n",
      "  [1.34963470e+03 1.00000000e+00]\n",
      "  [1.34994049e+03 0.00000000e+00]]]\n"
     ]
    },
    {
     "name": "stderr",
     "output_type": "stream",
     "text": [
      "\n",
      "\n",
      "t:  57%|█████████████████████████████████████▎                            | 614/1085 [12:47<10:02,  1.28s/it, now=None]\u001b[A\u001b[A"
     ]
    },
    {
     "name": "stdout",
     "output_type": "stream",
     "text": [
      "1869.0892544074327 5696.692131764134\n",
      "2890.844021375412 m 5217.087891894076 m\n",
      "[[[6.55362657e+02 0.00000000e+00]\n",
      "  [6.54699878e+02 1.00000000e+00]\n",
      "  [6.54037682e+02 2.00000000e+00]\n",
      "  ...\n",
      "  [1.31666037e+03 2.00000000e+00]\n",
      "  [1.31681203e+03 1.00000000e+00]\n",
      "  [1.31696349e+03 0.00000000e+00]]]\n"
     ]
    },
    {
     "name": "stderr",
     "output_type": "stream",
     "text": [
      "\n",
      "\n",
      "t:  57%|█████████████████████████████████████▍                            | 615/1085 [12:49<09:49,  1.25s/it, now=None]\u001b[A\u001b[A"
     ]
    },
    {
     "name": "stdout",
     "output_type": "stream",
     "text": [
      "1903.8893161700942 19574.892577647137\n",
      "2931.1015513093234 m 19073.45486766125 m\n",
      "[[[6.58079228e+02 0.00000000e+00]\n",
      "  [6.57417440e+02 1.00000000e+00]\n",
      "  [6.56756226e+02 2.00000000e+00]\n",
      "  ...\n",
      "  [1.32620833e+03 2.00000000e+00]\n",
      "  [1.32642343e+03 1.00000000e+00]\n",
      "  [1.32663848e+03 0.00000000e+00]]]\n"
     ]
    },
    {
     "name": "stderr",
     "output_type": "stream",
     "text": [
      "\n",
      "\n",
      "t:  57%|█████████████████████████████████████▍                            | 616/1085 [12:50<09:41,  1.24s/it, now=None]\u001b[A\u001b[A"
     ]
    },
    {
     "name": "stdout",
     "output_type": "stream",
     "text": [
      "2020.6661808282283 3272.3821892054607\n",
      "3046.8258284656313 m 3830.537004359023 m\n",
      "[[[6.57922974e+02 0.00000000e+00]\n",
      "  [6.57271937e+02 1.00000000e+00]\n",
      "  [6.56621446e+02 2.00000000e+00]\n",
      "  ...\n",
      "  [1.35765445e+03 2.00000000e+00]\n",
      "  [1.35803227e+03 1.00000000e+00]\n",
      "  [1.35841041e+03 0.00000000e+00]]]\n"
     ]
    },
    {
     "name": "stderr",
     "output_type": "stream",
     "text": [
      "\n",
      "\n",
      "t:  57%|█████████████████████████████████████▌                            | 617/1085 [12:51<09:35,  1.23s/it, now=None]\u001b[A\u001b[A"
     ]
    },
    {
     "name": "stdout",
     "output_type": "stream",
     "text": [
      "1939.7535719236075 2739.1092248970135\n",
      "2945.5970077140046 m 3309.9181836069297 m\n",
      "[[[6.54461968e+02 0.00000000e+00]\n",
      "  [6.53812493e+02 1.00000000e+00]\n",
      "  [6.53163581e+02 2.00000000e+00]\n",
      "  ...\n",
      "  [1.36527386e+03 2.00000000e+00]\n",
      "  [1.36567872e+03 1.00000000e+00]\n",
      "  [1.36608395e+03 0.00000000e+00]]]\n"
     ]
    },
    {
     "name": "stderr",
     "output_type": "stream",
     "text": [
      "\n",
      "\n",
      "t:  57%|█████████████████████████████████████▌                            | 618/1085 [12:52<09:36,  1.23s/it, now=None]\u001b[A\u001b[A"
     ]
    },
    {
     "name": "stdout",
     "output_type": "stream",
     "text": [
      "2140.9008521064798 2956.028441149051\n",
      "3109.2124719479625 m 3538.783672510698 m\n",
      "[[[6.42929440e+02 0.00000000e+00]\n",
      "  [6.42312469e+02 1.00000000e+00]\n",
      "  [6.41696009e+02 2.00000000e+00]\n",
      "  ...\n",
      "  [1.36788948e+03 2.00000000e+00]\n",
      "  [1.36829029e+03 1.00000000e+00]\n",
      "  [1.36869145e+03 0.00000000e+00]]]\n"
     ]
    },
    {
     "name": "stderr",
     "output_type": "stream",
     "text": [
      "\n",
      "\n",
      "t:  57%|█████████████████████████████████████▋                            | 619/1085 [12:54<10:17,  1.33s/it, now=None]\u001b[A\u001b[A"
     ]
    },
    {
     "name": "stdout",
     "output_type": "stream",
     "text": [
      "2131.789768782984 19821.85435672978\n",
      "3108.6421920998137 m 20346.325501239124 m\n",
      "[[[6.46491847e+02 0.00000000e+00]\n",
      "  [6.45870550e+02 1.00000000e+00]\n",
      "  [6.45249767e+02 2.00000000e+00]\n",
      "  ...\n",
      "  [1.33754208e+03 2.00000000e+00]\n",
      "  [1.33780870e+03 1.00000000e+00]\n",
      "  [1.33807537e+03 0.00000000e+00]]]\n"
     ]
    },
    {
     "name": "stderr",
     "output_type": "stream",
     "text": [
      "\n",
      "\n",
      "t:  57%|█████████████████████████████████████▋                            | 620/1085 [12:55<10:01,  1.29s/it, now=None]\u001b[A\u001b[A"
     ]
    },
    {
     "name": "stdout",
     "output_type": "stream",
     "text": [
      "2155.893909034621 18763.263038904064\n",
      "3127.2002679811903 m 19267.694542294837 m\n",
      "[[[6.44708177e+02 0.00000000e+00]\n",
      "  [6.44091051e+02 1.00000000e+00]\n",
      "  [6.43474435e+02 2.00000000e+00]\n",
      "  ...\n",
      "  [1.33192799e+03 2.00000000e+00]\n",
      "  [1.33218668e+03 1.00000000e+00]\n",
      "  [1.33244543e+03 0.00000000e+00]]]\n"
     ]
    },
    {
     "name": "stderr",
     "output_type": "stream",
     "text": [
      "\n",
      "\n",
      "t:  57%|█████████████████████████████████████▊                            | 621/1085 [12:56<09:49,  1.27s/it, now=None]\u001b[A\u001b[A"
     ]
    },
    {
     "name": "stdout",
     "output_type": "stream",
     "text": [
      "2257.776619007665 7442.914701118307\n",
      "3222.368872933445 m 7936.536878011288 m\n",
      "[[[6.44161919e+02 0.00000000e+00]\n",
      "  [6.43554919e+02 1.00000000e+00]\n",
      "  [6.42948407e+02 2.00000000e+00]\n",
      "  ...\n",
      "  [1.33008094e+03 2.00000000e+00]\n",
      "  [1.33036595e+03 1.00000000e+00]\n",
      "  [1.33065111e+03 0.00000000e+00]]]\n"
     ]
    },
    {
     "name": "stderr",
     "output_type": "stream",
     "text": [
      "\n",
      "\n",
      "t:  57%|█████████████████████████████████████▊                            | 622/1085 [12:57<09:39,  1.25s/it, now=None]\u001b[A\u001b[A"
     ]
    },
    {
     "name": "stdout",
     "output_type": "stream",
     "text": [
      "1975.9805113237126 4186.6717263828805\n",
      "2951.9440248234464 m 4664.34416221769 m\n",
      "[[[6.50677140e+02 0.00000000e+00]\n",
      "  [6.50043561e+02 1.00000000e+00]\n",
      "  [6.49410533e+02 2.00000000e+00]\n",
      "  ...\n",
      "  [1.32820670e+03 2.00000000e+00]\n",
      "  [1.32852313e+03 1.00000000e+00]\n",
      "  [1.32883980e+03 0.00000000e+00]]]\n"
     ]
    },
    {
     "name": "stderr",
     "output_type": "stream",
     "text": [
      "\n",
      "\n",
      "t:  57%|█████████████████████████████████████▉                            | 623/1085 [12:59<09:33,  1.24s/it, now=None]\u001b[A\u001b[A"
     ]
    },
    {
     "name": "stdout",
     "output_type": "stream",
     "text": [
      "2013.8034074488767 3526.668144354313\n",
      "2937.8455933895652 m 4021.562118367144 m\n",
      "[[[6.38291724e+02 0.00000000e+00]\n",
      "  [6.37683609e+02 1.00000000e+00]\n",
      "  [6.37076029e+02 2.00000000e+00]\n",
      "  ...\n",
      "  [1.33468054e+03 2.00000000e+00]\n",
      "  [1.33502119e+03 1.00000000e+00]\n",
      "  [1.33536214e+03 0.00000000e+00]]]\n"
     ]
    },
    {
     "name": "stderr",
     "output_type": "stream",
     "text": [
      "\n",
      "\n",
      "t:  58%|█████████████████████████████████████▉                            | 624/1085 [13:00<09:39,  1.26s/it, now=None]\u001b[A\u001b[A"
     ]
    },
    {
     "name": "stdout",
     "output_type": "stream",
     "text": [
      "1872.2154120043742 3557.0772045518197\n",
      "2782.4728809013545 m 4045.368077376526 m\n",
      "[[[6.36129071e+02 0.00000000e+00]\n",
      "  [6.35514182e+02 1.00000000e+00]\n",
      "  [6.34899863e+02 2.00000000e+00]\n",
      "  ...\n",
      "  [1.33219804e+03 2.00000000e+00]\n",
      "  [1.33253475e+03 1.00000000e+00]\n",
      "  [1.33287175e+03 0.00000000e+00]]]\n"
     ]
    },
    {
     "name": "stderr",
     "output_type": "stream",
     "text": [
      "\n",
      "\n",
      "t:  58%|██████████████████████████████████████                            | 625/1085 [13:01<09:55,  1.29s/it, now=None]\u001b[A\u001b[A"
     ]
    },
    {
     "name": "stdout",
     "output_type": "stream",
     "text": [
      "1941.1321461121106 5438.319850983677\n",
      "2790.1835919986997 m 5918.564324933062 m\n",
      "[[[6.17252203e+02 0.00000000e+00]\n",
      "  [6.16670273e+02 1.00000000e+00]\n",
      "  [6.16088887e+02 2.00000000e+00]\n",
      "  ...\n",
      "  [1.32806646e+03 2.00000000e+00]\n",
      "  [1.32836385e+03 1.00000000e+00]\n",
      "  [1.32866143e+03 0.00000000e+00]]]\n"
     ]
    },
    {
     "name": "stderr",
     "output_type": "stream",
     "text": [
      "\n",
      "\n",
      "t:  58%|██████████████████████████████████████                            | 626/1085 [13:02<09:41,  1.27s/it, now=None]\u001b[A\u001b[A"
     ]
    },
    {
     "name": "stdout",
     "output_type": "stream",
     "text": [
      "1951.1630403307531 20667.81014178383\n",
      "2754.3237840596244 m 20175.545223046385 m\n",
      "[[[6.03986041e+02 0.00000000e+00]\n",
      "  [6.03425115e+02 1.00000000e+00]\n",
      "  [6.02864726e+02 2.00000000e+00]\n",
      "  ...\n",
      "  [1.31638144e+03 2.00000000e+00]\n",
      "  [1.31659362e+03 1.00000000e+00]\n",
      "  [1.31680574e+03 0.00000000e+00]]]\n"
     ]
    },
    {
     "name": "stderr",
     "output_type": "stream",
     "text": [
      "\n",
      "\n",
      "t:  58%|██████████████████████████████████████▏                           | 627/1085 [13:04<09:33,  1.25s/it, now=None]\u001b[A\u001b[A"
     ]
    },
    {
     "name": "stdout",
     "output_type": "stream",
     "text": [
      "1970.3428777735999 6751.591762277116\n",
      "2744.0953838020005 m 6282.317409508424 m\n",
      "[[[5.94628026e+02 0.00000000e+00]\n",
      "  [5.94081767e+02 1.00000000e+00]\n",
      "  [5.93536036e+02 2.00000000e+00]\n",
      "  ...\n",
      "  [1.30591839e+03 2.00000000e+00]\n",
      "  [1.30607792e+03 1.00000000e+00]\n",
      "  [1.30623728e+03 0.00000000e+00]]]\n"
     ]
    },
    {
     "name": "stderr",
     "output_type": "stream",
     "text": [
      "\n",
      "\n",
      "t:  58%|██████████████████████████████████████▏                           | 628/1085 [13:05<09:26,  1.24s/it, now=None]\u001b[A\u001b[A"
     ]
    },
    {
     "name": "stdout",
     "output_type": "stream",
     "text": [
      "1878.2276547332765 5576.166570863592\n",
      "2617.134342546896 m 5116.286335895035 m\n",
      "[[[5.84825602e+02 0.00000000e+00]\n",
      "  [5.84286312e+02 1.00000000e+00]\n",
      "  [5.83747572e+02 2.00000000e+00]\n",
      "  ...\n",
      "  [1.30360616e+03 2.00000000e+00]\n",
      "  [1.30374780e+03 1.00000000e+00]\n",
      "  [1.30388923e+03 0.00000000e+00]]]\n"
     ]
    },
    {
     "name": "stderr",
     "output_type": "stream",
     "text": [
      "\n",
      "\n",
      "t:  58%|██████████████████████████████████████▎                           | 629/1085 [13:06<09:21,  1.23s/it, now=None]\u001b[A\u001b[A"
     ]
    },
    {
     "name": "stdout",
     "output_type": "stream",
     "text": [
      "1659.0937092724785 3854.0873040850965\n",
      "2408.906524290945 m 3415.3378564450863 m\n",
      "[[[5.88757348e+02 0.00000000e+00]\n",
      "  [5.88189490e+02 1.00000000e+00]\n",
      "  [5.87622249e+02 2.00000000e+00]\n",
      "  ...\n",
      "  [1.29301754e+03 2.00000000e+00]\n",
      "  [1.29311338e+03 1.00000000e+00]\n",
      "  [1.29320891e+03 0.00000000e+00]]]\n"
     ]
    },
    {
     "name": "stderr",
     "output_type": "stream",
     "text": [
      "\n",
      "\n",
      "t:  58%|██████████████████████████████████████▎                           | 630/1085 [13:07<09:19,  1.23s/it, now=None]\u001b[A\u001b[A"
     ]
    },
    {
     "name": "stdout",
     "output_type": "stream",
     "text": [
      "1390.8294386209284 3884.9860380045516\n",
      "2195.8527249331787 m 3476.901956592861 m\n",
      "[[[6.08119681e+02 0.00000000e+00]\n",
      "  [6.07489114e+02 1.00000000e+00]\n",
      "  [6.06859277e+02 2.00000000e+00]\n",
      "  ...\n",
      "  [1.27963608e+03 2.00000000e+00]\n",
      "  [1.27972035e+03 1.00000000e+00]\n",
      "  [1.27980432e+03 0.00000000e+00]]]\n"
     ]
    },
    {
     "name": "stderr",
     "output_type": "stream",
     "text": [
      "\n",
      "\n",
      "t:  58%|██████████████████████████████████████▍                           | 631/1085 [13:09<09:15,  1.22s/it, now=None]\u001b[A\u001b[A"
     ]
    },
    {
     "name": "stdout",
     "output_type": "stream",
     "text": [
      "1295.3918246864198 8155.637049894092\n",
      "2157.0786230984477 m 8552.832839448172 m\n",
      "[[[6.24827099e+02 0.00000000e+00]\n",
      "  [6.24154947e+02 1.00000000e+00]\n",
      "  [6.23483581e+02 2.00000000e+00]\n",
      "  ...\n",
      "  [1.29375329e+03 2.00000000e+00]\n",
      "  [1.29398912e+03 1.00000000e+00]\n",
      "  [1.29422508e+03 0.00000000e+00]]]\n"
     ]
    },
    {
     "name": "stderr",
     "output_type": "stream",
     "text": [
      "\n",
      "\n",
      "t:  58%|██████████████████████████████████████▍                           | 632/1085 [13:10<09:13,  1.22s/it, now=None]\u001b[A\u001b[A"
     ]
    },
    {
     "name": "stdout",
     "output_type": "stream",
     "text": [
      "1254.8344910920466 3748.255712749968\n",
      "2106.9180111115957 m 4138.518223060683 m\n",
      "[[[6.22146434e+02 0.00000000e+00]\n",
      "  [6.21470245e+02 1.00000000e+00]\n",
      "  [6.20794864e+02 2.00000000e+00]\n",
      "  ...\n",
      "  [1.29680265e+03 2.00000000e+00]\n",
      "  [1.29708830e+03 1.00000000e+00]\n",
      "  [1.29737422e+03 0.00000000e+00]]]\n"
     ]
    },
    {
     "name": "stderr",
     "output_type": "stream",
     "text": [
      "\n",
      "\n",
      "t:  58%|██████████████████████████████████████▌                           | 633/1085 [13:11<09:10,  1.22s/it, now=None]\u001b[A\u001b[A"
     ]
    },
    {
     "name": "stdout",
     "output_type": "stream",
     "text": [
      "1213.7811471865537 3546.272004246036\n",
      "2049.748265819127 m 3934.3454624171027 m\n",
      "[[[6.17465594e+02 0.00000000e+00]\n",
      "  [6.16787421e+02 1.00000000e+00]\n",
      "  [6.16110079e+02 2.00000000e+00]\n",
      "  ...\n",
      "  [1.29735492e+03 2.00000000e+00]\n",
      "  [1.29764505e+03 1.00000000e+00]\n",
      "  [1.29793546e+03 0.00000000e+00]]]\n"
     ]
    },
    {
     "name": "stderr",
     "output_type": "stream",
     "text": [
      "\n",
      "\n",
      "t:  58%|██████████████████████████████████████▌                           | 634/1085 [13:12<09:08,  1.22s/it, now=None]\u001b[A\u001b[A"
     ]
    },
    {
     "name": "stdout",
     "output_type": "stream",
     "text": [
      "1156.2511967811217 2483.450805206432\n",
      "2004.773032369095 m 2878.916980310746 m\n",
      "[[[6.22524572e+02 0.00000000e+00]\n",
      "  [6.21827725e+02 1.00000000e+00]\n",
      "  [6.21131750e+02 2.00000000e+00]\n",
      "  ...\n",
      "  [1.30193064e+03 2.00000000e+00]\n",
      "  [1.30226769e+03 1.00000000e+00]\n",
      "  [1.30260513e+03 0.00000000e+00]]]\n"
     ]
    },
    {
     "name": "stderr",
     "output_type": "stream",
     "text": [
      "\n",
      "\n",
      "t:  59%|██████████████████████████████████████▋                           | 635/1085 [13:13<09:07,  1.22s/it, now=None]\u001b[A\u001b[A"
     ]
    },
    {
     "name": "stdout",
     "output_type": "stream",
     "text": [
      "1228.6533881217567 2651.3064655622757\n",
      "2013.4786299340533 m 3055.8934191355474 m\n",
      "[[[6.01939622e+02 0.00000000e+00]\n",
      "  [6.01286347e+02 1.00000000e+00]\n",
      "  [6.00633890e+02 2.00000000e+00]\n",
      "  ...\n",
      "  [1.30619343e+03 2.00000000e+00]\n",
      "  [1.30652558e+03 1.00000000e+00]\n",
      "  [1.30685811e+03 0.00000000e+00]]]\n"
     ]
    },
    {
     "name": "stderr",
     "output_type": "stream",
     "text": [
      "\n",
      "\n",
      "t:  59%|██████████████████████████████████████▋                           | 636/1085 [13:15<09:05,  1.22s/it, now=None]\u001b[A\u001b[A"
     ]
    },
    {
     "name": "stdout",
     "output_type": "stream",
     "text": [
      "1133.0613668082608 3165.994161542045\n",
      "1891.0801498943945 m 3570.132117697251 m\n",
      "[[[5.94350192e+02 0.00000000e+00]\n",
      "  [5.93685172e+02 1.00000000e+00]\n",
      "  [5.93021036e+02 2.00000000e+00]\n",
      "  ...\n",
      "  [1.30565467e+03 2.00000000e+00]\n",
      "  [1.30596459e+03 1.00000000e+00]\n",
      "  [1.30627482e+03 0.00000000e+00]]]\n"
     ]
    },
    {
     "name": "stderr",
     "output_type": "stream",
     "text": [
      "\n",
      "\n",
      "t:  59%|██████████████████████████████████████▋                           | 637/1085 [13:16<09:02,  1.21s/it, now=None]\u001b[A\u001b[A"
     ]
    },
    {
     "name": "stdout",
     "output_type": "stream",
     "text": [
      "1167.9826871087482 2794.593938463793\n",
      "1898.8705760296184 m 3201.7104444646716 m\n",
      "[[[5.83478090e+02 0.00000000e+00]\n",
      "  [5.82833338e+02 1.00000000e+00]\n",
      "  [5.82189444e+02 2.00000000e+00]\n",
      "  ...\n",
      "  [1.30923880e+03 2.00000000e+00]\n",
      "  [1.30956519e+03 1.00000000e+00]\n",
      "  [1.30989195e+03 0.00000000e+00]]]\n"
     ]
    },
    {
     "name": "stderr",
     "output_type": "stream",
     "text": [
      "\n",
      "\n",
      "t:  59%|██████████████████████████████████████▊                           | 638/1085 [13:17<09:01,  1.21s/it, now=None]\u001b[A\u001b[A"
     ]
    },
    {
     "name": "stdout",
     "output_type": "stream",
     "text": [
      "1237.9514898975615 3157.2442041587133\n",
      "1909.5313982449004 m 3563.911568520238 m\n",
      "[[[5.61938631e+02 0.00000000e+00]\n",
      "  [5.61335447e+02 1.00000000e+00]\n",
      "  [5.60733071e+02 2.00000000e+00]\n",
      "  ...\n",
      "  [1.31243356e+03 2.00000000e+00]\n",
      "  [1.31274497e+03 1.00000000e+00]\n",
      "  [1.31305671e+03 0.00000000e+00]]]\n"
     ]
    },
    {
     "name": "stderr",
     "output_type": "stream",
     "text": [
      "\n",
      "\n",
      "t:  59%|██████████████████████████████████████▊                           | 639/1085 [13:18<09:00,  1.21s/it, now=None]\u001b[A\u001b[A"
     ]
    },
    {
     "name": "stdout",
     "output_type": "stream",
     "text": [
      "1291.023017022528 3190.1023703987976\n",
      "1957.3110052838908 m 3601.6200562491867 m\n",
      "[[[5.55713032e+02 0.00000000e+00]\n",
      "  [5.55123534e+02 1.00000000e+00]\n",
      "  [5.54534812e+02 2.00000000e+00]\n",
      "  ...\n",
      "  [1.31363629e+03 2.00000000e+00]\n",
      "  [1.31394880e+03 1.00000000e+00]\n",
      "  [1.31426163e+03 0.00000000e+00]]]\n"
     ]
    },
    {
     "name": "stderr",
     "output_type": "stream",
     "text": [
      "\n",
      "\n",
      "t:  59%|██████████████████████████████████████▉                           | 640/1085 [13:19<08:59,  1.21s/it, now=None]\u001b[A\u001b[A"
     ]
    },
    {
     "name": "stdout",
     "output_type": "stream",
     "text": [
      "1272.1950219483908 2579.1055341225333\n",
      "1934.506068421189 m 3010.8226033180235 m\n",
      "[[[5.51262337e+02 0.00000000e+00]\n",
      "  [5.50670594e+02 1.00000000e+00]\n",
      "  [5.50079639e+02 2.00000000e+00]\n",
      "  ...\n",
      "  [1.32101917e+03 2.00000000e+00]\n",
      "  [1.32136775e+03 1.00000000e+00]\n",
      "  [1.32171672e+03 0.00000000e+00]]]\n"
     ]
    },
    {
     "name": "stderr",
     "output_type": "stream",
     "text": [
      "\n",
      "\n",
      "t:  59%|██████████████████████████████████████▉                           | 641/1085 [13:21<08:58,  1.21s/it, now=None]\u001b[A\u001b[A"
     ]
    },
    {
     "name": "stdout",
     "output_type": "stream",
     "text": [
      "1314.9199029167246 1826.007317207695\n",
      "2001.0316112502944 m 2279.2671525697 m\n",
      "[[[5.53041016e+02 0.00000000e+00]\n",
      "  [5.52447824e+02 1.00000000e+00]\n",
      "  [5.51855395e+02 2.00000000e+00]\n",
      "  ...\n",
      "  [1.32983418e+03 2.00000000e+00]\n",
      "  [1.33024961e+03 1.00000000e+00]\n",
      "  [1.33066559e+03 0.00000000e+00]]]\n"
     ]
    },
    {
     "name": "stderr",
     "output_type": "stream",
     "text": [
      "\n",
      "\n",
      "t:  59%|███████████████████████████████████████                           | 642/1085 [13:22<08:55,  1.21s/it, now=None]\u001b[A\u001b[A"
     ]
    },
    {
     "name": "stdout",
     "output_type": "stream",
     "text": [
      "1300.9865270129148 1412.3780525553793\n",
      "2047.2216319185277 m 1844.4332427419463 m\n",
      "[[[5.69065818e+02 0.00000000e+00]\n",
      "  [5.68444062e+02 1.00000000e+00]\n",
      "  [5.67823081e+02 2.00000000e+00]\n",
      "  ...\n",
      "  [1.32290524e+03 2.00000000e+00]\n",
      "  [1.32336952e+03 1.00000000e+00]\n",
      "  [1.32383451e+03 0.00000000e+00]]]\n"
     ]
    },
    {
     "name": "stderr",
     "output_type": "stream",
     "text": [
      "\n",
      "\n",
      "t:  59%|███████████████████████████████████████                           | 643/1085 [13:23<08:54,  1.21s/it, now=None]\u001b[A\u001b[A"
     ]
    },
    {
     "name": "stdout",
     "output_type": "stream",
     "text": [
      "1274.0996837835835 1200.9736527504742\n",
      "2105.749636241572 m 1634.3916518113742 m\n",
      "[[[5.91122960e+02 0.00000000e+00]\n",
      "  [5.90459374e+02 1.00000000e+00]\n",
      "  [5.89796582e+02 2.00000000e+00]\n",
      "  ...\n",
      "  [1.31927129e+03 2.00000000e+00]\n",
      "  [1.31978375e+03 1.00000000e+00]\n",
      "  [1.32029706e+03 0.00000000e+00]]]\n"
     ]
    },
    {
     "name": "stderr",
     "output_type": "stream",
     "text": [
      "\n",
      "\n",
      "t:  59%|███████████████████████████████████████▏                          | 644/1085 [13:24<08:52,  1.21s/it, now=None]\u001b[A\u001b[A"
     ]
    },
    {
     "name": "stdout",
     "output_type": "stream",
     "text": [
      "1210.9722157449123 1078.3169126257083\n",
      "2069.7812764213054 m 1536.6078707664658 m\n",
      "[[[5.97931112e+02 0.00000000e+00]\n",
      "  [5.97242693e+02 1.00000000e+00]\n",
      "  [5.96555109e+02 2.00000000e+00]\n",
      "  ...\n",
      "  [1.32614446e+03 2.00000000e+00]\n",
      "  [1.32670470e+03 1.00000000e+00]\n",
      "  [1.32726589e+03 0.00000000e+00]]]\n"
     ]
    },
    {
     "name": "stderr",
     "output_type": "stream",
     "text": [
      "\n",
      "\n",
      "t:  59%|███████████████████████████████████████▏                          | 645/1085 [13:26<08:51,  1.21s/it, now=None]\u001b[A\u001b[A"
     ]
    },
    {
     "name": "stdout",
     "output_type": "stream",
     "text": [
      "1327.9166809111625 1036.5668403881486\n",
      "2142.2946762205684 m 1526.4636386304228 m\n",
      "[[[5.82662449e+02 0.00000000e+00]\n",
      "  [5.82016658e+02 1.00000000e+00]\n",
      "  [5.81371630e+02 2.00000000e+00]\n",
      "  ...\n",
      "  [1.33556950e+03 2.00000000e+00]\n",
      "  [1.33615693e+03 1.00000000e+00]\n",
      "  [1.33674535e+03 0.00000000e+00]]]\n"
     ]
    },
    {
     "name": "stderr",
     "output_type": "stream",
     "text": [
      "\n",
      "\n",
      "t:  60%|███████████████████████████████████████▎                          | 646/1085 [13:27<08:51,  1.21s/it, now=None]\u001b[A\u001b[A"
     ]
    },
    {
     "name": "stdout",
     "output_type": "stream",
     "text": [
      "1339.8862259683492 1074.0163294670401\n",
      "2143.5012262193736 m 1598.0325552987179 m\n",
      "[[[5.78344871e+02 0.00000000e+00]\n",
      "  [5.77705906e+02 1.00000000e+00]\n",
      "  [5.77067697e+02 2.00000000e+00]\n",
      "  ...\n",
      "  [1.34133938e+03 2.00000000e+00]\n",
      "  [1.34192626e+03 1.00000000e+00]\n",
      "  [1.34251408e+03 0.00000000e+00]]]\n"
     ]
    },
    {
     "name": "stderr",
     "output_type": "stream",
     "text": [
      "\n",
      "\n",
      "t:  60%|███████████████████████████████████████▎                          | 647/1085 [13:28<08:46,  1.20s/it, now=None]\u001b[A\u001b[A"
     ]
    },
    {
     "name": "stdout",
     "output_type": "stream",
     "text": [
      "1395.1474439088113 1161.678931659794\n",
      "2161.8506642050056 m 1686.6639096040408 m\n",
      "[[[5.65391781e+02 0.00000000e+00]\n",
      "  [5.64778498e+02 1.00000000e+00]\n",
      "  [5.64165940e+02 2.00000000e+00]\n",
      "  ...\n",
      "  [1.33948448e+03 2.00000000e+00]\n",
      "  [1.34004479e+03 1.00000000e+00]\n",
      "  [1.34060597e+03 0.00000000e+00]]]\n"
     ]
    },
    {
     "name": "stderr",
     "output_type": "stream",
     "text": [
      "\n",
      "\n",
      "t:  60%|███████████████████████████████████████▍                          | 648/1085 [13:29<08:46,  1.21s/it, now=None]\u001b[A\u001b[A"
     ]
    },
    {
     "name": "stdout",
     "output_type": "stream",
     "text": [
      "1394.4212668589062 1143.8037505716693\n",
      "2108.627983250534 m 1718.8459865476966 m\n",
      "[[[5.47927916e+02 0.00000000e+00]\n",
      "  [5.47337257e+02 1.00000000e+00]\n",
      "  [5.46747321e+02 2.00000000e+00]\n",
      "  ...\n",
      "  [1.35398646e+03 2.00000000e+00]\n",
      "  [1.35457216e+03 1.00000000e+00]\n",
      "  [1.35515873e+03 0.00000000e+00]]]\n"
     ]
    },
    {
     "name": "stderr",
     "output_type": "stream",
     "text": [
      "\n",
      "\n",
      "t:  60%|███████████████████████████████████████▍                          | 649/1085 [13:30<08:49,  1.21s/it, now=None]\u001b[A\u001b[A"
     ]
    },
    {
     "name": "stdout",
     "output_type": "stream",
     "text": [
      "1563.0475418516924 1519.331347751626\n",
      "2264.3541781425583 m 2120.709493462341 m\n",
      "[[[5.39945674e+02 0.00000000e+00]\n",
      "  [5.39386725e+02 1.00000000e+00]\n",
      "  [5.38828424e+02 2.00000000e+00]\n",
      "  ...\n",
      "  [1.34697329e+03 2.00000000e+00]\n",
      "  [1.34749378e+03 1.00000000e+00]\n",
      "  [1.34801492e+03 0.00000000e+00]]]\n"
     ]
    },
    {
     "name": "stderr",
     "output_type": "stream",
     "text": [
      "\n",
      "\n",
      "t:  60%|███████████████████████████████████████▌                          | 650/1085 [13:32<08:46,  1.21s/it, now=None]\u001b[A\u001b[A"
     ]
    },
    {
     "name": "stdout",
     "output_type": "stream",
     "text": [
      "1582.064861318707 1508.646870242284\n",
      "2300.630853138822 m 2142.930856431213 m\n",
      "[[[5.41888894e+02 0.00000000e+00]\n",
      "  [5.41324936e+02 1.00000000e+00]\n",
      "  [5.40761620e+02 2.00000000e+00]\n",
      "  ...\n",
      "  [1.35208424e+03 2.00000000e+00]\n",
      "  [1.35262083e+03 1.00000000e+00]\n",
      "  [1.35315809e+03 0.00000000e+00]]]\n"
     ]
    },
    {
     "name": "stderr",
     "output_type": "stream",
     "text": [
      "\n",
      "\n",
      "t:  60%|███████████████████████████████████████▌                          | 651/1085 [13:33<08:45,  1.21s/it, now=None]\u001b[A\u001b[A"
     ]
    },
    {
     "name": "stdout",
     "output_type": "stream",
     "text": [
      "1589.930083969916 1492.121241889632\n",
      "2335.157361594596 m 2148.849635381314 m\n",
      "[[[5.47180776e+02 0.00000000e+00]\n",
      "  [5.46606141e+02 1.00000000e+00]\n",
      "  [5.46032149e+02 2.00000000e+00]\n",
      "  ...\n",
      "  [1.35481308e+03 2.00000000e+00]\n",
      "  [1.35536205e+03 1.00000000e+00]\n",
      "  [1.35591170e+03 0.00000000e+00]]]\n"
     ]
    },
    {
     "name": "stderr",
     "output_type": "stream",
     "text": [
      "\n",
      "\n",
      "t:  60%|███████████████████████████████████████▋                          | 652/1085 [13:34<08:43,  1.21s/it, now=None]\u001b[A\u001b[A"
     ]
    },
    {
     "name": "stdout",
     "output_type": "stream",
     "text": [
      "1529.9916040085484 1713.3373331485197\n",
      "2306.4081061492934 m 2341.67995831158 m\n",
      "[[[5.56195991e+02 0.00000000e+00]\n",
      "  [5.55599475e+02 1.00000000e+00]\n",
      "  [5.55003626e+02 2.00000000e+00]\n",
      "  ...\n",
      "  [1.34090919e+03 2.00000000e+00]\n",
      "  [1.34141606e+03 1.00000000e+00]\n",
      "  [1.34192353e+03 0.00000000e+00]]]\n"
     ]
    },
    {
     "name": "stderr",
     "output_type": "stream",
     "text": [
      "\n",
      "\n",
      "t:  60%|███████████████████████████████████████▋                          | 653/1085 [13:35<08:40,  1.21s/it, now=None]\u001b[A\u001b[A"
     ]
    },
    {
     "name": "stdout",
     "output_type": "stream",
     "text": [
      "1382.6461988135452 1506.1925902051614\n",
      "2186.7311041375306 m 2145.2754361567827 m\n",
      "[[[5.64791489e+02 0.00000000e+00]\n",
      "  [5.64159924e+02 1.00000000e+00]\n",
      "  [5.63529094e+02 2.00000000e+00]\n",
      "  ...\n",
      "  [1.34444363e+03 2.00000000e+00]\n",
      "  [1.34498271e+03 1.00000000e+00]\n",
      "  [1.34552245e+03 0.00000000e+00]]]\n"
     ]
    },
    {
     "name": "stderr",
     "output_type": "stream",
     "text": [
      "\n",
      "\n",
      "t:  60%|███████████████████████████████████████▊                          | 654/1085 [13:36<08:38,  1.20s/it, now=None]\u001b[A\u001b[A"
     ]
    },
    {
     "name": "stdout",
     "output_type": "stream",
     "text": [
      "1382.639631090457 1659.6365537774016\n",
      "2190.18078646688 m 2295.831197187629 m\n",
      "[[[5.64731180e+02 0.00000000e+00]\n",
      "  [5.64098125e+02 1.00000000e+00]\n",
      "  [5.63465805e+02 2.00000000e+00]\n",
      "  ...\n",
      "  [1.33998895e+03 2.00000000e+00]\n",
      "  [1.34050578e+03 1.00000000e+00]\n",
      "  [1.34102323e+03 0.00000000e+00]]]\n"
     ]
    },
    {
     "name": "stderr",
     "output_type": "stream",
     "text": [
      "\n",
      "\n",
      "t:  60%|███████████████████████████████████████▊                          | 655/1085 [13:38<08:39,  1.21s/it, now=None]\u001b[A\u001b[A"
     ]
    },
    {
     "name": "stdout",
     "output_type": "stream",
     "text": [
      "1283.1021872994597 1488.4699443575075\n",
      "2106.206457583571 m 2132.201384632666 m\n",
      "[[[5.70256048e+02 0.00000000e+00]\n",
      "  [5.69597901e+02 1.00000000e+00]\n",
      "  [5.68940543e+02 2.00000000e+00]\n",
      "  ...\n",
      "  [1.34298067e+03 2.00000000e+00]\n",
      "  [1.34352449e+03 1.00000000e+00]\n",
      "  [1.34406899e+03 0.00000000e+00]]]\n"
     ]
    },
    {
     "name": "stderr",
     "output_type": "stream",
     "text": [
      "\n",
      "\n",
      "t:  60%|███████████████████████████████████████▉                          | 656/1085 [13:39<08:35,  1.20s/it, now=None]\u001b[A\u001b[A"
     ]
    },
    {
     "name": "stdout",
     "output_type": "stream",
     "text": [
      "1251.2696025865764 1487.738288238942\n",
      "2067.8557191606237 m 2149.8212961546133 m\n",
      "[[[5.66987864e+02 0.00000000e+00]\n",
      "  [5.66325981e+02 1.00000000e+00]\n",
      "  [5.65664905e+02 2.00000000e+00]\n",
      "  ...\n",
      "  [1.34745852e+03 2.00000000e+00]\n",
      "  [1.34801051e+03 1.00000000e+00]\n",
      "  [1.34856318e+03 0.00000000e+00]]]\n"
     ]
    },
    {
     "name": "stderr",
     "output_type": "stream",
     "text": [
      "\n",
      "\n",
      "t:  61%|███████████████████████████████████████▉                          | 657/1085 [13:40<08:35,  1.20s/it, now=None]\u001b[A\u001b[A"
     ]
    },
    {
     "name": "stdout",
     "output_type": "stream",
     "text": [
      "1176.5348460917423 1265.9200496456467\n",
      "1993.219050050252 m 1965.2134310857223 m\n",
      "[[[5.67373464e+02 0.00000000e+00]\n",
      "  [5.66694834e+02 1.00000000e+00]\n",
      "  [5.66017059e+02 2.00000000e+00]\n",
      "  ...\n",
      "  [1.36017059e+03 2.00000000e+00]\n",
      "  [1.36077866e+03 1.00000000e+00]\n",
      "  [1.36138752e+03 0.00000000e+00]]]\n"
     ]
    },
    {
     "name": "stderr",
     "output_type": "stream",
     "text": [
      "\n",
      "\n",
      "t:  61%|████████████████████████████████████████                          | 658/1085 [13:41<08:33,  1.20s/it, now=None]\u001b[A\u001b[A"
     ]
    },
    {
     "name": "stdout",
     "output_type": "stream",
     "text": [
      "1124.279259288919 1285.2043983659034\n",
      "1917.9518971446994 m 1993.56532928873 m\n",
      "[[[5.62456827e+02 0.00000000e+00]\n",
      "  [5.61774686e+02 1.00000000e+00]\n",
      "  [5.61093437e+02 2.00000000e+00]\n",
      "  ...\n",
      "  [1.36144478e+03 2.00000000e+00]\n",
      "  [1.36205271e+03 1.00000000e+00]\n",
      "  [1.36266142e+03 0.00000000e+00]]]\n"
     ]
    },
    {
     "name": "stderr",
     "output_type": "stream",
     "text": [
      "\n",
      "\n",
      "t:  61%|████████████████████████████████████████                          | 659/1085 [13:42<08:31,  1.20s/it, now=None]\u001b[A\u001b[A"
     ]
    },
    {
     "name": "stdout",
     "output_type": "stream",
     "text": [
      "1085.0576068694122 1264.7720056447226\n",
      "1881.7720215493841 m 1989.0131268609916 m\n",
      "[[[5.62635420e+02 0.00000000e+00]\n",
      "  [5.61941249e+02 1.00000000e+00]\n",
      "  [5.61248000e+02 2.00000000e+00]\n",
      "  ...\n",
      "  [1.36410084e+03 2.00000000e+00]\n",
      "  [1.36471979e+03 1.00000000e+00]\n",
      "  [1.36533954e+03 0.00000000e+00]]]\n"
     ]
    },
    {
     "name": "stderr",
     "output_type": "stream",
     "text": [
      "\n",
      "\n",
      "t:  61%|████████████████████████████████████████▏                         | 660/1085 [13:44<08:32,  1.21s/it, now=None]\u001b[A\u001b[A"
     ]
    },
    {
     "name": "stdout",
     "output_type": "stream",
     "text": [
      "1113.206790824647 1315.489281369959\n",
      "1858.1680510815463 m 2066.02032914829 m\n",
      "[[[5.45313473e+02 0.00000000e+00]\n",
      "  [5.44648510e+02 1.00000000e+00]\n",
      "  [5.43984446e+02 2.00000000e+00]\n",
      "  ...\n",
      "  [1.37074497e+03 2.00000000e+00]\n",
      "  [1.37136497e+03 1.00000000e+00]\n",
      "  [1.37198574e+03 0.00000000e+00]]]\n"
     ]
    },
    {
     "name": "stderr",
     "output_type": "stream",
     "text": [
      "\n",
      "\n",
      "t:  61%|████████████████████████████████████████▏                         | 661/1085 [13:45<08:30,  1.20s/it, now=None]\u001b[A\u001b[A"
     ]
    },
    {
     "name": "stdout",
     "output_type": "stream",
     "text": [
      "1115.4078921115208 1659.7224265735072\n",
      "1864.7295436420782 m 2442.2202285231947 m\n",
      "[[[5.41529491e+02 0.00000000e+00]\n",
      "  [5.40863332e+02 1.00000000e+00]\n",
      "  [5.40198069e+02 2.00000000e+00]\n",
      "  ...\n",
      "  [1.36865064e+03 2.00000000e+00]\n",
      "  [1.36923217e+03 1.00000000e+00]\n",
      "  [1.36981431e+03 0.00000000e+00]]]\n"
     ]
    },
    {
     "name": "stderr",
     "output_type": "stream",
     "text": [
      "\n",
      "\n",
      "t:  61%|████████████████████████████████████████▎                         | 662/1085 [13:46<08:30,  1.21s/it, now=None]\u001b[A\u001b[A"
     ]
    },
    {
     "name": "stdout",
     "output_type": "stream",
     "text": [
      "1075.0547664171659 1699.6722427483337\n",
      "1793.5188805390292 m 2516.066291398789 m\n",
      "[[[5.30501314e+02 0.00000000e+00]\n",
      "  [5.29836215e+02 1.00000000e+00]\n",
      "  [5.29172047e+02 2.00000000e+00]\n",
      "  ...\n",
      "  [1.37815205e+03 2.00000000e+00]\n",
      "  [1.37874370e+03 1.00000000e+00]\n",
      "  [1.37933596e+03 0.00000000e+00]]]\n"
     ]
    },
    {
     "name": "stderr",
     "output_type": "stream",
     "text": [
      "\n",
      "\n",
      "t:  61%|████████████████████████████████████████▎                         | 663/1085 [13:47<08:31,  1.21s/it, now=None]\u001b[A\u001b[A"
     ]
    },
    {
     "name": "stdout",
     "output_type": "stream",
     "text": [
      "1108.5479619699563 1345.860613003751\n",
      "1787.2729541473745 m 2200.453884530094 m\n",
      "[[[5.14782598e+02 0.00000000e+00]\n",
      "  [5.14143584e+02 1.00000000e+00]\n",
      "  [5.13505472e+02 2.00000000e+00]\n",
      "  ...\n",
      "  [1.39512929e+03 2.00000000e+00]\n",
      "  [1.39578825e+03 1.00000000e+00]\n",
      "  [1.39644796e+03 0.00000000e+00]]]\n"
     ]
    },
    {
     "name": "stderr",
     "output_type": "stream",
     "text": [
      "\n",
      "\n",
      "t:  61%|████████████████████████████████████████▍                         | 664/1085 [13:48<08:29,  1.21s/it, now=None]\u001b[A\u001b[A"
     ]
    },
    {
     "name": "stdout",
     "output_type": "stream",
     "text": [
      "1063.619415934344 1807.446321437518\n",
      "1784.5553575416973 m 2641.2430725943086 m\n",
      "[[[5.24344018e+02 0.00000000e+00]\n",
      "  [5.23674422e+02 1.00000000e+00]\n",
      "  [5.23005767e+02 2.00000000e+00]\n",
      "  ...\n",
      "  [1.37977964e+03 2.00000000e+00]\n",
      "  [1.38036719e+03 1.00000000e+00]\n",
      "  [1.38095531e+03 0.00000000e+00]]]\n"
     ]
    },
    {
     "name": "stderr",
     "output_type": "stream",
     "text": [
      "\n",
      "\n",
      "t:  61%|████████████████████████████████████████▍                         | 665/1085 [13:50<08:30,  1.22s/it, now=None]\u001b[A\u001b[A"
     ]
    },
    {
     "name": "stdout",
     "output_type": "stream",
     "text": [
      "1077.9359150113287 1954.827946239628\n",
      "1827.307754974429 m 2755.086033738751 m\n",
      "[[[5.28784566e+02 0.00000000e+00]\n",
      "  [5.28107724e+02 1.00000000e+00]\n",
      "  [5.27431810e+02 2.00000000e+00]\n",
      "  ...\n",
      "  [1.36847918e+03 2.00000000e+00]\n",
      "  [1.36903797e+03 1.00000000e+00]\n",
      "  [1.36959729e+03 0.00000000e+00]]]\n"
     ]
    },
    {
     "name": "stderr",
     "output_type": "stream",
     "text": [
      "\n",
      "\n",
      "t:  61%|████████████████████████████████████████▌                         | 666/1085 [13:51<08:28,  1.21s/it, now=None]\u001b[A\u001b[A"
     ]
    },
    {
     "name": "stdout",
     "output_type": "stream",
     "text": [
      "1065.331623993138 1535.6878749514515\n",
      "1860.6589416370591 m 2346.9259799441606 m\n",
      "[[[5.37790333e+02 0.00000000e+00]\n",
      "  [5.37090982e+02 1.00000000e+00]\n",
      "  [5.36392571e+02 2.00000000e+00]\n",
      "  ...\n",
      "  [1.37318031e+03 2.00000000e+00]\n",
      "  [1.37379053e+03 1.00000000e+00]\n",
      "  [1.37440141e+03 0.00000000e+00]]]\n"
     ]
    },
    {
     "name": "stderr",
     "output_type": "stream",
     "text": [
      "\n",
      "\n",
      "t:  61%|████████████████████████████████████████▌                         | 667/1085 [13:52<08:26,  1.21s/it, now=None]\u001b[A\u001b[A"
     ]
    },
    {
     "name": "stdout",
     "output_type": "stream",
     "text": [
      "1040.8663440840287 2154.7698851564937\n",
      "1824.7989818580481 m 2924.169669435148 m\n",
      "[[[5.32022804e+02 0.00000000e+00]\n",
      "  [5.31320595e+02 1.00000000e+00]\n",
      "  [5.30619348e+02 2.00000000e+00]\n",
      "  ...\n",
      "  [1.35811341e+03 2.00000000e+00]\n",
      "  [1.35864237e+03 1.00000000e+00]\n",
      "  [1.35917182e+03 0.00000000e+00]]]\n"
     ]
    },
    {
     "name": "stderr",
     "output_type": "stream",
     "text": [
      "\n",
      "\n",
      "t:  62%|████████████████████████████████████████▋                         | 668/1085 [13:53<08:24,  1.21s/it, now=None]\u001b[A\u001b[A"
     ]
    },
    {
     "name": "stdout",
     "output_type": "stream",
     "text": [
      "1076.6770737895895 2244.098320480804\n",
      "1803.887102556423 m 3033.896484246143 m\n",
      "[[[5.11348094e+02 0.00000000e+00]\n",
      "  [5.10679922e+02 1.00000000e+00]\n",
      "  [5.10012678e+02 2.00000000e+00]\n",
      "  ...\n",
      "  [1.36614755e+03 2.00000000e+00]\n",
      "  [1.36667916e+03 1.00000000e+00]\n",
      "  [1.36721125e+03 0.00000000e+00]]]\n"
     ]
    },
    {
     "name": "stderr",
     "output_type": "stream",
     "text": [
      "\n",
      "\n",
      "t:  62%|████████████████████████████████████████▋                         | 669/1085 [13:54<08:21,  1.20s/it, now=None]\u001b[A\u001b[A"
     ]
    },
    {
     "name": "stdout",
     "output_type": "stream",
     "text": [
      "1076.3887908967388 2213.380198935116\n",
      "1811.7950870853972 m 2992.8290989478196 m\n",
      "[[[5.10420066e+02 0.00000000e+00]\n",
      "  [5.09748466e+02 1.00000000e+00]\n",
      "  [5.09077795e+02 2.00000000e+00]\n",
      "  ...\n",
      "  [1.36272180e+03 2.00000000e+00]\n",
      "  [1.36325098e+03 1.00000000e+00]\n",
      "  [1.36378063e+03 0.00000000e+00]]]\n"
     ]
    },
    {
     "name": "stderr",
     "output_type": "stream",
     "text": [
      "\n",
      "\n",
      "t:  62%|████████████████████████████████████████▊                         | 670/1085 [13:56<08:18,  1.20s/it, now=None]\u001b[A\u001b[A"
     ]
    },
    {
     "name": "stdout",
     "output_type": "stream",
     "text": [
      "1140.5461227904311 2248.383564383048\n",
      "1846.2279964772881 m 3030.483365103288 m\n",
      "[[[4.97737196e+02 0.00000000e+00]\n",
      "  [4.97095891e+02 1.00000000e+00]\n",
      "  [4.96455463e+02 2.00000000e+00]\n",
      "  ...\n",
      "  [1.36444205e+03 2.00000000e+00]\n",
      "  [1.36496997e+03 1.00000000e+00]\n",
      "  [1.36549836e+03 0.00000000e+00]]]\n"
     ]
    },
    {
     "name": "stderr",
     "output_type": "stream",
     "text": [
      "\n",
      "\n",
      "t:  62%|████████████████████████████████████████▊                         | 671/1085 [13:57<08:23,  1.22s/it, now=None]\u001b[A\u001b[A"
     ]
    },
    {
     "name": "stdout",
     "output_type": "stream",
     "text": [
      "1171.366823336278 2151.3886910646897\n",
      "1903.107772530905 m 2952.5318975741757 m\n",
      "[[[5.00889588e+02 0.00000000e+00]\n",
      "  [5.00245320e+02 1.00000000e+00]\n",
      "  [4.99601908e+02 2.00000000e+00]\n",
      "  ...\n",
      "  [1.36810456e+03 2.00000000e+00]\n",
      "  [1.36864780e+03 1.00000000e+00]\n",
      "  [1.36919152e+03 0.00000000e+00]]]\n"
     ]
    },
    {
     "name": "stderr",
     "output_type": "stream",
     "text": [
      "\n",
      "\n",
      "t:  62%|████████████████████████████████████████▉                         | 672/1085 [13:58<08:21,  1.21s/it, now=None]\u001b[A\u001b[A"
     ]
    },
    {
     "name": "stdout",
     "output_type": "stream",
     "text": [
      "1283.3042642764926 2042.9838759126408\n",
      "2063.4393768418404 m 2833.962586730498 m\n",
      "[[[5.10907489e+02 0.00000000e+00]\n",
      "  [5.10267705e+02 1.00000000e+00]\n",
      "  [5.09628707e+02 2.00000000e+00]\n",
      "  ...\n",
      "  [1.36208284e+03 2.00000000e+00]\n",
      "  [1.36263003e+03 1.00000000e+00]\n",
      "  [1.36317774e+03 0.00000000e+00]]]\n"
     ]
    },
    {
     "name": "stderr",
     "output_type": "stream",
     "text": [
      "\n",
      "\n",
      "t:  62%|████████████████████████████████████████▉                         | 673/1085 [13:59<08:19,  1.21s/it, now=None]\u001b[A\u001b[A"
     ]
    },
    {
     "name": "stdout",
     "output_type": "stream",
     "text": [
      "1320.4275200545064 16032.610755766189\n",
      "2111.9513056793708 m 16844.867144442276 m\n",
      "[[[5.10490676e+02 0.00000000e+00]\n",
      "  [5.09853269e+02 1.00000000e+00]\n",
      "  [5.09216628e+02 2.00000000e+00]\n",
      "  ...\n",
      "  [1.34073521e+03 2.00000000e+00]\n",
      "  [1.34113129e+03 1.00000000e+00]\n",
      "  [1.34152745e+03 0.00000000e+00]]]\n"
     ]
    },
    {
     "name": "stderr",
     "output_type": "stream",
     "text": [
      "\n",
      "\n",
      "t:  62%|████████████████████████████████████████▉                         | 674/1085 [14:01<08:19,  1.21s/it, now=None]\u001b[A\u001b[A"
     ]
    },
    {
     "name": "stdout",
     "output_type": "stream",
     "text": [
      "1480.2662572045408 17706.54969088666\n",
      "2243.058038965579 m 18529.56404641894 m\n",
      "[[[4.96929217e+02 0.00000000e+00]\n",
      "  [4.96331336e+02 1.00000000e+00]\n",
      "  [4.95734143e+02 2.00000000e+00]\n",
      "  ...\n",
      "  [1.34870763e+03 2.00000000e+00]\n",
      "  [1.34910563e+03 1.00000000e+00]\n",
      "  [1.34950371e+03 0.00000000e+00]]]\n"
     ]
    },
    {
     "name": "stderr",
     "output_type": "stream",
     "text": [
      "\n",
      "\n",
      "t:  62%|█████████████████████████████████████████                         | 675/1085 [14:02<08:18,  1.21s/it, now=None]\u001b[A\u001b[A"
     ]
    },
    {
     "name": "stdout",
     "output_type": "stream",
     "text": [
      "1572.7682598120068 4646.096086658994\n",
      "2348.1819801710035 m 5468.601681268647 m\n",
      "[[[4.97629398e+02 0.00000000e+00]\n",
      "  [4.97039238e+02 1.00000000e+00]\n",
      "  [4.96449728e+02 2.00000000e+00]\n",
      "  ...\n",
      "  [1.36049246e+03 2.00000000e+00]\n",
      "  [1.36095480e+03 1.00000000e+00]\n",
      "  [1.36141739e+03 0.00000000e+00]]]\n"
     ]
    },
    {
     "name": "stderr",
     "output_type": "stream",
     "text": [
      "\n",
      "\n",
      "t:  62%|█████████████████████████████████████████                         | 676/1085 [14:03<08:16,  1.22s/it, now=None]\u001b[A\u001b[A"
     ]
    },
    {
     "name": "stdout",
     "output_type": "stream",
     "text": [
      "1601.4246508436931 2986.6755017768824\n",
      "2397.393013923377 m 3865.1624803087375 m\n",
      "[[[5.02393425e+02 0.00000000e+00]\n",
      "  [5.01798067e+02 1.00000000e+00]\n",
      "  [5.01203350e+02 2.00000000e+00]\n",
      "  ...\n",
      "  [1.37978901e+03 2.00000000e+00]\n",
      "  [1.38032019e+03 1.00000000e+00]\n",
      "  [1.38085174e+03 0.00000000e+00]]]\n"
     ]
    },
    {
     "name": "stderr",
     "output_type": "stream",
     "text": [
      "\n",
      "\n",
      "t:  62%|█████████████████████████████████████████▏                        | 677/1085 [14:04<08:15,  1.21s/it, now=None]\u001b[A\u001b[A"
     ]
    },
    {
     "name": "stdout",
     "output_type": "stream",
     "text": [
      "1684.1697332840015 7434.701548668784\n",
      "2511.8813700139317 m 8274.939569698716 m\n",
      "[[[5.10659427e+02 0.00000000e+00]\n",
      "  [5.10060420e+02 1.00000000e+00]\n",
      "  [5.09462028e+02 2.00000000e+00]\n",
      "  ...\n",
      "  [1.36233765e+03 2.00000000e+00]\n",
      "  [1.36277557e+03 1.00000000e+00]\n",
      "  [1.36321364e+03 0.00000000e+00]]]\n"
     ]
    },
    {
     "name": "stderr",
     "output_type": "stream",
     "text": [
      "\n",
      "\n",
      "t:  62%|█████████████████████████████████████████▏                        | 678/1085 [14:05<08:12,  1.21s/it, now=None]\u001b[A\u001b[A"
     ]
    },
    {
     "name": "stdout",
     "output_type": "stream",
     "text": [
      "1926.2023166444933 4887.322544932468\n",
      "2749.1396915577334 m 5755.259104643651 m\n",
      "[[[5.05985032e+02 0.00000000e+00]\n",
      "  [5.05413169e+02 1.00000000e+00]\n",
      "  [5.04841851e+02 2.00000000e+00]\n",
      "  ...\n",
      "  [1.37664990e+03 2.00000000e+00]\n",
      "  [1.37712753e+03 1.00000000e+00]\n",
      "  [1.37760540e+03 0.00000000e+00]]]\n"
     ]
    },
    {
     "name": "stderr",
     "output_type": "stream",
     "text": [
      "\n",
      "\n",
      "t:  63%|█████████████████████████████████████████▎                        | 679/1085 [14:07<08:20,  1.23s/it, now=None]\u001b[A\u001b[A"
     ]
    },
    {
     "name": "stdout",
     "output_type": "stream",
     "text": [
      "1895.217460455547 8841.10523354409\n",
      "2758.435880078825 m 9653.340091580696 m\n",
      "[[[5.18270461e+02 0.00000000e+00]\n",
      "  [5.17678136e+02 1.00000000e+00]\n",
      "  [5.17086369e+02 2.00000000e+00]\n",
      "  ...\n",
      "  [1.35984126e+03 2.00000000e+00]\n",
      "  [1.36025861e+03 1.00000000e+00]\n",
      "  [1.36067610e+03 0.00000000e+00]]]\n"
     ]
    },
    {
     "name": "stderr",
     "output_type": "stream",
     "text": [
      "\n",
      "\n",
      "t:  63%|█████████████████████████████████████████▎                        | 680/1085 [14:08<08:17,  1.23s/it, now=None]\u001b[A\u001b[A"
     ]
    },
    {
     "name": "stdout",
     "output_type": "stream",
     "text": [
      "1889.2257951472538 5479.33427733993\n",
      "2727.4850379815025 m 6305.728630591946 m\n",
      "[[[5.11496190e+02 0.00000000e+00]\n",
      "  [5.10914184e+02 1.00000000e+00]\n",
      "  [5.10332734e+02 2.00000000e+00]\n",
      "  ...\n",
      "  [1.37043562e+03 2.00000000e+00]\n",
      "  [1.37088689e+03 1.00000000e+00]\n",
      "  [1.37133837e+03 0.00000000e+00]]]\n"
     ]
    },
    {
     "name": "stderr",
     "output_type": "stream",
     "text": [
      "\n",
      "\n",
      "t:  63%|█████████████████████████████████████████▍                        | 681/1085 [14:09<08:14,  1.22s/it, now=None]\u001b[A\u001b[A"
     ]
    },
    {
     "name": "stdout",
     "output_type": "stream",
     "text": [
      "1947.6955896214497 5668.65146804113\n",
      "2774.5823133856156 m 6485.888774400221 m\n",
      "[[[5.07346683e+02 0.00000000e+00]\n",
      "  [5.06775033e+02 1.00000000e+00]\n",
      "  [5.06203922e+02 2.00000000e+00]\n",
      "  ...\n",
      "  [1.37102190e+03 2.00000000e+00]\n",
      "  [1.37146685e+03 1.00000000e+00]\n",
      "  [1.37191201e+03 0.00000000e+00]]]\n"
     ]
    },
    {
     "name": "stderr",
     "output_type": "stream",
     "text": [
      "\n",
      "\n",
      "t:  63%|█████████████████████████████████████████▍                        | 682/1085 [14:10<08:11,  1.22s/it, now=None]\u001b[A\u001b[A"
     ]
    },
    {
     "name": "stdout",
     "output_type": "stream",
     "text": [
      "2092.298816554428 2596.7613956974715\n",
      "2911.4325760828433 m 3454.9118313458325 m\n",
      "[[[5.06701885e+02 0.00000000e+00]\n",
      "  [5.06145739e+02 1.00000000e+00]\n",
      "  [5.05590099e+02 2.00000000e+00]\n",
      "  ...\n",
      "  [1.38949061e+03 2.00000000e+00]\n",
      "  [1.39003102e+03 1.00000000e+00]\n",
      "  [1.39057185e+03 0.00000000e+00]]]\n"
     ]
    },
    {
     "name": "stderr",
     "output_type": "stream",
     "text": [
      "\n",
      "\n",
      "t:  63%|█████████████████████████████████████████▌                        | 683/1085 [14:12<08:10,  1.22s/it, now=None]\u001b[A\u001b[A"
     ]
    },
    {
     "name": "stdout",
     "output_type": "stream",
     "text": [
      "1938.8833208294923 3921.149666065882\n",
      "2761.6978246648446 m 4736.373709090698 m\n",
      "[[[5.09775885e+02 0.00000000e+00]\n",
      "  [5.09205227e+02 1.00000000e+00]\n",
      "  [5.08635111e+02 2.00000000e+00]\n",
      "  ...\n",
      "  [1.37316328e+03 2.00000000e+00]\n",
      "  [1.37363761e+03 1.00000000e+00]\n",
      "  [1.37411223e+03 0.00000000e+00]]]\n"
     ]
    },
    {
     "name": "stderr",
     "output_type": "stream",
     "text": [
      "\n",
      "\n",
      "t:  63%|█████████████████████████████████████████▌                        | 684/1085 [14:13<08:07,  1.21s/it, now=None]\u001b[A\u001b[A"
     ]
    },
    {
     "name": "stdout",
     "output_type": "stream",
     "text": [
      "1990.8890291651844 6463.507927254941\n",
      "2839.829463028452 m 7235.269951737199 m\n",
      "[[[5.15921886e+02 0.00000000e+00]\n",
      "  [5.15344377e+02 1.00000000e+00]\n",
      "  [5.14767400e+02 2.00000000e+00]\n",
      "  ...\n",
      "  [1.35413700e+03 2.00000000e+00]\n",
      "  [1.35455387e+03 1.00000000e+00]\n",
      "  [1.35497092e+03 0.00000000e+00]]]\n"
     ]
    },
    {
     "name": "stderr",
     "output_type": "stream",
     "text": [
      "\n",
      "\n",
      "t:  63%|█████████████████████████████████████████▋                        | 685/1085 [14:14<08:06,  1.22s/it, now=None]\u001b[A\u001b[A"
     ]
    },
    {
     "name": "stdout",
     "output_type": "stream",
     "text": [
      "1918.430190771048 8029.211292558857\n",
      "2776.000497525672 m 8861.778781968917 m\n",
      "[[[5.21035426e+02 0.00000000e+00]\n",
      "  [5.20447718e+02 1.00000000e+00]\n",
      "  [5.19860560e+02 2.00000000e+00]\n",
      "  ...\n",
      "  [1.35977240e+03 2.00000000e+00]\n",
      "  [1.36020301e+03 1.00000000e+00]\n",
      "  [1.36063378e+03 0.00000000e+00]]]\n"
     ]
    },
    {
     "name": "stderr",
     "output_type": "stream",
     "text": [
      "\n",
      "\n",
      "t:  63%|█████████████████████████████████████████▋                        | 686/1085 [14:15<08:05,  1.22s/it, now=None]\u001b[A\u001b[A"
     ]
    },
    {
     "name": "stdout",
     "output_type": "stream",
     "text": [
      "2074.589540546862 7012.682062613792\n",
      "2923.1308055718373 m 7860.878656792618 m\n",
      "[[[5.16618667e+02 0.00000000e+00]\n",
      "  [5.16048250e+02 1.00000000e+00]\n",
      "  [5.15478344e+02 2.00000000e+00]\n",
      "  ...\n",
      "  [1.36395962e+03 2.00000000e+00]\n",
      "  [1.36440418e+03 1.00000000e+00]\n",
      "  [1.36484891e+03 0.00000000e+00]]]\n"
     ]
    },
    {
     "name": "stderr",
     "output_type": "stream",
     "text": [
      "\n",
      "\n",
      "t:  63%|█████████████████████████████████████████▊                        | 687/1085 [14:16<08:04,  1.22s/it, now=None]\u001b[A\u001b[A"
     ]
    },
    {
     "name": "stdout",
     "output_type": "stream",
     "text": [
      "1935.9787764443079 2049.6695095888012\n",
      "2786.77003343487 m 2949.9482273405574 m\n",
      "[[[5.20743834e+02 0.00000000e+00]\n",
      "  [5.20160680e+02 1.00000000e+00]\n",
      "  [5.19578072e+02 2.00000000e+00]\n",
      "  ...\n",
      "  [1.39130138e+03 2.00000000e+00]\n",
      "  [1.39189576e+03 1.00000000e+00]\n",
      "  [1.39249066e+03 0.00000000e+00]]]\n"
     ]
    },
    {
     "name": "stderr",
     "output_type": "stream",
     "text": [
      "\n",
      "\n",
      "t:  63%|█████████████████████████████████████████▊                        | 688/1085 [14:18<08:01,  1.21s/it, now=None]\u001b[A\u001b[A"
     ]
    },
    {
     "name": "stdout",
     "output_type": "stream",
     "text": [
      "1930.134642904799 1673.8539702310077\n",
      "2744.852611714437 m 2593.2923334561046 m\n",
      "[[[5.11035957e+02 0.00000000e+00]\n",
      "  [5.10468058e+02 1.00000000e+00]\n",
      "  [5.09900702e+02 2.00000000e+00]\n",
      "  ...\n",
      "  [1.40149769e+03 2.00000000e+00]\n",
      "  [1.40213700e+03 1.00000000e+00]\n",
      "  [1.40277694e+03 0.00000000e+00]]]\n"
     ]
    },
    {
     "name": "stderr",
     "output_type": "stream",
     "text": [
      "\n",
      "\n",
      "t:  64%|█████████████████████████████████████████▉                        | 689/1085 [14:19<08:01,  1.21s/it, now=None]\u001b[A\u001b[A"
     ]
    },
    {
     "name": "stdout",
     "output_type": "stream",
     "text": [
      "1891.3447947922014 1694.6940932748007\n",
      "2693.115612470113 m 2647.0925789131115 m\n",
      "[[[5.07380903e+02 0.00000000e+00]\n",
      "  [5.06815091e+02 1.00000000e+00]\n",
      "  [5.06249832e+02 2.00000000e+00]\n",
      "  ...\n",
      "  [1.40875830e+03 2.00000000e+00]\n",
      "  [1.40940931e+03 1.00000000e+00]\n",
      "  [1.41006095e+03 0.00000000e+00]]]\n"
     ]
    },
    {
     "name": "stderr",
     "output_type": "stream",
     "text": [
      "\n",
      "\n",
      "t:  64%|█████████████████████████████████████████▉                        | 690/1085 [14:20<07:59,  1.21s/it, now=None]\u001b[A\u001b[A"
     ]
    },
    {
     "name": "stdout",
     "output_type": "stream",
     "text": [
      "1820.0560307680526 1178.4035254936\n",
      "2578.5215284396977 m 2214.0341284657216 m\n",
      "[[[4.95625553e+02 0.00000000e+00]\n",
      "  [4.95071832e+02 1.00000000e+00]\n",
      "  [4.94518678e+02 2.00000000e+00]\n",
      "  ...\n",
      "  [1.43732015e+03 2.00000000e+00]\n",
      "  [1.43808869e+03 1.00000000e+00]\n",
      "  [1.43885811e+03 0.00000000e+00]]]\n"
     ]
    },
    {
     "name": "stderr",
     "output_type": "stream",
     "text": [
      "\n",
      "\n",
      "t:  64%|██████████████████████████████████████████                        | 691/1085 [14:21<07:57,  1.21s/it, now=None]\u001b[A\u001b[A"
     ]
    },
    {
     "name": "stdout",
     "output_type": "stream",
     "text": [
      "1836.6305221444075 1344.072091850423\n",
      "2549.7248868225383 m 2386.5613031718585 m\n",
      "[[[4.81060966e+02 0.00000000e+00]\n",
      "  [4.80529051e+02 1.00000000e+00]\n",
      "  [4.79997694e+02 2.00000000e+00]\n",
      "  ...\n",
      "  [1.43919794e+03 2.00000000e+00]\n",
      "  [1.43993659e+03 1.00000000e+00]\n",
      "  [1.44067602e+03 0.00000000e+00]]]\n"
     ]
    },
    {
     "name": "stderr",
     "output_type": "stream",
     "text": [
      "\n",
      "\n",
      "t:  64%|██████████████████████████████████████████                        | 692/1085 [14:22<07:58,  1.22s/it, now=None]\u001b[A\u001b[A"
     ]
    },
    {
     "name": "stdout",
     "output_type": "stream",
     "text": [
      "1900.5930708957712 2007.6830597576286\n",
      "2634.81052359322 m 2933.6242220746367 m\n",
      "[[[4.87725965e+02 0.00000000e+00]\n",
      "  [4.87190889e+02 1.00000000e+00]\n",
      "  [4.86656355e+02 2.00000000e+00]\n",
      "  ...\n",
      "  [1.40429583e+03 2.00000000e+00]\n",
      "  [1.40490474e+03 1.00000000e+00]\n",
      "  [1.40551419e+03 0.00000000e+00]]]\n"
     ]
    },
    {
     "name": "stderr",
     "output_type": "stream",
     "text": [
      "\n",
      "\n",
      "t:  64%|██████████████████████████████████████████▏                       | 693/1085 [14:24<07:58,  1.22s/it, now=None]\u001b[A\u001b[A"
     ]
    },
    {
     "name": "stdout",
     "output_type": "stream",
     "text": [
      "2049.7155732612555 1664.4638608492182\n",
      "2719.529850858577 m 2669.359592173347 m\n",
      "[[[4.67522628e+02 0.00000000e+00]\n",
      "  [4.67029452e+02 1.00000000e+00]\n",
      "  [4.66536776e+02 2.00000000e+00]\n",
      "  ...\n",
      "  [1.42863578e+03 2.00000000e+00]\n",
      "  [1.42931264e+03 1.00000000e+00]\n",
      "  [1.42999014e+03 0.00000000e+00]]]\n"
     ]
    },
    {
     "name": "stderr",
     "output_type": "stream",
     "text": [
      "\n",
      "\n",
      "t:  64%|██████████████████████████████████████████▏                       | 694/1085 [14:25<08:33,  1.31s/it, now=None]\u001b[A\u001b[A"
     ]
    },
    {
     "name": "stdout",
     "output_type": "stream",
     "text": [
      "1705.0499781744038 1455.2046218446371\n",
      "2416.095229946685 m 2460.1127262713962 m\n",
      "[[[4.82801833e+02 0.00000000e+00]\n",
      "  [4.82256580e+02 1.00000000e+00]\n",
      "  [4.81711925e+02 2.00000000e+00]\n",
      "  ...\n",
      "  [1.43153208e+03 2.00000000e+00]\n",
      "  [1.43223692e+03 1.00000000e+00]\n",
      "  [1.43294248e+03 0.00000000e+00]]]\n"
     ]
    },
    {
     "name": "stderr",
     "output_type": "stream",
     "text": [
      "\n",
      "\n",
      "t:  64%|██████████████████████████████████████████▎                       | 695/1085 [14:27<09:00,  1.39s/it, now=None]\u001b[A\u001b[A"
     ]
    },
    {
     "name": "stdout",
     "output_type": "stream",
     "text": [
      "1703.107397203223 1866.7273796739803\n",
      "2435.5950342673323 m 2820.2401049092005 m\n",
      "[[[4.90692280e+02 0.00000000e+00]\n",
      "  [4.90137308e+02 1.00000000e+00]\n",
      "  [4.89582938e+02 2.00000000e+00]\n",
      "  ...\n",
      "  [1.41171045e+03 2.00000000e+00]\n",
      "  [1.41234388e+03 1.00000000e+00]\n",
      "  [1.41297788e+03 0.00000000e+00]]]\n"
     ]
    },
    {
     "name": "stderr",
     "output_type": "stream",
     "text": [
      "\n",
      "\n",
      "t:  64%|██████████████████████████████████████████▎                       | 696/1085 [14:28<08:59,  1.39s/it, now=None]\u001b[A\u001b[A"
     ]
    },
    {
     "name": "stdout",
     "output_type": "stream",
     "text": [
      "1656.6694773652625 2977.581605642803\n",
      "2393.8058061538763 m 3928.7805179280813 m\n",
      "[[[4.90408624e+02 0.00000000e+00]\n",
      "  [4.89846057e+02 1.00000000e+00]\n",
      "  [4.89284107e+02 2.00000000e+00]\n",
      "  ...\n",
      "  [1.40264812e+03 2.00000000e+00]\n",
      "  [1.40321075e+03 1.00000000e+00]\n",
      "  [1.40377376e+03 0.00000000e+00]]]\n"
     ]
    },
    {
     "name": "stderr",
     "output_type": "stream",
     "text": [
      "\n",
      "\n",
      "t:  64%|██████████████████████████████████████████▍                       | 697/1085 [14:29<08:39,  1.34s/it, now=None]\u001b[A\u001b[A"
     ]
    },
    {
     "name": "stdout",
     "output_type": "stream",
     "text": [
      "1650.4687236265602 6124.037935278533\n",
      "2402.613717968597 m 5232.63141518624 m\n",
      "[[[4.95737876e+02 0.00000000e+00]\n",
      "  [4.95167934e+02 1.00000000e+00]\n",
      "  [4.94598613e+02 2.00000000e+00]\n",
      "  ...\n",
      "  [1.35412664e+03 2.00000000e+00]\n",
      "  [1.35444341e+03 1.00000000e+00]\n",
      "  [1.35475996e+03 0.00000000e+00]]]\n"
     ]
    },
    {
     "name": "stderr",
     "output_type": "stream",
     "text": [
      "\n",
      "\n",
      "t:  64%|██████████████████████████████████████████▍                       | 698/1085 [14:31<08:24,  1.30s/it, now=None]\u001b[A\u001b[A"
     ]
    },
    {
     "name": "stdout",
     "output_type": "stream",
     "text": [
      "1660.2866071892865 9027.97397750307\n",
      "2364.7185989241225 m 8132.855805028726 m\n",
      "[[[4.80529505e+02 0.00000000e+00]\n",
      "  [4.79981834e+02 1.00000000e+00]\n",
      "  [4.79434775e+02 2.00000000e+00]\n",
      "  ...\n",
      "  [1.36603857e+03 2.00000000e+00]\n",
      "  [1.36638541e+03 1.00000000e+00]\n",
      "  [1.36673211e+03 0.00000000e+00]]]\n"
     ]
    },
    {
     "name": "stderr",
     "output_type": "stream",
     "text": [
      "\n",
      "\n",
      "t:  64%|██████████████████████████████████████████▌                       | 699/1085 [14:32<08:30,  1.32s/it, now=None]\u001b[A\u001b[A"
     ]
    },
    {
     "name": "stdout",
     "output_type": "stream",
     "text": [
      "1535.197107145685 15199.004278024451\n",
      "2256.4438831917446 m 14309.678635481716 m\n",
      "[[[4.85750505e+02 0.00000000e+00]\n",
      "  [4.85178878e+02 1.00000000e+00]\n",
      "  [4.84607912e+02 2.00000000e+00]\n",
      "  ...\n",
      "  [1.36925193e+03 2.00000000e+00]\n",
      "  [1.36961972e+03 1.00000000e+00]\n",
      "  [1.36998743e+03 0.00000000e+00]]]\n"
     ]
    },
    {
     "name": "stderr",
     "output_type": "stream",
     "text": [
      "\n",
      "\n",
      "t:  65%|██████████████████████████████████████████▌                       | 700/1085 [14:33<08:38,  1.35s/it, now=None]\u001b[A\u001b[A"
     ]
    },
    {
     "name": "stdout",
     "output_type": "stream",
     "text": [
      "1580.4732489507255 34621.84208898196\n",
      "2275.2236688729045 m 33734.83687559661 m\n",
      "[[[4.76141199e+02 0.00000000e+00]\n",
      "  [4.75587523e+02 1.00000000e+00]\n",
      "  [4.75034489e+02 2.00000000e+00]\n",
      "  ...\n",
      "  [1.37578349e+03 2.00000000e+00]\n",
      "  [1.37616845e+03 1.00000000e+00]\n",
      "  [1.37655337e+03 0.00000000e+00]]]\n"
     ]
    },
    {
     "name": "stderr",
     "output_type": "stream",
     "text": [
      "\n",
      "\n",
      "t:  65%|██████████████████████████████████████████▋                       | 701/1085 [14:35<08:29,  1.33s/it, now=None]\u001b[A\u001b[A"
     ]
    },
    {
     "name": "stdout",
     "output_type": "stream",
     "text": [
      "1468.8737739481098 6592.829332137996\n",
      "2179.6303848318157 m 5723.084294377249 m\n",
      "[[[4.82076510e+02 0.00000000e+00]\n",
      "  [4.81499588e+02 1.00000000e+00]\n",
      "  [4.80923353e+02 2.00000000e+00]\n",
      "  ...\n",
      "  [1.36387390e+03 2.00000000e+00]\n",
      "  [1.36418945e+03 1.00000000e+00]\n",
      "  [1.36450479e+03 0.00000000e+00]]]\n"
     ]
    },
    {
     "name": "stderr",
     "output_type": "stream",
     "text": [
      "\n",
      "\n",
      "t:  65%|██████████████████████████████████████████▋                       | 702/1085 [14:36<08:25,  1.32s/it, now=None]\u001b[A\u001b[A"
     ]
    },
    {
     "name": "stdout",
     "output_type": "stream",
     "text": [
      "1419.0198951662846 3876.8322674803107\n",
      "2190.1800599899702 m 4859.337027665582 m\n",
      "[[[5.00829163e+02 0.00000000e+00]\n",
      "  [5.00217954e+02 1.00000000e+00]\n",
      "  [4.99607460e+02 2.00000000e+00]\n",
      "  ...\n",
      "  [1.41241786e+03 2.00000000e+00]\n",
      "  [1.41296436e+03 1.00000000e+00]\n",
      "  [1.41351116e+03 0.00000000e+00]]]\n"
     ]
    },
    {
     "name": "stderr",
     "output_type": "stream",
     "text": [
      "\n",
      "\n",
      "t:  65%|██████████████████████████████████████████▊                       | 703/1085 [14:37<08:28,  1.33s/it, now=None]\u001b[A\u001b[A"
     ]
    },
    {
     "name": "stdout",
     "output_type": "stream",
     "text": [
      "1393.5433795610966 1857.4708090198114\n",
      "2138.3023312086348 m 2950.279460733345 m\n",
      "[[[4.93099648e+02 0.00000000e+00]\n",
      "  [4.92495589e+02 1.00000000e+00]\n",
      "  [4.91892256e+02 2.00000000e+00]\n",
      "  ...\n",
      "  [1.44997293e+03 2.00000000e+00]\n",
      "  [1.45066603e+03 1.00000000e+00]\n",
      "  [1.45135972e+03 0.00000000e+00]]]\n"
     ]
    },
    {
     "name": "stderr",
     "output_type": "stream",
     "text": [
      "\n",
      "\n",
      "t:  65%|██████████████████████████████████████████▊                       | 704/1085 [14:39<08:13,  1.30s/it, now=None]\u001b[A\u001b[A"
     ]
    },
    {
     "name": "stdout",
     "output_type": "stream",
     "text": [
      "1487.1726482478746 1805.7487324682202\n",
      "2225.682511475701 m 2930.7204423164662 m\n",
      "[[[4.88886456e+02 0.00000000e+00]\n",
      "  [4.88300217e+02 1.00000000e+00]\n",
      "  [4.87714659e+02 2.00000000e+00]\n",
      "  ...\n",
      "  [1.45958373e+03 2.00000000e+00]\n",
      "  [1.46029533e+03 1.00000000e+00]\n",
      "  [1.46100754e+03 0.00000000e+00]]]\n"
     ]
    },
    {
     "name": "stderr",
     "output_type": "stream",
     "text": [
      "\n",
      "\n",
      "t:  65%|██████████████████████████████████████████▉                       | 705/1085 [14:40<08:21,  1.32s/it, now=None]\u001b[A\u001b[A"
     ]
    },
    {
     "name": "stdout",
     "output_type": "stream",
     "text": [
      "1492.8181342845132 1676.1960754502986\n",
      "2262.6019121506642 m 2778.9592987798105 m\n",
      "[[[4.99007930e+02 0.00000000e+00]\n",
      "  [4.98408893e+02 1.00000000e+00]\n",
      "  [4.97810539e+02 2.00000000e+00]\n",
      "  ...\n",
      "  [1.45785920e+03 2.00000000e+00]\n",
      "  [1.45857572e+03 1.00000000e+00]\n",
      "  [1.45929290e+03 0.00000000e+00]]]\n"
     ]
    },
    {
     "name": "stderr",
     "output_type": "stream",
     "text": [
      "\n",
      "\n",
      "t:  65%|██████████████████████████████████████████▉                       | 706/1085 [14:41<08:09,  1.29s/it, now=None]\u001b[A\u001b[A"
     ]
    },
    {
     "name": "stdout",
     "output_type": "stream",
     "text": [
      "1422.7444772763085 2294.92181519253\n",
      "2198.4435514104325 m 3246.686431418037 m\n",
      "[[[5.01727507e+02 0.00000000e+00]\n",
      "  [5.01114943e+02 1.00000000e+00]\n",
      "  [5.00503093e+02 2.00000000e+00]\n",
      "  ...\n",
      "  [1.42284235e+03 2.00000000e+00]\n",
      "  [1.42344089e+03 1.00000000e+00]\n",
      "  [1.42403992e+03 0.00000000e+00]]]\n"
     ]
    },
    {
     "name": "stderr",
     "output_type": "stream",
     "text": [
      "\n",
      "\n",
      "t:  65%|███████████████████████████████████████████                       | 707/1085 [14:42<08:12,  1.30s/it, now=None]\u001b[A\u001b[A"
     ]
    },
    {
     "name": "stdout",
     "output_type": "stream",
     "text": [
      "1526.4852799496964 3641.02319688153\n",
      "2321.7549447226634 m 4538.206739811896 m\n",
      "[[[5.05405100e+02 0.00000000e+00]\n",
      "  [5.04799868e+02 1.00000000e+00]\n",
      "  [5.04195305e+02 2.00000000e+00]\n",
      "  ...\n",
      "  [1.40225730e+03 2.00000000e+00]\n",
      "  [1.40277425e+03 1.00000000e+00]\n",
      "  [1.40329151e+03 0.00000000e+00]]]\n"
     ]
    },
    {
     "name": "stderr",
     "output_type": "stream",
     "text": [
      "\n",
      "\n",
      "t:  65%|███████████████████████████████████████████                       | 708/1085 [14:44<08:02,  1.28s/it, now=None]\u001b[A\u001b[A"
     ]
    },
    {
     "name": "stdout",
     "output_type": "stream",
     "text": [
      "1646.4117958727984 4929.798898748274\n",
      "2398.4511885695633 m 4076.5908820638974 m\n",
      "[[[4.88609906e+02 0.00000000e+00]\n",
      "  [4.88039510e+02 1.00000000e+00]\n",
      "  [4.87469736e+02 2.00000000e+00]\n",
      "  ...\n",
      "  [1.36114976e+03 2.00000000e+00]\n",
      "  [1.36143049e+03 1.00000000e+00]\n",
      "  [1.36171094e+03 0.00000000e+00]]]\n"
     ]
    },
    {
     "name": "stderr",
     "output_type": "stream",
     "text": [
      "\n",
      "\n",
      "t:  65%|███████████████████████████████████████████▏                      | 709/1085 [14:45<08:22,  1.34s/it, now=None]\u001b[A\u001b[A"
     ]
    },
    {
     "name": "stdout",
     "output_type": "stream",
     "text": [
      "1717.7934676127263 2171.075872957929\n",
      "2502.4739547730887 m 1400.6064812171344 m\n",
      "[[[4.96359642e+02 0.00000000e+00]\n",
      "  [4.95783356e+02 1.00000000e+00]\n",
      "  [4.95207669e+02 2.00000000e+00]\n",
      "  ...\n",
      "  [1.31075677e+03 2.00000000e+00]\n",
      "  [1.31083033e+03 1.00000000e+00]\n",
      "  [1.31090318e+03 0.00000000e+00]]]\n"
     ]
    },
    {
     "name": "stderr",
     "output_type": "stream",
     "text": [
      "\n",
      "\n",
      "t:  65%|███████████████████████████████████████████▏                      | 710/1085 [14:47<08:21,  1.34s/it, now=None]\u001b[A\u001b[A"
     ]
    },
    {
     "name": "stdout",
     "output_type": "stream",
     "text": [
      "1827.7755211611966 8517.757391889956\n",
      "2637.9111355272007 m 7725.292093125152 m\n",
      "[[[5.03622680e+02 0.00000000e+00]\n",
      "  [5.03046986e+02 1.00000000e+00]\n",
      "  [5.02471862e+02 2.00000000e+00]\n",
      "  ...\n",
      "  [1.34698352e+03 2.00000000e+00]\n",
      "  [1.34728843e+03 1.00000000e+00]\n",
      "  [1.34759319e+03 0.00000000e+00]]]\n"
     ]
    },
    {
     "name": "stderr",
     "output_type": "stream",
     "text": [
      "\n",
      "\n",
      "t:  66%|███████████████████████████████████████████▏                      | 711/1085 [14:48<08:16,  1.33s/it, now=None]\u001b[A\u001b[A"
     ]
    },
    {
     "name": "stdout",
     "output_type": "stream",
     "text": [
      "2174.3641884222566 7625.178329043027\n",
      "3011.9668806571326 m 6853.79533022304 m\n",
      "[[[5.07820472e+02 0.00000000e+00]\n",
      "  [5.07262436e+02 1.00000000e+00]\n",
      "  [5.06704890e+02 2.00000000e+00]\n",
      "  ...\n",
      "  [1.34450922e+03 2.00000000e+00]\n",
      "  [1.34479913e+03 1.00000000e+00]\n",
      "  [1.34508886e+03 0.00000000e+00]]]\n"
     ]
    },
    {
     "name": "stderr",
     "output_type": "stream",
     "text": [
      "\n",
      "\n",
      "t:  66%|███████████████████████████████████████████▎                      | 712/1085 [14:49<08:02,  1.29s/it, now=None]\u001b[A\u001b[A"
     ]
    },
    {
     "name": "stdout",
     "output_type": "stream",
     "text": [
      "2494.3631653835914 2841.320053774828\n",
      "3389.233445374499 m 3709.7494570402964 m\n",
      "[[[5.24858334e+02 0.00000000e+00]\n",
      "  [5.24295993e+02 1.00000000e+00]\n",
      "  [5.23734090e+02 2.00000000e+00]\n",
      "  ...\n",
      "  [1.38883476e+03 2.00000000e+00]\n",
      "  [1.38936779e+03 1.00000000e+00]\n",
      "  [1.38990121e+03 0.00000000e+00]]]\n"
     ]
    },
    {
     "name": "stderr",
     "output_type": "stream",
     "text": [
      "\n",
      "\n",
      "t:  66%|███████████████████████████████████████████▎                      | 713/1085 [14:50<07:50,  1.26s/it, now=None]\u001b[A\u001b[A"
     ]
    },
    {
     "name": "stdout",
     "output_type": "stream",
     "text": [
      "2868.0957468382608 3113.3878168801816\n",
      "3733.96352065247 m 3966.7670533531755 m\n",
      "[[[5.15941082e+02 0.00000000e+00]\n",
      "  [5.15409958e+02 1.00000000e+00]\n",
      "  [5.14879218e+02 2.00000000e+00]\n",
      "  ...\n",
      "  [1.38550302e+03 2.00000000e+00]\n",
      "  [1.38601840e+03 1.00000000e+00]\n",
      "  [1.38653412e+03 0.00000000e+00]]]\n"
     ]
    },
    {
     "name": "stderr",
     "output_type": "stream",
     "text": [
      "\n",
      "\n",
      "t:  66%|███████████████████████████████████████████▍                      | 714/1085 [14:51<07:41,  1.24s/it, now=None]\u001b[A\u001b[A"
     ]
    },
    {
     "name": "stdout",
     "output_type": "stream",
     "text": [
      "2933.755874977749 2231.55662607201\n",
      "3824.2876597092004 m 3102.5386986072035 m\n",
      "[[[5.23761427e+02 0.00000000e+00]\n",
      "  [5.23222489e+02 1.00000000e+00]\n",
      "  [5.22683929e+02 2.00000000e+00]\n",
      "  ...\n",
      "  [1.39146566e+03 2.00000000e+00]\n",
      "  [1.39203370e+03 1.00000000e+00]\n",
      "  [1.39260221e+03 0.00000000e+00]]]\n"
     ]
    },
    {
     "name": "stderr",
     "output_type": "stream",
     "text": [
      "\n",
      "\n",
      "t:  66%|███████████████████████████████████████████▍                      | 715/1085 [14:53<07:37,  1.24s/it, now=None]\u001b[A\u001b[A"
     ]
    },
    {
     "name": "stdout",
     "output_type": "stream",
     "text": [
      "2938.9505689059074 3336.991065443549\n",
      "3824.704124079246 m 4124.183774032822 m\n",
      "[[[5.24766404e+02 0.00000000e+00]\n",
      "  [5.24229741e+02 1.00000000e+00]\n",
      "  [5.23693456e+02 2.00000000e+00]\n",
      "  ...\n",
      "  [1.36619967e+03 2.00000000e+00]\n",
      "  [1.36667833e+03 1.00000000e+00]\n",
      "  [1.36715732e+03 0.00000000e+00]]]\n"
     ]
    },
    {
     "name": "stderr",
     "output_type": "stream",
     "text": [
      "\n",
      "\n",
      "t:  66%|███████████████████████████████████████████▌                      | 716/1085 [14:54<07:33,  1.23s/it, now=None]\u001b[A\u001b[A"
     ]
    },
    {
     "name": "stdout",
     "output_type": "stream",
     "text": [
      "2973.9629663945643 5850.038604788217\n",
      "3806.4588539067017 m 6598.17719057037 m\n",
      "[[[5.10264526e+02 0.00000000e+00]\n",
      "  [5.09752388e+02 1.00000000e+00]\n",
      "  [5.09240618e+02 2.00000000e+00]\n",
      "  ...\n",
      "  [1.35548570e+03 2.00000000e+00]\n",
      "  [1.35589871e+03 1.00000000e+00]\n",
      "  [1.35631191e+03 0.00000000e+00]]]\n"
     ]
    },
    {
     "name": "stderr",
     "output_type": "stream",
     "text": [
      "\n",
      "\n",
      "t:  66%|███████████████████████████████████████████▌                      | 717/1085 [14:55<07:32,  1.23s/it, now=None]\u001b[A\u001b[A"
     ]
    },
    {
     "name": "stdout",
     "output_type": "stream",
     "text": [
      "3098.5120320812525 2785.4565377937647\n",
      "3895.244749846157 m 3594.8490635475405 m\n",
      "[[[5.01112570e+02 0.00000000e+00]\n",
      "  [5.00620975e+02 1.00000000e+00]\n",
      "  [5.00129731e+02 2.00000000e+00]\n",
      "  ...\n",
      "  [1.37914524e+03 2.00000000e+00]\n",
      "  [1.37965509e+03 1.00000000e+00]\n",
      "  [1.38016532e+03 0.00000000e+00]]]\n"
     ]
    },
    {
     "name": "stderr",
     "output_type": "stream",
     "text": [
      "\n",
      "\n",
      "t:  66%|███████████████████████████████████████████▋                      | 718/1085 [14:56<07:29,  1.22s/it, now=None]\u001b[A\u001b[A"
     ]
    },
    {
     "name": "stdout",
     "output_type": "stream",
     "text": [
      "2813.4407137216454 6751.865384613432\n",
      "3566.625016687649 m 7488.096031121881 m\n",
      "[[[4.92086663e+02 0.00000000e+00]\n",
      "  [4.91602506e+02 1.00000000e+00]\n",
      "  [4.91118729e+02 2.00000000e+00]\n",
      "  ...\n",
      "  [1.35627367e+03 2.00000000e+00]\n",
      "  [1.35667256e+03 1.00000000e+00]\n",
      "  [1.35707161e+03 0.00000000e+00]]]\n"
     ]
    },
    {
     "name": "stderr",
     "output_type": "stream",
     "text": [
      "\n",
      "\n",
      "t:  66%|███████████████████████████████████████████▋                      | 719/1085 [14:58<07:43,  1.27s/it, now=None]\u001b[A\u001b[A"
     ]
    },
    {
     "name": "stdout",
     "output_type": "stream",
     "text": [
      "2870.9862683519955 8162.2081714497135\n",
      "3632.6760821620933 m 8907.934329528918 m\n",
      "[[[4.95841595e+02 0.00000000e+00]\n",
      "  [4.95356218e+02 1.00000000e+00]\n",
      "  [4.94871214e+02 2.00000000e+00]\n",
      "  ...\n",
      "  [1.35524508e+03 2.00000000e+00]\n",
      "  [1.35563790e+03 1.00000000e+00]\n",
      "  [1.35603086e+03 0.00000000e+00]]]\n"
     ]
    },
    {
     "name": "stderr",
     "output_type": "stream",
     "text": [
      "\n",
      "\n",
      "t:  66%|███████████████████████████████████████████▊                      | 720/1085 [14:59<07:37,  1.25s/it, now=None]\u001b[A\u001b[A"
     ]
    },
    {
     "name": "stdout",
     "output_type": "stream",
     "text": [
      "2719.256882452856 2386.8015112124326\n",
      "3486.3643656226286 m 1629.9942097890541 m\n",
      "[[[4.99794502e+02 0.00000000e+00]\n",
      "  [4.99299784e+02 1.00000000e+00]\n",
      "  [4.98805459e+02 2.00000000e+00]\n",
      "  ...\n",
      "  [1.30460917e+03 2.00000000e+00]\n",
      "  [1.30471491e+03 1.00000000e+00]\n",
      "  [1.30482003e+03 0.00000000e+00]]]\n"
     ]
    },
    {
     "name": "stderr",
     "output_type": "stream",
     "text": [
      "\n",
      "\n",
      "t:  66%|███████████████████████████████████████████▊                      | 721/1085 [15:00<07:51,  1.29s/it, now=None]\u001b[A\u001b[A"
     ]
    },
    {
     "name": "stdout",
     "output_type": "stream",
     "text": [
      "2743.954150599016 3170.3378793291477\n",
      "3539.8642262127714 m 2444.894224355893 m\n",
      "[[[5.10904044e+02 0.00000000e+00]\n",
      "  [5.10397793e+02 1.00000000e+00]\n",
      "  [5.09891934e+02 2.00000000e+00]\n",
      "  ...\n",
      "  [1.31171870e+03 2.00000000e+00]\n",
      "  [1.31188860e+03 1.00000000e+00]\n",
      "  [1.31205808e+03 0.00000000e+00]]]\n"
     ]
    },
    {
     "name": "stderr",
     "output_type": "stream",
     "text": [
      "\n",
      "\n",
      "t:  67%|███████████████████████████████████████████▉                      | 722/1085 [15:02<08:07,  1.34s/it, now=None]\u001b[A\u001b[A"
     ]
    },
    {
     "name": "stdout",
     "output_type": "stream",
     "text": [
      "2424.0888796146037 11058.153290309572\n",
      "3234.3557323975865 m 10323.87558560627 m\n",
      "[[[5.19948136e+02 0.00000000e+00]\n",
      "  [5.19418562e+02 1.00000000e+00]\n",
      "  [5.18889429e+02 2.00000000e+00]\n",
      "  ...\n",
      "  [1.33516917e+03 2.00000000e+00]\n",
      "  [1.33546457e+03 1.00000000e+00]\n",
      "  [1.33575986e+03 0.00000000e+00]]]\n"
     ]
    },
    {
     "name": "stderr",
     "output_type": "stream",
     "text": [
      "\n",
      "\n",
      "t:  67%|███████████████████████████████████████████▉                      | 723/1085 [15:03<07:52,  1.31s/it, now=None]\u001b[A\u001b[A"
     ]
    },
    {
     "name": "stdout",
     "output_type": "stream",
     "text": [
      "2420.885448945112 6150.102464622343\n",
      "3202.34434069099 m 5423.143621325388 m\n",
      "[[[5.12724401e+02 0.00000000e+00]\n",
      "  [5.12207335e+02 1.00000000e+00]\n",
      "  [5.11690707e+02 2.00000000e+00]\n",
      "  ...\n",
      "  [1.33266267e+03 2.00000000e+00]\n",
      "  [1.33291960e+03 1.00000000e+00]\n",
      "  [1.33317634e+03 0.00000000e+00]]]\n"
     ]
    },
    {
     "name": "stderr",
     "output_type": "stream",
     "text": [
      "\n",
      "\n",
      "t:  67%|████████████████████████████████████████████                      | 724/1085 [15:04<07:45,  1.29s/it, now=None]\u001b[A\u001b[A"
     ]
    },
    {
     "name": "stdout",
     "output_type": "stream",
     "text": [
      "2484.524732853549 3582.62265187093\n",
      "3256.1099919606263 m 2852.8482099542557 m\n",
      "[[[5.11444496e+02 0.00000000e+00]\n",
      "  [5.10935510e+02 1.00000000e+00]\n",
      "  [5.10426951e+02 2.00000000e+00]\n",
      "  ...\n",
      "  [1.32437429e+03 2.00000000e+00]\n",
      "  [1.32456791e+03 1.00000000e+00]\n",
      "  [1.32476115e+03 0.00000000e+00]]]\n"
     ]
    },
    {
     "name": "stderr",
     "output_type": "stream",
     "text": [
      "\n",
      "\n",
      "t:  67%|████████████████████████████████████████████                      | 725/1085 [15:06<08:22,  1.40s/it, now=None]\u001b[A\u001b[A"
     ]
    },
    {
     "name": "stdout",
     "output_type": "stream",
     "text": [
      "2660.698004000069 10258.162089553987\n",
      "3405.4642563727643 m 9520.126670805508 m\n",
      "[[[5.04179139e+02 0.00000000e+00]\n",
      "  [5.03691462e+02 1.00000000e+00]\n",
      "  [5.03204184e+02 2.00000000e+00]\n",
      "  ...\n",
      "  [1.34260530e+03 2.00000000e+00]\n",
      "  [1.34289882e+03 1.00000000e+00]\n",
      "  [1.34319222e+03 0.00000000e+00]]]\n"
     ]
    },
    {
     "name": "stderr",
     "output_type": "stream",
     "text": [
      "\n",
      "\n",
      "t:  67%|████████████████████████████████████████████▏                     | 726/1085 [15:07<08:25,  1.41s/it, now=None]\u001b[A\u001b[A"
     ]
    },
    {
     "name": "stdout",
     "output_type": "stream",
     "text": [
      "2746.6274732525935 13754.22631845199\n",
      "3510.8027250974196 m 14516.643949930723 m\n",
      "[[[5.10844550e+02 0.00000000e+00]\n",
      "  [5.10352436e+02 1.00000000e+00]\n",
      "  [5.09860710e+02 2.00000000e+00]\n",
      "  ...\n",
      "  [1.35670634e+03 2.00000000e+00]\n",
      "  [1.35708590e+03 1.00000000e+00]\n",
      "  [1.35746554e+03 0.00000000e+00]]]\n"
     ]
    },
    {
     "name": "stderr",
     "output_type": "stream",
     "text": [
      "\n",
      "\n",
      "t:  67%|████████████████████████████████████████████▏                     | 727/1085 [15:09<08:14,  1.38s/it, now=None]\u001b[A\u001b[A"
     ]
    },
    {
     "name": "stdout",
     "output_type": "stream",
     "text": [
      "2286.930572728385 3772.35720244456\n",
      "3091.017953509576 m 4539.781419826443 m\n",
      "[[[5.26616848e+02 0.00000000e+00]\n",
      "  [5.26081359e+02 1.00000000e+00]\n",
      "  [5.25546334e+02 2.00000000e+00]\n",
      "  ...\n",
      "  [1.36421860e+03 2.00000000e+00]\n",
      "  [1.36467583e+03 1.00000000e+00]\n",
      "  [1.36513336e+03 0.00000000e+00]]]\n"
     ]
    },
    {
     "name": "stderr",
     "output_type": "stream",
     "text": [
      "\n",
      "\n",
      "t:  67%|████████████████████████████████████████████▎                     | 728/1085 [15:10<07:54,  1.33s/it, now=None]\u001b[A\u001b[A"
     ]
    },
    {
     "name": "stdout",
     "output_type": "stream",
     "text": [
      "2350.2912076418907 3261.8081775978035\n",
      "3108.4182979856723 m 4040.6220844914665 m\n",
      "[[[5.13140868e+02 0.00000000e+00]\n",
      "  [5.12629804e+02 1.00000000e+00]\n",
      "  [5.12119188e+02 2.00000000e+00]\n",
      "  ...\n",
      "  [1.37198332e+03 2.00000000e+00]\n",
      "  [1.37246083e+03 1.00000000e+00]\n",
      "  [1.37293866e+03 0.00000000e+00]]]\n"
     ]
    },
    {
     "name": "stderr",
     "output_type": "stream",
     "text": [
      "\n",
      "\n",
      "t:  67%|████████████████████████████████████████████▎                     | 729/1085 [15:11<07:50,  1.32s/it, now=None]\u001b[A\u001b[A"
     ]
    },
    {
     "name": "stdout",
     "output_type": "stream",
     "text": [
      "2092.700939802497 4568.488736847717\n",
      "2819.890682087389 m 5302.2122210549915 m\n",
      "[[[5.08703144e+02 0.00000000e+00]\n",
      "  [5.08187721e+02 1.00000000e+00]\n",
      "  [5.07672795e+02 2.00000000e+00]\n",
      "  ...\n",
      "  [1.35822216e+03 2.00000000e+00]\n",
      "  [1.35864727e+03 1.00000000e+00]\n",
      "  [1.35907261e+03 0.00000000e+00]]]\n"
     ]
    },
    {
     "name": "stderr",
     "output_type": "stream",
     "text": [
      "\n",
      "\n",
      "t:  67%|████████████████████████████████████████████▍                     | 730/1085 [15:12<07:39,  1.29s/it, now=None]\u001b[A\u001b[A"
     ]
    },
    {
     "name": "stdout",
     "output_type": "stream",
     "text": [
      "1944.6874676257294 3509.099723129188\n",
      "2628.1534964673624 m 4260.940578983603 m\n",
      "[[[4.97359627e+02 0.00000000e+00]\n",
      "  [4.96851267e+02 1.00000000e+00]\n",
      "  [4.96343435e+02 2.00000000e+00]\n",
      "  ...\n",
      "  [1.36747591e+03 2.00000000e+00]\n",
      "  [1.36793362e+03 1.00000000e+00]\n",
      "  [1.36839164e+03 0.00000000e+00]]]\n"
     ]
    },
    {
     "name": "stderr",
     "output_type": "stream",
     "text": [
      "\n",
      "\n",
      "t:  67%|████████████████████████████████████████████▍                     | 731/1085 [15:14<07:41,  1.30s/it, now=None]\u001b[A\u001b[A"
     ]
    },
    {
     "name": "stdout",
     "output_type": "stream",
     "text": [
      "1899.0562907443962 3350.7185616539755\n",
      "2559.377186400127 m 4127.300552091043 m\n",
      "[[[4.89690503e+02 0.00000000e+00]\n",
      "  [4.89188284e+02 1.00000000e+00]\n",
      "  [4.88686603e+02 2.00000000e+00]\n",
      "  ...\n",
      "  [1.37490464e+03 2.00000000e+00]\n",
      "  [1.37537819e+03 1.00000000e+00]\n",
      "  [1.37585206e+03 0.00000000e+00]]]\n"
     ]
    },
    {
     "name": "stderr",
     "output_type": "stream",
     "text": [
      "\n",
      "\n",
      "t:  67%|████████████████████████████████████████████▌                     | 732/1085 [15:15<08:09,  1.39s/it, now=None]\u001b[A\u001b[A"
     ]
    },
    {
     "name": "stdout",
     "output_type": "stream",
     "text": [
      "1710.1137320583268 16156.869970995356\n",
      "2387.9302086329626 m 16927.163322399512 m\n",
      "[[[4.95728604e+02 0.00000000e+00]\n",
      "  [4.95198697e+02 1.00000000e+00]\n",
      "  [4.94669385e+02 2.00000000e+00]\n",
      "  ...\n",
      "  [1.35540117e+03 2.00000000e+00]\n",
      "  [1.35577952e+03 1.00000000e+00]\n",
      "  [1.35615793e+03 0.00000000e+00]]]\n"
     ]
    },
    {
     "name": "stderr",
     "output_type": "stream",
     "text": [
      "\n",
      "\n",
      "t:  68%|████████████████████████████████████████████▌                     | 733/1085 [15:17<07:53,  1.35s/it, now=None]\u001b[A\u001b[A"
     ]
    },
    {
     "name": "stdout",
     "output_type": "stream",
     "text": [
      "1638.2843772210342 7431.947147681405\n",
      "2282.544407032846 m 8196.458704352324 m\n",
      "[[[4.85746765e+02 0.00000000e+00]\n",
      "  [4.85223044e+02 1.00000000e+00]\n",
      "  [4.84699940e+02 2.00000000e+00]\n",
      "  ...\n",
      "  [1.36011910e+03 2.00000000e+00]\n",
      "  [1.36052483e+03 1.00000000e+00]\n",
      "  [1.36093071e+03 0.00000000e+00]]]\n"
     ]
    },
    {
     "name": "stderr",
     "output_type": "stream",
     "text": [
      "\n",
      "\n",
      "t:  68%|████████████████████████████████████████████▋                     | 734/1085 [15:18<07:45,  1.33s/it, now=None]\u001b[A\u001b[A"
     ]
    },
    {
     "name": "stdout",
     "output_type": "stream",
     "text": [
      "1458.5494113062703 2612.2481983065354\n",
      "2160.9055233819054 m 3430.4628777867615 m\n",
      "[[[5.03970363e+02 0.00000000e+00]\n",
      "  [5.03395489e+02 1.00000000e+00]\n",
      "  [5.02821307e+02 2.00000000e+00]\n",
      "  ...\n",
      "  [1.38044369e+03 2.00000000e+00]\n",
      "  [1.38096586e+03 1.00000000e+00]\n",
      "  [1.38148845e+03 0.00000000e+00]]]\n"
     ]
    },
    {
     "name": "stderr",
     "output_type": "stream",
     "text": [
      "\n",
      "\n",
      "t:  68%|████████████████████████████████████████████▋                     | 735/1085 [15:19<07:36,  1.30s/it, now=None]\u001b[A\u001b[A"
     ]
    },
    {
     "name": "stdout",
     "output_type": "stream",
     "text": [
      "1423.436684884591 1738.0545079735168\n",
      "2126.6350664234637 m 2618.7263827093325 m\n",
      "[[[5.04167929e+02 0.00000000e+00]\n",
      "  [5.03586983e+02 1.00000000e+00]\n",
      "  [5.03006744e+02 2.00000000e+00]\n",
      "  ...\n",
      "  [1.40034869e+03 2.00000000e+00]\n",
      "  [1.40096398e+03 1.00000000e+00]\n",
      "  [1.40157988e+03 0.00000000e+00]]]\n"
     ]
    },
    {
     "name": "stderr",
     "output_type": "stream",
     "text": [
      "\n",
      "\n",
      "t:  68%|████████████████████████████████████████████▊                     | 736/1085 [15:20<07:27,  1.28s/it, now=None]\u001b[A\u001b[A"
     ]
    },
    {
     "name": "stdout",
     "output_type": "stream",
     "text": [
      "1348.206532519447 1087.0579175833268\n",
      "2111.994840302699 m 2063.049946755202 m\n",
      "[[[5.20668361e+02 0.00000000e+00]\n",
      "  [5.20048041e+02 1.00000000e+00]\n",
      "  [5.19428470e+02 2.00000000e+00]\n",
      "  ...\n",
      "  [1.42920160e+03 2.00000000e+00]\n",
      "  [1.42996793e+03 1.00000000e+00]\n",
      "  [1.43073520e+03 0.00000000e+00]]]\n"
     ]
    },
    {
     "name": "stderr",
     "output_type": "stream",
     "text": [
      "\n",
      "\n",
      "t:  68%|████████████████████████████████████████████▊                     | 737/1085 [15:22<07:25,  1.28s/it, now=None]\u001b[A\u001b[A"
     ]
    },
    {
     "name": "stdout",
     "output_type": "stream",
     "text": [
      "1312.6404115499975 1832.7980948201023\n",
      "2079.156611097428 m 2720.3688634321393 m\n",
      "[[[5.21451554e+02 0.00000000e+00]\n",
      "  [5.20823380e+02 1.00000000e+00]\n",
      "  [5.20195974e+02 2.00000000e+00]\n",
      "  ...\n",
      "  [1.39749749e+03 2.00000000e+00]\n",
      "  [1.39810586e+03 1.00000000e+00]\n",
      "  [1.39871480e+03 0.00000000e+00]]]\n"
     ]
    },
    {
     "name": "stderr",
     "output_type": "stream",
     "text": [
      "\n",
      "\n",
      "t:  68%|████████████████████████████████████████████▉                     | 738/1085 [15:23<07:36,  1.32s/it, now=None]\u001b[A\u001b[A"
     ]
    },
    {
     "name": "stdout",
     "output_type": "stream",
     "text": [
      "1325.935862404057 1595.0278082908073\n",
      "2062.0532226819814 m 2514.884301668695 m\n",
      "[[[5.10263319e+02 0.00000000e+00]\n",
      "  [5.09650752e+02 1.00000000e+00]\n",
      "  [5.09038943e+02 2.00000000e+00]\n",
      "  ...\n",
      "  [1.40990041e+03 2.00000000e+00]\n",
      "  [1.41054960e+03 1.00000000e+00]\n",
      "  [1.41119943e+03 0.00000000e+00]]]\n"
     ]
    },
    {
     "name": "stderr",
     "output_type": "stream",
     "text": [
      "\n",
      "\n",
      "t:  68%|████████████████████████████████████████████▉                     | 739/1085 [15:24<07:27,  1.29s/it, now=None]\u001b[A\u001b[A"
     ]
    },
    {
     "name": "stdout",
     "output_type": "stream",
     "text": [
      "1212.9652473616475 1480.5750895308518\n",
      "2010.0608184068221 m 2394.361655137969 m\n",
      "[[[5.28548488e+02 0.00000000e+00]\n",
      "  [5.27886535e+02 1.00000000e+00]\n",
      "  [5.27225411e+02 2.00000000e+00]\n",
      "  ...\n",
      "  [1.40611116e+03 2.00000000e+00]\n",
      "  [1.40677352e+03 1.00000000e+00]\n",
      "  [1.40743658e+03 0.00000000e+00]]]\n"
     ]
    },
    {
     "name": "stderr",
     "output_type": "stream",
     "text": [
      "\n",
      "\n",
      "t:  68%|█████████████████████████████████████████████                     | 740/1085 [15:26<07:32,  1.31s/it, now=None]\u001b[A\u001b[A"
     ]
    },
    {
     "name": "stdout",
     "output_type": "stream",
     "text": [
      "1204.970565179397 1559.0954525562656\n",
      "2000.5766001120778 m 2463.222607636236 m\n",
      "[[[5.27661128e+02 0.00000000e+00]\n",
      "  [5.26997992e+02 1.00000000e+00]\n",
      "  [5.26335691e+02 2.00000000e+00]\n",
      "  ...\n",
      "  [1.40310319e+03 2.00000000e+00]\n",
      "  [1.40375034e+03 1.00000000e+00]\n",
      "  [1.40439816e+03 0.00000000e+00]]]\n"
     ]
    },
    {
     "name": "stderr",
     "output_type": "stream",
     "text": [
      "\n",
      "\n",
      "t:  68%|█████████████████████████████████████████████                     | 741/1085 [15:27<07:24,  1.29s/it, now=None]\u001b[A\u001b[A"
     ]
    },
    {
     "name": "stdout",
     "output_type": "stream",
     "text": [
      "1178.5877109423775 1499.128478076474\n",
      "1947.7676681632179 m 2438.8364005985104 m\n",
      "[[[5.20371735e+02 0.00000000e+00]\n",
      "  [5.19713532e+02 1.00000000e+00]\n",
      "  [5.19056179e+02 2.00000000e+00]\n",
      "  ...\n",
      "  [1.41312870e+03 2.00000000e+00]\n",
      "  [1.41379942e+03 1.00000000e+00]\n",
      "  [1.41447083e+03 0.00000000e+00]]]\n"
     ]
    },
    {
     "name": "stderr",
     "output_type": "stream",
     "text": [
      "\n",
      "\n",
      "t:  68%|█████████████████████████████████████████████▏                    | 742/1085 [15:28<07:31,  1.32s/it, now=None]\u001b[A\u001b[A"
     ]
    },
    {
     "name": "stdout",
     "output_type": "stream",
     "text": [
      "1116.6587390676045 1790.8278739148136\n",
      "1926.1090295611662 m 2687.058844137686 m\n",
      "[[[5.31879081e+02 0.00000000e+00]\n",
      "  [5.31188376e+02 1.00000000e+00]\n",
      "  [5.30498569e+02 2.00000000e+00]\n",
      "  ...\n",
      "  [1.39945185e+03 2.00000000e+00]\n",
      "  [1.40006823e+03 1.00000000e+00]\n",
      "  [1.40068520e+03 0.00000000e+00]]]\n"
     ]
    },
    {
     "name": "stderr",
     "output_type": "stream",
     "text": [
      "\n",
      "\n",
      "t:  68%|█████████████████████████████████████████████▏                    | 743/1085 [15:29<07:19,  1.29s/it, now=None]\u001b[A\u001b[A"
     ]
    },
    {
     "name": "stdout",
     "output_type": "stream",
     "text": [
      "1125.7263651434832 2693.351164668387\n",
      "1918.1816041221853 m 3567.120052130127 m\n",
      "[[[5.23215596e+02 0.00000000e+00]\n",
      "  [5.22534342e+02 1.00000000e+00]\n",
      "  [5.21853980e+02 2.00000000e+00]\n",
      "  ...\n",
      "  [1.38824481e+03 2.00000000e+00]\n",
      "  [1.38878708e+03 1.00000000e+00]\n",
      "  [1.38932976e+03 0.00000000e+00]]]\n"
     ]
    },
    {
     "name": "stderr",
     "output_type": "stream",
     "text": [
      "\n",
      "\n",
      "t:  69%|█████████████████████████████████████████████▎                    | 744/1085 [15:31<07:27,  1.31s/it, now=None]\u001b[A\u001b[A"
     ]
    },
    {
     "name": "stdout",
     "output_type": "stream",
     "text": [
      "1145.91939314239 4219.6366095618905\n",
      "1967.131735625363 m 3357.4242554645034 m\n",
      "[[[5.29400382e+02 0.00000000e+00]\n",
      "  [5.28712366e+02 1.00000000e+00]\n",
      "  [5.28025227e+02 2.00000000e+00]\n",
      "  ...\n",
      "  [1.33813232e+03 2.00000000e+00]\n",
      "  [1.33839553e+03 1.00000000e+00]\n",
      "  [1.33865840e+03 0.00000000e+00]]]\n"
     ]
    },
    {
     "name": "stderr",
     "output_type": "stream",
     "text": [
      "\n",
      "\n",
      "t:  69%|█████████████████████████████████████████████▎                    | 745/1085 [15:32<07:16,  1.28s/it, now=None]\u001b[A\u001b[A"
     ]
    },
    {
     "name": "stdout",
     "output_type": "stream",
     "text": [
      "1188.6002597973863 8413.013471800405\n",
      "1993.2405962129133 m 7555.237923197756 m\n",
      "[[[5.21877810e+02 0.00000000e+00]\n",
      "  [5.21207087e+02 1.00000000e+00]\n",
      "  [5.20537210e+02 2.00000000e+00]\n",
      "  ...\n",
      "  [1.35186786e+03 2.00000000e+00]\n",
      "  [1.35219664e+03 1.00000000e+00]\n",
      "  [1.35252526e+03 0.00000000e+00]]]\n"
     ]
    },
    {
     "name": "stderr",
     "output_type": "stream",
     "text": [
      "\n",
      "\n",
      "t:  69%|█████████████████████████████████████████████▍                    | 746/1085 [15:33<07:12,  1.27s/it, now=None]\u001b[A\u001b[A"
     ]
    },
    {
     "name": "stdout",
     "output_type": "stream",
     "text": [
      "1233.8607674755208 4254.654604653186\n",
      "2102.826661531904 m 5149.182804568541 m\n",
      "[[[5.35999330e+02 0.00000000e+00]\n",
      "  [5.35311604e+02 1.00000000e+00]\n",
      "  [5.34624700e+02 2.00000000e+00]\n",
      "  ...\n",
      "  [1.38130403e+03 2.00000000e+00]\n",
      "  [1.38180475e+03 1.00000000e+00]\n",
      "  [1.38230575e+03 0.00000000e+00]]]\n"
     ]
    },
    {
     "name": "stderr",
     "output_type": "stream",
     "text": [
      "\n",
      "\n",
      "t:  69%|█████████████████████████████████████████████▍                    | 747/1085 [15:34<07:09,  1.27s/it, now=None]\u001b[A\u001b[A"
     ]
    },
    {
     "name": "stdout",
     "output_type": "stream",
     "text": [
      "1286.4174302447218 2210.8190014673405\n",
      "2187.2281933978147 m 3152.290030213302 m\n",
      "[[[5.43195121e+02 0.00000000e+00]\n",
      "  [5.42504635e+02 1.00000000e+00]\n",
      "  [5.41814942e+02 2.00000000e+00]\n",
      "  ...\n",
      "  [1.40084773e+03 2.00000000e+00]\n",
      "  [1.40144762e+03 1.00000000e+00]\n",
      "  [1.40204801e+03 0.00000000e+00]]]\n"
     ]
    },
    {
     "name": "stderr",
     "output_type": "stream",
     "text": [
      "\n",
      "\n",
      "t:  69%|█████████████████████████████████████████████▌                    | 748/1085 [15:36<07:15,  1.29s/it, now=None]\u001b[A\u001b[A"
     ]
    },
    {
     "name": "stdout",
     "output_type": "stream",
     "text": [
      "1458.7025244963609 2697.5037538802717\n",
      "2349.198193586407 m 3633.4687653613382 m\n",
      "[[[5.35957310e+02 0.00000000e+00]\n",
      "  [5.35300931e+02 1.00000000e+00]\n",
      "  [5.34645260e+02 2.00000000e+00]\n",
      "  ...\n",
      "  [1.39729515e+03 2.00000000e+00]\n",
      "  [1.39786395e+03 1.00000000e+00]\n",
      "  [1.39843317e+03 0.00000000e+00]]]\n"
     ]
    },
    {
     "name": "stderr",
     "output_type": "stream",
     "text": [
      "\n",
      "\n",
      "t:  69%|█████████████████████████████████████████████▌                    | 749/1085 [15:37<07:15,  1.29s/it, now=None]\u001b[A\u001b[A"
     ]
    },
    {
     "name": "stdout",
     "output_type": "stream",
     "text": [
      "1725.6352745794 4353.405666416898\n",
      "2628.0481105874437 m 5239.86424747387 m\n",
      "[[[5.34341284e+02 0.00000000e+00]\n",
      "  [5.33714614e+02 1.00000000e+00]\n",
      "  [5.33088555e+02 2.00000000e+00]\n",
      "  ...\n",
      "  [1.38079145e+03 2.00000000e+00]\n",
      "  [1.38128670e+03 1.00000000e+00]\n",
      "  [1.38178220e+03 0.00000000e+00]]]\n"
     ]
    },
    {
     "name": "stderr",
     "output_type": "stream",
     "text": [
      "\n",
      "\n",
      "t:  69%|█████████████████████████████████████████████▌                    | 750/1085 [15:38<07:06,  1.27s/it, now=None]\u001b[A\u001b[A"
     ]
    },
    {
     "name": "stdout",
     "output_type": "stream",
     "text": [
      "1600.6985490404038 5042.359152489481\n",
      "2505.5466102932746 m 5896.208095110509 m\n",
      "[[[5.35688908e+02 0.00000000e+00]\n",
      "  [5.35046246e+02 1.00000000e+00]\n",
      "  [5.34404238e+02 2.00000000e+00]\n",
      "  ...\n",
      "  [1.37344524e+03 2.00000000e+00]\n",
      "  [1.37391442e+03 1.00000000e+00]\n",
      "  [1.37438383e+03 0.00000000e+00]]]\n"
     ]
    },
    {
     "name": "stderr",
     "output_type": "stream",
     "text": [
      "\n",
      "\n",
      "t:  69%|█████████████████████████████████████████████▋                    | 751/1085 [15:40<07:01,  1.26s/it, now=None]\u001b[A\u001b[A"
     ]
    },
    {
     "name": "stdout",
     "output_type": "stream",
     "text": [
      "1772.3989917414237 4775.732376286806\n",
      "2731.3085619136123 m 5557.917985517143 m\n",
      "[[[5.49074483e+02 0.00000000e+00]\n",
      "  [5.48428640e+02 1.00000000e+00]\n",
      "  [5.47783401e+02 2.00000000e+00]\n",
      "  ...\n",
      "  [1.35456692e+03 2.00000000e+00]\n",
      "  [1.35500959e+03 1.00000000e+00]\n",
      "  [1.35545250e+03 0.00000000e+00]]]\n"
     ]
    },
    {
     "name": "stderr",
     "output_type": "stream",
     "text": [
      "\n",
      "\n",
      "t:  69%|█████████████████████████████████████████████▋                    | 752/1085 [15:41<06:59,  1.26s/it, now=None]\u001b[A\u001b[A"
     ]
    },
    {
     "name": "stdout",
     "output_type": "stream",
     "text": [
      "1773.9772190035762 4670.121990946259\n",
      "2755.103843479485 m 5415.528559461534 m\n",
      "[[[5.55903753e+02 0.00000000e+00]\n",
      "  [5.55248604e+02 1.00000000e+00]\n",
      "  [5.54594060e+02 2.00000000e+00]\n",
      "  ...\n",
      "  [1.34554195e+03 2.00000000e+00]\n",
      "  [1.34597038e+03 1.00000000e+00]\n",
      "  [1.34639905e+03 0.00000000e+00]]]\n"
     ]
    },
    {
     "name": "stderr",
     "output_type": "stream",
     "text": [
      "\n",
      "\n",
      "t:  69%|█████████████████████████████████████████████▊                    | 753/1085 [15:42<07:26,  1.34s/it, now=None]\u001b[A\u001b[A"
     ]
    },
    {
     "name": "stdout",
     "output_type": "stream",
     "text": [
      "1747.0776905694768 4457.748316724131\n",
      "2672.0029940086815 m 5213.484330913247 m\n",
      "[[[5.41894012e+02 0.00000000e+00]\n",
      "  [5.41260013e+02 1.00000000e+00]\n",
      "  [5.40626620e+02 2.00000000e+00]\n",
      "  ...\n",
      "  [1.35084935e+03 2.00000000e+00]\n",
      "  [1.35128618e+03 1.00000000e+00]\n",
      "  [1.35172326e+03 0.00000000e+00]]]\n"
     ]
    },
    {
     "name": "stderr",
     "output_type": "stream",
     "text": [
      "\n",
      "\n",
      "t:  69%|█████████████████████████████████████████████▊                    | 754/1085 [15:44<07:33,  1.37s/it, now=None]\u001b[A\u001b[A"
     ]
    },
    {
     "name": "stdout",
     "output_type": "stream",
     "text": [
      "1761.9402697752864 3857.476386336971\n",
      "2691.4406632286964 m 4632.074604525522 m\n",
      "[[[5.42011659e+02 0.00000000e+00]\n",
      "  [5.41377300e+02 1.00000000e+00]\n",
      "  [5.40743544e+02 2.00000000e+00]\n",
      "  ...\n",
      "  [1.35700269e+03 2.00000000e+00]\n",
      "  [1.35746090e+03 1.00000000e+00]\n",
      "  [1.35791939e+03 0.00000000e+00]]]\n"
     ]
    },
    {
     "name": "stderr",
     "output_type": "stream",
     "text": [
      "\n",
      "\n",
      "t:  70%|█████████████████████████████████████████████▉                    | 755/1085 [15:45<07:39,  1.39s/it, now=None]\u001b[A\u001b[A"
     ]
    },
    {
     "name": "stdout",
     "output_type": "stream",
     "text": [
      "2071.551140519178 7091.5945433555335\n",
      "2952.7499904509427 m 7858.415986447245 m\n",
      "[[[5.26515468e+02 0.00000000e+00]\n",
      "  [5.25930594e+02 1.00000000e+00]\n",
      "  [5.25346236e+02 2.00000000e+00]\n",
      "  ...\n",
      "  [1.35036850e+03 2.00000000e+00]\n",
      "  [1.35077780e+03 1.00000000e+00]\n",
      "  [1.35118726e+03 0.00000000e+00]]]\n"
     ]
    },
    {
     "name": "stderr",
     "output_type": "stream",
     "text": [
      "\n",
      "\n",
      "t:  70%|█████████████████████████████████████████████▉                    | 756/1085 [15:47<07:38,  1.39s/it, now=None]\u001b[A\u001b[A"
     ]
    },
    {
     "name": "stdout",
     "output_type": "stream",
     "text": [
      "2078.1806191005267 52383.51125786116\n",
      "2996.847343567838 m 53182.51236467287 m\n",
      "[[[5.35896544e+02 0.00000000e+00]\n",
      "  [5.35296000e+02 1.00000000e+00]\n",
      "  [5.34695974e+02 2.00000000e+00]\n",
      "  ...\n",
      "  [1.34597503e+03 2.00000000e+00]\n",
      "  [1.34634683e+03 1.00000000e+00]\n",
      "  [1.34671865e+03 0.00000000e+00]]]\n"
     ]
    },
    {
     "name": "stderr",
     "output_type": "stream",
     "text": [
      "\n",
      "\n",
      "t:  70%|██████████████████████████████████████████████                    | 757/1085 [15:48<07:27,  1.37s/it, now=None]\u001b[A\u001b[A"
     ]
    },
    {
     "name": "stdout",
     "output_type": "stream",
     "text": [
      "2022.6965760104983 3184.7826927633755\n",
      "2953.2941400604127 m 3996.4275417524686 m\n",
      "[[[5.41255610e+02 0.00000000e+00]\n",
      "  [5.40645421e+02 1.00000000e+00]\n",
      "  [5.40035765e+02 2.00000000e+00]\n",
      "  ...\n",
      "  [1.36668034e+03 2.00000000e+00]\n",
      "  [1.36717494e+03 1.00000000e+00]\n",
      "  [1.36766988e+03 0.00000000e+00]]]\n"
     ]
    },
    {
     "name": "stderr",
     "output_type": "stream",
     "text": [
      "\n",
      "\n",
      "t:  70%|██████████████████████████████████████████████                    | 758/1085 [15:49<07:20,  1.35s/it, now=None]\u001b[A\u001b[A"
     ]
    },
    {
     "name": "stdout",
     "output_type": "stream",
     "text": [
      "1921.6365716976682 2099.7087490922063\n",
      "2844.1596626290634 m 2954.7487193052452 m\n",
      "[[[5.41321945e+02 0.00000000e+00]\n",
      "  [5.40706404e+02 1.00000000e+00]\n",
      "  [5.40091419e+02 2.00000000e+00]\n",
      "  ...\n",
      "  [1.38567564e+03 2.00000000e+00]\n",
      "  [1.38624641e+03 1.00000000e+00]\n",
      "  [1.38681769e+03 0.00000000e+00]]]\n"
     ]
    },
    {
     "name": "stderr",
     "output_type": "stream",
     "text": [
      "\n",
      "\n",
      "t:  70%|██████████████████████████████████████████████▏                   | 759/1085 [15:51<07:11,  1.32s/it, now=None]\u001b[A\u001b[A"
     ]
    },
    {
     "name": "stdout",
     "output_type": "stream",
     "text": [
      "1953.92243044702 1545.072631934495\n",
      "2904.3240662142853 m 2439.5961721445765 m\n",
      "[[[5.50994047e+02 0.00000000e+00]\n",
      "  [5.50369447e+02 1.00000000e+00]\n",
      "  [5.49745398e+02 2.00000000e+00]\n",
      "  ...\n",
      "  [1.40068220e+03 2.00000000e+00]\n",
      "  [1.40132712e+03 1.00000000e+00]\n",
      "  [1.40197272e+03 0.00000000e+00]]]\n"
     ]
    },
    {
     "name": "stderr",
     "output_type": "stream",
     "text": [
      "\n",
      "\n",
      "t:  70%|██████████████████████████████████████████████▏                   | 760/1085 [15:52<07:02,  1.30s/it, now=None]\u001b[A\u001b[A"
     ]
    },
    {
     "name": "stdout",
     "output_type": "stream",
     "text": [
      "1858.261242307349 1543.411423169372\n",
      "2777.831162761097 m 2440.5408449905735 m\n",
      "[[[5.44821285e+02 0.00000000e+00]\n",
      "  [5.44201035e+02 1.00000000e+00]\n",
      "  [5.43581358e+02 2.00000000e+00]\n",
      "  ...\n",
      "  [1.40438141e+03 2.00000000e+00]\n",
      "  [1.40502769e+03 1.00000000e+00]\n",
      "  [1.40567463e+03 0.00000000e+00]]]\n"
     ]
    },
    {
     "name": "stderr",
     "output_type": "stream",
     "text": [
      "\n",
      "\n",
      "t:  70%|██████████████████████████████████████████████▎                   | 761/1085 [15:53<06:59,  1.30s/it, now=None]\u001b[A\u001b[A"
     ]
    },
    {
     "name": "stdout",
     "output_type": "stream",
     "text": [
      "1725.9524875724037 1524.5660089108974\n",
      "2681.5359923102883 m 2414.887842183667 m\n",
      "[[[5.57449173e+02 0.00000000e+00]\n",
      "  [5.56799708e+02 1.00000000e+00]\n",
      "  [5.56150861e+02 2.00000000e+00]\n",
      "  ...\n",
      "  [1.40160944e+03 2.00000000e+00]\n",
      "  [1.40225540e+03 1.00000000e+00]\n",
      "  [1.40290204e+03 0.00000000e+00]]]\n"
     ]
    },
    {
     "name": "stderr",
     "output_type": "stream",
     "text": [
      "\n",
      "\n",
      "t:  70%|██████████████████████████████████████████████▎                   | 762/1085 [15:54<07:12,  1.34s/it, now=None]\u001b[A\u001b[A"
     ]
    },
    {
     "name": "stdout",
     "output_type": "stream",
     "text": [
      "1505.0258468801082 1315.9209267712972\n",
      "2487.108286282403 m 2224.844353424057 m\n",
      "[[[5.69279398e+02 0.00000000e+00]\n",
      "  [5.68590817e+02 1.00000000e+00]\n",
      "  [5.67902934e+02 2.00000000e+00]\n",
      "  ...\n",
      "  [1.40877574e+03 2.00000000e+00]\n",
      "  [1.40946327e+03 1.00000000e+00]\n",
      "  [1.41015158e+03 0.00000000e+00]]]\n"
     ]
    },
    {
     "name": "stderr",
     "output_type": "stream",
     "text": [
      "\n",
      "\n",
      "t:  70%|██████████████████████████████████████████████▍                   | 763/1085 [15:56<07:14,  1.35s/it, now=None]\u001b[A\u001b[A"
     ]
    },
    {
     "name": "stdout",
     "output_type": "stream",
     "text": [
      "1481.3073211367096 1210.829006758699\n",
      "2449.4392059039737 m 2168.2056507827842 m\n",
      "[[[5.66708449e+02 0.00000000e+00]\n",
      "  [5.66022342e+02 1.00000000e+00]\n",
      "  [5.65336943e+02 2.00000000e+00]\n",
      "  ...\n",
      "  [1.42278340e+03 2.00000000e+00]\n",
      "  [1.42351234e+03 1.00000000e+00]\n",
      "  [1.42424213e+03 0.00000000e+00]]]\n"
     ]
    },
    {
     "name": "stderr",
     "output_type": "stream",
     "text": [
      "\n",
      "\n",
      "t:  70%|██████████████████████████████████████████████▍                   | 764/1085 [15:57<07:04,  1.32s/it, now=None]\u001b[A\u001b[A"
     ]
    },
    {
     "name": "stdout",
     "output_type": "stream",
     "text": [
      "1448.8513879751636 1435.3994368926387\n",
      "2423.600367648555 m 2341.657067842048 m\n",
      "[[[5.72025146e+02 0.00000000e+00]\n",
      "  [5.71331357e+02 1.00000000e+00]\n",
      "  [5.70638289e+02 2.00000000e+00]\n",
      "  ...\n",
      "  [1.40784857e+03 2.00000000e+00]\n",
      "  [1.40851459e+03 1.00000000e+00]\n",
      "  [1.40918133e+03 0.00000000e+00]]]\n"
     ]
    },
    {
     "name": "stderr",
     "output_type": "stream",
     "text": [
      "\n",
      "\n",
      "t:  71%|██████████████████████████████████████████████▌                   | 765/1085 [15:59<07:19,  1.37s/it, now=None]\u001b[A\u001b[A"
     ]
    },
    {
     "name": "stdout",
     "output_type": "stream",
     "text": [
      "1385.5799238888333 1229.26218582094\n",
      "2351.47452056247 m 2204.784206254744 m\n",
      "[[[5.70720923e+02 0.00000000e+00]\n",
      "  [5.70020756e+02 1.00000000e+00]\n",
      "  [5.69321339e+02 2.00000000e+00]\n",
      "  ...\n",
      "  [1.42566708e+03 2.00000000e+00]\n",
      "  [1.42639968e+03 1.00000000e+00]\n",
      "  [1.42713311e+03 0.00000000e+00]]]\n"
     ]
    },
    {
     "name": "stderr",
     "output_type": "stream",
     "text": [
      "\n",
      "\n",
      "t:  71%|██████████████████████████████████████████████▌                   | 766/1085 [16:00<07:15,  1.36s/it, now=None]\u001b[A\u001b[A"
     ]
    },
    {
     "name": "stdout",
     "output_type": "stream",
     "text": [
      "1328.6165090167424 1359.5294534996663\n",
      "2302.2146692198116 m 2314.7973074293523 m\n",
      "[[[5.73936187e+02 0.00000000e+00]\n",
      "  [5.73222881e+02 1.00000000e+00]\n",
      "  [5.72510354e+02 2.00000000e+00]\n",
      "  ...\n",
      "  [1.41739435e+03 2.00000000e+00]\n",
      "  [1.41809369e+03 1.00000000e+00]\n",
      "  [1.41879380e+03 0.00000000e+00]]]\n"
     ]
    },
    {
     "name": "stderr",
     "output_type": "stream",
     "text": [
      "\n",
      "\n",
      "t:  71%|██████████████████████████████████████████████▋                   | 767/1085 [16:01<07:07,  1.34s/it, now=None]\u001b[A\u001b[A"
     ]
    },
    {
     "name": "stdout",
     "output_type": "stream",
     "text": [
      "1277.083122874563 4479.09916485001\n",
      "2255.985336795489 m 5395.673799282964 m\n",
      "[[[5.75595887e+02 0.00000000e+00]\n",
      "  [5.74870695e+02 1.00000000e+00]\n",
      "  [5.74146311e+02 2.00000000e+00]\n",
      "  ...\n",
      "  [1.38282270e+03 2.00000000e+00]\n",
      "  [1.38332816e+03 1.00000000e+00]\n",
      "  [1.38383388e+03 0.00000000e+00]]]\n"
     ]
    },
    {
     "name": "stderr",
     "output_type": "stream",
     "text": [
      "\n",
      "\n",
      "t:  71%|██████████████████████████████████████████████▋                   | 768/1085 [16:03<06:59,  1.32s/it, now=None]\u001b[A\u001b[A"
     ]
    },
    {
     "name": "stdout",
     "output_type": "stream",
     "text": [
      "1254.9052793382602 2736.1177943315934\n",
      "2241.4507111636644 m 3694.791465712911 m\n",
      "[[[5.75285345e+02 0.00000000e+00]\n",
      "  [5.74552570e+02 1.00000000e+00]\n",
      "  [5.73820615e+02 2.00000000e+00]\n",
      "  ...\n",
      "  [1.40100847e+03 2.00000000e+00]\n",
      "  [1.40158505e+03 1.00000000e+00]\n",
      "  [1.40216204e+03 0.00000000e+00]]]\n"
     ]
    },
    {
     "name": "stderr",
     "output_type": "stream",
     "text": [
      "\n",
      "\n",
      "t:  71%|██████████████████████████████████████████████▊                   | 769/1085 [16:04<07:14,  1.38s/it, now=None]\u001b[A\u001b[A"
     ]
    },
    {
     "name": "stdout",
     "output_type": "stream",
     "text": [
      "1310.546077286688 1693.0515190014678\n",
      "2313.968657123353 m 2691.6178886446 m\n",
      "[[[5.79807114e+02 0.00000000e+00]\n",
      "  [5.79077989e+02 1.00000000e+00]\n",
      "  [5.78349656e+02 2.00000000e+00]\n",
      "  ...\n",
      "  [1.41854365e+03 2.00000000e+00]\n",
      "  [1.41921450e+03 1.00000000e+00]\n",
      "  [1.41988598e+03 0.00000000e+00]]]\n"
     ]
    },
    {
     "name": "stderr",
     "output_type": "stream",
     "text": [
      "\n",
      "\n",
      "t:  71%|██████████████████████████████████████████████▊                   | 770/1085 [16:06<08:09,  1.55s/it, now=None]\u001b[A\u001b[A"
     ]
    },
    {
     "name": "stdout",
     "output_type": "stream",
     "text": [
      "1315.602761340777 2233.7411393178354\n",
      "2251.1771363654484 m 3225.0873431214186 m\n",
      "[[[5.59430693e+02 0.00000000e+00]\n",
      "  [5.58731044e+02 1.00000000e+00]\n",
      "  [5.58032178e+02 2.00000000e+00]\n",
      "  ...\n",
      "  [1.41615896e+03 2.00000000e+00]\n",
      "  [1.41677850e+03 1.00000000e+00]\n",
      "  [1.41739853e+03 0.00000000e+00]]]\n"
     ]
    },
    {
     "name": "stderr",
     "output_type": "stream",
     "text": [
      "\n",
      "\n",
      "t:  71%|██████████████████████████████████████████████▉                   | 771/1085 [16:07<07:53,  1.51s/it, now=None]\u001b[A\u001b[A"
     ]
    },
    {
     "name": "stdout",
     "output_type": "stream",
     "text": [
      "1350.5545576657398 1312.3043810066308\n",
      "2358.439307628769 m 2392.9381501100793 m\n",
      "[[[5.76920139e+02 0.00000000e+00]\n",
      "  [5.76196316e+02 1.00000000e+00]\n",
      "  [5.75473266e+02 2.00000000e+00]\n",
      "  ...\n",
      "  [1.44425249e+03 2.00000000e+00]\n",
      "  [1.44501265e+03 1.00000000e+00]\n",
      "  [1.44577361e+03 0.00000000e+00]]]\n"
     ]
    },
    {
     "name": "stderr",
     "output_type": "stream",
     "text": [
      "\n",
      "\n",
      "t:  71%|██████████████████████████████████████████████▉                   | 772/1085 [16:09<07:42,  1.48s/it, now=None]\u001b[A\u001b[A"
     ]
    },
    {
     "name": "stdout",
     "output_type": "stream",
     "text": [
      "1469.8145004019239 956.9582797826198\n",
      "2457.5202055337663 m 2159.7191673164684 m\n",
      "[[[5.70867599e+02 0.00000000e+00]\n",
      "  [5.70171498e+02 1.00000000e+00]\n",
      "  [5.69476111e+02 2.00000000e+00]\n",
      "  ...\n",
      "  [1.47840852e+03 2.00000000e+00]\n",
      "  [1.47930416e+03 1.00000000e+00]\n",
      "  [1.48020088e+03 0.00000000e+00]]]\n"
     ]
    },
    {
     "name": "stderr",
     "output_type": "stream",
     "text": [
      "\n",
      "\n",
      "t:  71%|███████████████████████████████████████████████                   | 773/1085 [16:10<07:30,  1.44s/it, now=None]\u001b[A\u001b[A"
     ]
    },
    {
     "name": "stdout",
     "output_type": "stream",
     "text": [
      "1602.4664050389308 1162.0726620555042\n",
      "2548.2556406686404 m 2337.726241596227 m\n",
      "[[[5.56974943e+02 0.00000000e+00]\n",
      "  [5.56314957e+02 1.00000000e+00]\n",
      "  [5.55655628e+02 2.00000000e+00]\n",
      "  ...\n",
      "  [1.47173786e+03 2.00000000e+00]\n",
      "  [1.47256728e+03 1.00000000e+00]\n",
      "  [1.47339761e+03 0.00000000e+00]]]\n"
     ]
    },
    {
     "name": "stderr",
     "output_type": "stream",
     "text": [
      "\n",
      "\n",
      "t:  71%|███████████████████████████████████████████████                   | 774/1085 [16:11<07:13,  1.40s/it, now=None]\u001b[A\u001b[A"
     ]
    },
    {
     "name": "stdout",
     "output_type": "stream",
     "text": [
      "1608.4233218204683 2543.2143329566607\n",
      "2611.5967606276035 m 3525.2690746178105 m\n",
      "[[[5.72992251e+02 0.00000000e+00]\n",
      "  [5.72308619e+02 1.00000000e+00]\n",
      "  [5.71625650e+02 2.00000000e+00]\n",
      "  ...\n",
      "  [1.41554422e+03 2.00000000e+00]\n",
      "  [1.41614066e+03 1.00000000e+00]\n",
      "  [1.41673753e+03 0.00000000e+00]]]\n"
     ]
    },
    {
     "name": "stderr",
     "output_type": "stream",
     "text": [
      "\n",
      "\n",
      "t:  71%|███████████████████████████████████████████████▏                  | 775/1085 [16:13<07:04,  1.37s/it, now=None]\u001b[A\u001b[A"
     ]
    },
    {
     "name": "stdout",
     "output_type": "stream",
     "text": [
      "1482.977054780846 1853.169619598867\n",
      "2474.3652262443507 m 2897.0864145910136 m\n",
      "[[[5.70003118e+02 0.00000000e+00]\n",
      "  [5.69307406e+02 1.00000000e+00]\n",
      "  [5.68612404e+02 2.00000000e+00]\n",
      "  ...\n",
      "  [1.43776811e+03 2.00000000e+00]\n",
      "  [1.43844118e+03 1.00000000e+00]\n",
      "  [1.43911484e+03 0.00000000e+00]]]\n"
     ]
    },
    {
     "name": "stderr",
     "output_type": "stream",
     "text": [
      "\n",
      "\n",
      "t:  72%|███████████████████████████████████████████████▏                  | 776/1085 [16:14<07:10,  1.39s/it, now=None]\u001b[A\u001b[A"
     ]
    },
    {
     "name": "stdout",
     "output_type": "stream",
     "text": [
      "1677.016940213801 1565.891598718684\n",
      "2648.33955613848 m 2585.4629390888513 m\n",
      "[[[5.64312997e+02 0.00000000e+00]\n",
      "  [5.63651230e+02 1.00000000e+00]\n",
      "  [5.62990098e+02 2.00000000e+00]\n",
      "  ...\n",
      "  [1.43887618e+03 2.00000000e+00]\n",
      "  [1.43957156e+03 1.00000000e+00]\n",
      "  [1.44026762e+03 0.00000000e+00]]]\n"
     ]
    },
    {
     "name": "stderr",
     "output_type": "stream",
     "text": [
      "\n",
      "\n",
      "t:  72%|███████████████████████████████████████████████▎                  | 777/1085 [16:16<07:27,  1.45s/it, now=None]\u001b[A\u001b[A"
     ]
    },
    {
     "name": "stdout",
     "output_type": "stream",
     "text": [
      "1695.0139681480716 1560.9087994153185\n",
      "2637.3459172159764 m 2664.8524394340757 m\n",
      "[[[5.56383014e+02 0.00000000e+00]\n",
      "  [5.55735718e+02 1.00000000e+00]\n",
      "  [5.55089047e+02 2.00000000e+00]\n",
      "  ...\n",
      "  [1.45558676e+03 2.00000000e+00]\n",
      "  [1.45631810e+03 1.00000000e+00]\n",
      "  [1.45705012e+03 0.00000000e+00]]]\n"
     ]
    },
    {
     "name": "stderr",
     "output_type": "stream",
     "text": [
      "\n",
      "\n",
      "t:  72%|███████████████████████████████████████████████▎                  | 778/1085 [16:17<07:24,  1.45s/it, now=None]\u001b[A\u001b[A"
     ]
    },
    {
     "name": "stdout",
     "output_type": "stream",
     "text": [
      "1581.088180819799 2072.6880893961606\n",
      "2471.2556618834324 m 3117.662486443682 m\n",
      "[[[5.41281578e+02 0.00000000e+00]\n",
      "  [5.40642690e+02 1.00000000e+00]\n",
      "  [5.40004461e+02 2.00000000e+00]\n",
      "  ...\n",
      "  [1.44514567e+03 2.00000000e+00]\n",
      "  [1.44579983e+03 1.00000000e+00]\n",
      "  [1.44645452e+03 0.00000000e+00]]]\n"
     ]
    },
    {
     "name": "stderr",
     "output_type": "stream",
     "text": [
      "\n",
      "\n",
      "t:  72%|███████████████████████████████████████████████▍                  | 779/1085 [16:19<07:13,  1.42s/it, now=None]\u001b[A\u001b[A"
     ]
    },
    {
     "name": "stdout",
     "output_type": "stream",
     "text": [
      "1624.912071747458 31094.03667145913\n",
      "2588.8026499967773 m 30196.29020249187 m\n",
      "[[[5.61075364e+02 0.00000000e+00]\n",
      "  [5.60410478e+02 1.00000000e+00]\n",
      "  [5.59746245e+02 2.00000000e+00]\n",
      "  ...\n",
      "  [1.38101045e+03 2.00000000e+00]\n",
      "  [1.38139801e+03 1.00000000e+00]\n",
      "  [1.38178552e+03 0.00000000e+00]]]\n"
     ]
    },
    {
     "name": "stderr",
     "output_type": "stream",
     "text": [
      "\n",
      "\n",
      "t:  72%|███████████████████████████████████████████████▍                  | 780/1085 [16:20<07:13,  1.42s/it, now=None]\u001b[A\u001b[A"
     ]
    },
    {
     "name": "stdout",
     "output_type": "stream",
     "text": [
      "1661.4769276331435 6534.770059718629\n",
      "2571.067411646562 m 5656.263808805737 m\n",
      "[[[5.46648988e+02 0.00000000e+00]\n",
      "  [5.46011814e+02 1.00000000e+00]\n",
      "  [5.45375272e+02 2.00000000e+00]\n",
      "  ...\n",
      "  [1.37264439e+03 2.00000000e+00]\n",
      "  [1.37296233e+03 1.00000000e+00]\n",
      "  [1.37328007e+03 0.00000000e+00]]]\n"
     ]
    },
    {
     "name": "stderr",
     "output_type": "stream",
     "text": [
      "\n",
      "\n",
      "t:  72%|███████████████████████████████████████████████▌                  | 781/1085 [16:21<07:03,  1.39s/it, now=None]\u001b[A\u001b[A"
     ]
    },
    {
     "name": "stdout",
     "output_type": "stream",
     "text": [
      "1944.5474743933087 4053.8785926983473\n",
      "2900.0333346621037 m 3247.4084443000183 m\n",
      "[[[5.55793920e+02 0.00000000e+00]\n",
      "  [5.55166308e+02 1.00000000e+00]\n",
      "  [5.54539251e+02 2.00000000e+00]\n",
      "  ...\n",
      "  [1.34888789e+03 2.00000000e+00]\n",
      "  [1.34912672e+03 1.00000000e+00]\n",
      "  [1.34936521e+03 0.00000000e+00]]]\n"
     ]
    },
    {
     "name": "stderr",
     "output_type": "stream",
     "text": [
      "\n",
      "\n",
      "t:  72%|███████████████████████████████████████████████▌                  | 782/1085 [16:23<07:00,  1.39s/it, now=None]\u001b[A\u001b[A"
     ]
    },
    {
     "name": "stdout",
     "output_type": "stream",
     "text": [
      "1679.9511270868227 43096.2158270373\n",
      "2691.4870911926487 m 42265.10405565397 m\n",
      "[[[5.75134479e+02 0.00000000e+00]\n",
      "  [5.74455988e+02 1.00000000e+00]\n",
      "  [5.73778137e+02 2.00000000e+00]\n",
      "  ...\n",
      "  [1.37127069e+03 2.00000000e+00]\n",
      "  [1.37163632e+03 1.00000000e+00]\n",
      "  [1.37200192e+03 0.00000000e+00]]]\n"
     ]
    },
    {
     "name": "stderr",
     "output_type": "stream",
     "text": [
      "\n",
      "\n",
      "t:  72%|███████████████████████████████████████████████▋                  | 783/1085 [16:24<06:54,  1.37s/it, now=None]\u001b[A\u001b[A"
     ]
    },
    {
     "name": "stdout",
     "output_type": "stream",
     "text": [
      "1754.4839645483787 5128.063840366117\n",
      "2742.100186771754 m 4315.34713678497 m\n",
      "[[[5.68187023e+02 0.00000000e+00]\n",
      "  [5.67527033e+02 1.00000000e+00]\n",
      "  [5.66867654e+02 2.00000000e+00]\n",
      "  ...\n",
      "  [1.35909405e+03 2.00000000e+00]\n",
      "  [1.35936514e+03 1.00000000e+00]\n",
      "  [1.35963596e+03 0.00000000e+00]]]\n"
     ]
    },
    {
     "name": "stderr",
     "output_type": "stream",
     "text": [
      "\n",
      "\n",
      "t:  72%|███████████████████████████████████████████████▋                  | 784/1085 [16:25<06:53,  1.38s/it, now=None]\u001b[A\u001b[A"
     ]
    },
    {
     "name": "stdout",
     "output_type": "stream",
     "text": [
      "1712.2135299563809 4985.401586953888\n",
      "2758.025262041744 m 5897.187827508726 m\n",
      "[[[5.86250419e+02 0.00000000e+00]\n",
      "  [5.85561177e+02 1.00000000e+00]\n",
      "  [5.84872567e+02 2.00000000e+00]\n",
      "  ...\n",
      "  [1.40592542e+03 2.00000000e+00]\n",
      "  [1.40641995e+03 1.00000000e+00]\n",
      "  [1.40691472e+03 0.00000000e+00]]]\n"
     ]
    },
    {
     "name": "stderr",
     "output_type": "stream",
     "text": [
      "\n",
      "\n",
      "t:  72%|███████████████████████████████████████████████▊                  | 785/1085 [16:27<06:56,  1.39s/it, now=None]\u001b[A\u001b[A"
     ]
    },
    {
     "name": "stdout",
     "output_type": "stream",
     "text": [
      "1805.834817847986 6028.140621945032\n",
      "2820.5879466805554 m 6933.608183207901 m\n",
      "[[[5.78249667e+02 0.00000000e+00]\n",
      "  [5.77583568e+02 1.00000000e+00]\n",
      "  [5.76918070e+02 2.00000000e+00]\n",
      "  ...\n",
      "  [1.40902933e+03 2.00000000e+00]\n",
      "  [1.40950732e+03 1.00000000e+00]\n",
      "  [1.40998551e+03 0.00000000e+00]]]\n"
     ]
    },
    {
     "name": "stderr",
     "output_type": "stream",
     "text": [
      "\n",
      "\n",
      "t:  72%|███████████████████████████████████████████████▊                  | 786/1085 [16:28<06:59,  1.40s/it, now=None]\u001b[A\u001b[A"
     ]
    },
    {
     "name": "stdout",
     "output_type": "stream",
     "text": [
      "1777.1364015492397 5388.611658072717\n",
      "2863.659892904569 m 6266.8114262660465 m\n",
      "[[[6.00021220e+02 0.00000000e+00]\n",
      "  [5.99322006e+02 1.00000000e+00]\n",
      "  [5.98623410e+02 2.00000000e+00]\n",
      "  ...\n",
      "  [1.40215935e+03 2.00000000e+00]\n",
      "  [1.40263382e+03 1.00000000e+00]\n",
      "  [1.40310850e+03 0.00000000e+00]]]\n"
     ]
    },
    {
     "name": "stderr",
     "output_type": "stream",
     "text": [
      "\n",
      "\n",
      "t:  73%|███████████████████████████████████████████████▊                  | 787/1085 [16:30<07:01,  1.42s/it, now=None]\u001b[A\u001b[A"
     ]
    },
    {
     "name": "stdout",
     "output_type": "stream",
     "text": [
      "1823.3781807066778 3501.6856780098624\n",
      "2905.7662384398664 m 4417.908476682123 m\n",
      "[[[6.01811804e+02 0.00000000e+00]\n",
      "  [6.01119077e+02 1.00000000e+00]\n",
      "  [6.00426954e+02 2.00000000e+00]\n",
      "  ...\n",
      "  [1.41856576e+03 2.00000000e+00]\n",
      "  [1.41909492e+03 1.00000000e+00]\n",
      "  [1.41962440e+03 0.00000000e+00]]]\n"
     ]
    },
    {
     "name": "stderr",
     "output_type": "stream",
     "text": [
      "\n",
      "\n",
      "t:  73%|███████████████████████████████████████████████▉                  | 788/1085 [16:31<06:54,  1.39s/it, now=None]\u001b[A\u001b[A"
     ]
    },
    {
     "name": "stdout",
     "output_type": "stream",
     "text": [
      "2065.358604507344 3080.115481633783\n",
      "3120.3326725400775 m 3967.2021273709965 m\n",
      "[[[5.96044628e+02 0.00000000e+00]\n",
      "  [5.95385155e+02 1.00000000e+00]\n",
      "  [5.94726220e+02 2.00000000e+00]\n",
      "  ...\n",
      "  [1.41996831e+03 2.00000000e+00]\n",
      "  [1.42049949e+03 1.00000000e+00]\n",
      "  [1.42103103e+03 0.00000000e+00]]]\n"
     ]
    },
    {
     "name": "stderr",
     "output_type": "stream",
     "text": [
      "\n",
      "\n",
      "t:  73%|███████████████████████████████████████████████▉                  | 789/1085 [16:32<06:51,  1.39s/it, now=None]\u001b[A\u001b[A"
     ]
    },
    {
     "name": "stdout",
     "output_type": "stream",
     "text": [
      "2656.4281410757962 31722.901590677553\n",
      "3730.266940540762 m 31021.184114800588 m\n",
      "[[[6.00517590e+02 0.00000000e+00]\n",
      "  [5.99888351e+02 1.00000000e+00]\n",
      "  [5.99259546e+02 2.00000000e+00]\n",
      "  ...\n",
      "  [1.35976841e+03 2.00000000e+00]\n",
      "  [1.36007762e+03 1.00000000e+00]\n",
      "  [1.36038679e+03 0.00000000e+00]]]\n"
     ]
    },
    {
     "name": "stderr",
     "output_type": "stream",
     "text": [
      "\n",
      "\n",
      "t:  73%|████████████████████████████████████████████████                  | 790/1085 [16:34<07:03,  1.44s/it, now=None]\u001b[A\u001b[A"
     ]
    },
    {
     "name": "stdout",
     "output_type": "stream",
     "text": [
      "4062.1707608379393 28787.79157632993\n",
      "5077.159830782123 m 28048.880048525705 m\n",
      "[[[5.83123913e+02 0.00000000e+00]\n",
      "  [5.82568257e+02 1.00000000e+00]\n",
      "  [5.82012892e+02 2.00000000e+00]\n",
      "  ...\n",
      "  [1.37094324e+03 2.00000000e+00]\n",
      "  [1.37126634e+03 1.00000000e+00]\n",
      "  [1.37158940e+03 0.00000000e+00]]]\n"
     ]
    },
    {
     "name": "stderr",
     "output_type": "stream",
     "text": [
      "\n",
      "\n",
      "t:  73%|████████████████████████████████████████████████                  | 791/1085 [16:35<07:04,  1.44s/it, now=None]\u001b[A\u001b[A"
     ]
    },
    {
     "name": "stdout",
     "output_type": "stream",
     "text": [
      "3676.493519781919 2693.215978462896\n",
      "4730.084152675619 m 2049.1457491654683 m\n",
      "[[[5.94952207e+02 0.00000000e+00]\n",
      "  [5.94370601e+02 1.00000000e+00]\n",
      "  [5.93789317e+02 2.00000000e+00]\n",
      "  ...\n",
      "  [1.31811685e+03 2.00000000e+00]\n",
      "  [1.31822565e+03 1.00000000e+00]\n",
      "  [1.31833395e+03 0.00000000e+00]]]\n"
     ]
    },
    {
     "name": "stderr",
     "output_type": "stream",
     "text": [
      "\n",
      "\n",
      "t:  73%|████████████████████████████████████████████████▏                 | 792/1085 [16:37<07:04,  1.45s/it, now=None]\u001b[A\u001b[A"
     ]
    },
    {
     "name": "stdout",
     "output_type": "stream",
     "text": [
      "3503.1285918634667 3350.456861141538\n",
      "4567.269011697628 m 2703.6025057650368 m\n",
      "[[[6.02315896e+02 0.00000000e+00]\n",
      "  [6.01724754e+02 1.00000000e+00]\n",
      "  [6.01133950e+02 2.00000000e+00]\n",
      "  ...\n",
      "  [1.32430656e+03 2.00000000e+00]\n",
      "  [1.32446053e+03 1.00000000e+00]\n",
      "  [1.32461411e+03 0.00000000e+00]]]\n"
     ]
    },
    {
     "name": "stderr",
     "output_type": "stream",
     "text": [
      "\n",
      "\n",
      "t:  73%|████████████████████████████████████████████████▏                 | 793/1085 [16:38<06:55,  1.42s/it, now=None]\u001b[A\u001b[A"
     ]
    },
    {
     "name": "stdout",
     "output_type": "stream",
     "text": [
      "2170.379948808559 5484.515600434043\n",
      "3244.476946218871 m 4839.710721167331 m\n",
      "[[[6.11400540e+02 0.00000000e+00]\n",
      "  [6.10741183e+02 1.00000000e+00]\n",
      "  [6.10082344e+02 2.00000000e+00]\n",
      "  ...\n",
      "  [1.33560962e+03 2.00000000e+00]\n",
      "  [1.33582496e+03 1.00000000e+00]\n",
      "  [1.33604007e+03 0.00000000e+00]]]\n"
     ]
    },
    {
     "name": "stderr",
     "output_type": "stream",
     "text": [
      "\n",
      "\n",
      "t:  73%|████████████████████████████████████████████████▎                 | 794/1085 [16:40<06:56,  1.43s/it, now=None]\u001b[A\u001b[A"
     ]
    },
    {
     "name": "stdout",
     "output_type": "stream",
     "text": [
      "2645.1872478250853 4805.448170131865\n",
      "3706.028631276699 m 4196.5674214491955 m\n",
      "[[[6.09419027e+02 0.00000000e+00]\n",
      "  [6.08794592e+02 1.00000000e+00]\n",
      "  [6.08170591e+02 2.00000000e+00]\n",
      "  ...\n",
      "  [1.32550465e+03 2.00000000e+00]\n",
      "  [1.32569312e+03 1.00000000e+00]\n",
      "  [1.32588134e+03 0.00000000e+00]]]\n"
     ]
    },
    {
     "name": "stderr",
     "output_type": "stream",
     "text": [
      "\n",
      "\n",
      "t:  73%|████████████████████████████████████████████████▎                 | 795/1085 [16:41<06:44,  1.39s/it, now=None]\u001b[A\u001b[A"
     ]
    },
    {
     "name": "stdout",
     "output_type": "stream",
     "text": [
      "4143.1907701338505 4999.361022029045\n",
      "5116.77909187807 m 4385.382294009868 m\n",
      "[[[5.84330882e+02 0.00000000e+00]\n",
      "  [5.83794241e+02 1.00000000e+00]\n",
      "  [5.83257883e+02 2.00000000e+00]\n",
      "  ...\n",
      "  [1.32833772e+03 2.00000000e+00]\n",
      "  [1.32853221e+03 1.00000000e+00]\n",
      "  [1.32872647e+03 0.00000000e+00]]]\n"
     ]
    },
    {
     "name": "stderr",
     "output_type": "stream",
     "text": [
      "\n",
      "\n",
      "t:  73%|████████████████████████████████████████████████▍                 | 796/1085 [16:42<06:41,  1.39s/it, now=None]\u001b[A\u001b[A"
     ]
    },
    {
     "name": "stdout",
     "output_type": "stream",
     "text": [
      "4106.256536568968 4879.092456043079\n",
      "5021.580881357283 m 4278.514804549871 m\n",
      "[[[5.69004658e+02 0.00000000e+00]\n",
      "  [5.68491584e+02 1.00000000e+00]\n",
      "  [5.67978790e+02 2.00000000e+00]\n",
      "  ...\n",
      "  [1.32933741e+03 2.00000000e+00]\n",
      "  [1.32952421e+03 1.00000000e+00]\n",
      "  [1.32971077e+03 0.00000000e+00]]]\n"
     ]
    },
    {
     "name": "stderr",
     "output_type": "stream",
     "text": [
      "\n",
      "\n",
      "t:  73%|████████████████████████████████████████████████▍                 | 797/1085 [16:44<06:49,  1.42s/it, now=None]\u001b[A\u001b[A"
     ]
    },
    {
     "name": "stdout",
     "output_type": "stream",
     "text": [
      "5096.719194210486 1934.721401743162\n",
      "5989.414060009931 m 1453.673219186005 m\n",
      "[[[5.62868161e+02 0.00000000e+00]\n",
      "  [5.62383149e+02 1.00000000e+00]\n",
      "  [5.61898363e+02 2.00000000e+00]\n",
      "  ...\n",
      "  [1.27861791e+03 2.00000000e+00]\n",
      "  [1.27858268e+03 1.00000000e+00]\n",
      "  [1.27854676e+03 0.00000000e+00]]]\n"
     ]
    },
    {
     "name": "stderr",
     "output_type": "stream",
     "text": [
      "\n",
      "\n",
      "t:  74%|████████████████████████████████████████████████▌                 | 798/1085 [16:45<06:39,  1.39s/it, now=None]\u001b[A\u001b[A"
     ]
    },
    {
     "name": "stdout",
     "output_type": "stream",
     "text": [
      "9239.378603026678 1811.7708412732313\n",
      "10068.378472517736 m 1384.0136474194537 m\n",
      "[[[5.43661363e+02 0.00000000e+00]\n",
      "  [5.43238848e+02 1.00000000e+00]\n",
      "  [5.42816459e+02 2.00000000e+00]\n",
      "  ...\n",
      "  [1.26628076e+03 2.00000000e+00]\n",
      "  [1.26620739e+03 1.00000000e+00]\n",
      "  [1.26613330e+03 0.00000000e+00]]]\n"
     ]
    },
    {
     "name": "stderr",
     "output_type": "stream",
     "text": [
      "\n",
      "\n",
      "t:  74%|████████████████████████████████████████████████▌                 | 799/1085 [16:47<06:40,  1.40s/it, now=None]\u001b[A\u001b[A"
     ]
    },
    {
     "name": "stdout",
     "output_type": "stream",
     "text": [
      "14144.61938077269 2200.3864373906117\n",
      "14961.504195609423 m 1775.171029800329 m\n",
      "[[[5.41621517e+02 0.00000000e+00]\n",
      "  [5.41219873e+02 1.00000000e+00]\n",
      "  [5.40818313e+02 2.00000000e+00]\n",
      "  ...\n",
      "  [1.27202761e+03 2.00000000e+00]\n",
      "  [1.27201575e+03 1.00000000e+00]\n",
      "  [1.27200333e+03 0.00000000e+00]]]\n"
     ]
    },
    {
     "name": "stderr",
     "output_type": "stream",
     "text": [
      "\n",
      "\n",
      "t:  74%|████████████████████████████████████████████████▋                 | 800/1085 [16:48<06:31,  1.37s/it, now=None]\u001b[A\u001b[A"
     ]
    },
    {
     "name": "stdout",
     "output_type": "stream",
     "text": [
      "6913.335791626231 1940.7312338121205\n",
      "7673.644605621441 m 1549.6668614291802 m\n",
      "[[[5.31890659e+02 0.00000000e+00]\n",
      "  [5.31482552e+02 1.00000000e+00]\n",
      "  [5.31074609e+02 2.00000000e+00]\n",
      "  ...\n",
      "  [1.26138225e+03 2.00000000e+00]\n",
      "  [1.26132281e+03 1.00000000e+00]\n",
      "  [1.26126272e+03 0.00000000e+00]]]\n"
     ]
    },
    {
     "name": "stderr",
     "output_type": "stream",
     "text": [
      "\n",
      "\n",
      "t:  74%|████████████████████████████████████████████████▋                 | 801/1085 [16:49<06:17,  1.33s/it, now=None]\u001b[A\u001b[A"
     ]
    },
    {
     "name": "stdout",
     "output_type": "stream",
     "text": [
      "3411.100066305551 1569.8522724656666\n",
      "4200.468974577058 m 1223.2252000750514 m\n",
      "[[[5.46480012e+02 0.00000000e+00]\n",
      "  [5.46002465e+02 1.00000000e+00]\n",
      "  [5.45525238e+02 2.00000000e+00]\n",
      "  ...\n",
      "  [1.23652912e+03 2.00000000e+00]\n",
      "  [1.23637580e+03 1.00000000e+00]\n",
      "  [1.23622165e+03 0.00000000e+00]]]\n"
     ]
    },
    {
     "name": "stderr",
     "output_type": "stream",
     "text": [
      "\n",
      "\n",
      "t:  74%|████████████████████████████████████████████████▊                 | 802/1085 [16:50<06:10,  1.31s/it, now=None]\u001b[A\u001b[A"
     ]
    },
    {
     "name": "stdout",
     "output_type": "stream",
     "text": [
      "2025.9820677044484 1224.201372408059\n",
      "2873.0302729451264 m 781.9640843209247 m\n",
      "[[[5.70114363e+02 0.00000000e+00]\n",
      "  [5.69540645e+02 1.00000000e+00]\n",
      "  [5.68967449e+02 2.00000000e+00]\n",
      "  ...\n",
      "  [1.20279336e+03 2.00000000e+00]\n",
      "  [1.20242761e+03 1.00000000e+00]\n",
      "  [1.20206037e+03 0.00000000e+00]]]\n"
     ]
    },
    {
     "name": "stderr",
     "output_type": "stream",
     "text": [
      "\n",
      "\n",
      "t:  74%|████████████████████████████████████████████████▊                 | 803/1085 [16:52<06:00,  1.28s/it, now=None]\u001b[A\u001b[A"
     ]
    },
    {
     "name": "stdout",
     "output_type": "stream",
     "text": [
      "4150.781196790627 1207.348799765498\n",
      "4855.687297379053 m 681.5804746211256 m\n",
      "[[[5.26172801e+02 0.00000000e+00]\n",
      "  [5.25751912e+02 1.00000000e+00]\n",
      "  [5.25331283e+02 2.00000000e+00]\n",
      "  ...\n",
      "  [1.16787211e+03 2.00000000e+00]\n",
      "  [1.16727558e+03 1.00000000e+00]\n",
      "  [1.16667691e+03 0.00000000e+00]]]\n"
     ]
    },
    {
     "name": "stderr",
     "output_type": "stream",
     "text": [
      "\n",
      "\n",
      "t:  74%|████████████████████████████████████████████████▉                 | 804/1085 [16:53<05:54,  1.26s/it, now=None]\u001b[A\u001b[A"
     ]
    },
    {
     "name": "stdout",
     "output_type": "stream",
     "text": [
      "5335.896082113757 2131.513648851444\n",
      "6028.5544122868805 m 1641.6340373153607 m\n",
      "[[[5.24869150e+02 0.00000000e+00]\n",
      "  [5.24473926e+02 1.00000000e+00]\n",
      "  [5.24078906e+02 2.00000000e+00]\n",
      "  ...\n",
      "  [1.26882723e+03 2.00000000e+00]\n",
      "  [1.26882644e+03 1.00000000e+00]\n",
      "  [1.26882504e+03 0.00000000e+00]]]\n"
     ]
    },
    {
     "name": "stderr",
     "output_type": "stream",
     "text": [
      "\n",
      "\n",
      "t:  74%|████████████████████████████████████████████████▉                 | 805/1085 [16:54<05:50,  1.25s/it, now=None]\u001b[A\u001b[A"
     ]
    },
    {
     "name": "stdout",
     "output_type": "stream",
     "text": [
      "15131.975070338585 1530.5121619776276\n",
      "15750.055598399904 m 1122.8253136465153 m\n",
      "[[[5.00982615e+02 0.00000000e+00]\n",
      "  [5.00668011e+02 1.00000000e+00]\n",
      "  [5.00353481e+02 2.00000000e+00]\n",
      "  ...\n",
      "  [1.23049960e+03 2.00000000e+00]\n",
      "  [1.23034441e+03 1.00000000e+00]\n",
      "  [1.23018831e+03 0.00000000e+00]]]\n"
     ]
    },
    {
     "name": "stderr",
     "output_type": "stream",
     "text": [
      "\n",
      "\n",
      "t:  74%|█████████████████████████████████████████████████                 | 806/1085 [16:55<05:45,  1.24s/it, now=None]\u001b[A\u001b[A"
     ]
    },
    {
     "name": "stdout",
     "output_type": "stream",
     "text": [
      "2170.0845196777996 1307.0935008076956\n",
      "2924.5512358812152 m 969.7874118063293 m\n",
      "[[[5.50240915e+02 0.00000000e+00]\n",
      "  [5.49719221e+02 1.00000000e+00]\n",
      "  [5.49198009e+02 2.00000000e+00]\n",
      "  ...\n",
      "  [1.20250899e+03 2.00000000e+00]\n",
      "  [1.20224325e+03 1.00000000e+00]\n",
      "  [1.20197640e+03 0.00000000e+00]]]\n"
     ]
    },
    {
     "name": "stderr",
     "output_type": "stream",
     "text": [
      "\n",
      "\n",
      "t:  74%|█████████████████████████████████████████████████                 | 807/1085 [16:57<05:42,  1.23s/it, now=None]\u001b[A\u001b[A"
     ]
    },
    {
     "name": "stdout",
     "output_type": "stream",
     "text": [
      "1855.8175863979652 1004.7992965866846\n",
      "2603.4246617705503 m 832.1569143863566 m\n",
      "[[[5.51893737e+02 0.00000000e+00]\n",
      "  [5.51348406e+02 1.00000000e+00]\n",
      "  [5.50803632e+02 2.00000000e+00]\n",
      "  ...\n",
      "  [1.12907608e+03 2.00000000e+00]\n",
      "  [1.12850236e+03 1.00000000e+00]\n",
      "  [1.12792691e+03 0.00000000e+00]]]\n"
     ]
    },
    {
     "name": "stderr",
     "output_type": "stream",
     "text": [
      "\n",
      "\n",
      "t:  74%|█████████████████████████████████████████████████▏                | 808/1085 [16:58<05:39,  1.23s/it, now=None]\u001b[A\u001b[A"
     ]
    },
    {
     "name": "stdout",
     "output_type": "stream",
     "text": [
      "1625.031166999775 1646.8997887847545\n",
      "2373.042980716949 m 1320.0213005918376 m\n",
      "[[[5.52992628e+02 0.00000000e+00]\n",
      "  [5.52421323e+02 1.00000000e+00]\n",
      "  [5.51850648e+02 2.00000000e+00]\n",
      "  ...\n",
      "  [1.22416022e+03 2.00000000e+00]\n",
      "  [1.22402329e+03 1.00000000e+00]\n",
      "  [1.22388558e+03 0.00000000e+00]]]\n"
     ]
    },
    {
     "name": "stderr",
     "output_type": "stream",
     "text": [
      "\n",
      "\n",
      "t:  75%|█████████████████████████████████████████████████▏                | 809/1085 [16:59<05:37,  1.22s/it, now=None]\u001b[A\u001b[A"
     ]
    },
    {
     "name": "stdout",
     "output_type": "stream",
     "text": [
      "1264.4675960780344 917.976976363466\n",
      "2070.872305912386 m 928.6626056252289 m\n",
      "[[[5.71713040e+02 0.00000000e+00]\n",
      "  [5.71058226e+02 1.00000000e+00]\n",
      "  [5.70404211e+02 2.00000000e+00]\n",
      "  ...\n",
      "  [1.09796095e+03 2.00000000e+00]\n",
      "  [1.09734320e+03 1.00000000e+00]\n",
      "  [1.09672380e+03 0.00000000e+00]]]\n"
     ]
    },
    {
     "name": "stderr",
     "output_type": "stream",
     "text": [
      "\n",
      "\n",
      "t:  75%|█████████████████████████████████████████████████▎                | 810/1085 [17:00<05:47,  1.26s/it, now=None]\u001b[A\u001b[A"
     ]
    },
    {
     "name": "stdout",
     "output_type": "stream",
     "text": [
      "1333.6147181570364 935.5534062979784\n",
      "2037.8090657895184 m 948.8312416213006 m\n",
      "[[[5.42590478e+02 0.00000000e+00]\n",
      "  [5.41993119e+02 1.00000000e+00]\n",
      "  [5.41396513e+02 2.00000000e+00]\n",
      "  ...\n",
      "  [1.10817830e+03 2.00000000e+00]\n",
      "  [1.10759849e+03 1.00000000e+00]\n",
      "  [1.10701713e+03 0.00000000e+00]]]\n"
     ]
    },
    {
     "name": "stderr",
     "output_type": "stream",
     "text": [
      "\n",
      "\n",
      "t:  75%|█████████████████████████████████████████████████▎                | 811/1085 [17:02<05:45,  1.26s/it, now=None]\u001b[A\u001b[A"
     ]
    },
    {
     "name": "stdout",
     "output_type": "stream",
     "text": [
      "1497.253247058018 2250.021739437712\n",
      "2177.0476589351333 m 2014.709184156768 m\n",
      "[[[5.32717331e+02 0.00000000e+00]\n",
      "  [5.32158333e+02 1.00000000e+00]\n",
      "  [5.31600010e+02 2.00000000e+00]\n",
      "  ...\n",
      "  [1.21846834e+03 2.00000000e+00]\n",
      "  [1.21839372e+03 1.00000000e+00]\n",
      "  [1.21831860e+03 0.00000000e+00]]]\n"
     ]
    },
    {
     "name": "stderr",
     "output_type": "stream",
     "text": [
      "\n",
      "\n",
      "t:  75%|█████████████████████████████████████████████████▍                | 812/1085 [17:03<05:45,  1.26s/it, now=None]\u001b[A\u001b[A"
     ]
    },
    {
     "name": "stdout",
     "output_type": "stream",
     "text": [
      "1711.2660620865845 12386.924720466232\n",
      "2308.9041171062195 m 12044.984480391788 m\n",
      "[[[5.09650613e+02 0.00000000e+00]\n",
      "  [5.09156644e+02 1.00000000e+00]\n",
      "  [5.08663263e+02 2.00000000e+00]\n",
      "  ...\n",
      "  [1.26425610e+03 2.00000000e+00]\n",
      "  [1.26438749e+03 1.00000000e+00]\n",
      "  [1.26451880e+03 0.00000000e+00]]]\n"
     ]
    },
    {
     "name": "stderr",
     "output_type": "stream",
     "text": [
      "\n",
      "\n",
      "t:  75%|█████████████████████████████████████████████████▍                | 813/1085 [17:04<05:51,  1.29s/it, now=None]\u001b[A\u001b[A"
     ]
    },
    {
     "name": "stdout",
     "output_type": "stream",
     "text": [
      "1963.345639764808 1364.744922164447\n",
      "2498.12308775544 m 1329.7515033022758 m\n",
      "[[[4.89272533e+02 0.00000000e+00]\n",
      "  [4.88833047e+02 1.00000000e+00]\n",
      "  [4.88394074e+02 2.00000000e+00]\n",
      "  ...\n",
      "  [1.14786038e+03 2.00000000e+00]\n",
      "  [1.14756443e+03 1.00000000e+00]\n",
      "  [1.14726764e+03 0.00000000e+00]]]\n"
     ]
    },
    {
     "name": "stderr",
     "output_type": "stream",
     "text": [
      "\n",
      "\n",
      "t:  75%|█████████████████████████████████████████████████▌                | 814/1085 [17:06<06:31,  1.45s/it, now=None]\u001b[A\u001b[A"
     ]
    },
    {
     "name": "stdout",
     "output_type": "stream",
     "text": [
      "2469.9698460603568 1855.261263521935\n",
      "2972.7188308626546 m 2470.434910278059 m\n",
      "[[[4.77375515e+02 0.00000000e+00]\n",
      "  [4.76987513e+02 1.00000000e+00]\n",
      "  [4.76599921e+02 2.00000000e+00]\n",
      "  ...\n",
      "  [1.35115204e+03 2.00000000e+00]\n",
      "  [1.35163769e+03 1.00000000e+00]\n",
      "  [1.35212388e+03 0.00000000e+00]]]\n"
     ]
    },
    {
     "name": "stderr",
     "output_type": "stream",
     "text": [
      "\n",
      "\n",
      "t:  75%|█████████████████████████████████████████████████▌                | 815/1085 [17:07<06:15,  1.39s/it, now=None]\u001b[A\u001b[A"
     ]
    },
    {
     "name": "stdout",
     "output_type": "stream",
     "text": [
      "15406.753467274531 1967.0939767367092\n",
      "15767.084306153809 m 2594.5042157930925 m\n",
      "[[[4.18533273e+02 0.00000000e+00]\n",
      "  [4.18336435e+02 1.00000000e+00]\n",
      "  [4.18139664e+02 2.00000000e+00]\n",
      "  ...\n",
      "  [1.35491487e+03 2.00000000e+00]\n",
      "  [1.35539550e+03 1.00000000e+00]\n",
      "  [1.35587664e+03 0.00000000e+00]]]\n"
     ]
    },
    {
     "name": "stderr",
     "output_type": "stream",
     "text": [
      "\n",
      "\n",
      "t:  75%|█████████████████████████████████████████████████▋                | 816/1085 [17:09<06:08,  1.37s/it, now=None]\u001b[A\u001b[A"
     ]
    },
    {
     "name": "stdout",
     "output_type": "stream",
     "text": [
      "8342.108611016181 15824.282870780014\n",
      "8040.501087240806 m 16478.327205984093 m\n",
      "[[[3.87628234e+02 0.00000000e+00]\n",
      "  [3.87531177e+02 1.00000000e+00]\n",
      "  [3.87433995e+02 2.00000000e+00]\n",
      "  ...\n",
      "  [1.33500971e+03 2.00000000e+00]\n",
      "  [1.33533882e+03 1.00000000e+00]\n",
      "  [1.33566801e+03 0.00000000e+00]]]\n"
     ]
    },
    {
     "name": "stderr",
     "output_type": "stream",
     "text": [
      "\n",
      "\n",
      "t:  75%|█████████████████████████████████████████████████▋                | 817/1085 [17:10<06:18,  1.41s/it, now=None]\u001b[A\u001b[A"
     ]
    },
    {
     "name": "stdout",
     "output_type": "stream",
     "text": [
      "2937.6170388029486 1863.4823339480677\n",
      "3379.7538446454864 m 2059.6243098615237 m\n",
      "[[[4.44729802e+02 0.00000000e+00]\n",
      "  [4.44392942e+02 1.00000000e+00]\n",
      "  [4.44056426e+02 2.00000000e+00]\n",
      "  ...\n",
      "  [1.08971924e+03 2.00000000e+00]\n",
      "  [1.08942353e+03 1.00000000e+00]\n",
      "  [1.08912726e+03 0.00000000e+00]]]\n"
     ]
    },
    {
     "name": "stderr",
     "output_type": "stream",
     "text": [
      "\n",
      "\n",
      "t:  75%|█████████████████████████████████████████████████▊                | 818/1085 [17:12<06:24,  1.44s/it, now=None]\u001b[A\u001b[A"
     ]
    },
    {
     "name": "stdout",
     "output_type": "stream",
     "text": [
      "2382.5593437064267 2681.817311266238\n",
      "2788.8125395826723 m 3339.947324120703 m\n",
      "[[[4.33764335e+02 0.00000000e+00]\n",
      "  [4.33415742e+02 1.00000000e+00]\n",
      "  [4.33067569e+02 2.00000000e+00]\n",
      "  ...\n",
      "  [1.35724031e+03 2.00000000e+00]\n",
      "  [1.35768769e+03 1.00000000e+00]\n",
      "  [1.35813546e+03 0.00000000e+00]]]\n"
     ]
    },
    {
     "name": "stderr",
     "output_type": "stream",
     "text": [
      "\n",
      "\n",
      "t:  75%|█████████████████████████████████████████████████▊                | 819/1085 [17:13<06:46,  1.53s/it, now=None]\u001b[A\u001b[A"
     ]
    },
    {
     "name": "stdout",
     "output_type": "stream",
     "text": [
      "3196.978272727487 1929.9501480028273\n",
      "3565.185324206715 m 2618.5542406093073 m\n",
      "[[[4.19593420e+02 0.00000000e+00]\n",
      "  [4.19301185e+02 1.00000000e+00]\n",
      "  [4.19009265e+02 2.00000000e+00]\n",
      "  ...\n",
      "  [1.36463067e+03 2.00000000e+00]\n",
      "  [1.36514214e+03 1.00000000e+00]\n",
      "  [1.36565415e+03 0.00000000e+00]]]\n"
     ]
    },
    {
     "name": "stderr",
     "output_type": "stream",
     "text": [
      "\n",
      "\n",
      "t:  76%|█████████████████████████████████████████████████▉                | 820/1085 [17:15<06:40,  1.51s/it, now=None]\u001b[A\u001b[A"
     ]
    },
    {
     "name": "stdout",
     "output_type": "stream",
     "text": [
      "3277.6601500350243 983.4348878709401\n",
      "3632.7276717149757 m 1753.9483381084437 m\n",
      "[[[4.14164825e+02 0.00000000e+00]\n",
      "  [4.13881574e+02 1.00000000e+00]\n",
      "  [4.13598631e+02 2.00000000e+00]\n",
      "  ...\n",
      "  [1.39781559e+03 2.00000000e+00]\n",
      "  [1.39853082e+03 1.00000000e+00]\n",
      "  [1.39924706e+03 0.00000000e+00]]]\n"
     ]
    },
    {
     "name": "stderr",
     "output_type": "stream",
     "text": [
      "\n",
      "\n",
      "t:  76%|█████████████████████████████████████████████████▉                | 821/1085 [17:16<06:29,  1.48s/it, now=None]\u001b[A\u001b[A"
     ]
    },
    {
     "name": "stdout",
     "output_type": "stream",
     "text": [
      "1260.205018032844 1410.876359315075\n",
      "1826.2523973614761 m 2105.0888845308505 m\n",
      "[[[4.86542925e+02 0.00000000e+00]\n",
      "  [4.85989476e+02 1.00000000e+00]\n",
      "  [4.85436822e+02 2.00000000e+00]\n",
      "  ...\n",
      "  [1.36400919e+03 2.00000000e+00]\n",
      "  [1.36458762e+03 1.00000000e+00]\n",
      "  [1.36516677e+03 0.00000000e+00]]]\n"
     ]
    },
    {
     "name": "stderr",
     "output_type": "stream",
     "text": [
      "\n",
      "\n",
      "t:  76%|██████████████████████████████████████████████████                | 822/1085 [17:17<06:12,  1.42s/it, now=None]\u001b[A\u001b[A"
     ]
    },
    {
     "name": "stdout",
     "output_type": "stream",
     "text": [
      "785.8284077351793 1325.3753504875813\n",
      "1556.4088909023455 m 2005.9150127014057 m\n",
      "[[[5.49035273e+02 0.00000000e+00]\n",
      "  [5.48222107e+02 1.00000000e+00]\n",
      "  [5.47410243e+02 2.00000000e+00]\n",
      "  ...\n",
      "  [1.35869754e+03 2.00000000e+00]\n",
      "  [1.35928553e+03 1.00000000e+00]\n",
      "  [1.35987428e+03 0.00000000e+00]]]\n"
     ]
    },
    {
     "name": "stderr",
     "output_type": "stream",
     "text": [
      "\n",
      "\n",
      "t:  76%|██████████████████████████████████████████████████                | 823/1085 [17:19<05:58,  1.37s/it, now=None]\u001b[A\u001b[A"
     ]
    },
    {
     "name": "stdout",
     "output_type": "stream",
     "text": [
      "552.4330489867987 1741.221643349727\n",
      "1668.9509984133558 m 2400.190971649451 m\n",
      "[[[6.30525256e+02 0.00000000e+00]\n",
      "  [6.29349514e+02 1.00000000e+00]\n",
      "  [6.28175789e+02 2.00000000e+00]\n",
      "  ...\n",
      "  [1.35217937e+03 2.00000000e+00]\n",
      "  [1.35269673e+03 1.00000000e+00]\n",
      "  [1.35321468e+03 0.00000000e+00]]]\n"
     ]
    },
    {
     "name": "stderr",
     "output_type": "stream",
     "text": [
      "\n",
      "\n",
      "t:  76%|██████████████████████████████████████████████████                | 824/1085 [17:20<05:44,  1.32s/it, now=None]\u001b[A\u001b[A"
     ]
    },
    {
     "name": "stdout",
     "output_type": "stream",
     "text": [
      "561.122419500329 1936.398603887042\n",
      "1695.3358930197112 m 2601.1876404186123 m\n",
      "[[[6.27674008e+02 0.00000000e+00]\n",
      "  [6.26520763e+02 1.00000000e+00]\n",
      "  [6.25369445e+02 2.00000000e+00]\n",
      "  ...\n",
      "  [1.34848853e+03 2.00000000e+00]\n",
      "  [1.34898874e+03 1.00000000e+00]\n",
      "  [1.34948948e+03 0.00000000e+00]]]\n"
     ]
    },
    {
     "name": "stderr",
     "output_type": "stream",
     "text": [
      "\n",
      "\n",
      "t:  76%|██████████████████████████████████████████████████▏               | 825/1085 [17:21<05:38,  1.30s/it, now=None]\u001b[A\u001b[A"
     ]
    },
    {
     "name": "stdout",
     "output_type": "stream",
     "text": [
      "618.6192512279707 2924.6717788685355\n",
      "1624.2625875886708 m 3564.5346770035303 m\n",
      "[[[5.89084334e+02 0.00000000e+00]\n",
      "  [5.88048886e+02 1.00000000e+00]\n",
      "  [5.87015142e+02 2.00000000e+00]\n",
      "  ...\n",
      "  [1.34044345e+03 2.00000000e+00]\n",
      "  [1.34087158e+03 1.00000000e+00]\n",
      "  [1.34130006e+03 0.00000000e+00]]]\n"
     ]
    },
    {
     "name": "stderr",
     "output_type": "stream",
     "text": [
      "\n",
      "\n",
      "t:  76%|██████████████████████████████████████████████████▏               | 826/1085 [17:23<05:36,  1.30s/it, now=None]\u001b[A\u001b[A"
     ]
    },
    {
     "name": "stdout",
     "output_type": "stream",
     "text": [
      "781.0329353483427 2254.446860428768\n",
      "1613.9127061905463 m 2900.4120258654825 m\n",
      "[[[5.39650921e+02 0.00000000e+00]\n",
      "  [5.38814349e+02 1.00000000e+00]\n",
      "  [5.37979074e+02 2.00000000e+00]\n",
      "  ...\n",
      "  [1.34264778e+03 2.00000000e+00]\n",
      "  [1.34311439e+03 1.00000000e+00]\n",
      "  [1.34358147e+03 0.00000000e+00]]]\n"
     ]
    },
    {
     "name": "stderr",
     "output_type": "stream",
     "text": [
      "\n",
      "\n",
      "t:  76%|██████████████████████████████████████████████████▎               | 827/1085 [17:24<05:29,  1.28s/it, now=None]\u001b[A\u001b[A"
     ]
    },
    {
     "name": "stdout",
     "output_type": "stream",
     "text": [
      "887.7223545110371 2447.469087992325\n",
      "1656.9269132755499 m 3118.746069128864 m\n",
      "[[[5.13149614e+02 0.00000000e+00]\n",
      "  [5.12394390e+02 1.00000000e+00]\n",
      "  [5.11640299e+02 2.00000000e+00]\n",
      "  ...\n",
      "  [1.34914379e+03 2.00000000e+00]\n",
      "  [1.34960965e+03 1.00000000e+00]\n",
      "  [1.35007593e+03 0.00000000e+00]]]\n"
     ]
    },
    {
     "name": "stderr",
     "output_type": "stream",
     "text": [
      "\n",
      "\n",
      "t:  76%|██████████████████████████████████████████████████▎               | 828/1085 [17:25<05:25,  1.27s/it, now=None]\u001b[A\u001b[A"
     ]
    },
    {
     "name": "stdout",
     "output_type": "stream",
     "text": [
      "1182.1099228480266 1540.4510363165134\n",
      "1725.897642491418 m 2302.67561896385 m\n",
      "[[[4.35368943e+02 0.00000000e+00]\n",
      "  [4.34805648e+02 1.00000000e+00]\n",
      "  [4.34243202e+02 2.00000000e+00]\n",
      "  ...\n",
      "  [1.39499055e+03 2.00000000e+00]\n",
      "  [1.39557873e+03 1.00000000e+00]\n",
      "  [1.39616757e+03 0.00000000e+00]]]\n"
     ]
    },
    {
     "name": "stderr",
     "output_type": "stream",
     "text": [
      "\n",
      "\n",
      "t:  76%|██████████████████████████████████████████████████▍               | 829/1085 [17:26<05:27,  1.28s/it, now=None]\u001b[A\u001b[A"
     ]
    },
    {
     "name": "stdout",
     "output_type": "stream",
     "text": [
      "1940.1955755237982 2224.44720823909\n",
      "2290.016647337792 m 3016.4574882428165 m\n",
      "[[[3.60445608e+02 0.00000000e+00]\n",
      "  [3.60088305e+02 1.00000000e+00]\n",
      "  [3.59731517e+02 2.00000000e+00]\n",
      "  ...\n",
      "  [1.39870633e+03 2.00000000e+00]\n",
      "  [1.39924028e+03 1.00000000e+00]\n",
      "  [1.39977471e+03 0.00000000e+00]]]\n"
     ]
    },
    {
     "name": "stderr",
     "output_type": "stream",
     "text": [
      "\n",
      "\n",
      "t:  76%|██████████████████████████████████████████████████▍               | 830/1085 [17:28<05:27,  1.28s/it, now=None]\u001b[A\u001b[A"
     ]
    },
    {
     "name": "stdout",
     "output_type": "stream",
     "text": [
      "1729.587024560478 2453.727110616671\n",
      "1993.328925666334 m 3244.998779671934 m\n",
      "[[[3.27440375e+02 0.00000000e+00]\n",
      "  [3.27098054e+02 1.00000000e+00]\n",
      "  [3.26756315e+02 2.00000000e+00]\n",
      "  ...\n",
      "  [1.40869037e+03 2.00000000e+00]\n",
      "  [1.40920940e+03 1.00000000e+00]\n",
      "  [1.40972886e+03 0.00000000e+00]]]\n"
     ]
    },
    {
     "name": "stderr",
     "output_type": "stream",
     "text": [
      "\n",
      "\n",
      "t:  77%|██████████████████████████████████████████████████▌               | 831/1085 [17:29<05:32,  1.31s/it, now=None]\u001b[A\u001b[A"
     ]
    },
    {
     "name": "stdout",
     "output_type": "stream",
     "text": [
      "1505.4059723086248 1616.6008791788697\n",
      "1854.8300290097534 m 2433.3426483688377 m\n",
      "[[[3.55408172e+02 0.00000000e+00]\n",
      "  [3.54995315e+02 1.00000000e+00]\n",
      "  [3.54583128e+02 2.00000000e+00]\n",
      "  ...\n",
      "  [1.42251380e+03 2.00000000e+00]\n",
      "  [1.42311564e+03 1.00000000e+00]\n",
      "  [1.42371812e+03 0.00000000e+00]]]\n"
     ]
    },
    {
     "name": "stderr",
     "output_type": "stream",
     "text": [
      "\n",
      "\n",
      "t:  77%|██████████████████████████████████████████████████▌               | 832/1085 [17:30<05:31,  1.31s/it, now=None]\u001b[A\u001b[A"
     ]
    },
    {
     "name": "stdout",
     "output_type": "stream",
     "text": [
      "1948.1204132658456 722.3059708907157\n",
      "2558.07948736532 m 1593.8428764835346 m\n",
      "[[[4.46164716e+02 0.00000000e+00]\n",
      "  [4.45689744e+02 1.00000000e+00]\n",
      "  [4.45215294e+02 2.00000000e+00]\n",
      "  ...\n",
      "  [1.43806588e+03 2.00000000e+00]\n",
      "  [1.43895617e+03 1.00000000e+00]\n",
      "  [1.43984788e+03 0.00000000e+00]]]\n"
     ]
    },
    {
     "name": "stderr",
     "output_type": "stream",
     "text": [
      "\n",
      "\n",
      "t:  77%|██████████████████████████████████████████████████▋               | 833/1085 [17:32<05:33,  1.32s/it, now=None]\u001b[A\u001b[A"
     ]
    },
    {
     "name": "stdout",
     "output_type": "stream",
     "text": [
      "1683.4044554205946 793.9948381786692\n",
      "2311.323617068595 m 1684.9427232476787 m\n",
      "[[[4.52520248e+02 0.00000000e+00]\n",
      "  [4.52009409e+02 1.00000000e+00]\n",
      "  [4.51499171e+02 2.00000000e+00]\n",
      "  ...\n",
      "  [1.43998901e+03 2.00000000e+00]\n",
      "  [1.44083603e+03 1.00000000e+00]\n",
      "  [1.44168432e+03 0.00000000e+00]]]\n"
     ]
    },
    {
     "name": "stderr",
     "output_type": "stream",
     "text": [
      "\n",
      "\n",
      "t:  77%|██████████████████████████████████████████████████▋               | 834/1085 [17:33<05:34,  1.33s/it, now=None]\u001b[A\u001b[A"
     ]
    },
    {
     "name": "stdout",
     "output_type": "stream",
     "text": [
      "1247.6363357776313 751.8508770706819\n",
      "1166.7895047189975 m 1682.1513746631092 m\n",
      "[[[2.44943185e+02 0.00000000e+00]\n",
      "  [2.45270447e+02 1.00000000e+00]\n",
      "  [2.45596736e+02 2.00000000e+00]\n",
      "  ...\n",
      "  [1.43304545e+03 2.00000000e+00]\n",
      "  [1.43393238e+03 1.00000000e+00]\n",
      "  [1.43482066e+03 0.00000000e+00]]]\n"
     ]
    },
    {
     "name": "stderr",
     "output_type": "stream",
     "text": [
      "\n",
      "\n",
      "t:  77%|██████████████████████████████████████████████████▊               | 835/1085 [17:34<05:34,  1.34s/it, now=None]\u001b[A\u001b[A"
     ]
    },
    {
     "name": "stdout",
     "output_type": "stream",
     "text": [
      "1160.4743818265597 823.7536074678629\n",
      "1154.4673047154513 m 1762.91551609005 m\n",
      "[[[2.18263455e+02 0.00000000e+00]\n",
      "  [2.18647148e+02 1.00000000e+00]\n",
      "  [2.19029808e+02 2.00000000e+00]\n",
      "  ...\n",
      "  [1.43032328e+03 2.00000000e+00]\n",
      "  [1.43117126e+03 1.00000000e+00]\n",
      "  [1.43202046e+03 0.00000000e+00]]]\n"
     ]
    },
    {
     "name": "stderr",
     "output_type": "stream",
     "text": [
      "\n",
      "\n",
      "t:  77%|██████████████████████████████████████████████████▊               | 836/1085 [17:36<05:27,  1.32s/it, now=None]\u001b[A\u001b[A"
     ]
    },
    {
     "name": "stdout",
     "output_type": "stream",
     "text": [
      "1146.8077406210755 841.386645870583\n",
      "1190.0986200448128 m 1843.6079290905468 m\n",
      "[[[1.95618167e+02 0.00000000e+00]\n",
      "  [1.96019242e+02 1.00000000e+00]\n",
      "  [1.96419297e+02 2.00000000e+00]\n",
      "  ...\n",
      "  [1.44192323e+03 2.00000000e+00]\n",
      "  [1.44278602e+03 1.00000000e+00]\n",
      "  [1.44364999e+03 0.00000000e+00]]]\n"
     ]
    },
    {
     "name": "stderr",
     "output_type": "stream",
     "text": [
      "\n",
      "\n",
      "t:  77%|██████████████████████████████████████████████████▉               | 837/1085 [17:38<06:16,  1.52s/it, now=None]\u001b[A\u001b[A"
     ]
    },
    {
     "name": "stdout",
     "output_type": "stream",
     "text": [
      "1032.9616179253997 1432.5809377478874\n",
      "1160.903763048432 m 2232.051020673751 m\n",
      "[[[1.67673276e+02 0.00000000e+00]\n",
      "  [1.68154721e+02 1.00000000e+00]\n",
      "  [1.68635033e+02 2.00000000e+00]\n",
      "  ...\n",
      "  [1.37688848e+03 2.00000000e+00]\n",
      "  [1.37750903e+03 1.00000000e+00]\n",
      "  [1.37813029e+03 0.00000000e+00]]]\n"
     ]
    },
    {
     "name": "stderr",
     "output_type": "stream",
     "text": [
      "\n",
      "\n",
      "t:  77%|██████████████████████████████████████████████████▉               | 838/1085 [17:39<05:53,  1.43s/it, now=None]\u001b[A\u001b[A"
     ]
    },
    {
     "name": "stdout",
     "output_type": "stream",
     "text": [
      "6129.939740439776 1196.167635332099\n",
      "5911.930897100072 m 2161.7617323613326 m\n",
      "[[[2.90644254e+02 0.00000000e+00]\n",
      "  [2.90603000e+02 1.00000000e+00]\n",
      "  [2.90561577e+02 2.00000000e+00]\n",
      "  ...\n",
      "  [1.42738399e+03 2.00000000e+00]\n",
      "  [1.42811955e+03 1.00000000e+00]\n",
      "  [1.42885597e+03 0.00000000e+00]]]\n"
     ]
    },
    {
     "name": "stderr",
     "output_type": "stream",
     "text": [
      "\n",
      "\n",
      "t:  77%|███████████████████████████████████████████████████               | 839/1085 [17:40<05:44,  1.40s/it, now=None]\u001b[A\u001b[A"
     ]
    },
    {
     "name": "stdout",
     "output_type": "stream",
     "text": [
      "4607.105991685799 875.106922154171\n",
      "4443.766419125325 m 1992.5221399218376 m\n",
      "[[[2.67041624e+02 0.00000000e+00]\n",
      "  [2.67047241e+02 1.00000000e+00]\n",
      "  [2.67052633e+02 2.00000000e+00]\n",
      "  ...\n",
      "  [1.46281629e+03 2.00000000e+00]\n",
      "  [1.46370834e+03 1.00000000e+00]\n",
      "  [1.46460154e+03 0.00000000e+00]]]\n"
     ]
    },
    {
     "name": "stderr",
     "output_type": "stream",
     "text": [
      "\n",
      "\n",
      "t:  77%|███████████████████████████████████████████████████               | 840/1085 [17:41<05:36,  1.37s/it, now=None]\u001b[A\u001b[A"
     ]
    },
    {
     "name": "stdout",
     "output_type": "stream",
     "text": [
      "5276.866558079198 1660.6908052141073\n",
      "5597.601274611639 m 2469.847795997376 m\n",
      "[[[3.30702319e+02 0.00000000e+00]\n",
      "  [3.30477590e+02 1.00000000e+00]\n",
      "  [3.30253053e+02 2.00000000e+00]\n",
      "  ...\n",
      "  [1.38143364e+03 2.00000000e+00]\n",
      "  [1.38202672e+03 1.00000000e+00]\n",
      "  [1.38262042e+03 0.00000000e+00]]]\n"
     ]
    },
    {
     "name": "stderr",
     "output_type": "stream",
     "text": [
      "\n",
      "\n",
      "t:  78%|███████████████████████████████████████████████████▏              | 841/1085 [17:43<05:33,  1.37s/it, now=None]\u001b[A\u001b[A"
     ]
    },
    {
     "name": "stdout",
     "output_type": "stream",
     "text": [
      "5350.253657100709 1680.375524766983\n",
      "5625.11980357379 m 2482.477426842493 m\n",
      "[[[3.13825928e+02 0.00000000e+00]\n",
      "  [3.13623997e+02 1.00000000e+00]\n",
      "  [3.13422254e+02 2.00000000e+00]\n",
      "  ...\n",
      "  [1.37903182e+03 2.00000000e+00]\n",
      "  [1.37961947e+03 1.00000000e+00]\n",
      "  [1.38020774e+03 0.00000000e+00]]]\n"
     ]
    },
    {
     "name": "stderr",
     "output_type": "stream",
     "text": [
      "\n",
      "\n",
      "t:  78%|███████████████████████████████████████████████████▏              | 842/1085 [17:44<05:21,  1.32s/it, now=None]\u001b[A\u001b[A"
     ]
    },
    {
     "name": "stdout",
     "output_type": "stream",
     "text": [
      "1548.0182639225366 1148.8278650757193\n",
      "1912.2467668793875 m 1973.126034961144 m\n",
      "[[[3.57725889e+02 0.00000000e+00]\n",
      "  [3.57313570e+02 1.00000000e+00]\n",
      "  [3.56901900e+02 2.00000000e+00]\n",
      "  ...\n",
      "  [1.39432292e+03 2.00000000e+00]\n",
      "  [1.39501062e+03 1.00000000e+00]\n",
      "  [1.39569919e+03 0.00000000e+00]]]\n"
     ]
    },
    {
     "name": "stderr",
     "output_type": "stream",
     "text": [
      "\n",
      "\n",
      "t:  78%|███████████████████████████████████████████████████▎              | 843/1085 [17:45<05:12,  1.29s/it, now=None]\u001b[A\u001b[A"
     ]
    },
    {
     "name": "stdout",
     "output_type": "stream",
     "text": [
      "1407.2521434669738 1556.7078824328253\n",
      "1798.8503568779138 m 2446.4192887247355 m\n",
      "[[[3.65937746e+02 0.00000000e+00]\n",
      "  [3.65489092e+02 1.00000000e+00]\n",
      "  [3.65041153e+02 2.00000000e+00]\n",
      "  ...\n",
      "  [1.39593167e+03 2.00000000e+00]\n",
      "  [1.39657294e+03 1.00000000e+00]\n",
      "  [1.39721489e+03 0.00000000e+00]]]\n"
     ]
    },
    {
     "name": "stderr",
     "output_type": "stream",
     "text": [
      "\n",
      "\n",
      "t:  78%|███████████████████████████████████████████████████▎              | 844/1085 [17:47<05:12,  1.30s/it, now=None]\u001b[A\u001b[A"
     ]
    },
    {
     "name": "stdout",
     "output_type": "stream",
     "text": [
      "1974.4047554765293 2442.9546916385657\n",
      "2464.7428771388886 m 3355.3099877152517 m\n",
      "[[[3.86362807e+02 0.00000000e+00]\n",
      "  [3.85944580e+02 1.00000000e+00]\n",
      "  [3.85526862e+02 2.00000000e+00]\n",
      "  ...\n",
      "  [1.38610121e+03 2.00000000e+00]\n",
      "  [1.38667362e+03 1.00000000e+00]\n",
      "  [1.38724648e+03 0.00000000e+00]]]\n"
     ]
    },
    {
     "name": "stderr",
     "output_type": "stream",
     "text": [
      "\n",
      "\n",
      "t:  78%|███████████████████████████████████████████████████▍              | 845/1085 [17:48<05:14,  1.31s/it, now=None]\u001b[A\u001b[A"
     ]
    },
    {
     "name": "stdout",
     "output_type": "stream",
     "text": [
      "1411.5441652527131 1465.5361685040855\n",
      "1925.0028967791914 m 2438.949651728762 m\n",
      "[[[3.97947190e+02 0.00000000e+00]\n",
      "  [3.97446874e+02 1.00000000e+00]\n",
      "  [3.96947267e+02 2.00000000e+00]\n",
      "  ...\n",
      "  [1.41213614e+03 2.00000000e+00]\n",
      "  [1.41282611e+03 1.00000000e+00]\n",
      "  [1.41351681e+03 0.00000000e+00]]]\n"
     ]
    },
    {
     "name": "stderr",
     "output_type": "stream",
     "text": [
      "\n",
      "\n",
      "t:  78%|███████████████████████████████████████████████████▍              | 846/1085 [17:50<05:45,  1.44s/it, now=None]\u001b[A\u001b[A"
     ]
    },
    {
     "name": "stdout",
     "output_type": "stream",
     "text": [
      "1340.7692695969063 1511.3795399103697\n",
      "1825.8926875449386 m 2507.89246438303 m\n",
      "[[[3.89255347e+02 0.00000000e+00]\n",
      "  [3.88753618e+02 1.00000000e+00]\n",
      "  [3.88252637e+02 2.00000000e+00]\n",
      "  ...\n",
      "  [1.42196061e+03 2.00000000e+00]\n",
      "  [1.42265370e+03 1.00000000e+00]\n",
      "  [1.42334748e+03 0.00000000e+00]]]\n"
     ]
    },
    {
     "name": "stderr",
     "output_type": "stream",
     "text": [
      "\n",
      "\n",
      "t:  78%|███████████████████████████████████████████████████▌              | 847/1085 [17:51<05:39,  1.43s/it, now=None]\u001b[A\u001b[A"
     ]
    },
    {
     "name": "stdout",
     "output_type": "stream",
     "text": [
      "5670.075995831103 12121.27357988445\n",
      "6229.252330024062 m 12891.724006597538 m\n",
      "[[[3.95751226e+02 0.00000000e+00]\n",
      "  [3.95420165e+02 1.00000000e+00]\n",
      "  [3.95089291e+02 2.00000000e+00]\n",
      "  ...\n",
      "  [1.34280517e+03 2.00000000e+00]\n",
      "  [1.34319221e+03 1.00000000e+00]\n",
      "  [1.34357935e+03 0.00000000e+00]]]\n"
     ]
    },
    {
     "name": "stderr",
     "output_type": "stream",
     "text": [
      "\n",
      "\n",
      "t:  78%|███████████████████████████████████████████████████▌              | 848/1085 [17:53<05:45,  1.46s/it, now=None]\u001b[A\u001b[A"
     ]
    },
    {
     "name": "stdout",
     "output_type": "stream",
     "text": [
      "4397.603527854124 4733.150848447223\n",
      "4905.6297864471435 m 5559.204815828057 m\n",
      "[[[3.79305082e+02 0.00000000e+00]\n",
      "  [3.78978536e+02 1.00000000e+00]\n",
      "  [3.78652225e+02 2.00000000e+00]\n",
      "  ...\n",
      "  [1.36629415e+03 2.00000000e+00]\n",
      "  [1.36675649e+03 1.00000000e+00]\n",
      "  [1.36721907e+03 0.00000000e+00]]]\n"
     ]
    },
    {
     "name": "stderr",
     "output_type": "stream",
     "text": [
      "\n",
      "\n",
      "t:  78%|███████████████████████████████████████████████████▋              | 849/1085 [17:54<05:46,  1.47s/it, now=None]\u001b[A\u001b[A"
     ]
    },
    {
     "name": "stdout",
     "output_type": "stream",
     "text": [
      "5056.131662405876 4815.163002634781\n",
      "5516.722723598869 m 5667.32097690099 m\n",
      "[[[3.56676896e+02 0.00000000e+00]\n",
      "  [3.56383291e+02 1.00000000e+00]\n",
      "  [3.56089889e+02 2.00000000e+00]\n",
      "  ...\n",
      "  [1.37583023e+03 2.00000000e+00]\n",
      "  [1.37630235e+03 1.00000000e+00]\n",
      "  [1.37677470e+03 0.00000000e+00]]]\n"
     ]
    },
    {
     "name": "stderr",
     "output_type": "stream",
     "text": [
      "\n",
      "\n",
      "t:  78%|███████████████████████████████████████████████████▋              | 850/1085 [17:56<05:46,  1.47s/it, now=None]\u001b[A\u001b[A"
     ]
    },
    {
     "name": "stdout",
     "output_type": "stream",
     "text": [
      "2261.213063952185 5282.080981945982\n",
      "2733.681445532676 m 6083.791180402375 m\n",
      "[[[3.64542869e+02 0.00000000e+00]\n",
      "  [3.64155590e+02 1.00000000e+00]\n",
      "  [3.63768756e+02 2.00000000e+00]\n",
      "  ...\n",
      "  [1.36714479e+03 2.00000000e+00]\n",
      "  [1.36758815e+03 1.00000000e+00]\n",
      "  [1.36803172e+03 0.00000000e+00]]]\n"
     ]
    },
    {
     "name": "stderr",
     "output_type": "stream",
     "text": [
      "\n",
      "\n",
      "t:  78%|███████████████████████████████████████████████████▊              | 851/1085 [17:57<05:41,  1.46s/it, now=None]\u001b[A\u001b[A"
     ]
    },
    {
     "name": "stdout",
     "output_type": "stream",
     "text": [
      "1228.6495179587891 7395.171919211529\n",
      "1703.859582103638 m 8185.161293121465 m\n",
      "[[[3.72150937e+02 0.00000000e+00]\n",
      "  [3.71627899e+02 1.00000000e+00]\n",
      "  [3.71105679e+02 2.00000000e+00]\n",
      "  ...\n",
      "  [1.36515379e+03 2.00000000e+00]\n",
      "  [1.36557070e+03 1.00000000e+00]\n",
      "  [1.36598777e+03 0.00000000e+00]]]\n"
     ]
    },
    {
     "name": "stderr",
     "output_type": "stream",
     "text": [
      "\n",
      "\n",
      "t:  79%|███████████████████████████████████████████████████▊              | 852/1085 [17:58<05:41,  1.46s/it, now=None]\u001b[A\u001b[A"
     ]
    },
    {
     "name": "stdout",
     "output_type": "stream",
     "text": [
      "1039.8703252661535 4666.0753941276325\n",
      "1720.2953749789424 m 5388.57581446016 m\n",
      "[[[4.35075799e+02 0.00000000e+00]\n",
      "  [4.34414874e+02 1.00000000e+00]\n",
      "  [4.33754912e+02 2.00000000e+00]\n",
      "  ...\n",
      "  [1.34210707e+03 2.00000000e+00]\n",
      "  [1.34252549e+03 1.00000000e+00]\n",
      "  [1.34294416e+03 0.00000000e+00]]]\n"
     ]
    },
    {
     "name": "stderr",
     "output_type": "stream",
     "text": [
      "\n",
      "\n",
      "t:  79%|███████████████████████████████████████████████████▉              | 853/1085 [18:00<05:24,  1.40s/it, now=None]\u001b[A\u001b[A"
     ]
    },
    {
     "name": "stdout",
     "output_type": "stream",
     "text": [
      "1023.1130321132895 2500.3966378671744\n",
      "1765.0486113027798 m 3282.9395252703866 m\n",
      "[[[4.53640574e+02 0.00000000e+00]\n",
      "  [4.52949496e+02 1.00000000e+00]\n",
      "  [4.52259395e+02 2.00000000e+00]\n",
      "  ...\n",
      "  [1.35456663e+03 2.00000000e+00]\n",
      "  [1.35507914e+03 1.00000000e+00]\n",
      "  [1.35559208e+03 0.00000000e+00]]]\n"
     ]
    },
    {
     "name": "stderr",
     "output_type": "stream",
     "text": [
      "\n",
      "\n",
      "t:  79%|███████████████████████████████████████████████████▉              | 854/1085 [18:01<05:19,  1.39s/it, now=None]\u001b[A\u001b[A"
     ]
    },
    {
     "name": "stdout",
     "output_type": "stream",
     "text": [
      "1224.3870577586172 1547.1477759928655\n",
      "2058.1447146960304 m 2321.13990316703 m\n",
      "[[[4.75853330e+02 0.00000000e+00]\n",
      "  [4.75178424e+02 1.00000000e+00]\n",
      "  [4.74504343e+02 2.00000000e+00]\n",
      "  ...\n",
      "  [1.35804180e+03 2.00000000e+00]\n",
      "  [1.35863418e+03 1.00000000e+00]\n",
      "  [1.35922723e+03 0.00000000e+00]]]\n"
     ]
    },
    {
     "name": "stderr",
     "output_type": "stream",
     "text": [
      "\n",
      "\n",
      "t:  79%|████████████████████████████████████████████████████              | 855/1085 [18:02<05:12,  1.36s/it, now=None]\u001b[A\u001b[A"
     ]
    },
    {
     "name": "stdout",
     "output_type": "stream",
     "text": [
      "1246.6107676117756 1392.2742297900477\n",
      "2120.878501430618 m 2142.9882681959302 m\n",
      "[[[4.86975622e+02 0.00000000e+00]\n",
      "  [4.86288343e+02 1.00000000e+00]\n",
      "  [4.85601879e+02 2.00000000e+00]\n",
      "  ...\n",
      "  [1.35226833e+03 2.00000000e+00]\n",
      "  [1.35287446e+03 1.00000000e+00]\n",
      "  [1.35348132e+03 0.00000000e+00]]]\n"
     ]
    },
    {
     "name": "stderr",
     "output_type": "stream",
     "text": [
      "\n",
      "\n",
      "t:  79%|████████████████████████████████████████████████████              | 856/1085 [18:04<05:04,  1.33s/it, now=None]\u001b[A\u001b[A"
     ]
    },
    {
     "name": "stdout",
     "output_type": "stream",
     "text": [
      "1476.744255005436 1372.8879801691178\n",
      "2321.3561362935097 m 2144.2662068478858 m\n",
      "[[[4.71220939e+02 0.00000000e+00]\n",
      "  [4.70587037e+02 1.00000000e+00]\n",
      "  [4.69953831e+02 2.00000000e+00]\n",
      "  ...\n",
      "  [1.35989829e+03 2.00000000e+00]\n",
      "  [1.36051671e+03 1.00000000e+00]\n",
      "  [1.36113588e+03 0.00000000e+00]]]\n"
     ]
    },
    {
     "name": "stderr",
     "output_type": "stream",
     "text": [
      "\n",
      "\n",
      "t:  79%|████████████████████████████████████████████████████▏             | 857/1085 [18:05<04:57,  1.31s/it, now=None]\u001b[A\u001b[A"
     ]
    },
    {
     "name": "stdout",
     "output_type": "stream",
     "text": [
      "1379.5958105387663 1287.609356165233\n",
      "2292.1341406020765 m 2049.119885799696 m\n",
      "[[[4.92896053e+02 0.00000000e+00]\n",
      "  [4.92217513e+02 1.00000000e+00]\n",
      "  [4.91539720e+02 2.00000000e+00]\n",
      "  ...\n",
      "  [1.35392275e+03 2.00000000e+00]\n",
      "  [1.35455293e+03 1.00000000e+00]\n",
      "  [1.35518389e+03 0.00000000e+00]]]\n"
     ]
    },
    {
     "name": "stderr",
     "output_type": "stream",
     "text": [
      "\n",
      "\n",
      "t:  79%|████████████████████████████████████████████████████▏             | 858/1085 [18:06<04:55,  1.30s/it, now=None]\u001b[A\u001b[A"
     ]
    },
    {
     "name": "stdout",
     "output_type": "stream",
     "text": [
      "1126.6614147103223 1123.7114120270285\n",
      "1986.0304912450072 m 1892.071613545449 m\n",
      "[[[4.82946904e+02 0.00000000e+00]\n",
      "  [4.82238121e+02 1.00000000e+00]\n",
      "  [4.81530230e+02 2.00000000e+00]\n",
      "  ...\n",
      "  [1.35888736e+03 2.00000000e+00]\n",
      "  [1.35955826e+03 1.00000000e+00]\n",
      "  [1.36023006e+03 0.00000000e+00]]]\n"
     ]
    },
    {
     "name": "stderr",
     "output_type": "stream",
     "text": [
      "\n",
      "\n",
      "t:  79%|████████████████████████████████████████████████████▎             | 859/1085 [18:08<05:05,  1.35s/it, now=None]\u001b[A\u001b[A"
     ]
    },
    {
     "name": "stdout",
     "output_type": "stream",
     "text": [
      "880.9560617760623 1507.767699467853\n",
      "1702.4204763648634 m 2226.507274885157 m\n",
      "[[[4.73561165e+02 0.00000000e+00]\n",
      "  [4.72783391e+02 1.00000000e+00]\n",
      "  [4.72006755e+02 2.00000000e+00]\n",
      "  ...\n",
      "  [1.34492561e+03 2.00000000e+00]\n",
      "  [1.34549945e+03 1.00000000e+00]\n",
      "  [1.34607396e+03 0.00000000e+00]]]\n"
     ]
    },
    {
     "name": "stderr",
     "output_type": "stream",
     "text": [
      "\n",
      "\n",
      "t:  79%|████████████████████████████████████████████████████▎             | 860/1085 [18:09<05:37,  1.50s/it, now=None]\u001b[A\u001b[A"
     ]
    },
    {
     "name": "stdout",
     "output_type": "stream",
     "text": [
      "802.8082383125642 883.6416008959326\n",
      "1703.3323632855102 m 1729.840451141274 m\n",
      "[[[4.99242976e+02 0.00000000e+00]\n",
      "  [4.98396413e+02 1.00000000e+00]\n",
      "  [4.97551101e+02 2.00000000e+00]\n",
      "  ...\n",
      "  [1.38603561e+03 2.00000000e+00]\n",
      "  [1.38682028e+03 1.00000000e+00]\n",
      "  [1.38760609e+03 0.00000000e+00]]]\n"
     ]
    },
    {
     "name": "stderr",
     "output_type": "stream",
     "text": [
      "\n",
      "\n",
      "t:  79%|████████████████████████████████████████████████████▎             | 861/1085 [18:11<05:27,  1.46s/it, now=None]\u001b[A\u001b[A"
     ]
    },
    {
     "name": "stdout",
     "output_type": "stream",
     "text": [
      "625.0404464559472 665.2014970700292\n",
      "1626.4895074852075 m 1573.4233143841147 m\n",
      "[[[5.30974720e+02 0.00000000e+00]\n",
      "  [5.29948923e+02 1.00000000e+00]\n",
      "  [5.28924804e+02 2.00000000e+00]\n",
      "  ...\n",
      "  [1.40327031e+03 2.00000000e+00]\n",
      "  [1.40422497e+03 1.00000000e+00]\n",
      "  [1.40518120e+03 0.00000000e+00]]]\n"
     ]
    },
    {
     "name": "stderr",
     "output_type": "stream",
     "text": [
      "\n",
      "\n",
      "t:  79%|████████████████████████████████████████████████████▍             | 862/1085 [18:12<05:15,  1.41s/it, now=None]\u001b[A\u001b[A"
     ]
    },
    {
     "name": "stdout",
     "output_type": "stream",
     "text": [
      "667.7815365147479 518.457856902304\n",
      "1931.0831315855955 m 1780.4572810934192 m\n",
      "[[[5.88310206e+02 0.00000000e+00]\n",
      "  [5.87251005e+02 1.00000000e+00]\n",
      "  [5.86193303e+02 2.00000000e+00]\n",
      "  ...\n",
      "  [1.47577399e+03 2.00000000e+00]\n",
      "  [1.47721155e+03 1.00000000e+00]\n",
      "  [1.47865181e+03 0.00000000e+00]]]\n"
     ]
    },
    {
     "name": "stderr",
     "output_type": "stream",
     "text": [
      "\n",
      "\n",
      "t:  80%|████████████████████████████████████████████████████▍             | 863/1085 [18:13<05:05,  1.38s/it, now=None]\u001b[A\u001b[A"
     ]
    },
    {
     "name": "stdout",
     "output_type": "stream",
     "text": [
      "704.5915370758112 578.4743276824682\n",
      "1950.4811046595312 m 2182.539471358331 m\n",
      "[[[5.84178845e+02 0.00000000e+00]\n",
      "  [5.83151312e+02 1.00000000e+00]\n",
      "  [5.82125198e+02 2.00000000e+00]\n",
      "  ...\n",
      "  [1.54439386e+03 2.00000000e+00]\n",
      "  [1.54624061e+03 1.00000000e+00]\n",
      "  [1.54809108e+03 0.00000000e+00]]]\n"
     ]
    },
    {
     "name": "stderr",
     "output_type": "stream",
     "text": [
      "\n",
      "\n",
      "t:  80%|████████████████████████████████████████████████████▌             | 864/1085 [18:15<04:55,  1.34s/it, now=None]\u001b[A\u001b[A"
     ]
    },
    {
     "name": "stdout",
     "output_type": "stream",
     "text": [
      "590.5382451323417 934.9869795363688\n",
      "1871.684581864512 m 3588.282226925111 m\n",
      "[[[5.85470849e+02 0.00000000e+00]\n",
      "  [5.84334670e+02 1.00000000e+00]\n",
      "  [5.83200210e+02 2.00000000e+00]\n",
      "  ...\n",
      "  [1.73024397e+03 2.00000000e+00]\n",
      "  [1.73297673e+03 1.00000000e+00]\n",
      "  [1.73571533e+03 0.00000000e+00]]]\n"
     ]
    },
    {
     "name": "stderr",
     "output_type": "stream",
     "text": [
      "\n",
      "\n",
      "t:  80%|████████████████████████████████████████████████████▌             | 865/1085 [18:16<04:47,  1.31s/it, now=None]\u001b[A\u001b[A"
     ]
    },
    {
     "name": "stdout",
     "output_type": "stream",
     "text": [
      "652.50273915515 1030.7131650571062\n",
      "2055.733991730674 m 2700.7113742895685 m\n",
      "[[[6.15860863e+02 0.00000000e+00]\n",
      "  [6.14743489e+02 1.00000000e+00]\n",
      "  [6.13627647e+02 2.00000000e+00]\n",
      "  ...\n",
      "  [1.59218630e+03 2.00000000e+00]\n",
      "  [1.59455488e+03 1.00000000e+00]\n",
      "  [1.59692879e+03 0.00000000e+00]]]\n"
     ]
    },
    {
     "name": "stderr",
     "output_type": "stream",
     "text": [
      "\n",
      "\n",
      "t:  80%|████████████████████████████████████████████████████▋             | 866/1085 [18:17<04:42,  1.29s/it, now=None]\u001b[A\u001b[A"
     ]
    },
    {
     "name": "stdout",
     "output_type": "stream",
     "text": [
      "564.6788062645186 814.5512783584209\n",
      "1742.305599731158 m 3964.056864227123 m\n",
      "[[[5.97203583e+02 0.00000000e+00]\n",
      "  [5.96052936e+02 1.00000000e+00]\n",
      "  [5.94904161e+02 2.00000000e+00]\n",
      "  ...\n",
      "  [1.77269709e+03 2.00000000e+00]\n",
      "  [1.77553063e+03 1.00000000e+00]\n",
      "  [1.77837000e+03 0.00000000e+00]]]\n"
     ]
    },
    {
     "name": "stderr",
     "output_type": "stream",
     "text": [
      "\n",
      "\n",
      "t:  80%|████████████████████████████████████████████████████▋             | 867/1085 [18:19<04:50,  1.33s/it, now=None]\u001b[A\u001b[A"
     ]
    },
    {
     "name": "stdout",
     "output_type": "stream",
     "text": [
      "651.6203745985758 668.1620539542374\n",
      "1714.5879894227814 m 3356.145532107609 m\n",
      "[[[5.67566835e+02 0.00000000e+00]\n",
      "  [5.66556182e+02 1.00000000e+00]\n",
      "  [5.65547094e+02 2.00000000e+00]\n",
      "  ...\n",
      "  [1.71868611e+03 2.00000000e+00]\n",
      "  [1.72119829e+03 1.00000000e+00]\n",
      "  [1.72371553e+03 0.00000000e+00]]]\n"
     ]
    },
    {
     "name": "stderr",
     "output_type": "stream",
     "text": [
      "\n",
      "\n",
      "t:  80%|████████████████████████████████████████████████████▊             | 868/1085 [18:20<05:01,  1.39s/it, now=None]\u001b[A\u001b[A"
     ]
    },
    {
     "name": "stdout",
     "output_type": "stream",
     "text": [
      "912.7140276206165 464.9147221957023\n",
      "2125.892178670086 m 2916.6818077251355 m\n",
      "[[[5.79743926e+02 0.00000000e+00]\n",
      "  [5.78827987e+02 1.00000000e+00]\n",
      "  [5.77913164e+02 2.00000000e+00]\n",
      "  ...\n",
      "  [1.65830499e+03 2.00000000e+00]\n",
      "  [1.66045071e+03 1.00000000e+00]\n",
      "  [1.66260041e+03 0.00000000e+00]]]\n"
     ]
    },
    {
     "name": "stderr",
     "output_type": "stream",
     "text": [
      "\n",
      "\n",
      "t:  80%|████████████████████████████████████████████████████▊             | 869/1085 [18:22<05:38,  1.57s/it, now=None]\u001b[A\u001b[A"
     ]
    },
    {
     "name": "stdout",
     "output_type": "stream",
     "text": [
      "1028.2981723228932 402.85866815684307\n",
      "2224.966288743317 m 2775.949655668153 m\n",
      "[[[5.63353592e+02 0.00000000e+00]\n",
      "  [5.62481002e+02 1.00000000e+00]\n",
      "  [5.61609419e+02 2.00000000e+00]\n",
      "  ...\n",
      "  [1.65812404e+03 2.00000000e+00]\n",
      "  [1.66008521e+03 1.00000000e+00]\n",
      "  [1.66204978e+03 0.00000000e+00]]]\n"
     ]
    },
    {
     "name": "stderr",
     "output_type": "stream",
     "text": [
      "\n",
      "\n",
      "t:  80%|████████████████████████████████████████████████████▉             | 870/1085 [18:24<05:29,  1.53s/it, now=None]\u001b[A\u001b[A"
     ]
    },
    {
     "name": "stdout",
     "output_type": "stream",
     "text": [
      "926.9542211776616 386.4087422227855\n",
      "2099.7259859514647 m 2733.3837860994204 m\n",
      "[[[5.69143861e+02 0.00000000e+00]\n",
      "  [5.68248729e+02 1.00000000e+00]\n",
      "  [5.67354694e+02 2.00000000e+00]\n",
      "  ...\n",
      "  [1.64779346e+03 2.00000000e+00]\n",
      "  [1.64965296e+03 1.00000000e+00]\n",
      "  [1.65151554e+03 0.00000000e+00]]]\n"
     ]
    },
    {
     "name": "stderr",
     "output_type": "stream",
     "text": [
      "\n",
      "\n",
      "t:  80%|████████████████████████████████████████████████████▉             | 871/1085 [18:25<05:19,  1.49s/it, now=None]\u001b[A\u001b[A"
     ]
    },
    {
     "name": "stdout",
     "output_type": "stream",
     "text": [
      "854.4765324873413 355.13118420596663\n",
      "1715.8459039578875 m 3441.426453469925 m\n",
      "[[[5.12470361e+02 0.00000000e+00]\n",
      "  [5.11665166e+02 1.00000000e+00]\n",
      "  [5.10861143e+02 2.00000000e+00]\n",
      "  ...\n",
      "  [1.76940530e+03 2.00000000e+00]\n",
      "  [1.77162984e+03 1.00000000e+00]\n",
      "  [1.77385811e+03 0.00000000e+00]]]\n"
     ]
    },
    {
     "name": "stderr",
     "output_type": "stream",
     "text": [
      "\n",
      "\n",
      "t:  80%|█████████████████████████████████████████████████████             | 872/1085 [18:26<05:13,  1.47s/it, now=None]\u001b[A\u001b[A"
     ]
    },
    {
     "name": "stdout",
     "output_type": "stream",
     "text": [
      "647.9763271061248 522.0918659551561\n",
      "1668.042026823613 m 1712.6812936687525 m\n",
      "[[[5.79494969e+02 0.00000000e+00]\n",
      "  [5.78492193e+02 1.00000000e+00]\n",
      "  [5.77491004e+02 2.00000000e+00]\n",
      "  ...\n",
      "  [1.51511522e+03 2.00000000e+00]\n",
      "  [1.51644678e+03 1.00000000e+00]\n",
      "  [1.51778078e+03 0.00000000e+00]]]\n"
     ]
    },
    {
     "name": "stderr",
     "output_type": "stream",
     "text": [
      "\n",
      "\n",
      "t:  80%|█████████████████████████████████████████████████████             | 873/1085 [18:28<05:02,  1.43s/it, now=None]\u001b[A\u001b[A"
     ]
    },
    {
     "name": "stdout",
     "output_type": "stream",
     "text": [
      "649.0924942671501 513.081549170493\n",
      "1623.6226398621334 m 1758.9850940527253 m\n",
      "[[[5.73434155e+02 0.00000000e+00]\n",
      "  [5.72444008e+02 1.00000000e+00]\n",
      "  [5.71455461e+02 2.00000000e+00]\n",
      "  ...\n",
      "  [1.52511556e+03 2.00000000e+00]\n",
      "  [1.52648474e+03 1.00000000e+00]\n",
      "  [1.52785642e+03 0.00000000e+00]]]\n"
     ]
    },
    {
     "name": "stderr",
     "output_type": "stream",
     "text": [
      "\n",
      "\n",
      "t:  81%|█████████████████████████████████████████████████████▏            | 874/1085 [18:29<04:56,  1.41s/it, now=None]\u001b[A\u001b[A"
     ]
    },
    {
     "name": "stdout",
     "output_type": "stream",
     "text": [
      "764.3844499111132 425.19771267394225\n",
      "1607.0757614299675 m 2389.345601550106 m\n",
      "[[[5.09945999e+02 0.00000000e+00]\n",
      "  [5.09095015e+02 1.00000000e+00]\n",
      "  [5.08245361e+02 2.00000000e+00]\n",
      "  ...\n",
      "  [1.65273320e+03 2.00000000e+00]\n",
      "  [1.65446958e+03 1.00000000e+00]\n",
      "  [1.65620896e+03 0.00000000e+00]]]\n"
     ]
    },
    {
     "name": "stderr",
     "output_type": "stream",
     "text": [
      "\n",
      "\n",
      "t:  81%|█████████████████████████████████████████████████████▏            | 875/1085 [18:30<04:53,  1.40s/it, now=None]\u001b[A\u001b[A"
     ]
    },
    {
     "name": "stdout",
     "output_type": "stream",
     "text": [
      "929.9024486796136 457.6023642297779\n",
      "1803.7597897299922 m 2076.590716280092 m\n",
      "[[[4.96476251e+02 0.00000000e+00]\n",
      "  [4.95699336e+02 1.00000000e+00]\n",
      "  [4.94923496e+02 2.00000000e+00]\n",
      "  ...\n",
      "  [1.59353478e+03 2.00000000e+00]\n",
      "  [1.59503801e+03 1.00000000e+00]\n",
      "  [1.59654380e+03 0.00000000e+00]]]\n"
     ]
    },
    {
     "name": "stderr",
     "output_type": "stream",
     "text": [
      "\n",
      "\n",
      "t:  81%|█████████████████████████████████████████████████████▎            | 876/1085 [18:32<04:47,  1.38s/it, now=None]\u001b[A\u001b[A"
     ]
    },
    {
     "name": "stdout",
     "output_type": "stream",
     "text": [
      "1018.7872846683471 571.0816414312804\n",
      "1832.1116948916178 m 1936.4047750874877 m\n",
      "[[[4.70916560e+02 0.00000000e+00]\n",
      "  [4.70195412e+02 1.00000000e+00]\n",
      "  [4.69475246e+02 2.00000000e+00]\n",
      "  ...\n",
      "  [1.53552911e+03 2.00000000e+00]\n",
      "  [1.53670929e+03 1.00000000e+00]\n",
      "  [1.53789123e+03 0.00000000e+00]]]\n"
     ]
    },
    {
     "name": "stderr",
     "output_type": "stream",
     "text": [
      "\n",
      "\n",
      "t:  81%|█████████████████████████████████████████████████████▎            | 877/1085 [18:33<04:45,  1.37s/it, now=None]\u001b[A\u001b[A"
     ]
    },
    {
     "name": "stdout",
     "output_type": "stream",
     "text": [
      "1447.02152397597 1186.9660457240118\n",
      "2428.2221506161177 m 2221.7453865051707 m\n",
      "[[[5.01615519e+02 0.00000000e+00]\n",
      "  [5.00918719e+02 1.00000000e+00]\n",
      "  [5.00222642e+02 2.00000000e+00]\n",
      "  ...\n",
      "  [1.43693435e+03 2.00000000e+00]\n",
      "  [1.43770064e+03 1.00000000e+00]\n",
      "  [1.43846779e+03 0.00000000e+00]]]\n"
     ]
    },
    {
     "name": "stderr",
     "output_type": "stream",
     "text": [
      "\n",
      "\n",
      "t:  81%|█████████████████████████████████████████████████████▍            | 878/1085 [18:34<04:44,  1.37s/it, now=None]\u001b[A\u001b[A"
     ]
    },
    {
     "name": "stdout",
     "output_type": "stream",
     "text": [
      "2016.1071834959077 1075.51749760798\n",
      "3033.0521664933863 m 2146.356301507714 m\n",
      "[[[5.00757421e+02 0.00000000e+00]\n",
      "  [5.00109890e+02 1.00000000e+00]\n",
      "  [4.99462904e+02 2.00000000e+00]\n",
      "  ...\n",
      "  [1.44755692e+03 2.00000000e+00]\n",
      "  [1.44836499e+03 1.00000000e+00]\n",
      "  [1.44917402e+03 0.00000000e+00]]]\n"
     ]
    },
    {
     "name": "stderr",
     "output_type": "stream",
     "text": [
      "\n",
      "\n",
      "t:  81%|█████████████████████████████████████████████████████▍            | 879/1085 [18:36<04:36,  1.34s/it, now=None]\u001b[A\u001b[A"
     ]
    },
    {
     "name": "stdout",
     "output_type": "stream",
     "text": [
      "1878.490100261787 491.35114453049744\n",
      "2830.7538384407376 m 1979.6504593592495 m\n",
      "[[[4.87905052e+02 0.00000000e+00]\n",
      "  [4.87272715e+02 1.00000000e+00]\n",
      "  [4.86640949e+02 2.00000000e+00]\n",
      "  ...\n",
      "  [1.56206214e+03 2.00000000e+00]\n",
      "  [1.56340972e+03 1.00000000e+00]\n",
      "  [1.56475948e+03 0.00000000e+00]]]\n"
     ]
    },
    {
     "name": "stderr",
     "output_type": "stream",
     "text": [
      "\n",
      "\n",
      "t:  81%|█████████████████████████████████████████████████████▌            | 880/1085 [18:37<04:32,  1.33s/it, now=None]\u001b[A\u001b[A"
     ]
    },
    {
     "name": "stdout",
     "output_type": "stream",
     "text": [
      "2611.460939484973 140047.90493897873\n",
      "3822.5343107758013 m 139146.08808794376 m\n",
      "[[[5.54228265e+02 0.00000000e+00]\n",
      "  [5.53540743e+02 1.00000000e+00]\n",
      "  [5.52853679e+02 2.00000000e+00]\n",
      "  ...\n",
      "  [1.36436562e+03 2.00000000e+00]\n",
      "  [1.36476670e+03 1.00000000e+00]\n",
      "  [1.36516778e+03 0.00000000e+00]]]\n"
     ]
    },
    {
     "name": "stderr",
     "output_type": "stream",
     "text": [
      "\n",
      "\n",
      "t:  81%|█████████████████████████████████████████████████████▌            | 881/1085 [18:38<04:27,  1.31s/it, now=None]\u001b[A\u001b[A"
     ]
    },
    {
     "name": "stdout",
     "output_type": "stream",
     "text": [
      "3125.1375726121287 9014.710345979967\n",
      "4457.369719863017 m 9877.029007089744 m\n",
      "[[[5.87658939e+02 0.00000000e+00]\n",
      "  [5.86947759e+02 1.00000000e+00]\n",
      "  [5.86236988e+02 2.00000000e+00]\n",
      "  ...\n",
      "  [1.36104081e+03 2.00000000e+00]\n",
      "  [1.36147823e+03 1.00000000e+00]\n",
      "  [1.36191578e+03 0.00000000e+00]]]\n"
     ]
    },
    {
     "name": "stderr",
     "output_type": "stream",
     "text": [
      "\n",
      "\n",
      "t:  81%|█████████████████████████████████████████████████████▋            | 882/1085 [18:40<04:19,  1.28s/it, now=None]\u001b[A\u001b[A"
     ]
    },
    {
     "name": "stdout",
     "output_type": "stream",
     "text": [
      "3029.6098607813824 4672.539521679112\n",
      "4421.9805647717 m 5513.631128127139 m\n",
      "[[[6.08299841e+02 0.00000000e+00]\n",
      "  [6.07561608e+02 1.00000000e+00]\n",
      "  [6.06823802e+02 2.00000000e+00]\n",
      "  ...\n",
      "  [1.35928105e+03 2.00000000e+00]\n",
      "  [1.35975090e+03 1.00000000e+00]\n",
      "  [1.36022099e+03 0.00000000e+00]]]\n"
     ]
    },
    {
     "name": "stderr",
     "output_type": "stream",
     "text": [
      "\n",
      "\n",
      "t:  81%|█████████████████████████████████████████████████████▋            | 883/1085 [18:41<04:14,  1.26s/it, now=None]\u001b[A\u001b[A"
     ]
    },
    {
     "name": "stdout",
     "output_type": "stream",
     "text": [
      "3388.8194506624477 2757.8110533750632\n",
      "4837.117207861482 m 3571.296287547871 m\n",
      "[[[6.26887323e+02 0.00000000e+00]\n",
      "  [6.26142141e+02 1.00000000e+00]\n",
      "  [6.25397354e+02 2.00000000e+00]\n",
      "  ...\n",
      "  [1.35527381e+03 2.00000000e+00]\n",
      "  [1.35578673e+03 1.00000000e+00]\n",
      "  [1.35630005e+03 0.00000000e+00]]]\n"
     ]
    },
    {
     "name": "stderr",
     "output_type": "stream",
     "text": [
      "\n",
      "\n",
      "t:  81%|█████████████████████████████████████████████████████▊            | 884/1085 [18:42<04:09,  1.24s/it, now=None]\u001b[A\u001b[A"
     ]
    },
    {
     "name": "stdout",
     "output_type": "stream",
     "text": [
      "3122.976542226119 2027.0600436580764\n",
      "4563.521588242857 m 2877.578270224995 m\n",
      "[[[6.32678039e+02 0.00000000e+00]\n",
      "  [6.31925510e+02 1.00000000e+00]\n",
      "  [6.31173403e+02 2.00000000e+00]\n",
      "  ...\n",
      "  [1.36786787e+03 2.00000000e+00]\n",
      "  [1.36844249e+03 1.00000000e+00]\n",
      "  [1.36901763e+03 0.00000000e+00]]]\n"
     ]
    },
    {
     "name": "stderr",
     "output_type": "stream",
     "text": [
      "\n",
      "\n",
      "t:  82%|█████████████████████████████████████████████████████▊            | 885/1085 [18:43<04:06,  1.23s/it, now=None]\u001b[A\u001b[A"
     ]
    },
    {
     "name": "stdout",
     "output_type": "stream",
     "text": [
      "2528.8315689957026 1172.484162385839\n",
      "3987.2919033634757 m 2101.180350505864 m\n",
      "[[[6.54395962e+02 0.00000000e+00]\n",
      "  [6.53607235e+02 1.00000000e+00]\n",
      "  [6.52819016e+02 2.00000000e+00]\n",
      "  ...\n",
      "  [1.39079751e+03 2.00000000e+00]\n",
      "  [1.39152307e+03 1.00000000e+00]\n",
      "  [1.39224949e+03 0.00000000e+00]]]\n"
     ]
    },
    {
     "name": "stderr",
     "output_type": "stream",
     "text": [
      "\n",
      "\n",
      "t:  82%|█████████████████████████████████████████████████████▉            | 886/1085 [18:44<04:02,  1.22s/it, now=None]\u001b[A\u001b[A"
     ]
    },
    {
     "name": "stdout",
     "output_type": "stream",
     "text": [
      "2584.833956489301 1246.712156865758\n",
      "4118.96259358436 m 2117.771365560529 m\n",
      "[[[6.76580488e+02 0.00000000e+00]\n",
      "  [6.75766579e+02 1.00000000e+00]\n",
      "  [6.74953180e+02 2.00000000e+00]\n",
      "  ...\n",
      "  [1.37155594e+03 2.00000000e+00]\n",
      "  [1.37224103e+03 1.00000000e+00]\n",
      "  [1.37292693e+03 0.00000000e+00]]]\n"
     ]
    },
    {
     "name": "stderr",
     "output_type": "stream",
     "text": [
      "\n",
      "\n",
      "t:  82%|█████████████████████████████████████████████████████▉            | 887/1085 [18:46<04:00,  1.22s/it, now=None]\u001b[A\u001b[A"
     ]
    },
    {
     "name": "stdout",
     "output_type": "stream",
     "text": [
      "2215.5804202959944 1025.9065682287371\n",
      "3819.0122580752777 m 1895.7533342600057 m\n",
      "[[[7.03266765e+02 0.00000000e+00]\n",
      "  [7.02402663e+02 1.00000000e+00]\n",
      "  [7.01539151e+02 2.00000000e+00]\n",
      "  ...\n",
      "  [1.37112530e+03 2.00000000e+00]\n",
      "  [1.37186600e+03 1.00000000e+00]\n",
      "  [1.37260768e+03 0.00000000e+00]]]\n"
     ]
    },
    {
     "name": "stderr",
     "output_type": "stream",
     "text": [
      "\n",
      "\n",
      "t:  82%|██████████████████████████████████████████████████████            | 888/1085 [18:47<03:58,  1.21s/it, now=None]\u001b[A\u001b[A"
     ]
    },
    {
     "name": "stdout",
     "output_type": "stream",
     "text": [
      "2088.8144036695276 1032.2221233874388\n",
      "3634.032459424494 m 1903.6294237865989 m\n",
      "[[[6.96472097e+02 0.00000000e+00]\n",
      "  [6.95619735e+02 1.00000000e+00]\n",
      "  [6.94767981e+02 2.00000000e+00]\n",
      "  ...\n",
      "  [1.37376149e+03 2.00000000e+00]\n",
      "  [1.37450086e+03 1.00000000e+00]\n",
      "  [1.37524121e+03 0.00000000e+00]]]\n"
     ]
    },
    {
     "name": "stderr",
     "output_type": "stream",
     "text": [
      "\n",
      "\n",
      "t:  82%|██████████████████████████████████████████████████████            | 889/1085 [18:48<03:56,  1.21s/it, now=None]\u001b[A\u001b[A"
     ]
    },
    {
     "name": "stdout",
     "output_type": "stream",
     "text": [
      "2307.0248795536168 1474.1029942017858\n",
      "3581.640461872422 m 2354.9258673772765 m\n",
      "[[[6.30352645e+02 0.00000000e+00]\n",
      "  [6.29621306e+02 1.00000000e+00]\n",
      "  [6.28890487e+02 2.00000000e+00]\n",
      "  ...\n",
      "  [1.38112572e+03 2.00000000e+00]\n",
      "  [1.38177491e+03 1.00000000e+00]\n",
      "  [1.38242481e+03 0.00000000e+00]]]\n"
     ]
    },
    {
     "name": "stderr",
     "output_type": "stream",
     "text": [
      "\n",
      "\n",
      "t:  82%|██████████████████████████████████████████████████████▏           | 890/1085 [18:49<03:54,  1.20s/it, now=None]\u001b[A\u001b[A"
     ]
    },
    {
     "name": "stdout",
     "output_type": "stream",
     "text": [
      "2828.7286481054593 1392.4418165431373\n",
      "3958.325656736443 m 2353.3813541636596 m\n",
      "[[[5.91652817e+02 0.00000000e+00]\n",
      "  [5.91009135e+02 1.00000000e+00]\n",
      "  [5.90365870e+02 2.00000000e+00]\n",
      "  ...\n",
      "  [1.40846400e+03 2.00000000e+00]\n",
      "  [1.40916018e+03 1.00000000e+00]\n",
      "  [1.40985711e+03 0.00000000e+00]]]\n"
     ]
    },
    {
     "name": "stderr",
     "output_type": "stream",
     "text": [
      "\n",
      "\n",
      "t:  82%|██████████████████████████████████████████████████████▏           | 891/1085 [18:50<03:54,  1.21s/it, now=None]\u001b[A\u001b[A"
     ]
    },
    {
     "name": "stdout",
     "output_type": "stream",
     "text": [
      "2799.7772581997324 1504.6955454979875\n",
      "3760.745029280027 m 2507.414457050411 m\n",
      "[[[5.46180781e+02 0.00000000e+00]\n",
      "  [5.45605831e+02 1.00000000e+00]\n",
      "  [5.45031282e+02 2.00000000e+00]\n",
      "  ...\n",
      "  [1.42607896e+03 2.00000000e+00]\n",
      "  [1.42677561e+03 1.00000000e+00]\n",
      "  [1.42747297e+03 0.00000000e+00]]]\n"
     ]
    },
    {
     "name": "stderr",
     "output_type": "stream",
     "text": [
      "\n",
      "\n",
      "t:  82%|██████████████████████████████████████████████████████▎           | 892/1085 [18:52<03:52,  1.20s/it, now=None]\u001b[A\u001b[A"
     ]
    },
    {
     "name": "stdout",
     "output_type": "stream",
     "text": [
      "2877.653097287695 2489.4661578829255\n",
      "3746.462456132498 m 3437.250616835489 m\n",
      "[[[5.20083744e+02 0.00000000e+00]\n",
      "  [5.19551766e+02 1.00000000e+00]\n",
      "  [5.19020170e+02 2.00000000e+00]\n",
      "  ...\n",
      "  [1.41133317e+03 2.00000000e+00]\n",
      "  [1.41191806e+03 1.00000000e+00]\n",
      "  [1.41250339e+03 0.00000000e+00]]]\n"
     ]
    },
    {
     "name": "stderr",
     "output_type": "stream",
     "text": [
      "\n",
      "\n",
      "t:  82%|██████████████████████████████████████████████████████▎           | 893/1085 [18:53<03:51,  1.20s/it, now=None]\u001b[A\u001b[A"
     ]
    },
    {
     "name": "stdout",
     "output_type": "stream",
     "text": [
      "2792.9797386770715 1080.9002649981617\n",
      "3672.649217602858 m 2218.266085558911 m\n",
      "[[[5.27188031e+02 0.00000000e+00]\n",
      "  [5.26647555e+02 1.00000000e+00]\n",
      "  [5.26107473e+02 2.00000000e+00]\n",
      "  ...\n",
      "  [1.46607555e+03 2.00000000e+00]\n",
      "  [1.46690912e+03 1.00000000e+00]\n",
      "  [1.46774364e+03 0.00000000e+00]]]\n"
     ]
    },
    {
     "name": "stderr",
     "output_type": "stream",
     "text": [
      "\n",
      "\n",
      "t:  82%|██████████████████████████████████████████████████████▍           | 894/1085 [18:54<03:51,  1.21s/it, now=None]\u001b[A\u001b[A"
     ]
    },
    {
     "name": "stdout",
     "output_type": "stream",
     "text": [
      "2750.3541120386944 1212.0297983691446\n",
      "3592.275656258576 m 2322.6376218370347 m\n",
      "[[[5.18542160e+02 0.00000000e+00]\n",
      "  [5.18016065e+02 1.00000000e+00]\n",
      "  [5.17490366e+02 2.00000000e+00]\n",
      "  ...\n",
      "  [1.45983102e+03 2.00000000e+00]\n",
      "  [1.46062310e+03 1.00000000e+00]\n",
      "  [1.46141605e+03 0.00000000e+00]]]\n"
     ]
    },
    {
     "name": "stderr",
     "output_type": "stream",
     "text": [
      "\n",
      "\n",
      "t:  82%|██████████████████████████████████████████████████████▍           | 895/1085 [18:55<03:50,  1.21s/it, now=None]\u001b[A\u001b[A"
     ]
    },
    {
     "name": "stdout",
     "output_type": "stream",
     "text": [
      "2671.5002863072 986.3834913675945\n",
      "3573.790153092468 m 2115.3065415745523 m\n",
      "[[[5.38061892e+02 0.00000000e+00]\n",
      "  [5.37505815e+02 1.00000000e+00]\n",
      "  [5.36950151e+02 2.00000000e+00]\n",
      "  ...\n",
      "  [1.46557638e+03 2.00000000e+00]\n",
      "  [1.46643347e+03 1.00000000e+00]\n",
      "  [1.46729160e+03 0.00000000e+00]]]\n"
     ]
    },
    {
     "name": "stderr",
     "output_type": "stream",
     "text": [
      "\n",
      "\n",
      "t:  83%|██████████████████████████████████████████████████████▌           | 896/1085 [18:57<03:54,  1.24s/it, now=None]\u001b[A\u001b[A"
     ]
    },
    {
     "name": "stdout",
     "output_type": "stream",
     "text": [
      "2553.7841339696006 1635.8452211817105\n",
      "3481.242386866896 m 2600.957904195916 m\n",
      "[[[5.46453721e+02 0.00000000e+00]\n",
      "  [5.45880676e+02 1.00000000e+00]\n",
      "  [5.45308064e+02 2.00000000e+00]\n",
      "  ...\n",
      "  [1.42060962e+03 2.00000000e+00]\n",
      "  [1.42127302e+03 1.00000000e+00]\n",
      "  [1.42193708e+03 0.00000000e+00]]]\n"
     ]
    },
    {
     "name": "stderr",
     "output_type": "stream",
     "text": [
      "\n",
      "\n",
      "t:  83%|██████████████████████████████████████████████████████▌           | 897/1085 [18:58<03:51,  1.23s/it, now=None]\u001b[A\u001b[A"
     ]
    },
    {
     "name": "stdout",
     "output_type": "stream",
     "text": [
      "2539.98523403134 1017.3933413749666\n",
      "3396.590463711039 m 2208.806992165074 m\n",
      "[[[5.26795536e+02 0.00000000e+00]\n",
      "  [5.26252326e+02 1.00000000e+00]\n",
      "  [5.25709543e+02 2.00000000e+00]\n",
      "  ...\n",
      "  [1.48161324e+03 2.00000000e+00]\n",
      "  [1.48248586e+03 1.00000000e+00]\n",
      "  [1.48335949e+03 0.00000000e+00]]]\n"
     ]
    },
    {
     "name": "stderr",
     "output_type": "stream",
     "text": [
      "\n",
      "\n",
      "t:  83%|██████████████████████████████████████████████████████▌           | 898/1085 [18:59<03:48,  1.22s/it, now=None]\u001b[A\u001b[A"
     ]
    },
    {
     "name": "stdout",
     "output_type": "stream",
     "text": [
      "2376.1089134967933 5650.637582226403\n",
      "3283.7997959096483 m 4799.393939476375 m\n",
      "[[[5.43200500e+02 0.00000000e+00]\n",
      "  [5.42625601e+02 1.00000000e+00]\n",
      "  [5.42051160e+02 2.00000000e+00]\n",
      "  ...\n",
      "  [1.35066972e+03 2.00000000e+00]\n",
      "  [1.35096460e+03 1.00000000e+00]\n",
      "  [1.35125924e+03 0.00000000e+00]]]\n"
     ]
    },
    {
     "name": "stderr",
     "output_type": "stream",
     "text": [
      "\n",
      "\n",
      "t:  83%|██████████████████████████████████████████████████████▋           | 899/1085 [19:00<03:54,  1.26s/it, now=None]\u001b[A\u001b[A"
     ]
    },
    {
     "name": "stdout",
     "output_type": "stream",
     "text": [
      "2282.3103522079605 6337.619669218579\n",
      "3146.5690297290794 m 5472.318603054712 m\n",
      "[[[5.33744615e+02 0.00000000e+00]\n",
      "  [5.33182482e+02 1.00000000e+00]\n",
      "  [5.32620820e+02 2.00000000e+00]\n",
      "  ...\n",
      "  [1.35917923e+03 2.00000000e+00]\n",
      "  [1.35948981e+03 1.00000000e+00]\n",
      "  [1.35980018e+03 0.00000000e+00]]]\n"
     ]
    },
    {
     "name": "stderr",
     "output_type": "stream",
     "text": [
      "\n",
      "\n",
      "t:  83%|██████████████████████████████████████████████████████▋           | 900/1085 [19:02<04:00,  1.30s/it, now=None]\u001b[A\u001b[A"
     ]
    },
    {
     "name": "stdout",
     "output_type": "stream",
     "text": [
      "2447.9640142046205 4881.093824635251\n",
      "3339.5293305061637 m 4058.3961792807368 m\n",
      "[[[5.40950456e+02 0.00000000e+00]\n",
      "  [5.40386860e+02 1.00000000e+00]\n",
      "  [5.39823709e+02 2.00000000e+00]\n",
      "  ...\n",
      "  [1.34798514e+03 2.00000000e+00]\n",
      "  [1.34825413e+03 1.00000000e+00]\n",
      "  [1.34852284e+03 0.00000000e+00]]]\n"
     ]
    },
    {
     "name": "stderr",
     "output_type": "stream",
     "text": [
      "\n",
      "\n",
      "t:  83%|██████████████████████████████████████████████████████▊           | 901/1085 [19:03<03:53,  1.27s/it, now=None]\u001b[A\u001b[A"
     ]
    },
    {
     "name": "stdout",
     "output_type": "stream",
     "text": [
      "2314.1653031711794 8320.883714914406\n",
      "3231.072244108664 m 9220.956087362298 m\n",
      "[[[5.51858459e+02 0.00000000e+00]\n",
      "  [5.51275647e+02 1.00000000e+00]\n",
      "  [5.50693306e+02 2.00000000e+00]\n",
      "  ...\n",
      "  [1.38827693e+03 2.00000000e+00]\n",
      "  [1.38873384e+03 1.00000000e+00]\n",
      "  [1.38919089e+03 0.00000000e+00]]]\n"
     ]
    },
    {
     "name": "stderr",
     "output_type": "stream",
     "text": [
      "\n",
      "\n",
      "t:  83%|██████████████████████████████████████████████████████▊           | 902/1085 [19:04<03:48,  1.25s/it, now=None]\u001b[A\u001b[A"
     ]
    },
    {
     "name": "stdout",
     "output_type": "stream",
     "text": [
      "2235.763731037253 2682.9971789743277\n",
      "3122.4523780231193 m 1890.730989145319 m\n",
      "[[[5.45253300e+02 0.00000000e+00]\n",
      "  [5.44678260e+02 1.00000000e+00]\n",
      "  [5.44103704e+02 2.00000000e+00]\n",
      "  ...\n",
      "  [1.33083609e+03 2.00000000e+00]\n",
      "  [1.33098630e+03 1.00000000e+00]\n",
      "  [1.33113596e+03 0.00000000e+00]]]\n"
     ]
    },
    {
     "name": "stderr",
     "output_type": "stream",
     "text": [
      "\n",
      "\n",
      "t:  83%|██████████████████████████████████████████████████████▉           | 903/1085 [19:05<03:45,  1.24s/it, now=None]\u001b[A\u001b[A"
     ]
    },
    {
     "name": "stdout",
     "output_type": "stream",
     "text": [
      "2238.709664174189 5981.0404638047985\n",
      "3237.3338994397186 m 6877.302469318052 m\n",
      "[[[5.80504999e+02 0.00000000e+00]\n",
      "  [5.79882231e+02 1.00000000e+00]\n",
      "  [5.79259959e+02 2.00000000e+00]\n",
      "  ...\n",
      "  [1.38965639e+03 2.00000000e+00]\n",
      "  [1.39013108e+03 1.00000000e+00]\n",
      "  [1.39060595e+03 0.00000000e+00]]]\n"
     ]
    },
    {
     "name": "stderr",
     "output_type": "stream",
     "text": [
      "\n",
      "\n",
      "t:  83%|██████████████████████████████████████████████████████▉           | 904/1085 [19:07<03:46,  1.25s/it, now=None]\u001b[A\u001b[A"
     ]
    },
    {
     "name": "stdout",
     "output_type": "stream",
     "text": [
      "1976.6791482790197 4436.531599808987\n",
      "2985.9731583005178 m 5343.957322333257 m\n",
      "[[[5.89028694e+02 0.00000000e+00]\n",
      "  [5.88381026e+02 1.00000000e+00]\n",
      "  [5.87733912e+02 2.00000000e+00]\n",
      "  ...\n",
      "  [1.39699861e+03 2.00000000e+00]\n",
      "  [1.39750105e+03 1.00000000e+00]\n",
      "  [1.39800376e+03 0.00000000e+00]]]\n"
     ]
    },
    {
     "name": "stderr",
     "output_type": "stream",
     "text": [
      "\n",
      "\n",
      "t:  83%|███████████████████████████████████████████████████████           | 905/1085 [19:08<03:42,  1.23s/it, now=None]\u001b[A\u001b[A"
     ]
    },
    {
     "name": "stdout",
     "output_type": "stream",
     "text": [
      "1999.4786095015277 13832.192325989392\n",
      "2975.9159250154967 m 14677.754152496238 m\n",
      "[[[5.82849184e+02 0.00000000e+00]\n",
      "  [5.82217427e+02 1.00000000e+00]\n",
      "  [5.81586214e+02 2.00000000e+00]\n",
      "  ...\n",
      "  [1.38150328e+03 2.00000000e+00]\n",
      "  [1.38191740e+03 1.00000000e+00]\n",
      "  [1.38233161e+03 0.00000000e+00]]]\n"
     ]
    },
    {
     "name": "stderr",
     "output_type": "stream",
     "text": [
      "\n",
      "\n",
      "t:  84%|███████████████████████████████████████████████████████           | 906/1085 [19:09<03:39,  1.22s/it, now=None]\u001b[A\u001b[A"
     ]
    },
    {
     "name": "stdout",
     "output_type": "stream",
     "text": [
      "1773.2416650643202 2674.8391663020516\n",
      "2738.99856459413 m 3570.7321936736457 m\n",
      "[[[5.82941963e+02 0.00000000e+00]\n",
      "  [5.82293286e+02 1.00000000e+00]\n",
      "  [5.81645212e+02 2.00000000e+00]\n",
      "  ...\n",
      "  [1.41388059e+03 2.00000000e+00]\n",
      "  [1.41443334e+03 1.00000000e+00]\n",
      "  [1.41498649e+03 0.00000000e+00]]]\n"
     ]
    },
    {
     "name": "stderr",
     "output_type": "stream",
     "text": [
      "\n",
      "\n",
      "t:  84%|███████████████████████████████████████████████████████▏          | 907/1085 [19:10<03:36,  1.22s/it, now=None]\u001b[A\u001b[A"
     ]
    },
    {
     "name": "stdout",
     "output_type": "stream",
     "text": [
      "2017.0677646908462 4936.464373871321\n",
      "2870.081082633508 m 5774.302669844996 m\n",
      "[[[5.49574723e+02 0.00000000e+00]\n",
      "  [5.48997657e+02 1.00000000e+00]\n",
      "  [5.48421117e+02 2.00000000e+00]\n",
      "  ...\n",
      "  [1.40606758e+03 2.00000000e+00]\n",
      "  [1.40653160e+03 1.00000000e+00]\n",
      "  [1.40699585e+03 0.00000000e+00]]]\n"
     ]
    },
    {
     "name": "stderr",
     "output_type": "stream",
     "text": [
      "\n",
      "\n",
      "t:  84%|███████████████████████████████████████████████████████▏          | 908/1085 [19:11<03:34,  1.21s/it, now=None]\u001b[A\u001b[A"
     ]
    },
    {
     "name": "stdout",
     "output_type": "stream",
     "text": [
      "1894.130369931215 4562.824070829317\n",
      "2778.7181276260308 m 5416.335819410343 m\n",
      "[[[5.60050038e+02 0.00000000e+00]\n",
      "  [5.59448331e+02 1.00000000e+00]\n",
      "  [5.58847184e+02 2.00000000e+00]\n",
      "  ...\n",
      "  [1.40688925e+03 2.00000000e+00]\n",
      "  [1.40736640e+03 1.00000000e+00]\n",
      "  [1.40784380e+03 0.00000000e+00]]]\n"
     ]
    },
    {
     "name": "stderr",
     "output_type": "stream",
     "text": [
      "\n",
      "\n",
      "t:  84%|███████████████████████████████████████████████████████▎          | 909/1085 [19:13<03:33,  1.21s/it, now=None]\u001b[A\u001b[A"
     ]
    },
    {
     "name": "stdout",
     "output_type": "stream",
     "text": [
      "1782.328964159703 10213.987254750922\n",
      "2667.1861451112604 m 11060.950336359354 m\n",
      "[[[5.61275787e+02 0.00000000e+00]\n",
      "  [5.60662846e+02 1.00000000e+00]\n",
      "  [5.60050496e+02 2.00000000e+00]\n",
      "  ...\n",
      "  [1.39759091e+03 2.00000000e+00]\n",
      "  [1.39801649e+03 1.00000000e+00]\n",
      "  [1.39844218e+03 0.00000000e+00]]]\n"
     ]
    },
    {
     "name": "stderr",
     "output_type": "stream",
     "text": [
      "\n",
      "\n",
      "t:  84%|███████████████████████████████████████████████████████▎          | 910/1085 [19:14<03:32,  1.21s/it, now=None]\u001b[A\u001b[A"
     ]
    },
    {
     "name": "stdout",
     "output_type": "stream",
     "text": [
      "1958.5551598479124 6988.097216199712\n",
      "2834.0793133026627 m 6227.027728005923 m\n",
      "[[[5.55090775e+02 0.00000000e+00]\n",
      "  [5.54498875e+02 1.00000000e+00]\n",
      "  [5.53907518e+02 2.00000000e+00]\n",
      "  ...\n",
      "  [1.36583087e+03 2.00000000e+00]\n",
      "  [1.36611076e+03 1.00000000e+00]\n",
      "  [1.36639047e+03 0.00000000e+00]]]\n"
     ]
    },
    {
     "name": "stderr",
     "output_type": "stream",
     "text": [
      "\n",
      "\n",
      "t:  84%|███████████████████████████████████████████████████████▍          | 911/1085 [19:15<03:30,  1.21s/it, now=None]\u001b[A\u001b[A"
     ]
    },
    {
     "name": "stdout",
     "output_type": "stream",
     "text": [
      "1857.6637755743704 6375.938013359875\n",
      "2744.6138438472694 m 5602.024727117734 m\n",
      "[[[5.60648830e+02 0.00000000e+00]\n",
      "  [5.60042610e+02 1.00000000e+00]\n",
      "  [5.59436959e+02 2.00000000e+00]\n",
      "  ...\n",
      "  [1.36515747e+03 2.00000000e+00]\n",
      "  [1.36543510e+03 1.00000000e+00]\n",
      "  [1.36571254e+03 0.00000000e+00]]]\n"
     ]
    },
    {
     "name": "stderr",
     "output_type": "stream",
     "text": [
      "\n",
      "\n",
      "t:  84%|███████████████████████████████████████████████████████▍          | 912/1085 [19:16<03:28,  1.21s/it, now=None]\u001b[A\u001b[A"
     ]
    },
    {
     "name": "stdout",
     "output_type": "stream",
     "text": [
      "1923.5470034134635 7202.89730655672\n",
      "2737.911832846309 m 6420.512888392573 m\n",
      "[[[5.38164800e+02 0.00000000e+00]\n",
      "  [5.37596455e+02 1.00000000e+00]\n",
      "  [5.37028653e+02 2.00000000e+00]\n",
      "  ...\n",
      "  [1.37406875e+03 2.00000000e+00]\n",
      "  [1.37435891e+03 1.00000000e+00]\n",
      "  [1.37464889e+03 0.00000000e+00]]]\n"
     ]
    },
    {
     "name": "stderr",
     "output_type": "stream",
     "text": [
      "\n",
      "\n",
      "t:  84%|███████████████████████████████████████████████████████▌          | 913/1085 [19:17<03:28,  1.21s/it, now=None]\u001b[A\u001b[A"
     ]
    },
    {
     "name": "stdout",
     "output_type": "stream",
     "text": [
      "2123.059915608576 4325.757349166443\n",
      "2996.0825952313294 m 3634.9372619549895 m\n",
      "[[[5.52670846e+02 0.00000000e+00]\n",
      "  [5.52093540e+02 1.00000000e+00]\n",
      "  [5.51516737e+02 2.00000000e+00]\n",
      "  ...\n",
      "  [1.34263341e+03 2.00000000e+00]\n",
      "  [1.34284068e+03 1.00000000e+00]\n",
      "  [1.34304766e+03 0.00000000e+00]]]\n"
     ]
    },
    {
     "name": "stderr",
     "output_type": "stream",
     "text": [
      "\n",
      "\n",
      "t:  84%|███████████████████████████████████████████████████████▌          | 914/1085 [19:19<03:26,  1.21s/it, now=None]\u001b[A\u001b[A"
     ]
    },
    {
     "name": "stdout",
     "output_type": "stream",
     "text": [
      "2582.7977803251315 6371.772664542977\n",
      "3471.0606022106763 m 5644.469790827 m\n",
      "[[[5.55301829e+02 0.00000000e+00]\n",
      "  [5.54747210e+02 1.00000000e+00]\n",
      "  [5.54193016e+02 2.00000000e+00]\n",
      "  ...\n",
      "  [1.35423284e+03 2.00000000e+00]\n",
      "  [1.35449279e+03 1.00000000e+00]\n",
      "  [1.35475255e+03 0.00000000e+00]]]\n"
     ]
    },
    {
     "name": "stderr",
     "output_type": "stream",
     "text": [
      "\n",
      "\n",
      "t:  84%|███████████████████████████████████████████████████████▋          | 915/1085 [19:20<03:25,  1.21s/it, now=None]\u001b[A\u001b[A"
     ]
    },
    {
     "name": "stdout",
     "output_type": "stream",
     "text": [
      "2565.043263664873 20493.373884898057\n",
      "3450.5808079041462 m 21281.532139345454 m\n",
      "[[[5.55478972e+02 0.00000000e+00]\n",
      "  [5.54924579e+02 1.00000000e+00]\n",
      "  [5.54370612e+02 2.00000000e+00]\n",
      "  ...\n",
      "  [1.38126167e+03 2.00000000e+00]\n",
      "  [1.38164191e+03 1.00000000e+00]\n",
      "  [1.38202222e+03 0.00000000e+00]]]\n"
     ]
    },
    {
     "name": "stderr",
     "output_type": "stream",
     "text": [
      "\n",
      "\n",
      "t:  84%|███████████████████████████████████████████████████████▋          | 916/1085 [19:21<03:24,  1.21s/it, now=None]\u001b[A\u001b[A"
     ]
    },
    {
     "name": "stdout",
     "output_type": "stream",
     "text": [
      "2783.7953565429957 2889.9846835454036\n",
      "3705.856426450929 m 3750.4096492198037 m\n",
      "[[[5.68408571e+02 0.00000000e+00]\n",
      "  [5.67849446e+02 1.00000000e+00]\n",
      "  [5.67290721e+02 2.00000000e+00]\n",
      "  ...\n",
      "  [1.40707451e+03 2.00000000e+00]\n",
      "  [1.40760194e+03 1.00000000e+00]\n",
      "  [1.40812975e+03 0.00000000e+00]]]\n"
     ]
    },
    {
     "name": "stderr",
     "output_type": "stream",
     "text": [
      "\n",
      "\n",
      "t:  85%|███████████████████████████████████████████████████████▊          | 917/1085 [19:22<03:22,  1.21s/it, now=None]\u001b[A\u001b[A"
     ]
    },
    {
     "name": "stdout",
     "output_type": "stream",
     "text": [
      "2574.876289385262 2407.864307853771\n",
      "3423.0091154825004 m 3306.234294209075 m\n",
      "[[[5.49633802e+02 0.00000000e+00]\n",
      "  [5.49096171e+02 1.00000000e+00]\n",
      "  [5.48558960e+02 2.00000000e+00]\n",
      "  ...\n",
      "  [1.41994829e+03 2.00000000e+00]\n",
      "  [1.42051677e+03 1.00000000e+00]\n",
      "  [1.42108570e+03 0.00000000e+00]]]\n"
     ]
    },
    {
     "name": "stderr",
     "output_type": "stream",
     "text": [
      "\n",
      "\n",
      "t:  85%|███████████████████████████████████████████████████████▊          | 918/1085 [19:23<03:21,  1.21s/it, now=None]\u001b[A\u001b[A"
     ]
    },
    {
     "name": "stdout",
     "output_type": "stream",
     "text": [
      "2914.173822706793 1598.817354490461\n",
      "3733.297132251853 m 2503.010540592607 m\n",
      "[[[5.39966803e+02 0.00000000e+00]\n",
      "  [5.39458008e+02 1.00000000e+00]\n",
      "  [5.38949586e+02 2.00000000e+00]\n",
      "  ...\n",
      "  [1.43235316e+03 2.00000000e+00]\n",
      "  [1.43299513e+03 1.00000000e+00]\n",
      "  [1.43363775e+03 0.00000000e+00]]]\n"
     ]
    },
    {
     "name": "stderr",
     "output_type": "stream",
     "text": [
      "\n",
      "\n",
      "t:  85%|███████████████████████████████████████████████████████▉          | 919/1085 [19:25<03:20,  1.21s/it, now=None]\u001b[A\u001b[A"
     ]
    },
    {
     "name": "stdout",
     "output_type": "stream",
     "text": [
      "3214.5696289755115 2242.992396907046\n",
      "3997.147713227048 m 3105.9380615323566 m\n",
      "[[[5.29429442e+02 0.00000000e+00]\n",
      "  [5.28948307e+02 1.00000000e+00]\n",
      "  [5.28467510e+02 2.00000000e+00]\n",
      "  ...\n",
      "  [1.41466590e+03 2.00000000e+00]\n",
      "  [1.41522965e+03 1.00000000e+00]\n",
      "  [1.41579388e+03 0.00000000e+00]]]\n"
     ]
    },
    {
     "name": "stderr",
     "output_type": "stream",
     "text": [
      "\n",
      "\n",
      "t:  85%|███████████████████████████████████████████████████████▉          | 920/1085 [19:26<03:20,  1.21s/it, now=None]\u001b[A\u001b[A"
     ]
    },
    {
     "name": "stdout",
     "output_type": "stream",
     "text": [
      "3529.68795665597 1999.0109285442882\n",
      "4256.129830213541 m 2908.729367284859 m\n",
      "[[[5.11993281e+02 0.00000000e+00]\n",
      "  [5.11547122e+02 1.00000000e+00]\n",
      "  [5.11101268e+02 2.00000000e+00]\n",
      "  ...\n",
      "  [1.42878572e+03 2.00000000e+00]\n",
      "  [1.42938837e+03 1.00000000e+00]\n",
      "  [1.42999157e+03 0.00000000e+00]]]\n"
     ]
    },
    {
     "name": "stderr",
     "output_type": "stream",
     "text": [
      "\n",
      "\n",
      "t:  85%|████████████████████████████████████████████████████████          | 921/1085 [19:27<03:19,  1.21s/it, now=None]\u001b[A\u001b[A"
     ]
    },
    {
     "name": "stdout",
     "output_type": "stream",
     "text": [
      "3335.638697519732 8089.381536539337\n",
      "4120.5680434531805 m 7317.627990580484 m\n",
      "[[[5.32032735e+02 0.00000000e+00]\n",
      "  [5.31554698e+02 1.00000000e+00]\n",
      "  [5.31076987e+02 2.00000000e+00]\n",
      "  ...\n",
      "  [1.35220504e+03 2.00000000e+00]\n",
      "  [1.35249888e+03 1.00000000e+00]\n",
      "  [1.35279257e+03 0.00000000e+00]]]\n"
     ]
    },
    {
     "name": "stderr",
     "output_type": "stream",
     "text": [
      "\n",
      "\n",
      "t:  85%|████████████████████████████████████████████████████████          | 922/1085 [19:28<03:17,  1.21s/it, now=None]\u001b[A\u001b[A"
     ]
    },
    {
     "name": "stdout",
     "output_type": "stream",
     "text": [
      "3252.485029562737 18332.178305675792\n",
      "4032.1567302433523 m 17585.927564412337 m\n",
      "[[[5.32682771e+02 0.00000000e+00]\n",
      "  [5.32204238e+02 1.00000000e+00]\n",
      "  [5.31726039e+02 2.00000000e+00]\n",
      "  ...\n",
      "  [1.34976476e+03 2.00000000e+00]\n",
      "  [1.35008179e+03 1.00000000e+00]\n",
      "  [1.35039876e+03 0.00000000e+00]]]\n"
     ]
    },
    {
     "name": "stderr",
     "output_type": "stream",
     "text": [
      "\n",
      "\n",
      "t:  85%|████████████████████████████████████████████████████████▏         | 923/1085 [19:30<03:17,  1.22s/it, now=None]\u001b[A\u001b[A"
     ]
    },
    {
     "name": "stdout",
     "output_type": "stream",
     "text": [
      "3567.6138283173827 14646.533521744266\n",
      "4354.739901547281 m 15407.504751451339 m\n",
      "[[[5.35129821e+02 0.00000000e+00]\n",
      "  [5.34658007e+02 1.00000000e+00]\n",
      "  [5.34186499e+02 2.00000000e+00]\n",
      "  ...\n",
      "  [1.36046480e+03 2.00000000e+00]\n",
      "  [1.36084189e+03 1.00000000e+00]\n",
      "  [1.36121907e+03 0.00000000e+00]]]\n"
     ]
    },
    {
     "name": "stderr",
     "output_type": "stream",
     "text": [
      "\n",
      "\n",
      "t:  85%|████████████████████████████████████████████████████████▏         | 924/1085 [19:31<03:15,  1.22s/it, now=None]\u001b[A\u001b[A"
     ]
    },
    {
     "name": "stdout",
     "output_type": "stream",
     "text": [
      "3866.082220900191 4908.975377158738\n",
      "4660.8388053598455 m 5716.452653535075 m\n",
      "[[[5.37607953e+02 0.00000000e+00]\n",
      "  [5.37140869e+02 1.00000000e+00]\n",
      "  [5.36674071e+02 2.00000000e+00]\n",
      "  ...\n",
      "  [1.37790676e+03 2.00000000e+00]\n",
      "  [1.37835819e+03 1.00000000e+00]\n",
      "  [1.37880985e+03 0.00000000e+00]]]\n"
     ]
    },
    {
     "name": "stderr",
     "output_type": "stream",
     "text": [
      "\n",
      "\n",
      "t:  85%|████████████████████████████████████████████████████████▎         | 925/1085 [19:32<03:23,  1.27s/it, now=None]\u001b[A\u001b[A"
     ]
    },
    {
     "name": "stdout",
     "output_type": "stream",
     "text": [
      "3212.070302681848 24019.41151026314\n",
      "3986.42617961213 m 24807.608703826947 m\n",
      "[[[5.35186895e+02 0.00000000e+00]\n",
      "  [5.34709291e+02 1.00000000e+00]\n",
      "  [5.34232023e+02 2.00000000e+00]\n",
      "  ...\n",
      "  [1.36822635e+03 2.00000000e+00]\n",
      "  [1.36860352e+03 1.00000000e+00]\n",
      "  [1.36898075e+03 0.00000000e+00]]]\n"
     ]
    },
    {
     "name": "stderr",
     "output_type": "stream",
     "text": [
      "\n",
      "\n",
      "t:  85%|████████████████████████████████████████████████████████▎         | 926/1085 [19:33<03:19,  1.25s/it, now=None]\u001b[A\u001b[A"
     ]
    },
    {
     "name": "stdout",
     "output_type": "stream",
     "text": [
      "2766.0498246467805 4833.827031092035\n",
      "3545.914205508927 m 4124.296818126347 m\n",
      "[[[5.42060139e+02 0.00000000e+00]\n",
      "  [5.41561999e+02 1.00000000e+00]\n",
      "  [5.41064247e+02 2.00000000e+00]\n",
      "  ...\n",
      "  [1.33617056e+03 2.00000000e+00]\n",
      "  [1.33639780e+03 1.00000000e+00]\n",
      "  [1.33662478e+03 0.00000000e+00]]]\n"
     ]
    },
    {
     "name": "stderr",
     "output_type": "stream",
     "text": [
      "\n",
      "\n",
      "t:  85%|████████████████████████████████████████████████████████▍         | 927/1085 [19:35<03:16,  1.24s/it, now=None]\u001b[A\u001b[A"
     ]
    },
    {
     "name": "stdout",
     "output_type": "stream",
     "text": [
      "2469.687883428918 5072.556224240014\n",
      "3265.5941960057285 m 4408.4855578302695 m\n",
      "[[[5.50716356e+02 0.00000000e+00]\n",
      "  [5.50195776e+02 1.00000000e+00]\n",
      "  [5.49675628e+02 2.00000000e+00]\n",
      "  ...\n",
      "  [1.32972357e+03 2.00000000e+00]\n",
      "  [1.32993884e+03 1.00000000e+00]\n",
      "  [1.33015386e+03 0.00000000e+00]]]\n"
     ]
    },
    {
     "name": "stderr",
     "output_type": "stream",
     "text": [
      "\n",
      "\n",
      "t:  86%|████████████████████████████████████████████████████████▍         | 928/1085 [19:36<03:13,  1.23s/it, now=None]\u001b[A\u001b[A"
     ]
    },
    {
     "name": "stdout",
     "output_type": "stream",
     "text": [
      "2840.1467823737535 14366.592821667267\n",
      "3497.153910395184 m 15158.85900329136 m\n",
      "[[[5.08872794e+02 0.00000000e+00]\n",
      "  [5.08432917e+02 1.00000000e+00]\n",
      "  [5.07993408e+02 2.00000000e+00]\n",
      "  ...\n",
      "  [1.38788307e+03 2.00000000e+00]\n",
      "  [1.38827389e+03 1.00000000e+00]\n",
      "  [1.38866480e+03 0.00000000e+00]]]\n"
     ]
    },
    {
     "name": "stderr",
     "output_type": "stream",
     "text": [
      "\n",
      "\n",
      "t:  86%|████████████████████████████████████████████████████████▌         | 929/1085 [19:37<03:10,  1.22s/it, now=None]\u001b[A\u001b[A"
     ]
    },
    {
     "name": "stdout",
     "output_type": "stream",
     "text": [
      "2208.4513841036155 16178.355277374856\n",
      "2893.4350211733886 m 15472.599148360943 m\n",
      "[[[5.23713794e+02 0.00000000e+00]\n",
      "  [5.23225918e+02 1.00000000e+00]\n",
      "  [5.22738510e+02 2.00000000e+00]\n",
      "  ...\n",
      "  [1.36229676e+03 2.00000000e+00]\n",
      "  [1.36259399e+03 1.00000000e+00]\n",
      "  [1.36289114e+03 0.00000000e+00]]]\n"
     ]
    },
    {
     "name": "stderr",
     "output_type": "stream",
     "text": [
      "\n",
      "\n",
      "t:  86%|████████████████████████████████████████████████████████▌         | 930/1085 [19:38<03:07,  1.21s/it, now=None]\u001b[A\u001b[A"
     ]
    },
    {
     "name": "stdout",
     "output_type": "stream",
     "text": [
      "2249.446441982865 15122.458992302163\n",
      "2910.1235105405112 m 14463.27076674784 m\n",
      "[[[5.17140717e+02 0.00000000e+00]\n",
      "  [5.16666654e+02 1.00000000e+00]\n",
      "  [5.16193049e+02 2.00000000e+00]\n",
      "  ...\n",
      "  [1.35939237e+03 2.00000000e+00]\n",
      "  [1.35966846e+03 1.00000000e+00]\n",
      "  [1.35994447e+03 0.00000000e+00]]]\n"
     ]
    },
    {
     "name": "stderr",
     "output_type": "stream",
     "text": [
      "\n",
      "\n",
      "t:  86%|████████████████████████████████████████████████████████▋         | 931/1085 [19:39<03:06,  1.21s/it, now=None]\u001b[A\u001b[A"
     ]
    },
    {
     "name": "stdout",
     "output_type": "stream",
     "text": [
      "2111.05432240862 5322.321627884496\n",
      "2773.501314073748 m 4702.738993829673 m\n",
      "[[[5.19237699e+02 0.00000000e+00]\n",
      "  [5.18752732e+02 1.00000000e+00]\n",
      "  [5.18268251e+02 2.00000000e+00]\n",
      "  ...\n",
      "  [1.34202297e+03 2.00000000e+00]\n",
      "  [1.34222569e+03 1.00000000e+00]\n",
      "  [1.34242818e+03 0.00000000e+00]]]\n"
     ]
    },
    {
     "name": "stderr",
     "output_type": "stream",
     "text": [
      "\n",
      "\n",
      "t:  86%|████████████████████████████████████████████████████████▋         | 932/1085 [19:41<03:05,  1.21s/it, now=None]\u001b[A\u001b[A"
     ]
    },
    {
     "name": "stdout",
     "output_type": "stream",
     "text": [
      "2077.735812262879 3996.46411926619\n",
      "2820.182493051165 m 3435.7829816833655 m\n",
      "[[[5.44004412e+02 0.00000000e+00]\n",
      "  [5.43481010e+02 1.00000000e+00]\n",
      "  [5.42958109e+02 2.00000000e+00]\n",
      "  ...\n",
      "  [1.31449761e+03 2.00000000e+00]\n",
      "  [1.31464615e+03 1.00000000e+00]\n",
      "  [1.31479439e+03 0.00000000e+00]]]\n"
     ]
    },
    {
     "name": "stderr",
     "output_type": "stream",
     "text": [
      "\n",
      "\n",
      "t:  86%|████████████████████████████████████████████████████████▊         | 933/1085 [19:42<03:04,  1.21s/it, now=None]\u001b[A\u001b[A"
     ]
    },
    {
     "name": "stdout",
     "output_type": "stream",
     "text": [
      "1998.5037973497317 2207.3716450079105\n",
      "2649.6077640190406 m 1625.5969358525574 m\n",
      "[[[5.17524903e+02 0.00000000e+00]\n",
      "  [5.17035837e+02 1.00000000e+00]\n",
      "  [5.16547282e+02 2.00000000e+00]\n",
      "  ...\n",
      "  [1.30600014e+03 2.00000000e+00]\n",
      "  [1.30603620e+03 1.00000000e+00]\n",
      "  [1.30607163e+03 0.00000000e+00]]]\n"
     ]
    },
    {
     "name": "stderr",
     "output_type": "stream",
     "text": [
      "\n",
      "\n",
      "t:  86%|████████████████████████████████████████████████████████▊         | 934/1085 [19:43<03:03,  1.22s/it, now=None]\u001b[A\u001b[A"
     ]
    },
    {
     "name": "stdout",
     "output_type": "stream",
     "text": [
      "2137.3056966677736 2911.141263733763\n",
      "2835.6483706606555 m 2368.457504009674 m\n",
      "[[[5.31103486e+02 0.00000000e+00]\n",
      "  [5.30604399e+02 1.00000000e+00]\n",
      "  [5.30105795e+02 2.00000000e+00]\n",
      "  ...\n",
      "  [1.30460590e+03 2.00000000e+00]\n",
      "  [1.30469790e+03 1.00000000e+00]\n",
      "  [1.30478946e+03 0.00000000e+00]]]\n"
     ]
    },
    {
     "name": "stderr",
     "output_type": "stream",
     "text": [
      "\n",
      "\n",
      "t:  86%|████████████████████████████████████████████████████████▉         | 935/1085 [19:44<03:01,  1.21s/it, now=None]\u001b[A\u001b[A"
     ]
    },
    {
     "name": "stdout",
     "output_type": "stream",
     "text": [
      "2130.944170860249 2845.8291467207623\n",
      "2782.1827140695527 m 2316.7005391298176 m\n",
      "[[[5.17378111e+02 0.00000000e+00]\n",
      "  [5.16899728e+02 1.00000000e+00]\n",
      "  [5.16421826e+02 2.00000000e+00]\n",
      "  ...\n",
      "  [1.30550396e+03 2.00000000e+00]\n",
      "  [1.30558676e+03 1.00000000e+00]\n",
      "  [1.30566912e+03 0.00000000e+00]]]\n"
     ]
    },
    {
     "name": "stderr",
     "output_type": "stream",
     "text": [
      "\n",
      "\n",
      "t:  86%|████████████████████████████████████████████████████████▉         | 936/1085 [19:45<03:00,  1.21s/it, now=None]\u001b[A\u001b[A"
     ]
    },
    {
     "name": "stdout",
     "output_type": "stream",
     "text": [
      "2365.6366444149758 10876.615509841817\n",
      "3042.9186065960234 m 10321.281085284741 m\n",
      "[[[5.21234997e+02 0.00000000e+00]\n",
      "  [5.20761057e+02 1.00000000e+00]\n",
      "  [5.20287556e+02 2.00000000e+00]\n",
      "  ...\n",
      "  [1.32841617e+03 2.00000000e+00]\n",
      "  [1.32863714e+03 1.00000000e+00]\n",
      "  [1.32885801e+03 0.00000000e+00]]]\n"
     ]
    },
    {
     "name": "stderr",
     "output_type": "stream",
     "text": [
      "\n",
      "\n",
      "t:  86%|████████████████████████████████████████████████████████▉         | 937/1085 [19:47<02:58,  1.21s/it, now=None]\u001b[A\u001b[A"
     ]
    },
    {
     "name": "stdout",
     "output_type": "stream",
     "text": [
      "2346.643699985083 1099.9442568164684\n",
      "3071.977141260684 m 1890.167347510175 m\n",
      "[[[5.35756217e+02 0.00000000e+00]\n",
      "  [5.35259528e+02 1.00000000e+00]\n",
      "  [5.34763285e+02 2.00000000e+00]\n",
      "  ...\n",
      "  [1.41892614e+03 2.00000000e+00]\n",
      "  [1.41961254e+03 1.00000000e+00]\n",
      "  [1.42029985e+03 0.00000000e+00]]]\n"
     ]
    },
    {
     "name": "stderr",
     "output_type": "stream",
     "text": [
      "\n",
      "\n",
      "t:  86%|█████████████████████████████████████████████████████████         | 938/1085 [19:48<02:56,  1.20s/it, now=None]\u001b[A\u001b[A"
     ]
    },
    {
     "name": "stdout",
     "output_type": "stream",
     "text": [
      "2557.2604771977917 1032.1609805545445\n",
      "3235.6577253811543 m 1888.3176085892853 m\n",
      "[[[5.19166916e+02 0.00000000e+00]\n",
      "  [5.18703586e+02 1.00000000e+00]\n",
      "  [5.18240663e+02 2.00000000e+00]\n",
      "  ...\n",
      "  [1.43497676e+03 2.00000000e+00]\n",
      "  [1.43570998e+03 1.00000000e+00]\n",
      "  [1.43644416e+03 0.00000000e+00]]]\n"
     ]
    },
    {
     "name": "stderr",
     "output_type": "stream",
     "text": [
      "\n",
      "\n",
      "t:  87%|█████████████████████████████████████████████████████████         | 939/1085 [19:49<02:56,  1.21s/it, now=None]\u001b[A\u001b[A"
     ]
    },
    {
     "name": "stdout",
     "output_type": "stream",
     "text": [
      "2685.128817174164 1185.2758520530572\n",
      "3378.5113394063546 m 1990.3493543540549 m\n",
      "[[[5.24893048e+02 0.00000000e+00]\n",
      "  [5.24429554e+02 1.00000000e+00]\n",
      "  [5.23966451e+02 2.00000000e+00]\n",
      "  ...\n",
      "  [1.41262183e+03 2.00000000e+00]\n",
      "  [1.41329266e+03 1.00000000e+00]\n",
      "  [1.41396435e+03 0.00000000e+00]]]\n"
     ]
    },
    {
     "name": "stderr",
     "output_type": "stream",
     "text": [
      "\n",
      "\n",
      "t:  87%|█████████████████████████████████████████████████████████▏        | 940/1085 [19:50<02:54,  1.21s/it, now=None]\u001b[A\u001b[A"
     ]
    },
    {
     "name": "stdout",
     "output_type": "stream",
     "text": [
      "2561.72784628903 1062.8218355419522\n",
      "3233.804541953915 m 1910.7396528796717 m\n",
      "[[[5.17781148e+02 0.00000000e+00]\n",
      "  [5.17320907e+02 1.00000000e+00]\n",
      "  [5.16861072e+02 2.00000000e+00]\n",
      "  ...\n",
      "  [1.42266402e+03 2.00000000e+00]\n",
      "  [1.42338466e+03 1.00000000e+00]\n",
      "  [1.42410624e+03 0.00000000e+00]]]\n"
     ]
    },
    {
     "name": "stderr",
     "output_type": "stream",
     "text": [
      "\n",
      "\n",
      "t:  87%|█████████████████████████████████████████████████████████▏        | 941/1085 [19:51<02:53,  1.21s/it, now=None]\u001b[A\u001b[A"
     ]
    },
    {
     "name": "stdout",
     "output_type": "stream",
     "text": [
      "2593.736254427796 1048.7100739400453\n",
      "3213.5258366732787 m 1934.840551840641 m\n",
      "[[[5.00387096e+02 0.00000000e+00]\n",
      "  [4.99952242e+02 1.00000000e+00]\n",
      "  [4.99517785e+02 2.00000000e+00]\n",
      "  ...\n",
      "  [1.43275922e+03 2.00000000e+00]\n",
      "  [1.43349959e+03 1.00000000e+00]\n",
      "  [1.43424092e+03 0.00000000e+00]]]\n"
     ]
    },
    {
     "name": "stderr",
     "output_type": "stream",
     "text": [
      "\n",
      "\n",
      "t:  87%|█████████████████████████████████████████████████████████▎        | 942/1085 [19:53<02:52,  1.21s/it, now=None]\u001b[A\u001b[A"
     ]
    },
    {
     "name": "stdout",
     "output_type": "stream",
     "text": [
      "2560.1315327139364 1249.0612243714847\n",
      "3254.8077796138828 m 2014.1649519117382 m\n",
      "[[[5.24985988e+02 0.00000000e+00]\n",
      "  [5.24515489e+02 1.00000000e+00]\n",
      "  [5.24045398e+02 2.00000000e+00]\n",
      "  ...\n",
      "  [1.39155811e+03 2.00000000e+00]\n",
      "  [1.39219778e+03 1.00000000e+00]\n",
      "  [1.39283827e+03 0.00000000e+00]]]\n"
     ]
    },
    {
     "name": "stderr",
     "output_type": "stream",
     "text": [
      "\n",
      "\n",
      "t:  87%|█████████████████████████████████████████████████████████▎        | 943/1085 [19:54<02:51,  1.21s/it, now=None]\u001b[A\u001b[A"
     ]
    },
    {
     "name": "stdout",
     "output_type": "stream",
     "text": [
      "2465.324099783553 1129.5912709569184\n",
      "3173.1014196749834 m 1963.3842791165507 m\n",
      "[[[5.29818391e+02 0.00000000e+00]\n",
      "  [5.29336732e+02 1.00000000e+00]\n",
      "  [5.28855498e+02 2.00000000e+00]\n",
      "  ...\n",
      "  [1.40374478e+03 2.00000000e+00]\n",
      "  [1.40444130e+03 1.00000000e+00]\n",
      "  [1.40513871e+03 0.00000000e+00]]]\n"
     ]
    },
    {
     "name": "stderr",
     "output_type": "stream",
     "text": [
      "\n",
      "\n",
      "t:  87%|█████████████████████████████████████████████████████████▍        | 944/1085 [19:55<02:50,  1.21s/it, now=None]\u001b[A\u001b[A"
     ]
    },
    {
     "name": "stdout",
     "output_type": "stream",
     "text": [
      "2293.5586367525443 3003.1756394808203\n",
      "2999.434631462714 m 3825.6957939379245 m\n",
      "[[[5.29846299e+02 0.00000000e+00]\n",
      "  [5.29354881e+02 1.00000000e+00]\n",
      "  [5.28863918e+02 2.00000000e+00]\n",
      "  ...\n",
      "  [1.37182896e+03 2.00000000e+00]\n",
      "  [1.37233520e+03 1.00000000e+00]\n",
      "  [1.37284180e+03 0.00000000e+00]]]\n"
     ]
    },
    {
     "name": "stderr",
     "output_type": "stream",
     "text": [
      "\n",
      "\n",
      "t:  87%|█████████████████████████████████████████████████████████▍        | 945/1085 [19:56<02:48,  1.20s/it, now=None]\u001b[A\u001b[A"
     ]
    },
    {
     "name": "stdout",
     "output_type": "stream",
     "text": [
      "2313.147005910425 3138.7045319889085\n",
      "2983.565824349672 m 3990.8544048746626 m\n",
      "[[[5.18780503e+02 0.00000000e+00]\n",
      "  [5.18306309e+02 1.00000000e+00]\n",
      "  [5.17832562e+02 2.00000000e+00]\n",
      "  ...\n",
      "  [1.38067905e+03 2.00000000e+00]\n",
      "  [1.38119295e+03 1.00000000e+00]\n",
      "  [1.38170719e+03 0.00000000e+00]]]\n"
     ]
    },
    {
     "name": "stderr",
     "output_type": "stream",
     "text": [
      "\n",
      "\n",
      "t:  87%|█████████████████████████████████████████████████████████▌        | 946/1085 [19:57<02:47,  1.20s/it, now=None]\u001b[A\u001b[A"
     ]
    },
    {
     "name": "stdout",
     "output_type": "stream",
     "text": [
      "2341.693427536859 3281.014601174326\n",
      "2957.2082343685047 m 4123.365554583722 m\n",
      "[[[5.01242688e+02 0.00000000e+00]\n",
      "  [5.00795193e+02 1.00000000e+00]\n",
      "  [5.00348136e+02 2.00000000e+00]\n",
      "  ...\n",
      "  [1.38429719e+03 2.00000000e+00]\n",
      "  [1.38480178e+03 1.00000000e+00]\n",
      "  [1.38530670e+03 0.00000000e+00]]]\n"
     ]
    },
    {
     "name": "stderr",
     "output_type": "stream",
     "text": [
      "\n",
      "\n",
      "t:  87%|█████████████████████████████████████████████████████████▌        | 947/1085 [19:59<02:45,  1.20s/it, now=None]\u001b[A\u001b[A"
     ]
    },
    {
     "name": "stdout",
     "output_type": "stream",
     "text": [
      "2349.7696045625844 2561.915746285215\n",
      "2925.941682190257 m 3420.5468587511045 m\n",
      "[[[4.88290646e+02 0.00000000e+00]\n",
      "  [4.87861601e+02 1.00000000e+00]\n",
      "  [4.87432991e+02 2.00000000e+00]\n",
      "  ...\n",
      "  [1.39627644e+03 2.00000000e+00]\n",
      "  [1.39681891e+03 1.00000000e+00]\n",
      "  [1.39736181e+03 0.00000000e+00]]]\n"
     ]
    },
    {
     "name": "stderr",
     "output_type": "stream",
     "text": [
      "\n",
      "\n",
      "t:  87%|█████████████████████████████████████████████████████████▋        | 948/1085 [20:00<02:44,  1.20s/it, now=None]\u001b[A\u001b[A"
     ]
    },
    {
     "name": "stdout",
     "output_type": "stream",
     "text": [
      "2410.3920099411393 8422.314955875197\n",
      "2945.8868763233713 m 9266.904343005126 m\n",
      "[[[4.73883017e+02 0.00000000e+00]\n",
      "  [4.73476389e+02 1.00000000e+00]\n",
      "  [4.73070181e+02 2.00000000e+00]\n",
      "  ...\n",
      "  [1.38444339e+03 2.00000000e+00]\n",
      "  [1.38487666e+03 1.00000000e+00]\n",
      "  [1.38531006e+03 0.00000000e+00]]]\n"
     ]
    },
    {
     "name": "stderr",
     "output_type": "stream",
     "text": [
      "\n",
      "\n",
      "t:  87%|█████████████████████████████████████████████████████████▋        | 949/1085 [20:01<02:43,  1.20s/it, now=None]\u001b[A\u001b[A"
     ]
    },
    {
     "name": "stdout",
     "output_type": "stream",
     "text": [
      "2248.236699189355 94902.52146137056\n",
      "2721.964521449624 m 94102.17656260505 m\n",
      "[[[4.54773707e+02 0.00000000e+00]\n",
      "  [4.54384942e+02 1.00000000e+00]\n",
      "  [4.53996624e+02 2.00000000e+00]\n",
      "  ...\n",
      "  [1.37452666e+03 2.00000000e+00]\n",
      "  [1.37488574e+03 1.00000000e+00]\n",
      "  [1.37524481e+03 0.00000000e+00]]]\n"
     ]
    },
    {
     "name": "stderr",
     "output_type": "stream",
     "text": [
      "\n",
      "\n",
      "t:  88%|█████████████████████████████████████████████████████████▊        | 950/1085 [20:02<02:42,  1.20s/it, now=None]\u001b[A\u001b[A"
     ]
    },
    {
     "name": "stdout",
     "output_type": "stream",
     "text": [
      "2065.3959430315535 1565.263674162093\n",
      "2600.070699625791 m 2569.8178393226976 m\n",
      "[[[4.75977958e+02 0.00000000e+00]\n",
      "  [4.75547338e+02 1.00000000e+00]\n",
      "  [4.75117207e+02 2.00000000e+00]\n",
      "  ...\n",
      "  [1.44540353e+03 2.00000000e+00]\n",
      "  [1.44609266e+03 1.00000000e+00]\n",
      "  [1.44678246e+03 0.00000000e+00]]]\n"
     ]
    },
    {
     "name": "stderr",
     "output_type": "stream",
     "text": [
      "\n",
      "\n",
      "t:  88%|█████████████████████████████████████████████████████████▊        | 951/1085 [20:03<02:41,  1.20s/it, now=None]\u001b[A\u001b[A"
     ]
    },
    {
     "name": "stdout",
     "output_type": "stream",
     "text": [
      "1998.0780119215212 1694.5588512838713\n",
      "2477.118792759238 m 2719.041329928227 m\n",
      "[[[4.59207505e+02 0.00000000e+00]\n",
      "  [4.58796562e+02 1.00000000e+00]\n",
      "  [4.58386121e+02 2.00000000e+00]\n",
      "  ...\n",
      "  [1.45411193e+03 2.00000000e+00]\n",
      "  [1.45479356e+03 1.00000000e+00]\n",
      "  [1.45547583e+03 0.00000000e+00]]]\n"
     ]
    },
    {
     "name": "stderr",
     "output_type": "stream",
     "text": [
      "\n",
      "\n",
      "t:  88%|█████████████████████████████████████████████████████████▉        | 952/1085 [20:05<02:40,  1.20s/it, now=None]\u001b[A\u001b[A"
     ]
    },
    {
     "name": "stdout",
     "output_type": "stream",
     "text": [
      "1623.769805742372 1238.0939286365601\n",
      "2145.701773642065 m 2369.1420567973596 m\n",
      "[[[4.74817752e+02 0.00000000e+00]\n",
      "  [4.74346661e+02 1.00000000e+00]\n",
      "  [4.73876186e+02 2.00000000e+00]\n",
      "  ...\n",
      "  [1.48340812e+03 2.00000000e+00]\n",
      "  [1.48420322e+03 1.00000000e+00]\n",
      "  [1.48499916e+03 0.00000000e+00]]]\n"
     ]
    },
    {
     "name": "stderr",
     "output_type": "stream",
     "text": [
      "\n",
      "\n",
      "t:  88%|█████████████████████████████████████████████████████████▉        | 953/1085 [20:06<02:38,  1.20s/it, now=None]\u001b[A\u001b[A"
     ]
    },
    {
     "name": "stdout",
     "output_type": "stream",
     "text": [
      "1527.8493006176147 1576.6534723643902\n",
      "2101.900061295217 m 2576.1713320485646 m\n",
      "[[[4.90452536e+02 0.00000000e+00]\n",
      "  [4.89944737e+02 1.00000000e+00]\n",
      "  [4.89437594e+02 2.00000000e+00]\n",
      "  ...\n",
      "  [1.45232488e+03 2.00000000e+00]\n",
      "  [1.45301037e+03 1.00000000e+00]\n",
      "  [1.45369654e+03 0.00000000e+00]]]\n"
     ]
    },
    {
     "name": "stderr",
     "output_type": "stream",
     "text": [
      "\n",
      "\n",
      "t:  88%|██████████████████████████████████████████████████████████        | 954/1085 [20:07<02:37,  1.20s/it, now=None]\u001b[A\u001b[A"
     ]
    },
    {
     "name": "stdout",
     "output_type": "stream",
     "text": [
      "1533.7415165450063 2464.891644406963\n",
      "2093.7099780161066 m 3392.617545700597 m\n",
      "[[[4.83201685e+02 0.00000000e+00]\n",
      "  [4.82700991e+02 1.00000000e+00]\n",
      "  [4.82200949e+02 2.00000000e+00]\n",
      "  ...\n",
      "  [1.43072019e+03 2.00000000e+00]\n",
      "  [1.43129791e+03 1.00000000e+00]\n",
      "  [1.43187608e+03 0.00000000e+00]]]\n"
     ]
    },
    {
     "name": "stderr",
     "output_type": "stream",
     "text": [
      "\n",
      "\n",
      "t:  88%|██████████████████████████████████████████████████████████        | 955/1085 [20:08<02:36,  1.20s/it, now=None]\u001b[A\u001b[A"
     ]
    },
    {
     "name": "stdout",
     "output_type": "stream",
     "text": [
      "1485.9596970945333 7003.882232400294\n",
      "2139.644769314745 m 7833.049480764872 m\n",
      "[[[5.11159569e+02 0.00000000e+00]\n",
      "  [5.10610311e+02 1.00000000e+00]\n",
      "  [5.10061731e+02 2.00000000e+00]\n",
      "  ...\n",
      "  [1.38763416e+03 2.00000000e+00]\n",
      "  [1.38807077e+03 1.00000000e+00]\n",
      "  [1.38850754e+03 0.00000000e+00]]]\n"
     ]
    },
    {
     "name": "stderr",
     "output_type": "stream",
     "text": [
      "\n",
      "\n",
      "t:  88%|██████████████████████████████████████████████████████████▏       | 956/1085 [20:09<02:35,  1.20s/it, now=None]\u001b[A\u001b[A"
     ]
    },
    {
     "name": "stdout",
     "output_type": "stream",
     "text": [
      "1655.4464415712 4330.304157621378\n",
      "2350.7630412908734 m 3585.7020985743106 m\n",
      "[[[5.19360033e+02 0.00000000e+00]\n",
      "  [5.18815803e+02 1.00000000e+00]\n",
      "  [5.18272186e+02 2.00000000e+00]\n",
      "  ...\n",
      "  [1.33950519e+03 2.00000000e+00]\n",
      "  [1.33973191e+03 1.00000000e+00]\n",
      "  [1.33995833e+03 0.00000000e+00]]]\n"
     ]
    },
    {
     "name": "stderr",
     "output_type": "stream",
     "text": [
      "\n",
      "\n",
      "t:  88%|██████████████████████████████████████████████████████████▏       | 957/1085 [20:11<02:34,  1.21s/it, now=None]\u001b[A\u001b[A"
     ]
    },
    {
     "name": "stdout",
     "output_type": "stream",
     "text": [
      "1714.6117635656356 4512.847233212436\n",
      "2421.0123356624053 m 3804.088899176586 m\n",
      "[[[5.19567788e+02 0.00000000e+00]\n",
      "  [5.19025702e+02 1.00000000e+00]\n",
      "  [5.18484210e+02 2.00000000e+00]\n",
      "  ...\n",
      "  [1.33469754e+03 2.00000000e+00]\n",
      "  [1.33491657e+03 1.00000000e+00]\n",
      "  [1.33513531e+03 0.00000000e+00]]]\n"
     ]
    },
    {
     "name": "stderr",
     "output_type": "stream",
     "text": [
      "\n",
      "\n",
      "t:  88%|██████████████████████████████████████████████████████████▎       | 958/1085 [20:12<02:33,  1.21s/it, now=None]\u001b[A\u001b[A"
     ]
    },
    {
     "name": "stdout",
     "output_type": "stream",
     "text": [
      "1999.524952050205 2926.5953801349174\n",
      "2792.9491054263954 m 3712.6108935523293 m\n",
      "[[[5.41642915e+02 0.00000000e+00]\n",
      "  [5.41090497e+02 1.00000000e+00]\n",
      "  [5.40538602e+02 2.00000000e+00]\n",
      "  ...\n",
      "  [1.37863719e+03 2.00000000e+00]\n",
      "  [1.37913056e+03 1.00000000e+00]\n",
      "  [1.37962430e+03 0.00000000e+00]]]\n"
     ]
    },
    {
     "name": "stderr",
     "output_type": "stream",
     "text": [
      "\n",
      "\n",
      "t:  88%|██████████████████████████████████████████████████████████▎       | 959/1085 [20:13<02:32,  1.21s/it, now=None]\u001b[A\u001b[A"
     ]
    },
    {
     "name": "stdout",
     "output_type": "stream",
     "text": [
      "2237.240815773536 9467.683147168309\n",
      "2941.3625730882286 m 10239.601757066232 m\n",
      "[[[5.11258580e+02 0.00000000e+00]\n",
      "  [5.10764136e+02 1.00000000e+00]\n",
      "  [5.10270156e+02 2.00000000e+00]\n",
      "  ...\n",
      "  [1.37006551e+03 2.00000000e+00]\n",
      "  [1.37046271e+03 1.00000000e+00]\n",
      "  [1.37086003e+03 0.00000000e+00]]]\n"
     ]
    },
    {
     "name": "stderr",
     "output_type": "stream",
     "text": [
      "\n",
      "\n",
      "t:  88%|██████████████████████████████████████████████████████████▍       | 960/1085 [20:14<02:30,  1.21s/it, now=None]\u001b[A\u001b[A"
     ]
    },
    {
     "name": "stdout",
     "output_type": "stream",
     "text": [
      "2372.1558401892935 1780.5344483625\n",
      "3100.1599006966894 m 2674.6037412150195 m\n",
      "[[[5.15844601e+02 0.00000000e+00]\n",
      "  [5.15348319e+02 1.00000000e+00]\n",
      "  [5.14852479e+02 2.00000000e+00]\n",
      "  ...\n",
      "  [1.41387989e+03 2.00000000e+00]\n",
      "  [1.41449641e+03 1.00000000e+00]\n",
      "  [1.41511352e+03 0.00000000e+00]]]\n"
     ]
    },
    {
     "name": "stderr",
     "output_type": "stream",
     "text": [
      "\n",
      "\n",
      "t:  89%|██████████████████████████████████████████████████████████▍       | 961/1085 [20:16<02:29,  1.20s/it, now=None]\u001b[A\u001b[A"
     ]
    },
    {
     "name": "stdout",
     "output_type": "stream",
     "text": [
      "2284.068469806216 6651.219045543084\n",
      "3008.461248025047 m 7423.8749320359775 m\n",
      "[[[5.15285866e+02 0.00000000e+00]\n",
      "  [5.14785533e+02 1.00000000e+00]\n",
      "  [5.14285658e+02 2.00000000e+00]\n",
      "  ...\n",
      "  [1.36900640e+03 2.00000000e+00]\n",
      "  [1.36942193e+03 1.00000000e+00]\n",
      "  [1.36983762e+03 0.00000000e+00]]]\n"
     ]
    },
    {
     "name": "stderr",
     "output_type": "stream",
     "text": [
      "\n",
      "\n",
      "t:  89%|██████████████████████████████████████████████████████████▌       | 962/1085 [20:17<02:37,  1.28s/it, now=None]\u001b[A\u001b[A"
     ]
    },
    {
     "name": "stdout",
     "output_type": "stream",
     "text": [
      "2573.27423165729 3786.251827937262\n",
      "3298.2670384545777 m 4556.231327004933 m\n",
      "[[[5.15031206e+02 0.00000000e+00]\n",
      "  [5.14547830e+02 1.00000000e+00]\n",
      "  [5.14064863e+02 2.00000000e+00]\n",
      "  ...\n",
      "  [1.37252354e+03 2.00000000e+00]\n",
      "  [1.37298154e+03 1.00000000e+00]\n",
      "  [1.37343982e+03 0.00000000e+00]]]\n"
     ]
    },
    {
     "name": "stderr",
     "output_type": "stream",
     "text": [
      "\n",
      "\n",
      "t:  89%|██████████████████████████████████████████████████████████▌       | 963/1085 [20:18<02:36,  1.28s/it, now=None]\u001b[A\u001b[A"
     ]
    },
    {
     "name": "stdout",
     "output_type": "stream",
     "text": [
      "2402.831697060337 3468.825114242066\n",
      "3166.9123701843373 m 4181.184416514655 m\n",
      "[[[5.29193546e+02 0.00000000e+00]\n",
      "  [5.28683089e+02 1.00000000e+00]\n",
      "  [5.28173071e+02 2.00000000e+00]\n",
      "  ...\n",
      "  [1.35679670e+03 2.00000000e+00]\n",
      "  [1.35723810e+03 1.00000000e+00]\n",
      "  [1.35767982e+03 0.00000000e+00]]]\n"
     ]
    },
    {
     "name": "stderr",
     "output_type": "stream",
     "text": [
      "\n",
      "\n",
      "t:  89%|██████████████████████████████████████████████████████████▋       | 964/1085 [20:20<02:33,  1.27s/it, now=None]\u001b[A\u001b[A"
     ]
    },
    {
     "name": "stdout",
     "output_type": "stream",
     "text": [
      "2465.4932961159857 4873.651369557281\n",
      "3200.822484847598 m 5564.699337730494 m\n",
      "[[[5.20791853e+02 0.00000000e+00]\n",
      "  [5.20297888e+02 1.00000000e+00]\n",
      "  [5.19804349e+02 2.00000000e+00]\n",
      "  ...\n",
      "  [1.35081107e+03 2.00000000e+00]\n",
      "  [1.35121213e+03 1.00000000e+00]\n",
      "  [1.35161341e+03 0.00000000e+00]]]\n"
     ]
    },
    {
     "name": "stderr",
     "output_type": "stream",
     "text": [
      "\n",
      "\n",
      "t:  89%|██████████████████████████████████████████████████████████▋       | 965/1085 [20:21<02:34,  1.29s/it, now=None]\u001b[A\u001b[A"
     ]
    },
    {
     "name": "stdout",
     "output_type": "stream",
     "text": [
      "2596.962407492305 4085.0640185659504\n",
      "3352.4533998848456 m 4777.449797440088 m\n",
      "[[[5.24238000e+02 0.00000000e+00]\n",
      "  [5.23742292e+02 1.00000000e+00]\n",
      "  [5.23246993e+02 2.00000000e+00]\n",
      "  ...\n",
      "  [1.35096912e+03 2.00000000e+00]\n",
      "  [1.35138562e+03 1.00000000e+00]\n",
      "  [1.35180238e+03 0.00000000e+00]]]\n"
     ]
    },
    {
     "name": "stderr",
     "output_type": "stream",
     "text": [
      "\n",
      "\n",
      "t:  89%|██████████████████████████████████████████████████████████▊       | 966/1085 [20:22<02:34,  1.30s/it, now=None]\u001b[A\u001b[A"
     ]
    },
    {
     "name": "stdout",
     "output_type": "stream",
     "text": [
      "2547.8427764851667 3286.888382936177\n",
      "3309.5576062248974 m 3998.949574919499 m\n",
      "[[[5.27312970e+02 0.00000000e+00]\n",
      "  [5.26811879e+02 1.00000000e+00]\n",
      "  [5.26311205e+02 2.00000000e+00]\n",
      "  ...\n",
      "  [1.35496063e+03 2.00000000e+00]\n",
      "  [1.35540771e+03 1.00000000e+00]\n",
      "  [1.35585511e+03 0.00000000e+00]]]\n"
     ]
    },
    {
     "name": "stderr",
     "output_type": "stream",
     "text": [
      "\n",
      "\n",
      "t:  89%|██████████████████████████████████████████████████████████▊       | 967/1085 [20:24<02:36,  1.32s/it, now=None]\u001b[A\u001b[A"
     ]
    },
    {
     "name": "stdout",
     "output_type": "stream",
     "text": [
      "2828.059343300729 4634.589512365478\n",
      "3510.460557315551 m 3929.1649663766293 m\n",
      "[[[5.02352102e+02 0.00000000e+00]\n",
      "  [5.01900234e+02 1.00000000e+00]\n",
      "  [5.01448738e+02 2.00000000e+00]\n",
      "  ...\n",
      "  [1.32306584e+03 2.00000000e+00]\n",
      "  [1.32328680e+03 1.00000000e+00]\n",
      "  [1.32350748e+03 0.00000000e+00]]]\n"
     ]
    },
    {
     "name": "stderr",
     "output_type": "stream",
     "text": [
      "\n",
      "\n",
      "t:  89%|██████████████████████████████████████████████████████████▉       | 968/1085 [20:25<02:35,  1.33s/it, now=None]\u001b[A\u001b[A"
     ]
    },
    {
     "name": "stdout",
     "output_type": "stream",
     "text": [
      "2852.3910961457436 14426.092261060994\n",
      "3535.20848097104 m 15134.128484567324 m\n",
      "[[[5.03659015e+02 0.00000000e+00]\n",
      "  [5.03208036e+02 1.00000000e+00]\n",
      "  [5.02757425e+02 2.00000000e+00]\n",
      "  ...\n",
      "  [1.34385434e+03 2.00000000e+00]\n",
      "  [1.34420931e+03 1.00000000e+00]\n",
      "  [1.34456437e+03 0.00000000e+00]]]\n"
     ]
    },
    {
     "name": "stderr",
     "output_type": "stream",
     "text": [
      "\n",
      "\n",
      "t:  89%|██████████████████████████████████████████████████████████▉       | 969/1085 [20:26<02:33,  1.32s/it, now=None]\u001b[A\u001b[A"
     ]
    },
    {
     "name": "stdout",
     "output_type": "stream",
     "text": [
      "2703.8563649822727 3193.820362399271\n",
      "3389.383349763402 m 3943.0709602946686 m\n",
      "[[[5.05476071e+02 0.00000000e+00]\n",
      "  [5.05017023e+02 1.00000000e+00]\n",
      "  [5.04558363e+02 2.00000000e+00]\n",
      "  ...\n",
      "  [1.36516223e+03 2.00000000e+00]\n",
      "  [1.36562906e+03 1.00000000e+00]\n",
      "  [1.36609622e+03 0.00000000e+00]]]\n"
     ]
    },
    {
     "name": "stderr",
     "output_type": "stream",
     "text": [
      "\n",
      "\n",
      "t:  89%|███████████████████████████████████████████████████████████       | 970/1085 [20:28<02:41,  1.41s/it, now=None]\u001b[A\u001b[A"
     ]
    },
    {
     "name": "stdout",
     "output_type": "stream",
     "text": [
      "2643.06465114435 2737.4256943190076\n",
      "3330.493479221293 m 3495.333591850483 m\n",
      "[[[5.06584045e+02 0.00000000e+00]\n",
      "  [5.06121129e+02 1.00000000e+00]\n",
      "  [5.05658610e+02 2.00000000e+00]\n",
      "  ...\n",
      "  [1.37000177e+03 2.00000000e+00]\n",
      "  [1.37049115e+03 1.00000000e+00]\n",
      "  [1.37098092e+03 0.00000000e+00]]]\n"
     ]
    },
    {
     "name": "stderr",
     "output_type": "stream",
     "text": [
      "\n",
      "\n",
      "t:  89%|███████████████████████████████████████████████████████████       | 971/1085 [20:29<02:34,  1.35s/it, now=None]\u001b[A\u001b[A"
     ]
    },
    {
     "name": "stdout",
     "output_type": "stream",
     "text": [
      "2534.0902442215324 2090.9511238299347\n",
      "3270.135538493339 m 2837.3540082712593 m\n",
      "[[[5.24193019e+02 0.00000000e+00]\n",
      "  [5.23702593e+02 1.00000000e+00]\n",
      "  [5.23212583e+02 2.00000000e+00]\n",
      "  ...\n",
      "  [1.36658072e+03 2.00000000e+00]\n",
      "  [1.36710434e+03 1.00000000e+00]\n",
      "  [1.36762846e+03 0.00000000e+00]]]\n"
     ]
    },
    {
     "name": "stderr",
     "output_type": "stream",
     "text": [
      "\n",
      "\n",
      "t:  90%|███████████████████████████████████████████████████████████▏      | 972/1085 [20:30<02:29,  1.32s/it, now=None]\u001b[A\u001b[A"
     ]
    },
    {
     "name": "stdout",
     "output_type": "stream",
     "text": [
      "2540.183211498447 1889.5017543676347\n",
      "3214.105907934246 m 2655.7316438045846 m\n",
      "[[[5.06509481e+02 0.00000000e+00]\n",
      "  [5.06047241e+02 1.00000000e+00]\n",
      "  [5.05585412e+02 2.00000000e+00]\n",
      "  ...\n",
      "  [1.37831592e+03 2.00000000e+00]\n",
      "  [1.37886569e+03 1.00000000e+00]\n",
      "  [1.37941600e+03 0.00000000e+00]]]\n"
     ]
    },
    {
     "name": "stderr",
     "output_type": "stream",
     "text": [
      "\n",
      "\n",
      "t:  90%|███████████████████████████████████████████████████████████▏      | 973/1085 [20:32<02:24,  1.29s/it, now=None]\u001b[A\u001b[A"
     ]
    },
    {
     "name": "stdout",
     "output_type": "stream",
     "text": [
      "2225.834524467047 1940.1738841726362\n",
      "2903.5958468445456 m 2689.9608228959028 m\n",
      "[[[5.10198460e+02 0.00000000e+00]\n",
      "  [5.09715060e+02 1.00000000e+00]\n",
      "  [5.09232123e+02 2.00000000e+00]\n",
      "  ...\n",
      "  [1.37313249e+03 2.00000000e+00]\n",
      "  [1.37367029e+03 1.00000000e+00]\n",
      "  [1.37420862e+03 0.00000000e+00]]]\n"
     ]
    },
    {
     "name": "stderr",
     "output_type": "stream",
     "text": [
      "\n",
      "\n",
      "t:  90%|███████████████████████████████████████████████████████████▏      | 974/1085 [20:33<02:21,  1.27s/it, now=None]\u001b[A\u001b[A"
     ]
    },
    {
     "name": "stdout",
     "output_type": "stream",
     "text": [
      "1979.43554434041 1961.5299694588632\n",
      "2664.1687361176573 m 2684.5781902582103 m\n",
      "[[[5.16007389e+02 0.00000000e+00]\n",
      "  [5.15501558e+02 1.00000000e+00]\n",
      "  [5.14996245e+02 2.00000000e+00]\n",
      "  ...\n",
      "  [1.36422345e+03 2.00000000e+00]\n",
      "  [1.36474746e+03 1.00000000e+00]\n",
      "  [1.36527199e+03 0.00000000e+00]]]\n"
     ]
    },
    {
     "name": "stderr",
     "output_type": "stream",
     "text": [
      "\n",
      "\n",
      "t:  90%|███████████████████████████████████████████████████████████▎      | 975/1085 [20:34<02:18,  1.26s/it, now=None]\u001b[A\u001b[A"
     ]
    },
    {
     "name": "stdout",
     "output_type": "stream",
     "text": [
      "2059.8037961054756 2295.00196950268\n",
      "2667.6856187082954 m 3044.245971280528 m\n",
      "[[[4.91409259e+02 0.00000000e+00]\n",
      "  [4.90944869e+02 1.00000000e+00]\n",
      "  [4.90480974e+02 2.00000000e+00]\n",
      "  ...\n",
      "  [1.37499499e+03 2.00000000e+00]\n",
      "  [1.37550522e+03 1.00000000e+00]\n",
      "  [1.37601590e+03 0.00000000e+00]]]\n"
     ]
    },
    {
     "name": "stderr",
     "output_type": "stream",
     "text": [
      "\n",
      "\n",
      "t:  90%|███████████████████████████████████████████████████████████▎      | 976/1085 [20:35<02:15,  1.24s/it, now=None]\u001b[A\u001b[A"
     ]
    },
    {
     "name": "stdout",
     "output_type": "stream",
     "text": [
      "1831.6182021791565 2337.833356910086\n",
      "2490.659326086843 m 3046.9834429143298 m\n",
      "[[[5.07241453e+02 0.00000000e+00]\n",
      "  [5.06733164e+02 1.00000000e+00]\n",
      "  [5.06225431e+02 2.00000000e+00]\n",
      "  ...\n",
      "  [1.36086578e+03 2.00000000e+00]\n",
      "  [1.36135534e+03 1.00000000e+00]\n",
      "  [1.36184535e+03 0.00000000e+00]]]\n"
     ]
    },
    {
     "name": "stderr",
     "output_type": "stream",
     "text": [
      "\n",
      "\n",
      "t:  90%|███████████████████████████████████████████████████████████▍      | 977/1085 [20:37<02:16,  1.27s/it, now=None]\u001b[A\u001b[A"
     ]
    },
    {
     "name": "stdout",
     "output_type": "stream",
     "text": [
      "1660.9492758664912 2936.512159421643\n",
      "2314.0540766210247 m 3648.681572020157 m\n",
      "[[[5.06690455e+02 0.00000000e+00]\n",
      "  [5.06165645e+02 1.00000000e+00]\n",
      "  [5.05641445e+02 2.00000000e+00]\n",
      "  ...\n",
      "  [1.35647761e+03 2.00000000e+00]\n",
      "  [1.35693780e+03 1.00000000e+00]\n",
      "  [1.35739835e+03 0.00000000e+00]]]\n"
     ]
    },
    {
     "name": "stderr",
     "output_type": "stream",
     "text": [
      "\n",
      "\n",
      "t:  90%|███████████████████████████████████████████████████████████▍      | 978/1085 [20:38<02:14,  1.25s/it, now=None]\u001b[A\u001b[A"
     ]
    },
    {
     "name": "stdout",
     "output_type": "stream",
     "text": [
      "1502.9890236287301 247449.34980468967\n",
      "2177.456129053927 m 246704.759636877 m\n",
      "[[[5.13181221e+02 0.00000000e+00]\n",
      "  [5.12625429e+02 1.00000000e+00]\n",
      "  [5.12070307e+02 2.00000000e+00]\n",
      "  ...\n",
      "  [1.33883889e+03 2.00000000e+00]\n",
      "  [1.33917804e+03 1.00000000e+00]\n",
      "  [1.33951719e+03 0.00000000e+00]]]\n"
     ]
    },
    {
     "name": "stderr",
     "output_type": "stream",
     "text": [
      "\n",
      "\n",
      "t:  90%|███████████████████████████████████████████████████████████▌      | 979/1085 [20:39<02:11,  1.24s/it, now=None]\u001b[A\u001b[A"
     ]
    },
    {
     "name": "stdout",
     "output_type": "stream",
     "text": [
      "1452.8319362774623 5468.291652022594\n",
      "2145.7764469007993 m 6226.927972765677 m\n",
      "[[[5.18628014e+02 0.00000000e+00]\n",
      "  [5.18056342e+02 1.00000000e+00]\n",
      "  [5.17485363e+02 2.00000000e+00]\n",
      "  ...\n",
      "  [1.35317292e+03 2.00000000e+00]\n",
      "  [1.35359514e+03 1.00000000e+00]\n",
      "  [1.35401756e+03 0.00000000e+00]]]\n"
     ]
    },
    {
     "name": "stderr",
     "output_type": "stream",
     "text": [
      "\n",
      "\n",
      "t:  90%|███████████████████████████████████████████████████████████▌      | 980/1085 [20:40<02:09,  1.24s/it, now=None]\u001b[A\u001b[A"
     ]
    },
    {
     "name": "stdout",
     "output_type": "stream",
     "text": [
      "1565.8309829914901 92806.13304077735\n",
      "2176.0423983495107 m 93550.51374701005 m\n",
      "[[[4.90477142e+02 0.00000000e+00]\n",
      "  [4.89958843e+02 1.00000000e+00]\n",
      "  [4.89441185e+02 2.00000000e+00]\n",
      "  ...\n",
      "  [1.34855462e+03 2.00000000e+00]\n",
      "  [1.34890019e+03 1.00000000e+00]\n",
      "  [1.34924577e+03 0.00000000e+00]]]\n"
     ]
    },
    {
     "name": "stderr",
     "output_type": "stream",
     "text": [
      "\n",
      "\n",
      "t:  90%|███████████████████████████████████████████████████████████▋      | 981/1085 [20:41<02:08,  1.23s/it, now=None]\u001b[A\u001b[A"
     ]
    },
    {
     "name": "stdout",
     "output_type": "stream",
     "text": [
      "1522.5741639280643 3055.3178011083223\n",
      "2182.016260083862 m 3826.7826081382977 m\n",
      "[[[5.03640339e+02 0.00000000e+00]\n",
      "  [5.03094068e+02 1.00000000e+00]\n",
      "  [5.02548459e+02 2.00000000e+00]\n",
      "  ...\n",
      "  [1.37029372e+03 2.00000000e+00]\n",
      "  [1.37077550e+03 1.00000000e+00]\n",
      "  [1.37125763e+03 0.00000000e+00]]]\n"
     ]
    },
    {
     "name": "stderr",
     "output_type": "stream",
     "text": [
      "\n",
      "\n",
      "t:  91%|███████████████████████████████████████████████████████████▋      | 982/1085 [20:43<02:06,  1.23s/it, now=None]\u001b[A\u001b[A"
     ]
    },
    {
     "name": "stdout",
     "output_type": "stream",
     "text": [
      "1617.793924155231 2287.3480766176317\n",
      "2278.2705694407955 m 3129.311297289729 m\n",
      "[[[5.00773318e+02 0.00000000e+00]\n",
      "  [5.00239758e+02 1.00000000e+00]\n",
      "  [4.99706822e+02 2.00000000e+00]\n",
      "  ...\n",
      "  [1.39193336e+03 2.00000000e+00]\n",
      "  [1.39248496e+03 1.00000000e+00]\n",
      "  [1.39303704e+03 0.00000000e+00]]]\n"
     ]
    },
    {
     "name": "stderr",
     "output_type": "stream",
     "text": [
      "\n",
      "\n",
      "t:  91%|███████████████████████████████████████████████████████████▊      | 983/1085 [20:44<02:04,  1.22s/it, now=None]\u001b[A\u001b[A"
     ]
    },
    {
     "name": "stdout",
     "output_type": "stream",
     "text": [
      "1567.8996962059396 2762.3838153771985\n",
      "2155.7466851654112 m 3617.6462072787845 m\n",
      "[[[4.77736514e+02 0.00000000e+00]\n",
      "  [4.77228421e+02 1.00000000e+00]\n",
      "  [4.76720968e+02 2.00000000e+00]\n",
      "  ...\n",
      "  [1.39919555e+03 2.00000000e+00]\n",
      "  [1.39972649e+03 1.00000000e+00]\n",
      "  [1.40025782e+03 0.00000000e+00]]]\n"
     ]
    },
    {
     "name": "stderr",
     "output_type": "stream",
     "text": [
      "\n",
      "\n",
      "t:  91%|███████████████████████████████████████████████████████████▊      | 984/1085 [20:45<02:03,  1.22s/it, now=None]\u001b[A\u001b[A"
     ]
    },
    {
     "name": "stdout",
     "output_type": "stream",
     "text": [
      "1336.7870282837875 1381.9641041268205\n",
      "2001.9228270943356 m 2349.1543565642437 m\n",
      "[[[5.02800521e+02 0.00000000e+00]\n",
      "  [5.02220612e+02 1.00000000e+00]\n",
      "  [5.01641454e+02 2.00000000e+00]\n",
      "  ...\n",
      "  [1.43570442e+03 2.00000000e+00]\n",
      "  [1.43640499e+03 1.00000000e+00]\n",
      "  [1.43710631e+03 0.00000000e+00]]]\n"
     ]
    },
    {
     "name": "stderr",
     "output_type": "stream",
     "text": [
      "\n",
      "\n",
      "t:  91%|███████████████████████████████████████████████████████████▉      | 985/1085 [20:46<02:03,  1.23s/it, now=None]\u001b[A\u001b[A"
     ]
    },
    {
     "name": "stdout",
     "output_type": "stream",
     "text": [
      "1292.5079353877154 1245.3724154977556\n",
      "1967.0021373319794 m 2280.368122464893 m\n",
      "[[[5.05908325e+02 0.00000000e+00]\n",
      "  [5.05315616e+02 1.00000000e+00]\n",
      "  [5.04723683e+02 2.00000000e+00]\n",
      "  ...\n",
      "  [1.45388460e+03 2.00000000e+00]\n",
      "  [1.45463865e+03 1.00000000e+00]\n",
      "  [1.45539352e+03 0.00000000e+00]]]\n"
     ]
    },
    {
     "name": "stderr",
     "output_type": "stream",
     "text": [
      "\n",
      "\n",
      "t:  91%|███████████████████████████████████████████████████████████▉      | 986/1085 [20:47<02:01,  1.22s/it, now=None]\u001b[A\u001b[A"
     ]
    },
    {
     "name": "stdout",
     "output_type": "stream",
     "text": [
      "1237.4386091411438 1904.8469274787453\n",
      "1994.4453211206574 m 2786.2458533371205 m\n",
      "[[[5.28284317e+02 0.00000000e+00]\n",
      "  [5.27644761e+02 1.00000000e+00]\n",
      "  [5.27006017e+02 2.00000000e+00]\n",
      "  ...\n",
      "  [1.40971820e+03 2.00000000e+00]\n",
      "  [1.41031697e+03 1.00000000e+00]\n",
      "  [1.41091629e+03 0.00000000e+00]]]\n"
     ]
    },
    {
     "name": "stderr",
     "output_type": "stream",
     "text": [
      "\n",
      "\n",
      "t:  91%|████████████████████████████████████████████████████████████      | 987/1085 [20:49<02:02,  1.25s/it, now=None]\u001b[A\u001b[A"
     ]
    },
    {
     "name": "stdout",
     "output_type": "stream",
     "text": [
      "1283.4763508833505 1762.7317837827927\n",
      "2133.5517940100513 m 2618.713358341806 m\n",
      "[[[5.52265127e+02 0.00000000e+00]\n",
      "  [5.51595580e+02 1.00000000e+00]\n",
      "  [5.50926824e+02 2.00000000e+00]\n",
      "  ...\n",
      "  [1.40026003e+03 2.00000000e+00]\n",
      "  [1.40086193e+03 1.00000000e+00]\n",
      "  [1.40146442e+03 0.00000000e+00]]]\n"
     ]
    },
    {
     "name": "stderr",
     "output_type": "stream",
     "text": [
      "\n",
      "\n",
      "t:  91%|████████████████████████████████████████████████████████████      | 988/1085 [20:50<01:59,  1.23s/it, now=None]\u001b[A\u001b[A"
     ]
    },
    {
     "name": "stdout",
     "output_type": "stream",
     "text": [
      "1354.3789855844866 1679.247706016805\n",
      "2172.8939304981936 m 2593.4859011451913 m\n",
      "[[[5.40088074e+02 0.00000000e+00]\n",
      "  [5.39445341e+02 1.00000000e+00]\n",
      "  [5.38803358e+02 2.00000000e+00]\n",
      "  ...\n",
      "  [1.41752779e+03 2.00000000e+00]\n",
      "  [1.41816423e+03 1.00000000e+00]\n",
      "  [1.41880130e+03 0.00000000e+00]]]\n"
     ]
    },
    {
     "name": "stderr",
     "output_type": "stream",
     "text": [
      "\n",
      "\n",
      "t:  91%|████████████████████████████████████████████████████████████▏     | 989/1085 [20:51<01:57,  1.23s/it, now=None]\u001b[A\u001b[A"
     ]
    },
    {
     "name": "stdout",
     "output_type": "stream",
     "text": [
      "1402.2124403560942 4566.5668252324485\n",
      "2294.116832030429 m 5395.184917558489 m\n",
      "[[[5.59161302e+02 0.00000000e+00]\n",
      "  [5.58495346e+02 1.00000000e+00]\n",
      "  [5.57830123e+02 2.00000000e+00]\n",
      "  ...\n",
      "  [1.37462755e+03 2.00000000e+00]\n",
      "  [1.37509397e+03 1.00000000e+00]\n",
      "  [1.37556063e+03 0.00000000e+00]]]\n"
     ]
    },
    {
     "name": "stderr",
     "output_type": "stream",
     "text": [
      "\n",
      "\n",
      "t:  91%|████████████████████████████████████████████████████████████▏     | 990/1085 [20:52<01:56,  1.22s/it, now=None]\u001b[A\u001b[A"
     ]
    },
    {
     "name": "stdout",
     "output_type": "stream",
     "text": [
      "1507.9242285234275 8905.361358667815\n",
      "2406.0615025610373 m 9761.32155401986 m\n",
      "[[[5.58231260e+02 0.00000000e+00]\n",
      "  [5.57578897e+02 1.00000000e+00]\n",
      "  [5.56927221e+02 2.00000000e+00]\n",
      "  ...\n",
      "  [1.37237178e+03 2.00000000e+00]\n",
      "  [1.37280712e+03 1.00000000e+00]\n",
      "  [1.37324259e+03 0.00000000e+00]]]\n"
     ]
    },
    {
     "name": "stderr",
     "output_type": "stream",
     "text": [
      "\n",
      "\n",
      "t:  91%|████████████████████████████████████████████████████████████▎     | 991/1085 [20:54<01:54,  1.22s/it, now=None]\u001b[A\u001b[A"
     ]
    },
    {
     "name": "stdout",
     "output_type": "stream",
     "text": [
      "1598.0900789776376 11463.85077217704\n",
      "2432.1740445938435 m 12311.825661074168 m\n",
      "[[[5.36714960e+02 0.00000000e+00]\n",
      "  [5.36102560e+02 1.00000000e+00]\n",
      "  [5.35490807e+02 2.00000000e+00]\n",
      "  ...\n",
      "  [1.37747206e+03 2.00000000e+00]\n",
      "  [1.37789354e+03 1.00000000e+00]\n",
      "  [1.37831514e+03 0.00000000e+00]]]\n"
     ]
    },
    {
     "name": "stderr",
     "output_type": "stream",
     "text": [
      "\n",
      "\n",
      "t:  91%|████████████████████████████████████████████████████████████▎     | 992/1085 [20:55<01:52,  1.21s/it, now=None]\u001b[A\u001b[A"
     ]
    },
    {
     "name": "stdout",
     "output_type": "stream",
     "text": [
      "1780.6877931655042 3453.0887396654243\n",
      "2643.5901310629893 m 4334.009492107735 m\n",
      "[[[5.42173968e+02 0.00000000e+00]\n",
      "  [5.41570378e+02 1.00000000e+00]\n",
      "  [5.40967377e+02 2.00000000e+00]\n",
      "  ...\n",
      "  [1.39428065e+03 2.00000000e+00]\n",
      "  [1.39479624e+03 1.00000000e+00]\n",
      "  [1.39531216e+03 0.00000000e+00]]]\n"
     ]
    },
    {
     "name": "stderr",
     "output_type": "stream",
     "text": [
      "\n",
      "\n",
      "t:  92%|████████████████████████████████████████████████████████████▍     | 993/1085 [20:56<01:52,  1.22s/it, now=None]\u001b[A\u001b[A"
     ]
    },
    {
     "name": "stdout",
     "output_type": "stream",
     "text": [
      "2068.103625721473 3016.183340524825\n",
      "2914.92972999807 m 3931.8567463617096 m\n",
      "[[[5.34682183e+02 0.00000000e+00]\n",
      "  [5.34111997e+02 1.00000000e+00]\n",
      "  [5.33542324e+02 2.00000000e+00]\n",
      "  ...\n",
      "  [1.40598160e+03 2.00000000e+00]\n",
      "  [1.40652754e+03 1.00000000e+00]\n",
      "  [1.40707386e+03 0.00000000e+00]]]\n"
     ]
    },
    {
     "name": "stderr",
     "output_type": "stream",
     "text": [
      "\n",
      "\n",
      "t:  92%|████████████████████████████████████████████████████████████▍     | 994/1085 [20:57<01:50,  1.22s/it, now=None]\u001b[A\u001b[A"
     ]
    },
    {
     "name": "stdout",
     "output_type": "stream",
     "text": [
      "2336.9190586387913 1577.7574501907823\n",
      "3181.6268928998616 m 2592.091256310288 m\n",
      "[[[5.31617533e+02 0.00000000e+00]\n",
      "  [5.31067488e+02 1.00000000e+00]\n",
      "  [5.30517903e+02 2.00000000e+00]\n",
      "  ...\n",
      "  [1.43898853e+03 2.00000000e+00]\n",
      "  [1.43968015e+03 1.00000000e+00]\n",
      "  [1.44037243e+03 0.00000000e+00]]]\n"
     ]
    },
    {
     "name": "stderr",
     "output_type": "stream",
     "text": [
      "\n",
      "\n",
      "t:  92%|████████████████████████████████████████████████████████████▌     | 995/1085 [20:58<01:49,  1.21s/it, now=None]\u001b[A\u001b[A"
     ]
    },
    {
     "name": "stdout",
     "output_type": "stream",
     "text": [
      "2295.9734571087206 845.6278501954399\n",
      "3208.4940465438435 m 2083.7706029550304 m\n",
      "[[[5.51611470e+02 0.00000000e+00]\n",
      "  [5.51029351e+02 1.00000000e+00]\n",
      "  [5.50447705e+02 2.00000000e+00]\n",
      "  ...\n",
      "  [1.49570872e+03 2.00000000e+00]\n",
      "  [1.49665907e+03 1.00000000e+00]\n",
      "  [1.49761062e+03 0.00000000e+00]]]\n"
     ]
    },
    {
     "name": "stderr",
     "output_type": "stream",
     "text": [
      "\n",
      "\n",
      "t:  92%|████████████████████████████████████████████████████████████▌     | 996/1085 [21:00<01:48,  1.22s/it, now=None]\u001b[A\u001b[A"
     ]
    },
    {
     "name": "stdout",
     "output_type": "stream",
     "text": [
      "2399.8221956926664 773.9803930046821\n",
      "3289.7837663615046 m 2107.7633681560046 m\n",
      "[[[5.46805103e+02 0.00000000e+00]\n",
      "  [5.46239317e+02 1.00000000e+00]\n",
      "  [5.45673985e+02 2.00000000e+00]\n",
      "  ...\n",
      "  [1.51777258e+03 2.00000000e+00]\n",
      "  [1.51879119e+03 1.00000000e+00]\n",
      "  [1.51981112e+03 0.00000000e+00]]]\n"
     ]
    },
    {
     "name": "stderr",
     "output_type": "stream",
     "text": [
      "\n",
      "\n",
      "t:  92%|████████████████████████████████████████████████████████████▋     | 997/1085 [21:01<01:52,  1.28s/it, now=None]\u001b[A\u001b[A"
     ]
    },
    {
     "name": "stdout",
     "output_type": "stream",
     "text": [
      "2584.471655720854 1141.7554679991613\n",
      "3531.181451071552 m 2242.4813158480833 m\n",
      "[[[5.62839820e+02 0.00000000e+00]\n",
      "  [5.62260206e+02 1.00000000e+00]\n",
      "  [5.61681023e+02 2.00000000e+00]\n",
      "  ...\n",
      "  [1.46036381e+03 2.00000000e+00]\n",
      "  [1.46116747e+03 1.00000000e+00]\n",
      "  [1.46197204e+03 0.00000000e+00]]]\n"
     ]
    },
    {
     "name": "stderr",
     "output_type": "stream",
     "text": [
      "\n",
      "\n",
      "t:  92%|████████████████████████████████████████████████████████████▋     | 998/1085 [21:02<01:49,  1.26s/it, now=None]\u001b[A\u001b[A"
     ]
    },
    {
     "name": "stdout",
     "output_type": "stream",
     "text": [
      "2725.2366179284136 1021.1610714281229\n",
      "3666.183568982962 m 2162.9389450679405 m\n",
      "[[[5.62173246e+02 0.00000000e+00]\n",
      "  [5.61603267e+02 1.00000000e+00]\n",
      "  [5.61033699e+02 2.00000000e+00]\n",
      "  ...\n",
      "  [1.47225205e+03 2.00000000e+00]\n",
      "  [1.47310379e+03 1.00000000e+00]\n",
      "  [1.47395654e+03 0.00000000e+00]]]\n"
     ]
    },
    {
     "name": "stderr",
     "output_type": "stream",
     "text": [
      "\n",
      "\n",
      "t:  92%|████████████████████████████████████████████████████████████▊     | 999/1085 [21:04<01:47,  1.24s/it, now=None]\u001b[A\u001b[A"
     ]
    },
    {
     "name": "stdout",
     "output_type": "stream",
     "text": [
      "3038.9419427342577 1394.101289445167\n",
      "3946.652394376921 m 2445.4668723528134 m\n",
      "[[[5.51858704e+02 0.00000000e+00]\n",
      "  [5.51316703e+02 1.00000000e+00]\n",
      "  [5.50775071e+02 2.00000000e+00]\n",
      "  ...\n",
      "  [1.44939933e+03 2.00000000e+00]\n",
      "  [1.45013325e+03 1.00000000e+00]\n",
      "  [1.45086792e+03 0.00000000e+00]]]\n"
     ]
    },
    {
     "name": "stderr",
     "output_type": "stream",
     "text": [
      "\n",
      "\n",
      "t:  92%|███████████████████████████████████████████████████████████▉     | 1000/1085 [21:05<01:45,  1.24s/it, now=None]\u001b[A\u001b[A"
     ]
    },
    {
     "name": "stdout",
     "output_type": "stream",
     "text": [
      "3279.6665635889685 4063.8149345381767\n",
      "4243.189438199988 m 4969.8404161855315 m\n",
      "[[[5.68779185e+02 0.00000000e+00]\n",
      "  [5.68222439e+02 1.00000000e+00]\n",
      "  [5.67666042e+02 2.00000000e+00]\n",
      "  ...\n",
      "  [1.39371600e+03 2.00000000e+00]\n",
      "  [1.39422584e+03 1.00000000e+00]\n",
      "  [1.39473597e+03 0.00000000e+00]]]\n"
     ]
    },
    {
     "name": "stderr",
     "output_type": "stream",
     "text": [
      "\n",
      "\n",
      "t:  92%|███████████████████████████████████████████████████████████▉     | 1001/1085 [21:06<01:42,  1.23s/it, now=None]\u001b[A\u001b[A"
     ]
    },
    {
     "name": "stdout",
     "output_type": "stream",
     "text": [
      "3430.1165821667637 3118.543935636221\n",
      "4352.549726765256 m 2263.059386791593 m\n",
      "[[[5.59958420e+02 0.00000000e+00]\n",
      "  [5.59424064e+02 1.00000000e+00]\n",
      "  [5.58890038e+02 2.00000000e+00]\n",
      "  ...\n",
      "  [1.34090325e+03 2.00000000e+00]\n",
      "  [1.34110876e+03 1.00000000e+00]\n",
      "  [1.34131380e+03 0.00000000e+00]]]\n"
     ]
    },
    {
     "name": "stderr",
     "output_type": "stream",
     "text": [
      "\n",
      "\n",
      "t:  92%|████████████████████████████████████████████████████████████     | 1002/1085 [21:07<01:41,  1.23s/it, now=None]\u001b[A\u001b[A"
     ]
    },
    {
     "name": "stdout",
     "output_type": "stream",
     "text": [
      "3353.332641998492 3338.653756263173\n",
      "4243.784833127043 m 2514.6852060513456 m\n",
      "[[[5.53003852e+02 0.00000000e+00]\n",
      "  [5.52480638e+02 1.00000000e+00]\n",
      "  [5.51957758e+02 2.00000000e+00]\n",
      "  ...\n",
      "  [1.34244594e+03 2.00000000e+00]\n",
      "  [1.34265682e+03 1.00000000e+00]\n",
      "  [1.34286727e+03 0.00000000e+00]]]\n"
     ]
    },
    {
     "name": "stderr",
     "output_type": "stream",
     "text": [
      "\n",
      "\n",
      "t:  92%|████████████████████████████████████████████████████████████     | 1003/1085 [21:08<01:39,  1.22s/it, now=None]\u001b[A\u001b[A"
     ]
    },
    {
     "name": "stdout",
     "output_type": "stream",
     "text": [
      "3041.4318621496036 9731.08139533967\n",
      "3954.184521859071 m 8893.22417653866 m\n",
      "[[[5.64226091e+02 0.00000000e+00]\n",
      "  [5.63682032e+02 1.00000000e+00]\n",
      "  [5.63138342e+02 2.00000000e+00]\n",
      "  ...\n",
      "  [1.36419069e+03 2.00000000e+00]\n",
      "  [1.36452030e+03 1.00000000e+00]\n",
      "  [1.36484977e+03 0.00000000e+00]]]\n"
     ]
    },
    {
     "name": "stderr",
     "output_type": "stream",
     "text": [
      "\n",
      "\n",
      "t:  93%|████████████████████████████████████████████████████████████▏    | 1004/1085 [21:10<01:38,  1.22s/it, now=None]\u001b[A\u001b[A"
     ]
    },
    {
     "name": "stdout",
     "output_type": "stream",
     "text": [
      "3522.9937674171306 5844.967060491459\n",
      "4375.508998873953 m 5040.648050537095 m\n",
      "[[[5.46760446e+02 0.00000000e+00]\n",
      "  [5.46258888e+02 1.00000000e+00]\n",
      "  [5.45757648e+02 2.00000000e+00]\n",
      "  ...\n",
      "  [1.35968941e+03 2.00000000e+00]\n",
      "  [1.35997069e+03 1.00000000e+00]\n",
      "  [1.36025174e+03 0.00000000e+00]]]\n"
     ]
    },
    {
     "name": "stderr",
     "output_type": "stream",
     "text": [
      "\n",
      "\n",
      "t:  93%|████████████████████████████████████████████████████████████▏    | 1005/1085 [21:11<01:37,  1.22s/it, now=None]\u001b[A\u001b[A"
     ]
    },
    {
     "name": "stdout",
     "output_type": "stream",
     "text": [
      "3741.624548952327 4308.329901111487\n",
      "4611.478103970739 m 3507.898184739399 m\n",
      "[[[5.53288332e+02 0.00000000e+00]\n",
      "  [5.52785543e+02 1.00000000e+00]\n",
      "  [5.52283056e+02 2.00000000e+00]\n",
      "  ...\n",
      "  [1.35460011e+03 2.00000000e+00]\n",
      "  [1.35484558e+03 1.00000000e+00]\n",
      "  [1.35509073e+03 0.00000000e+00]]]\n"
     ]
    },
    {
     "name": "stderr",
     "output_type": "stream",
     "text": [
      "\n",
      "\n",
      "t:  93%|████████████████████████████████████████████████████████████▎    | 1006/1085 [21:12<01:35,  1.21s/it, now=None]\u001b[A\u001b[A"
     ]
    },
    {
     "name": "stdout",
     "output_type": "stream",
     "text": [
      "3711.2262697139336 65307.60590333185\n",
      "4575.323996697449 m 66162.99014065694 m\n",
      "[[[5.53941061e+02 0.00000000e+00]\n",
      "  [5.53439917e+02 1.00000000e+00]\n",
      "  [5.52939074e+02 2.00000000e+00]\n",
      "  ...\n",
      "  [1.38680784e+03 2.00000000e+00]\n",
      "  [1.38720086e+03 1.00000000e+00]\n",
      "  [1.38759390e+03 0.00000000e+00]]]\n"
     ]
    },
    {
     "name": "stderr",
     "output_type": "stream",
     "text": [
      "\n",
      "\n",
      "t:  93%|████████████████████████████████████████████████████████████▎    | 1007/1085 [21:13<01:34,  1.21s/it, now=None]\u001b[A\u001b[A"
     ]
    },
    {
     "name": "stdout",
     "output_type": "stream",
     "text": [
      "3351.3169716831603 6511.024698778421\n",
      "4174.787074223002 m 7418.670354192215 m\n",
      "[[[5.46516773e+02 0.00000000e+00]\n",
      "  [5.46022406e+02 1.00000000e+00]\n",
      "  [5.45528369e+02 2.00000000e+00]\n",
      "  ...\n",
      "  [1.41159279e+03 2.00000000e+00]\n",
      "  [1.41206667e+03 1.00000000e+00]\n",
      "  [1.41254074e+03 0.00000000e+00]]]\n"
     ]
    },
    {
     "name": "stderr",
     "output_type": "stream",
     "text": [
      "\n",
      "\n",
      "t:  93%|████████████████████████████████████████████████████████████▍    | 1008/1085 [21:14<01:33,  1.21s/it, now=None]\u001b[A\u001b[A"
     ]
    },
    {
     "name": "stdout",
     "output_type": "stream",
     "text": [
      "2786.1358651437636 3496.91843284921\n",
      "3628.6529949031783 m 4440.9081483044765 m\n",
      "[[[5.58267197e+02 0.00000000e+00]\n",
      "  [5.57742518e+02 1.00000000e+00]\n",
      "  [5.57218230e+02 2.00000000e+00]\n",
      "  ...\n",
      "  [1.42753155e+03 2.00000000e+00]\n",
      "  [1.42807260e+03 1.00000000e+00]\n",
      "  [1.42861399e+03 0.00000000e+00]]]\n"
     ]
    },
    {
     "name": "stderr",
     "output_type": "stream",
     "text": [
      "\n",
      "\n",
      "t:  93%|████████████████████████████████████████████████████████████▍    | 1009/1085 [21:16<01:31,  1.21s/it, now=None]\u001b[A\u001b[A"
     ]
    },
    {
     "name": "stdout",
     "output_type": "stream",
     "text": [
      "2249.0568798097847 2366.7696214923617\n",
      "3077.5936033495145 m 3351.309115988517 m\n",
      "[[[5.58391738e+02 0.00000000e+00]\n",
      "  [5.57842953e+02 1.00000000e+00]\n",
      "  [5.57294643e+02 2.00000000e+00]\n",
      "  ...\n",
      "  [1.44744336e+03 2.00000000e+00]\n",
      "  [1.44805122e+03 1.00000000e+00]\n",
      "  [1.44865955e+03 0.00000000e+00]]]\n"
     ]
    },
    {
     "name": "stderr",
     "output_type": "stream",
     "text": [
      "\n",
      "\n",
      "t:  93%|████████████████████████████████████████████████████████████▌    | 1010/1085 [21:17<01:30,  1.21s/it, now=None]\u001b[A\u001b[A"
     ]
    },
    {
     "name": "stdout",
     "output_type": "stream",
     "text": [
      "2173.362145356406 12286.585536199664\n",
      "3016.471859885957 m 13113.078995371003 m\n",
      "[[[5.64618034e+02 0.00000000e+00]\n",
      "  [5.64057517e+02 1.00000000e+00]\n",
      "  [5.63497490e+02 2.00000000e+00]\n",
      "  ...\n",
      "  [1.39790026e+03 2.00000000e+00]\n",
      "  [1.39831035e+03 1.00000000e+00]\n",
      "  [1.39872055e+03 0.00000000e+00]]]\n"
     ]
    },
    {
     "name": "stderr",
     "output_type": "stream",
     "text": [
      "\n",
      "\n",
      "t:  93%|████████████████████████████████████████████████████████████▌    | 1011/1085 [21:18<01:29,  1.21s/it, now=None]\u001b[A\u001b[A"
     ]
    },
    {
     "name": "stdout",
     "output_type": "stream",
     "text": [
      "1901.6572568583194 2382.0680482892076\n",
      "2808.7243371962295 m 3314.104299125618 m\n",
      "[[[5.87476505e+02 0.00000000e+00]\n",
      "  [5.86865779e+02 1.00000000e+00]\n",
      "  [5.86255615e+02 2.00000000e+00]\n",
      "  ...\n",
      "  [1.43270180e+03 2.00000000e+00]\n",
      "  [1.43328634e+03 1.00000000e+00]\n",
      "  [1.43387133e+03 0.00000000e+00]]]\n"
     ]
    },
    {
     "name": "stderr",
     "output_type": "stream",
     "text": [
      "\n",
      "\n",
      "t:  93%|████████████████████████████████████████████████████████████▋    | 1012/1085 [21:19<01:28,  1.21s/it, now=None]\u001b[A\u001b[A"
     ]
    },
    {
     "name": "stdout",
     "output_type": "stream",
     "text": [
      "1941.0703247009808 5167.850404722019\n",
      "2798.0644964638914 m 6054.529834660088 m\n",
      "[[[5.73811508e+02 0.00000000e+00]\n",
      "  [5.73226109e+02 1.00000000e+00]\n",
      "  [5.72641255e+02 2.00000000e+00]\n",
      "  ...\n",
      "  [1.41725192e+03 2.00000000e+00]\n",
      "  [1.41773310e+03 1.00000000e+00]\n",
      "  [1.41821451e+03 0.00000000e+00]]]\n"
     ]
    },
    {
     "name": "stderr",
     "output_type": "stream",
     "text": [
      "\n",
      "\n",
      "t:  93%|████████████████████████████████████████████████████████████▋    | 1013/1085 [21:20<01:26,  1.20s/it, now=None]\u001b[A\u001b[A"
     ]
    },
    {
     "name": "stdout",
     "output_type": "stream",
     "text": [
      "1743.7634881950892 24092.494959409956\n",
      "2619.384384695816 m 23314.116394533674 m\n",
      "[[[5.81722635e+02 0.00000000e+00]\n",
      "  [5.81109554e+02 1.00000000e+00]\n",
      "  [5.80497075e+02 2.00000000e+00]\n",
      "  ...\n",
      "  [1.37857085e+03 2.00000000e+00]\n",
      "  [1.37890688e+03 1.00000000e+00]\n",
      "  [1.37924285e+03 0.00000000e+00]]]\n"
     ]
    },
    {
     "name": "stderr",
     "output_type": "stream",
     "text": [
      "\n",
      "\n",
      "t:  93%|████████████████████████████████████████████████████████████▋    | 1014/1085 [21:22<01:25,  1.20s/it, now=None]\u001b[A\u001b[A"
     ]
    },
    {
     "name": "stdout",
     "output_type": "stream",
     "text": [
      "1745.3260279582437 9247.536450788846\n",
      "2625.719092011349 m 10032.595678921733 m\n",
      "[[[5.83488429e+02 0.00000000e+00]\n",
      "  [5.82873451e+02 1.00000000e+00]\n",
      "  [5.82259076e+02 2.00000000e+00]\n",
      "  ...\n",
      "  [1.38877493e+03 2.00000000e+00]\n",
      "  [1.38917874e+03 1.00000000e+00]\n",
      "  [1.38958268e+03 0.00000000e+00]]]\n"
     ]
    },
    {
     "name": "stderr",
     "output_type": "stream",
     "text": [
      "\n",
      "\n",
      "t:  94%|████████████████████████████████████████████████████████████▊    | 1015/1085 [21:23<01:24,  1.21s/it, now=None]\u001b[A\u001b[A"
     ]
    },
    {
     "name": "stdout",
     "output_type": "stream",
     "text": [
      "1819.9384166747782 142239.5748647221\n",
      "2653.9900556209 m 141512.31425501977 m\n",
      "[[[5.68089128e+02 0.00000000e+00]\n",
      "  [5.67502171e+02 1.00000000e+00]\n",
      "  [5.66915789e+02 2.00000000e+00]\n",
      "  ...\n",
      "  [1.37300157e+03 2.00000000e+00]\n",
      "  [1.37333221e+03 1.00000000e+00]\n",
      "  [1.37366285e+03 0.00000000e+00]]]\n"
     ]
    },
    {
     "name": "stderr",
     "output_type": "stream",
     "text": [
      "\n",
      "\n",
      "t:  94%|████████████████████████████████████████████████████████████▊    | 1016/1085 [21:24<01:23,  1.21s/it, now=None]\u001b[A\u001b[A"
     ]
    },
    {
     "name": "stdout",
     "output_type": "stream",
     "text": [
      "1763.1662991218554 22405.913600405627\n",
      "2630.5856080536464 m 23171.590455491867 m\n",
      "[[[5.79335848e+02 0.00000000e+00]\n",
      "  [5.78728430e+02 1.00000000e+00]\n",
      "  [5.78121608e+02 2.00000000e+00]\n",
      "  ...\n",
      "  [1.38068042e+03 2.00000000e+00]\n",
      "  [1.38104949e+03 1.00000000e+00]\n",
      "  [1.38141862e+03 0.00000000e+00]]]\n"
     ]
    },
    {
     "name": "stderr",
     "output_type": "stream",
     "text": [
      "\n",
      "\n",
      "t:  94%|████████████████████████████████████████████████████████████▉    | 1017/1085 [21:25<01:22,  1.21s/it, now=None]\u001b[A\u001b[A"
     ]
    },
    {
     "name": "stdout",
     "output_type": "stream",
     "text": [
      "1563.93805650665 2313.614197363261\n",
      "2445.8354041550588 m 3204.7741384364645 m\n",
      "[[[5.84745625e+02 0.00000000e+00]\n",
      "  [5.84108024e+02 1.00000000e+00]\n",
      "  [5.83471086e+02 2.00000000e+00]\n",
      "  ...\n",
      "  [1.42654402e+03 2.00000000e+00]\n",
      "  [1.42711529e+03 1.00000000e+00]\n",
      "  [1.42768703e+03 0.00000000e+00]]]\n"
     ]
    },
    {
     "name": "stderr",
     "output_type": "stream",
     "text": [
      "\n",
      "\n",
      "t:  94%|████████████████████████████████████████████████████████████▉    | 1018/1085 [21:27<01:20,  1.21s/it, now=None]\u001b[A\u001b[A"
     ]
    },
    {
     "name": "stdout",
     "output_type": "stream",
     "text": [
      "1664.6248392382242 1591.7302300100466\n",
      "2573.701192820717 m 2556.22263061275 m\n",
      "[[[5.91699082e+02 0.00000000e+00]\n",
      "  [5.91062505e+02 1.00000000e+00]\n",
      "  [5.90426560e+02 2.00000000e+00]\n",
      "  ...\n",
      "  [1.44700755e+03 2.00000000e+00]\n",
      "  [1.44767623e+03 1.00000000e+00]\n",
      "  [1.44834557e+03 0.00000000e+00]]]\n"
     ]
    },
    {
     "name": "stderr",
     "output_type": "stream",
     "text": [
      "\n",
      "\n",
      "t:  94%|█████████████████████████████████████████████████████████████    | 1019/1085 [21:28<01:19,  1.21s/it, now=None]\u001b[A\u001b[A"
     ]
    },
    {
     "name": "stdout",
     "output_type": "stream",
     "text": [
      "1505.9521411715816 2217.5107469011\n",
      "2450.9878574335953 m 3079.327676069982 m\n",
      "[[[6.05277027e+02 0.00000000e+00]\n",
      "  [6.04604322e+02 1.00000000e+00]\n",
      "  [6.03932310e+02 2.00000000e+00]\n",
      "  ...\n",
      "  [1.41647153e+03 2.00000000e+00]\n",
      "  [1.41703656e+03 1.00000000e+00]\n",
      "  [1.41760207e+03 0.00000000e+00]]]\n"
     ]
    },
    {
     "name": "stderr",
     "output_type": "stream",
     "text": [
      "\n",
      "\n",
      "t:  94%|█████████████████████████████████████████████████████████████    | 1020/1085 [21:29<01:18,  1.21s/it, now=None]\u001b[A\u001b[A"
     ]
    },
    {
     "name": "stdout",
     "output_type": "stream",
     "text": [
      "1603.7408049624069 2224.212078928234\n",
      "2481.0223508961344 m 3074.2622810012913 m\n",
      "[[[5.85645281e+02 0.00000000e+00]\n",
      "  [5.85014892e+02 1.00000000e+00]\n",
      "  [5.84385152e+02 2.00000000e+00]\n",
      "  ...\n",
      "  [1.41907345e+03 2.00000000e+00]\n",
      "  [1.41963288e+03 1.00000000e+00]\n",
      "  [1.42019280e+03 0.00000000e+00]]]\n"
     ]
    },
    {
     "name": "stderr",
     "output_type": "stream",
     "text": [
      "\n",
      "\n",
      "t:  94%|█████████████████████████████████████████████████████████████▏   | 1021/1085 [21:30<01:17,  1.21s/it, now=None]\u001b[A\u001b[A"
     ]
    },
    {
     "name": "stdout",
     "output_type": "stream",
     "text": [
      "1573.422269388438 3885.7762495101224\n",
      "2521.677175424855 m 4621.959051121733 m\n",
      "[[[6.04439656e+02 0.00000000e+00]\n",
      "  [6.03774849e+02 1.00000000e+00]\n",
      "  [6.03110710e+02 2.00000000e+00]\n",
      "  ...\n",
      "  [1.37879487e+03 2.00000000e+00]\n",
      "  [1.37923546e+03 1.00000000e+00]\n",
      "  [1.37967634e+03 0.00000000e+00]]]\n"
     ]
    },
    {
     "name": "stderr",
     "output_type": "stream",
     "text": [
      "\n",
      "\n",
      "t:  94%|█████████████████████████████████████████████████████████████▏   | 1022/1085 [21:31<01:16,  1.21s/it, now=None]\u001b[A\u001b[A"
     ]
    },
    {
     "name": "stdout",
     "output_type": "stream",
     "text": [
      "1533.321482339162 4058.936905320051\n",
      "2510.2649812056056 m 4791.408461789449 m\n",
      "[[[6.12740051e+02 0.00000000e+00]\n",
      "  [6.12057622e+02 1.00000000e+00]\n",
      "  [6.11375880e+02 2.00000000e+00]\n",
      "  ...\n",
      "  [1.37290637e+03 2.00000000e+00]\n",
      "  [1.37334124e+03 1.00000000e+00]\n",
      "  [1.37377639e+03 0.00000000e+00]]]\n"
     ]
    },
    {
     "name": "stderr",
     "output_type": "stream",
     "text": [
      "\n",
      "\n",
      "t:  94%|█████████████████████████████████████████████████████████████▎   | 1023/1085 [21:33<01:15,  1.21s/it, now=None]\u001b[A\u001b[A"
     ]
    },
    {
     "name": "stdout",
     "output_type": "stream",
     "text": [
      "1520.2672699561126 4983.100150244789\n",
      "2456.6594544525083 m 4273.796345774402 m\n",
      "[[[6.00969642e+02 0.00000000e+00]\n",
      "  [6.00302656e+02 1.00000000e+00]\n",
      "  [5.99636357e+02 2.00000000e+00]\n",
      "  ...\n",
      "  [1.33988517e+03 2.00000000e+00]\n",
      "  [1.34011562e+03 1.00000000e+00]\n",
      "  [1.34034582e+03 0.00000000e+00]]]\n"
     ]
    },
    {
     "name": "stderr",
     "output_type": "stream",
     "text": [
      "\n",
      "\n",
      "t:  94%|█████████████████████████████████████████████████████████████▎   | 1024/1085 [21:34<01:13,  1.21s/it, now=None]\u001b[A\u001b[A"
     ]
    },
    {
     "name": "stdout",
     "output_type": "stream",
     "text": [
      "1584.6365352329015 4137.7443562687085\n",
      "2461.8316547281706 m 3457.249881250186 m\n",
      "[[[5.84074294e+02 0.00000000e+00]\n",
      "  [5.83441467e+02 1.00000000e+00]\n",
      "  [5.82809295e+02 2.00000000e+00]\n",
      "  ...\n",
      "  [1.33672062e+03 2.00000000e+00]\n",
      "  [1.33691841e+03 1.00000000e+00]\n",
      "  [1.33711589e+03 0.00000000e+00]]]\n"
     ]
    },
    {
     "name": "stderr",
     "output_type": "stream",
     "text": [
      "\n",
      "\n",
      "t:  94%|█████████████████████████████████████████████████████████████▍   | 1025/1085 [21:35<01:12,  1.21s/it, now=None]\u001b[A\u001b[A"
     ]
    },
    {
     "name": "stdout",
     "output_type": "stream",
     "text": [
      "1609.0360473443359 3290.6850782425877\n",
      "2374.853763681134 m 2596.0629362913223 m\n",
      "[[[5.49972699e+02 0.00000000e+00]\n",
      "  [5.49391525e+02 1.00000000e+00]\n",
      "  [5.48810987e+02 2.00000000e+00]\n",
      "  ...\n",
      "  [1.34669159e+03 2.00000000e+00]\n",
      "  [1.34685857e+03 1.00000000e+00]\n",
      "  [1.34702515e+03 0.00000000e+00]]]\n"
     ]
    },
    {
     "name": "stderr",
     "output_type": "stream",
     "text": [
      "\n",
      "\n",
      "t:  95%|█████████████████████████████████████████████████████████████▍   | 1026/1085 [21:36<01:11,  1.21s/it, now=None]\u001b[A\u001b[A"
     ]
    },
    {
     "name": "stdout",
     "output_type": "stream",
     "text": [
      "1794.0371216593426 4498.547055792137\n",
      "2477.6937760076744 m 3779.8176900817457 m\n",
      "[[[5.23106005e+02 0.00000000e+00]\n",
      "  [5.22582807e+02 1.00000000e+00]\n",
      "  [5.22060178e+02 2.00000000e+00]\n",
      "  ...\n",
      "  [1.36869453e+03 2.00000000e+00]\n",
      "  [1.36891679e+03 1.00000000e+00]\n",
      "  [1.36913877e+03 0.00000000e+00]]]\n"
     ]
    },
    {
     "name": "stderr",
     "output_type": "stream",
     "text": [
      "\n",
      "\n",
      "t:  95%|█████████████████████████████████████████████████████████████▌   | 1027/1085 [21:37<01:09,  1.21s/it, now=None]\u001b[A\u001b[A"
     ]
    },
    {
     "name": "stdout",
     "output_type": "stream",
     "text": [
      "1711.2395125866476 1978.3721583191686\n",
      "2476.971667021446 m 1417.9112045210913 m\n",
      "[[[5.47593210e+02 0.00000000e+00]\n",
      "  [5.47024509e+02 1.00000000e+00]\n",
      "  [5.46456408e+02 2.00000000e+00]\n",
      "  ...\n",
      "  [1.30431633e+03 2.00000000e+00]\n",
      "  [1.30430903e+03 1.00000000e+00]\n",
      "  [1.30430103e+03 0.00000000e+00]]]\n"
     ]
    },
    {
     "name": "stderr",
     "output_type": "stream",
     "text": [
      "\n",
      "\n",
      "t:  95%|█████████████████████████████████████████████████████████████▌   | 1028/1085 [21:39<01:09,  1.21s/it, now=None]\u001b[A\u001b[A"
     ]
    },
    {
     "name": "stdout",
     "output_type": "stream",
     "text": [
      "1712.3467030094541 2272.801472853299\n",
      "2467.179080564306 m 1737.8454753537706 m\n",
      "[[[5.44279778e+02 0.00000000e+00]\n",
      "  [5.43716007e+02 1.00000000e+00]\n",
      "  [5.43152836e+02 2.00000000e+00]\n",
      "  ...\n",
      "  [1.31073551e+03 2.00000000e+00]\n",
      "  [1.31076693e+03 1.00000000e+00]\n",
      "  [1.31079777e+03 0.00000000e+00]]]\n"
     ]
    },
    {
     "name": "stderr",
     "output_type": "stream",
     "text": [
      "\n",
      "\n",
      "t:  95%|█████████████████████████████████████████████████████████████▋   | 1029/1085 [21:40<01:07,  1.21s/it, now=None]\u001b[A\u001b[A"
     ]
    },
    {
     "name": "stdout",
     "output_type": "stream",
     "text": [
      "1771.9245908604921 7078.16345474976\n",
      "2578.5551296982935 m 6465.573155364813 m\n",
      "[[[5.59603305e+02 0.00000000e+00]\n",
      "  [5.59023350e+02 1.00000000e+00]\n",
      "  [5.58443980e+02 2.00000000e+00]\n",
      "  ...\n",
      "  [1.35167155e+03 2.00000000e+00]\n",
      "  [1.35189394e+03 1.00000000e+00]\n",
      "  [1.35211618e+03 0.00000000e+00]]]\n"
     ]
    },
    {
     "name": "stderr",
     "output_type": "stream",
     "text": [
      "\n",
      "\n",
      "t:  95%|█████████████████████████████████████████████████████████████▋   | 1030/1085 [21:41<01:06,  1.21s/it, now=None]\u001b[A\u001b[A"
     ]
    },
    {
     "name": "stdout",
     "output_type": "stream",
     "text": [
      "1509.082104682195 2299.8937249292417\n",
      "2387.958991946224 m 3117.714924505196 m\n",
      "[[[5.86520457e+02 0.00000000e+00]\n",
      "  [5.85876538e+02 1.00000000e+00]\n",
      "  [5.85233305e+02 2.00000000e+00]\n",
      "  ...\n",
      "  [1.42551229e+03 2.00000000e+00]\n",
      "  [1.42605250e+03 1.00000000e+00]\n",
      "  [1.42659317e+03 0.00000000e+00]]]\n"
     ]
    },
    {
     "name": "stderr",
     "output_type": "stream",
     "text": [
      "\n",
      "\n",
      "t:  95%|█████████████████████████████████████████████████████████████▊   | 1031/1085 [21:42<01:05,  1.21s/it, now=None]\u001b[A\u001b[A"
     ]
    },
    {
     "name": "stdout",
     "output_type": "stream",
     "text": [
      "1496.4721664817557 1380.52221179263\n",
      "2428.63905805476 m 2349.098686462107 m\n",
      "[[[6.02516212e+02 0.00000000e+00]\n",
      "  [6.01847630e+02 1.00000000e+00]\n",
      "  [6.01179744e+02 2.00000000e+00]\n",
      "  ...\n",
      "  [1.46954784e+03 2.00000000e+00]\n",
      "  [1.47024923e+03 1.00000000e+00]\n",
      "  [1.47095138e+03 0.00000000e+00]]]\n"
     ]
    },
    {
     "name": "stderr",
     "output_type": "stream",
     "text": [
      "\n",
      "\n",
      "t:  95%|█████████████████████████████████████████████████████████████▊   | 1032/1085 [21:43<01:04,  1.21s/it, now=None]\u001b[A\u001b[A"
     ]
    },
    {
     "name": "stdout",
     "output_type": "stream",
     "text": [
      "1475.5638506815117 1499.4811261806362\n",
      "2508.160452576239 m 2396.0453284771565 m\n",
      "[[[6.32478070e+02 0.00000000e+00]\n",
      "  [6.31763905e+02 1.00000000e+00]\n",
      "  [6.31050458e+02 2.00000000e+00]\n",
      "  ...\n",
      "  [1.44759556e+03 2.00000000e+00]\n",
      "  [1.44824777e+03 1.00000000e+00]\n",
      "  [1.44890068e+03 0.00000000e+00]]]\n"
     ]
    },
    {
     "name": "stderr",
     "output_type": "stream",
     "text": [
      "\n",
      "\n",
      "t:  95%|█████████████████████████████████████████████████████████████▉   | 1033/1085 [21:45<01:02,  1.21s/it, now=None]\u001b[A\u001b[A"
     ]
    },
    {
     "name": "stdout",
     "output_type": "stream",
     "text": [
      "1595.97334649138 1209.272802040102\n",
      "2697.5448205435237 m 2164.639081975921 m\n",
      "[[[6.49984037e+02 0.00000000e+00]\n",
      "  [6.49257558e+02 1.00000000e+00]\n",
      "  [6.48531760e+02 2.00000000e+00]\n",
      "  ...\n",
      "  [1.46063670e+03 2.00000000e+00]\n",
      "  [1.46136514e+03 1.00000000e+00]\n",
      "  [1.46209442e+03 0.00000000e+00]]]\n"
     ]
    },
    {
     "name": "stderr",
     "output_type": "stream",
     "text": [
      "\n",
      "\n",
      "t:  95%|█████████████████████████████████████████████████████████████▉   | 1034/1085 [21:46<01:01,  1.21s/it, now=None]\u001b[A\u001b[A"
     ]
    },
    {
     "name": "stdout",
     "output_type": "stream",
     "text": [
      "1607.788153337481 1263.332056740031\n",
      "2683.4030067259346 m 2281.7411224295215 m\n",
      "[[[6.44609104e+02 0.00000000e+00]\n",
      "  [6.43894937e+02 1.00000000e+00]\n",
      "  [6.43181443e+02 2.00000000e+00]\n",
      "  ...\n",
      "  [1.47435582e+03 2.00000000e+00]\n",
      "  [1.47509939e+03 1.00000000e+00]\n",
      "  [1.47584378e+03 0.00000000e+00]]]\n"
     ]
    },
    {
     "name": "stderr",
     "output_type": "stream",
     "text": [
      "\n",
      "\n",
      "t:  95%|██████████████████████████████████████████████████████████████   | 1035/1085 [21:47<01:00,  1.21s/it, now=None]\u001b[A\u001b[A"
     ]
    },
    {
     "name": "stdout",
     "output_type": "stream",
     "text": [
      "1580.9231613595068 6725.642078198161\n",
      "2750.334187807009 m 7587.598718272124 m\n",
      "[[[6.70492951e+02 0.00000000e+00]\n",
      "  [6.69736524e+02 1.00000000e+00]\n",
      "  [6.68980793e+02 2.00000000e+00]\n",
      "  ...\n",
      "  [1.40420448e+03 2.00000000e+00]\n",
      "  [1.40465730e+03 1.00000000e+00]\n",
      "  [1.40511029e+03 0.00000000e+00]]]\n"
     ]
    },
    {
     "name": "stderr",
     "output_type": "stream",
     "text": [
      "\n",
      "\n",
      "t:  95%|██████████████████████████████████████████████████████████████   | 1036/1085 [21:48<00:59,  1.21s/it, now=None]\u001b[A\u001b[A"
     ]
    },
    {
     "name": "stdout",
     "output_type": "stream",
     "text": [
      "1807.0749814515616 23772.717916013255\n",
      "2926.4533811254887 m 24619.986878205276 m\n",
      "[[[6.56426600e+02 0.00000000e+00]\n",
      "  [6.55716841e+02 1.00000000e+00]\n",
      "  [6.55007697e+02 2.00000000e+00]\n",
      "  ...\n",
      "  [1.39837043e+03 2.00000000e+00]\n",
      "  [1.39877211e+03 1.00000000e+00]\n",
      "  [1.39917384e+03 0.00000000e+00]]]\n"
     ]
    },
    {
     "name": "stderr",
     "output_type": "stream",
     "text": [
      "\n",
      "\n",
      "t:  96%|██████████████████████████████████████████████████████████████   | 1037/1085 [21:50<00:58,  1.21s/it, now=None]\u001b[A\u001b[A"
     ]
    },
    {
     "name": "stdout",
     "output_type": "stream",
     "text": [
      "1893.9418074660296 17039.500117795353\n",
      "3006.223894586463 m 17858.194572144777 m\n",
      "[[[6.55134754e+02 0.00000000e+00]\n",
      "  [6.54436465e+02 1.00000000e+00]\n",
      "  [6.53738765e+02 2.00000000e+00]\n",
      "  ...\n",
      "  [1.39544594e+03 2.00000000e+00]\n",
      "  [1.39584311e+03 1.00000000e+00]\n",
      "  [1.39624035e+03 0.00000000e+00]]]\n"
     ]
    },
    {
     "name": "stderr",
     "output_type": "stream",
     "text": [
      "\n",
      "\n",
      "t:  96%|██████████████████████████████████████████████████████████████▏  | 1038/1085 [21:51<00:56,  1.21s/it, now=None]\u001b[A\u001b[A"
     ]
    },
    {
     "name": "stdout",
     "output_type": "stream",
     "text": [
      "1756.6170298847428 4402.407690423999\n",
      "2862.795795409468 m 3652.6412669368015 m\n",
      "[[[6.54490568e+02 0.00000000e+00]\n",
      "  [6.53780990e+02 1.00000000e+00]\n",
      "  [6.53072039e+02 2.00000000e+00]\n",
      "  ...\n",
      "  [1.36131220e+03 2.00000000e+00]\n",
      "  [1.36154288e+03 1.00000000e+00]\n",
      "  [1.36177327e+03 0.00000000e+00]]]\n"
     ]
    },
    {
     "name": "stderr",
     "output_type": "stream",
     "text": [
      "\n",
      "\n",
      "t:  96%|██████████████████████████████████████████████████████████████▏  | 1039/1085 [21:52<00:55,  1.21s/it, now=None]\u001b[A\u001b[A"
     ]
    },
    {
     "name": "stdout",
     "output_type": "stream",
     "text": [
      "2076.97880020541 3033.0780014308716\n",
      "3067.880719984678 m 2331.415936139313 m\n",
      "[[[6.21754586e+02 0.00000000e+00]\n",
      "  [6.21123059e+02 1.00000000e+00]\n",
      "  [6.20492060e+02 2.00000000e+00]\n",
      "  ...\n",
      "  [1.35117500e+03 2.00000000e+00]\n",
      "  [1.35132833e+03 1.00000000e+00]\n",
      "  [1.35148122e+03 0.00000000e+00]]]\n"
     ]
    },
    {
     "name": "stderr",
     "output_type": "stream",
     "text": [
      "\n",
      "\n",
      "t:  96%|██████████████████████████████████████████████████████████████▎  | 1040/1085 [21:53<00:54,  1.21s/it, now=None]\u001b[A\u001b[A"
     ]
    },
    {
     "name": "stdout",
     "output_type": "stream",
     "text": [
      "1937.4997009932383 18506.2961439081\n",
      "2959.1783684956335 m 17728.468114631156 m\n",
      "[[[6.31845730e+02 0.00000000e+00]\n",
      "  [6.31189356e+02 1.00000000e+00]\n",
      "  [6.30533548e+02 2.00000000e+00]\n",
      "  ...\n",
      "  [1.39052908e+03 2.00000000e+00]\n",
      "  [1.39085904e+03 1.00000000e+00]\n",
      "  [1.39118894e+03 0.00000000e+00]]]\n"
     ]
    },
    {
     "name": "stderr",
     "output_type": "stream",
     "text": [
      "\n",
      "\n",
      "t:  96%|██████████████████████████████████████████████████████████████▎  | 1041/1085 [21:54<00:53,  1.22s/it, now=None]\u001b[A\u001b[A"
     ]
    },
    {
     "name": "stdout",
     "output_type": "stream",
     "text": [
      "2162.126882504643 3513.6201523296277\n",
      "3174.9254761742363 m 4433.975472708384 m\n",
      "[[[6.29653820e+02 0.00000000e+00]\n",
      "  [6.29019562e+02 1.00000000e+00]\n",
      "  [6.28385816e+02 2.00000000e+00]\n",
      "  ...\n",
      "  [1.43948093e+03 2.00000000e+00]\n",
      "  [1.44001147e+03 1.00000000e+00]\n",
      "  [1.44054234e+03 0.00000000e+00]]]\n"
     ]
    },
    {
     "name": "stderr",
     "output_type": "stream",
     "text": [
      "\n",
      "\n",
      "t:  96%|██████████████████████████████████████████████████████████████▍  | 1042/1085 [21:56<00:52,  1.21s/it, now=None]\u001b[A\u001b[A"
     ]
    },
    {
     "name": "stdout",
     "output_type": "stream",
     "text": [
      "2145.279911456616 3053.2585079596456\n",
      "3106.158746595865 m 4005.5569485431893 m\n",
      "[[[6.15832610e+02 0.00000000e+00]\n",
      "  [6.15219138e+02 1.00000000e+00]\n",
      "  [6.14606176e+02 2.00000000e+00]\n",
      "  ...\n",
      "  [1.45410478e+03 2.00000000e+00]\n",
      "  [1.45466482e+03 1.00000000e+00]\n",
      "  [1.45522524e+03 0.00000000e+00]]]\n"
     ]
    },
    {
     "name": "stderr",
     "output_type": "stream",
     "text": [
      "\n",
      "\n",
      "t:  96%|██████████████████████████████████████████████████████████████▍  | 1043/1085 [21:57<00:50,  1.21s/it, now=None]\u001b[A\u001b[A"
     ]
    },
    {
     "name": "stdout",
     "output_type": "stream",
     "text": [
      "2384.259028111207 1072.5383634830498\n",
      "3385.4846832306444 m 2280.1590994965286 m\n",
      "[[[6.26135377e+02 0.00000000e+00]\n",
      "  [6.25521082e+02 1.00000000e+00]\n",
      "  [6.24907256e+02 2.00000000e+00]\n",
      "  ...\n",
      "  [1.52997940e+03 2.00000000e+00]\n",
      "  [1.53084334e+03 1.00000000e+00]\n",
      "  [1.53170825e+03 0.00000000e+00]]]\n"
     ]
    },
    {
     "name": "stderr",
     "output_type": "stream",
     "text": [
      "\n",
      "\n",
      "t:  96%|██████████████████████████████████████████████████████████████▌  | 1044/1085 [21:58<00:49,  1.21s/it, now=None]\u001b[A\u001b[A"
     ]
    },
    {
     "name": "stdout",
     "output_type": "stream",
     "text": [
      "2697.3495181302087 944.1151915640459\n",
      "3666.048853170492 m 2283.037551361615 m\n",
      "[[[6.15799277e+02 0.00000000e+00]\n",
      "  [6.15216135e+02 1.00000000e+00]\n",
      "  [6.14633409e+02 2.00000000e+00]\n",
      "  ...\n",
      "  [1.56176915e+03 2.00000000e+00]\n",
      "  [1.56272203e+03 1.00000000e+00]\n",
      "  [1.56367600e+03 0.00000000e+00]]]\n"
     ]
    },
    {
     "name": "stderr",
     "output_type": "stream",
     "text": [
      "\n",
      "\n",
      "t:  96%|██████████████████████████████████████████████████████████████▌  | 1045/1085 [21:59<00:48,  1.20s/it, now=None]\u001b[A\u001b[A"
     ]
    },
    {
     "name": "stdout",
     "output_type": "stream",
     "text": [
      "2753.0717319880055 892.38097251129\n",
      "3711.239722873386 m 2376.637316327595 m\n",
      "[[[6.13319056e+02 0.00000000e+00]\n",
      "  [6.12743094e+02 1.00000000e+00]\n",
      "  [6.12167540e+02 2.00000000e+00]\n",
      "  ...\n",
      "  [1.59139564e+03 2.00000000e+00]\n",
      "  [1.59242148e+03 1.00000000e+00]\n",
      "  [1.59344850e+03 0.00000000e+00]]]\n"
     ]
    },
    {
     "name": "stderr",
     "output_type": "stream",
     "text": [
      "\n",
      "\n",
      "t:  96%|██████████████████████████████████████████████████████████████▋  | 1046/1085 [22:00<00:46,  1.21s/it, now=None]\u001b[A\u001b[A"
     ]
    },
    {
     "name": "stdout",
     "output_type": "stream",
     "text": [
      "2490.014328880416 15240.66748378508\n",
      "3485.4275664848833 m 14379.902454872366 m\n",
      "[[[6.27455127e+02 0.00000000e+00]\n",
      "  [6.26849608e+02 1.00000000e+00]\n",
      "  [6.26244540e+02 2.00000000e+00]\n",
      "  ...\n",
      "  [1.41293594e+03 2.00000000e+00]\n",
      "  [1.41329289e+03 1.00000000e+00]\n",
      "  [1.41364975e+03 0.00000000e+00]]]\n"
     ]
    },
    {
     "name": "stderr",
     "output_type": "stream",
     "text": [
      "\n",
      "\n",
      "t:  96%|██████████████████████████████████████████████████████████████▋  | 1047/1085 [22:02<00:45,  1.21s/it, now=None]\u001b[A\u001b[A"
     ]
    },
    {
     "name": "stdout",
     "output_type": "stream",
     "text": [
      "2596.21965278218 5872.78952858934\n",
      "3548.5943944589126 m 5070.029342180196 m\n",
      "[[[6.15881264e+02 0.00000000e+00]\n",
      "  [6.15299863e+02 1.00000000e+00]\n",
      "  [6.14718891e+02 2.00000000e+00]\n",
      "  ...\n",
      "  [1.39846316e+03 2.00000000e+00]\n",
      "  [1.39874430e+03 1.00000000e+00]\n",
      "  [1.39902523e+03 0.00000000e+00]]]\n"
     ]
    },
    {
     "name": "stderr",
     "output_type": "stream",
     "text": [
      "\n",
      "\n",
      "t:  97%|██████████████████████████████████████████████████████████████▊  | 1048/1085 [22:03<00:44,  1.21s/it, now=None]\u001b[A\u001b[A"
     ]
    },
    {
     "name": "stdout",
     "output_type": "stream",
     "text": [
      "2448.0716146368736 5865.9310597545555\n",
      "3440.5060321487153 m 5138.8501482274 m\n",
      "[[[6.29939391e+02 0.00000000e+00]\n",
      "  [6.29332683e+02 1.00000000e+00]\n",
      "  [6.28726432e+02 2.00000000e+00]\n",
      "  ...\n",
      "  [1.38031522e+03 2.00000000e+00]\n",
      "  [1.38056815e+03 1.00000000e+00]\n",
      "  [1.38082086e+03 0.00000000e+00]]]\n"
     ]
    },
    {
     "name": "stderr",
     "output_type": "stream",
     "text": [
      "\n",
      "\n",
      "t:  97%|██████████████████████████████████████████████████████████████▊  | 1049/1085 [22:04<00:43,  1.21s/it, now=None]\u001b[A\u001b[A"
     ]
    },
    {
     "name": "stdout",
     "output_type": "stream",
     "text": [
      "2327.843197252458 3176.5368792561203\n",
      "3371.508519519892 m 2553.8514268212402 m\n",
      "[[[6.46953383e+02 0.00000000e+00]\n",
      "  [6.46317657e+02 1.00000000e+00]\n",
      "  [6.45682415e+02 2.00000000e+00]\n",
      "  ...\n",
      "  [1.33990406e+03 2.00000000e+00]\n",
      "  [1.34004025e+03 1.00000000e+00]\n",
      "  [1.34017604e+03 0.00000000e+00]]]\n"
     ]
    },
    {
     "name": "stderr",
     "output_type": "stream",
     "text": [
      "\n",
      "\n",
      "t:  97%|██████████████████████████████████████████████████████████████▉  | 1050/1085 [22:05<00:42,  1.21s/it, now=None]\u001b[A\u001b[A"
     ]
    },
    {
     "name": "stdout",
     "output_type": "stream",
     "text": [
      "2316.762298708969 1719.9102320600819\n",
      "3324.371647665131 m 1201.1257381458508 m\n",
      "[[[6.38801361e+02 0.00000000e+00]\n",
      "  [6.38180065e+02 1.00000000e+00]\n",
      "  [6.37559250e+02 2.00000000e+00]\n",
      "  ...\n",
      "  [1.29316489e+03 2.00000000e+00]\n",
      "  [1.29308843e+03 1.00000000e+00]\n",
      "  [1.29301114e+03 0.00000000e+00]]]\n"
     ]
    },
    {
     "name": "stderr",
     "output_type": "stream",
     "text": [
      "\n",
      "\n",
      "t:  97%|██████████████████████████████████████████████████████████████▉  | 1051/1085 [22:06<00:40,  1.20s/it, now=None]\u001b[A\u001b[A"
     ]
    },
    {
     "name": "stdout",
     "output_type": "stream",
     "text": [
      "2491.438845346993 3422.171814488457\n",
      "3514.977949257893 m 2821.939374045534 m\n",
      "[[[6.45214326e+02 0.00000000e+00]\n",
      "  [6.44597051e+02 1.00000000e+00]\n",
      "  [6.43980229e+02 2.00000000e+00]\n",
      "  ...\n",
      "  [1.33861779e+03 2.00000000e+00]\n",
      "  [1.33875882e+03 1.00000000e+00]\n",
      "  [1.33889948e+03 0.00000000e+00]]]\n"
     ]
    },
    {
     "name": "stderr",
     "output_type": "stream",
     "text": [
      "\n",
      "\n",
      "t:  97%|███████████████████████████████████████████████████████████████  | 1052/1085 [22:08<00:39,  1.21s/it, now=None]\u001b[A\u001b[A"
     ]
    },
    {
     "name": "stdout",
     "output_type": "stream",
     "text": [
      "2653.78177148486 3037.6597956453866\n",
      "3586.000045226707 m 2456.337089529301 m\n",
      "[[[6.20148783e+02 0.00000000e+00]\n",
      "  [6.19578975e+02 1.00000000e+00]\n",
      "  [6.19009586e+02 2.00000000e+00]\n",
      "  ...\n",
      "  [1.33718096e+03 2.00000000e+00]\n",
      "  [1.33729456e+03 1.00000000e+00]\n",
      "  [1.33740775e+03 0.00000000e+00]]]\n"
     ]
    },
    {
     "name": "stderr",
     "output_type": "stream",
     "text": [
      "\n",
      "\n",
      "t:  97%|███████████████████████████████████████████████████████████████  | 1053/1085 [22:09<00:38,  1.21s/it, now=None]\u001b[A\u001b[A"
     ]
    },
    {
     "name": "stdout",
     "output_type": "stream",
     "text": [
      "2809.602186365922 159082.86118775554\n",
      "3640.651045371923 m 159757.29766372617 m\n",
      "[[[5.92016823e+02 0.00000000e+00]\n",
      "  [5.91498220e+02 1.00000000e+00]\n",
      "  [5.90980005e+02 2.00000000e+00]\n",
      "  ...\n",
      "  [1.38838281e+03 2.00000000e+00]\n",
      "  [1.38869700e+03 1.00000000e+00]\n",
      "  [1.38901120e+03 0.00000000e+00]]]\n"
     ]
    },
    {
     "name": "stderr",
     "output_type": "stream",
     "text": [
      "\n",
      "\n",
      "t:  97%|███████████████████████████████████████████████████████████████▏ | 1054/1085 [22:10<00:37,  1.21s/it, now=None]\u001b[A\u001b[A"
     ]
    },
    {
     "name": "stdout",
     "output_type": "stream",
     "text": [
      "2608.5950276350454 36165.20412309564\n",
      "3415.323993377887 m 36875.280741972834 m\n",
      "[[[5.85694685e+02 0.00000000e+00]\n",
      "  [5.85176950e+02 1.00000000e+00]\n",
      "  [5.84659628e+02 2.00000000e+00]\n",
      "  ...\n",
      "  [1.39675492e+03 2.00000000e+00]\n",
      "  [1.39709334e+03 1.00000000e+00]\n",
      "  [1.39743179e+03 0.00000000e+00]]]\n"
     ]
    },
    {
     "name": "stderr",
     "output_type": "stream",
     "text": [
      "\n",
      "\n",
      "t:  97%|███████████████████████████████████████████████████████████████▏ | 1055/1085 [22:11<00:36,  1.21s/it, now=None]\u001b[A\u001b[A"
     ]
    },
    {
     "name": "stdout",
     "output_type": "stream",
     "text": [
      "3131.2748607902045 13305.118492530775\n",
      "3861.611338833787 m 12628.815311497072 m\n",
      "[[[5.59548392e+02 0.00000000e+00]\n",
      "  [5.59087361e+02 1.00000000e+00]\n",
      "  [5.58626671e+02 2.00000000e+00]\n",
      "  ...\n",
      "  [1.38717906e+03 2.00000000e+00]\n",
      "  [1.38745813e+03 1.00000000e+00]\n",
      "  [1.38773710e+03 0.00000000e+00]]]\n"
     ]
    },
    {
     "name": "stderr",
     "output_type": "stream",
     "text": [
      "\n",
      "\n",
      "t:  97%|███████████████████████████████████████████████████████████████▎ | 1056/1085 [22:12<00:35,  1.21s/it, now=None]\u001b[A\u001b[A"
     ]
    },
    {
     "name": "stdout",
     "output_type": "stream",
     "text": [
      "3625.470918243003 2060.1543737653815\n",
      "4334.971206564236 m 3029.798458872636 m\n",
      "[[[5.52789783e+02 0.00000000e+00]\n",
      "  [5.52353911e+02 1.00000000e+00]\n",
      "  [5.51918336e+02 2.00000000e+00]\n",
      "  ...\n",
      "  [1.47870234e+03 2.00000000e+00]\n",
      "  [1.47932565e+03 1.00000000e+00]\n",
      "  [1.47994948e+03 0.00000000e+00]]]\n"
     ]
    },
    {
     "name": "stderr",
     "output_type": "stream",
     "text": [
      "\n",
      "\n",
      "t:  97%|███████████████████████████████████████████████████████████████▎ | 1057/1085 [22:14<00:33,  1.21s/it, now=None]\u001b[A\u001b[A"
     ]
    },
    {
     "name": "stdout",
     "output_type": "stream",
     "text": [
      "4174.726585453905 1079.079774947464\n",
      "4903.643825787689 m 2240.644001282822 m\n",
      "[[[5.57875264e+02 0.00000000e+00]\n",
      "  [5.57444252e+02 1.00000000e+00]\n",
      "  [5.57013500e+02 2.00000000e+00]\n",
      "  ...\n",
      "  [1.52987932e+03 2.00000000e+00]\n",
      "  [1.53072311e+03 1.00000000e+00]\n",
      "  [1.53156785e+03 0.00000000e+00]]]\n"
     ]
    },
    {
     "name": "stderr",
     "output_type": "stream",
     "text": [
      "\n",
      "\n",
      "t:  98%|███████████████████████████████████████████████████████████████▍ | 1058/1085 [22:15<00:32,  1.20s/it, now=None]\u001b[A\u001b[A"
     ]
    },
    {
     "name": "stdout",
     "output_type": "stream",
     "text": [
      "4436.226138059746 2671.107701523464\n",
      "5139.429627544635 m 3590.4878420027862 m\n",
      "[[[5.51523579e+02 0.00000000e+00]\n",
      "  [5.51109257e+02 1.00000000e+00]\n",
      "  [5.50695179e+02 2.00000000e+00]\n",
      "  ...\n",
      "  [1.45958593e+03 2.00000000e+00]\n",
      "  [1.46014895e+03 1.00000000e+00]\n",
      "  [1.46071238e+03 0.00000000e+00]]]\n"
     ]
    },
    {
     "name": "stderr",
     "output_type": "stream",
     "text": [
      "\n",
      "\n",
      "t:  98%|███████████████████████████████████████████████████████████████▍ | 1059/1085 [22:16<00:31,  1.22s/it, now=None]\u001b[A\u001b[A"
     ]
    },
    {
     "name": "stdout",
     "output_type": "stream",
     "text": [
      "4766.271848280352 3064.4278766093194\n",
      "5506.031494768787 m 3899.330906699165 m\n",
      "[[[5.64937717e+02 0.00000000e+00]\n",
      "  [5.64513173e+02 1.00000000e+00]\n",
      "  [5.64088860e+02 2.00000000e+00]\n",
      "  ...\n",
      "  [1.43280014e+03 2.00000000e+00]\n",
      "  [1.43330936e+03 1.00000000e+00]\n",
      "  [1.43381894e+03 0.00000000e+00]]]\n"
     ]
    },
    {
     "name": "stderr",
     "output_type": "stream",
     "text": [
      "\n",
      "\n",
      "t:  98%|███████████████████████████████████████████████████████████████▌ | 1060/1085 [22:17<00:30,  1.24s/it, now=None]\u001b[A\u001b[A"
     ]
    },
    {
     "name": "stdout",
     "output_type": "stream",
     "text": [
      "4797.772757219271 15482.225681597238\n",
      "5522.411419889358 m 16190.453514670482 m\n",
      "[[[5.61166949e+02 0.00000000e+00]\n",
      "  [5.60749578e+02 1.00000000e+00]\n",
      "  [5.60332437e+02 2.00000000e+00]\n",
      "  ...\n",
      "  [1.39077639e+03 2.00000000e+00]\n",
      "  [1.39112950e+03 1.00000000e+00]\n",
      "  [1.39148267e+03 0.00000000e+00]]]\n"
     ]
    },
    {
     "name": "stderr",
     "output_type": "stream",
     "text": [
      "\n",
      "\n",
      "t:  98%|███████████████████████████████████████████████████████████████▌ | 1061/1085 [22:19<00:29,  1.24s/it, now=None]\u001b[A\u001b[A"
     ]
    },
    {
     "name": "stdout",
     "output_type": "stream",
     "text": [
      "4538.668847123455 1645.1379752698865\n",
      "5219.351665124558 m 1155.2987613241978 m\n",
      "[[[5.49690606e+02 0.00000000e+00]\n",
      "  [5.49288214e+02 1.00000000e+00]\n",
      "  [5.48886060e+02 2.00000000e+00]\n",
      "  ...\n",
      "  [1.28993850e+03 2.00000000e+00]\n",
      "  [1.28983471e+03 1.00000000e+00]\n",
      "  [1.28973005e+03 0.00000000e+00]]]\n"
     ]
    },
    {
     "name": "stderr",
     "output_type": "stream",
     "text": [
      "\n",
      "\n",
      "t:  98%|███████████████████████████████████████████████████████████████▌ | 1062/1085 [22:20<00:28,  1.23s/it, now=None]\u001b[A\u001b[A"
     ]
    },
    {
     "name": "stdout",
     "output_type": "stream",
     "text": [
      "5450.447785070081 1549.8753471890527\n",
      "6111.128277994276 m 1121.4742276302145 m\n",
      "[[[5.43201154e+02 0.00000000e+00]\n",
      "  [5.42821637e+02 1.00000000e+00]\n",
      "  [5.42442320e+02 2.00000000e+00]\n",
      "  ...\n",
      "  [1.27563445e+03 2.00000000e+00]\n",
      "  [1.27548926e+03 1.00000000e+00]\n",
      "  [1.27534317e+03 0.00000000e+00]]]\n"
     ]
    },
    {
     "name": "stderr",
     "output_type": "stream",
     "text": [
      "\n",
      "\n",
      "t:  98%|███████████████████████████████████████████████████████████████▋ | 1063/1085 [22:21<00:27,  1.23s/it, now=None]\u001b[A\u001b[A"
     ]
    },
    {
     "name": "stdout",
     "output_type": "stream",
     "text": [
      "6919.307489228282 2319.390197844437\n",
      "7519.999004750168 m 1829.1173215194633 m\n",
      "[[[5.24102960e+02 0.00000000e+00]\n",
      "  [5.23765221e+02 1.00000000e+00]\n",
      "  [5.23427638e+02 2.00000000e+00]\n",
      "  ...\n",
      "  [1.31684193e+03 2.00000000e+00]\n",
      "  [1.31686507e+03 1.00000000e+00]\n",
      "  [1.31688765e+03 0.00000000e+00]]]\n"
     ]
    },
    {
     "name": "stderr",
     "output_type": "stream",
     "text": [
      "\n",
      "\n",
      "t:  98%|███████████████████████████████████████████████████████████████▋ | 1064/1085 [22:22<00:25,  1.23s/it, now=None]\u001b[A\u001b[A"
     ]
    },
    {
     "name": "stdout",
     "output_type": "stream",
     "text": [
      "5595.510205131548 2370.3846163260246\n",
      "6165.922929066691 m 1906.998311865374 m\n",
      "[[[5.19016338e+02 0.00000000e+00]\n",
      "  [5.18679275e+02 1.00000000e+00]\n",
      "  [5.18342401e+02 2.00000000e+00]\n",
      "  ...\n",
      "  [1.31432411e+03 2.00000000e+00]\n",
      "  [1.31434399e+03 1.00000000e+00]\n",
      "  [1.31436334e+03 0.00000000e+00]]]\n"
     ]
    },
    {
     "name": "stderr",
     "output_type": "stream",
     "text": [
      "\n",
      "\n",
      "t:  98%|███████████████████████████████████████████████████████████████▊ | 1065/1085 [22:24<00:24,  1.22s/it, now=None]\u001b[A\u001b[A"
     ]
    },
    {
     "name": "stdout",
     "output_type": "stream",
     "text": [
      "5716.285622505393 3024.777799719947\n",
      "6296.510011028332 m 2536.905567049303 m\n",
      "[[[5.23978603e+02 0.00000000e+00]\n",
      "  [5.23638508e+02 1.00000000e+00]\n",
      "  [5.23298600e+02 2.00000000e+00]\n",
      "  ...\n",
      "  [1.32439059e+03 2.00000000e+00]\n",
      "  [1.32446985e+03 1.00000000e+00]\n",
      "  [1.32454871e+03 0.00000000e+00]]]\n"
     ]
    },
    {
     "name": "stderr",
     "output_type": "stream",
     "text": [
      "\n",
      "\n",
      "t:  98%|███████████████████████████████████████████████████████████████▊ | 1066/1085 [22:25<00:23,  1.22s/it, now=None]\u001b[A\u001b[A"
     ]
    },
    {
     "name": "stdout",
     "output_type": "stream",
     "text": [
      "6794.279606413594 3603.5942016229865\n",
      "7344.78869096407 m 3102.702280797721 m\n",
      "[[[5.14110518e+02 0.00000000e+00]\n",
      "  [5.13794458e+02 1.00000000e+00]\n",
      "  [5.13478555e+02 2.00000000e+00]\n",
      "  ...\n",
      "  [1.33385596e+03 2.00000000e+00]\n",
      "  [1.33396761e+03 1.00000000e+00]\n",
      "  [1.33407893e+03 0.00000000e+00]]]\n"
     ]
    },
    {
     "name": "stderr",
     "output_type": "stream",
     "text": [
      "\n",
      "\n",
      "t:  98%|███████████████████████████████████████████████████████████████▉ | 1067/1085 [22:26<00:22,  1.22s/it, now=None]\u001b[A\u001b[A"
     ]
    },
    {
     "name": "stdout",
     "output_type": "stream",
     "text": [
      "6639.213703309545 3896.644576799049\n",
      "7198.869144868675 m 3422.012620316357 m\n",
      "[[[5.18092667e+02 0.00000000e+00]\n",
      "  [5.17771140e+02 1.00000000e+00]\n",
      "  [5.17449773e+02 2.00000000e+00]\n",
      "  ...\n",
      "  [1.32793812e+03 2.00000000e+00]\n",
      "  [1.32804976e+03 1.00000000e+00]\n",
      "  [1.32816110e+03 0.00000000e+00]]]\n"
     ]
    },
    {
     "name": "stderr",
     "output_type": "stream",
     "text": [
      "\n",
      "\n",
      "t:  98%|███████████████████████████████████████████████████████████████▉ | 1068/1085 [22:27<00:20,  1.22s/it, now=None]\u001b[A\u001b[A"
     ]
    },
    {
     "name": "stdout",
     "output_type": "stream",
     "text": [
      "6360.127656134634 1861.912070812935\n",
      "6907.10680786254 m 1463.3868707706747 m\n",
      "[[[5.15858403e+02 0.00000000e+00]\n",
      "  [5.15540133e+02 1.00000000e+00]\n",
      "  [5.15222031e+02 2.00000000e+00]\n",
      "  ...\n",
      "  [1.28296047e+03 2.00000000e+00]\n",
      "  [1.28288929e+03 1.00000000e+00]\n",
      "  [1.28281742e+03 0.00000000e+00]]]\n"
     ]
    },
    {
     "name": "stderr",
     "output_type": "stream",
     "text": [
      "\n",
      "\n",
      "t:  99%|████████████████████████████████████████████████████████████████ | 1069/1085 [22:28<00:19,  1.22s/it, now=None]\u001b[A\u001b[A"
     ]
    },
    {
     "name": "stdout",
     "output_type": "stream",
     "text": [
      "7279.905122100377 1792.6700653407954\n",
      "7768.67508793165 m 1429.6713317759873 m\n",
      "[[[4.96241788e+02 0.00000000e+00]\n",
      "  [4.95957725e+02 1.00000000e+00]\n",
      "  [4.95673807e+02 2.00000000e+00]\n",
      "  ...\n",
      "  [1.27834207e+03 2.00000000e+00]\n",
      "  [1.27824744e+03 1.00000000e+00]\n",
      "  [1.27815211e+03 0.00000000e+00]]]\n"
     ]
    },
    {
     "name": "stderr",
     "output_type": "stream",
     "text": [
      "\n",
      "\n",
      "t:  99%|████████████████████████████████████████████████████████████████ | 1070/1085 [22:30<00:18,  1.22s/it, now=None]\u001b[A\u001b[A"
     ]
    },
    {
     "name": "stdout",
     "output_type": "stream",
     "text": [
      "8550.328182048204 2146.987262218447\n",
      "9041.758902016209 m 1806.181466485896 m\n",
      "[[[4.98359772e+02 0.00000000e+00]\n",
      "  [4.98082250e+02 1.00000000e+00]\n",
      "  [4.97804851e+02 2.00000000e+00]\n",
      "  ...\n",
      "  [1.27767551e+03 2.00000000e+00]\n",
      "  [1.27762872e+03 1.00000000e+00]\n",
      "  [1.27758136e+03 0.00000000e+00]]]\n"
     ]
    },
    {
     "name": "stderr",
     "output_type": "stream",
     "text": [
      "\n",
      "\n",
      "t:  99%|████████████████████████████████████████████████████████████████▏| 1071/1085 [22:31<00:16,  1.21s/it, now=None]\u001b[A\u001b[A"
     ]
    },
    {
     "name": "stdout",
     "output_type": "stream",
     "text": [
      "6982.65178746049 2459.0478878604213\n",
      "7430.4195709593605 m 2118.9448613432073 m\n",
      "[[[4.86984273e+02 0.00000000e+00]\n",
      "  [4.86716978e+02 1.00000000e+00]\n",
      "  [4.86449831e+02 2.00000000e+00]\n",
      "  ...\n",
      "  [1.28350001e+03 2.00000000e+00]\n",
      "  [1.28348441e+03 1.00000000e+00]\n",
      "  [1.28346833e+03 0.00000000e+00]]]\n"
     ]
    },
    {
     "name": "stderr",
     "output_type": "stream",
     "text": [
      "\n",
      "\n",
      "t:  99%|████████████████████████████████████████████████████████████████▏| 1072/1085 [22:32<00:15,  1.21s/it, now=None]\u001b[A\u001b[A"
     ]
    },
    {
     "name": "stdout",
     "output_type": "stream",
     "text": [
      "5670.245555787635 2091.1936420485226\n",
      "6094.973026031075 m 1784.5181772988662 m\n",
      "[[[4.81446307e+02 0.00000000e+00]\n",
      "  [4.81177381e+02 1.00000000e+00]\n",
      "  [4.80908636e+02 2.00000000e+00]\n",
      "  ...\n",
      "  [1.27104552e+03 2.00000000e+00]\n",
      "  [1.27097997e+03 1.00000000e+00]\n",
      "  [1.27091386e+03 0.00000000e+00]]]\n"
     ]
    },
    {
     "name": "stderr",
     "output_type": "stream",
     "text": [
      "\n",
      "\n",
      "t:  99%|████████████████████████████████████████████████████████████████▎| 1073/1085 [22:33<00:14,  1.21s/it, now=None]\u001b[A\u001b[A"
     ]
    },
    {
     "name": "stdout",
     "output_type": "stream",
     "text": [
      "6298.952294950121 2918.2716494371766\n",
      "6766.060788904767 m 2603.648584076004 m\n",
      "[[[4.96979027e+02 0.00000000e+00]\n",
      "  [4.96696919e+02 1.00000000e+00]\n",
      "  [4.96414976e+02 2.00000000e+00]\n",
      "  ...\n",
      "  [1.27508011e+03 2.00000000e+00]\n",
      "  [1.27508607e+03 1.00000000e+00]\n",
      "  [1.27509164e+03 0.00000000e+00]]]\n"
     ]
    },
    {
     "name": "stderr",
     "output_type": "stream",
     "text": [
      "\n",
      "\n",
      "t:  99%|████████████████████████████████████████████████████████████████▎| 1074/1085 [22:34<00:13,  1.21s/it, now=None]\u001b[A\u001b[A"
     ]
    },
    {
     "name": "stdout",
     "output_type": "stream",
     "text": [
      "6007.204971311272 2926.087539935528\n",
      "6436.063067297977 m 2625.2288301893973 m\n",
      "[[[4.85548295e+02 0.00000000e+00]\n",
      "  [4.85281114e+02 1.00000000e+00]\n",
      "  [4.85014105e+02 2.00000000e+00]\n",
      "  ...\n",
      "  [1.27603751e+03 2.00000000e+00]\n",
      "  [1.27603829e+03 1.00000000e+00]\n",
      "  [1.27603869e+03 0.00000000e+00]]]\n"
     ]
    },
    {
     "name": "stderr",
     "output_type": "stream",
     "text": [
      "\n",
      "\n",
      "t:  99%|████████████████████████████████████████████████████████████████▍| 1075/1085 [22:36<00:12,  1.21s/it, now=None]\u001b[A\u001b[A"
     ]
    },
    {
     "name": "stdout",
     "output_type": "stream",
     "text": [
      "7750.509079897679 3078.448784626984\n",
      "8166.746623405771 m 2811.485865365428 m\n",
      "[[[4.82218451e+02 0.00000000e+00]\n",
      "  [4.81971179e+02 1.00000000e+00]\n",
      "  [4.81724041e+02 2.00000000e+00]\n",
      "  ...\n",
      "  [1.26840498e+03 2.00000000e+00]\n",
      "  [1.26839950e+03 1.00000000e+00]\n",
      "  [1.26839366e+03 0.00000000e+00]]]\n"
     ]
    },
    {
     "name": "stderr",
     "output_type": "stream",
     "text": [
      "\n",
      "\n",
      "t:  99%|████████████████████████████████████████████████████████████████▍| 1076/1085 [22:37<00:10,  1.21s/it, now=None]\u001b[A\u001b[A"
     ]
    },
    {
     "name": "stdout",
     "output_type": "stream",
     "text": [
      "7450.469615247246 5438.317033140997\n",
      "7874.927534921862 m 5173.302081178676 m\n",
      "[[[4.84836881e+02 0.00000000e+00]\n",
      "  [4.84583819e+02 1.00000000e+00]\n",
      "  [4.84330895e+02 2.00000000e+00]\n",
      "  ...\n",
      "  [1.27131929e+03 2.00000000e+00]\n",
      "  [1.27137371e+03 1.00000000e+00]\n",
      "  [1.27142794e+03 0.00000000e+00]]]\n"
     ]
    },
    {
     "name": "stderr",
     "output_type": "stream",
     "text": [
      "\n",
      "\n",
      "t:  99%|████████████████████████████████████████████████████████████████▌| 1077/1085 [22:38<00:09,  1.21s/it, now=None]\u001b[A\u001b[A"
     ]
    },
    {
     "name": "stdout",
     "output_type": "stream",
     "text": [
      "9846.425645856829 3312.6792215932783\n",
      "10222.79421898942 m 3054.861500637228 m\n",
      "[[[4.64707447e+02 0.00000000e+00]\n",
      "  [4.64489185e+02 1.00000000e+00]\n",
      "  [4.64271027e+02 2.00000000e+00]\n",
      "  ...\n",
      "  [1.26932244e+03 2.00000000e+00]\n",
      "  [1.26932335e+03 1.00000000e+00]\n",
      "  [1.26932393e+03 0.00000000e+00]]]\n"
     ]
    },
    {
     "name": "stderr",
     "output_type": "stream",
     "text": [
      "\n",
      "\n",
      "t:  99%|████████████████████████████████████████████████████████████████▌| 1078/1085 [22:39<00:08,  1.25s/it, now=None]\u001b[A\u001b[A"
     ]
    },
    {
     "name": "stdout",
     "output_type": "stream",
     "text": [
      "12731.747968280642 4322.719282094008\n",
      "13086.42077456335 m 4068.6678024963285 m\n",
      "[[[4.55860640e+02 0.00000000e+00]\n",
      "  [4.55661271e+02 1.00000000e+00]\n",
      "  [4.55461982e+02 2.00000000e+00]\n",
      "  ...\n",
      "  [1.27047487e+03 2.00000000e+00]\n",
      "  [1.27050459e+03 1.00000000e+00]\n",
      "  [1.27053406e+03 0.00000000e+00]]]\n"
     ]
    },
    {
     "name": "stderr",
     "output_type": "stream",
     "text": [
      "\n",
      "\n",
      "t:  99%|████████████████████████████████████████████████████████████████▋| 1079/1085 [22:41<00:07,  1.25s/it, now=None]\u001b[A\u001b[A"
     ]
    },
    {
     "name": "stdout",
     "output_type": "stream",
     "text": [
      "438347.29086259357 4652.707569750524\n",
      "438682.4994595787 m 4394.173153670768 m\n",
      "[[[4.44429271e+02 0.00000000e+00]\n",
      "  [4.44268263e+02 1.00000000e+00]\n",
      "  [4.44107258e+02 2.00000000e+00]\n",
      "  ...\n",
      "  [1.26773765e+03 2.00000000e+00]\n",
      "  [1.26777626e+03 1.00000000e+00]\n",
      "  [1.26781464e+03 0.00000000e+00]]]\n"
     ]
    },
    {
     "name": "stderr",
     "output_type": "stream",
     "text": [
      "\n",
      "\n",
      "t: 100%|████████████████████████████████████████████████████████████████▋| 1080/1085 [22:42<00:06,  1.23s/it, now=None]\u001b[A\u001b[A"
     ]
    },
    {
     "name": "stdout",
     "output_type": "stream",
     "text": [
      "129178.67967659002 4172.569851373291\n",
      "129469.1343602151 m 3908.574509373907 m\n",
      "[[[4.28165306e+02 0.00000000e+00]\n",
      "  [4.28023160e+02 1.00000000e+00]\n",
      "  [4.27881022e+02 2.00000000e+00]\n",
      "  ...\n",
      "  [1.26926034e+03 2.00000000e+00]\n",
      "  [1.26929093e+03 1.00000000e+00]\n",
      "  [1.26932127e+03 0.00000000e+00]]]\n"
     ]
    },
    {
     "name": "stderr",
     "output_type": "stream",
     "text": [
      "\n",
      "\n",
      "t: 100%|████████████████████████████████████████████████████████████████▊| 1081/1085 [22:43<00:04,  1.23s/it, now=None]\u001b[A\u001b[A"
     ]
    },
    {
     "name": "stdout",
     "output_type": "stream",
     "text": [
      "22657.24964960045 4128.354675287883\n",
      "22949.54497922145 m 3875.2138327817734 m\n",
      "[[[4.30351903e+02 0.00000000e+00]\n",
      "  [4.30194993e+02 1.00000000e+00]\n",
      "  [4.30038128e+02 2.00000000e+00]\n",
      "  ...\n",
      "  [1.25951972e+03 2.00000000e+00]\n",
      "  [1.25954442e+03 1.00000000e+00]\n",
      "  [1.25956887e+03 0.00000000e+00]]]\n"
     ]
    },
    {
     "name": "stderr",
     "output_type": "stream",
     "text": [
      "\n",
      "\n",
      "t: 100%|████████████████████████████████████████████████████████████████▊| 1082/1085 [22:44<00:03,  1.22s/it, now=None]\u001b[A\u001b[A"
     ]
    },
    {
     "name": "stdout",
     "output_type": "stream",
     "text": [
      "28378.73348828088 4614.592528048468\n",
      "28644.581539450377 m 4370.058150919637 m\n",
      "[[[4.18928192e+02 0.00000000e+00]\n",
      "  [4.18787187e+02 1.00000000e+00]\n",
      "  [4.18646217e+02 2.00000000e+00]\n",
      "  ...\n",
      "  [1.25780335e+03 2.00000000e+00]\n",
      "  [1.25783495e+03 1.00000000e+00]\n",
      "  [1.25786632e+03 0.00000000e+00]]]\n"
     ]
    },
    {
     "name": "stderr",
     "output_type": "stream",
     "text": [
      "\n",
      "\n",
      "t: 100%|████████████████████████████████████████████████████████████████▉| 1083/1085 [22:46<00:02,  1.22s/it, now=None]\u001b[A\u001b[A"
     ]
    },
    {
     "name": "stdout",
     "output_type": "stream",
     "text": [
      "137778.08183523008 5378.633852711122\n",
      "137532.66222912708 m 5165.373787937097 m\n",
      "[[[4.08291049e+02 0.00000000e+00]\n",
      "  [4.08175915e+02 1.00000000e+00]\n",
      "  [4.08060773e+02 2.00000000e+00]\n",
      "  ...\n",
      "  [1.24874270e+03 2.00000000e+00]\n",
      "  [1.24877276e+03 1.00000000e+00]\n",
      "  [1.24880263e+03 0.00000000e+00]]]\n"
     ]
    },
    {
     "name": "stderr",
     "output_type": "stream",
     "text": [
      "\n",
      "\n",
      "t: 100%|████████████████████████████████████████████████████████████████▉| 1084/1085 [22:47<00:01,  1.22s/it, now=None]\u001b[A\u001b[A"
     ]
    },
    {
     "name": "stdout",
     "output_type": "stream",
     "text": [
      "65388.21681990036 4426.425323809519\n",
      "65138.956435259504 m 4601.049585441866 m\n",
      "[[[4.08448374e+02 0.00000000e+00]\n",
      "  [4.08334502e+02 1.00000000e+00]\n",
      "  [4.08220614e+02 2.00000000e+00]\n",
      "  ...\n",
      "  [1.25251032e+03 2.00000000e+00]\n",
      "  [1.25267851e+03 1.00000000e+00]\n",
      "  [1.25284693e+03 0.00000000e+00]]]\n"
     ]
    },
    {
     "name": "stderr",
     "output_type": "stream",
     "text": [
      "\n",
      "\n",
      "t: 100%|█████████████████████████████████████████████████████████████████| 1085/1085 [22:48<00:00,  1.23s/it, now=None]\u001b[A\u001b[A"
     ]
    },
    {
     "name": "stdout",
     "output_type": "stream",
     "text": [
      "40930.31248200073 7730.762280798182\n",
      "40739.709569848594 m 7915.888935688943 m\n",
      "[[[3.86539503e+02 0.00000000e+00]\n",
      "  [3.86456962e+02 1.00000000e+00]\n",
      "  [3.86374395e+02 2.00000000e+00]\n",
      "  ...\n",
      "  [1.25250369e+03 2.00000000e+00]\n",
      "  [1.25264119e+03 1.00000000e+00]\n",
      "  [1.25277883e+03 0.00000000e+00]]]\n"
     ]
    },
    {
     "name": "stderr",
     "output_type": "stream",
     "text": [
      "\n",
      "\n",
      "                                                                                                                       \u001b[A\u001b[A"
     ]
    },
    {
     "name": "stdout",
     "output_type": "stream",
     "text": [
      "30486.474841593845 3577.6964597140836\n",
      "30323.92090431138 m 3748.8375323678792 m\n",
      "[[[3.75712255e+02 0.00000000e+00]\n",
      "  [3.75646278e+02 1.00000000e+00]\n",
      "  [3.75580269e+02 2.00000000e+00]\n",
      "  ...\n",
      "  [1.25309384e+03 2.00000000e+00]\n",
      "  [1.25328026e+03 1.00000000e+00]\n",
      "  [1.25346696e+03 0.00000000e+00]]]\n"
     ]
    },
    {
     "name": "stderr",
     "output_type": "stream",
     "text": [
      "                                                                                                                       \n",
      "t:  56%|█████████████████████████████████████                             | 707/1260 [48:56<11:39,  1.27s/it, now=None]\n",
      "                                                                                                                       \u001b[A\n",
      "t:  56%|█████████████████████████████████████                             | 707/1260 [48:57<11:39,  1.27s/it, now=None]\n",
      "t:  41%|██████████████████████████▊                                       | 440/1085 [32:38<14:05,  1.31s/it, now=None]\u001b[A"
     ]
    },
    {
     "name": "stdout",
     "output_type": "stream",
     "text": [
      "Moviepy - Done !\n",
      "Moviepy - video ready output2_tracked.mp4\n"
     ]
    }
   ],
   "source": [
    "Input_video = 'project_video.mp4'\n",
    "Output_video = 'output2_tracked.mp4'\n",
    "clip1 = VideoFileClip(Input_video).cutout(0, 7)\n",
    "video_clip = clip1.fl_image(process_image) #NOTE: this function expects color images!!\n",
    "video_clip.write_videofile(Output_video, audio=False)\n"
   ]
  },
  {
   "cell_type": "code",
   "execution_count": null,
   "metadata": {},
   "outputs": [],
   "source": []
  }
 ],
 "metadata": {
  "kernelspec": {
   "display_name": "Python [conda env:term1] *",
   "language": "python",
   "name": "conda-env-term1-py"
  },
  "language_info": {
   "codemirror_mode": {
    "name": "ipython",
    "version": 3
   },
   "file_extension": ".py",
   "mimetype": "text/x-python",
   "name": "python",
   "nbconvert_exporter": "python",
   "pygments_lexer": "ipython3",
   "version": "3.7.7"
  }
 },
 "nbformat": 4,
 "nbformat_minor": 4
}
